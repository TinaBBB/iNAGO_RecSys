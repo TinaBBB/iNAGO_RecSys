{
 "cells": [
  {
   "cell_type": "markdown",
   "metadata": {},
   "source": [
    "## To compare different results "
   ]
  },
  {
   "cell_type": "code",
   "execution_count": 52,
   "metadata": {},
   "outputs": [],
   "source": [
    "from ast import literal_eval\n",
    "from os import listdir\n",
    "from os.path import isfile, join\n",
    "from scipy.sparse import csr_matrix, load_npz, save_npz\n",
    "from tqdm import tqdm\n",
    "import statistics as stats\n",
    "import seaborn as sns\n",
    "import datetime\n",
    "import json\n",
    "import numpy as np\n",
    "import pandas as pd\n",
    "import time\n",
    "import yaml\n",
    "import scipy.sparse as sparse\n",
    "import matplotlib.pyplot as plt"
   ]
  },
  {
   "cell_type": "markdown",
   "metadata": {},
   "source": [
    "## Dataset files "
   ]
  },
  {
   "cell_type": "code",
   "execution_count": 2,
   "metadata": {},
   "outputs": [],
   "source": [
    "#reviewJson = \"..\\\\data\\\\Export_CleanedReview.json\"\n",
    "reviewJsonWithClosedRes = \"..\\\\data\\\\Export_CleanedReviewWithClosedRes.json\"\n",
    "\n",
    "# with open(reviewJson, encoding = 'utf-8') as json_file:\n",
    "#     data = json_file.readlines()\n",
    "#     data = list(map(json.loads, data))\n",
    "\n",
    "#This appeared to be a neasted list, just use data[0] to read\n",
    "# df_review = pd.DataFrame(data[0])"
   ]
  },
  {
   "cell_type": "markdown",
   "metadata": {},
   "source": [
    "## Load Data\n",
    "Select top frenquent user and top frequenty restaurants that had at least 1 review >= 4 stars (Kickking out users that gave all  reviews <=3 and restaurants that never got start >= 4 stars)"
   ]
  },
  {
   "cell_type": "code",
   "execution_count": 3,
   "metadata": {},
   "outputs": [],
   "source": [
    "def get_yelp_df(path = 'data/', filename = 'Export_CleanedReview.json', sampling=False, top_user_num=6100, top_item_num=4000):\n",
    "    \"\"\"\n",
    "    Get the pandas dataframe\n",
    "    Sampling only the top users/items by density \n",
    "    Implicit representation applies\n",
    "    \"\"\"\n",
    "    with open(filename,'r') as f:\n",
    "        data = f.readlines()\n",
    "        data = list(map(json.loads, data))\n",
    "    \n",
    "    data = data[0]\n",
    "    #Get all the data from the data file\n",
    "    df = pd.DataFrame(data)\n",
    "    \n",
    "    df.rename(columns={'stars': 'review_stars', 'text': 'review_text', 'cool': 'review_cool',\n",
    "                       'funny': 'review_funny', 'useful': 'review_useful'},\n",
    "              inplace=True)\n",
    "\n",
    "    df['business_num_id'] = df.business_id.astype('category').\\\n",
    "        cat.rename_categories(range(0, df.business_id.nunique()))\n",
    "    df['business_num_id'] = df['business_num_id'].astype('int')\n",
    "\n",
    "    df['user_num_id'] = df.user_id.astype('category').\\\n",
    "    cat.rename_categories(range(0, df.user_id.nunique()))\n",
    "    df['user_num_id'] = df['user_num_id'].astype('int')\n",
    "\n",
    "    df['timestamp'] = df['date'].apply(date_to_timestamp)\n",
    "\n",
    "    if sampling:\n",
    "        df = filter_yelp_df(df, top_user_num=top_user_num, top_item_num=top_item_num)\n",
    "        # Refresh num id\n",
    "        df['business_num_id'] = df.business_id.astype('category').\\\n",
    "        cat.rename_categories(range(0, df.business_id.nunique()))\n",
    "        df['business_num_id'] = df['business_num_id'].astype('int')\n",
    "        \n",
    "        df['user_num_id'] = df.user_id.astype('category').\\\n",
    "        cat.rename_categories(range(0, df.user_id.nunique()))\n",
    "        df['user_num_id'] = df['user_num_id'].astype('int')\n",
    "#     drop_list = ['date','review_id','review_funny','review_cool','review_useful']\n",
    "#     df = df.drop(drop_list, axis=1)\n",
    "\n",
    "    df = df.reset_index(drop = True)\n",
    "\n",
    "    return df \n",
    "\n",
    "def filter_yelp_df(df, top_user_num=6100, top_item_num=4000):\n",
    "    #Getting the reviews where starts are above 3\n",
    "    df_implicit = df[df['review_stars']>3]\n",
    "    frequent_user_id = df_implicit['user_num_id'].value_counts().head(top_user_num).index.values\n",
    "    frequent_item_id = df_implicit['business_num_id'].value_counts().head(top_item_num).index.values\n",
    "    return df.loc[(df['user_num_id'].isin(frequent_user_id)) & (df['business_num_id'].isin(frequent_item_id))]\n",
    "\n",
    "def date_to_timestamp(date):\n",
    "    dt = datetime.datetime.strptime(date, '%Y-%m-%d')\n",
    "    return time.mktime(dt.timetuple())\n",
    "\n",
    "def df_to_sparse(df, row_name='userId', col_name='movieId', value_name='rating',\n",
    "                 shape=None):\n",
    "    rows = df[row_name]\n",
    "    cols = df[col_name]\n",
    "    if value_name is not None:\n",
    "        values = df[value_name]\n",
    "    else:\n",
    "        values = [1]*len(rows)\n",
    "\n",
    "    return csr_matrix((values, (rows, cols)), shape=shape)"
   ]
  },
  {
   "cell_type": "markdown",
   "metadata": {},
   "source": [
    "## Get rating-UI and timestamp-UI matrix from original df"
   ]
  },
  {
   "cell_type": "code",
   "execution_count": 4,
   "metadata": {},
   "outputs": [],
   "source": [
    "def get_rating_timestamp_matrix(df, sampling=False, top_user_num=6100, top_item_num=4000):\n",
    "    \"\"\"\n",
    "    \"\"\"\n",
    "    #make the df implicit with top frenquent users and \n",
    "    #no need to sample anymore if df was sampled before \n",
    "    if sampling:\n",
    "        df = filter_yelp_df(df, top_user_num=top_user_num, top_item_num=top_item_num)\n",
    "\n",
    "    rating_matrix = df_to_sparse(df, row_name='user_num_id',\n",
    "                                 col_name='business_num_id',\n",
    "                                 value_name='review_stars',\n",
    "                                 shape=None)\n",
    "    \n",
    "    #Have same dimension and data entries with rating_matrix, except that the review stars are - user avg\n",
    "    ratingWuserAvg_matrix = df_to_sparse(df, row_name='user_num_id',\n",
    "                                 col_name='business_num_id',\n",
    "                                 value_name='reviewStars_userAvg',\n",
    "                                 shape=None)\n",
    "    \n",
    "    timestamp_matrix = df_to_sparse(df, row_name='user_num_id',\n",
    "                                    col_name='business_num_id',\n",
    "                                    value_name='timestamp',\n",
    "                                    shape=None)\n",
    "    \n",
    "\n",
    "    return rating_matrix, ratingWuserAvg_matrix, timestamp_matrix"
   ]
  },
  {
   "cell_type": "markdown",
   "metadata": {},
   "source": [
    "## Time ordered split "
   ]
  },
  {
   "cell_type": "code",
   "execution_count": 5,
   "metadata": {},
   "outputs": [],
   "source": [
    "def time_ordered_split(rating_matrix, ratingWuserAvg_matrix, timestamp_matrix, ratio=[0.5, 0.2, 0.3],\n",
    "                       implicit=True, remove_empty=False, threshold=3,\n",
    "                       sampling=False, sampling_ratio=0.1):\n",
    "    \"\"\"\n",
    "    Split the data to train,valid,test by time\n",
    "    ratio:  train:valid:test\n",
    "    threshold: for implicit representation\n",
    "    \"\"\"\n",
    "    if implicit:\n",
    "        temp_rating_matrix = sparse.csr_matrix(rating_matrix.shape)\n",
    "        temp_rating_matrix[(rating_matrix > threshold).nonzero()] = 1\n",
    "        rating_matrix = temp_rating_matrix\n",
    "        timestamp_matrix = timestamp_matrix.multiply(rating_matrix)\n",
    "        #ratingWuserAvg_matrix = ratingWuserAvg_matrix.multiply(rating_matrix)\n",
    "\n",
    "    nonzero_index = None\n",
    "\n",
    "    #Default false, not removing empty columns and rows\n",
    "    #Should not have this case, since users should have at least 1 record of 4,5 \n",
    "    #And restuarant should have at least 1 record of 4,5 \n",
    "    if remove_empty:\n",
    "        # Remove empty columns. record original item index\n",
    "        nonzero_index = np.unique(rating_matrix.nonzero()[1])\n",
    "        rating_matrix = rating_matrix[:, nonzero_index]\n",
    "        timestamp_matrix = timestamp_matrix[:, nonzero_index]\n",
    "        ratingWuserAvg_matrix = ratingWuserAvg_matrix[:, nonzero_index]\n",
    "\n",
    "        # Remove empty rows. record original user index\n",
    "        nonzero_rows = np.unique(rating_matrix.nonzero()[0])\n",
    "        rating_matrix = rating_matrix[nonzero_rows]\n",
    "        timestamp_matrix = timestamp_matrix[nonzero_rows]\n",
    "        ratingWuserAvg_matrix = ratingWuserAvg_matrix[nonzero_rows]\n",
    "\n",
    "    user_num, item_num = rating_matrix.shape\n",
    "\n",
    "    rtrain = []\n",
    "    rtrain_userAvg = []\n",
    "    rtime = []\n",
    "    rvalid = []\n",
    "    rvalid_userAvg = []\n",
    "    rtest = []\n",
    "    rtest_userAvg = []\n",
    "    # Get the index list corresponding to item for train,valid,test\n",
    "    item_idx_train = []\n",
    "    item_idx_valid = []\n",
    "    item_idx_test = []\n",
    "    \n",
    "    for i in tqdm(range(user_num)):\n",
    "        #Get the non_zero indexs, restuarants where the user visited/liked if implicit \n",
    "        item_indexes = rating_matrix[i].nonzero()[1]\n",
    "        \n",
    "        #Get the data for the user\n",
    "        data = rating_matrix[i].data\n",
    "        \n",
    "        #Get time stamp value \n",
    "        timestamp = timestamp_matrix[i].data\n",
    "        \n",
    "        #Get review stars with user avg data \n",
    "        if implicit == False:\n",
    "            dataWuserAvg = ratingWuserAvg_matrix[i].data\n",
    "        \n",
    "        #Non zero reviews for this user\n",
    "        num_nonzeros = len(item_indexes)\n",
    "        \n",
    "        #If the user has at least one review\n",
    "        if num_nonzeros >= 1:\n",
    "            #Get number of test and valid data \n",
    "            #train is 30%\n",
    "            num_test = int(num_nonzeros * ratio[2])\n",
    "            #validate is 50%\n",
    "            num_valid = int(num_nonzeros * (ratio[1] + ratio[2]))\n",
    "\n",
    "            valid_offset = num_nonzeros - num_valid\n",
    "            test_offset = num_nonzeros - num_test\n",
    "\n",
    "            #Sort the timestamp for each review for the user\n",
    "            argsort = np.argsort(timestamp)\n",
    "            \n",
    "            #Sort the reviews for the user according to the time stamp \n",
    "            data = data[argsort]\n",
    "            \n",
    "            #Sort the review with user avg accoridng to the time stamp\n",
    "            if implicit == False:\n",
    "                dataWuserAvg = dataWuserAvg[argsort]\n",
    "            \n",
    "            #Non-zero review index sort according to time\n",
    "            item_indexes = item_indexes[argsort]\n",
    "            \n",
    "            #list of ratings, num of valid_offset index, index where there's non-zeros\n",
    "            rtrain.append([data[:valid_offset], np.full(valid_offset, i), item_indexes[:valid_offset]])\n",
    "            \n",
    "            if implicit == False:\n",
    "                #Changing valid set to binary\n",
    "                count=valid_offset\n",
    "                for eachData in data[valid_offset:test_offset]:\n",
    "                    #if rating-avgRating > 0 then like\n",
    "                    if eachData >= 4:\n",
    "                        data[count] = 1\n",
    "                    else:\n",
    "                        data[count] = 0\n",
    "                    count += 1\n",
    "                \n",
    "            #50%-70%\n",
    "            rvalid.append([data[valid_offset:test_offset], np.full(test_offset - valid_offset, i),\n",
    "                           item_indexes[valid_offset:test_offset]])\n",
    "            #remaining 30%\n",
    "            rtest.append([data[test_offset:], np.full(num_test, i), item_indexes[test_offset:]])\n",
    "            \n",
    "            if implicit == False:\n",
    "                #Now for the rating matrix that considers user average rating\n",
    "                #list of ratings, num of valid_offset index, index where there's non-zeros\n",
    "                rtrain_userAvg.append([dataWuserAvg[:valid_offset], np.full(valid_offset, i), item_indexes[:valid_offset]])\n",
    "                #50%-70%\n",
    "\n",
    "                #Changing valid set to binary\n",
    "                count=valid_offset\n",
    "                for eachData in dataWuserAvg[valid_offset:test_offset]:\n",
    "                    #if rating-avgRating > 0 then like\n",
    "                    if eachData > 0:\n",
    "                        dataWuserAvg[count] = 1\n",
    "                    else:\n",
    "                        dataWuserAvg[count] = 0\n",
    "                    count += 1\n",
    "\n",
    "                rvalid_userAvg.append([dataWuserAvg[valid_offset:test_offset], np.full(test_offset - valid_offset, i),\n",
    "                               item_indexes[valid_offset:test_offset]])\n",
    "\n",
    "                #Change test set to binary even we don't use it\n",
    "                countTest = test_offset\n",
    "                for eachData in dataWuserAvg[test_offset:]:\n",
    "                    #if rating-avgRating > 0 then like\n",
    "                    if eachData > 0:\n",
    "                        dataWuserAvg[count] = 1\n",
    "                    else:\n",
    "                        dataWuserAvg[count] = 0\n",
    "                    count += 1\n",
    "\n",
    "\n",
    "                #remaining 30%\n",
    "                rtest_userAvg.append([dataWuserAvg[test_offset:], np.full(num_test, i), item_indexes[test_offset:]])\n",
    "                \n",
    "            item_idx_train.append(item_indexes[:valid_offset])\n",
    "            \n",
    "#             item_idx_valid.append(item_indexes[valid_offset:test_offset])\n",
    "#             item_idx_test.append(item_indexes[test_offset:])\n",
    "        else:\n",
    "            item_idx_train.append([])\n",
    "#             item_idx_valid.append([])\n",
    "#             item_idx_test.append([])\n",
    "    \n",
    "    rtrain = np.array(rtrain)\n",
    "    rvalid = np.array(rvalid)\n",
    "    rtest = np.array(rtest)\n",
    "    if implicit == False:\n",
    "        rtrain_userAvg = np.array(rtrain_userAvg)\n",
    "        rvalid_userAvg = np.array(rvalid_userAvg)\n",
    "        rtest_userAvg = np.array(rtest_userAvg)\n",
    "\n",
    "    #take non-zeros values, row index, and column (non-zero) index and store into sparse matrix\n",
    "    rtrain = sparse.csr_matrix((np.hstack(rtrain[:, 0]), (np.hstack(rtrain[:, 1]), np.hstack(rtrain[:, 2]))),\n",
    "                               shape=rating_matrix.shape, dtype=np.float32)\n",
    "    rvalid = sparse.csr_matrix((np.hstack(rvalid[:, 0]), (np.hstack(rvalid[:, 1]), np.hstack(rvalid[:, 2]))),\n",
    "                               shape=rating_matrix.shape, dtype=np.float32)\n",
    "    rtest = sparse.csr_matrix((np.hstack(rtest[:, 0]), (np.hstack(rtest[:, 1]), np.hstack(rtest[:, 2]))),\n",
    "                              shape=rating_matrix.shape, dtype=np.float32)\n",
    "    \n",
    "    if implicit == False:\n",
    "        rtrain_userAvg = sparse.csr_matrix((np.hstack(rtrain_userAvg[:, 0]), (np.hstack(rtrain_userAvg[:, 1]), np.hstack(rtrain_userAvg[:, 2]))),\n",
    "                                   shape=rating_matrix.shape, dtype=np.float32)\n",
    "        rvalid_userAvg = sparse.csr_matrix((np.hstack(rvalid_userAvg[:, 0]), (np.hstack(rvalid_userAvg[:, 1]), np.hstack(rvalid_userAvg[:, 2]))),\n",
    "                                   shape=rating_matrix.shape, dtype=np.float32)\n",
    "        rtest_userAvg = sparse.csr_matrix((np.hstack(rtest_userAvg[:, 0]), (np.hstack(rtest_userAvg[:, 1]), np.hstack(rtest_userAvg[:, 2]))),\n",
    "                                  shape=rating_matrix.shape, dtype=np.float32)\n",
    "\n",
    "    return rtrain, rvalid, rtest,rtrain_userAvg, rvalid_userAvg, rtest_userAvg, nonzero_index, timestamp_matrix, item_idx_train, item_idx_valid, item_idx_test"
   ]
  },
  {
   "cell_type": "markdown",
   "metadata": {},
   "source": [
    "## Get df for training corpus"
   ]
  },
  {
   "cell_type": "code",
   "execution_count": 6,
   "metadata": {},
   "outputs": [],
   "source": [
    "#Item idex matrix stores the reivews starts\n",
    "#This function returns a list of index for the reviews included in training set \n",
    "def get_corpus_idx_list(df, item_idx_matrix):\n",
    "    \"\"\"\n",
    "    Input: \n",
    "    df: total dataframe\n",
    "    item_idx_matrix: train index list got from time_split \n",
    "    Output: row index in original dataframe for training data by time split\n",
    "    \"\"\"\n",
    "    lst = []\n",
    "    #For all the users: 5791\n",
    "    for i in tqdm(range(len(item_idx_matrix))):\n",
    "        \n",
    "        #find row index where user_num_id is i\n",
    "        a = df.index[df['user_num_id'] == i].tolist()\n",
    "        \n",
    "        #loop through the busienss id that the user i reviewed for in offvalid set \n",
    "        for item_idx in  item_idx_matrix[i]:\n",
    "            \n",
    "            #get the row index for reviews for business that the user liked in the train set\n",
    "            b = df.index[df['business_num_id'] == item_idx].tolist()\n",
    "            \n",
    "            #Find the index for which this user liked, one user only rate a business once\n",
    "            idx_to_add = list(set(a).intersection(b))\n",
    "            \n",
    "            if idx_to_add not in lst:\n",
    "                lst.extend(idx_to_add)\n",
    "    return lst"
   ]
  },
  {
   "cell_type": "markdown",
   "metadata": {},
   "source": [
    "## Preprocess using Term Frequency - CounterVectorizer"
   ]
  },
  {
   "cell_type": "code",
   "execution_count": 7,
   "metadata": {},
   "outputs": [
    {
     "name": "stderr",
     "output_type": "stream",
     "text": [
      "[nltk_data] Downloading package wordnet to\n",
      "[nltk_data]     C:\\Users\\shenti10\\AppData\\Roaming\\nltk_data...\n",
      "[nltk_data]   Package wordnet is already up-to-date!\n",
      "[nltk_data] Downloading package stopwords to\n",
      "[nltk_data]     C:\\Users\\shenti10\\AppData\\Roaming\\nltk_data...\n",
      "[nltk_data]   Package stopwords is already up-to-date!\n"
     ]
    }
   ],
   "source": [
    "#Stemming and Lemmatisation\n",
    "from nltk.stem.porter import PorterStemmer\n",
    "from nltk.stem.wordnet import WordNetLemmatizer\n",
    "import re \n",
    "import nltk\n",
    "from nltk.corpus import stopwords\n",
    "from nltk.stem.porter import PorterStemmer\n",
    "from nltk.tokenize import RegexpTokenizer\n",
    "# Get corpus and CountVector\n",
    "from sklearn.feature_extraction.text import CountVectorizer\n",
    "nltk.download('wordnet')\n",
    "nltk.download('stopwords')\n",
    "lem = WordNetLemmatizer()\n",
    "stem = PorterStemmer()\n",
    "stop_words = set(stopwords.words(\"english\"))\n",
    "new_words = ['not_the']\n",
    "stop_words = stop_words.union(new_words)"
   ]
  },
  {
   "cell_type": "code",
   "execution_count": 8,
   "metadata": {},
   "outputs": [],
   "source": [
    "from tqdm import tqdm\n",
    "\n",
    "#Should 'because' added?\n",
    "def preprocess(df, reset_list = [',','.','?',';','however','but']):\n",
    "    corpus = []\n",
    "    for i in tqdm(range(df.shape[0])):\n",
    "        text = df['review_text'][i]\n",
    "        change_flg = 0\n",
    "        #Convert to lowercase\n",
    "        text = text.lower()\n",
    "        \n",
    "        ##Convert to list from string, loop through the review text\n",
    "        text = text.split()\n",
    "        \n",
    "        #any sentence that encounters a not, the folloing words will become not phrase until hit the sentence end\n",
    "        for j in range(len(text)):\n",
    "            #Make the not_ hack\n",
    "            if text[j] == 'not':\n",
    "                change_flg = 1\n",
    "#                 print 'changes is made after ', i\n",
    "                continue\n",
    "            #if was 1 was round and not hit a 'not' in this round\n",
    "            if change_flg == 1 and any(reset in text[j] for reset in reset_list):\n",
    "                text[j] = 'not_' + text[j]\n",
    "                change_flg = 0\n",
    "#                 print 'reset at ', i\n",
    "            if change_flg == 1:\n",
    "                text[j] = 'not_' + text[j]\n",
    "        \n",
    "        #Convert back to string\n",
    "        text = \" \".join(text)\n",
    "        \n",
    "        #Remove punctuations\n",
    "#       text = re.sub('[^a-zA-Z]', ' ', text)\n",
    "        \n",
    "        #remove tags\n",
    "        text=re.sub(\"&lt;/?.*?&gt;\",\" &lt;&gt; \",text)\n",
    "        \n",
    "        # remove special characters and digits\n",
    "        text=re.sub(\"(\\\\d|\\\\W)+\",\" \",text)\n",
    "        \n",
    "        ##Convert to list from string\n",
    "        text = text.split()\n",
    "        \n",
    "        ##Stemming\n",
    "        ps=PorterStemmer()\n",
    "        \n",
    "        #Lemmatisation\n",
    "        lem = WordNetLemmatizer()\n",
    "        text = [lem.lemmatize(word) for word in text if not word in  \n",
    "                stop_words] \n",
    "        text = \" \".join(text)\n",
    "        corpus.append(text)\n",
    "    return corpus"
   ]
  },
  {
   "cell_type": "markdown",
   "metadata": {},
   "source": [
    "## All Model"
   ]
  },
  {
   "cell_type": "code",
   "execution_count": 22,
   "metadata": {},
   "outputs": [],
   "source": [
    "from sklearn.metrics.pairwise import cosine_similarity\n",
    "def train(matrix_train):\n",
    "    similarity = cosine_similarity(X=matrix_train, Y=None, dense_output=True)\n",
    "    return similarity\n",
    "\n",
    "def get_I_K(df, X, row_name = 'business_num_id', binary = True, shape = (121994,6000)):\n",
    "    \"\"\"\n",
    "    get the item-keyphrase matrix\n",
    "    \"\"\"\n",
    "    rows = []\n",
    "    cols = []\n",
    "    vals = []\n",
    "    #For each review history\n",
    "    for i in tqdm(range(X.shape[0])):\n",
    "        #Get the array of frequencies for document/review i \n",
    "        arr = X[i].toarray() \n",
    "        nonzero_element = arr.nonzero()[1]  # Get nonzero element in each line, keyphrase that appears index \n",
    "        length_of_nonzero = len(nonzero_element) #number of important keyphrase that appears\n",
    "        \n",
    "        # df[row_name][i] is the item idex\n",
    "        #Get a list row index that indicates the document/review\n",
    "        rows.extend(np.array([df[row_name][i]]*length_of_nonzero)) ## Item index\n",
    "        #print(rows)\n",
    "        \n",
    "        #Get a list of column index indicating the key phrase that appears in i document/review\n",
    "        cols.extend(nonzero_element) ## Keyword Index\n",
    "        if binary:\n",
    "            #Create a bunch of 1s\n",
    "            vals.extend(np.array([1]*length_of_nonzero))\n",
    "        else:\n",
    "            #If not binary \n",
    "            vals.extend(arr[arr.nonzero()])    \n",
    "    return csr_matrix((vals, (rows, cols)), shape=shape)\n",
    "\n",
    "\n",
    "#Get a UI matrix if it's not item_similarity based or else IU\n",
    "def predict(matrix_train, k, similarity, item_similarity_en = False):\n",
    "    prediction_scores = []\n",
    "    \n",
    "    #inverse to IU matrix\n",
    "    if item_similarity_en:\n",
    "        matrix_train = matrix_train.transpose()\n",
    "        \n",
    "    #for each user or item, depends UI or IU \n",
    "    for user_index in tqdm(range(matrix_train.shape[0])):\n",
    "        # Get user u's prediction scores for all items\n",
    "        #Get prediction/similarity score for each user 1*num or user or num of items\n",
    "        vector_u = similarity[user_index]\n",
    "\n",
    "        # Get closest K neighbors excluding user u self\n",
    "        #Decending accoding to similarity score, select top k\n",
    "        similar_users = vector_u.argsort()[::-1][1:k+1]\n",
    "        \n",
    "        # Get neighbors similarity weights and ratings\n",
    "        similar_users_weights = similarity[user_index][similar_users]\n",
    "        \n",
    "        #similar_users_weights_sum = np.sum(similar_users_weights)\n",
    "        #print(similar_users_weights.shape)\n",
    "        #shape: num of res * k\n",
    "        similar_users_ratings = matrix_train[similar_users].toarray()\n",
    "              \n",
    "        prediction_scores_u = similar_users_ratings * similar_users_weights[:, np.newaxis]\n",
    "        #print(prediction_scores_u)\n",
    "        \n",
    "        \n",
    "        prediction_scores.append(np.sum(prediction_scores_u, axis=0))\n",
    "        \n",
    "    res = np.array(prediction_scores)\n",
    "    \n",
    "    if item_similarity_en:\n",
    "        res = res.transpose()\n",
    "    return res\n",
    "\n",
    "#Get a UI matrix if it's not item_similarity based or else IU\n",
    "# def predictUU(matrix_train, k, similarity1, similarity2, similarity3, weight1, weight2, weight3, chooseWeigthMethod = 'max',  item_similarity_en = False):\n",
    "#     prediction_scores = []\n",
    "    \n",
    "#     #inverse to IU matrix\n",
    "#     if item_similarity_en:\n",
    "#         matrix_train = matrix_train.transpose()\n",
    "        \n",
    "#     #for each user or item, depends UI or IU \n",
    "#     for user_index in tqdm(range(matrix_train.shape[0])):\n",
    "#         # Get user u's prediction scores for all items\n",
    "#         #Get prediction/similarity score for each user 1*num or user or num of items\n",
    "#         vector_u = similarity[user_index]\n",
    "\n",
    "#         # Get closest K neighbors excluding user u self\n",
    "#         #Decending accoding to similarity score, select top k\n",
    "#         similar_users = vector_u.argsort()[::-1][1:k+1]\n",
    "        \n",
    "#         # Get neighbors similarity weights and ratings\n",
    "#         similar_users_weights = similarity[user_index][similar_users]\n",
    "        \n",
    "#         #similar_users_weights_sum = np.sum(similar_users_weights)\n",
    "#         #print(similar_users_weights.shape)\n",
    "#         #shape: num of res * k\n",
    "#         similar_users_ratings = matrix_train[similar_users].toarray()\n",
    "              \n",
    "#         prediction_scores_u = similar_users_ratings * similar_users_weights[:, np.newaxis]\n",
    "#         #print(prediction_scores_u)\n",
    "        \n",
    "        \n",
    "#         prediction_scores.append(np.sum(prediction_scores_u, axis=0))\n",
    "        \n",
    "#     res = np.array(prediction_scores)\n",
    "    \n",
    "#     if item_similarity_en:\n",
    "#         res = res.transpose()\n",
    "#     return res\n",
    "\n",
    "\n",
    "# def predictII(matrix_train, k, similarity, item_similarity_en = False):\n",
    "#     prediction_scores = []\n",
    "    \n",
    "#     #inverse to IU matrix\n",
    "#     if item_similarity_en:\n",
    "#         matrix_train = matrix_train.transpose()\n",
    "        \n",
    "#     #for each user or item, depends UI or IU \n",
    "#     for user_index in tqdm(range(matrix_train.shape[0])):\n",
    "#         # Get user u's prediction scores for all items\n",
    "#         #Get prediction/similarity score for each user 1*num or user or num of items\n",
    "#         vector_u = similarity[user_index]\n",
    "\n",
    "#         # Get closest K neighbors excluding user u self\n",
    "#         #Decending accoding to similarity score, select top k\n",
    "#         similar_users = vector_u.argsort()[::-1][1:k+1]\n",
    "        \n",
    "#         # Get neighbors similarity weights and ratings\n",
    "#         similar_users_weights = similarity[user_index][similar_users]\n",
    "        \n",
    "#         #similar_users_weights_sum = np.sum(similar_users_weights)\n",
    "#         #print(similar_users_weights.shape)\n",
    "#         #shape: num of res * k\n",
    "#         similar_users_ratings = matrix_train[similar_users].toarray()\n",
    "              \n",
    "#         prediction_scores_u = similar_users_ratings * similar_users_weights[:, np.newaxis]\n",
    "#         #print(prediction_scores_u)\n",
    "        \n",
    "        \n",
    "#         prediction_scores.append(np.sum(prediction_scores_u, axis=0))\n",
    "        \n",
    "#     res = np.array(prediction_scores)\n",
    "    \n",
    "#     if item_similarity_en:\n",
    "#         res = res.transpose()\n",
    "#     return res\n",
    "\n",
    "\n",
    "\n",
    "#Preidction score is UI or IU?\n",
    "def prediction(prediction_score, topK, matrix_Train):\n",
    "\n",
    "    prediction = []\n",
    "\n",
    "    #for each user\n",
    "    for user_index in tqdm(range(matrix_Train.shape[0])):\n",
    "        \n",
    "        #take the prediction scores for user 1 * num res\n",
    "        vector_u = prediction_score[user_index]\n",
    "        \n",
    "        #The restuarant the user rated\n",
    "        vector_train = matrix_Train[user_index]\n",
    "        \n",
    "        if len(vector_train.nonzero()[0]) > 0:\n",
    "            vector_predict = sub_routine(vector_u, vector_train, topK=topK)\n",
    "        else:\n",
    "            vector_predict = np.zeros(topK, dtype=np.float32)\n",
    "\n",
    "        prediction.append(vector_predict)\n",
    "\n",
    "    return np.vstack(prediction)\n",
    "\n",
    "#topK: the number of restuarants we are suggesting \n",
    "#if vector_train has number, then the user has visited\n",
    "def sub_routine(vector_u, vector_train, topK=500):\n",
    "\n",
    "    #index where non-zero\n",
    "    train_index = vector_train.nonzero()[1]\n",
    "    \n",
    "    vector_u = vector_u\n",
    "    \n",
    "    #get topk + num rated res prediction score descending, top index \n",
    "    candidate_index = np.argpartition(-vector_u, topK+len(train_index))[:topK+len(train_index)]\n",
    "    \n",
    "    #sort top prediction score index in range topK+len(train_index) into vector_u`\n",
    "    vector_u = candidate_index[vector_u[candidate_index].argsort()[::-1]]\n",
    "    \n",
    "    #deleted the rated res from the topk+train_index prediction score vector for user u \n",
    "    #Delete the user rated res index from the topk+numRated index\n",
    "    vector_u = np.delete(vector_u, np.isin(vector_u, train_index).nonzero()[0])\n",
    "\n",
    "    #so we only include the top K prediction score here\n",
    "    return vector_u[:topK]"
   ]
  },
  {
   "cell_type": "markdown",
   "metadata": {},
   "source": [
    "## Evaluation"
   ]
  },
  {
   "cell_type": "code",
   "execution_count": 9,
   "metadata": {},
   "outputs": [],
   "source": [
    "def recallk(vector_true_dense, hits, **unused):\n",
    "    hits = len(hits.nonzero()[0])\n",
    "    return float(hits)/len(vector_true_dense)\n",
    "\n",
    "\n",
    "def precisionk(vector_predict, hits, **unused):\n",
    "    hits = len(hits.nonzero()[0])\n",
    "    return float(hits)/len(vector_predict)\n",
    "\n",
    "\n",
    "def average_precisionk(vector_predict, hits, **unused):\n",
    "    precisions = np.cumsum(hits, dtype=np.float32)/range(1, len(vector_predict)+1)\n",
    "    return np.mean(precisions)\n",
    "\n",
    "\n",
    "def r_precision(vector_true_dense, vector_predict, **unused):\n",
    "    vector_predict_short = vector_predict[:len(vector_true_dense)]\n",
    "    hits = len(np.isin(vector_predict_short, vector_true_dense).nonzero()[0])\n",
    "    return float(hits)/len(vector_true_dense)\n",
    "\n",
    "\n",
    "def _dcg_support(size):\n",
    "    arr = np.arange(1, size+1)+1\n",
    "    return 1./np.log2(arr)\n",
    "\n",
    "\n",
    "def ndcg(vector_true_dense, vector_predict, hits):\n",
    "    idcg = np.sum(_dcg_support(len(vector_true_dense)))\n",
    "    dcg_base = _dcg_support(len(vector_predict))\n",
    "    dcg_base[np.logical_not(hits)] = 0\n",
    "    dcg = np.sum(dcg_base)\n",
    "    return dcg/idcg\n",
    "\n",
    "\n",
    "def click(hits, **unused):\n",
    "    first_hit = next((i for i, x in enumerate(hits) if x), None)\n",
    "    if first_hit is None:\n",
    "        return 5\n",
    "    else:\n",
    "        return first_hit/10\n",
    "\n",
    "\n",
    "def evaluate(matrix_Predict, matrix_Test, metric_names =['R-Precision', 'NDCG', 'Precision', 'Recall', 'MAP'], atK = [5, 10, 15, 20, 50], analytical=False):\n",
    "    \"\"\"\n",
    "    :param matrix_U: Latent representations of users, for LRecs it is RQ, for ALSs it is U\n",
    "    :param matrix_V: Latent representations of items, for LRecs it is Q, for ALSs it is V\n",
    "    :param matrix_Train: Rating matrix for training, features.\n",
    "    :param matrix_Test: Rating matrix for evaluation, true labels.\n",
    "    :param k: Top K retrieval\n",
    "    :param metric_names: Evaluation metrics\n",
    "    :return:\n",
    "    \"\"\"\n",
    "    global_metrics = {\n",
    "        #\"R-Precision\": r_precision,\n",
    "        #\"NDCG\": ndcg,\n",
    "        #\"Clicks\": click\n",
    "    }\n",
    "\n",
    "    local_metrics = {\n",
    "        #\"Precision\": precisionk,\n",
    "        #\"Recall\": recallk,\n",
    "        \"MAP\": average_precisionk\n",
    "    }\n",
    "\n",
    "    output = dict()\n",
    "\n",
    "    num_users = matrix_Predict.shape[0]\n",
    "\n",
    "    for k in atK:\n",
    "\n",
    "        local_metric_names = list(set(metric_names).intersection(local_metrics.keys()))\n",
    "        results = {name: [] for name in local_metric_names}\n",
    "        topK_Predict = matrix_Predict[:, :k]\n",
    "\n",
    "        for user_index in tqdm(range(topK_Predict.shape[0])):\n",
    "            vector_predict = topK_Predict[user_index]\n",
    "            if len(vector_predict.nonzero()[0]) > 0:\n",
    "                vector_true = matrix_Test[user_index]\n",
    "                vector_true_dense = vector_true.nonzero()[1]\n",
    "                hits = np.isin(vector_predict, vector_true_dense)\n",
    "\n",
    "                if vector_true_dense.size > 0:\n",
    "                    for name in local_metric_names:\n",
    "                        results[name].append(local_metrics[name](vector_true_dense=vector_true_dense,\n",
    "                                                                 vector_predict=vector_predict,\n",
    "                                                                 hits=hits))\n",
    "        results_summary = dict()\n",
    "        if analytical:\n",
    "            for name in local_metric_names:\n",
    "                results_summary['{0}@{1}'.format(name, k)] = round(results[name],4)\n",
    "        else:\n",
    "            for name in local_metric_names:\n",
    "                results_summary['{0}@{1}'.format(name, k)] = (round((np.average(results[name])),4),\n",
    "                                                              round((1.96*np.std(results[name])/np.sqrt(num_users)),4))\n",
    "        output.update(results_summary)\n",
    "\n",
    "    global_metric_names = list(set(metric_names).intersection(global_metrics.keys()))\n",
    "    results = {name: [] for name in global_metric_names}\n",
    "\n",
    "    topK_Predict = matrix_Predict[:]\n",
    "\n",
    "    for user_index in tqdm(range(topK_Predict.shape[0])):\n",
    "        vector_predict = topK_Predict[user_index]\n",
    "\n",
    "        if len(vector_predict.nonzero()[0]) > 0:\n",
    "            vector_true = matrix_Test[user_index]\n",
    "            vector_true_dense = vector_true.nonzero()[1]\n",
    "            hits = np.isin(vector_predict, vector_true_dense)\n",
    "\n",
    "            # if user_index == 1:\n",
    "            #     import ipdb;\n",
    "            #     ipdb.set_trace()\n",
    "\n",
    "            if vector_true_dense.size > 0:\n",
    "                for name in global_metric_names:\n",
    "                    results[name].append(global_metrics[name](vector_true_dense=vector_true_dense,\n",
    "                                                              vector_predict=vector_predict,\n",
    "                                                              hits=hits))\n",
    "    results_summary = dict()\n",
    "    if analytical:\n",
    "        for name in global_metric_names:\n",
    "            results_summary[name] = round(results[name],4)\n",
    "    else:\n",
    "        for name in global_metric_names:\n",
    "            results_summary[name] = (round(np.average(results[name]),4), round((1.96*np.std(results[name])/np.sqrt(num_users)),4))\n",
    "    output.update(results_summary)\n",
    "\n",
    "    return output"
   ]
  },
  {
   "cell_type": "markdown",
   "metadata": {},
   "source": [
    "## Add 2 matrices"
   ]
  },
  {
   "cell_type": "code",
   "execution_count": 10,
   "metadata": {},
   "outputs": [],
   "source": [
    "## Utility functions\n",
    "#3906 restuarant, 3000 keyphrase, 5791 user \n",
    "def add_two_matrix(ratio, U_I_matrix,I_K_matrix, shape = (3906, 3000+5791)):\n",
    "    # ratio determine Keywords/User in the matrix\n",
    "    rows = []\n",
    "    cols = []\n",
    "    datas = []\n",
    "    I_U_matrix = U_I_matrix.transpose()\n",
    "    \n",
    "    #for each restuarant\n",
    "    for i in tqdm(range(I_K_matrix.shape[0])):\n",
    "        #key phrase that this item has, column(key phrase) index\n",
    "        nonzero1 = I_K_matrix[i].nonzero()\n",
    "        \n",
    "        #user that rated this item, column(user) index \n",
    "        nonzero2 = I_U_matrix[i].nonzero()\n",
    "        \n",
    "        #Trying to create a sparse matrix that stores \n",
    "        #index of restuarant for (K + U) times\n",
    "        row = [i]*(len(nonzero1[1])+len(nonzero2[1]))\n",
    "        \n",
    "        #column index for key phrase and users that are non-zero\n",
    "        col = nonzero1[1].tolist()+ nonzero2[1].tolist()\n",
    "        \n",
    "        \n",
    "        data = [ratio]*len(nonzero1[1])+[1-ratio]*len(nonzero2[1]) # Binary representation of I-K/U matrix\n",
    "        \n",
    "        rows.extend(row)\n",
    "        cols.extend(col)\n",
    "        datas.extend(data)\n",
    "    return csr_matrix( (datas,(rows,cols)), shape=shape )\n",
    "\n",
    "def transfer_to_implicit(rating_matrix, threshold = 0):\n",
    "    temp_rating_matrix = sparse.csr_matrix(rating_matrix.shape)\n",
    "    temp_rating_matrix[(rating_matrix > threshold).nonzero()] = 1\n",
    "    rating_matrix = temp_rating_matrix\n",
    "    return rating_matrix"
   ]
  },
  {
   "cell_type": "markdown",
   "metadata": {},
   "source": [
    "#### Get original dataframe out of the review datastet"
   ]
  },
  {
   "cell_type": "code",
   "execution_count": 11,
   "metadata": {},
   "outputs": [],
   "source": [
    "#Getting the yelp data -> reviews, only get the data for the top frequent users & restuarants that had a history of rating > 3\n",
    "df = get_yelp_df(path ='', filename=reviewJsonWithClosedRes, sampling= True)"
   ]
  },
  {
   "cell_type": "code",
   "execution_count": 12,
   "metadata": {},
   "outputs": [],
   "source": [
    "df['reviewStars_userAvg'] = df['review_stars'] - df['user_avg_stars']\n",
    "df.loc[df['reviewStars_userAvg'] == 0, \"reviewStars_userAvg\"] = 0.01\n",
    "#(df['reviewStars_userAvg'] == 0.01).sum()"
   ]
  },
  {
   "cell_type": "code",
   "execution_count": 82,
   "metadata": {},
   "outputs": [
    {
     "data": {
      "text/plain": [
       "1074"
      ]
     },
     "execution_count": 82,
     "metadata": {},
     "output_type": "execute_result"
    }
   ],
   "source": [
    "#(df['reviewStars_userAvg'] == 0.01).sum()"
   ]
  },
  {
   "cell_type": "markdown",
   "metadata": {},
   "source": [
    "#### Get rating-UI matrix and timestepm-UI matrix"
   ]
  },
  {
   "cell_type": "code",
   "execution_count": 13,
   "metadata": {},
   "outputs": [],
   "source": [
    "rating_matrix, ratingWuserAvg_matrix, timestamp_matrix = get_rating_timestamp_matrix(df)\n",
    "# rating_matrix\n",
    "# ratingWuserAvg_matrix"
   ]
  },
  {
   "cell_type": "markdown",
   "metadata": {},
   "source": [
    "#### Split to get rtrain-UI matrix and valid and test.. item_index_matrix_train"
   ]
  },
  {
   "cell_type": "code",
   "execution_count": 14,
   "metadata": {},
   "outputs": [
    {
     "name": "stderr",
     "output_type": "stream",
     "text": [
      "100%|████████████████████████████████████████████████████████████████████████████| 6085/6085 [00:01<00:00, 3832.52it/s]\n"
     ]
    }
   ],
   "source": [
    "rtrain, rvalid, rtest, rtrain_userAvg, rvalid_userAvg, rtest_userAvg, nonzero_index, rtime, item_idx_matrix_train,item_idx_matrix_valid, item_idx_matrix_test = time_ordered_split(rating_matrix=rating_matrix, ratingWuserAvg_matrix=ratingWuserAvg_matrix, timestamp_matrix=timestamp_matrix,\n",
    "                                                                     ratio=[0.5,0.2,0.3],\n",
    "                                                                     implicit=False)  "
   ]
  },
  {
   "cell_type": "code",
   "execution_count": 15,
   "metadata": {},
   "outputs": [
    {
     "name": "stderr",
     "output_type": "stream",
     "text": [
      "C:\\ProgramData\\Anaconda3\\lib\\site-packages\\ipykernel_launcher.py:11: SparseEfficiencyWarning: Changing the sparsity structure of a csr_matrix is expensive. lil_matrix is more efficient.\n",
      "  # This is added back by InteractiveShellApp.init_path()\n",
      "100%|████████████████████████████████████████████████████████████████████████████| 6085/6085 [00:01<00:00, 4596.28it/s]\n"
     ]
    }
   ],
   "source": [
    "rtrain_implicit, rvalid_implicit, rtest_implicit, rtrain_userAvg_implicit, rvalid_userAvg_implicit, rtest_userAvg_implicit, nonzero_index, rtime, item_idx_matrix_train_implicit,item_idx_matrix_valid_implicit, item_idx_matrix_test_implicit = time_ordered_split(rating_matrix=rating_matrix, ratingWuserAvg_matrix=ratingWuserAvg_matrix, timestamp_matrix=timestamp_matrix,\n",
    "                                                                     ratio=[0.5,0.2,0.3],\n",
    "                                                                     implicit=True)"
   ]
  },
  {
   "cell_type": "markdown",
   "metadata": {},
   "source": [
    "#### Get df shrink to df_train for rtrain"
   ]
  },
  {
   "cell_type": "code",
   "execution_count": 16,
   "metadata": {},
   "outputs": [
    {
     "name": "stderr",
     "output_type": "stream",
     "text": [
      "100%|██████████████████████████████████████████████████████████████████████████████| 6085/6085 [02:35<00:00, 39.20it/s]\n"
     ]
    },
    {
     "data": {
      "text/plain": [
       "(130953, 15)"
      ]
     },
     "execution_count": 16,
     "metadata": {},
     "output_type": "execute_result"
    }
   ],
   "source": [
    "#Get the list of row index for the training set \n",
    "lst_train = get_corpus_idx_list(df, item_idx_matrix_train)\n",
    "\n",
    "# Get the training dataframe from the original dataframe\n",
    "df_train = df.loc[lst_train]\n",
    "\n",
    "#Resetting the index of the train data\n",
    "df_train = df_train.reset_index(drop=True)\n",
    "\n",
    "df_train.shape"
   ]
  },
  {
   "cell_type": "markdown",
   "metadata": {},
   "source": [
    "#### If using term frequency only to compute corpus and X(review vs. terms) CounterVectorizer"
   ]
  },
  {
   "cell_type": "code",
   "execution_count": 19,
   "metadata": {},
   "outputs": [],
   "source": [
    "# The entire corpus\n",
    "#corpus = preprocess(df_train)\n",
    "# X row: df_train row, column: key words frequency \n",
    "# When building the vocabulary ignore terms that have a document frequency strictly higher than the given threshold\n",
    "#cv=CountVectorizer(max_df=0.9,stop_words=stop_words, max_features=5000, ngram_range=(1,1))\n",
    "#X=cv.fit_transform(corpus)"
   ]
  },
  {
   "cell_type": "markdown",
   "metadata": {},
   "source": [
    "##### If using TD-IDF to compute corpus and X (business vs. terms) TfIdfVectorizer"
   ]
  },
  {
   "cell_type": "code",
   "execution_count": 20,
   "metadata": {},
   "outputs": [],
   "source": [
    "from sklearn.feature_extraction.text import TfidfVectorizer"
   ]
  },
  {
   "cell_type": "code",
   "execution_count": 21,
   "metadata": {},
   "outputs": [
    {
     "name": "stderr",
     "output_type": "stream",
     "text": [
      "100%|████████████████████████████████████████████████████████████████████████| 125794/125794 [00:47<00:00, 2662.22it/s]\n"
     ]
    }
   ],
   "source": [
    "corpus = preprocess(df_train)"
   ]
  },
  {
   "cell_type": "code",
   "execution_count": 22,
   "metadata": {},
   "outputs": [],
   "source": [
    "#Creating a dictionary to store business: review text\n",
    "dict_text = {}\n",
    "for i in range(len(corpus)):\n",
    "    if df_train['business_num_id'][i] not in dict_text:\n",
    "        dict_text[df_train['business_num_id'][i]] = corpus[i]\n",
    "    else:\n",
    "        temp = dict_text[df_train['business_num_id'][i]]\n",
    "        temp = temp + corpus[i]\n",
    "        dict_text[df_train['business_num_id'][i]] = temp"
   ]
  },
  {
   "cell_type": "code",
   "execution_count": 23,
   "metadata": {},
   "outputs": [],
   "source": [
    "#Create a list for the review text, where the row dimension = total business ids\n",
    "list_text = []\n",
    "for key in range(0,max(list(dict_text.keys()))+1) :\n",
    "    if key not in dict_text.keys():\n",
    "        list_text.extend([\"\"])\n",
    "    else:\n",
    "        list_text.extend([dict_text[key]])"
   ]
  },
  {
   "cell_type": "code",
   "execution_count": 24,
   "metadata": {},
   "outputs": [],
   "source": [
    "#Get the X vector, where dimension is #business vs #terms\n",
    "vectorizer = TfidfVectorizer(max_df=0.9,stop_words=stop_words, max_features=5000, ngram_range=(1,1))\n",
    "X_cleaned = vectorizer.fit_transform(list_text).toarray()\n",
    "X_cleaned_sparse = csr_matrix(X_cleaned)"
   ]
  },
  {
   "cell_type": "markdown",
   "metadata": {},
   "source": [
    "## User-rating KNN"
   ]
  },
  {
   "cell_type": "markdown",
   "metadata": {},
   "source": [
    "### 1. With ratings that subtracts user average rating, cosine similarity"
   ]
  },
  {
   "cell_type": "code",
   "execution_count": 55,
   "metadata": {
    "scrolled": true
   },
   "outputs": [
    {
     "name": "stderr",
     "output_type": "stream",
     "text": [
      "100%|█████████████████████████████████████████████████████████████████████████████| 6085/6085 [00:07<00:00, 789.92it/s]\n",
      "100%|████████████████████████████████████████████████████████████████████████████| 6085/6085 [00:01<00:00, 4469.72it/s]\n",
      "100%|████████████████████████████████████████████████████████████████████████████| 6085/6085 [00:00<00:00, 6870.81it/s]\n",
      "100%|████████████████████████████████████████████████████████████████████████████| 6085/6085 [00:00<00:00, 7127.65it/s]\n",
      "100%|████████████████████████████████████████████████████████████████████████████| 6085/6085 [00:00<00:00, 7037.00it/s]\n",
      "100%|████████████████████████████████████████████████████████████████████████████| 6085/6085 [00:00<00:00, 6972.61it/s]\n",
      "100%|████████████████████████████████████████████████████████████████████████████| 6085/6085 [00:00<00:00, 6972.70it/s]\n",
      "100%|████████████████████████████████████████████████████████████████████████████| 6085/6085 [00:00<00:00, 9078.90it/s]\n",
      "100%|█████████████████████████████████████████████████████████████████████████████| 6085/6085 [00:08<00:00, 694.67it/s]\n",
      "100%|████████████████████████████████████████████████████████████████████████████| 6085/6085 [00:01<00:00, 4476.28it/s]\n",
      "100%|████████████████████████████████████████████████████████████████████████████| 6085/6085 [00:00<00:00, 6824.48it/s]\n",
      "100%|████████████████████████████████████████████████████████████████████████████| 6085/6085 [00:00<00:00, 7086.01it/s]\n",
      "100%|████████████████████████████████████████████████████████████████████████████| 6085/6085 [00:00<00:00, 6832.14it/s]\n",
      "100%|████████████████████████████████████████████████████████████████████████████| 6085/6085 [00:00<00:00, 7102.54it/s]\n",
      "100%|████████████████████████████████████████████████████████████████████████████| 6085/6085 [00:00<00:00, 6940.94it/s]\n",
      "100%|████████████████████████████████████████████████████████████████████████████| 6085/6085 [00:00<00:00, 9133.31it/s]\n",
      "100%|█████████████████████████████████████████████████████████████████████████████| 6085/6085 [00:07<00:00, 862.84it/s]\n",
      "100%|████████████████████████████████████████████████████████████████████████████| 6085/6085 [00:01<00:00, 4471.66it/s]\n",
      "100%|████████████████████████████████████████████████████████████████████████████| 6085/6085 [00:00<00:00, 7037.03it/s]\n",
      "100%|████████████████████████████████████████████████████████████████████████████| 6085/6085 [00:00<00:00, 6996.69it/s]\n",
      "100%|████████████████████████████████████████████████████████████████████████████| 6085/6085 [00:00<00:00, 7004.71it/s]\n",
      "100%|████████████████████████████████████████████████████████████████████████████| 6085/6085 [00:00<00:00, 6980.68it/s]\n",
      "100%|████████████████████████████████████████████████████████████████████████████| 6085/6085 [00:00<00:00, 6980.62it/s]\n",
      "100%|████████████████████████████████████████████████████████████████████████████| 6085/6085 [00:00<00:00, 9300.37it/s]\n",
      "100%|█████████████████████████████████████████████████████████████████████████████| 6085/6085 [00:07<00:00, 776.74it/s]\n",
      "100%|████████████████████████████████████████████████████████████████████████████| 6085/6085 [00:01<00:00, 4436.90it/s]\n",
      "100%|████████████████████████████████████████████████████████████████████████████| 6085/6085 [00:00<00:00, 6925.43it/s]\n",
      "100%|████████████████████████████████████████████████████████████████████████████| 6085/6085 [00:00<00:00, 7110.85it/s]\n",
      "100%|████████████████████████████████████████████████████████████████████████████| 6085/6085 [00:00<00:00, 7037.03it/s]\n",
      "100%|████████████████████████████████████████████████████████████████████████████| 6085/6085 [00:00<00:00, 6980.65it/s]\n",
      "100%|████████████████████████████████████████████████████████████████████████████| 6085/6085 [00:00<00:00, 7028.93it/s]\n",
      "100%|████████████████████████████████████████████████████████████████████████████| 6085/6085 [00:00<00:00, 9038.66it/s]\n",
      "100%|█████████████████████████████████████████████████████████████████████████████| 6085/6085 [00:08<00:00, 706.22it/s]\n",
      "100%|████████████████████████████████████████████████████████████████████████████| 6085/6085 [00:01<00:00, 4450.27it/s]\n",
      "100%|████████████████████████████████████████████████████████████████████████████| 6085/6085 [00:00<00:00, 6901.58it/s]\n",
      "100%|████████████████████████████████████████████████████████████████████████████| 6085/6085 [00:00<00:00, 7094.31it/s]\n",
      "100%|████████████████████████████████████████████████████████████████████████████| 6085/6085 [00:00<00:00, 7028.92it/s]\n",
      "100%|████████████████████████████████████████████████████████████████████████████| 6085/6085 [00:00<00:00, 7014.13it/s]\n",
      "100%|████████████████████████████████████████████████████████████████████████████| 6085/6085 [00:00<00:00, 6996.69it/s]\n",
      "100%|████████████████████████████████████████████████████████████████████████████| 6085/6085 [00:00<00:00, 8997.83it/s]\n",
      "100%|█████████████████████████████████████████████████████████████████████████████| 6085/6085 [00:09<00:00, 656.12it/s]\n",
      "100%|████████████████████████████████████████████████████████████████████████████| 6085/6085 [00:01<00:00, 4428.08it/s]\n",
      "100%|████████████████████████████████████████████████████████████████████████████| 6085/6085 [00:00<00:00, 6964.71it/s]\n",
      "100%|████████████████████████████████████████████████████████████████████████████| 6085/6085 [00:00<00:00, 7094.27it/s]\n",
      "100%|████████████████████████████████████████████████████████████████████████████| 6085/6085 [00:00<00:00, 6972.65it/s]\n",
      "100%|████████████████████████████████████████████████████████████████████████████| 6085/6085 [00:00<00:00, 7012.77it/s]\n",
      "100%|████████████████████████████████████████████████████████████████████████████| 6085/6085 [00:00<00:00, 7020.82it/s]\n",
      "100%|████████████████████████████████████████████████████████████████████████████| 6085/6085 [00:00<00:00, 9243.96it/s]\n",
      "100%|█████████████████████████████████████████████████████████████████████████████| 6085/6085 [00:10<00:00, 603.43it/s]\n",
      "100%|████████████████████████████████████████████████████████████████████████████| 6085/6085 [00:01<00:00, 4446.92it/s]\n",
      "100%|████████████████████████████████████████████████████████████████████████████| 6085/6085 [00:00<00:00, 7194.88it/s]\n",
      "100%|████████████████████████████████████████████████████████████████████████████| 6085/6085 [00:00<00:00, 7119.11it/s]\n",
      "100%|████████████████████████████████████████████████████████████████████████████| 6085/6085 [00:00<00:00, 7110.82it/s]\n",
      "100%|████████████████████████████████████████████████████████████████████████████| 6085/6085 [00:00<00:00, 7110.82it/s]\n",
      "100%|████████████████████████████████████████████████████████████████████████████| 6085/6085 [00:00<00:00, 7078.18it/s]\n",
      "100%|████████████████████████████████████████████████████████████████████████████| 6085/6085 [00:00<00:00, 9160.71it/s]\n"
     ]
    }
   ],
   "source": [
    "similarity1 = train(rtrain)\n",
    "MAP10 = {}\n",
    "for k in range(50, 120, 10):\n",
    "    user_item_prediction_score1 = predict(rtrain_userAvg, k, similarity1, item_similarity_en= False)\n",
    "    user_item_predict1 = prediction(user_item_prediction_score1, 50, rtrain_userAvg)\n",
    "    user_item_res1 = evaluate(user_item_predict1, rvalid_userAvg)\n",
    "    \n",
    "    MAP10[k] = user_item_res1.get('MAP@10')[0]"
   ]
  },
  {
   "cell_type": "code",
   "execution_count": 56,
   "metadata": {},
   "outputs": [
    {
     "data": {
      "text/plain": [
       "{50: 0.0419,\n",
       " 60: 0.0422,\n",
       " 70: 0.0424,\n",
       " 80: 0.0429,\n",
       " 90: 0.0432,\n",
       " 100: 0.0439,\n",
       " 110: 0.0432}"
      ]
     },
     "execution_count": 56,
     "metadata": {},
     "output_type": "execute_result"
    }
   ],
   "source": [
    "MAP10"
   ]
  },
  {
   "cell_type": "markdown",
   "metadata": {},
   "source": [
    "## Implicit"
   ]
  },
  {
   "cell_type": "code",
   "execution_count": 212,
   "metadata": {
    "scrolled": true
   },
   "outputs": [
    {
     "name": "stderr",
     "output_type": "stream",
     "text": [
      "100%|█████████████████████████████████████████████████████████████████████████████| 6085/6085 [00:07<00:00, 784.93it/s]\n",
      "100%|████████████████████████████████████████████████████████████████████████████| 6085/6085 [00:01<00:00, 4546.41it/s]\n",
      "100%|████████████████████████████████████████████████████████████████████████████| 6085/6085 [00:00<00:00, 6980.62it/s]\n",
      "100%|████████████████████████████████████████████████████████████████████████████| 6085/6085 [00:00<00:00, 7077.80it/s]\n",
      "100%|████████████████████████████████████████████████████████████████████████████| 6085/6085 [00:00<00:00, 7036.93it/s]\n",
      "100%|████████████████████████████████████████████████████████████████████████████| 6085/6085 [00:00<00:00, 6862.85it/s]\n",
      "100%|████████████████████████████████████████████████████████████████████████████| 6085/6085 [00:00<00:00, 6917.44it/s]\n",
      "100%|████████████████████████████████████████████████████████████████████████████| 6085/6085 [00:00<00:00, 9065.43it/s]\n",
      "100%|█████████████████████████████████████████████████████████████████████████████| 6085/6085 [00:08<00:00, 696.04it/s]\n",
      "100%|████████████████████████████████████████████████████████████████████████████| 6085/6085 [00:01<00:00, 4553.09it/s]\n",
      "100%|████████████████████████████████████████████████████████████████████████████| 6085/6085 [00:00<00:00, 6862.86it/s]\n",
      "100%|████████████████████████████████████████████████████████████████████████████| 6085/6085 [00:00<00:00, 6940.95it/s]\n",
      "100%|████████████████████████████████████████████████████████████████████████████| 6085/6085 [00:00<00:00, 7110.80it/s]\n",
      "100%|████████████████████████████████████████████████████████████████████████████| 6085/6085 [00:00<00:00, 6964.97it/s]\n",
      "100%|████████████████████████████████████████████████████████████████████████████| 6085/6085 [00:00<00:00, 6778.99it/s]\n",
      "100%|████████████████████████████████████████████████████████████████████████████| 6085/6085 [00:00<00:00, 9152.24it/s]\n",
      "100%|█████████████████████████████████████████████████████████████████████████████| 6085/6085 [00:06<00:00, 877.38it/s]\n",
      "100%|████████████████████████████████████████████████████████████████████████████| 6085/6085 [00:01<00:00, 4553.10it/s]\n",
      "100%|████████████████████████████████████████████████████████████████████████████| 6085/6085 [00:00<00:00, 6794.11it/s]\n",
      "100%|████████████████████████████████████████████████████████████████████████████| 6085/6085 [00:00<00:00, 7004.69it/s]\n",
      "100%|████████████████████████████████████████████████████████████████████████████| 6085/6085 [00:00<00:00, 6779.23it/s]\n",
      "100%|████████████████████████████████████████████████████████████████████████████| 6085/6085 [00:00<00:00, 6756.45it/s]\n",
      "100%|████████████████████████████████████████████████████████████████████████████| 6085/6085 [00:00<00:00, 6886.10it/s]\n",
      "100%|████████████████████████████████████████████████████████████████████████████| 6085/6085 [00:00<00:00, 8985.35it/s]\n",
      "100%|█████████████████████████████████████████████████████████████████████████████| 6085/6085 [00:07<00:00, 798.39it/s]\n",
      "100%|████████████████████████████████████████████████████████████████████████████| 6085/6085 [00:01<00:00, 4424.47it/s]\n",
      "100%|████████████████████████████████████████████████████████████████████████████| 6085/6085 [00:00<00:00, 6972.67it/s]\n",
      "100%|████████████████████████████████████████████████████████████████████████████| 6085/6085 [00:00<00:00, 7004.70it/s]\n",
      "100%|████████████████████████████████████████████████████████████████████████████| 6085/6085 [00:00<00:00, 6925.20it/s]\n",
      "100%|████████████████████████████████████████████████████████████████████████████| 6085/6085 [00:00<00:00, 6925.44it/s]\n",
      "100%|████████████████████████████████████████████████████████████████████████████| 6085/6085 [00:00<00:00, 6893.90it/s]\n",
      "100%|████████████████████████████████████████████████████████████████████████████| 6085/6085 [00:00<00:00, 9078.88it/s]\n",
      "100%|█████████████████████████████████████████████████████████████████████████████| 6085/6085 [00:08<00:00, 724.28it/s]\n",
      "100%|████████████████████████████████████████████████████████████████████████████| 6085/6085 [00:01<00:00, 4587.34it/s]\n",
      "100%|████████████████████████████████████████████████████████████████████████████| 6085/6085 [00:00<00:00, 7061.46it/s]\n",
      "100%|████████████████████████████████████████████████████████████████████████████| 6085/6085 [00:00<00:00, 6964.72it/s]\n",
      "100%|████████████████████████████████████████████████████████████████████████████| 6085/6085 [00:00<00:00, 6988.67it/s]\n",
      "100%|████████████████████████████████████████████████████████████████████████████| 6085/6085 [00:00<00:00, 6948.86it/s]\n",
      "100%|████████████████████████████████████████████████████████████████████████████| 6085/6085 [00:00<00:00, 6925.14it/s]\n",
      "100%|████████████████████████████████████████████████████████████████████████████| 6085/6085 [00:00<00:00, 9146.97it/s]\n",
      "100%|█████████████████████████████████████████████████████████████████████████████| 6085/6085 [00:09<00:00, 664.99it/s]\n",
      "100%|████████████████████████████████████████████████████████████████████████████| 6085/6085 [00:01<00:00, 4532.91it/s]\n",
      "100%|████████████████████████████████████████████████████████████████████████████| 6085/6085 [00:00<00:00, 6996.87it/s]\n",
      "100%|████████████████████████████████████████████████████████████████████████████| 6085/6085 [00:00<00:00, 7012.73it/s]\n",
      "100%|████████████████████████████████████████████████████████████████████████████| 6085/6085 [00:00<00:00, 6948.83it/s]\n",
      "100%|████████████████████████████████████████████████████████████████████████████| 6085/6085 [00:00<00:00, 6972.69it/s]\n",
      "100%|████████████████████████████████████████████████████████████████████████████| 6085/6085 [00:00<00:00, 6980.85it/s]\n",
      "100%|████████████████████████████████████████████████████████████████████████████| 6085/6085 [00:00<00:00, 9106.03it/s]\n",
      "100%|█████████████████████████████████████████████████████████████████████████████| 6085/6085 [00:10<00:00, 606.22it/s]\n",
      "100%|████████████████████████████████████████████████████████████████████████████| 6085/6085 [00:01<00:00, 4496.17it/s]\n",
      "100%|████████████████████████████████████████████████████████████████████████████| 6085/6085 [00:00<00:00, 6933.30it/s]\n",
      "100%|████████████████████████████████████████████████████████████████████████████| 6085/6085 [00:00<00:00, 6870.84it/s]\n",
      "100%|████████████████████████████████████████████████████████████████████████████| 6085/6085 [00:00<00:00, 6909.74it/s]\n",
      "100%|████████████████████████████████████████████████████████████████████████████| 6085/6085 [00:00<00:00, 7027.10it/s]\n",
      "100%|████████████████████████████████████████████████████████████████████████████| 6085/6085 [00:00<00:00, 6909.75it/s]\n",
      "100%|████████████████████████████████████████████████████████████████████████████| 6085/6085 [00:00<00:00, 9078.87it/s]\n"
     ]
    }
   ],
   "source": [
    "similarity1 = train(rtrain_implicit)\n",
    "MAP10Implicit = {}\n",
    "for k in range(50, 120, 10):\n",
    "    user_item_prediction_score1 = predict(rtrain_implicit, k, similarity1, item_similarity_en= False)\n",
    "    user_item_predict1 = prediction(user_item_prediction_score1, 50, rtrain_implicit)\n",
    "    user_item_res1 = evaluate(user_item_predict1, rvalid_implicit)\n",
    "    \n",
    "    MAP10Implicit[k] = user_item_res1.get('MAP@10')[0]"
   ]
  },
  {
   "cell_type": "markdown",
   "metadata": {},
   "source": [
    "## Implicit similarity + explicit prediction matrix"
   ]
  },
  {
   "cell_type": "code",
   "execution_count": 269,
   "metadata": {
    "scrolled": true
   },
   "outputs": [
    {
     "name": "stderr",
     "output_type": "stream",
     "text": [
      "100%|█████████████████████████████████████████████████████████████████████████████| 6085/6085 [00:07<00:00, 801.96it/s]\n",
      "100%|████████████████████████████████████████████████████████████████████████████| 6085/6085 [00:01<00:00, 4463.28it/s]\n",
      "100%|████████████████████████████████████████████████████████████████████████████| 6085/6085 [00:00<00:00, 6871.49it/s]\n",
      "100%|████████████████████████████████████████████████████████████████████████████| 6085/6085 [00:00<00:00, 6879.69it/s]\n",
      "100%|████████████████████████████████████████████████████████████████████████████| 6085/6085 [00:00<00:00, 6872.95it/s]\n",
      "100%|████████████████████████████████████████████████████████████████████████████| 6085/6085 [00:00<00:00, 6779.45it/s]\n",
      "100%|████████████████████████████████████████████████████████████████████████████| 6085/6085 [00:00<00:00, 6886.10it/s]\n",
      "100%|████████████████████████████████████████████████████████████████████████████| 6085/6085 [00:00<00:00, 9065.39it/s]\n",
      "100%|█████████████████████████████████████████████████████████████████████████████| 6085/6085 [00:07<00:00, 797.87it/s]\n",
      "100%|████████████████████████████████████████████████████████████████████████████| 6085/6085 [00:01<00:00, 4421.13it/s]\n",
      "100%|████████████████████████████████████████████████████████████████████████████| 6085/6085 [00:00<00:00, 6933.26it/s]\n",
      "100%|████████████████████████████████████████████████████████████████████████████| 6085/6085 [00:00<00:00, 7045.15it/s]\n",
      "100%|████████████████████████████████████████████████████████████████████████████| 6085/6085 [00:00<00:00, 6886.08it/s]\n",
      "100%|████████████████████████████████████████████████████████████████████████████| 6085/6085 [00:00<00:00, 7004.91it/s]\n",
      "100%|████████████████████████████████████████████████████████████████████████████| 6085/6085 [00:00<00:00, 6747.58it/s]\n",
      "100%|████████████████████████████████████████████████████████████████████████████| 6085/6085 [00:00<00:00, 9038.57it/s]\n",
      "100%|█████████████████████████████████████████████████████████████████████████████| 6085/6085 [00:08<00:00, 709.70it/s]\n",
      "100%|████████████████████████████████████████████████████████████████████████████| 6085/6085 [00:01<00:00, 4446.67it/s]\n",
      "100%|████████████████████████████████████████████████████████████████████████████| 6085/6085 [00:00<00:00, 6741.77it/s]\n",
      "100%|████████████████████████████████████████████████████████████████████████████| 6085/6085 [00:00<00:00, 7012.72it/s]\n",
      "100%|████████████████████████████████████████████████████████████████████████████| 6085/6085 [00:00<00:00, 6956.78it/s]\n",
      "100%|████████████████████████████████████████████████████████████████████████████| 6085/6085 [00:00<00:00, 6925.33it/s]\n",
      "100%|████████████████████████████████████████████████████████████████████████████| 6085/6085 [00:00<00:00, 6870.57it/s]\n",
      "100%|████████████████████████████████████████████████████████████████████████████| 6085/6085 [00:00<00:00, 8985.34it/s]\n",
      "100%|█████████████████████████████████████████████████████████████████████████████| 6085/6085 [00:07<00:00, 861.40it/s]\n",
      "100%|████████████████████████████████████████████████████████████████████████████| 6085/6085 [00:01<00:00, 4395.74it/s]\n",
      "100%|████████████████████████████████████████████████████████████████████████████| 6085/6085 [00:00<00:00, 6948.83it/s]\n",
      "100%|████████████████████████████████████████████████████████████████████████████| 6085/6085 [00:00<00:00, 6894.40it/s]\n",
      "100%|████████████████████████████████████████████████████████████████████████████| 6085/6085 [00:00<00:00, 6964.70it/s]\n",
      "100%|████████████████████████████████████████████████████████████████████████████| 6085/6085 [00:00<00:00, 6801.68it/s]\n",
      "100%|████████████████████████████████████████████████████████████████████████████| 6085/6085 [00:00<00:00, 6862.88it/s]\n",
      "100%|████████████████████████████████████████████████████████████████████████████| 6085/6085 [00:00<00:00, 8972.26it/s]\n",
      "100%|█████████████████████████████████████████████████████████████████████████████| 6085/6085 [00:07<00:00, 785.78it/s]\n",
      "100%|████████████████████████████████████████████████████████████████████████████| 6085/6085 [00:01<00:00, 4353.86it/s]\n",
      "100%|████████████████████████████████████████████████████████████████████████████| 6085/6085 [00:00<00:00, 7077.83it/s]\n",
      "100%|████████████████████████████████████████████████████████████████████████████| 6085/6085 [00:00<00:00, 6964.73it/s]\n",
      "100%|████████████████████████████████████████████████████████████████████████████| 6085/6085 [00:00<00:00, 6940.96it/s]\n",
      "100%|████████████████████████████████████████████████████████████████████████████| 6085/6085 [00:00<00:00, 6893.84it/s]\n",
      "100%|████████████████████████████████████████████████████████████████████████████| 6085/6085 [00:00<00:00, 6857.75it/s]\n",
      "100%|████████████████████████████████████████████████████████████████████████████| 6085/6085 [00:00<00:00, 9071.86it/s]\n",
      "100%|█████████████████████████████████████████████████████████████████████████████| 6085/6085 [00:08<00:00, 703.13it/s]\n",
      "100%|████████████████████████████████████████████████████████████████████████████| 6085/6085 [00:01<00:00, 4430.77it/s]\n",
      "100%|████████████████████████████████████████████████████████████████████████████| 6085/6085 [00:00<00:00, 6934.68it/s]\n",
      "100%|████████████████████████████████████████████████████████████████████████████| 6085/6085 [00:00<00:00, 6875.62it/s]\n",
      "100%|████████████████████████████████████████████████████████████████████████████| 6085/6085 [00:00<00:00, 7045.15it/s]\n",
      "100%|████████████████████████████████████████████████████████████████████████████| 6085/6085 [00:00<00:00, 6917.34it/s]\n",
      "100%|████████████████████████████████████████████████████████████████████████████| 6085/6085 [00:00<00:00, 6862.88it/s]\n",
      "100%|████████████████████████████████████████████████████████████████████████████| 6085/6085 [00:00<00:00, 9188.32it/s]\n",
      "100%|█████████████████████████████████████████████████████████████████████████████| 6085/6085 [00:09<00:00, 656.55it/s]\n",
      "100%|████████████████████████████████████████████████████████████████████████████| 6085/6085 [00:01<00:00, 4417.94it/s]\n",
      "100%|████████████████████████████████████████████████████████████████████████████| 6085/6085 [00:00<00:00, 7020.83it/s]\n",
      "100%|████████████████████████████████████████████████████████████████████████████| 6085/6085 [00:00<00:00, 7029.39it/s]\n",
      "100%|████████████████████████████████████████████████████████████████████████████| 6085/6085 [00:00<00:00, 6909.52it/s]\n",
      "100%|████████████████████████████████████████████████████████████████████████████| 6085/6085 [00:00<00:00, 6914.85it/s]\n",
      "100%|████████████████████████████████████████████████████████████████████████████| 6085/6085 [00:00<00:00, 6779.22it/s]\n",
      "100%|████████████████████████████████████████████████████████████████████████████| 6085/6085 [00:00<00:00, 8728.62it/s]\n",
      "100%|█████████████████████████████████████████████████████████████████████████████| 6085/6085 [00:10<00:00, 600.99it/s]\n",
      "100%|████████████████████████████████████████████████████████████████████████████| 6085/6085 [00:01<00:00, 4386.16it/s]\n",
      "100%|████████████████████████████████████████████████████████████████████████████| 6085/6085 [00:00<00:00, 6893.87it/s]\n",
      "100%|████████████████████████████████████████████████████████████████████████████| 6085/6085 [00:00<00:00, 7021.06it/s]\n",
      "100%|████████████████████████████████████████████████████████████████████████████| 6085/6085 [00:00<00:00, 6917.35it/s]\n",
      "100%|████████████████████████████████████████████████████████████████████████████| 6085/6085 [00:00<00:00, 7077.80it/s]\n",
      "100%|████████████████████████████████████████████████████████████████████████████| 6085/6085 [00:00<00:00, 6917.57it/s]\n",
      "100%|████████████████████████████████████████████████████████████████████████████| 6085/6085 [00:00<00:00, 9038.53it/s]\n"
     ]
    }
   ],
   "source": [
    "similarity1 = train(rtrain_implicit)\n",
    "MAP10Combine = {}\n",
    "for k in range(40, 120, 10):\n",
    "    user_item_prediction_score1 = predict(rtrain, k, similarity1, item_similarity_en= False)\n",
    "    user_item_predict1 = prediction(user_item_prediction_score1, 50, rtrain)\n",
    "    user_item_res1 = evaluate(user_item_predict1, rvalid)\n",
    "    \n",
    "    MAP10Combine[k] = user_item_res1.get('MAP@10')[0]"
   ]
  },
  {
   "cell_type": "code",
   "execution_count": 270,
   "metadata": {},
   "outputs": [
    {
     "data": {
      "text/plain": [
       "{40: 0.1047,\n",
       " 50: 0.1061,\n",
       " 60: 0.1066,\n",
       " 70: 0.1067,\n",
       " 80: 0.1059,\n",
       " 90: 0.1052,\n",
       " 100: 0.1044,\n",
       " 110: 0.104}"
      ]
     },
     "execution_count": 270,
     "metadata": {},
     "output_type": "execute_result"
    }
   ],
   "source": [
    "MAP10Combine"
   ]
  },
  {
   "cell_type": "markdown",
   "metadata": {},
   "source": [
    "## Plot for combined KNN, implicit similarity matrix, explicit user-rating matrix"
   ]
  },
  {
   "cell_type": "code",
   "execution_count": 276,
   "metadata": {},
   "outputs": [
    {
     "data": {
      "image/png": "[encoded data removed]",
      "text/plain": [
       "<Figure size 432x288 with 1 Axes>"
      ]
     },
     "metadata": {
      "needs_background": "light"
     },
     "output_type": "display_data"
    }
   ],
   "source": [
    "listsCombined = sorted(MAP10Combine.items()) # sorted by key, return a list of tuples\n",
    "\n",
    "x1, y1 = zip(*listsCombined) # unpack a list of pairs into two tuples\n",
    "\n",
    "plt.plot( x1, y1, marker='o',color='green', linewidth=2, label=\"CombinedPrediction\")\n",
    "for x, y in zip(x1, y1): \n",
    "    plt.text(x, y, str(y))\n",
    "    \n",
    "plt.legend()\n",
    "plt.xlabel('K values')\n",
    "plt.ylabel('MAP@10')\n",
    "\n",
    "plt.show()"
   ]
  },
  {
   "cell_type": "markdown",
   "metadata": {},
   "source": [
    "### 2. With ratings that subtracts user average rating, pearson correlation"
   ]
  },
  {
   "cell_type": "code",
   "execution_count": 30,
   "metadata": {},
   "outputs": [
    {
     "name": "stderr",
     "output_type": "stream",
     "text": [
      "100%|█████████████████████████████████████████████████████████████████████████████| 6085/6085 [00:09<00:00, 660.67it/s]\n",
      "100%|████████████████████████████████████████████████████████████████████████████| 6085/6085 [00:01<00:00, 4412.00it/s]\n"
     ]
    }
   ],
   "source": [
    "# #UU similarity, using cosine similarity\n",
    "# similarity2 = train(rtrain_userAvg)\n",
    "# #get a user-item matrix  UI prediction\n",
    "# #Predict using UI matrix with ratings in it \n",
    "# user_item_prediction_score2 = predict(rtrain_userAvg, 100, similarity2, item_similarity_en= False)\n",
    "# user_item_predict2 = prediction(user_item_prediction_score2, 50, rtrain_userAvg)\n",
    "# user_item_res2 = evaluate(user_item_predict2, rvalid_userAvg)\n",
    "# user_item_res2"
   ]
  },
  {
   "cell_type": "markdown",
   "metadata": {},
   "source": [
    "### 3. With raw ratings, cosinesimilarity"
   ]
  },
  {
   "cell_type": "code",
   "execution_count": 41,
   "metadata": {
    "scrolled": true
   },
   "outputs": [
    {
     "name": "stderr",
     "output_type": "stream",
     "text": [
      "100%|█████████████████████████████████████████████████████████████████████████████| 6085/6085 [00:07<00:00, 790.36it/s]\n",
      "100%|████████████████████████████████████████████████████████████████████████████| 6085/6085 [00:01<00:00, 4413.16it/s]\n",
      "100%|████████████████████████████████████████████████████████████████████████████| 6085/6085 [00:00<00:00, 6968.37it/s]\n",
      "100%|████████████████████████████████████████████████████████████████████████████| 6085/6085 [00:00<00:00, 6972.93it/s]\n",
      "100%|████████████████████████████████████████████████████████████████████████████| 6085/6085 [00:00<00:00, 7074.38it/s]\n",
      "100%|████████████████████████████████████████████████████████████████████████████| 6085/6085 [00:00<00:00, 6901.71it/s]\n",
      "100%|████████████████████████████████████████████████████████████████████████████| 6085/6085 [00:00<00:00, 6814.44it/s]\n",
      "100%|████████████████████████████████████████████████████████████████████████████| 6085/6085 [00:00<00:00, 9120.06it/s]\n",
      "100%|█████████████████████████████████████████████████████████████████████████████| 6085/6085 [00:08<00:00, 697.98it/s]\n",
      "100%|████████████████████████████████████████████████████████████████████████████| 6085/6085 [00:01<00:00, 4392.66it/s]\n",
      "100%|████████████████████████████████████████████████████████████████████████████| 6085/6085 [00:00<00:00, 6870.87it/s]\n",
      "100%|████████████████████████████████████████████████████████████████████████████| 6085/6085 [00:00<00:00, 6988.69it/s]\n",
      "100%|████████████████████████████████████████████████████████████████████████████| 6085/6085 [00:00<00:00, 7020.83it/s]\n",
      "100%|████████████████████████████████████████████████████████████████████████████| 6085/6085 [00:00<00:00, 7004.68it/s]\n",
      "100%|████████████████████████████████████████████████████████████████████████████| 6085/6085 [00:00<00:00, 6840.03it/s]\n",
      "100%|████████████████████████████████████████████████████████████████████████████| 6085/6085 [00:00<00:00, 9144.29it/s]\n",
      "100%|█████████████████████████████████████████████████████████████████████████████| 6085/6085 [00:07<00:00, 854.34it/s]\n",
      "100%|████████████████████████████████████████████████████████████████████████████| 6085/6085 [00:01<00:00, 4424.35it/s]\n",
      "100%|████████████████████████████████████████████████████████████████████████████| 6085/6085 [00:00<00:00, 6972.67it/s]\n",
      "100%|████████████████████████████████████████████████████████████████████████████| 6085/6085 [00:00<00:00, 6917.29it/s]\n",
      "100%|████████████████████████████████████████████████████████████████████████████| 6085/6085 [00:00<00:00, 6972.66it/s]\n",
      "100%|████████████████████████████████████████████████████████████████████████████| 6085/6085 [00:00<00:00, 6972.69it/s]\n",
      "100%|████████████████████████████████████████████████████████████████████████████| 6085/6085 [00:00<00:00, 6855.18it/s]\n",
      "100%|████████████████████████████████████████████████████████████████████████████| 6085/6085 [00:00<00:00, 8998.62it/s]\n",
      "100%|█████████████████████████████████████████████████████████████████████████████| 6085/6085 [00:08<00:00, 759.89it/s]\n",
      "100%|████████████████████████████████████████████████████████████████████████████| 6085/6085 [00:01<00:00, 4417.93it/s]\n",
      "100%|████████████████████████████████████████████████████████████████████████████| 6085/6085 [00:00<00:00, 6909.76it/s]\n",
      "100%|████████████████████████████████████████████████████████████████████████████| 6085/6085 [00:00<00:00, 7010.63it/s]\n",
      "100%|████████████████████████████████████████████████████████████████████████████| 6085/6085 [00:00<00:00, 6948.80it/s]\n",
      "100%|████████████████████████████████████████████████████████████████████████████| 6085/6085 [00:00<00:00, 6964.70it/s]\n",
      "100%|████████████████████████████████████████████████████████████████████████████| 6085/6085 [00:00<00:00, 6917.48it/s]\n",
      "100%|████████████████████████████████████████████████████████████████████████████| 6085/6085 [00:00<00:00, 9216.07it/s]\n",
      "100%|█████████████████████████████████████████████████████████████████████████████| 6085/6085 [00:08<00:00, 695.31it/s]\n",
      "100%|████████████████████████████████████████████████████████████████████████████| 6085/6085 [00:01<00:00, 4434.07it/s]\n",
      "100%|████████████████████████████████████████████████████████████████████████████| 6085/6085 [00:00<00:00, 6955.00it/s]\n",
      "100%|████████████████████████████████████████████████████████████████████████████| 6085/6085 [00:00<00:00, 6968.43it/s]\n",
      "100%|████████████████████████████████████████████████████████████████████████████| 6085/6085 [00:00<00:00, 7045.14it/s]\n",
      "100%|████████████████████████████████████████████████████████████████████████████| 6085/6085 [00:00<00:00, 6982.72it/s]\n",
      "100%|████████████████████████████████████████████████████████████████████████████| 6085/6085 [00:00<00:00, 6939.72it/s]\n",
      "100%|████████████████████████████████████████████████████████████████████████████| 6085/6085 [00:00<00:00, 9110.76it/s]\n",
      "100%|█████████████████████████████████████████████████████████████████████████████| 6085/6085 [00:09<00:00, 643.62it/s]\n",
      "100%|████████████████████████████████████████████████████████████████████████████| 6085/6085 [00:01<00:00, 4383.04it/s]\n",
      "100%|████████████████████████████████████████████████████████████████████████████| 6085/6085 [00:00<00:00, 7069.62it/s]\n",
      "100%|████████████████████████████████████████████████████████████████████████████| 6085/6085 [00:00<00:00, 7012.97it/s]\n",
      "100%|████████████████████████████████████████████████████████████████████████████| 6085/6085 [00:00<00:00, 6956.79it/s]\n",
      "100%|████████████████████████████████████████████████████████████████████████████| 6085/6085 [00:00<00:00, 6997.12it/s]\n",
      "100%|████████████████████████████████████████████████████████████████████████████| 6085/6085 [00:00<00:00, 6886.12it/s]\n",
      "100%|████████████████████████████████████████████████████████████████████████████| 6085/6085 [00:00<00:00, 9106.01it/s]\n",
      "100%|█████████████████████████████████████████████████████████████████████████████| 6085/6085 [00:10<00:00, 598.99it/s]\n",
      "100%|████████████████████████████████████████████████████████████████████████████| 6085/6085 [00:01<00:00, 4351.07it/s]\n",
      "100%|████████████████████████████████████████████████████████████████████████████| 6085/6085 [00:00<00:00, 6874.28it/s]\n",
      "100%|████████████████████████████████████████████████████████████████████████████| 6085/6085 [00:00<00:00, 6948.89it/s]\n",
      "100%|████████████████████████████████████████████████████████████████████████████| 6085/6085 [00:00<00:00, 7028.93it/s]\n",
      "100%|████████████████████████████████████████████████████████████████████████████| 6085/6085 [00:00<00:00, 7003.49it/s]\n",
      "100%|████████████████████████████████████████████████████████████████████████████| 6085/6085 [00:00<00:00, 6964.71it/s]\n",
      "100%|████████████████████████████████████████████████████████████████████████████| 6085/6085 [00:00<00:00, 9012.40it/s]\n"
     ]
    }
   ],
   "source": [
    "similarity3 = train(rtrain)\n",
    "MAP10ExplicitRaw = {}\n",
    "for k in range(50, 120, 10):\n",
    "    user_item_prediction_score3 = predict(rtrain, k, similarity3, item_similarity_en= False)\n",
    "    user_item_predict3 = prediction(user_item_prediction_score3, 50, rtrain)\n",
    "    user_item_res3 = evaluate(user_item_predict3, rvalid)\n",
    "    \n",
    "    MAP10ExplicitRaw[k] = user_item_res3.get('MAP@10')[0]"
   ]
  },
  {
   "cell_type": "code",
   "execution_count": 44,
   "metadata": {
    "scrolled": true
   },
   "outputs": [
    {
     "data": {
      "text/plain": [
       "dict_values([0.0535, 0.0532, 0.0538, 0.0537, 0.0539, 0.0537, 0.0536])"
      ]
     },
     "execution_count": 44,
     "metadata": {},
     "output_type": "execute_result"
    }
   ],
   "source": [
    "MAP10ExplicitRaw.values()"
   ]
  },
  {
   "cell_type": "markdown",
   "metadata": {},
   "source": [
    "## User-visting matrix"
   ]
  },
  {
   "cell_type": "code",
   "execution_count": 45,
   "metadata": {},
   "outputs": [
    {
     "name": "stderr",
     "output_type": "stream",
     "text": [
      "C:\\ProgramData\\Anaconda3\\lib\\site-packages\\ipykernel_launcher.py:3: SparseEfficiencyWarning: Changing the sparsity structure of a csr_matrix is expensive. lil_matrix is more efficient.\n",
      "  This is separate from the ipykernel package so we can avoid doing imports until\n"
     ]
    }
   ],
   "source": [
    "def getImplicitMatrix(sparseMatrix, threashold=0):\n",
    "    temp_matrix = sparse.csr_matrix(sparseMatrix.shape)\n",
    "    temp_matrix[(sparseMatrix > threashold).nonzero()] = 1\n",
    "    return temp_matrix\n",
    "\n",
    "userVisitMatrix = getImplicitMatrix(rtrain)"
   ]
  },
  {
   "cell_type": "code",
   "execution_count": 59,
   "metadata": {
    "scrolled": true
   },
   "outputs": [
    {
     "name": "stderr",
     "output_type": "stream",
     "text": [
      "100%|█████████████████████████████████████████████████████████████████████████████| 6085/6085 [00:10<00:00, 603.73it/s]\n",
      "100%|████████████████████████████████████████████████████████████████████████████| 6085/6085 [00:01<00:00, 4440.53it/s]\n",
      "100%|████████████████████████████████████████████████████████████████████████████| 6085/6085 [00:00<00:00, 6809.26it/s]\n",
      "100%|████████████████████████████████████████████████████████████████████████████| 6085/6085 [00:00<00:00, 7012.76it/s]\n",
      "100%|████████████████████████████████████████████████████████████████████████████| 6085/6085 [00:00<00:00, 6940.97it/s]\n",
      "100%|████████████████████████████████████████████████████████████████████████████| 6085/6085 [00:00<00:00, 7004.72it/s]\n",
      "100%|████████████████████████████████████████████████████████████████████████████| 6085/6085 [00:00<00:00, 6553.47it/s]\n",
      "100%|████████████████████████████████████████████████████████████████████████████| 6085/6085 [00:00<00:00, 9116.36it/s]\n",
      "100%|█████████████████████████████████████████████████████████████████████████████| 6085/6085 [00:11<00:00, 514.92it/s]\n",
      "100%|████████████████████████████████████████████████████████████████████████████| 6085/6085 [00:01<00:00, 4369.80it/s]\n",
      "100%|████████████████████████████████████████████████████████████████████████████| 6085/6085 [00:00<00:00, 6933.08it/s]\n",
      "100%|████████████████████████████████████████████████████████████████████████████| 6085/6085 [00:00<00:00, 7020.80it/s]\n",
      "100%|████████████████████████████████████████████████████████████████████████████| 6085/6085 [00:00<00:00, 6925.21it/s]\n",
      "100%|████████████████████████████████████████████████████████████████████████████| 6085/6085 [00:00<00:00, 6933.08it/s]\n",
      "100%|████████████████████████████████████████████████████████████████████████████| 6085/6085 [00:00<00:00, 6917.32it/s]\n",
      "100%|████████████████████████████████████████████████████████████████████████████| 6085/6085 [00:00<00:00, 8985.29it/s]\n",
      "100%|█████████████████████████████████████████████████████████████████████████████| 6085/6085 [00:13<00:00, 453.71it/s]\n",
      "100%|████████████████████████████████████████████████████████████████████████████| 6085/6085 [00:01<00:00, 4423.06it/s]\n",
      "100%|████████████████████████████████████████████████████████████████████████████| 6085/6085 [00:00<00:00, 6901.71it/s]\n",
      "100%|████████████████████████████████████████████████████████████████████████████| 6085/6085 [00:00<00:00, 6624.62it/s]\n",
      "100%|████████████████████████████████████████████████████████████████████████████| 6085/6085 [00:00<00:00, 6855.40it/s]\n",
      "100%|████████████████████████████████████████████████████████████████████████████| 6085/6085 [00:00<00:00, 6980.87it/s]\n",
      "100%|████████████████████████████████████████████████████████████████████████████| 6085/6085 [00:00<00:00, 6779.02it/s]\n",
      "100%|████████████████████████████████████████████████████████████████████████████| 6085/6085 [00:00<00:00, 8959.70it/s]\n",
      "100%|█████████████████████████████████████████████████████████████████████████████| 6085/6085 [00:14<00:00, 408.47it/s]\n",
      "100%|████████████████████████████████████████████████████████████████████████████| 6085/6085 [00:01<00:00, 4395.66it/s]\n",
      "100%|████████████████████████████████████████████████████████████████████████████| 6085/6085 [00:00<00:00, 6956.78it/s]\n",
      "100%|████████████████████████████████████████████████████████████████████████████| 6085/6085 [00:00<00:00, 6933.03it/s]\n",
      "100%|████████████████████████████████████████████████████████████████████████████| 6085/6085 [00:00<00:00, 6996.67it/s]\n",
      "100%|████████████████████████████████████████████████████████████████████████████| 6085/6085 [00:00<00:00, 6909.54it/s]\n",
      "100%|████████████████████████████████████████████████████████████████████████████| 6085/6085 [00:00<00:00, 6870.57it/s]\n",
      "100%|████████████████████████████████████████████████████████████████████████████| 6085/6085 [00:00<00:00, 9133.31it/s]\n",
      "100%|█████████████████████████████████████████████████████████████████████████████| 6085/6085 [00:16<00:00, 369.24it/s]\n",
      "100%|████████████████████████████████████████████████████████████████████████████| 6085/6085 [00:01<00:00, 4348.69it/s]\n",
      "100%|████████████████████████████████████████████████████████████████████████████| 6085/6085 [00:00<00:00, 6798.48it/s]\n",
      "100%|████████████████████████████████████████████████████████████████████████████| 6085/6085 [00:00<00:00, 6960.64it/s]\n",
      "100%|████████████████████████████████████████████████████████████████████████████| 6085/6085 [00:00<00:00, 7021.07it/s]\n",
      "100%|████████████████████████████████████████████████████████████████████████████| 6085/6085 [00:00<00:00, 6855.41it/s]\n",
      "100%|████████████████████████████████████████████████████████████████████████████| 6085/6085 [00:00<00:00, 6940.94it/s]\n",
      "100%|████████████████████████████████████████████████████████████████████████████| 6085/6085 [00:00<00:00, 8778.38it/s]\n",
      "100%|█████████████████████████████████████████████████████████████████████████████| 6085/6085 [00:18<00:00, 336.99it/s]\n",
      "100%|████████████████████████████████████████████████████████████████████████████| 6085/6085 [00:01<00:00, 4421.12it/s]\n",
      "100%|████████████████████████████████████████████████████████████████████████████| 6085/6085 [00:00<00:00, 6988.95it/s]\n",
      "100%|████████████████████████████████████████████████████████████████████████████| 6085/6085 [00:00<00:00, 7037.02it/s]\n",
      "100%|████████████████████████████████████████████████████████████████████████████| 6085/6085 [00:00<00:00, 7020.84it/s]\n",
      "100%|████████████████████████████████████████████████████████████████████████████| 6085/6085 [00:00<00:00, 6988.68it/s]\n",
      "100%|████████████████████████████████████████████████████████████████████████████| 6085/6085 [00:00<00:00, 6893.87it/s]\n",
      "100%|████████████████████████████████████████████████████████████████████████████| 6085/6085 [00:00<00:00, 9202.18it/s]\n",
      "100%|█████████████████████████████████████████████████████████████████████████████| 6085/6085 [00:19<00:00, 311.53it/s]\n",
      "100%|████████████████████████████████████████████████████████████████████████████| 6085/6085 [00:01<00:00, 4411.93it/s]\n",
      "100%|████████████████████████████████████████████████████████████████████████████| 6085/6085 [00:00<00:00, 6883.16it/s]\n",
      "100%|████████████████████████████████████████████████████████████████████████████| 6085/6085 [00:00<00:00, 6964.69it/s]\n",
      "100%|████████████████████████████████████████████████████████████████████████████| 6085/6085 [00:00<00:00, 6996.88it/s]\n",
      "100%|████████████████████████████████████████████████████████████████████████████| 6085/6085 [00:00<00:00, 6855.19it/s]\n",
      "100%|████████████████████████████████████████████████████████████████████████████| 6085/6085 [00:00<00:00, 6809.25it/s]\n",
      "100%|████████████████████████████████████████████████████████████████████████████| 6085/6085 [00:00<00:00, 9300.79it/s]\n"
     ]
    }
   ],
   "source": [
    "MAP10UserVisit = {}\n",
    "for k in range(50, 120, 10):\n",
    "    similarity3 = train(userVisitMatrix)\n",
    "    user_item_prediction_score3 = predict(userVisitMatrix, k, similarity3, item_similarity_en= False)\n",
    "    user_item_predict3 = prediction(user_item_prediction_score3, 50, userVisitMatrix)\n",
    "    user_item_res3 = evaluate(user_item_predict3, rvalid_implicit)\n",
    "    \n",
    "    MAP10UserVisit[k] = user_item_res3.get('MAP@10')[0]"
   ]
  },
  {
   "cell_type": "code",
   "execution_count": 258,
   "metadata": {},
   "outputs": [
    {
     "data": {
      "text/plain": [
       "dict_values([0.0464, 0.0467, 0.0469, 0.0471, 0.0471, 0.0472, 0.0472])"
      ]
     },
     "execution_count": 258,
     "metadata": {},
     "output_type": "execute_result"
    }
   ],
   "source": [
    "MAP10UserVisit.values()"
   ]
  },
  {
   "cell_type": "markdown",
   "metadata": {},
   "source": [
    "## plot for best k "
   ]
  },
  {
   "cell_type": "code",
   "execution_count": 277,
   "metadata": {},
   "outputs": [
    {
     "data": {
      "image/png": "[encoded data removed]",
      "text/plain": [
       "<Figure size 432x288 with 1 Axes>"
      ]
     },
     "metadata": {
      "needs_background": "light"
     },
     "output_type": "display_data"
    }
   ],
   "source": [
    "listsUserRatingScaled = sorted(MAP10.items()) # sorted by key, return a list of tuples\n",
    "listsUserRatingImplicit = sorted(MAP10Implicit.items())\n",
    "listsUserRatingExplicitRaw = sorted(MAP10ExplicitRaw.items())\n",
    "listsUserRatingUserVisiting = sorted(MAP10UserVisit.items())\n",
    "\n",
    "x1, y1 = zip(*listsUserRatingScaled) # unpack a list of pairs into two tuples\n",
    "x2, y2 = zip(*listsUserRatingImplicit)\n",
    "x3, y3 = zip(*listsUserRatingExplicitRaw)\n",
    "x4, y4 = zip(*listsUserRatingUserVisiting)\n",
    "\n",
    "\n",
    "plt.plot( x1, y1, marker='o',color='green', linewidth=2, label=\"user_Rating_Scaled\")\n",
    "plt.plot( x2, y2, marker='o', color='blue', linewidth=2, label=\"user_Rating_Implicit\")\n",
    "plt.plot( x3, y3, marker='o', color='red', linewidth=2, label=\"user_Rating_Explicit\")\n",
    "plt.plot( x4, y4, marker='o', color='orange', linewidth=2, label=\"user_Visting\")\n",
    "plt.legend()\n",
    "plt.xlabel('K values')\n",
    "plt.ylabel('MAP@10')\n",
    "\n",
    "plt.show()"
   ]
  },
  {
   "cell_type": "markdown",
   "metadata": {},
   "source": [
    "## Item Base KNN using TF-IDF"
   ]
  },
  {
   "cell_type": "code",
   "execution_count": 48,
   "metadata": {},
   "outputs": [],
   "source": [
    "IK_MATRIX = X_cleaned_sparse"
   ]
  },
  {
   "cell_type": "code",
   "execution_count": 49,
   "metadata": {},
   "outputs": [
    {
     "name": "stderr",
     "output_type": "stream",
     "text": [
      "100%|█████████████████████████████████████████████████████████████████████████████| 4000/4000 [00:05<00:00, 760.44it/s]\n",
      "100%|████████████████████████████████████████████████████████████████████████████| 6088/6088 [00:01<00:00, 3433.24it/s]\n"
     ]
    }
   ],
   "source": [
    "I_I_similarity = train(IK_MATRIX)\n",
    "item_based_prediction_score4 = predict(rtrain, 10, I_I_similarity, item_similarity_en= True)\n",
    "#for each restuarant top50 users \n",
    "item_based_predict4 = prediction(item_based_prediction_score4, 50, rtrain)"
   ]
  },
  {
   "cell_type": "code",
   "execution_count": 51,
   "metadata": {},
   "outputs": [
    {
     "name": "stderr",
     "output_type": "stream",
     "text": [
      "100%|████████████████████████████████████████████████████████████████████████████| 6088/6088 [00:00<00:00, 6455.91it/s]\n",
      "100%|████████████████████████████████████████████████████████████████████████████| 6088/6088 [00:00<00:00, 6746.07it/s]\n",
      "100%|████████████████████████████████████████████████████████████████████████████| 6088/6088 [00:00<00:00, 6796.31it/s]\n",
      "100%|████████████████████████████████████████████████████████████████████████████| 6088/6088 [00:00<00:00, 6843.26it/s]\n",
      "100%|████████████████████████████████████████████████████████████████████████████| 6088/6088 [00:00<00:00, 6664.89it/s]\n",
      "100%|████████████████████████████████████████████████████████████████████████████| 6088/6088 [00:00<00:00, 6098.03it/s]\n"
     ]
    }
   ],
   "source": [
    "item_based_res_TFIDF = evaluate(item_based_predict4, rvalid)"
   ]
  },
  {
   "cell_type": "code",
   "execution_count": 52,
   "metadata": {},
   "outputs": [
    {
     "data": {
      "text/plain": [
       "{'MAP@5': (0.025720090045571842, 0.0023778194577824324),\n",
       " 'Recall@5': (0.016655483869688705, 0.0017397463525098502),\n",
       " 'Precision@5': (0.022467468291879424, 0.0017674622991041998),\n",
       " 'MAP@10': (0.022609687481207827, 0.0017360525467602446),\n",
       " 'Recall@10': (0.027194281753721176, 0.002222645640702759),\n",
       " 'Precision@10': (0.018283643551309504, 0.0011753292576658),\n",
       " 'MAP@15': (0.020781676396896296, 0.00142907310519044),\n",
       " 'Recall@15': (0.036517627228885796, 0.0025924958256981607),\n",
       " 'Precision@15': (0.0165266567836161, 0.0009373298279886963),\n",
       " 'MAP@20': (0.019509841866004404, 0.0012405775324402586),\n",
       " 'Recall@20': (0.044301527297699116, 0.002866338517957658),\n",
       " 'Precision@20': (0.015112831493987811, 0.0007917345810550951),\n",
       " 'MAP@50': (0.015555777760667203, 0.0007797415508435789),\n",
       " 'Recall@50': (0.08003652685068291, 0.003781329780486565),\n",
       " 'Precision@50': (0.011391862955032118, 0.0004649805491420753),\n",
       " 'R-Precision': (0.019076629311042183, 0.0015214914170442837),\n",
       " 'NDCG': (0.04568113642606309, 0.0021907588988182157)}"
      ]
     },
     "execution_count": 52,
     "metadata": {},
     "output_type": "execute_result"
    }
   ],
   "source": [
    "item_based_res_TFIDF"
   ]
  },
  {
   "cell_type": "markdown",
   "metadata": {},
   "source": [
    "## Try combining different similarity scores"
   ]
  },
  {
   "cell_type": "code",
   "execution_count": 331,
   "metadata": {},
   "outputs": [],
   "source": [
    "#Get a UI matrix if it's not item_similarity based or else IU\n",
    "def predictUU(matrix_train, k, similarity1=None, similarity2=None, similarity3=None, similarity4=None, chooseWeigthMethod = 'max', item_similarity_en = False):\n",
    "    prediction_scores = []\n",
    "    #Convert from list to ndarray, add an axis\n",
    "    #chooseWeigthMethod = 'max'\n",
    "    if isinstance(chooseWeigthMethod, list):\n",
    "        chooseWeigthMethod = np.array(chooseWeigthMethod)[:, np.newaxis]\n",
    "   \n",
    "    \"make sure that when passing in chooseWeightMethod, the weight must be aligned with similarity metrices, even if set to None\"\n",
    "    \"They should add to 1 as well\"\n",
    "    #inverse to IU matrix\n",
    "    if item_similarity_en:\n",
    "        matrix_train = matrix_train.transpose()\n",
    "        \n",
    "    #for each user or item, depends UI or IU \n",
    "    for user_index in tqdm(range(matrix_train.shape[0])):\n",
    "    #for user_index in tqdm(range(10,20)):\n",
    "        \n",
    "        numberSimilarMatrix = 0\n",
    "        # Get user u's prediction scores for all items \n",
    "        #Get prediction/similarity score for each user 1*num or user or num of items\n",
    "        if similarity1 is not None:\n",
    "            vector_u1 = similarity1[user_index]\n",
    "            numberSimilarMatrix += 1\n",
    "        else:\n",
    "            vector_u1 = [0]*matrix_train.shape[0]\n",
    "            \n",
    "        if similarity2 is not None:\n",
    "            vector_u2 = similarity2[user_index]\n",
    "            numberSimilarMatrix += 1\n",
    "        else:\n",
    "            vector_u2 = [0]*len(vector_u1)\n",
    "            \n",
    "        if similarity3 is not None:\n",
    "            vector_u3 = similarity3[user_index]\n",
    "            numberSimilarMatrix += 1\n",
    "        else:\n",
    "            vector_u3 = [0]*len(vector_u1)\n",
    "            \n",
    "        if similarity4 is not None:\n",
    "            vector_u4 = similarity4[user_index]\n",
    "            numberSimilarMatrix += 1\n",
    "        else:\n",
    "            vector_u4 = [0]*len(vector_u1)\n",
    "        \n",
    "        #Temperary vector that stacks all 4 vectors together\n",
    "        tempVector = np.array([vector_u1,vector_u2,vector_u3,vector_u4])\n",
    "        \n",
    "        if chooseWeigthMethod is None:\n",
    "            #Get the similarity score from the first similarity matrix anyways \n",
    "            vector_u = vector_u1.copy()\n",
    "            \n",
    "        #If we are choosing the max, min, avg or similarity scores\n",
    "        if chooseWeigthMethod is not None:\n",
    "            if chooseWeigthMethod == 'max':\n",
    "                vector_u = tempVector.max(axis=0)\n",
    "            elif chooseWeigthMethod == 'min':\n",
    "                vector_u = tempVector.min(axis=0)\n",
    "            elif chooseWeigthMethod == 'average':\n",
    "                vector_u = tempVector.mean(axis=0)\n",
    "            elif isinstance(chooseWeigthMethod, np.ndarray):\n",
    "                #Validate that number of weights passed in equals number of matrices\n",
    "                #assert(len(chooseWeigthMethod) == numberSimilarMatrix)\n",
    "                #Get the new combined similarity vector \n",
    "                weighted_u = tempVector * chooseWeigthMethod\n",
    "                vector_u =np.sum(weighted_u, axis=0)\n",
    "                #print((vector_u == vector_u4).sum())\n",
    "                \n",
    "        similar_users = vector_u.argsort()[::-1][1:k+1]\n",
    "        \n",
    "        # Get neighbors similarity weights and ratings\n",
    "        #similar_users_weights = similarity1[user_index][similar_users]\n",
    "        similar_users_weights = vector_u[similar_users]\n",
    "        \n",
    "        #similar_users_weights_sum = np.sum(similar_users_weights)\n",
    "        #print(similar_users_weights.shape)\n",
    "        #shape: num of res * k\n",
    "        similar_users_ratings = matrix_train[similar_users].toarray()\n",
    "              \n",
    "        prediction_scores_u = similar_users_ratings * similar_users_weights[:, np.newaxis]\n",
    "        #print(prediction_scores_u)\n",
    "        \n",
    "        prediction_scores.append(np.sum(prediction_scores_u, axis=0))\n",
    "        \n",
    "    res = np.array(prediction_scores)\n",
    "    \n",
    "    if item_similarity_en:\n",
    "        res = res.transpose()\n",
    "    return res\n",
    "    #return vector_u"
   ]
  },
  {
   "cell_type": "code",
   "execution_count": 256,
   "metadata": {
    "scrolled": false
   },
   "outputs": [
    {
     "name": "stderr",
     "output_type": "stream",
     "text": [
      "  0%|                                                                                         | 0/6085 [00:00<?, ?it/s]C:\\ProgramData\\Anaconda3\\lib\\site-packages\\ipykernel_launcher.py:58: FutureWarning: elementwise comparison failed; returning scalar instead, but in the future will perform elementwise comparison\n",
      "C:\\ProgramData\\Anaconda3\\lib\\site-packages\\ipykernel_launcher.py:60: FutureWarning: elementwise comparison failed; returning scalar instead, but in the future will perform elementwise comparison\n",
      "C:\\ProgramData\\Anaconda3\\lib\\site-packages\\ipykernel_launcher.py:62: FutureWarning: elementwise comparison failed; returning scalar instead, but in the future will perform elementwise comparison\n",
      "100%|█████████████████████████████████████████████████████████████████████████████| 6085/6085 [00:16<00:00, 379.99it/s]\n",
      "100%|████████████████████████████████████████████████████████████████████████████| 6085/6085 [00:01<00:00, 4405.27it/s]\n",
      "100%|████████████████████████████████████████████████████████████████████████████| 6085/6085 [00:00<00:00, 6996.63it/s]\n",
      "100%|████████████████████████████████████████████████████████████████████████████| 6085/6085 [00:00<00:00, 6925.20it/s]\n",
      "100%|████████████████████████████████████████████████████████████████████████████| 6085/6085 [00:00<00:00, 6901.97it/s]\n",
      "100%|████████████████████████████████████████████████████████████████████████████| 6085/6085 [00:00<00:00, 6925.20it/s]\n",
      "100%|████████████████████████████████████████████████████████████████████████████| 6085/6085 [00:00<00:00, 6832.15it/s]\n",
      "100%|████████████████████████████████████████████████████████████████████████████| 6085/6085 [00:00<00:00, 9343.10it/s]\n"
     ]
    }
   ],
   "source": [
    "#UU similarity, using cosine similarity\n",
    "similarity1 = train(rtrain)\n",
    "similarity2 = train(rtrain_userAvg)\n",
    "#similarity2 = None\n",
    "similarity3 =train(userVisitMatrix)\n",
    "#similarity3 = None\n",
    "similarity4 = train(rtrain_implicit)\n",
    "#similarity4 = None\n",
    "#vectorU = predictUU(rtrain_userAvg, 90, similarity1, similarity2, similarity3, weight1, weight2, weight3, item_similarity_en= False)\n",
    "user_item_prediction_score1 = predictUU(rtrain, 90, similarity1, similarity2, similarity3, similarity4, chooseWeigthMethod = [0,0,0,1], item_similarity_en= False)\n",
    "user_item_predict1 = prediction(user_item_prediction_score1, 50, rtrain)\n",
    "user_item_res1 = evaluate(user_item_predict1, rvalid)"
   ]
  },
  {
   "cell_type": "markdown",
   "metadata": {},
   "source": [
    "## Iterations for different combination "
   ]
  },
  {
   "cell_type": "code",
   "execution_count": 335,
   "metadata": {},
   "outputs": [],
   "source": [
    "#UU similarity, using cosine similarity\n",
    "similarity1 = train(rtrain)\n",
    "similarity2 = train(rtrain_userAvg)\n",
    "#similarity2 = None\n",
    "similarity3 =train(userVisitMatrix)\n",
    "#similarity3 = None\n",
    "similarity4 = train(rtrain_implicit)\n",
    "\n",
    "predictionMatrixDict = {'prediction1':rtrain, \n",
    "                        'prediction2': rtrain_userAvg, \n",
    "                        'prediction3:': userVisitMatrix, \n",
    "                        'prediction4': rtrain_implicit}\n",
    "\n",
    "SimilarityMatrixIndex = {1: [similarity1, None],\n",
    "                         2: [similarity2, None],\n",
    "                         3: [similarity3, None],\n",
    "                         4: [similarity4, None]} \n",
    "combinationDict = {\n",
    "    'comb1': [1, 2, 3, 4],\n",
    "    'comb2': [1, 2, 3],\n",
    "    'comb3': [1, 2, 4],\n",
    "    'comb4': [2, 3, 4],\n",
    "    'comb5': [1, 3, 4],\n",
    "    'comb6': [1, 2],\n",
    "    'comb7': [1, 3],\n",
    "    'comb8': [1, 4],\n",
    "    'comb9': [2, 3],\n",
    "    'comb10': [2, 4],\n",
    "    'combe11':[3,4]\n",
    "    }"
   ]
  },
  {
   "cell_type": "markdown",
   "metadata": {},
   "source": [
    "### Max"
   ]
  },
  {
   "cell_type": "markdown",
   "metadata": {},
   "source": [
    "#### Prediction 1: rtrain; explicit raw rating\n"
   ]
  },
  {
   "cell_type": "code",
   "execution_count": 334,
   "metadata": {
    "scrolled": true
   },
   "outputs": [
    {
     "name": "stderr",
     "output_type": "stream",
     "text": [
      "100%|█████████████████████████████████████████████████████████████████████████████| 6085/6085 [00:18<00:00, 327.92it/s]\n",
      "100%|████████████████████████████████████████████████████████████████████████████| 6085/6085 [00:01<00:00, 4395.71it/s]\n",
      "100%|████████████████████████████████████████████████████████████████████████████| 6085/6085 [00:00<00:00, 6870.74it/s]\n",
      "100%|████████████████████████████████████████████████████████████████████████████| 6085/6085 [00:00<00:00, 6901.79it/s]\n",
      "100%|████████████████████████████████████████████████████████████████████████████| 6085/6085 [00:00<00:00, 6878.72it/s]\n",
      "100%|████████████████████████████████████████████████████████████████████████████| 6085/6085 [00:00<00:00, 6764.08it/s]\n",
      "100%|████████████████████████████████████████████████████████████████████████████| 6085/6085 [00:00<00:00, 6704.66it/s]\n",
      "100%|████████████████████████████████████████████████████████████████████████████| 6085/6085 [00:00<00:00, 8997.70it/s]\n",
      "100%|█████████████████████████████████████████████████████████████████████████████| 6085/6085 [00:17<00:00, 350.32it/s]\n",
      "100%|████████████████████████████████████████████████████████████████████████████| 6085/6085 [00:01<00:00, 4345.75it/s]\n",
      "100%|████████████████████████████████████████████████████████████████████████████| 6085/6085 [00:00<00:00, 7045.26it/s]\n",
      "100%|████████████████████████████████████████████████████████████████████████████| 6085/6085 [00:00<00:00, 6886.53it/s]\n",
      "100%|████████████████████████████████████████████████████████████████████████████| 6085/6085 [00:00<00:00, 6933.34it/s]\n",
      "100%|████████████████████████████████████████████████████████████████████████████| 6085/6085 [00:00<00:00, 6996.82it/s]\n",
      "100%|████████████████████████████████████████████████████████████████████████████| 6085/6085 [00:00<00:00, 6878.47it/s]\n",
      "100%|████████████████████████████████████████████████████████████████████████████| 6085/6085 [00:00<00:00, 8728.12it/s]\n",
      "100%|█████████████████████████████████████████████████████████████████████████████| 6085/6085 [00:17<00:00, 348.76it/s]\n",
      "100%|████████████████████████████████████████████████████████████████████████████| 6085/6085 [00:01<00:00, 4353.50it/s]\n",
      "100%|████████████████████████████████████████████████████████████████████████████| 6085/6085 [00:00<00:00, 7004.82it/s]\n",
      "100%|████████████████████████████████████████████████████████████████████████████| 6085/6085 [00:00<00:00, 6909.87it/s]\n",
      "100%|████████████████████████████████████████████████████████████████████████████| 6085/6085 [00:00<00:00, 6786.84it/s]\n",
      "100%|████████████████████████████████████████████████████████████████████████████| 6085/6085 [00:00<00:00, 7004.78it/s]\n",
      "100%|████████████████████████████████████████████████████████████████████████████| 6085/6085 [00:00<00:00, 6789.75it/s]\n",
      "100%|████████████████████████████████████████████████████████████████████████████| 6085/6085 [00:00<00:00, 9066.00it/s]\n",
      "100%|█████████████████████████████████████████████████████████████████████████████| 6085/6085 [00:17<00:00, 349.01it/s]\n",
      "100%|████████████████████████████████████████████████████████████████████████████| 6085/6085 [00:01<00:00, 4411.71it/s]\n",
      "100%|████████████████████████████████████████████████████████████████████████████| 6085/6085 [00:00<00:00, 7021.24it/s]\n",
      "100%|████████████████████████████████████████████████████████████████████████████| 6085/6085 [00:00<00:00, 7053.41it/s]\n",
      "100%|████████████████████████████████████████████████████████████████████████████| 6085/6085 [00:00<00:00, 6964.79it/s]\n",
      "100%|████████████████████████████████████████████████████████████████████████████| 6085/6085 [00:00<00:00, 7012.87it/s]\n",
      "100%|████████████████████████████████████████████████████████████████████████████| 6085/6085 [00:00<00:00, 6863.23it/s]\n",
      "100%|████████████████████████████████████████████████████████████████████████████| 6085/6085 [00:00<00:00, 9092.61it/s]\n",
      "100%|█████████████████████████████████████████████████████████████████████████████| 6085/6085 [00:17<00:00, 348.49it/s]\n",
      "100%|████████████████████████████████████████████████████████████████████████████| 6085/6085 [00:01<00:00, 4395.84it/s]\n",
      "100%|████████████████████████████████████████████████████████████████████████████| 6085/6085 [00:00<00:00, 6997.06it/s]\n",
      "100%|████████████████████████████████████████████████████████████████████████████| 6085/6085 [00:00<00:00, 6807.81it/s]\n",
      "100%|████████████████████████████████████████████████████████████████████████████| 6085/6085 [00:00<00:00, 6878.72it/s]\n",
      "100%|████████████████████████████████████████████████████████████████████████████| 6085/6085 [00:00<00:00, 6972.80it/s]\n",
      "100%|████████████████████████████████████████████████████████████████████████████| 6085/6085 [00:00<00:00, 6901.81it/s]\n",
      "100%|████████████████████████████████████████████████████████████████████████████| 6085/6085 [00:00<00:00, 9161.33it/s]\n",
      "100%|█████████████████████████████████████████████████████████████████████████████| 6085/6085 [00:20<00:00, 301.71it/s]\n",
      "100%|████████████████████████████████████████████████████████████████████████████| 6085/6085 [00:01<00:00, 4339.56it/s]\n",
      "100%|████████████████████████████████████████████████████████████████████████████| 6085/6085 [00:00<00:00, 6997.04it/s]\n",
      "100%|████████████████████████████████████████████████████████████████████████████| 6085/6085 [00:00<00:00, 6902.07it/s]\n",
      "100%|████████████████████████████████████████████████████████████████████████████| 6085/6085 [00:00<00:00, 6997.05it/s]\n",
      "100%|████████████████████████████████████████████████████████████████████████████| 6085/6085 [00:00<00:00, 6926.94it/s]\n",
      "100%|████████████████████████████████████████████████████████████████████████████| 6085/6085 [00:00<00:00, 6852.02it/s]\n",
      "100%|████████████████████████████████████████████████████████████████████████████| 6085/6085 [00:00<00:00, 8852.07it/s]\n",
      "100%|█████████████████████████████████████████████████████████████████████████████| 6085/6085 [00:20<00:00, 299.77it/s]\n",
      "100%|████████████████████████████████████████████████████████████████████████████| 6085/6085 [00:01<00:00, 4380.16it/s]\n",
      "100%|████████████████████████████████████████████████████████████████████████████| 6085/6085 [00:00<00:00, 7012.88it/s]\n",
      "100%|████████████████████████████████████████████████████████████████████████████| 6085/6085 [00:00<00:00, 7053.40it/s]\n",
      "100%|████████████████████████████████████████████████████████████████████████████| 6085/6085 [00:00<00:00, 6996.78it/s]\n",
      "100%|████████████████████████████████████████████████████████████████████████████| 6085/6085 [00:00<00:00, 7012.86it/s]\n",
      "100%|████████████████████████████████████████████████████████████████████████████| 6085/6085 [00:00<00:00, 6894.10it/s]\n",
      "100%|████████████████████████████████████████████████████████████████████████████| 6085/6085 [00:00<00:00, 9216.15it/s]\n",
      "100%|█████████████████████████████████████████████████████████████████████████████| 6085/6085 [00:20<00:00, 298.92it/s]\n",
      "100%|████████████████████████████████████████████████████████████████████████████| 6085/6085 [00:01<00:00, 4437.31it/s]\n",
      "100%|████████████████████████████████████████████████████████████████████████████| 6085/6085 [00:00<00:00, 6980.75it/s]\n",
      "100%|████████████████████████████████████████████████████████████████████████████| 6085/6085 [00:00<00:00, 7102.66it/s]\n",
      "100%|████████████████████████████████████████████████████████████████████████████| 6085/6085 [00:00<00:00, 6917.44it/s]\n",
      "100%|████████████████████████████████████████████████████████████████████████████| 6085/6085 [00:00<00:00, 6996.78it/s]\n",
      "100%|████████████████████████████████████████████████████████████████████████████| 6085/6085 [00:00<00:00, 6957.10it/s]\n",
      "100%|████████████████████████████████████████████████████████████████████████████| 6085/6085 [00:00<00:00, 9174.67it/s]\n",
      "100%|█████████████████████████████████████████████████████████████████████████████| 6085/6085 [00:20<00:00, 294.72it/s]\n",
      "100%|████████████████████████████████████████████████████████████████████████████| 6085/6085 [00:01<00:00, 4354.94it/s]\n",
      "100%|████████████████████████████████████████████████████████████████████████████| 6085/6085 [00:00<00:00, 7053.46it/s]\n",
      "100%|████████████████████████████████████████████████████████████████████████████| 6085/6085 [00:00<00:00, 7152.64it/s]\n"
     ]
    },
    {
     "name": "stderr",
     "output_type": "stream",
     "text": [
      "100%|████████████████████████████████████████████████████████████████████████████| 6085/6085 [00:00<00:00, 7013.13it/s]\n",
      "100%|████████████████████████████████████████████████████████████████████████████| 6085/6085 [00:00<00:00, 6971.82it/s]\n",
      "100%|████████████████████████████████████████████████████████████████████████████| 6085/6085 [00:00<00:00, 6839.91it/s]\n",
      "100%|████████████████████████████████████████████████████████████████████████████| 6085/6085 [00:00<00:00, 8932.90it/s]\n",
      "100%|█████████████████████████████████████████████████████████████████████████████| 6085/6085 [00:19<00:00, 308.98it/s]\n",
      "100%|████████████████████████████████████████████████████████████████████████████| 6085/6085 [00:01<00:00, 4370.54it/s]\n",
      "100%|████████████████████████████████████████████████████████████████████████████| 6085/6085 [00:00<00:00, 6847.59it/s]\n",
      "100%|████████████████████████████████████████████████████████████████████████████| 6085/6085 [00:00<00:00, 7013.14it/s]\n",
      "100%|████████████████████████████████████████████████████████████████████████████| 6085/6085 [00:00<00:00, 6980.76it/s]\n",
      "100%|████████████████████████████████████████████████████████████████████████████| 6085/6085 [00:00<00:00, 6886.21it/s]\n",
      "100%|████████████████████████████████████████████████████████████████████████████| 6085/6085 [00:00<00:00, 6863.01it/s]\n",
      "100%|████████████████████████████████████████████████████████████████████████████| 6085/6085 [00:00<00:00, 8803.91it/s]\n",
      "100%|█████████████████████████████████████████████████████████████████████████████| 6085/6085 [00:19<00:00, 311.60it/s]\n",
      "100%|████████████████████████████████████████████████████████████████████████████| 6085/6085 [00:01<00:00, 4370.55it/s]\n",
      "100%|████████████████████████████████████████████████████████████████████████████| 6085/6085 [00:00<00:00, 6925.34it/s]\n",
      "100%|████████████████████████████████████████████████████████████████████████████| 6085/6085 [00:00<00:00, 6941.06it/s]\n",
      "100%|████████████████████████████████████████████████████████████████████████████| 6085/6085 [00:00<00:00, 6855.31it/s]\n",
      "100%|████████████████████████████████████████████████████████████████████████████| 6085/6085 [00:00<00:00, 6839.90it/s]\n",
      "100%|████████████████████████████████████████████████████████████████████████████| 6085/6085 [00:00<00:00, 6801.91it/s]\n",
      "100%|████████████████████████████████████████████████████████████████████████████| 6085/6085 [00:00<00:00, 8728.36it/s]\n"
     ]
    }
   ],
   "source": [
    "prediction1 = {}\n",
    "for combination, indexList in combinationDict.items():\n",
    "    #Loop through the similarity matrices \n",
    "    for index in SimilarityMatrixIndex.keys():\n",
    "        if index in indexList:\n",
    "            if index == 1: \n",
    "                similarityOne = SimilarityMatrixIndex[1][0]\n",
    "            elif index == 2:\n",
    "                similarityTwo = SimilarityMatrixIndex[2][0]\n",
    "            elif index == 3:\n",
    "                similarityThree = SimilarityMatrixIndex[3][0]\n",
    "            elif index == 4:\n",
    "                similarityFour = SimilarityMatrixIndex[4][0]\n",
    "        else:\n",
    "            if index == 1: \n",
    "                similarityOne = SimilarityMatrixIndex[1][1]\n",
    "            elif index == 2:\n",
    "                similarityTwo = SimilarityMatrixIndex[2][1]\n",
    "            elif index == 3:\n",
    "                similarityThree = SimilarityMatrixIndex[3][1]\n",
    "            elif index == 4:\n",
    "                similarityFour = SimilarityMatrixIndex[4][1]\n",
    "                 \n",
    "    user_item_prediction_score = predictUU(rtrain, 90, similarityOne, similarityTwo, similarityThree, similarityFour, chooseWeigthMethod='max', item_similarity_en= False)\n",
    "    user_item_predict = prediction(user_item_prediction_score, 50, rtrain)\n",
    "    user_item_res = evaluate(user_item_predict, rvalid)\n",
    "            \n",
    "\n",
    "    prediction1[combination] = user_item_res.get('MAP@10')[0]"
   ]
  },
  {
   "cell_type": "markdown",
   "metadata": {},
   "source": [
    "#### Prediction 2: explicit user rating, with user average"
   ]
  },
  {
   "cell_type": "code",
   "execution_count": 356,
   "metadata": {
    "scrolled": true
   },
   "outputs": [
    {
     "name": "stderr",
     "output_type": "stream",
     "text": [
      "100%|█████████████████████████████████████████████████████████████████████████████| 6085/6085 [00:18<00:00, 323.89it/s]\n",
      "100%|████████████████████████████████████████████████████████████████████████████| 6085/6085 [00:01<00:00, 4389.52it/s]\n",
      "100%|████████████████████████████████████████████████████████████████████████████| 6085/6085 [00:00<00:00, 7254.71it/s]\n",
      "100%|████████████████████████████████████████████████████████████████████████████| 6085/6085 [00:00<00:00, 7086.19it/s]\n",
      "100%|████████████████████████████████████████████████████████████████████████████| 6085/6085 [00:00<00:00, 7127.81it/s]\n",
      "100%|████████████████████████████████████████████████████████████████████████████| 6085/6085 [00:00<00:00, 6941.08it/s]\n",
      "100%|████████████████████████████████████████████████████████████████████████████| 6085/6085 [00:00<00:00, 6878.69it/s]\n",
      "100%|████████████████████████████████████████████████████████████████████████████| 6085/6085 [00:00<00:00, 9079.10it/s]\n",
      "100%|█████████████████████████████████████████████████████████████████████████████| 6085/6085 [00:17<00:00, 343.05it/s]\n",
      "100%|████████████████████████████████████████████████████████████████████████████| 6085/6085 [00:01<00:00, 4408.43it/s]\n",
      "100%|████████████████████████████████████████████████████████████████████████████| 6085/6085 [00:00<00:00, 7037.11it/s]\n",
      "100%|████████████████████████████████████████████████████████████████████████████| 6085/6085 [00:00<00:00, 7004.84it/s]\n",
      "100%|████████████████████████████████████████████████████████████████████████████| 6085/6085 [00:00<00:00, 6980.79it/s]\n",
      "100%|████████████████████████████████████████████████████████████████████████████| 6085/6085 [00:00<00:00, 6901.83it/s]\n",
      "100%|████████████████████████████████████████████████████████████████████████████| 6085/6085 [00:00<00:00, 6933.18it/s]\n",
      "100%|████████████████████████████████████████████████████████████████████████████| 6085/6085 [00:00<00:00, 8829.41it/s]\n",
      "100%|█████████████████████████████████████████████████████████████████████████████| 6085/6085 [00:17<00:00, 344.54it/s]\n",
      "100%|████████████████████████████████████████████████████████████████████████████| 6085/6085 [00:01<00:00, 4460.09it/s]\n",
      "100%|████████████████████████████████████████████████████████████████████████████| 6085/6085 [00:00<00:00, 6909.64it/s]\n",
      "100%|████████████████████████████████████████████████████████████████████████████| 6085/6085 [00:00<00:00, 7086.19it/s]\n",
      "100%|████████████████████████████████████████████████████████████████████████████| 6085/6085 [00:00<00:00, 7078.20it/s]\n",
      "100%|████████████████████████████████████████████████████████████████████████████| 6085/6085 [00:00<00:00, 6940.97it/s]\n",
      "100%|████████████████████████████████████████████████████████████████████████████| 6085/6085 [00:00<00:00, 6949.21it/s]\n",
      "100%|████████████████████████████████████████████████████████████████████████████| 6085/6085 [00:00<00:00, 9188.41it/s]\n",
      "100%|█████████████████████████████████████████████████████████████████████████████| 6085/6085 [00:17<00:00, 340.42it/s]\n",
      "100%|████████████████████████████████████████████████████████████████████████████| 6085/6085 [00:01<00:00, 4437.28it/s]\n",
      "100%|████████████████████████████████████████████████████████████████████████████| 6085/6085 [00:00<00:00, 7094.43it/s]\n",
      "100%|████████████████████████████████████████████████████████████████████████████| 6085/6085 [00:00<00:00, 7136.06it/s]\n",
      "100%|████████████████████████████████████████████████████████████████████████████| 6085/6085 [00:00<00:00, 6933.19it/s]\n",
      "100%|████████████████████████████████████████████████████████████████████████████| 6085/6085 [00:00<00:00, 6847.61it/s]\n",
      "100%|████████████████████████████████████████████████████████████████████████████| 6085/6085 [00:00<00:00, 6719.34it/s]\n",
      "100%|████████████████████████████████████████████████████████████████████████████| 6085/6085 [00:00<00:00, 8803.98it/s]\n",
      "100%|█████████████████████████████████████████████████████████████████████████████| 6085/6085 [00:17<00:00, 342.43it/s]\n",
      "100%|████████████████████████████████████████████████████████████████████████████| 6085/6085 [00:01<00:00, 4358.12it/s]\n",
      "100%|████████████████████████████████████████████████████████████████████████████| 6085/6085 [00:00<00:00, 7119.21it/s]\n",
      "100%|████████████████████████████████████████████████████████████████████████████| 6085/6085 [00:00<00:00, 7220.36it/s]\n",
      "100%|████████████████████████████████████████████████████████████████████████████| 6085/6085 [00:00<00:00, 7177.89it/s]\n",
      "100%|████████████████████████████████████████████████████████████████████████████| 6085/6085 [00:00<00:00, 7186.34it/s]\n",
      "100%|████████████████████████████████████████████████████████████████████████████| 6085/6085 [00:00<00:00, 6964.80it/s]\n",
      "100%|████████████████████████████████████████████████████████████████████████████| 6085/6085 [00:00<00:00, 9133.43it/s]\n",
      "100%|█████████████████████████████████████████████████████████████████████████████| 6085/6085 [00:20<00:00, 303.17it/s]\n",
      "100%|████████████████████████████████████████████████████████████████████████████| 6085/6085 [00:01<00:00, 4395.74it/s]\n",
      "100%|████████████████████████████████████████████████████████████████████████████| 6085/6085 [00:00<00:00, 7161.00it/s]\n",
      "100%|████████████████████████████████████████████████████████████████████████████| 6085/6085 [00:00<00:00, 7102.64it/s]\n",
      "100%|████████████████████████████████████████████████████████████████████████████| 6085/6085 [00:00<00:00, 7094.43it/s]\n",
      "100%|████████████████████████████████████████████████████████████████████████████| 6085/6085 [00:00<00:00, 7021.18it/s]\n",
      "100%|████████████████████████████████████████████████████████████████████████████| 6085/6085 [00:00<00:00, 7029.01it/s]\n",
      "100%|████████████████████████████████████████████████████████████████████████████| 6085/6085 [00:00<00:00, 9230.12it/s]\n",
      "100%|█████████████████████████████████████████████████████████████████████████████| 6085/6085 [00:20<00:00, 300.76it/s]\n",
      "100%|████████████████████████████████████████████████████████████████████████████| 6085/6085 [00:01<00:00, 4402.17it/s]\n",
      "100%|████████████████████████████████████████████████████████████████████████████| 6085/6085 [00:00<00:00, 7254.94it/s]\n",
      "100%|████████████████████████████████████████████████████████████████████████████| 6085/6085 [00:00<00:00, 7102.92it/s]\n",
      "100%|████████████████████████████████████████████████████████████████████████████| 6085/6085 [00:00<00:00, 7078.20it/s]\n",
      "100%|████████████████████████████████████████████████████████████████████████████| 6085/6085 [00:00<00:00, 7061.82it/s]\n",
      "100%|████████████████████████████████████████████████████████████████████████████| 6085/6085 [00:00<00:00, 6989.01it/s]\n",
      "100%|████████████████████████████████████████████████████████████████████████████| 6085/6085 [00:00<00:00, 9161.28it/s]\n",
      "100%|█████████████████████████████████████████████████████████████████████████████| 6085/6085 [00:20<00:00, 301.91it/s]\n",
      "100%|████████████████████████████████████████████████████████████████████████████| 6085/6085 [00:01<00:00, 4460.08it/s]\n",
      "100%|████████████████████████████████████████████████████████████████████████████| 6085/6085 [00:00<00:00, 7078.27it/s]\n",
      "100%|████████████████████████████████████████████████████████████████████████████| 6085/6085 [00:00<00:00, 7061.58it/s]\n",
      "100%|████████████████████████████████████████████████████████████████████████████| 6085/6085 [00:00<00:00, 7069.78it/s]\n",
      "100%|████████████████████████████████████████████████████████████████████████████| 6085/6085 [00:00<00:00, 6964.84it/s]\n",
      "100%|████████████████████████████████████████████████████████████████████████████| 6085/6085 [00:00<00:00, 7013.12it/s]\n",
      "100%|████████████████████████████████████████████████████████████████████████████| 6085/6085 [00:00<00:00, 9106.13it/s]\n",
      "100%|█████████████████████████████████████████████████████████████████████████████| 6085/6085 [00:19<00:00, 305.60it/s]\n",
      "100%|████████████████████████████████████████████████████████████████████████████| 6085/6085 [00:01<00:00, 4409.92it/s]\n",
      "100%|████████████████████████████████████████████████████████████████████████████| 6085/6085 [00:00<00:00, 7077.86it/s]\n",
      "100%|████████████████████████████████████████████████████████████████████████████| 6085/6085 [00:00<00:00, 7086.15it/s]\n"
     ]
    },
    {
     "name": "stderr",
     "output_type": "stream",
     "text": [
      "100%|████████████████████████████████████████████████████████████████████████████| 6085/6085 [00:00<00:00, 7086.39it/s]\n",
      "100%|████████████████████████████████████████████████████████████████████████████| 6085/6085 [00:00<00:00, 7144.11it/s]\n",
      "100%|████████████████████████████████████████████████████████████████████████████| 6085/6085 [00:00<00:00, 7013.07it/s]\n",
      "100%|████████████████████████████████████████████████████████████████████████████| 6085/6085 [00:00<00:00, 9202.35it/s]\n",
      "100%|█████████████████████████████████████████████████████████████████████████████| 6085/6085 [00:19<00:00, 306.22it/s]\n",
      "100%|████████████████████████████████████████████████████████████████████████████| 6085/6085 [00:01<00:00, 4430.98it/s]\n",
      "100%|████████████████████████████████████████████████████████████████████████████| 6085/6085 [00:00<00:00, 7135.90it/s]\n",
      "100%|████████████████████████████████████████████████████████████████████████████| 6085/6085 [00:00<00:00, 7161.04it/s]\n",
      "100%|████████████████████████████████████████████████████████████████████████████| 6085/6085 [00:00<00:00, 7152.65it/s]\n",
      "100%|████████████████████████████████████████████████████████████████████████████| 6085/6085 [00:00<00:00, 7212.08it/s]\n",
      "100%|████████████████████████████████████████████████████████████████████████████| 6085/6085 [00:00<00:00, 7004.80it/s]\n",
      "100%|████████████████████████████████████████████████████████████████████████████| 6085/6085 [00:00<00:00, 9286.70it/s]\n",
      "100%|█████████████████████████████████████████████████████████████████████████████| 6085/6085 [00:19<00:00, 305.33it/s]\n",
      "100%|████████████████████████████████████████████████████████████████████████████| 6085/6085 [00:01<00:00, 4416.17it/s]\n",
      "100%|████████████████████████████████████████████████████████████████████████████| 6085/6085 [00:00<00:00, 6956.91it/s]\n",
      "100%|████████████████████████████████████████████████████████████████████████████| 6085/6085 [00:00<00:00, 7135.93it/s]\n",
      "100%|████████████████████████████████████████████████████████████████████████████| 6085/6085 [00:00<00:00, 7119.27it/s]\n",
      "100%|████████████████████████████████████████████████████████████████████████████| 6085/6085 [00:00<00:00, 6988.78it/s]\n",
      "100%|████████████████████████████████████████████████████████████████████████████| 6085/6085 [00:00<00:00, 7020.95it/s]\n",
      "100%|████████████████████████████████████████████████████████████████████████████| 6085/6085 [00:00<00:00, 9160.89it/s]\n"
     ]
    }
   ],
   "source": [
    "prediction2 = {}\n",
    "for combination, indexList in combinationDict.items():\n",
    "    #Loop through the similarity matrices \n",
    "    for index in SimilarityMatrixIndex.keys():\n",
    "        if index in indexList:\n",
    "            if index == 1: \n",
    "                similarityOne = SimilarityMatrixIndex[1][0]\n",
    "            elif index == 2:\n",
    "                similarityTwo = SimilarityMatrixIndex[2][0]\n",
    "            elif index == 3:\n",
    "                similarityThree = SimilarityMatrixIndex[3][0]\n",
    "            elif index == 4:\n",
    "                similarityFour = SimilarityMatrixIndex[4][0]\n",
    "        else:\n",
    "            if index == 1: \n",
    "                similarityOne = SimilarityMatrixIndex[1][1]\n",
    "            elif index == 2:\n",
    "                similarityTwo = SimilarityMatrixIndex[2][1]\n",
    "            elif index == 3:\n",
    "                similarityThree = SimilarityMatrixIndex[3][1]\n",
    "            elif index == 4:\n",
    "                similarityFour = SimilarityMatrixIndex[4][1]\n",
    "                 \n",
    "    user_item_prediction_score = predictUU(rtrain_userAvg, 90, similarityOne, similarityTwo, similarityThree, similarityFour, chooseWeigthMethod='max', item_similarity_en= False)\n",
    "    user_item_predict = prediction(user_item_prediction_score, 50, rtrain_userAvg)\n",
    "    user_item_res = evaluate(user_item_predict, rvalid_userAvg)\n",
    "            \n",
    "\n",
    "    prediction2[combination] = user_item_res.get('MAP@10')[0]"
   ]
  },
  {
   "cell_type": "markdown",
   "metadata": {},
   "source": [
    "#### Prediction 3:user-visiting matrix"
   ]
  },
  {
   "cell_type": "code",
   "execution_count": 357,
   "metadata": {
    "scrolled": true
   },
   "outputs": [
    {
     "name": "stderr",
     "output_type": "stream",
     "text": [
      "100%|█████████████████████████████████████████████████████████████████████████████| 6085/6085 [00:17<00:00, 349.27it/s]\n",
      "100%|████████████████████████████████████████████████████████████████████████████| 6085/6085 [00:01<00:00, 4402.08it/s]\n",
      "100%|████████████████████████████████████████████████████████████████████████████| 6085/6085 [00:00<00:00, 7110.96it/s]\n",
      "100%|████████████████████████████████████████████████████████████████████████████| 6085/6085 [00:00<00:00, 7053.40it/s]\n",
      "100%|████████████████████████████████████████████████████████████████████████████| 6085/6085 [00:00<00:00, 6878.48it/s]\n",
      "100%|████████████████████████████████████████████████████████████████████████████| 6085/6085 [00:00<00:00, 6925.31it/s]\n",
      "100%|████████████████████████████████████████████████████████████████████████████| 6085/6085 [00:00<00:00, 6886.20it/s]\n",
      "100%|████████████████████████████████████████████████████████████████████████████| 6085/6085 [00:00<00:00, 9092.99it/s]\n",
      "100%|█████████████████████████████████████████████████████████████████████████████| 6085/6085 [00:19<00:00, 311.11it/s]\n",
      "100%|████████████████████████████████████████████████████████████████████████████| 6085/6085 [00:01<00:00, 4383.10it/s]\n",
      "100%|████████████████████████████████████████████████████████████████████████████| 6085/6085 [00:00<00:00, 7102.92it/s]\n",
      "100%|████████████████████████████████████████████████████████████████████████████| 6085/6085 [00:00<00:00, 6988.77it/s]\n",
      "100%|████████████████████████████████████████████████████████████████████████████| 6085/6085 [00:00<00:00, 6682.77it/s]\n",
      "100%|████████████████████████████████████████████████████████████████████████████| 6085/6085 [00:00<00:00, 7078.09it/s]\n",
      "100%|████████████████████████████████████████████████████████████████████████████| 6085/6085 [00:00<00:00, 6956.90it/s]\n",
      "100%|████████████████████████████████████████████████████████████████████████████| 6085/6085 [00:00<00:00, 9174.65it/s]\n",
      "100%|█████████████████████████████████████████████████████████████████████████████| 6085/6085 [00:19<00:00, 310.68it/s]\n",
      "100%|████████████████████████████████████████████████████████████████████████████| 6085/6085 [00:01<00:00, 4395.81it/s]\n",
      "100%|████████████████████████████████████████████████████████████████████████████| 6085/6085 [00:00<00:00, 6996.77it/s]\n",
      "100%|████████████████████████████████████████████████████████████████████████████| 6085/6085 [00:00<00:00, 7021.14it/s]\n",
      "100%|████████████████████████████████████████████████████████████████████████████| 6085/6085 [00:00<00:00, 6771.81it/s]\n",
      "100%|████████████████████████████████████████████████████████████████████████████| 6085/6085 [00:00<00:00, 7004.80it/s]\n",
      "100%|████████████████████████████████████████████████████████████████████████████| 6085/6085 [00:00<00:00, 6933.20it/s]\n",
      "100%|████████████████████████████████████████████████████████████████████████████| 6085/6085 [00:00<00:00, 9079.39it/s]\n",
      "100%|█████████████████████████████████████████████████████████████████████████████| 6085/6085 [00:19<00:00, 304.59it/s]\n",
      "100%|████████████████████████████████████████████████████████████████████████████| 6085/6085 [00:01<00:00, 4402.17it/s]\n",
      "100%|████████████████████████████████████████████████████████████████████████████| 6085/6085 [00:00<00:00, 7077.92it/s]\n",
      "100%|████████████████████████████████████████████████████████████████████████████| 6085/6085 [00:00<00:00, 6997.03it/s]\n",
      "100%|████████████████████████████████████████████████████████████████████████████| 6085/6085 [00:00<00:00, 7086.39it/s]\n",
      "100%|████████████████████████████████████████████████████████████████████████████| 6085/6085 [00:00<00:00, 7061.58it/s]\n",
      "100%|████████████████████████████████████████████████████████████████████████████| 6085/6085 [00:00<00:00, 6901.79it/s]\n",
      "100%|████████████████████████████████████████████████████████████████████████████| 6085/6085 [00:00<00:00, 9106.18it/s]\n",
      "100%|█████████████████████████████████████████████████████████████████████████████| 6085/6085 [00:20<00:00, 302.06it/s]\n",
      "100%|████████████████████████████████████████████████████████████████████████████| 6085/6085 [00:01<00:00, 4392.18it/s]\n",
      "100%|████████████████████████████████████████████████████████████████████████████| 6085/6085 [00:00<00:00, 7004.27it/s]\n",
      "100%|████████████████████████████████████████████████████████████████████████████| 6085/6085 [00:00<00:00, 6988.94it/s]\n",
      "100%|████████████████████████████████████████████████████████████████████████████| 6085/6085 [00:00<00:00, 6948.98it/s]\n",
      "100%|████████████████████████████████████████████████████████████████████████████| 6085/6085 [00:00<00:00, 7045.27it/s]\n",
      "100%|████████████████████████████████████████████████████████████████████████████| 6085/6085 [00:00<00:00, 6779.12it/s]\n",
      "100%|████████████████████████████████████████████████████████████████████████████| 6085/6085 [00:00<00:00, 8907.15it/s]\n",
      "100%|█████████████████████████████████████████████████████████████████████████████| 6085/6085 [00:22<00:00, 270.46it/s]\n",
      "100%|████████████████████████████████████████████████████████████████████████████| 6085/6085 [00:01<00:00, 4361.15it/s]\n",
      "100%|████████████████████████████████████████████████████████████████████████████| 6085/6085 [00:00<00:00, 6957.10it/s]\n",
      "100%|████████████████████████████████████████████████████████████████████████████| 6085/6085 [00:00<00:00, 6909.84it/s]\n",
      "100%|████████████████████████████████████████████████████████████████████████████| 6085/6085 [00:00<00:00, 6925.78it/s]\n",
      "100%|████████████████████████████████████████████████████████████████████████████| 6085/6085 [00:00<00:00, 6986.02it/s]\n",
      "100%|████████████████████████████████████████████████████████████████████████████| 6085/6085 [00:00<00:00, 6962.43it/s]\n",
      "100%|████████████████████████████████████████████████████████████████████████████| 6085/6085 [00:00<00:00, 9114.33it/s]\n",
      "100%|█████████████████████████████████████████████████████████████████████████████| 6085/6085 [00:22<00:00, 271.16it/s]\n",
      "100%|████████████████████████████████████████████████████████████████████████████| 6085/6085 [00:01<00:00, 4339.45it/s]\n",
      "100%|████████████████████████████████████████████████████████████████████████████| 6085/6085 [00:00<00:00, 6996.79it/s]\n",
      "100%|████████████████████████████████████████████████████████████████████████████| 6085/6085 [00:00<00:00, 6972.28it/s]\n",
      "100%|████████████████████████████████████████████████████████████████████████████| 6085/6085 [00:00<00:00, 6901.78it/s]\n",
      "100%|████████████████████████████████████████████████████████████████████████████| 6085/6085 [00:00<00:00, 7005.29it/s]\n",
      "100%|████████████████████████████████████████████████████████████████████████████| 6085/6085 [00:00<00:00, 6902.10it/s]\n",
      "100%|████████████████████████████████████████████████████████████████████████████| 6085/6085 [00:00<00:00, 9028.72it/s]\n",
      "100%|█████████████████████████████████████████████████████████████████████████████| 6085/6085 [00:22<00:00, 273.00it/s]\n",
      "100%|████████████████████████████████████████████████████████████████████████████| 6085/6085 [00:01<00:00, 4424.60it/s]\n",
      "100%|████████████████████████████████████████████████████████████████████████████| 6085/6085 [00:00<00:00, 6870.80it/s]\n",
      "100%|████████████████████████████████████████████████████████████████████████████| 6085/6085 [00:00<00:00, 7053.65it/s]\n",
      "100%|████████████████████████████████████████████████████████████████████████████| 6085/6085 [00:00<00:00, 6794.39it/s]\n",
      "100%|████████████████████████████████████████████████████████████████████████████| 6085/6085 [00:00<00:00, 6675.49it/s]\n",
      "100%|████████████████████████████████████████████████████████████████████████████| 6085/6085 [00:00<00:00, 6929.03it/s]\n",
      "100%|████████████████████████████████████████████████████████████████████████████| 6085/6085 [00:00<00:00, 9017.98it/s]\n",
      "100%|█████████████████████████████████████████████████████████████████████████████| 6085/6085 [00:22<00:00, 268.63it/s]\n",
      "100%|████████████████████████████████████████████████████████████████████████████| 6085/6085 [00:01<00:00, 4392.56it/s]\n",
      "100%|████████████████████████████████████████████████████████████████████████████| 6085/6085 [00:00<00:00, 6909.93it/s]\n",
      "100%|████████████████████████████████████████████████████████████████████████████| 6085/6085 [00:00<00:00, 6965.02it/s]\n"
     ]
    },
    {
     "name": "stderr",
     "output_type": "stream",
     "text": [
      "100%|████████████████████████████████████████████████████████████████████████████| 6085/6085 [00:00<00:00, 6830.49it/s]\n",
      "100%|████████████████████████████████████████████████████████████████████████████| 6085/6085 [00:00<00:00, 6824.84it/s]\n",
      "100%|████████████████████████████████████████████████████████████████████████████| 6085/6085 [00:00<00:00, 6801.77it/s]\n",
      "100%|████████████████████████████████████████████████████████████████████████████| 6085/6085 [00:00<00:00, 9093.14it/s]\n",
      "100%|█████████████████████████████████████████████████████████████████████████████| 6085/6085 [00:22<00:00, 275.90it/s]\n",
      "100%|████████████████████████████████████████████████████████████████████████████| 6085/6085 [00:01<00:00, 4395.83it/s]\n",
      "100%|████████████████████████████████████████████████████████████████████████████| 6085/6085 [00:00<00:00, 7053.73it/s]\n",
      "100%|████████████████████████████████████████████████████████████████████████████| 6085/6085 [00:00<00:00, 7013.34it/s]\n",
      "100%|████████████████████████████████████████████████████████████████████████████| 6085/6085 [00:00<00:00, 6933.39it/s]\n",
      "100%|████████████████████████████████████████████████████████████████████████████| 6085/6085 [00:00<00:00, 7037.39it/s]\n",
      "100%|████████████████████████████████████████████████████████████████████████████| 6085/6085 [00:00<00:00, 6893.98it/s]\n",
      "100%|████████████████████████████████████████████████████████████████████████████| 6085/6085 [00:00<00:00, 9188.79it/s]\n",
      "100%|█████████████████████████████████████████████████████████████████████████████| 6085/6085 [00:21<00:00, 277.90it/s]\n",
      "100%|████████████████████████████████████████████████████████████████████████████| 6085/6085 [00:01<00:00, 4418.01it/s]\n",
      "100%|████████████████████████████████████████████████████████████████████████████| 6085/6085 [00:00<00:00, 6980.70it/s]\n",
      "100%|████████████████████████████████████████████████████████████████████████████| 6085/6085 [00:00<00:00, 7029.00it/s]\n",
      "100%|████████████████████████████████████████████████████████████████████████████| 6085/6085 [00:00<00:00, 6933.19it/s]\n",
      "100%|████████████████████████████████████████████████████████████████████████████| 6085/6085 [00:00<00:00, 7045.22it/s]\n",
      "100%|████████████████████████████████████████████████████████████████████████████| 6085/6085 [00:00<00:00, 6989.01it/s]\n",
      "100%|████████████████████████████████████████████████████████████████████████████| 6085/6085 [00:00<00:00, 9161.27it/s]\n"
     ]
    }
   ],
   "source": [
    "prediction3 = {}\n",
    "for combination, indexList in combinationDict.items():\n",
    "    #Loop through the similarity matrices \n",
    "    for index in SimilarityMatrixIndex.keys():\n",
    "        if index in indexList:\n",
    "            if index == 1: \n",
    "                similarityOne = SimilarityMatrixIndex[1][0]\n",
    "            elif index == 2:\n",
    "                similarityTwo = SimilarityMatrixIndex[2][0]\n",
    "            elif index == 3:\n",
    "                similarityThree = SimilarityMatrixIndex[3][0]\n",
    "            elif index == 4:\n",
    "                similarityFour = SimilarityMatrixIndex[4][0]\n",
    "        else:\n",
    "            if index == 1: \n",
    "                similarityOne = SimilarityMatrixIndex[1][1]\n",
    "            elif index == 2:\n",
    "                similarityTwo = SimilarityMatrixIndex[2][1]\n",
    "            elif index == 3:\n",
    "                similarityThree = SimilarityMatrixIndex[3][1]\n",
    "            elif index == 4:\n",
    "                similarityFour = SimilarityMatrixIndex[4][1]\n",
    "                 \n",
    "    user_item_prediction_score = predictUU(userVisitMatrix, 90, similarityOne, similarityTwo, similarityThree, similarityFour, chooseWeigthMethod='max', item_similarity_en= False)\n",
    "    user_item_predict = prediction(user_item_prediction_score, 50, userVisitMatrix)\n",
    "    user_item_res = evaluate(user_item_predict, rvalid_implicit)\n",
    "            \n",
    "\n",
    "    prediction3[combination] = user_item_res.get('MAP@10')[0]"
   ]
  },
  {
   "cell_type": "markdown",
   "metadata": {},
   "source": [
    "#### Prediction 4: Implicit user rating"
   ]
  },
  {
   "cell_type": "code",
   "execution_count": 358,
   "metadata": {
    "scrolled": true
   },
   "outputs": [
    {
     "name": "stderr",
     "output_type": "stream",
     "text": [
      "100%|█████████████████████████████████████████████████████████████████████████████| 6085/6085 [00:15<00:00, 396.53it/s]\n",
      "100%|████████████████████████████████████████████████████████████████████████████| 6085/6085 [00:01<00:00, 4516.11it/s]\n",
      "100%|████████████████████████████████████████████████████████████████████████████| 6085/6085 [00:00<00:00, 6917.47it/s]\n",
      "100%|████████████████████████████████████████████████████████████████████████████| 6085/6085 [00:00<00:00, 7094.55it/s]\n",
      "100%|████████████████████████████████████████████████████████████████████████████| 6085/6085 [00:00<00:00, 6988.79it/s]\n",
      "100%|████████████████████████████████████████████████████████████████████████████| 6085/6085 [00:00<00:00, 7012.88it/s]\n",
      "100%|████████████████████████████████████████████████████████████████████████████| 6085/6085 [00:00<00:00, 6832.26it/s]\n",
      "100%|████████████████████████████████████████████████████████████████████████████| 6085/6085 [00:00<00:00, 8959.04it/s]\n",
      "100%|█████████████████████████████████████████████████████████████████████████████| 6085/6085 [00:17<00:00, 347.82it/s]\n",
      "100%|████████████████████████████████████████████████████████████████████████████| 6085/6085 [00:01<00:00, 4466.48it/s]\n",
      "100%|████████████████████████████████████████████████████████████████████████████| 6085/6085 [00:00<00:00, 6980.88it/s]\n",
      "100%|████████████████████████████████████████████████████████████████████████████| 6085/6085 [00:00<00:00, 7077.93it/s]\n",
      "100%|████████████████████████████████████████████████████████████████████████████| 6085/6085 [00:00<00:00, 6966.48it/s]\n",
      "100%|████████████████████████████████████████████████████████████████████████████| 6085/6085 [00:00<00:00, 7029.26it/s]\n",
      "100%|████████████████████████████████████████████████████████████████████████████| 6085/6085 [00:00<00:00, 6909.55it/s]\n",
      "100%|████████████████████████████████████████████████████████████████████████████| 6085/6085 [00:00<00:00, 9119.73it/s]\n",
      "100%|█████████████████████████████████████████████████████████████████████████████| 6085/6085 [00:17<00:00, 351.57it/s]\n",
      "100%|████████████████████████████████████████████████████████████████████████████| 6085/6085 [00:01<00:00, 4479.74it/s]\n",
      "100%|████████████████████████████████████████████████████████████████████████████| 6085/6085 [00:00<00:00, 6972.80it/s]\n",
      "100%|████████████████████████████████████████████████████████████████████████████| 6085/6085 [00:00<00:00, 7061.57it/s]\n",
      "100%|████████████████████████████████████████████████████████████████████████████| 6085/6085 [00:00<00:00, 6886.24it/s]\n",
      "100%|████████████████████████████████████████████████████████████████████████████| 6085/6085 [00:00<00:00, 7092.63it/s]\n",
      "100%|████████████████████████████████████████████████████████████████████████████| 6085/6085 [00:00<00:00, 6886.46it/s]\n",
      "100%|████████████████████████████████████████████████████████████████████████████| 6085/6085 [00:00<00:00, 9065.97it/s]\n",
      "100%|█████████████████████████████████████████████████████████████████████████████| 6085/6085 [00:17<00:00, 348.05it/s]\n",
      "100%|████████████████████████████████████████████████████████████████████████████| 6085/6085 [00:01<00:00, 4481.85it/s]\n",
      "100%|████████████████████████████████████████████████████████████████████████████| 6085/6085 [00:00<00:00, 7053.88it/s]\n",
      "100%|████████████████████████████████████████████████████████████████████████████| 6085/6085 [00:00<00:00, 7037.14it/s]\n",
      "100%|████████████████████████████████████████████████████████████████████████████| 6085/6085 [00:00<00:00, 6980.79it/s]\n",
      "100%|████████████████████████████████████████████████████████████████████████████| 6085/6085 [00:00<00:00, 6973.04it/s]\n",
      "100%|████████████████████████████████████████████████████████████████████████████| 6085/6085 [00:00<00:00, 6940.89it/s]\n",
      "100%|████████████████████████████████████████████████████████████████████████████| 6085/6085 [00:00<00:00, 9216.24it/s]\n",
      "100%|█████████████████████████████████████████████████████████████████████████████| 6085/6085 [00:17<00:00, 345.98it/s]\n",
      "100%|████████████████████████████████████████████████████████████████████████████| 6085/6085 [00:01<00:00, 4462.05it/s]\n",
      "100%|████████████████████████████████████████████████████████████████████████████| 6085/6085 [00:00<00:00, 7047.22it/s]\n",
      "100%|████████████████████████████████████████████████████████████████████████████| 6085/6085 [00:00<00:00, 7110.93it/s]\n",
      "100%|████████████████████████████████████████████████████████████████████████████| 6085/6085 [00:00<00:00, 6964.81it/s]\n",
      "100%|████████████████████████████████████████████████████████████████████████████| 6085/6085 [00:00<00:00, 6980.72it/s]\n",
      "100%|████████████████████████████████████████████████████████████████████████████| 6085/6085 [00:00<00:00, 6972.76it/s]\n",
      "100%|████████████████████████████████████████████████████████████████████████████| 6085/6085 [00:00<00:00, 9133.34it/s]\n",
      "100%|█████████████████████████████████████████████████████████████████████████████| 6085/6085 [00:20<00:00, 301.17it/s]\n",
      "100%|████████████████████████████████████████████████████████████████████████████| 6085/6085 [00:01<00:00, 4522.80it/s]\n",
      "100%|████████████████████████████████████████████████████████████████████████████| 6085/6085 [00:00<00:00, 7045.23it/s]\n",
      "100%|████████████████████████████████████████████████████████████████████████████| 6085/6085 [00:00<00:00, 7045.25it/s]\n",
      "100%|████████████████████████████████████████████████████████████████████████████| 6085/6085 [00:00<00:00, 6958.68it/s]\n",
      "100%|████████████████████████████████████████████████████████████████████████████| 6085/6085 [00:00<00:00, 7069.04it/s]\n",
      "100%|████████████████████████████████████████████████████████████████████████████| 6085/6085 [00:00<00:00, 6967.40it/s]\n",
      "100%|████████████████████████████████████████████████████████████████████████████| 6085/6085 [00:00<00:00, 9032.60it/s]\n",
      "100%|█████████████████████████████████████████████████████████████████████████████| 6085/6085 [00:19<00:00, 305.28it/s]\n",
      "100%|████████████████████████████████████████████████████████████████████████████| 6085/6085 [00:01<00:00, 4502.77it/s]\n",
      "100%|████████████████████████████████████████████████████████████████████████████| 6085/6085 [00:00<00:00, 6996.75it/s]\n",
      "100%|████████████████████████████████████████████████████████████████████████████| 6085/6085 [00:00<00:00, 7111.19it/s]\n",
      "100%|████████████████████████████████████████████████████████████████████████████| 6085/6085 [00:00<00:00, 6901.72it/s]\n",
      "100%|████████████████████████████████████████████████████████████████████████████| 6085/6085 [00:00<00:00, 6996.73it/s]\n",
      "100%|████████████████████████████████████████████████████████████████████████████| 6085/6085 [00:00<00:00, 6779.55it/s]\n",
      "100%|████████████████████████████████████████████████████████████████████████████| 6085/6085 [00:00<00:00, 9119.80it/s]\n",
      "100%|█████████████████████████████████████████████████████████████████████████████| 6085/6085 [00:19<00:00, 305.56it/s]\n",
      "100%|████████████████████████████████████████████████████████████████████████████| 6085/6085 [00:01<00:00, 4473.06it/s]\n",
      "100%|████████████████████████████████████████████████████████████████████████████| 6085/6085 [00:00<00:00, 7094.37it/s]\n",
      "100%|████████████████████████████████████████████████████████████████████████████| 6085/6085 [00:00<00:00, 7111.19it/s]\n",
      "100%|████████████████████████████████████████████████████████████████████████████| 6085/6085 [00:00<00:00, 6941.03it/s]\n",
      "100%|████████████████████████████████████████████████████████████████████████████| 6085/6085 [00:00<00:00, 7078.19it/s]\n",
      "100%|████████████████████████████████████████████████████████████████████████████| 6085/6085 [00:00<00:00, 6917.47it/s]\n",
      "100%|████████████████████████████████████████████████████████████████████████████| 6085/6085 [00:00<00:00, 9357.54it/s]\n",
      "100%|█████████████████████████████████████████████████████████████████████████████| 6085/6085 [00:20<00:00, 303.94it/s]\n",
      "100%|████████████████████████████████████████████████████████████████████████████| 6085/6085 [00:01<00:00, 4546.47it/s]\n",
      "100%|████████████████████████████████████████████████████████████████████████████| 6085/6085 [00:00<00:00, 7012.84it/s]\n",
      "100%|████████████████████████████████████████████████████████████████████████████| 6085/6085 [00:00<00:00, 7053.64it/s]\n"
     ]
    },
    {
     "name": "stderr",
     "output_type": "stream",
     "text": [
      "100%|████████████████████████████████████████████████████████████████████████████| 6085/6085 [00:00<00:00, 7037.12it/s]\n",
      "100%|████████████████████████████████████████████████████████████████████████████| 6085/6085 [00:00<00:00, 6941.08it/s]\n",
      "100%|████████████████████████████████████████████████████████████████████████████| 6085/6085 [00:00<00:00, 6948.98it/s]\n",
      "100%|████████████████████████████████████████████████████████████████████████████| 6085/6085 [00:00<00:00, 9025.24it/s]\n",
      "100%|█████████████████████████████████████████████████████████████████████████████| 6085/6085 [00:19<00:00, 307.00it/s]\n",
      "100%|████████████████████████████████████████████████████████████████████████████| 6085/6085 [00:01<00:00, 4496.14it/s]\n",
      "100%|████████████████████████████████████████████████████████████████████████████| 6085/6085 [00:00<00:00, 6941.04it/s]\n",
      "100%|████████████████████████████████████████████████████████████████████████████| 6085/6085 [00:00<00:00, 7012.88it/s]\n",
      "100%|████████████████████████████████████████████████████████████████████████████| 6085/6085 [00:00<00:00, 6925.28it/s]\n",
      "100%|████████████████████████████████████████████████████████████████████████████| 6085/6085 [00:00<00:00, 7020.94it/s]\n",
      "100%|████████████████████████████████████████████████████████████████████████████| 6085/6085 [00:00<00:00, 6948.98it/s]\n",
      "100%|████████████████████████████████████████████████████████████████████████████| 6085/6085 [00:00<00:00, 9188.48it/s]\n",
      "100%|█████████████████████████████████████████████████████████████████████████████| 6085/6085 [00:19<00:00, 307.53it/s]\n",
      "100%|████████████████████████████████████████████████████████████████████████████| 6085/6085 [00:01<00:00, 4515.32it/s]\n",
      "100%|████████████████████████████████████████████████████████████████████████████| 6085/6085 [00:00<00:00, 7013.36it/s]\n",
      "100%|████████████████████████████████████████████████████████████████████████████| 6085/6085 [00:00<00:00, 7077.91it/s]\n",
      "100%|████████████████████████████████████████████████████████████████████████████| 6085/6085 [00:00<00:00, 6786.61it/s]\n",
      "100%|████████████████████████████████████████████████████████████████████████████| 6085/6085 [00:00<00:00, 6996.75it/s]\n",
      "100%|████████████████████████████████████████████████████████████████████████████| 6085/6085 [00:00<00:00, 6863.24it/s]\n",
      "100%|████████████████████████████████████████████████████████████████████████████| 6085/6085 [00:00<00:00, 9202.26it/s]\n"
     ]
    }
   ],
   "source": [
    "prediction4 = {}\n",
    "for combination, indexList in combinationDict.items():\n",
    "    #Loop through the similarity matrices \n",
    "    for index in SimilarityMatrixIndex.keys():\n",
    "        if index in indexList:\n",
    "            if index == 1: \n",
    "                similarityOne = SimilarityMatrixIndex[1][0]\n",
    "            elif index == 2:\n",
    "                similarityTwo = SimilarityMatrixIndex[2][0]\n",
    "            elif index == 3:\n",
    "                similarityThree = SimilarityMatrixIndex[3][0]\n",
    "            elif index == 4:\n",
    "                similarityFour = SimilarityMatrixIndex[4][0]\n",
    "        else:\n",
    "            if index == 1: \n",
    "                similarityOne = SimilarityMatrixIndex[1][1]\n",
    "            elif index == 2:\n",
    "                similarityTwo = SimilarityMatrixIndex[2][1]\n",
    "            elif index == 3:\n",
    "                similarityThree = SimilarityMatrixIndex[3][1]\n",
    "            elif index == 4:\n",
    "                similarityFour = SimilarityMatrixIndex[4][1]\n",
    "                 \n",
    "    user_item_prediction_score = predictUU(rtrain_implicit, 90, similarityOne, similarityTwo, similarityThree, similarityFour, chooseWeigthMethod='max', item_similarity_en= False)\n",
    "    user_item_predict = prediction(user_item_prediction_score, 50, rtrain_implicit)\n",
    "    user_item_res = evaluate(user_item_predict, rvalid_implicit)\n",
    "            \n",
    "\n",
    "    prediction4[combination] = user_item_res.get('MAP@10')[0]"
   ]
  },
  {
   "cell_type": "code",
   "execution_count": 363,
   "metadata": {
    "scrolled": false
   },
   "outputs": [
    {
     "data": {
      "image/png": "[encoded data removed]",
      "text/plain": [
       "<Figure size 720x432 with 1 Axes>"
      ]
     },
     "metadata": {
      "needs_background": "light"
     },
     "output_type": "display_data"
    }
   ],
   "source": [
    "listPrediction1 = prediction1.items() # sorted by key, return a list of tuples\n",
    "listPrediction2 = prediction2.items()\n",
    "listPrediction3 = prediction3.items()\n",
    "listPrediction4 = prediction4.items()\n",
    "\n",
    "x1, y1 = zip(*listPrediction1) # unpack a list of pairs into two tuples\n",
    "x2, y2 = zip(*listPrediction2)\n",
    "x3, y3 = zip(*listPrediction3)\n",
    "x4, y4 = zip(*listPrediction4)\n",
    "\n",
    "plt.figure(figsize=(10,6))\n",
    "plt.plot( x1, y1, marker='o',color='green', linewidth=2, label=\"ExplicitUserRating\")\n",
    "plt.plot( x2, y2, marker='o',color='orange', linewidth=2, label=\"ScaledExplicitUserRating\")\n",
    "plt.plot( x3, y3, marker='o',color='blue', linewidth=2, label=\"UserVisting\")\n",
    "plt.plot( x4, y4, marker='o',color='red', linewidth=2, label=\"ImplicitUserRating\")\n",
    "\n",
    "for x, y in zip(x1, y1): \n",
    "    plt.text(x, y, str(y))\n",
    "for x, y in zip(x2, y2): \n",
    "    plt.text(x, y, str(y))\n",
    "for x, y in zip(x3, y3): \n",
    "    plt.text(x, y, str(y))\n",
    "for x, y in zip(x4, y4): \n",
    "    plt.text(x, y, str(y))\n",
    "      \n",
    "plt.title('Max')\n",
    "plt.legend()\n",
    "plt.xlabel('K values')\n",
    "plt.ylabel('MAP@10')\n",
    "plt.show()"
   ]
  },
  {
   "cell_type": "markdown",
   "metadata": {},
   "source": [
    "### Min"
   ]
  },
  {
   "cell_type": "code",
   "execution_count": 295,
   "metadata": {},
   "outputs": [
    {
     "name": "stdout",
     "output_type": "stream",
     "text": [
      "1\n",
      "2\n",
      "3\n",
      "4\n"
     ]
    }
   ],
   "source": [
    "for key in SimilarityMatrixIndex.keys():\n",
    "    print(key)"
   ]
  },
  {
   "cell_type": "code",
   "execution_count": 300,
   "metadata": {},
   "outputs": [
    {
     "data": {
      "text/plain": [
       "True"
      ]
     },
     "execution_count": 300,
     "metadata": {},
     "output_type": "execute_result"
    }
   ],
   "source": [
    "1 in SimilarityMatrixIndex.keys()"
   ]
  },
  {
   "cell_type": "markdown",
   "metadata": {},
   "source": [
    "### Average"
   ]
  },
  {
   "cell_type": "code",
   "execution_count": 257,
   "metadata": {},
   "outputs": [
    {
     "data": {
      "text/plain": [
       "{'MAP@5': (0.1314, 0.0053),\n",
       " 'MAP@10': (0.1052, 0.0038),\n",
       " 'MAP@15': (0.0913, 0.003),\n",
       " 'MAP@20': (0.0823, 0.0026),\n",
       " 'MAP@50': (0.0581, 0.0016)}"
      ]
     },
     "execution_count": 257,
     "metadata": {},
     "output_type": "execute_result"
    }
   ],
   "source": [
    "user_item_res1"
   ]
  },
  {
   "cell_type": "code",
   "execution_count": 209,
   "metadata": {},
   "outputs": [
    {
     "data": {
      "text/plain": [
       "{'MAP@5': (0.1228, 0.0051),\n",
       " 'MAP@10': (0.0992, 0.0036),\n",
       " 'MAP@15': (0.0866, 0.0029),\n",
       " 'MAP@20': (0.0785, 0.0025),\n",
       " 'MAP@50': (0.0562, 0.0015)}"
      ]
     },
     "execution_count": 209,
     "metadata": {},
     "output_type": "execute_result"
    }
   ],
   "source": [
    "user_item_res1  #1,4, [0.1,0.9]"
   ]
  },
  {
   "cell_type": "code",
   "execution_count": 86,
   "metadata": {},
   "outputs": [
    {
     "data": {
      "text/plain": [
       "{'MAP@5': (0.102, 0.0046),\n",
       " 'MAP@10': (0.0851, 0.0033),\n",
       " 'MAP@15': (0.0758, 0.0027),\n",
       " 'MAP@20': (0.0696, 0.0023),\n",
       " 'MAP@50': (0.0518, 0.0014)}"
      ]
     },
     "execution_count": 86,
     "metadata": {},
     "output_type": "execute_result"
    }
   ],
   "source": [
    "user_item_res1"
   ]
  },
  {
   "cell_type": "code",
   "execution_count": 205,
   "metadata": {},
   "outputs": [
    {
     "data": {
      "text/plain": [
       "{'MAP@5': (0.102, 0.0046),\n",
       " 'MAP@10': (0.0851, 0.0033),\n",
       " 'MAP@15': (0.0758, 0.0027),\n",
       " 'MAP@20': (0.0696, 0.0023),\n",
       " 'MAP@50': (0.0518, 0.0014)}"
      ]
     },
     "execution_count": 205,
     "metadata": {},
     "output_type": "execute_result"
    }
   ],
   "source": [
    "user_item_res1   #1,4, max rtrain,rvalid"
   ]
  },
  {
   "cell_type": "code",
   "execution_count": 203,
   "metadata": {},
   "outputs": [
    {
     "data": {
      "text/plain": [
       "{'MAP@5': (0.0872, 0.0042),\n",
       " 'MAP@10': (0.075, 0.0031),\n",
       " 'MAP@15': (0.0681, 0.0025),\n",
       " 'MAP@20': (0.0632, 0.0022),\n",
       " 'MAP@50': (0.0486, 0.0013)}"
      ]
     },
     "execution_count": 203,
     "metadata": {},
     "output_type": "execute_result"
    }
   ],
   "source": [
    "user_item_res1   #1,2,3,4 max rtrain,rvalid"
   ]
  },
  {
   "cell_type": "code",
   "execution_count": 201,
   "metadata": {},
   "outputs": [
    {
     "data": {
      "text/plain": [
       "{'MAP@5': (0.0687, 0.0037),\n",
       " 'MAP@10': (0.0622, 0.0028),\n",
       " 'MAP@15': (0.0579, 0.0023),\n",
       " 'MAP@20': (0.0546, 0.002),\n",
       " 'MAP@50': (0.0438, 0.0013)}"
      ]
     },
     "execution_count": 201,
     "metadata": {},
     "output_type": "execute_result"
    }
   ],
   "source": [
    "user_item_res1  #1,2,3,4, average  rtrain, rvalid "
   ]
  },
  {
   "cell_type": "code",
   "execution_count": 199,
   "metadata": {},
   "outputs": [
    {
     "data": {
      "text/plain": [
       "{'MAP@5': (0.0698, 0.0038),\n",
       " 'MAP@10': (0.0616, 0.0027),\n",
       " 'MAP@15': (0.0568, 0.0022),\n",
       " 'MAP@20': (0.0533, 0.0019),\n",
       " 'MAP@50': (0.0426, 0.0012)}"
      ]
     },
     "execution_count": 199,
     "metadata": {},
     "output_type": "execute_result"
    }
   ],
   "source": [
    "user_item_res1  #1,4 average rtrain_implicit "
   ]
  },
  {
   "cell_type": "code",
   "execution_count": 197,
   "metadata": {},
   "outputs": [
    {
     "data": {
      "text/plain": [
       "{'MAP@5': (0.0658, 0.0037),\n",
       " 'MAP@10': (0.057, 0.0027),\n",
       " 'MAP@15': (0.0515, 0.0022),\n",
       " 'MAP@20': (0.0477, 0.0019),\n",
       " 'MAP@50': (0.0362, 0.0012)}"
      ]
     },
     "execution_count": 197,
     "metadata": {},
     "output_type": "execute_result"
    }
   ],
   "source": [
    "user_item_res1  #1,4 average, rtrain_userAvg"
   ]
  },
  {
   "cell_type": "code",
   "execution_count": 195,
   "metadata": {},
   "outputs": [
    {
     "data": {
      "text/plain": [
       "{'MAP@5': (0.0844, 0.0042),\n",
       " 'MAP@10': (0.073, 0.0031),\n",
       " 'MAP@15': (0.0664, 0.0025),\n",
       " 'MAP@20': (0.0617, 0.0022),\n",
       " 'MAP@50': (0.0477, 0.0014)}"
      ]
     },
     "execution_count": 195,
     "metadata": {},
     "output_type": "execute_result"
    }
   ],
   "source": [
    "user_item_res1  #1,4 average rtrain, rvalid"
   ]
  },
  {
   "cell_type": "code",
   "execution_count": 192,
   "metadata": {
    "scrolled": true
   },
   "outputs": [
    {
     "data": {
      "text/plain": [
       "{'MAP@5': (0.0797, 0.0041),\n",
       " 'MAP@10': (0.069, 0.003),\n",
       " 'MAP@15': (0.063, 0.0024),\n",
       " 'MAP@20': (0.0588, 0.0021),\n",
       " 'MAP@50': (0.0458, 0.0013)}"
      ]
     },
     "execution_count": 192,
     "metadata": {},
     "output_type": "execute_result"
    }
   ],
   "source": [
    "user_item_res1    #1,4 average with userVisitMatrix, rvalid "
   ]
  },
  {
   "cell_type": "code",
   "execution_count": 190,
   "metadata": {},
   "outputs": [
    {
     "data": {
      "text/plain": [
       "{'MAP@5': (0.0572, 0.0035),\n",
       " 'MAP@10': (0.0498, 0.0025),\n",
       " 'MAP@15': (0.0455, 0.0021),\n",
       " 'MAP@20': (0.0425, 0.0018),\n",
       " 'MAP@50': (0.0331, 0.0011)}"
      ]
     },
     "execution_count": 190,
     "metadata": {},
     "output_type": "execute_result"
    }
   ],
   "source": [
    "user_item_res1"
   ]
  },
  {
   "cell_type": "code",
   "execution_count": 188,
   "metadata": {},
   "outputs": [
    {
     "data": {
      "text/plain": [
       "{'MAP@5': (0.0709, 0.0039),\n",
       " 'MAP@10': (0.0612, 0.0028),\n",
       " 'MAP@15': (0.0558, 0.0023),\n",
       " 'MAP@20': (0.052, 0.002),\n",
       " 'MAP@50': (0.0402, 0.0013)}"
      ]
     },
     "execution_count": 188,
     "metadata": {},
     "output_type": "execute_result"
    }
   ],
   "source": [
    "user_item_res1 #average 1,4 similarity matrices"
   ]
  },
  {
   "cell_type": "code",
   "execution_count": 186,
   "metadata": {},
   "outputs": [
    {
     "data": {
      "text/plain": [
       "{'MAP@5': (0.061, 0.0036),\n",
       " 'MAP@10': (0.0545, 0.0026),\n",
       " 'MAP@15': (0.0504, 0.0022),\n",
       " 'MAP@20': (0.0474, 0.0019),\n",
       " 'MAP@50': (0.0379, 0.0012)}"
      ]
     },
     "execution_count": 186,
     "metadata": {},
     "output_type": "execute_result"
    }
   ],
   "source": [
    "user_item_res1 #average 1,2,4 similarity matrices"
   ]
  },
  {
   "cell_type": "code",
   "execution_count": 183,
   "metadata": {
    "scrolled": true
   },
   "outputs": [
    {
     "data": {
      "text/plain": [
       "{'MAP@5': (0.0447, 0.0031),\n",
       " 'MAP@10': (0.0421, 0.0023),\n",
       " 'MAP@15': (0.0402, 0.0019),\n",
       " 'MAP@20': (0.0386, 0.0017),\n",
       " 'MAP@50': (0.0324, 0.0011)}"
      ]
     },
     "execution_count": 183,
     "metadata": {},
     "output_type": "execute_result"
    }
   ],
   "source": [
    "user_item_res1    #average 1-2 similarity matrices"
   ]
  },
  {
   "cell_type": "code",
   "execution_count": 181,
   "metadata": {},
   "outputs": [
    {
     "data": {
      "text/plain": [
       "{'MAP@5': (0.0469, 0.0031),\n",
       " 'MAP@10': (0.0442, 0.0023),\n",
       " 'MAP@15': (0.0421, 0.002),\n",
       " 'MAP@20': (0.0403, 0.0017),\n",
       " 'MAP@50': (0.0335, 0.0011)}"
      ]
     },
     "execution_count": 181,
     "metadata": {},
     "output_type": "execute_result"
    }
   ],
   "source": [
    "user_item_res1   #average 3 1-3similarity matrices"
   ]
  },
  {
   "cell_type": "code",
   "execution_count": 173,
   "metadata": {},
   "outputs": [
    {
     "data": {
      "text/plain": [
       "{'MAP@5': (0.0577, 0.0035),\n",
       " 'MAP@10': (0.0522, 0.0026),\n",
       " 'MAP@15': (0.0486, 0.0021),\n",
       " 'MAP@20': (0.0459, 0.0019),\n",
       " 'MAP@50': (0.037, 0.0012)}"
      ]
     },
     "execution_count": 173,
     "metadata": {},
     "output_type": "execute_result"
    }
   ],
   "source": [
    "user_item_res1  #average 4, 1-4similarity matrices"
   ]
  },
  {
   "cell_type": "code",
   "execution_count": 160,
   "metadata": {},
   "outputs": [
    {
     "data": {
      "text/plain": [
       "{'MAP@5': (0.0455, 0.0031),\n",
       " 'MAP@10': (0.0425, 0.0023),\n",
       " 'MAP@15': (0.0403, 0.0019),\n",
       " 'MAP@20': (0.0384, 0.0017),\n",
       " 'MAP@50': (0.032, 0.0011)}"
      ]
     },
     "execution_count": 160,
     "metadata": {},
     "output_type": "execute_result"
    }
   ],
   "source": [
    "user_item_res1   #min"
   ]
  },
  {
   "cell_type": "code",
   "execution_count": 155,
   "metadata": {},
   "outputs": [
    {
     "data": {
      "text/plain": [
       "{'MAP@5': (0.0738, 0.004),\n",
       " 'MAP@10': (0.0635, 0.0029),\n",
       " 'MAP@15': (0.0576, 0.0023),\n",
       " 'MAP@20': (0.0534, 0.002),\n",
       " 'MAP@50': (0.041, 0.0012)}"
      ]
     },
     "execution_count": 155,
     "metadata": {},
     "output_type": "execute_result"
    }
   ],
   "source": [
    "user_item_res1 #max"
   ]
  },
  {
   "cell_type": "code",
   "execution_count": 132,
   "metadata": {},
   "outputs": [
    {
     "data": {
      "text/plain": [
       "{'MAP@5': (0.0505, 0.0032),\n",
       " 'MAP@10': (0.0468, 0.0024),\n",
       " 'MAP@15': (0.0443, 0.002),\n",
       " 'MAP@20': (0.0422, 0.0018),\n",
       " 'MAP@50': (0.0349, 0.0012)}"
      ]
     },
     "execution_count": 132,
     "metadata": {},
     "output_type": "execute_result"
    }
   ],
   "source": [
    "user_item_res1  #rtrain"
   ]
  },
  {
   "cell_type": "code",
   "execution_count": 130,
   "metadata": {},
   "outputs": [
    {
     "data": {
      "text/plain": [
       "{'MAP@5': (0.0483, 0.0031),\n",
       " 'MAP@10': (0.0433, 0.0023),\n",
       " 'MAP@15': (0.0401, 0.0019),\n",
       " 'MAP@20': (0.0377, 0.0017),\n",
       " 'MAP@50': (0.0301, 0.0011)}"
      ]
     },
     "execution_count": 130,
     "metadata": {},
     "output_type": "execute_result"
    }
   ],
   "source": [
    "user_item_res1 #rtrain_userAvg"
   ]
  },
  {
   "cell_type": "code",
   "execution_count": 83,
   "metadata": {},
   "outputs": [
    {
     "data": {
      "text/plain": [
       "array([[0.08, 0.  , 0.  , ..., 0.  , 0.  , 0.  ]], dtype=float32)"
      ]
     },
     "execution_count": 83,
     "metadata": {},
     "output_type": "execute_result"
    }
   ],
   "source": [
    "rtrain_userAvg[0][0].toarray()"
   ]
  },
  {
   "cell_type": "code",
   "execution_count": 81,
   "metadata": {},
   "outputs": [
    {
     "data": {
      "text/plain": [
       "(6085, 4000)"
      ]
     },
     "execution_count": 81,
     "metadata": {},
     "output_type": "execute_result"
    }
   ],
   "source": [
    "rtrain_userAvg.shape"
   ]
  },
  {
   "cell_type": "code",
   "execution_count": 42,
   "metadata": {},
   "outputs": [],
   "source": [
    "def getImplicitMatrix(sparseMatrix, threashold=0):\n",
    "    temp_matrix = sparse.csr_matrix(sparseMatrix.shape)\n",
    "    temp_matrix[(sparseMatrix > threashold).nonzero()] = 1\n",
    "    return temp_matrix\n",
    "\n",
    "userVisitMatrix = getImplicitMatrix(rtrain)"
   ]
  },
  {
   "cell_type": "code",
   "execution_count": 43,
   "metadata": {
    "scrolled": true
   },
   "outputs": [
    {
     "name": "stderr",
     "output_type": "stream",
     "text": [
      "C:\\ProgramData\\Anaconda3\\lib\\site-packages\\ipykernel_launcher.py:3: SparseEfficiencyWarning: Changing the sparsity structure of a csr_matrix is expensive. lil_matrix is more efficient.\n",
      "  This is separate from the ipykernel package so we can avoid doing imports until\n"
     ]
    }
   ],
   "source": []
  },
  {
   "cell_type": "code",
   "execution_count": 157,
   "metadata": {},
   "outputs": [
    {
     "name": "stderr",
     "output_type": "stream",
     "text": [
      "100%|█████████████████████████████████████████████████████████████████████████████| 6085/6085 [00:16<00:00, 361.14it/s]\n",
      "100%|████████████████████████████████████████████████████████████████████████████| 6085/6085 [00:01<00:00, 4383.05it/s]\n",
      "100%|████████████████████████████████████████████████████████████████████████████| 6085/6085 [00:00<00:00, 7094.54it/s]\n",
      "100%|████████████████████████████████████████████████████████████████████████████| 6085/6085 [00:00<00:00, 7020.77it/s]\n",
      "100%|████████████████████████████████████████████████████████████████████████████| 6085/6085 [00:00<00:00, 7031.87it/s]\n",
      "100%|████████████████████████████████████████████████████████████████████████████| 6085/6085 [00:00<00:00, 6964.96it/s]\n",
      "100%|████████████████████████████████████████████████████████████████████████████| 6085/6085 [00:00<00:00, 6853.95it/s]\n",
      "100%|████████████████████████████████████████████████████████████████████████████| 6085/6085 [00:00<00:00, 9092.89it/s]\n"
     ]
    }
   ],
   "source": [
    "#UU similarity\n",
    "similarity3 = train(userVisitMatrix)\n",
    "#get a user-item matrix  UI prediction\n",
    "#Predict using UI matrix with ratings in it \n",
    "user_item_prediction_score3 = predict(userVisitMatrix, 90, similarity3, item_similarity_en= False)\n",
    "user_item_predict3 = prediction(user_item_prediction_score3, 50, userVisitMatrix)\n",
    "#Check user item prediction score\n",
    "user_item_res3 = evaluate(user_item_predict3, rvalid)"
   ]
  },
  {
   "cell_type": "code",
   "execution_count": 158,
   "metadata": {},
   "outputs": [
    {
     "data": {
      "text/plain": [
       "{'MAP@5': (0.056, 0.0034),\n",
       " 'MAP@10': (0.0521, 0.0025),\n",
       " 'MAP@15': (0.0493, 0.0021),\n",
       " 'MAP@20': (0.0471, 0.0019),\n",
       " 'MAP@50': (0.0393, 0.0012)}"
      ]
     },
     "execution_count": 158,
     "metadata": {},
     "output_type": "execute_result"
    }
   ],
   "source": [
    "user_item_res3"
   ]
  },
  {
   "cell_type": "code",
   "execution_count": 90,
   "metadata": {},
   "outputs": [
    {
     "data": {
      "text/plain": [
       "array([[4., 0., 0., ..., 0., 0., 0.]], dtype=float32)"
      ]
     },
     "execution_count": 90,
     "metadata": {},
     "output_type": "execute_result"
    }
   ],
   "source": [
    "rtrain[0].toarray()"
   ]
  },
  {
   "cell_type": "code",
   "execution_count": 101,
   "metadata": {},
   "outputs": [
    {
     "name": "stderr",
     "output_type": "stream",
     "text": [
      "\r",
      "  0%|                                                                                            | 0/2 [00:00<?, ?it/s]"
     ]
    },
    {
     "name": "stdout",
     "output_type": "stream",
     "text": [
      "0\n",
      "1\n"
     ]
    },
    {
     "name": "stderr",
     "output_type": "stream",
     "text": [
      "100%|██████████████████████████████████████████████████████████████████████████████████| 2/2 [00:00<00:00, 2006.36it/s]\n"
     ]
    }
   ],
   "source": [
    "for user_index in tqdm(range(2)):\n",
    "    print(user_index)"
   ]
  },
  {
   "cell_type": "code",
   "execution_count": 118,
   "metadata": {},
   "outputs": [
    {
     "data": {
      "text/plain": [
       "(6085, 4000)"
      ]
     },
     "execution_count": 118,
     "metadata": {},
     "output_type": "execute_result"
    }
   ],
   "source": [
    "userVisitMatrix.shape"
   ]
  },
  {
   "cell_type": "code",
   "execution_count": 119,
   "metadata": {},
   "outputs": [
    {
     "data": {
      "text/plain": [
       "(6085, 4000)"
      ]
     },
     "execution_count": 119,
     "metadata": {},
     "output_type": "execute_result"
    }
   ],
   "source": [
    "rtrain.shape"
   ]
  },
  {
   "cell_type": "code",
   "execution_count": 156,
   "metadata": {},
   "outputs": [
    {
     "data": {
      "text/plain": [
       "10"
      ]
     },
     "execution_count": 156,
     "metadata": {},
     "output_type": "execute_result"
    }
   ],
   "source": [
    "max(5,8,9,10)"
   ]
  },
  {
   "cell_type": "code",
   "execution_count": 164,
   "metadata": {},
   "outputs": [
    {
     "data": {
      "text/plain": [
       "1"
      ]
     },
     "execution_count": 164,
     "metadata": {},
     "output_type": "execute_result"
    }
   ],
   "source": [
    "stats.mean([1,1,1,1])"
   ]
  },
  {
   "cell_type": "code",
   "execution_count": 185,
   "metadata": {},
   "outputs": [
    {
     "data": {
      "text/plain": [
       "[10, 5, 9]"
      ]
     },
     "execution_count": 185,
     "metadata": {},
     "output_type": "execute_result"
    }
   ],
   "source": [
    "max([5,10,2], [10,5,9], [2,5,13])"
   ]
  },
  {
   "cell_type": "code",
   "execution_count": 69,
   "metadata": {},
   "outputs": [],
   "source": [
    "a = np.array([[10, 2, 100], [3, 4, 50], [5, 6,40]])"
   ]
  },
  {
   "cell_type": "code",
   "execution_count": 70,
   "metadata": {},
   "outputs": [
    {
     "data": {
      "text/plain": [
       "array([[ 10,   2, 100],\n",
       "       [  3,   4,  50],\n",
       "       [  5,   6,  40]])"
      ]
     },
     "execution_count": 70,
     "metadata": {},
     "output_type": "execute_result"
    }
   ],
   "source": [
    "a"
   ]
  },
  {
   "cell_type": "code",
   "execution_count": 83,
   "metadata": {},
   "outputs": [
    {
     "data": {
      "text/plain": [
       "array([ 6.        ,  4.        , 63.33333333])"
      ]
     },
     "execution_count": 83,
     "metadata": {},
     "output_type": "execute_result"
    }
   ],
   "source": [
    "a.mean(axis=0)"
   ]
  },
  {
   "cell_type": "code",
   "execution_count": 98,
   "metadata": {},
   "outputs": [
    {
     "name": "stdout",
     "output_type": "stream",
     "text": [
      "True\n"
     ]
    }
   ],
   "source": [
    "flag = isinstance([\"10\",\"50\",\"20\"], list)\n",
    "print(flag)"
   ]
  },
  {
   "cell_type": "code",
   "execution_count": 95,
   "metadata": {},
   "outputs": [
    {
     "data": {
      "text/plain": [
       "list"
      ]
     },
     "execution_count": 95,
     "metadata": {},
     "output_type": "execute_result"
    }
   ],
   "source": [
    "type([10,50,20])"
   ]
  },
  {
   "cell_type": "code",
   "execution_count": 99,
   "metadata": {},
   "outputs": [
    {
     "data": {
      "text/plain": [
       "array([[ 10,   2, 100],\n",
       "       [  3,   4,  50],\n",
       "       [  5,   6,  40]])"
      ]
     },
     "execution_count": 99,
     "metadata": {},
     "output_type": "execute_result"
    }
   ],
   "source": [
    "a"
   ]
  },
  {
   "cell_type": "code",
   "execution_count": 100,
   "metadata": {},
   "outputs": [],
   "source": [
    "b = [3,4,2]"
   ]
  },
  {
   "cell_type": "code",
   "execution_count": 103,
   "metadata": {},
   "outputs": [
    {
     "data": {
      "text/plain": [
       "list"
      ]
     },
     "execution_count": 103,
     "metadata": {},
     "output_type": "execute_result"
    }
   ],
   "source": [
    "type(b)"
   ]
  },
  {
   "cell_type": "code",
   "execution_count": 106,
   "metadata": {},
   "outputs": [
    {
     "data": {
      "text/plain": [
       "array([ 54,  48, 380])"
      ]
     },
     "execution_count": 106,
     "metadata": {},
     "output_type": "execute_result"
    }
   ],
   "source": [
    "(a * b).sum(axis=0)"
   ]
  },
  {
   "cell_type": "code",
   "execution_count": 107,
   "metadata": {},
   "outputs": [
    {
     "data": {
      "text/plain": [
       "array([[ 30,   8, 200],\n",
       "       [  9,  16, 100],\n",
       "       [ 15,  24,  80]])"
      ]
     },
     "execution_count": 107,
     "metadata": {},
     "output_type": "execute_result"
    }
   ],
   "source": [
    "a * b"
   ]
  },
  {
   "cell_type": "code",
   "execution_count": 120,
   "metadata": {},
   "outputs": [
    {
     "data": {
      "text/plain": [
       "(3, 1)"
      ]
     },
     "execution_count": 120,
     "metadata": {},
     "output_type": "execute_result"
    }
   ],
   "source": []
  },
  {
   "cell_type": "code",
   "execution_count": null,
   "metadata": {},
   "outputs": [],
   "source": []
  }
 ],
 "metadata": {
  "kernelspec": {
   "display_name": "Python 3",
   "language": "python",
   "name": "python3"
  },
  "language_info": {
   "codemirror_mode": {
    "name": "ipython",
    "version": 3
   },
   "file_extension": ".py",
   "mimetype": "text/x-python",
   "name": "python",
   "nbconvert_exporter": "python",
   "pygments_lexer": "ipython3",
   "version": "3.7.3"
  }
 },
 "nbformat": 4,
 "nbformat_minor": 2
}
