{
 "cells": [
  {
   "cell_type": "markdown",
   "metadata": {},
   "source": [
    "## This file produces algorithm performance for different approaches - Tune hyperparameter K"
   ]
  },
  {
   "cell_type": "code",
   "execution_count": 1,
   "metadata": {},
   "outputs": [
    {
     "name": "stdout",
     "output_type": "stream",
     "text": [
      "Requirement already satisfied: import_ipynb in c:\\programdata\\anaconda3\\lib\\site-packages (0.1.3)\n",
      "Note: you may need to restart the kernel to use updated packages.\n"
     ]
    }
   ],
   "source": [
    "pip install import_ipynb"
   ]
  },
  {
   "cell_type": "code",
   "execution_count": 2,
   "metadata": {},
   "outputs": [
    {
     "name": "stdout",
     "output_type": "stream",
     "text": [
      "importing Jupyter notebook from W:\\Github\\iNAGO\\iNAGO_RecSys\\Yelp_data_exploration\\prediction\\Models.ipynb\n"
     ]
    },
    {
     "name": "stderr",
     "output_type": "stream",
     "text": [
      "[nltk_data] Downloading package wordnet to\n",
      "[nltk_data]     C:\\Users\\shenti10\\AppData\\Roaming\\nltk_data...\n",
      "[nltk_data]   Package wordnet is already up-to-date!\n",
      "[nltk_data] Downloading package stopwords to\n",
      "[nltk_data]     C:\\Users\\shenti10\\AppData\\Roaming\\nltk_data...\n",
      "[nltk_data]   Package stopwords is already up-to-date!\n"
     ]
    },
    {
     "name": "stdout",
     "output_type": "stream",
     "text": [
      "importing Jupyter notebook from W:\\Github\\iNAGO\\iNAGO_RecSys\\Yelp_data_exploration\\evaluation\\Metrics.ipynb\n"
     ]
    }
   ],
   "source": [
    "import numpy as np\n",
    "import pandas as pd\n",
    "import sys\n",
    "import os\n",
    "#from prediction.models import train, predict, prediction\n",
    "#from evaluation.metrics import evaluate\n",
    "import import_ipynb\n",
    "module_path = os.path.abspath(os.path.join('..'))\n",
    "if module_path not in sys.path:\n",
    "    sys.path.append(module_path)    #+\"\\\\prediction\"\n",
    "from prediction.Models import train, predict, prediction\n",
    "from evaluation.Metrics import evaluate"
   ]
  },
  {
   "cell_type": "code",
   "execution_count": 3,
   "metadata": {},
   "outputs": [],
   "source": [
    "def individualKNNPrediction (similarityMatrix, predictionMatrix, kRange, validOrTestMatrix):\n",
    "    \"Declaration for kRange = range(50,120,10)\"\n",
    "    similarity = train(similarityMatrix)\n",
    "    MAP10 = {}\n",
    "    for kValue in kRange:\n",
    "        user_item_prediction_score = predict(predictionMatrix, kValue, similarity, item_similarity_en= False)\n",
    "        user_item_predict = prediction(user_item_prediction_score, 50, predictionMatrix)\n",
    "        user_item_res = evaluate(user_item_predict, validOrTestMatrix)\n",
    "        \n",
    "        MAP10[kValue] = user_item_res.get('MAP@10')[0]\n",
    "        \n",
    "    return MAP10"
   ]
  },
  {
   "cell_type": "code",
   "execution_count": null,
   "metadata": {},
   "outputs": [],
   "source": []
  }
 ],
 "metadata": {
  "kernelspec": {
   "display_name": "Python 3",
   "language": "python",
   "name": "python3"
  },
  "language_info": {
   "codemirror_mode": {
    "name": "ipython",
    "version": 3
   },
   "file_extension": ".py",
   "mimetype": "text/x-python",
   "name": "python",
   "nbconvert_exporter": "python",
   "pygments_lexer": "ipython3",
   "version": "3.7.3"
  }
 },
 "nbformat": 4,
 "nbformat_minor": 2
}
