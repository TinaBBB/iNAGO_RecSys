{
 "cells": [
  {
   "cell_type": "code",
   "execution_count": 2,
   "metadata": {},
   "outputs": [
    {
     "name": "stdout",
     "output_type": "stream",
     "text": [
      "Collecting flask-restful\n",
      "  Downloading https://files.pythonhosted.org/packages/17/44/6e490150ee443ca81d5f88b61bb4bbb133d44d75b0b716ebe92489508da4/Flask_RESTful-0.3.7-py2.py3-none-any.whl\n",
      "Collecting aniso8601>=0.82\n",
      "  Downloading https://files.pythonhosted.org/packages/eb/e4/787e104b58eadc1a710738d4e418d7e599e4e778e52cb8e5d5ef6ddd5833/aniso8601-8.0.0-py2.py3-none-any.whl (43kB)\n",
      "Requirement already satisfied: Flask>=0.8 in c:\\programdata\\anaconda3\\lib\\site-packages (from flask-restful) (1.0.2)\n",
      "Requirement already satisfied: pytz in c:\\programdata\\anaconda3\\lib\\site-packages (from flask-restful) (2018.9)\n",
      "Requirement already satisfied: six>=1.3.0 in c:\\programdata\\anaconda3\\lib\\site-packages (from flask-restful) (1.12.0)\n",
      "Requirement already satisfied: Werkzeug>=0.14 in c:\\programdata\\anaconda3\\lib\\site-packages (from Flask>=0.8->flask-restful) (0.14.1)\n",
      "Requirement already satisfied: Jinja2>=2.10 in c:\\programdata\\anaconda3\\lib\\site-packages (from Flask>=0.8->flask-restful) (2.10)\n",
      "Requirement already satisfied: click>=5.1 in c:\\programdata\\anaconda3\\lib\\site-packages (from Flask>=0.8->flask-restful) (7.0)\n",
      "Requirement already satisfied: itsdangerous>=0.24 in c:\\programdata\\anaconda3\\lib\\site-packages (from Flask>=0.8->flask-restful) (1.1.0)\n",
      "Requirement already satisfied: MarkupSafe>=0.23 in c:\\programdata\\anaconda3\\lib\\site-packages (from Jinja2>=2.10->Flask>=0.8->flask-restful) (1.1.1)\n",
      "Installing collected packages: aniso8601, flask-restful\n",
      "Successfully installed aniso8601-8.0.0 flask-restful-0.3.7\n",
      "Note: you may need to restart the kernel to use updated packages.\n"
     ]
    }
   ],
   "source": [
    "pip install flask-restful"
   ]
  },
  {
   "cell_type": "code",
   "execution_count": 4,
   "metadata": {},
   "outputs": [],
   "source": [
    "#Resource allows more segreggated \n",
    "from flask import Flask, request\n",
    "from flask_restful import Resource, Api\n",
    "from sqlalchemy import create_engine\n",
    "from json import dumps\n",
    "from flask import jsonify\n"
   ]
  },
  {
   "cell_type": "code",
   "execution_count": 5,
   "metadata": {},
   "outputs": [],
   "source": [
    "import json\n",
    "import requests"
   ]
  },
  {
   "cell_type": "code",
   "execution_count": 12,
   "metadata": {},
   "outputs": [
    {
     "name": "stdout",
     "output_type": "stream",
     "text": [
      "Requirement already up-to-date: pyopenssl in c:\\programdata\\anaconda3\\lib\\site-packages (19.1.0)\n",
      "Requirement already satisfied, skipping upgrade: six>=1.5.2 in c:\\programdata\\anaconda3\\lib\\site-packages (from pyopenssl) (1.12.0)\n",
      "Requirement already satisfied, skipping upgrade: cryptography>=2.8 in c:\\programdata\\anaconda3\\lib\\site-packages (from pyopenssl) (2.8)\n",
      "Requirement already satisfied, skipping upgrade: cffi!=1.11.3,>=1.8 in c:\\programdata\\anaconda3\\lib\\site-packages (from cryptography>=2.8->pyopenssl) (1.12.2)\n",
      "Requirement already satisfied, skipping upgrade: pycparser in c:\\programdata\\anaconda3\\lib\\site-packages (from cffi!=1.11.3,>=1.8->cryptography>=2.8->pyopenssl) (2.19)\n",
      "Note: you may need to restart the kernel to use updated packages.\n"
     ]
    }
   ],
   "source": [
    "pip install -U pyopenssl"
   ]
  },
  {
   "cell_type": "code",
   "execution_count": 14,
   "metadata": {},
   "outputs": [
    {
     "name": "stdout",
     "output_type": "stream",
     "text": [
      " * Serving Flask app \"__main__\" (lazy loading)\n",
      " * Environment: production\n",
      "   WARNING: Do not use the development server in a production environment.\n",
      "   Use a production WSGI server instead.\n",
      " * Debug mode: off\n"
     ]
    },
    {
     "name": "stderr",
     "output_type": "stream",
     "text": [
      " * Running on http://127.0.0.1:5002/ (Press CTRL+C to quit)\n",
      "127.0.0.1 - - [06/Feb/2020 23:27:19] \"POST /business HTTP/1.1\" 201 -\n"
     ]
    },
    {
     "name": "stdout",
     "output_type": "stream",
     "text": [
      "{'jsondd': 'something I pass in'}\n"
     ]
    }
   ],
   "source": [
    "app = Flask(__name__)\n",
    "#Add resources to be much cleaner\n",
    "api = Api(app)\n",
    "\n",
    "features = {'alist':[]}\n",
    "somelist = []\n",
    "\n",
    "class Business(Resource):\n",
    "\n",
    "    def get(self):\n",
    "        return {'your list': features['alist']} # Fetches first column that is Employee ID\n",
    "    \n",
    "    def post(self):\n",
    "        some_json  = request.get_json()\n",
    "        print(some_json)\n",
    "#         countNumber = features.get('count',0) + 1\n",
    "#         features['count'] = countNumber\n",
    "        somelist.extend([1,2,3])\n",
    "        return {'You sent': some_json,\n",
    "               'somelist:': somelist}, 201\n",
    "    def put(self):\n",
    "        some_json  = request.get_json()\n",
    "        print(some_json)\n",
    "        #record the count number \n",
    "        countNumber = features.get('count',0) + 1\n",
    "        features['count'] = countNumber\n",
    "        features['ok'] = 'yes'\n",
    "        return {'You sent': some_json,\n",
    "               'Count:':countNumber,\n",
    "               'Ok:': features['ok']}, 201\n",
    "\n",
    "class Initialize(Resource):\n",
    "    def get(self):\n",
    "        return {'System message': 'You are initializing the user preference'} # Fetches first column that is Employee ID\n",
    "    \n",
    "    def post(self):\n",
    "        some_json  = request.get_json()\n",
    "        print(some_json)\n",
    "        features['alist'] = [1,2,3,4,5,6]\n",
    "        return {'You sent': some_json,\n",
    "               'Feature:':features['alist']}, 201\n",
    "\n",
    "api.add_resource(Business, '/business') # Route_1\n",
    "api.add_resource(Initialize,'/initialize')\n",
    "if __name__ == '__main__':\n",
    "     app.run(port='5002')"
   ]
  },
  {
   "cell_type": "code",
   "execution_count": 8,
   "metadata": {},
   "outputs": [],
   "source": [
    "#http://127.0.0.1:5002/business"
   ]
  },
  {
   "cell_type": "code",
   "execution_count": 6,
   "metadata": {},
   "outputs": [],
   "source": [
    "#http://127.0.0.1:5002/business\n",
    "#http://127.0.0.1:5002/business"
   ]
  },
  {
   "cell_type": "code",
   "execution_count": null,
   "metadata": {},
   "outputs": [],
   "source": []
  }
 ],
 "metadata": {
  "kernelspec": {
   "display_name": "Python 3",
   "language": "python",
   "name": "python3"
  },
  "language_info": {
   "codemirror_mode": {
    "name": "ipython",
    "version": 3
   },
   "file_extension": ".py",
   "mimetype": "text/x-python",
   "name": "python",
   "nbconvert_exporter": "python",
   "pygments_lexer": "ipython3",
   "version": "3.7.3"
  }
 },
 "nbformat": 4,
 "nbformat_minor": 2
}
