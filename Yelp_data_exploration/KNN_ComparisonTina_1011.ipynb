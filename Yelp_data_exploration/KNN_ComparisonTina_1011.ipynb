{
 "cells": [
  {
   "cell_type": "markdown",
   "metadata": {},
   "source": [
    "## To compare different results "
   ]
  },
  {
   "cell_type": "code",
   "execution_count": 1,
   "metadata": {},
   "outputs": [],
   "source": [
    "from ast import literal_eval\n",
    "from os import listdir\n",
    "from os.path import isfile, join\n",
    "from scipy.sparse import csr_matrix, load_npz, save_npz\n",
    "from tqdm import tqdm\n",
    "import statistics as stats\n",
    "import seaborn as sns\n",
    "import datetime\n",
    "import json\n",
    "import numpy as np\n",
    "import pandas as pd\n",
    "import time\n",
    "import yaml\n",
    "import scipy.sparse as sparse\n",
    "import matplotlib.pyplot as plt"
   ]
  },
  {
   "cell_type": "markdown",
   "metadata": {},
   "source": [
    "## Dataset files "
   ]
  },
  {
   "cell_type": "code",
   "execution_count": 2,
   "metadata": {},
   "outputs": [],
   "source": [
    "#reviewJson = \"..\\\\data\\\\Export_CleanedReview.json\"\n",
    "reviewJsonWithClosedRes = \"..\\\\data\\\\Export_CleanedReviewWithClosedRes.json\"\n",
    "reviewJsonWithBusAvgStars = \"..\\\\data\\\\Export_CleanedReviewNew_1011.json\"\n",
    "# with open(reviewJson, encoding = 'utf-8') as json_file:\n",
    "#     data = json_file.readlines()\n",
    "#     data = list(map(json.loads, data))\n",
    "\n",
    "#This appeared to be a neasted list, just use data[0] to read\n",
    "# df_review = pd.DataFrame(data[0])"
   ]
  },
  {
   "cell_type": "markdown",
   "metadata": {},
   "source": [
    "## Load Data\n",
    "Select top frenquent user and top frequenty restaurants that had at least 1 review >= 4 stars (Kickking out users that gave all  reviews <=3 and restaurants that never got start >= 4 stars)"
   ]
  },
  {
   "cell_type": "code",
   "execution_count": 3,
   "metadata": {},
   "outputs": [],
   "source": [
    "def get_yelp_df(path = 'data/', filename = 'Export_CleanedReview.json', sampling=False, top_user_num=6100, top_item_num=4000):\n",
    "    \"\"\"\n",
    "    Get the pandas dataframe\n",
    "    Sampling only the top users/items by density \n",
    "    Implicit representation applies\n",
    "    \"\"\"\n",
    "    with open(filename,'r') as f:\n",
    "        data = f.readlines()\n",
    "        data = list(map(json.loads, data))\n",
    "    \n",
    "    data = data[0]\n",
    "    #Get all the data from the data file\n",
    "    df = pd.DataFrame(data)\n",
    "    \n",
    "    df.rename(columns={'stars': 'review_stars', 'text': 'review_text', 'cool': 'review_cool',\n",
    "                       'funny': 'review_funny', 'useful': 'review_useful'},\n",
    "              inplace=True)\n",
    "\n",
    "    df['business_num_id'] = df.business_id.astype('category').\\\n",
    "        cat.rename_categories(range(0, df.business_id.nunique()))\n",
    "    df['business_num_id'] = df['business_num_id'].astype('int')\n",
    "\n",
    "    df['user_num_id'] = df.user_id.astype('category').\\\n",
    "    cat.rename_categories(range(0, df.user_id.nunique()))\n",
    "    df['user_num_id'] = df['user_num_id'].astype('int')\n",
    "\n",
    "    df['timestamp'] = df['date'].apply(date_to_timestamp)\n",
    "\n",
    "    if sampling:\n",
    "        df = filter_yelp_df(df, top_user_num=top_user_num, top_item_num=top_item_num)\n",
    "        # Refresh num id\n",
    "        df['business_num_id'] = df.business_id.astype('category').\\\n",
    "        cat.rename_categories(range(0, df.business_id.nunique()))\n",
    "        df['business_num_id'] = df['business_num_id'].astype('int')\n",
    "        \n",
    "        df['user_num_id'] = df.user_id.astype('category').\\\n",
    "        cat.rename_categories(range(0, df.user_id.nunique()))\n",
    "        df['user_num_id'] = df['user_num_id'].astype('int')\n",
    "#     drop_list = ['date','review_id','review_funny','review_cool','review_useful']\n",
    "#     df = df.drop(drop_list, axis=1)\n",
    "\n",
    "    df = df.reset_index(drop = True)\n",
    "\n",
    "    return df \n",
    "\n",
    "def filter_yelp_df(df, top_user_num=6100, top_item_num=4000):\n",
    "    #Getting the reviews where starts are above 3\n",
    "    df_implicit = df[df['review_stars']>3]\n",
    "    frequent_user_id = df_implicit['user_num_id'].value_counts().head(top_user_num).index.values\n",
    "    frequent_item_id = df_implicit['business_num_id'].value_counts().head(top_item_num).index.values\n",
    "    return df.loc[(df['user_num_id'].isin(frequent_user_id)) & (df['business_num_id'].isin(frequent_item_id))]\n",
    "\n",
    "def date_to_timestamp(date):\n",
    "    dt = datetime.datetime.strptime(date, '%Y-%m-%d')\n",
    "    return time.mktime(dt.timetuple())\n",
    "\n",
    "def df_to_sparse(df, row_name='userId', col_name='movieId', value_name='rating',\n",
    "                 shape=None):\n",
    "    rows = df[row_name]\n",
    "    cols = df[col_name]\n",
    "    if value_name is not None:\n",
    "        values = df[value_name]\n",
    "    else:\n",
    "        values = [1]*len(rows)\n",
    "\n",
    "    return csr_matrix((values, (rows, cols)), shape=shape)"
   ]
  },
  {
   "cell_type": "markdown",
   "metadata": {},
   "source": [
    "## Get rating-UI and timestamp-UI matrix from original df"
   ]
  },
  {
   "cell_type": "code",
   "execution_count": 5,
   "metadata": {},
   "outputs": [],
   "source": [
    "def get_rating_timestamp_matrix(df, sampling=False, top_user_num=6100, top_item_num=4000):\n",
    "    \"\"\"\n",
    "    \"\"\"\n",
    "    #make the df implicit with top frenquent users and \n",
    "    #no need to sample anymore if df was sampled before \n",
    "    if sampling:\n",
    "        df = filter_yelp_df(df, top_user_num=top_user_num, top_item_num=top_item_num)\n",
    "\n",
    "    rating_matrix = df_to_sparse(df, row_name='user_num_id',\n",
    "                                 col_name='business_num_id',\n",
    "                                 value_name='review_stars',\n",
    "                                 shape=None)\n",
    "    \n",
    "    #Have same dimension and data entries with rating_matrix, except that the review stars are - user avg\n",
    "#     ratingWuserAvg_matrix = df_to_sparse(df, row_name='user_num_id',\n",
    "#                                  col_name='business_num_id',\n",
    "#                                  value_name='reviewStars_userAvg',\n",
    "#                                  shape=None)\n",
    "\n",
    "    ratingWuserAvg_matrix = df_to_sparse(df, row_name='user_num_id',\n",
    "                                 col_name='business_num_id',\n",
    "                                 value_name='reviewStars_busAvg',\n",
    "                                 shape=None)\n",
    "    \n",
    "    timestamp_matrix = df_to_sparse(df, row_name='user_num_id',\n",
    "                                    col_name='business_num_id',\n",
    "                                    value_name='timestamp',\n",
    "                                    shape=None)\n",
    "    \n",
    "\n",
    "    return rating_matrix, ratingWuserAvg_matrix, timestamp_matrix"
   ]
  },
  {
   "cell_type": "markdown",
   "metadata": {},
   "source": [
    "## Time ordered split "
   ]
  },
  {
   "cell_type": "code",
   "execution_count": 6,
   "metadata": {},
   "outputs": [],
   "source": [
    "def time_ordered_split(rating_matrix, ratingWuserAvg_matrix, timestamp_matrix, ratio=[0.5, 0.2, 0.3],\n",
    "                       implicit=True, remove_empty=False, threshold=3,\n",
    "                       sampling=False, sampling_ratio=0.1):\n",
    "    \"\"\"\n",
    "    Split the data to train,valid,test by time\n",
    "    ratio:  train:valid:test\n",
    "    threshold: for implicit representation\n",
    "    \"\"\"\n",
    "    if implicit:\n",
    "        temp_rating_matrix = sparse.csr_matrix(rating_matrix.shape)\n",
    "        temp_rating_matrix[(rating_matrix > threshold).nonzero()] = 1\n",
    "        rating_matrix = temp_rating_matrix\n",
    "        timestamp_matrix = timestamp_matrix.multiply(rating_matrix)\n",
    "        #ratingWuserAvg_matrix = ratingWuserAvg_matrix.multiply(rating_matrix)\n",
    "\n",
    "    nonzero_index = None\n",
    "\n",
    "    #Default false, not removing empty columns and rows\n",
    "    #Should not have this case, since users should have at least 1 record of 4,5 \n",
    "    #And restuarant should have at least 1 record of 4,5 \n",
    "    if remove_empty:\n",
    "        # Remove empty columns. record original item index\n",
    "        nonzero_index = np.unique(rating_matrix.nonzero()[1])\n",
    "        rating_matrix = rating_matrix[:, nonzero_index]\n",
    "        timestamp_matrix = timestamp_matrix[:, nonzero_index]\n",
    "        ratingWuserAvg_matrix = ratingWuserAvg_matrix[:, nonzero_index]\n",
    "\n",
    "        # Remove empty rows. record original user index\n",
    "        nonzero_rows = np.unique(rating_matrix.nonzero()[0])\n",
    "        rating_matrix = rating_matrix[nonzero_rows]\n",
    "        timestamp_matrix = timestamp_matrix[nonzero_rows]\n",
    "        ratingWuserAvg_matrix = ratingWuserAvg_matrix[nonzero_rows]\n",
    "\n",
    "    user_num, item_num = rating_matrix.shape\n",
    "\n",
    "    rtrain = []\n",
    "    rtrain_userAvg = []\n",
    "    rtime = []\n",
    "    rvalid = []\n",
    "    rvalid_userAvg = []\n",
    "    rtest = []\n",
    "    rtest_userAvg = []\n",
    "    # Get the index list corresponding to item for train,valid,test\n",
    "    item_idx_train = []\n",
    "    item_idx_valid = []\n",
    "    item_idx_test = []\n",
    "    \n",
    "    for i in tqdm(range(user_num)):\n",
    "        #Get the non_zero indexs, restuarants where the user visited/liked if implicit \n",
    "        item_indexes = rating_matrix[i].nonzero()[1]\n",
    "        \n",
    "        #Get the data for the user\n",
    "        data = rating_matrix[i].data\n",
    "        \n",
    "        #Get time stamp value \n",
    "        timestamp = timestamp_matrix[i].data\n",
    "        \n",
    "        #Get review stars with user avg data \n",
    "        if implicit == False:\n",
    "            dataWuserAvg = ratingWuserAvg_matrix[i].data\n",
    "        \n",
    "        #Non zero reviews for this user\n",
    "        num_nonzeros = len(item_indexes)\n",
    "        \n",
    "        #If the user has at least one review\n",
    "        if num_nonzeros >= 1:\n",
    "            #Get number of test and valid data \n",
    "            #train is 30%\n",
    "            num_test = int(num_nonzeros * ratio[2])\n",
    "            #validate is 50%\n",
    "            num_valid = int(num_nonzeros * (ratio[1] + ratio[2]))\n",
    "\n",
    "            valid_offset = num_nonzeros - num_valid\n",
    "            test_offset = num_nonzeros - num_test\n",
    "\n",
    "            #Sort the timestamp for each review for the user\n",
    "            argsort = np.argsort(timestamp)\n",
    "            \n",
    "            #Sort the reviews for the user according to the time stamp \n",
    "            data = data[argsort]\n",
    "            \n",
    "            #Sort the review with user avg accoridng to the time stamp\n",
    "            if implicit == False:\n",
    "                dataWuserAvg = dataWuserAvg[argsort]\n",
    "            \n",
    "            #Non-zero review index sort according to time\n",
    "            item_indexes = item_indexes[argsort]\n",
    "            \n",
    "            #list of ratings, num of valid_offset index, index where there's non-zeros\n",
    "            rtrain.append([data[:valid_offset], np.full(valid_offset, i), item_indexes[:valid_offset]])\n",
    "            \n",
    "            if implicit == False:\n",
    "                #Changing valid set to binary\n",
    "                count=valid_offset\n",
    "                for eachData in data[valid_offset:test_offset]:\n",
    "                    #if rating-avgRating > 0 then like\n",
    "                    if eachData >= 4:\n",
    "                        data[count] = 1\n",
    "                    else:\n",
    "                        data[count] = 0\n",
    "                    count += 1\n",
    "                \n",
    "            #50%-70%\n",
    "            rvalid.append([data[valid_offset:test_offset], np.full(test_offset - valid_offset, i),\n",
    "                           item_indexes[valid_offset:test_offset]])\n",
    "            #remaining 30%\n",
    "            rtest.append([data[test_offset:], np.full(num_test, i), item_indexes[test_offset:]])\n",
    "            \n",
    "            if implicit == False:\n",
    "                #Now for the rating matrix that considers user average rating\n",
    "                #list of ratings, num of valid_offset index, index where there's non-zeros\n",
    "                rtrain_userAvg.append([dataWuserAvg[:valid_offset], np.full(valid_offset, i), item_indexes[:valid_offset]])\n",
    "                #50%-70%\n",
    "\n",
    "                #Changing valid set to binary\n",
    "                count=valid_offset\n",
    "                for eachData in dataWuserAvg[valid_offset:test_offset]:\n",
    "                    #if rating-avgRating > 0 then like\n",
    "                    if eachData > 0:\n",
    "                        dataWuserAvg[count] = 1\n",
    "                    else:\n",
    "                        dataWuserAvg[count] = 0\n",
    "                    count += 1\n",
    "\n",
    "                rvalid_userAvg.append([dataWuserAvg[valid_offset:test_offset], np.full(test_offset - valid_offset, i),\n",
    "                               item_indexes[valid_offset:test_offset]])\n",
    "\n",
    "                #Change test set to binary even we don't use it\n",
    "                countTest = test_offset\n",
    "                for eachData in dataWuserAvg[test_offset:]:\n",
    "                    #if rating-avgRating > 0 then like\n",
    "                    if eachData > 0:\n",
    "                        dataWuserAvg[count] = 1\n",
    "                    else:\n",
    "                        dataWuserAvg[count] = 0\n",
    "                    count += 1\n",
    "\n",
    "\n",
    "                #remaining 30%\n",
    "                rtest_userAvg.append([dataWuserAvg[test_offset:], np.full(num_test, i), item_indexes[test_offset:]])\n",
    "                \n",
    "            item_idx_train.append(item_indexes[:valid_offset])\n",
    "            \n",
    "#             item_idx_valid.append(item_indexes[valid_offset:test_offset])\n",
    "#             item_idx_test.append(item_indexes[test_offset:])\n",
    "        else:\n",
    "            item_idx_train.append([])\n",
    "#             item_idx_valid.append([])\n",
    "#             item_idx_test.append([])\n",
    "    \n",
    "    rtrain = np.array(rtrain)\n",
    "    rvalid = np.array(rvalid)\n",
    "    rtest = np.array(rtest)\n",
    "    if implicit == False:\n",
    "        rtrain_userAvg = np.array(rtrain_userAvg)\n",
    "        rvalid_userAvg = np.array(rvalid_userAvg)\n",
    "        rtest_userAvg = np.array(rtest_userAvg)\n",
    "\n",
    "    #take non-zeros values, row index, and column (non-zero) index and store into sparse matrix\n",
    "    rtrain = sparse.csr_matrix((np.hstack(rtrain[:, 0]), (np.hstack(rtrain[:, 1]), np.hstack(rtrain[:, 2]))),\n",
    "                               shape=rating_matrix.shape, dtype=np.float32)\n",
    "    rvalid = sparse.csr_matrix((np.hstack(rvalid[:, 0]), (np.hstack(rvalid[:, 1]), np.hstack(rvalid[:, 2]))),\n",
    "                               shape=rating_matrix.shape, dtype=np.float32)\n",
    "    rtest = sparse.csr_matrix((np.hstack(rtest[:, 0]), (np.hstack(rtest[:, 1]), np.hstack(rtest[:, 2]))),\n",
    "                              shape=rating_matrix.shape, dtype=np.float32)\n",
    "    \n",
    "    if implicit == False:\n",
    "        rtrain_userAvg = sparse.csr_matrix((np.hstack(rtrain_userAvg[:, 0]), (np.hstack(rtrain_userAvg[:, 1]), np.hstack(rtrain_userAvg[:, 2]))),\n",
    "                                   shape=rating_matrix.shape, dtype=np.float32)\n",
    "        rvalid_userAvg = sparse.csr_matrix((np.hstack(rvalid_userAvg[:, 0]), (np.hstack(rvalid_userAvg[:, 1]), np.hstack(rvalid_userAvg[:, 2]))),\n",
    "                                   shape=rating_matrix.shape, dtype=np.float32)\n",
    "        rtest_userAvg = sparse.csr_matrix((np.hstack(rtest_userAvg[:, 0]), (np.hstack(rtest_userAvg[:, 1]), np.hstack(rtest_userAvg[:, 2]))),\n",
    "                                  shape=rating_matrix.shape, dtype=np.float32)\n",
    "\n",
    "    return rtrain, rvalid, rtest,rtrain_userAvg, rvalid_userAvg, rtest_userAvg, nonzero_index, timestamp_matrix, item_idx_train, item_idx_valid, item_idx_test"
   ]
  },
  {
   "cell_type": "code",
   "execution_count": 30,
   "metadata": {},
   "outputs": [
    {
     "data": {
      "text/plain": [
       "<6085x4000 sparse matrix of type '<class 'numpy.float32'>'\n",
       "\twith 130953 stored elements in Compressed Sparse Row format>"
      ]
     },
     "execution_count": 30,
     "metadata": {},
     "output_type": "execute_result"
    }
   ],
   "source": [
    "rtrain"
   ]
  },
  {
   "cell_type": "code",
   "execution_count": 31,
   "metadata": {},
   "outputs": [
    {
     "data": {
      "text/plain": [
       "<6085x4000 sparse matrix of type '<class 'numpy.float32'>'\n",
       "\twith 52964 stored elements in Compressed Sparse Row format>"
      ]
     },
     "execution_count": 31,
     "metadata": {},
     "output_type": "execute_result"
    }
   ],
   "source": [
    "rvalid"
   ]
  },
  {
   "cell_type": "code",
   "execution_count": 32,
   "metadata": {},
   "outputs": [
    {
     "data": {
      "text/plain": [
       "<6085x4000 sparse matrix of type '<class 'numpy.float32'>'\n",
       "\twith 74943 stored elements in Compressed Sparse Row format>"
      ]
     },
     "execution_count": 32,
     "metadata": {},
     "output_type": "execute_result"
    }
   ],
   "source": [
    "rtest"
   ]
  },
  {
   "cell_type": "markdown",
   "metadata": {},
   "source": [
    "## Get df for training corpus"
   ]
  },
  {
   "cell_type": "code",
   "execution_count": 7,
   "metadata": {},
   "outputs": [],
   "source": [
    "#Item idex matrix stores the reivews starts\n",
    "#This function returns a list of index for the reviews included in training set \n",
    "def get_corpus_idx_list(df, item_idx_matrix):\n",
    "    \"\"\"\n",
    "    Input: \n",
    "    df: total dataframe\n",
    "    item_idx_matrix: train index list got from time_split \n",
    "    Output: row index in original dataframe for training data by time split\n",
    "    \"\"\"\n",
    "    lst = []\n",
    "    #For all the users: 5791\n",
    "    for i in tqdm(range(len(item_idx_matrix))):\n",
    "        \n",
    "        #find row index where user_num_id is i\n",
    "        a = df.index[df['user_num_id'] == i].tolist()\n",
    "        \n",
    "        #loop through the busienss id that the user i reviewed for in offvalid set \n",
    "        for item_idx in  item_idx_matrix[i]:\n",
    "            \n",
    "            #get the row index for reviews for business that the user liked in the train set\n",
    "            b = df.index[df['business_num_id'] == item_idx].tolist()\n",
    "            \n",
    "            #Find the index for which this user liked, one user only rate a business once\n",
    "            idx_to_add = list(set(a).intersection(b))\n",
    "            \n",
    "            if idx_to_add not in lst:\n",
    "                lst.extend(idx_to_add)\n",
    "    return lst"
   ]
  },
  {
   "cell_type": "markdown",
   "metadata": {},
   "source": [
    "## Preprocess using Term Frequency - CounterVectorizer"
   ]
  },
  {
   "cell_type": "code",
   "execution_count": 8,
   "metadata": {},
   "outputs": [
    {
     "name": "stderr",
     "output_type": "stream",
     "text": [
      "[nltk_data] Downloading package wordnet to\n",
      "[nltk_data]     C:\\Users\\shenti10\\AppData\\Roaming\\nltk_data...\n",
      "[nltk_data]   Package wordnet is already up-to-date!\n",
      "[nltk_data] Downloading package stopwords to\n",
      "[nltk_data]     C:\\Users\\shenti10\\AppData\\Roaming\\nltk_data...\n",
      "[nltk_data]   Package stopwords is already up-to-date!\n"
     ]
    }
   ],
   "source": [
    "#Stemming and Lemmatisation\n",
    "from nltk.stem.porter import PorterStemmer\n",
    "from nltk.stem.wordnet import WordNetLemmatizer\n",
    "import re \n",
    "import nltk\n",
    "from nltk.corpus import stopwords\n",
    "from nltk.stem.porter import PorterStemmer\n",
    "from nltk.tokenize import RegexpTokenizer\n",
    "# Get corpus and CountVector\n",
    "from sklearn.feature_extraction.text import CountVectorizer\n",
    "nltk.download('wordnet')\n",
    "nltk.download('stopwords')\n",
    "lem = WordNetLemmatizer()\n",
    "stem = PorterStemmer()\n",
    "stop_words = set(stopwords.words(\"english\"))\n",
    "new_words = ['not_the']\n",
    "stop_words = stop_words.union(new_words)"
   ]
  },
  {
   "cell_type": "code",
   "execution_count": 9,
   "metadata": {},
   "outputs": [],
   "source": [
    "from tqdm import tqdm\n",
    "\n",
    "#Should 'because' added?\n",
    "def preprocess(df, reset_list = [',','.','?',';','however','but']):\n",
    "    corpus = []\n",
    "    for i in tqdm(range(df.shape[0])):\n",
    "        text = df['review_text'][i]\n",
    "        change_flg = 0\n",
    "        #Convert to lowercase\n",
    "        text = text.lower()\n",
    "        \n",
    "        ##Convert to list from string, loop through the review text\n",
    "        text = text.split()\n",
    "        \n",
    "        #any sentence that encounters a not, the folloing words will become not phrase until hit the sentence end\n",
    "        for j in range(len(text)):\n",
    "            #Make the not_ hack\n",
    "            if text[j] == 'not':\n",
    "                change_flg = 1\n",
    "#                 print 'changes is made after ', i\n",
    "                continue\n",
    "            #if was 1 was round and not hit a 'not' in this round\n",
    "            if change_flg == 1 and any(reset in text[j] for reset in reset_list):\n",
    "                text[j] = 'not_' + text[j]\n",
    "                change_flg = 0\n",
    "#                 print 'reset at ', i\n",
    "            if change_flg == 1:\n",
    "                text[j] = 'not_' + text[j]\n",
    "        \n",
    "        #Convert back to string\n",
    "        text = \" \".join(text)\n",
    "        \n",
    "        #Remove punctuations\n",
    "#       text = re.sub('[^a-zA-Z]', ' ', text)\n",
    "        \n",
    "        #remove tags\n",
    "        text=re.sub(\"&lt;/?.*?&gt;\",\" &lt;&gt; \",text)\n",
    "        \n",
    "        # remove special characters and digits\n",
    "        text=re.sub(\"(\\\\d|\\\\W)+\",\" \",text)\n",
    "        \n",
    "        ##Convert to list from string\n",
    "        text = text.split()\n",
    "        \n",
    "        ##Stemming\n",
    "        ps=PorterStemmer()\n",
    "        \n",
    "        #Lemmatisation\n",
    "        lem = WordNetLemmatizer()\n",
    "        text = [lem.lemmatize(word) for word in text if not word in  \n",
    "                stop_words] \n",
    "        text = \" \".join(text)\n",
    "        corpus.append(text)\n",
    "    return corpus"
   ]
  },
  {
   "cell_type": "markdown",
   "metadata": {},
   "source": [
    "## All Model"
   ]
  },
  {
   "cell_type": "code",
   "execution_count": 10,
   "metadata": {},
   "outputs": [],
   "source": [
    "from sklearn.metrics.pairwise import cosine_similarity\n",
    "def train(matrix_train):\n",
    "    similarity = cosine_similarity(X=matrix_train, Y=None, dense_output=True)\n",
    "    return similarity\n",
    "\n",
    "def get_I_K(df, X, row_name = 'business_num_id', binary = True, shape = (121994,6000)):\n",
    "    \"\"\"\n",
    "    get the item-keyphrase matrix\n",
    "    \"\"\"\n",
    "    rows = []\n",
    "    cols = []\n",
    "    vals = []\n",
    "    #For each review history\n",
    "    for i in tqdm(range(X.shape[0])):\n",
    "        #Get the array of frequencies for document/review i \n",
    "        arr = X[i].toarray() \n",
    "        nonzero_element = arr.nonzero()[1]  # Get nonzero element in each line, keyphrase that appears index \n",
    "        length_of_nonzero = len(nonzero_element) #number of important keyphrase that appears\n",
    "        \n",
    "        # df[row_name][i] is the item idex\n",
    "        #Get a list row index that indicates the document/review\n",
    "        rows.extend(np.array([df[row_name][i]]*length_of_nonzero)) ## Item index\n",
    "        #print(rows)\n",
    "        \n",
    "        #Get a list of column index indicating the key phrase that appears in i document/review\n",
    "        cols.extend(nonzero_element) ## Keyword Index\n",
    "        if binary:\n",
    "            #Create a bunch of 1s\n",
    "            vals.extend(np.array([1]*length_of_nonzero))\n",
    "        else:\n",
    "            #If not binary \n",
    "            vals.extend(arr[arr.nonzero()])    \n",
    "    return csr_matrix((vals, (rows, cols)), shape=shape)\n",
    "\n",
    "\n",
    "#Get a UI matrix if it's not item_similarity based or else IU\n",
    "def predict(matrix_train, k, similarity, item_similarity_en = False):\n",
    "    prediction_scores = []\n",
    "    \n",
    "    #inverse to IU matrix\n",
    "    if item_similarity_en:\n",
    "        matrix_train = matrix_train.transpose()\n",
    "        \n",
    "    #for each user or item, depends UI or IU \n",
    "    for user_index in tqdm(range(matrix_train.shape[0])):\n",
    "        # Get user u's prediction scores for all items\n",
    "        #Get prediction/similarity score for each user 1*num or user or num of items\n",
    "        vector_u = similarity[user_index]\n",
    "\n",
    "        # Get closest K neighbors excluding user u self\n",
    "        #Decending accoding to similarity score, select top k\n",
    "        similar_users = vector_u.argsort()[::-1][1:k+1]\n",
    "        \n",
    "        # Get neighbors similarity weights and ratings\n",
    "        similar_users_weights = similarity[user_index][similar_users]\n",
    "        \n",
    "        #similar_users_weights_sum = np.sum(similar_users_weights)\n",
    "        #print(similar_users_weights.shape)\n",
    "        #shape: num of res * k\n",
    "        similar_users_ratings = matrix_train[similar_users].toarray()\n",
    "              \n",
    "        prediction_scores_u = similar_users_ratings * similar_users_weights[:, np.newaxis]\n",
    "        #print(prediction_scores_u)\n",
    "        \n",
    "        \n",
    "        prediction_scores.append(np.sum(prediction_scores_u, axis=0))\n",
    "        \n",
    "    res = np.array(prediction_scores)\n",
    "    \n",
    "    if item_similarity_en:\n",
    "        res = res.transpose()\n",
    "    return res\n",
    "\n",
    "#Get a UI matrix if it's not item_similarity based or else IU\n",
    "# def predictUU(matrix_train, k, similarity1, similarity2, similarity3, weight1, weight2, weight3, chooseWeigthMethod = 'max',  item_similarity_en = False):\n",
    "#     prediction_scores = []\n",
    "    \n",
    "#     #inverse to IU matrix\n",
    "#     if item_similarity_en:\n",
    "#         matrix_train = matrix_train.transpose()\n",
    "        \n",
    "#     #for each user or item, depends UI or IU \n",
    "#     for user_index in tqdm(range(matrix_train.shape[0])):\n",
    "#         # Get user u's prediction scores for all items\n",
    "#         #Get prediction/similarity score for each user 1*num or user or num of items\n",
    "#         vector_u = similarity[user_index]\n",
    "\n",
    "#         # Get closest K neighbors excluding user u self\n",
    "#         #Decending accoding to similarity score, select top k\n",
    "#         similar_users = vector_u.argsort()[::-1][1:k+1]\n",
    "        \n",
    "#         # Get neighbors similarity weights and ratings\n",
    "#         similar_users_weights = similarity[user_index][similar_users]\n",
    "        \n",
    "#         #similar_users_weights_sum = np.sum(similar_users_weights)\n",
    "#         #print(similar_users_weights.shape)\n",
    "#         #shape: num of res * k\n",
    "#         similar_users_ratings = matrix_train[similar_users].toarray()\n",
    "              \n",
    "#         prediction_scores_u = similar_users_ratings * similar_users_weights[:, np.newaxis]\n",
    "#         #print(prediction_scores_u)\n",
    "        \n",
    "        \n",
    "#         prediction_scores.append(np.sum(prediction_scores_u, axis=0))\n",
    "        \n",
    "#     res = np.array(prediction_scores)\n",
    "    \n",
    "#     if item_similarity_en:\n",
    "#         res = res.transpose()\n",
    "#     return res\n",
    "\n",
    "\n",
    "# def predictII(matrix_train, k, similarity, item_similarity_en = False):\n",
    "#     prediction_scores = []\n",
    "    \n",
    "#     #inverse to IU matrix\n",
    "#     if item_similarity_en:\n",
    "#         matrix_train = matrix_train.transpose()\n",
    "        \n",
    "#     #for each user or item, depends UI or IU \n",
    "#     for user_index in tqdm(range(matrix_train.shape[0])):\n",
    "#         # Get user u's prediction scores for all items\n",
    "#         #Get prediction/similarity score for each user 1*num or user or num of items\n",
    "#         vector_u = similarity[user_index]\n",
    "\n",
    "#         # Get closest K neighbors excluding user u self\n",
    "#         #Decending accoding to similarity score, select top k\n",
    "#         similar_users = vector_u.argsort()[::-1][1:k+1]\n",
    "        \n",
    "#         # Get neighbors similarity weights and ratings\n",
    "#         similar_users_weights = similarity[user_index][similar_users]\n",
    "        \n",
    "#         #similar_users_weights_sum = np.sum(similar_users_weights)\n",
    "#         #print(similar_users_weights.shape)\n",
    "#         #shape: num of res * k\n",
    "#         similar_users_ratings = matrix_train[similar_users].toarray()\n",
    "              \n",
    "#         prediction_scores_u = similar_users_ratings * similar_users_weights[:, np.newaxis]\n",
    "#         #print(prediction_scores_u)\n",
    "        \n",
    "        \n",
    "#         prediction_scores.append(np.sum(prediction_scores_u, axis=0))\n",
    "        \n",
    "#     res = np.array(prediction_scores)\n",
    "    \n",
    "#     if item_similarity_en:\n",
    "#         res = res.transpose()\n",
    "#     return res\n",
    "\n",
    "\n",
    "\n",
    "#Preidction score is UI or IU?\n",
    "def prediction(prediction_score, topK, matrix_Train):\n",
    "\n",
    "    prediction = []\n",
    "\n",
    "    #for each user\n",
    "    for user_index in tqdm(range(matrix_Train.shape[0])):\n",
    "        \n",
    "        #take the prediction scores for user 1 * num res\n",
    "        vector_u = prediction_score[user_index]\n",
    "        \n",
    "        #The restuarant the user rated\n",
    "        vector_train = matrix_Train[user_index]\n",
    "        \n",
    "        if len(vector_train.nonzero()[0]) > 0:\n",
    "            vector_predict = sub_routine(vector_u, vector_train, topK=topK)\n",
    "        else:\n",
    "            vector_predict = np.zeros(topK, dtype=np.float32)\n",
    "\n",
    "        prediction.append(vector_predict)\n",
    "\n",
    "    return np.vstack(prediction)\n",
    "\n",
    "#topK: the number of restuarants we are suggesting \n",
    "#if vector_train has number, then the user has visited\n",
    "def sub_routine(vector_u, vector_train, topK=500):\n",
    "\n",
    "    #index where non-zero\n",
    "    train_index = vector_train.nonzero()[1]\n",
    "    \n",
    "    vector_u = vector_u\n",
    "    \n",
    "    #get topk + num rated res prediction score descending, top index \n",
    "    candidate_index = np.argpartition(-vector_u, topK+len(train_index))[:topK+len(train_index)]\n",
    "    \n",
    "    #sort top prediction score index in range topK+len(train_index) into vector_u`\n",
    "    vector_u = candidate_index[vector_u[candidate_index].argsort()[::-1]]\n",
    "    \n",
    "    #deleted the rated res from the topk+train_index prediction score vector for user u \n",
    "    #Delete the user rated res index from the topk+numRated index\n",
    "    vector_u = np.delete(vector_u, np.isin(vector_u, train_index).nonzero()[0])\n",
    "\n",
    "    #so we only include the top K prediction score here\n",
    "    return vector_u[:topK]"
   ]
  },
  {
   "cell_type": "markdown",
   "metadata": {},
   "source": [
    "## Evaluation"
   ]
  },
  {
   "cell_type": "code",
   "execution_count": 11,
   "metadata": {},
   "outputs": [],
   "source": [
    "def recallk(vector_true_dense, hits, **unused):\n",
    "    hits = len(hits.nonzero()[0])\n",
    "    return float(hits)/len(vector_true_dense)\n",
    "\n",
    "\n",
    "def precisionk(vector_predict, hits, **unused):\n",
    "    hits = len(hits.nonzero()[0])\n",
    "    return float(hits)/len(vector_predict)\n",
    "\n",
    "\n",
    "def average_precisionk(vector_predict, hits, **unused):\n",
    "    precisions = np.cumsum(hits, dtype=np.float32)/range(1, len(vector_predict)+1)\n",
    "    return np.mean(precisions)\n",
    "\n",
    "\n",
    "def r_precision(vector_true_dense, vector_predict, **unused):\n",
    "    vector_predict_short = vector_predict[:len(vector_true_dense)]\n",
    "    hits = len(np.isin(vector_predict_short, vector_true_dense).nonzero()[0])\n",
    "    return float(hits)/len(vector_true_dense)\n",
    "\n",
    "\n",
    "def _dcg_support(size):\n",
    "    arr = np.arange(1, size+1)+1\n",
    "    return 1./np.log2(arr)\n",
    "\n",
    "\n",
    "def ndcg(vector_true_dense, vector_predict, hits):\n",
    "    idcg = np.sum(_dcg_support(len(vector_true_dense)))\n",
    "    dcg_base = _dcg_support(len(vector_predict))\n",
    "    dcg_base[np.logical_not(hits)] = 0\n",
    "    dcg = np.sum(dcg_base)\n",
    "    return dcg/idcg\n",
    "\n",
    "\n",
    "def click(hits, **unused):\n",
    "    first_hit = next((i for i, x in enumerate(hits) if x), None)\n",
    "    if first_hit is None:\n",
    "        return 5\n",
    "    else:\n",
    "        return first_hit/10\n",
    "\n",
    "\n",
    "def evaluate(matrix_Predict, matrix_Test, metric_names =['R-Precision', 'NDCG', 'Precision', 'Recall', 'MAP'], atK = [5, 10, 15, 20, 50], analytical=False):\n",
    "    \"\"\"\n",
    "    :param matrix_U: Latent representations of users, for LRecs it is RQ, for ALSs it is U\n",
    "    :param matrix_V: Latent representations of items, for LRecs it is Q, for ALSs it is V\n",
    "    :param matrix_Train: Rating matrix for training, features.\n",
    "    :param matrix_Test: Rating matrix for evaluation, true labels.\n",
    "    :param k: Top K retrieval\n",
    "    :param metric_names: Evaluation metrics\n",
    "    :return:\n",
    "    \"\"\"\n",
    "    global_metrics = {\n",
    "        #\"R-Precision\": r_precision,\n",
    "        #\"NDCG\": ndcg,\n",
    "        #\"Clicks\": click\n",
    "    }\n",
    "\n",
    "    local_metrics = {\n",
    "        #\"Precision\": precisionk,\n",
    "        #\"Recall\": recallk,\n",
    "        \"MAP\": average_precisionk\n",
    "    }\n",
    "\n",
    "    output = dict()\n",
    "\n",
    "    num_users = matrix_Predict.shape[0]\n",
    "\n",
    "    for k in atK:\n",
    "\n",
    "        local_metric_names = list(set(metric_names).intersection(local_metrics.keys()))\n",
    "        results = {name: [] for name in local_metric_names}\n",
    "        topK_Predict = matrix_Predict[:, :k]\n",
    "\n",
    "        for user_index in tqdm(range(topK_Predict.shape[0])):\n",
    "            vector_predict = topK_Predict[user_index]\n",
    "            if len(vector_predict.nonzero()[0]) > 0:\n",
    "                vector_true = matrix_Test[user_index]\n",
    "                vector_true_dense = vector_true.nonzero()[1]\n",
    "                hits = np.isin(vector_predict, vector_true_dense)\n",
    "\n",
    "                if vector_true_dense.size > 0:\n",
    "                    for name in local_metric_names:\n",
    "                        results[name].append(local_metrics[name](vector_true_dense=vector_true_dense,\n",
    "                                                                 vector_predict=vector_predict,\n",
    "                                                                 hits=hits))\n",
    "        results_summary = dict()\n",
    "        if analytical:\n",
    "            for name in local_metric_names:\n",
    "                results_summary['{0}@{1}'.format(name, k)] = round(results[name],4)\n",
    "        else:\n",
    "            for name in local_metric_names:\n",
    "                results_summary['{0}@{1}'.format(name, k)] = (round((np.average(results[name])),4),\n",
    "                                                              round((1.96*np.std(results[name])/np.sqrt(num_users)),4))\n",
    "        output.update(results_summary)\n",
    "\n",
    "    global_metric_names = list(set(metric_names).intersection(global_metrics.keys()))\n",
    "    results = {name: [] for name in global_metric_names}\n",
    "\n",
    "    topK_Predict = matrix_Predict[:]\n",
    "\n",
    "    for user_index in tqdm(range(topK_Predict.shape[0])):\n",
    "        vector_predict = topK_Predict[user_index]\n",
    "\n",
    "        if len(vector_predict.nonzero()[0]) > 0:\n",
    "            vector_true = matrix_Test[user_index]\n",
    "            vector_true_dense = vector_true.nonzero()[1]\n",
    "            hits = np.isin(vector_predict, vector_true_dense)\n",
    "\n",
    "            # if user_index == 1:\n",
    "            #     import ipdb;\n",
    "            #     ipdb.set_trace()\n",
    "\n",
    "            if vector_true_dense.size > 0:\n",
    "                for name in global_metric_names:\n",
    "                    results[name].append(global_metrics[name](vector_true_dense=vector_true_dense,\n",
    "                                                              vector_predict=vector_predict,\n",
    "                                                              hits=hits))\n",
    "    results_summary = dict()\n",
    "    if analytical:\n",
    "        for name in global_metric_names:\n",
    "            results_summary[name] = round(results[name],4)\n",
    "    else:\n",
    "        for name in global_metric_names:\n",
    "            results_summary[name] = (round(np.average(results[name]),4), round((1.96*np.std(results[name])/np.sqrt(num_users)),4))\n",
    "    output.update(results_summary)\n",
    "\n",
    "    return output"
   ]
  },
  {
   "cell_type": "markdown",
   "metadata": {},
   "source": [
    "## Add 2 matrices"
   ]
  },
  {
   "cell_type": "code",
   "execution_count": 12,
   "metadata": {},
   "outputs": [],
   "source": [
    "## Utility functions\n",
    "#3906 restuarant, 3000 keyphrase, 5791 user \n",
    "def add_two_matrix(ratio, U_I_matrix,I_K_matrix, shape = (3906, 3000+5791)):\n",
    "    # ratio determine Keywords/User in the matrix\n",
    "    rows = []\n",
    "    cols = []\n",
    "    datas = []\n",
    "    I_U_matrix = U_I_matrix.transpose()\n",
    "    \n",
    "    #for each restuarant\n",
    "    for i in tqdm(range(I_K_matrix.shape[0])):\n",
    "        #key phrase that this item has, column(key phrase) index\n",
    "        nonzero1 = I_K_matrix[i].nonzero()\n",
    "        \n",
    "        #user that rated this item, column(user) index \n",
    "        nonzero2 = I_U_matrix[i].nonzero()\n",
    "        \n",
    "        #Trying to create a sparse matrix that stores \n",
    "        #index of restuarant for (K + U) times\n",
    "        row = [i]*(len(nonzero1[1])+len(nonzero2[1]))\n",
    "        \n",
    "        #column index for key phrase and users that are non-zero\n",
    "        col = nonzero1[1].tolist()+ nonzero2[1].tolist()\n",
    "        \n",
    "        \n",
    "        data = [ratio]*len(nonzero1[1])+[1-ratio]*len(nonzero2[1]) # Binary representation of I-K/U matrix\n",
    "        \n",
    "        rows.extend(row)\n",
    "        cols.extend(col)\n",
    "        datas.extend(data)\n",
    "    return csr_matrix( (datas,(rows,cols)), shape=shape )\n",
    "\n",
    "def transfer_to_implicit(rating_matrix, threshold = 0):\n",
    "    temp_rating_matrix = sparse.csr_matrix(rating_matrix.shape)\n",
    "    temp_rating_matrix[(rating_matrix > threshold).nonzero()] = 1\n",
    "    rating_matrix = temp_rating_matrix\n",
    "    return rating_matrix"
   ]
  },
  {
   "cell_type": "markdown",
   "metadata": {},
   "source": [
    "#### Get original dataframe out of the review datastet"
   ]
  },
  {
   "cell_type": "code",
   "execution_count": 13,
   "metadata": {},
   "outputs": [],
   "source": [
    "#Getting the yelp data -> reviews, only get the data for the top frequent users & restuarants that had a history of rating > 3\n",
    "df = get_yelp_df(path ='', filename=reviewJsonWithBusAvgStars, sampling= True)"
   ]
  },
  {
   "cell_type": "code",
   "execution_count": 14,
   "metadata": {},
   "outputs": [
    {
     "data": {
      "text/html": [
       "<div>\n",
       "<style scoped>\n",
       "    .dataframe tbody tr th:only-of-type {\n",
       "        vertical-align: middle;\n",
       "    }\n",
       "\n",
       "    .dataframe tbody tr th {\n",
       "        vertical-align: top;\n",
       "    }\n",
       "\n",
       "    .dataframe thead th {\n",
       "        text-align: right;\n",
       "    }\n",
       "</style>\n",
       "<table border=\"1\" class=\"dataframe\">\n",
       "  <thead>\n",
       "    <tr style=\"text-align: right;\">\n",
       "      <th></th>\n",
       "      <th>business_id</th>\n",
       "      <th>business_stars</th>\n",
       "      <th>categories</th>\n",
       "      <th>review_cool</th>\n",
       "      <th>date</th>\n",
       "      <th>review_funny</th>\n",
       "      <th>review_id</th>\n",
       "      <th>review_stars</th>\n",
       "      <th>review_text</th>\n",
       "      <th>review_useful</th>\n",
       "      <th>user_avg_stars</th>\n",
       "      <th>user_id</th>\n",
       "      <th>business_num_id</th>\n",
       "      <th>user_num_id</th>\n",
       "      <th>timestamp</th>\n",
       "    </tr>\n",
       "  </thead>\n",
       "  <tbody>\n",
       "    <tr>\n",
       "      <th>0</th>\n",
       "      <td>--9e1ONYQuAa-CB_Rrw7Tw</td>\n",
       "      <td>4.0</td>\n",
       "      <td>Cajun/Creole, Seafood, Steakhouses, Restaurants</td>\n",
       "      <td>0</td>\n",
       "      <td>2008-11-11</td>\n",
       "      <td>0</td>\n",
       "      <td>v8QPs6AaixrqXvC5rHqUrQ</td>\n",
       "      <td>4</td>\n",
       "      <td>So when you go to a restaurant like this pleas...</td>\n",
       "      <td>0</td>\n",
       "      <td>3.92</td>\n",
       "      <td>---1lKK3aKOuomHnwAkAow</td>\n",
       "      <td>0</td>\n",
       "      <td>0</td>\n",
       "      <td>1.226380e+09</td>\n",
       "    </tr>\n",
       "    <tr>\n",
       "      <th>1</th>\n",
       "      <td>--9e1ONYQuAa-CB_Rrw7Tw</td>\n",
       "      <td>4.0</td>\n",
       "      <td>Cajun/Creole, Seafood, Steakhouses, Restaurants</td>\n",
       "      <td>1</td>\n",
       "      <td>2008-11-12</td>\n",
       "      <td>1</td>\n",
       "      <td>PJLBGBr2IU4rN4RTdEFH0w</td>\n",
       "      <td>4</td>\n",
       "      <td>4.5 Stars \\nDelmonico does not disappoint! \\n\\...</td>\n",
       "      <td>1</td>\n",
       "      <td>3.40</td>\n",
       "      <td>-fQPzH-e-ubDIiLQhybEjQ</td>\n",
       "      <td>0</td>\n",
       "      <td>67</td>\n",
       "      <td>1.226466e+09</td>\n",
       "    </tr>\n",
       "  </tbody>\n",
       "</table>\n",
       "</div>"
      ],
      "text/plain": [
       "              business_id  business_stars  \\\n",
       "0  --9e1ONYQuAa-CB_Rrw7Tw             4.0   \n",
       "1  --9e1ONYQuAa-CB_Rrw7Tw             4.0   \n",
       "\n",
       "                                        categories  review_cool        date  \\\n",
       "0  Cajun/Creole, Seafood, Steakhouses, Restaurants            0  2008-11-11   \n",
       "1  Cajun/Creole, Seafood, Steakhouses, Restaurants            1  2008-11-12   \n",
       "\n",
       "   review_funny               review_id  review_stars  \\\n",
       "0             0  v8QPs6AaixrqXvC5rHqUrQ             4   \n",
       "1             1  PJLBGBr2IU4rN4RTdEFH0w             4   \n",
       "\n",
       "                                         review_text  review_useful  \\\n",
       "0  So when you go to a restaurant like this pleas...              0   \n",
       "1  4.5 Stars \\nDelmonico does not disappoint! \\n\\...              1   \n",
       "\n",
       "   user_avg_stars                 user_id  business_num_id  user_num_id  \\\n",
       "0            3.92  ---1lKK3aKOuomHnwAkAow                0            0   \n",
       "1            3.40  -fQPzH-e-ubDIiLQhybEjQ                0           67   \n",
       "\n",
       "      timestamp  \n",
       "0  1.226380e+09  \n",
       "1  1.226466e+09  "
      ]
     },
     "execution_count": 14,
     "metadata": {},
     "output_type": "execute_result"
    }
   ],
   "source": [
    "df.head(2)"
   ]
  },
  {
   "cell_type": "code",
   "execution_count": 17,
   "metadata": {},
   "outputs": [],
   "source": [
    "df['reviewStars_userAvg'] = df['review_stars'] - df['user_avg_stars']\n",
    "df.loc[df['reviewStars_userAvg'] == 0, \"reviewStars_userAvg\"] = 0.01\n",
    "df['reviewStars_busAvg'] = df['review_stars'] - df['business_stars']\n",
    "df.loc[df['reviewStars_busAvg'] == 0, \"reviewStars_busAvg\"] = 0.01"
   ]
  },
  {
   "cell_type": "code",
   "execution_count": 18,
   "metadata": {},
   "outputs": [
    {
     "data": {
      "text/html": [
       "<div>\n",
       "<style scoped>\n",
       "    .dataframe tbody tr th:only-of-type {\n",
       "        vertical-align: middle;\n",
       "    }\n",
       "\n",
       "    .dataframe tbody tr th {\n",
       "        vertical-align: top;\n",
       "    }\n",
       "\n",
       "    .dataframe thead th {\n",
       "        text-align: right;\n",
       "    }\n",
       "</style>\n",
       "<table border=\"1\" class=\"dataframe\">\n",
       "  <thead>\n",
       "    <tr style=\"text-align: right;\">\n",
       "      <th></th>\n",
       "      <th>business_id</th>\n",
       "      <th>business_stars</th>\n",
       "      <th>categories</th>\n",
       "      <th>review_cool</th>\n",
       "      <th>date</th>\n",
       "      <th>review_funny</th>\n",
       "      <th>review_id</th>\n",
       "      <th>review_stars</th>\n",
       "      <th>review_text</th>\n",
       "      <th>review_useful</th>\n",
       "      <th>user_avg_stars</th>\n",
       "      <th>user_id</th>\n",
       "      <th>business_num_id</th>\n",
       "      <th>user_num_id</th>\n",
       "      <th>timestamp</th>\n",
       "      <th>reviewStars_userAvg</th>\n",
       "      <th>reviewStars_busAvg</th>\n",
       "    </tr>\n",
       "  </thead>\n",
       "  <tbody>\n",
       "    <tr>\n",
       "      <th>0</th>\n",
       "      <td>--9e1ONYQuAa-CB_Rrw7Tw</td>\n",
       "      <td>4.0</td>\n",
       "      <td>Cajun/Creole, Seafood, Steakhouses, Restaurants</td>\n",
       "      <td>0</td>\n",
       "      <td>2008-11-11</td>\n",
       "      <td>0</td>\n",
       "      <td>v8QPs6AaixrqXvC5rHqUrQ</td>\n",
       "      <td>4</td>\n",
       "      <td>So when you go to a restaurant like this pleas...</td>\n",
       "      <td>0</td>\n",
       "      <td>3.92</td>\n",
       "      <td>---1lKK3aKOuomHnwAkAow</td>\n",
       "      <td>0</td>\n",
       "      <td>0</td>\n",
       "      <td>1.226380e+09</td>\n",
       "      <td>0.08</td>\n",
       "      <td>0.01</td>\n",
       "    </tr>\n",
       "  </tbody>\n",
       "</table>\n",
       "</div>"
      ],
      "text/plain": [
       "              business_id  business_stars  \\\n",
       "0  --9e1ONYQuAa-CB_Rrw7Tw             4.0   \n",
       "\n",
       "                                        categories  review_cool        date  \\\n",
       "0  Cajun/Creole, Seafood, Steakhouses, Restaurants            0  2008-11-11   \n",
       "\n",
       "   review_funny               review_id  review_stars  \\\n",
       "0             0  v8QPs6AaixrqXvC5rHqUrQ             4   \n",
       "\n",
       "                                         review_text  review_useful  \\\n",
       "0  So when you go to a restaurant like this pleas...              0   \n",
       "\n",
       "   user_avg_stars                 user_id  business_num_id  user_num_id  \\\n",
       "0            3.92  ---1lKK3aKOuomHnwAkAow                0            0   \n",
       "\n",
       "      timestamp  reviewStars_userAvg  reviewStars_busAvg  \n",
       "0  1.226380e+09                 0.08                0.01  "
      ]
     },
     "execution_count": 18,
     "metadata": {},
     "output_type": "execute_result"
    }
   ],
   "source": [
    "df.head(1)"
   ]
  },
  {
   "cell_type": "markdown",
   "metadata": {},
   "source": [
    "#### Get rating-UI matrix and timestepm-UI matrix"
   ]
  },
  {
   "cell_type": "code",
   "execution_count": 19,
   "metadata": {},
   "outputs": [],
   "source": [
    "rating_matrix, ratingWuserAvg_matrix, timestamp_matrix = get_rating_timestamp_matrix(df)\n",
    "# rating_matrix\n",
    "# ratingWuserAvg_matrix"
   ]
  },
  {
   "cell_type": "markdown",
   "metadata": {},
   "source": [
    "#### Split to get rtrain-UI matrix and valid and test.. item_index_matrix_train"
   ]
  },
  {
   "cell_type": "code",
   "execution_count": 20,
   "metadata": {},
   "outputs": [
    {
     "name": "stderr",
     "output_type": "stream",
     "text": [
      "100%|████████████████████████████████████████████████████████████████████████████| 6085/6085 [00:01<00:00, 3811.67it/s]\n"
     ]
    }
   ],
   "source": [
    "rtrain, rvalid, rtest, rtrain_userAvg, rvalid_userAvg, rtest_userAvg, nonzero_index, rtime, item_idx_matrix_train,item_idx_matrix_valid, item_idx_matrix_test = time_ordered_split(rating_matrix=rating_matrix, ratingWuserAvg_matrix=ratingWuserAvg_matrix, timestamp_matrix=timestamp_matrix,\n",
    "                                                                     ratio=[0.5,0.2,0.3],\n",
    "                                                                     implicit=False)  "
   ]
  },
  {
   "cell_type": "code",
   "execution_count": 21,
   "metadata": {},
   "outputs": [
    {
     "name": "stderr",
     "output_type": "stream",
     "text": [
      "C:\\ProgramData\\Anaconda3\\lib\\site-packages\\ipykernel_launcher.py:11: SparseEfficiencyWarning: Changing the sparsity structure of a csr_matrix is expensive. lil_matrix is more efficient.\n",
      "  # This is added back by InteractiveShellApp.init_path()\n",
      "100%|████████████████████████████████████████████████████████████████████████████| 6085/6085 [00:01<00:00, 5114.57it/s]\n"
     ]
    }
   ],
   "source": [
    "rtrain_implicit, rvalid_implicit, rtest_implicit, rtrain_userAvg_implicit, rvalid_userAvg_implicit, rtest_userAvg_implicit, nonzero_index, rtime, item_idx_matrix_train_implicit,item_idx_matrix_valid_implicit, item_idx_matrix_test_implicit = time_ordered_split(rating_matrix=rating_matrix, ratingWuserAvg_matrix=ratingWuserAvg_matrix, timestamp_matrix=timestamp_matrix,\n",
    "                                                                     ratio=[0.5,0.2,0.3],\n",
    "                                                                     implicit=True)"
   ]
  },
  {
   "cell_type": "markdown",
   "metadata": {},
   "source": [
    "#### Get df shrink to df_train for rtrain"
   ]
  },
  {
   "cell_type": "code",
   "execution_count": 17,
   "metadata": {},
   "outputs": [
    {
     "name": "stderr",
     "output_type": "stream",
     "text": [
      "100%|██████████████████████████████████████████████████████████████████████████████| 6085/6085 [02:37<00:00, 38.62it/s]\n"
     ]
    },
    {
     "data": {
      "text/plain": [
       "(130953, 15)"
      ]
     },
     "execution_count": 17,
     "metadata": {},
     "output_type": "execute_result"
    }
   ],
   "source": [
    "#Get the list of row index for the training set \n",
    "lst_train = get_corpus_idx_list(df, item_idx_matrix_train)\n",
    "\n",
    "# Get the training dataframe from the original dataframe\n",
    "df_train = df.loc[lst_train]\n",
    "\n",
    "#Resetting the index of the train data\n",
    "df_train = df_train.reset_index(drop=True)\n",
    "\n",
    "df_train.shape"
   ]
  },
  {
   "cell_type": "markdown",
   "metadata": {},
   "source": [
    "#### If using term frequency only to compute corpus and X(review vs. terms) CounterVectorizer"
   ]
  },
  {
   "cell_type": "code",
   "execution_count": 19,
   "metadata": {},
   "outputs": [],
   "source": [
    "# The entire corpus\n",
    "#corpus = preprocess(df_train)\n",
    "# X row: df_train row, column: key words frequency \n",
    "# When building the vocabulary ignore terms that have a document frequency strictly higher than the given threshold\n",
    "#cv=CountVectorizer(max_df=0.9,stop_words=stop_words, max_features=5000, ngram_range=(1,1))\n",
    "#X=cv.fit_transform(corpus)"
   ]
  },
  {
   "cell_type": "markdown",
   "metadata": {},
   "source": [
    "##### If using TD-IDF to compute corpus and X (business vs. terms) TfIdfVectorizer"
   ]
  },
  {
   "cell_type": "code",
   "execution_count": 20,
   "metadata": {},
   "outputs": [],
   "source": [
    "from sklearn.feature_extraction.text import TfidfVectorizer"
   ]
  },
  {
   "cell_type": "code",
   "execution_count": 21,
   "metadata": {},
   "outputs": [
    {
     "name": "stderr",
     "output_type": "stream",
     "text": [
      "100%|████████████████████████████████████████████████████████████████████████| 125794/125794 [00:47<00:00, 2662.22it/s]\n"
     ]
    }
   ],
   "source": [
    "corpus = preprocess(df_train)"
   ]
  },
  {
   "cell_type": "code",
   "execution_count": 22,
   "metadata": {},
   "outputs": [],
   "source": [
    "#Creating a dictionary to store business: review text\n",
    "dict_text = {}\n",
    "for i in range(len(corpus)):\n",
    "    if df_train['business_num_id'][i] not in dict_text:\n",
    "        dict_text[df_train['business_num_id'][i]] = corpus[i]\n",
    "    else:\n",
    "        temp = dict_text[df_train['business_num_id'][i]]\n",
    "        temp = temp + corpus[i]\n",
    "        dict_text[df_train['business_num_id'][i]] = temp"
   ]
  },
  {
   "cell_type": "code",
   "execution_count": 23,
   "metadata": {},
   "outputs": [],
   "source": [
    "#Create a list for the review text, where the row dimension = total business ids\n",
    "list_text = []\n",
    "for key in range(0,max(list(dict_text.keys()))+1) :\n",
    "    if key not in dict_text.keys():\n",
    "        list_text.extend([\"\"])\n",
    "    else:\n",
    "        list_text.extend([dict_text[key]])"
   ]
  },
  {
   "cell_type": "code",
   "execution_count": 24,
   "metadata": {},
   "outputs": [],
   "source": [
    "#Get the X vector, where dimension is #business vs #terms\n",
    "vectorizer = TfidfVectorizer(max_df=0.9,stop_words=stop_words, max_features=5000, ngram_range=(1,1))\n",
    "X_cleaned = vectorizer.fit_transform(list_text).toarray()\n",
    "X_cleaned_sparse = csr_matrix(X_cleaned)"
   ]
  },
  {
   "cell_type": "markdown",
   "metadata": {},
   "source": [
    "## User-rating KNN"
   ]
  },
  {
   "cell_type": "markdown",
   "metadata": {},
   "source": [
    "### 1. With ratings that subtracts user average rating, cosine similarity\n",
    "Tuning for different K "
   ]
  },
  {
   "cell_type": "code",
   "execution_count": 39,
   "metadata": {
    "scrolled": true
   },
   "outputs": [
    {
     "name": "stderr",
     "output_type": "stream",
     "text": [
      "100%|█████████████████████████████████████████████████████████████████████████████| 6085/6085 [00:08<00:00, 752.09it/s]\n",
      "100%|████████████████████████████████████████████████████████████████████████████| 6085/6085 [00:01<00:00, 4483.95it/s]\n",
      "100%|████████████████████████████████████████████████████████████████████████████| 6085/6085 [00:00<00:00, 7125.45it/s]\n",
      "100%|████████████████████████████████████████████████████████████████████████████| 6085/6085 [00:00<00:00, 7112.54it/s]\n",
      "100%|████████████████████████████████████████████████████████████████████████████| 6085/6085 [00:00<00:00, 7017.60it/s]\n",
      "100%|████████████████████████████████████████████████████████████████████████████| 6085/6085 [00:00<00:00, 7043.22it/s]\n",
      "100%|████████████████████████████████████████████████████████████████████████████| 6085/6085 [00:00<00:00, 6757.34it/s]\n",
      "100%|████████████████████████████████████████████████████████████████████████████| 6085/6085 [00:00<00:00, 9240.05it/s]\n",
      "100%|█████████████████████████████████████████████████████████████████████████████| 6085/6085 [00:08<00:00, 702.64it/s]\n",
      "100%|████████████████████████████████████████████████████████████████████████████| 6085/6085 [00:01<00:00, 4480.11it/s]\n",
      "100%|████████████████████████████████████████████████████████████████████████████| 6085/6085 [00:00<00:00, 7170.00it/s]\n",
      "100%|████████████████████████████████████████████████████████████████████████████| 6085/6085 [00:00<00:00, 7081.23it/s]\n",
      "100%|████████████████████████████████████████████████████████████████████████████| 6085/6085 [00:00<00:00, 7187.50it/s]\n",
      "100%|████████████████████████████████████████████████████████████████████████████| 6085/6085 [00:00<00:00, 7141.47it/s]\n",
      "100%|████████████████████████████████████████████████████████████████████████████| 6085/6085 [00:00<00:00, 7012.78it/s]\n",
      "100%|████████████████████████████████████████████████████████████████████████████| 6085/6085 [00:00<00:00, 8997.12it/s]\n",
      "100%|█████████████████████████████████████████████████████████████████████████████| 6085/6085 [00:07<00:00, 819.38it/s]\n",
      "100%|████████████████████████████████████████████████████████████████████████████| 6085/6085 [00:01<00:00, 4429.26it/s]\n",
      "100%|████████████████████████████████████████████████████████████████████████████| 6085/6085 [00:00<00:00, 7226.84it/s]\n",
      "100%|████████████████████████████████████████████████████████████████████████████| 6085/6085 [00:00<00:00, 7198.06it/s]\n",
      "100%|████████████████████████████████████████████████████████████████████████████| 6085/6085 [00:00<00:00, 7187.83it/s]\n",
      "100%|████████████████████████████████████████████████████████████████████████████| 6085/6085 [00:00<00:00, 7193.91it/s]\n",
      "100%|████████████████████████████████████████████████████████████████████████████| 6085/6085 [00:00<00:00, 7106.88it/s]\n",
      "100%|████████████████████████████████████████████████████████████████████████████| 6085/6085 [00:00<00:00, 9096.30it/s]\n",
      "100%|█████████████████████████████████████████████████████████████████████████████| 6085/6085 [00:08<00:00, 727.26it/s]\n",
      "100%|████████████████████████████████████████████████████████████████████████████| 6085/6085 [00:01<00:00, 4471.17it/s]\n",
      "100%|████████████████████████████████████████████████████████████████████████████| 6085/6085 [00:00<00:00, 7188.81it/s]\n",
      "100%|████████████████████████████████████████████████████████████████████████████| 6085/6085 [00:00<00:00, 7152.68it/s]\n",
      "100%|████████████████████████████████████████████████████████████████████████████| 6085/6085 [00:00<00:00, 7147.68it/s]\n",
      "100%|████████████████████████████████████████████████████████████████████████████| 6085/6085 [00:00<00:00, 7100.07it/s]\n",
      "100%|████████████████████████████████████████████████████████████████████████████| 6085/6085 [00:00<00:00, 7077.87it/s]\n",
      "100%|████████████████████████████████████████████████████████████████████████████| 6085/6085 [00:00<00:00, 9283.81it/s]\n",
      "100%|█████████████████████████████████████████████████████████████████████████████| 6085/6085 [00:09<00:00, 652.02it/s]\n",
      "100%|████████████████████████████████████████████████████████████████████████████| 6085/6085 [00:01<00:00, 4387.93it/s]\n",
      "100%|████████████████████████████████████████████████████████████████████████████| 6085/6085 [00:00<00:00, 7130.56it/s]\n",
      "100%|████████████████████████████████████████████████████████████████████████████| 6085/6085 [00:00<00:00, 7252.95it/s]\n",
      "100%|████████████████████████████████████████████████████████████████████████████| 6085/6085 [00:00<00:00, 7104.51it/s]\n",
      "100%|████████████████████████████████████████████████████████████████████████████| 6085/6085 [00:00<00:00, 7142.93it/s]\n",
      "100%|████████████████████████████████████████████████████████████████████████████| 6085/6085 [00:00<00:00, 6944.72it/s]\n",
      "100%|████████████████████████████████████████████████████████████████████████████| 6085/6085 [00:00<00:00, 8997.08it/s]\n",
      "100%|█████████████████████████████████████████████████████████████████████████████| 6085/6085 [00:09<00:00, 622.37it/s]\n",
      "100%|████████████████████████████████████████████████████████████████████████████| 6085/6085 [00:01<00:00, 4467.83it/s]\n",
      "100%|████████████████████████████████████████████████████████████████████████████| 6085/6085 [00:00<00:00, 7144.16it/s]\n",
      "100%|████████████████████████████████████████████████████████████████████████████| 6085/6085 [00:00<00:00, 7309.78it/s]\n",
      "100%|████████████████████████████████████████████████████████████████████████████| 6085/6085 [00:00<00:00, 7126.33it/s]\n",
      "100%|████████████████████████████████████████████████████████████████████████████| 6085/6085 [00:00<00:00, 7064.93it/s]\n",
      "100%|████████████████████████████████████████████████████████████████████████████| 6085/6085 [00:00<00:00, 7178.71it/s]\n",
      "100%|████████████████████████████████████████████████████████████████████████████| 6085/6085 [00:00<00:00, 9085.44it/s]\n",
      "100%|█████████████████████████████████████████████████████████████████████████████| 6085/6085 [00:10<00:00, 570.36it/s]\n",
      "100%|████████████████████████████████████████████████████████████████████████████| 6085/6085 [00:01<00:00, 4449.32it/s]\n",
      "100%|████████████████████████████████████████████████████████████████████████████| 6085/6085 [00:00<00:00, 7211.76it/s]\n",
      "100%|████████████████████████████████████████████████████████████████████████████| 6085/6085 [00:00<00:00, 7329.76it/s]\n",
      "100%|████████████████████████████████████████████████████████████████████████████| 6085/6085 [00:00<00:00, 6778.10it/s]\n",
      "100%|████████████████████████████████████████████████████████████████████████████| 6085/6085 [00:00<00:00, 7147.93it/s]\n",
      "100%|████████████████████████████████████████████████████████████████████████████| 6085/6085 [00:00<00:00, 7080.84it/s]\n",
      "100%|████████████████████████████████████████████████████████████████████████████| 6085/6085 [00:00<00:00, 9024.31it/s]\n"
     ]
    }
   ],
   "source": [
    "similarity1 = train(rtrain)\n",
    "MAP10 = {}\n",
    "for k in range(50, 120, 10):\n",
    "    user_item_prediction_score1 = predict(rtrain_userAvg, k, similarity1, item_similarity_en= False)\n",
    "    user_item_predict1 = prediction(user_item_prediction_score1, 50, rtrain_userAvg)\n",
    "    user_item_res1 = evaluate(user_item_predict1, rvalid_userAvg)\n",
    "    \n",
    "    MAP10[k] = user_item_res1.get('MAP@10')[0]"
   ]
  },
  {
   "cell_type": "code",
   "execution_count": 56,
   "metadata": {},
   "outputs": [
    {
     "data": {
      "text/plain": [
       "{50: 0.0419,\n",
       " 60: 0.0422,\n",
       " 70: 0.0424,\n",
       " 80: 0.0429,\n",
       " 90: 0.0432,\n",
       " 100: 0.0439,\n",
       " 110: 0.0432}"
      ]
     },
     "execution_count": 56,
     "metadata": {},
     "output_type": "execute_result"
    }
   ],
   "source": [
    "MAP10"
   ]
  },
  {
   "cell_type": "markdown",
   "metadata": {},
   "source": [
    "## 5. With rating that subtracts businesses average rating, cosine similarity "
   ]
  },
  {
   "cell_type": "code",
   "execution_count": 24,
   "metadata": {
    "scrolled": true
   },
   "outputs": [
    {
     "name": "stderr",
     "output_type": "stream",
     "text": [
      "100%|█████████████████████████████████████████████████████████████████████████████| 6085/6085 [00:07<00:00, 789.20it/s]\n",
      "100%|████████████████████████████████████████████████████████████████████████████| 6085/6085 [00:01<00:00, 4451.93it/s]\n",
      "100%|████████████████████████████████████████████████████████████████████████████| 6085/6085 [00:00<00:00, 7118.24it/s]\n",
      "100%|████████████████████████████████████████████████████████████████████████████| 6085/6085 [00:00<00:00, 7097.91it/s]\n",
      "100%|████████████████████████████████████████████████████████████████████████████| 6085/6085 [00:00<00:00, 7305.49it/s]\n",
      "100%|████████████████████████████████████████████████████████████████████████████| 6085/6085 [00:00<00:00, 7163.35it/s]\n",
      "100%|████████████████████████████████████████████████████████████████████████████| 6085/6085 [00:00<00:00, 6952.88it/s]\n",
      "100%|████████████████████████████████████████████████████████████████████████████| 6085/6085 [00:00<00:00, 9151.20it/s]\n",
      "100%|█████████████████████████████████████████████████████████████████████████████| 6085/6085 [00:08<00:00, 700.03it/s]\n",
      "100%|████████████████████████████████████████████████████████████████████████████| 6085/6085 [00:01<00:00, 4426.95it/s]\n",
      "100%|████████████████████████████████████████████████████████████████████████████| 6085/6085 [00:00<00:00, 7071.95it/s]\n",
      "100%|████████████████████████████████████████████████████████████████████████████| 6085/6085 [00:00<00:00, 7156.52it/s]\n",
      "100%|████████████████████████████████████████████████████████████████████████████| 6085/6085 [00:00<00:00, 7057.38it/s]\n",
      "100%|████████████████████████████████████████████████████████████████████████████| 6085/6085 [00:00<00:00, 7094.25it/s]\n",
      "100%|████████████████████████████████████████████████████████████████████████████| 6085/6085 [00:00<00:00, 7044.11it/s]\n",
      "100%|████████████████████████████████████████████████████████████████████████████| 6085/6085 [00:00<00:00, 9279.77it/s]\n",
      "100%|█████████████████████████████████████████████████████████████████████████████| 6085/6085 [00:07<00:00, 863.03it/s]\n",
      "100%|████████████████████████████████████████████████████████████████████████████| 6085/6085 [00:01<00:00, 4458.70it/s]\n",
      "100%|████████████████████████████████████████████████████████████████████████████| 6085/6085 [00:00<00:00, 7271.73it/s]\n",
      "100%|████████████████████████████████████████████████████████████████████████████| 6085/6085 [00:00<00:00, 7095.13it/s]\n",
      "100%|████████████████████████████████████████████████████████████████████████████| 6085/6085 [00:00<00:00, 6936.03it/s]\n",
      "100%|████████████████████████████████████████████████████████████████████████████| 6085/6085 [00:00<00:00, 7000.61it/s]\n",
      "100%|████████████████████████████████████████████████████████████████████████████| 6085/6085 [00:00<00:00, 7059.18it/s]\n",
      "100%|████████████████████████████████████████████████████████████████████████████| 6085/6085 [00:00<00:00, 9196.56it/s]\n",
      "100%|█████████████████████████████████████████████████████████████████████████████| 6085/6085 [00:07<00:00, 770.46it/s]\n",
      "100%|████████████████████████████████████████████████████████████████████████████| 6085/6085 [00:01<00:00, 4430.31it/s]\n",
      "100%|████████████████████████████████████████████████████████████████████████████| 6085/6085 [00:00<00:00, 7093.88it/s]\n",
      "100%|████████████████████████████████████████████████████████████████████████████| 6085/6085 [00:00<00:00, 7094.46it/s]\n",
      "100%|████████████████████████████████████████████████████████████████████████████| 6085/6085 [00:00<00:00, 7211.87it/s]\n",
      "100%|████████████████████████████████████████████████████████████████████████████| 6085/6085 [00:00<00:00, 7267.90it/s]\n",
      "100%|████████████████████████████████████████████████████████████████████████████| 6085/6085 [00:00<00:00, 7001.63it/s]\n",
      "100%|████████████████████████████████████████████████████████████████████████████| 6085/6085 [00:00<00:00, 9193.11it/s]\n",
      "100%|█████████████████████████████████████████████████████████████████████████████| 6085/6085 [00:08<00:00, 693.34it/s]\n",
      "100%|████████████████████████████████████████████████████████████████████████████| 6085/6085 [00:01<00:00, 4442.86it/s]\n",
      "100%|████████████████████████████████████████████████████████████████████████████| 6085/6085 [00:00<00:00, 7124.68it/s]\n",
      "100%|████████████████████████████████████████████████████████████████████████████| 6085/6085 [00:00<00:00, 7052.88it/s]\n",
      "100%|████████████████████████████████████████████████████████████████████████████| 6085/6085 [00:00<00:00, 7059.67it/s]\n",
      "100%|████████████████████████████████████████████████████████████████████████████| 6085/6085 [00:00<00:00, 7138.87it/s]\n",
      "100%|████████████████████████████████████████████████████████████████████████████| 6085/6085 [00:00<00:00, 6973.21it/s]\n",
      "100%|████████████████████████████████████████████████████████████████████████████| 6085/6085 [00:00<00:00, 9078.57it/s]\n",
      "100%|█████████████████████████████████████████████████████████████████████████████| 6085/6085 [00:09<00:00, 651.65it/s]\n",
      "100%|████████████████████████████████████████████████████████████████████████████| 6085/6085 [00:01<00:00, 4419.57it/s]\n",
      "100%|████████████████████████████████████████████████████████████████████████████| 6085/6085 [00:00<00:00, 6900.48it/s]\n",
      "100%|████████████████████████████████████████████████████████████████████████████| 6085/6085 [00:00<00:00, 7154.72it/s]\n",
      "100%|████████████████████████████████████████████████████████████████████████████| 6085/6085 [00:00<00:00, 7177.74it/s]\n",
      "100%|████████████████████████████████████████████████████████████████████████████| 6085/6085 [00:00<00:00, 7241.58it/s]\n",
      "100%|████████████████████████████████████████████████████████████████████████████| 6085/6085 [00:00<00:00, 7030.86it/s]\n",
      "100%|████████████████████████████████████████████████████████████████████████████| 6085/6085 [00:00<00:00, 9161.09it/s]\n",
      "100%|█████████████████████████████████████████████████████████████████████████████| 6085/6085 [00:10<00:00, 600.96it/s]\n",
      "100%|████████████████████████████████████████████████████████████████████████████| 6085/6085 [00:01<00:00, 4401.07it/s]\n",
      "100%|████████████████████████████████████████████████████████████████████████████| 6085/6085 [00:00<00:00, 7356.59it/s]\n",
      "100%|████████████████████████████████████████████████████████████████████████████| 6085/6085 [00:00<00:00, 7295.10it/s]\n",
      "100%|████████████████████████████████████████████████████████████████████████████| 6085/6085 [00:00<00:00, 7312.58it/s]\n",
      "100%|████████████████████████████████████████████████████████████████████████████| 6085/6085 [00:00<00:00, 7258.22it/s]\n",
      "100%|████████████████████████████████████████████████████████████████████████████| 6085/6085 [00:00<00:00, 6990.45it/s]\n",
      "100%|████████████████████████████████████████████████████████████████████████████| 6085/6085 [00:00<00:00, 9163.59it/s]\n"
     ]
    }
   ],
   "source": [
    "similarity1 = train(rtrain)\n",
    "MAP10ExpBusiness = {}\n",
    "for k in range(50, 120, 10):\n",
    "    user_item_prediction_score5 = predict(rtrain_userAvg, k, similarity1, item_similarity_en= False)\n",
    "    user_item_predict5 = prediction(user_item_prediction_score5, 50, rtrain_userAvg)\n",
    "    user_item_res5 = evaluate(user_item_predict5, rvalid_userAvg)\n",
    "    \n",
    "    MAP10ExpBusiness[k] = user_item_res5.get('MAP@10')[0]"
   ]
  },
  {
   "cell_type": "code",
   "execution_count": 25,
   "metadata": {},
   "outputs": [
    {
     "data": {
      "text/plain": [
       "{50: 0.0327,\n",
       " 60: 0.0326,\n",
       " 70: 0.0319,\n",
       " 80: 0.0324,\n",
       " 90: 0.0327,\n",
       " 100: 0.0328,\n",
       " 110: 0.0328}"
      ]
     },
     "execution_count": 25,
     "metadata": {},
     "output_type": "execute_result"
    }
   ],
   "source": [
    "MAP10ExpBusiness"
   ]
  },
  {
   "cell_type": "markdown",
   "metadata": {},
   "source": [
    "## 2. Implicit\n",
    "Tuning for different K"
   ]
  },
  {
   "cell_type": "code",
   "execution_count": 40,
   "metadata": {
    "scrolled": true
   },
   "outputs": [
    {
     "name": "stderr",
     "output_type": "stream",
     "text": [
      "100%|█████████████████████████████████████████████████████████████████████████████| 6085/6085 [00:07<00:00, 804.76it/s]\n",
      "100%|████████████████████████████████████████████████████████████████████████████| 6085/6085 [00:01<00:00, 4554.76it/s]\n",
      "100%|████████████████████████████████████████████████████████████████████████████| 6085/6085 [00:00<00:00, 6955.61it/s]\n",
      "100%|████████████████████████████████████████████████████████████████████████████| 6085/6085 [00:00<00:00, 6991.50it/s]\n",
      "100%|████████████████████████████████████████████████████████████████████████████| 6085/6085 [00:00<00:00, 7014.21it/s]\n",
      "100%|████████████████████████████████████████████████████████████████████████████| 6085/6085 [00:00<00:00, 6979.49it/s]\n",
      "100%|████████████████████████████████████████████████████████████████████████████| 6085/6085 [00:00<00:00, 6975.51it/s]\n",
      "100%|████████████████████████████████████████████████████████████████████████████| 6085/6085 [00:00<00:00, 9121.04it/s]\n",
      "100%|█████████████████████████████████████████████████████████████████████████████| 6085/6085 [00:08<00:00, 710.48it/s]\n",
      "100%|████████████████████████████████████████████████████████████████████████████| 6085/6085 [00:01<00:00, 4524.63it/s]\n",
      "100%|████████████████████████████████████████████████████████████████████████████| 6085/6085 [00:00<00:00, 7206.54it/s]\n",
      "100%|████████████████████████████████████████████████████████████████████████████| 6085/6085 [00:00<00:00, 7023.09it/s]\n",
      "100%|████████████████████████████████████████████████████████████████████████████| 6085/6085 [00:00<00:00, 6841.37it/s]\n",
      "100%|████████████████████████████████████████████████████████████████████████████| 6085/6085 [00:00<00:00, 6984.18it/s]\n",
      "100%|████████████████████████████████████████████████████████████████████████████| 6085/6085 [00:00<00:00, 6774.99it/s]\n",
      "100%|████████████████████████████████████████████████████████████████████████████| 6085/6085 [00:00<00:00, 9059.21it/s]\n",
      "100%|█████████████████████████████████████████████████████████████████████████████| 6085/6085 [00:07<00:00, 832.11it/s]\n",
      "100%|████████████████████████████████████████████████████████████████████████████| 6085/6085 [00:01<00:00, 4504.90it/s]\n",
      "100%|████████████████████████████████████████████████████████████████████████████| 6085/6085 [00:00<00:00, 7056.38it/s]\n",
      "100%|████████████████████████████████████████████████████████████████████████████| 6085/6085 [00:00<00:00, 7013.76it/s]\n",
      "100%|████████████████████████████████████████████████████████████████████████████| 6085/6085 [00:00<00:00, 7027.74it/s]\n",
      "100%|████████████████████████████████████████████████████████████████████████████| 6085/6085 [00:00<00:00, 7065.21it/s]\n",
      "100%|████████████████████████████████████████████████████████████████████████████| 6085/6085 [00:00<00:00, 6876.72it/s]\n",
      "100%|████████████████████████████████████████████████████████████████████████████| 6085/6085 [00:00<00:00, 9056.72it/s]\n",
      "100%|█████████████████████████████████████████████████████████████████████████████| 6085/6085 [00:08<00:00, 750.27it/s]\n",
      "100%|████████████████████████████████████████████████████████████████████████████| 6085/6085 [00:01<00:00, 4543.92it/s]\n",
      "100%|████████████████████████████████████████████████████████████████████████████| 6085/6085 [00:00<00:00, 7169.72it/s]\n",
      "100%|████████████████████████████████████████████████████████████████████████████| 6085/6085 [00:00<00:00, 7071.34it/s]\n",
      "100%|████████████████████████████████████████████████████████████████████████████| 6085/6085 [00:00<00:00, 6970.78it/s]\n",
      "100%|████████████████████████████████████████████████████████████████████████████| 6085/6085 [00:00<00:00, 7051.47it/s]\n",
      "100%|████████████████████████████████████████████████████████████████████████████| 6085/6085 [00:00<00:00, 6957.55it/s]\n",
      "100%|████████████████████████████████████████████████████████████████████████████| 6085/6085 [00:00<00:00, 8974.93it/s]\n",
      "100%|█████████████████████████████████████████████████████████████████████████████| 6085/6085 [00:08<00:00, 687.19it/s]\n",
      "100%|████████████████████████████████████████████████████████████████████████████| 6085/6085 [00:01<00:00, 4583.92it/s]\n",
      "100%|████████████████████████████████████████████████████████████████████████████| 6085/6085 [00:00<00:00, 7074.17it/s]\n",
      "100%|████████████████████████████████████████████████████████████████████████████| 6085/6085 [00:00<00:00, 7164.39it/s]\n",
      "100%|████████████████████████████████████████████████████████████████████████████| 6085/6085 [00:00<00:00, 6943.75it/s]\n",
      "100%|████████████████████████████████████████████████████████████████████████████| 6085/6085 [00:00<00:00, 7018.96it/s]\n",
      "100%|████████████████████████████████████████████████████████████████████████████| 6085/6085 [00:00<00:00, 6832.61it/s]\n",
      "100%|████████████████████████████████████████████████████████████████████████████| 6085/6085 [00:00<00:00, 8968.18it/s]\n",
      "100%|█████████████████████████████████████████████████████████████████████████████| 6085/6085 [00:09<00:00, 628.94it/s]\n",
      "100%|████████████████████████████████████████████████████████████████████████████| 6085/6085 [00:01<00:00, 4536.39it/s]\n",
      "100%|████████████████████████████████████████████████████████████████████████████| 6085/6085 [00:00<00:00, 7039.03it/s]\n",
      "100%|████████████████████████████████████████████████████████████████████████████| 6085/6085 [00:00<00:00, 7071.41it/s]\n",
      "100%|████████████████████████████████████████████████████████████████████████████| 6085/6085 [00:00<00:00, 7093.30it/s]\n",
      "100%|████████████████████████████████████████████████████████████████████████████| 6085/6085 [00:00<00:00, 7006.02it/s]\n",
      "100%|████████████████████████████████████████████████████████████████████████████| 6085/6085 [00:00<00:00, 6921.82it/s]\n",
      "100%|████████████████████████████████████████████████████████████████████████████| 6085/6085 [00:00<00:00, 9052.89it/s]\n",
      "100%|█████████████████████████████████████████████████████████████████████████████| 6085/6085 [00:10<00:00, 574.34it/s]\n",
      "100%|████████████████████████████████████████████████████████████████████████████| 6085/6085 [00:01<00:00, 4584.46it/s]\n",
      "100%|████████████████████████████████████████████████████████████████████████████| 6085/6085 [00:00<00:00, 6929.31it/s]\n",
      "100%|████████████████████████████████████████████████████████████████████████████| 6085/6085 [00:00<00:00, 7052.63it/s]\n",
      "100%|████████████████████████████████████████████████████████████████████████████| 6085/6085 [00:00<00:00, 6874.58it/s]\n",
      "100%|████████████████████████████████████████████████████████████████████████████| 6085/6085 [00:00<00:00, 6895.21it/s]\n",
      "100%|████████████████████████████████████████████████████████████████████████████| 6085/6085 [00:00<00:00, 6908.88it/s]\n",
      "100%|████████████████████████████████████████████████████████████████████████████| 6085/6085 [00:00<00:00, 9041.83it/s]\n"
     ]
    }
   ],
   "source": [
    "similarity1 = train(rtrain_implicit)\n",
    "MAP10Implicit = {}\n",
    "for k in range(50, 120, 10):\n",
    "    user_item_prediction_score1 = predict(rtrain_implicit, k, similarity1, item_similarity_en= False)\n",
    "    user_item_predict1 = prediction(user_item_prediction_score1, 50, rtrain_implicit)\n",
    "    user_item_res1 = evaluate(user_item_predict1, rvalid_implicit)\n",
    "    \n",
    "    MAP10Implicit[k] = user_item_res1.get('MAP@10')[0]"
   ]
  },
  {
   "cell_type": "markdown",
   "metadata": {},
   "source": [
    "## Implicit similarity + explicit prediction matrix\n",
    "Tuning for different k"
   ]
  },
  {
   "cell_type": "code",
   "execution_count": 269,
   "metadata": {
    "scrolled": true
   },
   "outputs": [
    {
     "name": "stderr",
     "output_type": "stream",
     "text": [
      "100%|█████████████████████████████████████████████████████████████████████████████| 6085/6085 [00:07<00:00, 801.96it/s]\n",
      "100%|████████████████████████████████████████████████████████████████████████████| 6085/6085 [00:01<00:00, 4463.28it/s]\n",
      "100%|████████████████████████████████████████████████████████████████████████████| 6085/6085 [00:00<00:00, 6871.49it/s]\n",
      "100%|████████████████████████████████████████████████████████████████████████████| 6085/6085 [00:00<00:00, 6879.69it/s]\n",
      "100%|████████████████████████████████████████████████████████████████████████████| 6085/6085 [00:00<00:00, 6872.95it/s]\n",
      "100%|████████████████████████████████████████████████████████████████████████████| 6085/6085 [00:00<00:00, 6779.45it/s]\n",
      "100%|████████████████████████████████████████████████████████████████████████████| 6085/6085 [00:00<00:00, 6886.10it/s]\n",
      "100%|████████████████████████████████████████████████████████████████████████████| 6085/6085 [00:00<00:00, 9065.39it/s]\n",
      "100%|█████████████████████████████████████████████████████████████████████████████| 6085/6085 [00:07<00:00, 797.87it/s]\n",
      "100%|████████████████████████████████████████████████████████████████████████████| 6085/6085 [00:01<00:00, 4421.13it/s]\n",
      "100%|████████████████████████████████████████████████████████████████████████████| 6085/6085 [00:00<00:00, 6933.26it/s]\n",
      "100%|████████████████████████████████████████████████████████████████████████████| 6085/6085 [00:00<00:00, 7045.15it/s]\n",
      "100%|████████████████████████████████████████████████████████████████████████████| 6085/6085 [00:00<00:00, 6886.08it/s]\n",
      "100%|████████████████████████████████████████████████████████████████████████████| 6085/6085 [00:00<00:00, 7004.91it/s]\n",
      "100%|████████████████████████████████████████████████████████████████████████████| 6085/6085 [00:00<00:00, 6747.58it/s]\n",
      "100%|████████████████████████████████████████████████████████████████████████████| 6085/6085 [00:00<00:00, 9038.57it/s]\n",
      "100%|█████████████████████████████████████████████████████████████████████████████| 6085/6085 [00:08<00:00, 709.70it/s]\n",
      "100%|████████████████████████████████████████████████████████████████████████████| 6085/6085 [00:01<00:00, 4446.67it/s]\n",
      "100%|████████████████████████████████████████████████████████████████████████████| 6085/6085 [00:00<00:00, 6741.77it/s]\n",
      "100%|████████████████████████████████████████████████████████████████████████████| 6085/6085 [00:00<00:00, 7012.72it/s]\n",
      "100%|████████████████████████████████████████████████████████████████████████████| 6085/6085 [00:00<00:00, 6956.78it/s]\n",
      "100%|████████████████████████████████████████████████████████████████████████████| 6085/6085 [00:00<00:00, 6925.33it/s]\n",
      "100%|████████████████████████████████████████████████████████████████████████████| 6085/6085 [00:00<00:00, 6870.57it/s]\n",
      "100%|████████████████████████████████████████████████████████████████████████████| 6085/6085 [00:00<00:00, 8985.34it/s]\n",
      "100%|█████████████████████████████████████████████████████████████████████████████| 6085/6085 [00:07<00:00, 861.40it/s]\n",
      "100%|████████████████████████████████████████████████████████████████████████████| 6085/6085 [00:01<00:00, 4395.74it/s]\n",
      "100%|████████████████████████████████████████████████████████████████████████████| 6085/6085 [00:00<00:00, 6948.83it/s]\n",
      "100%|████████████████████████████████████████████████████████████████████████████| 6085/6085 [00:00<00:00, 6894.40it/s]\n",
      "100%|████████████████████████████████████████████████████████████████████████████| 6085/6085 [00:00<00:00, 6964.70it/s]\n",
      "100%|████████████████████████████████████████████████████████████████████████████| 6085/6085 [00:00<00:00, 6801.68it/s]\n",
      "100%|████████████████████████████████████████████████████████████████████████████| 6085/6085 [00:00<00:00, 6862.88it/s]\n",
      "100%|████████████████████████████████████████████████████████████████████████████| 6085/6085 [00:00<00:00, 8972.26it/s]\n",
      "100%|█████████████████████████████████████████████████████████████████████████████| 6085/6085 [00:07<00:00, 785.78it/s]\n",
      "100%|████████████████████████████████████████████████████████████████████████████| 6085/6085 [00:01<00:00, 4353.86it/s]\n",
      "100%|████████████████████████████████████████████████████████████████████████████| 6085/6085 [00:00<00:00, 7077.83it/s]\n",
      "100%|████████████████████████████████████████████████████████████████████████████| 6085/6085 [00:00<00:00, 6964.73it/s]\n",
      "100%|████████████████████████████████████████████████████████████████████████████| 6085/6085 [00:00<00:00, 6940.96it/s]\n",
      "100%|████████████████████████████████████████████████████████████████████████████| 6085/6085 [00:00<00:00, 6893.84it/s]\n",
      "100%|████████████████████████████████████████████████████████████████████████████| 6085/6085 [00:00<00:00, 6857.75it/s]\n",
      "100%|████████████████████████████████████████████████████████████████████████████| 6085/6085 [00:00<00:00, 9071.86it/s]\n",
      "100%|█████████████████████████████████████████████████████████████████████████████| 6085/6085 [00:08<00:00, 703.13it/s]\n",
      "100%|████████████████████████████████████████████████████████████████████████████| 6085/6085 [00:01<00:00, 4430.77it/s]\n",
      "100%|████████████████████████████████████████████████████████████████████████████| 6085/6085 [00:00<00:00, 6934.68it/s]\n",
      "100%|████████████████████████████████████████████████████████████████████████████| 6085/6085 [00:00<00:00, 6875.62it/s]\n",
      "100%|████████████████████████████████████████████████████████████████████████████| 6085/6085 [00:00<00:00, 7045.15it/s]\n",
      "100%|████████████████████████████████████████████████████████████████████████████| 6085/6085 [00:00<00:00, 6917.34it/s]\n",
      "100%|████████████████████████████████████████████████████████████████████████████| 6085/6085 [00:00<00:00, 6862.88it/s]\n",
      "100%|████████████████████████████████████████████████████████████████████████████| 6085/6085 [00:00<00:00, 9188.32it/s]\n",
      "100%|█████████████████████████████████████████████████████████████████████████████| 6085/6085 [00:09<00:00, 656.55it/s]\n",
      "100%|████████████████████████████████████████████████████████████████████████████| 6085/6085 [00:01<00:00, 4417.94it/s]\n",
      "100%|████████████████████████████████████████████████████████████████████████████| 6085/6085 [00:00<00:00, 7020.83it/s]\n",
      "100%|████████████████████████████████████████████████████████████████████████████| 6085/6085 [00:00<00:00, 7029.39it/s]\n",
      "100%|████████████████████████████████████████████████████████████████████████████| 6085/6085 [00:00<00:00, 6909.52it/s]\n",
      "100%|████████████████████████████████████████████████████████████████████████████| 6085/6085 [00:00<00:00, 6914.85it/s]\n",
      "100%|████████████████████████████████████████████████████████████████████████████| 6085/6085 [00:00<00:00, 6779.22it/s]\n",
      "100%|████████████████████████████████████████████████████████████████████████████| 6085/6085 [00:00<00:00, 8728.62it/s]\n",
      "100%|█████████████████████████████████████████████████████████████████████████████| 6085/6085 [00:10<00:00, 600.99it/s]\n",
      "100%|████████████████████████████████████████████████████████████████████████████| 6085/6085 [00:01<00:00, 4386.16it/s]\n",
      "100%|████████████████████████████████████████████████████████████████████████████| 6085/6085 [00:00<00:00, 6893.87it/s]\n",
      "100%|████████████████████████████████████████████████████████████████████████████| 6085/6085 [00:00<00:00, 7021.06it/s]\n",
      "100%|████████████████████████████████████████████████████████████████████████████| 6085/6085 [00:00<00:00, 6917.35it/s]\n",
      "100%|████████████████████████████████████████████████████████████████████████████| 6085/6085 [00:00<00:00, 7077.80it/s]\n",
      "100%|████████████████████████████████████████████████████████████████████████████| 6085/6085 [00:00<00:00, 6917.57it/s]\n",
      "100%|████████████████████████████████████████████████████████████████████████████| 6085/6085 [00:00<00:00, 9038.53it/s]\n"
     ]
    }
   ],
   "source": [
    "similarity1 = train(rtrain_implicit)\n",
    "MAP10Combine = {}\n",
    "for k in range(40, 120, 10):\n",
    "    user_item_prediction_score1 = predict(rtrain, k, similarity1, item_similarity_en= False)\n",
    "    user_item_predict1 = prediction(user_item_prediction_score1, 50, rtrain)\n",
    "    user_item_res1 = evaluate(user_item_predict1, rvalid)\n",
    "    \n",
    "    MAP10Combine[k] = user_item_res1.get('MAP@10')[0]"
   ]
  },
  {
   "cell_type": "code",
   "execution_count": 270,
   "metadata": {},
   "outputs": [
    {
     "data": {
      "text/plain": [
       "{40: 0.1047,\n",
       " 50: 0.1061,\n",
       " 60: 0.1066,\n",
       " 70: 0.1067,\n",
       " 80: 0.1059,\n",
       " 90: 0.1052,\n",
       " 100: 0.1044,\n",
       " 110: 0.104}"
      ]
     },
     "execution_count": 270,
     "metadata": {},
     "output_type": "execute_result"
    }
   ],
   "source": [
    "MAP10Combine"
   ]
  },
  {
   "cell_type": "markdown",
   "metadata": {},
   "source": [
    "## Plot for combined KNN, implicit similarity matrix, explicit user-rating matrix"
   ]
  },
  {
   "cell_type": "code",
   "execution_count": 276,
   "metadata": {},
   "outputs": [
    {
     "data": {
      "image/png": "[encoded data removed]",
      "text/plain": [
       "<Figure size 432x288 with 1 Axes>"
      ]
     },
     "metadata": {
      "needs_background": "light"
     },
     "output_type": "display_data"
    }
   ],
   "source": [
    "listsCombined = sorted(MAP10Combine.items()) # sorted by key, return a list of tuples\n",
    "\n",
    "x1, y1 = zip(*listsCombined) # unpack a list of pairs into two tuples\n",
    "\n",
    "plt.plot( x1, y1, marker='o',color='green', linewidth=2, label=\"CombinedPrediction\")\n",
    "for x, y in zip(x1, y1): \n",
    "    plt.text(x, y, str(y))\n",
    "    \n",
    "plt.legend()\n",
    "plt.xlabel('K values')\n",
    "plt.ylabel('MAP@10')\n",
    "\n",
    "plt.show()"
   ]
  },
  {
   "cell_type": "markdown",
   "metadata": {},
   "source": [
    "### With ratings that subtracts user average rating, pearson correlation"
   ]
  },
  {
   "cell_type": "code",
   "execution_count": 30,
   "metadata": {},
   "outputs": [
    {
     "name": "stderr",
     "output_type": "stream",
     "text": [
      "100%|█████████████████████████████████████████████████████████████████████████████| 6085/6085 [00:09<00:00, 660.67it/s]\n",
      "100%|████████████████████████████████████████████████████████████████████████████| 6085/6085 [00:01<00:00, 4412.00it/s]\n"
     ]
    }
   ],
   "source": [
    "# #UU similarity, using cosine similarity\n",
    "# similarity2 = train(rtrain_userAvg)\n",
    "# #get a user-item matrix  UI prediction\n",
    "# #Predict using UI matrix with ratings in it \n",
    "# user_item_prediction_score2 = predict(rtrain_userAvg, 100, similarity2, item_similarity_en= False)\n",
    "# user_item_predict2 = prediction(user_item_prediction_score2, 50, rtrain_userAvg)\n",
    "# user_item_res2 = evaluate(user_item_predict2, rvalid_userAvg)\n",
    "# user_item_res2"
   ]
  },
  {
   "cell_type": "markdown",
   "metadata": {},
   "source": [
    "### 3. With raw ratings, cosinesimilarity\n",
    "Tuning for different K"
   ]
  },
  {
   "cell_type": "code",
   "execution_count": 41,
   "metadata": {
    "scrolled": true
   },
   "outputs": [
    {
     "name": "stderr",
     "output_type": "stream",
     "text": [
      "100%|█████████████████████████████████████████████████████████████████████████████| 6085/6085 [00:07<00:00, 796.55it/s]\n",
      "100%|████████████████████████████████████████████████████████████████████████████| 6085/6085 [00:01<00:00, 4453.18it/s]\n",
      "100%|████████████████████████████████████████████████████████████████████████████| 6085/6085 [00:00<00:00, 6908.07it/s]\n",
      "100%|████████████████████████████████████████████████████████████████████████████| 6085/6085 [00:00<00:00, 7156.59it/s]\n",
      "100%|████████████████████████████████████████████████████████████████████████████| 6085/6085 [00:00<00:00, 7047.52it/s]\n",
      "100%|████████████████████████████████████████████████████████████████████████████| 6085/6085 [00:00<00:00, 6912.18it/s]\n",
      "100%|████████████████████████████████████████████████████████████████████████████| 6085/6085 [00:00<00:00, 6931.41it/s]\n",
      "100%|████████████████████████████████████████████████████████████████████████████| 6085/6085 [00:00<00:00, 8992.45it/s]\n",
      "100%|█████████████████████████████████████████████████████████████████████████████| 6085/6085 [00:08<00:00, 699.50it/s]\n",
      "100%|████████████████████████████████████████████████████████████████████████████| 6085/6085 [00:01<00:00, 4447.03it/s]\n",
      "100%|████████████████████████████████████████████████████████████████████████████| 6085/6085 [00:00<00:00, 7047.05it/s]\n",
      "100%|████████████████████████████████████████████████████████████████████████████| 6085/6085 [00:00<00:00, 7005.24it/s]\n",
      "100%|████████████████████████████████████████████████████████████████████████████| 6085/6085 [00:00<00:00, 6972.24it/s]\n",
      "100%|████████████████████████████████████████████████████████████████████████████| 6085/6085 [00:00<00:00, 6904.95it/s]\n",
      "100%|████████████████████████████████████████████████████████████████████████████| 6085/6085 [00:00<00:00, 6861.93it/s]\n",
      "100%|████████████████████████████████████████████████████████████████████████████| 6085/6085 [00:00<00:00, 8698.03it/s]\n",
      "100%|█████████████████████████████████████████████████████████████████████████████| 6085/6085 [00:07<00:00, 815.22it/s]\n",
      "100%|████████████████████████████████████████████████████████████████████████████| 6085/6085 [00:01<00:00, 4450.87it/s]\n",
      "100%|████████████████████████████████████████████████████████████████████████████| 6085/6085 [00:00<00:00, 7145.24it/s]\n",
      "100%|████████████████████████████████████████████████████████████████████████████| 6085/6085 [00:00<00:00, 6938.41it/s]\n",
      "100%|████████████████████████████████████████████████████████████████████████████| 6085/6085 [00:00<00:00, 6968.53it/s]\n",
      "100%|████████████████████████████████████████████████████████████████████████████| 6085/6085 [00:00<00:00, 7094.72it/s]\n",
      "100%|████████████████████████████████████████████████████████████████████████████| 6085/6085 [00:00<00:00, 6884.03it/s]\n",
      "100%|████████████████████████████████████████████████████████████████████████████| 6085/6085 [00:00<00:00, 9023.76it/s]\n",
      "100%|█████████████████████████████████████████████████████████████████████████████| 6085/6085 [00:08<00:00, 726.31it/s]\n",
      "100%|████████████████████████████████████████████████████████████████████████████| 6085/6085 [00:01<00:00, 4396.36it/s]\n",
      "100%|████████████████████████████████████████████████████████████████████████████| 6085/6085 [00:00<00:00, 7034.09it/s]\n",
      "100%|████████████████████████████████████████████████████████████████████████████| 6085/6085 [00:00<00:00, 6968.17it/s]\n",
      "100%|████████████████████████████████████████████████████████████████████████████| 6085/6085 [00:00<00:00, 7104.70it/s]\n",
      "100%|████████████████████████████████████████████████████████████████████████████| 6085/6085 [00:00<00:00, 7110.68it/s]\n",
      "100%|████████████████████████████████████████████████████████████████████████████| 6085/6085 [00:00<00:00, 6989.48it/s]\n",
      "100%|████████████████████████████████████████████████████████████████████████████| 6085/6085 [00:00<00:00, 9160.04it/s]\n",
      "100%|█████████████████████████████████████████████████████████████████████████████| 6085/6085 [00:09<00:00, 664.77it/s]\n",
      "100%|████████████████████████████████████████████████████████████████████████████| 6085/6085 [00:01<00:00, 4404.44it/s]\n",
      "100%|████████████████████████████████████████████████████████████████████████████| 6085/6085 [00:00<00:00, 7088.20it/s]\n",
      "100%|████████████████████████████████████████████████████████████████████████████| 6085/6085 [00:00<00:00, 7030.61it/s]\n",
      "100%|████████████████████████████████████████████████████████████████████████████| 6085/6085 [00:00<00:00, 7047.83it/s]\n",
      "100%|████████████████████████████████████████████████████████████████████████████| 6085/6085 [00:00<00:00, 7091.34it/s]\n",
      "100%|████████████████████████████████████████████████████████████████████████████| 6085/6085 [00:00<00:00, 6910.63it/s]\n",
      "100%|████████████████████████████████████████████████████████████████████████████| 6085/6085 [00:00<00:00, 9082.51it/s]\n",
      "100%|█████████████████████████████████████████████████████████████████████████████| 6085/6085 [00:09<00:00, 616.52it/s]\n",
      "100%|████████████████████████████████████████████████████████████████████████████| 6085/6085 [00:01<00:00, 4493.33it/s]\n",
      "100%|████████████████████████████████████████████████████████████████████████████| 6085/6085 [00:00<00:00, 7035.67it/s]\n",
      "100%|████████████████████████████████████████████████████████████████████████████| 6085/6085 [00:00<00:00, 7033.29it/s]\n",
      "100%|████████████████████████████████████████████████████████████████████████████| 6085/6085 [00:00<00:00, 7035.45it/s]\n",
      "100%|████████████████████████████████████████████████████████████████████████████| 6085/6085 [00:00<00:00, 7128.49it/s]\n",
      "100%|████████████████████████████████████████████████████████████████████████████| 6085/6085 [00:00<00:00, 6943.82it/s]\n",
      "100%|████████████████████████████████████████████████████████████████████████████| 6085/6085 [00:00<00:00, 9012.32it/s]\n",
      "100%|█████████████████████████████████████████████████████████████████████████████| 6085/6085 [00:10<00:00, 575.20it/s]\n",
      "100%|████████████████████████████████████████████████████████████████████████████| 6085/6085 [00:01<00:00, 4426.93it/s]\n",
      "100%|████████████████████████████████████████████████████████████████████████████| 6085/6085 [00:00<00:00, 6966.25it/s]\n",
      "100%|████████████████████████████████████████████████████████████████████████████| 6085/6085 [00:00<00:00, 6991.29it/s]\n",
      "100%|████████████████████████████████████████████████████████████████████████████| 6085/6085 [00:00<00:00, 7154.31it/s]\n",
      "100%|████████████████████████████████████████████████████████████████████████████| 6085/6085 [00:00<00:00, 7021.29it/s]\n",
      "100%|████████████████████████████████████████████████████████████████████████████| 6085/6085 [00:00<00:00, 6848.29it/s]\n",
      "100%|████████████████████████████████████████████████████████████████████████████| 6085/6085 [00:00<00:00, 8974.98it/s]\n"
     ]
    }
   ],
   "source": [
    "similarity3 = train(rtrain)\n",
    "MAP10ExplicitRaw = {}\n",
    "for k in range(50, 120, 10):\n",
    "    user_item_prediction_score3 = predict(rtrain, k, similarity3, item_similarity_en= False)\n",
    "    user_item_predict3 = prediction(user_item_prediction_score3, 50, rtrain)\n",
    "    user_item_res3 = evaluate(user_item_predict3, rvalid)\n",
    "    \n",
    "    MAP10ExplicitRaw[k] = user_item_res3.get('MAP@10')[0]"
   ]
  },
  {
   "cell_type": "code",
   "execution_count": 44,
   "metadata": {
    "scrolled": true
   },
   "outputs": [
    {
     "data": {
      "text/plain": [
       "dict_values([0.0535, 0.0532, 0.0538, 0.0537, 0.0539, 0.0537, 0.0536])"
      ]
     },
     "execution_count": 44,
     "metadata": {},
     "output_type": "execute_result"
    }
   ],
   "source": [
    "MAP10ExplicitRaw.values()"
   ]
  },
  {
   "cell_type": "markdown",
   "metadata": {},
   "source": [
    "## 4.User-visting matrix"
   ]
  },
  {
   "cell_type": "code",
   "execution_count": 27,
   "metadata": {},
   "outputs": [
    {
     "name": "stderr",
     "output_type": "stream",
     "text": [
      "C:\\ProgramData\\Anaconda3\\lib\\site-packages\\ipykernel_launcher.py:3: SparseEfficiencyWarning: Changing the sparsity structure of a csr_matrix is expensive. lil_matrix is more efficient.\n",
      "  This is separate from the ipykernel package so we can avoid doing imports until\n"
     ]
    }
   ],
   "source": [
    "def getImplicitMatrix(sparseMatrix, threashold=0):\n",
    "    temp_matrix = sparse.csr_matrix(sparseMatrix.shape)\n",
    "    temp_matrix[(sparseMatrix > threashold).nonzero()] = 1\n",
    "    return temp_matrix\n",
    "\n",
    "userVisitMatrix = getImplicitMatrix(rtrain)"
   ]
  },
  {
   "cell_type": "code",
   "execution_count": 42,
   "metadata": {
    "scrolled": true
   },
   "outputs": [
    {
     "name": "stderr",
     "output_type": "stream",
     "text": [
      "100%|█████████████████████████████████████████████████████████████████████████████| 6085/6085 [00:10<00:00, 557.35it/s]\n",
      "100%|████████████████████████████████████████████████████████████████████████████| 6085/6085 [00:01<00:00, 4376.68it/s]\n",
      "100%|████████████████████████████████████████████████████████████████████████████| 6085/6085 [00:00<00:00, 6843.84it/s]\n",
      "100%|████████████████████████████████████████████████████████████████████████████| 6085/6085 [00:00<00:00, 7159.51it/s]\n",
      "100%|████████████████████████████████████████████████████████████████████████████| 6085/6085 [00:00<00:00, 7038.83it/s]\n",
      "100%|████████████████████████████████████████████████████████████████████████████| 6085/6085 [00:00<00:00, 7168.03it/s]\n",
      "100%|████████████████████████████████████████████████████████████████████████████| 6085/6085 [00:00<00:00, 6991.40it/s]\n",
      "100%|████████████████████████████████████████████████████████████████████████████| 6085/6085 [00:00<00:00, 9133.07it/s]\n",
      "100%|█████████████████████████████████████████████████████████████████████████████| 6085/6085 [00:12<00:00, 488.19it/s]\n",
      "100%|████████████████████████████████████████████████████████████████████████████| 6085/6085 [00:01<00:00, 4328.31it/s]\n",
      "100%|████████████████████████████████████████████████████████████████████████████| 6085/6085 [00:00<00:00, 6915.36it/s]\n",
      "100%|████████████████████████████████████████████████████████████████████████████| 6085/6085 [00:00<00:00, 6911.00it/s]\n",
      "100%|████████████████████████████████████████████████████████████████████████████| 6085/6085 [00:00<00:00, 6848.06it/s]\n",
      "100%|████████████████████████████████████████████████████████████████████████████| 6085/6085 [00:00<00:00, 6996.76it/s]\n",
      "100%|████████████████████████████████████████████████████████████████████████████| 6085/6085 [00:00<00:00, 6913.33it/s]\n",
      "100%|████████████████████████████████████████████████████████████████████████████| 6085/6085 [00:00<00:00, 9082.27it/s]\n",
      "100%|█████████████████████████████████████████████████████████████████████████████| 6085/6085 [00:14<00:00, 434.55it/s]\n",
      "100%|████████████████████████████████████████████████████████████████████████████| 6085/6085 [00:01<00:00, 4425.32it/s]\n",
      "100%|████████████████████████████████████████████████████████████████████████████| 6085/6085 [00:00<00:00, 7047.66it/s]\n",
      "100%|████████████████████████████████████████████████████████████████████████████| 6085/6085 [00:00<00:00, 7132.43it/s]\n",
      "100%|████████████████████████████████████████████████████████████████████████████| 6085/6085 [00:00<00:00, 7058.90it/s]\n",
      "100%|████████████████████████████████████████████████████████████████████████████| 6085/6085 [00:00<00:00, 7037.91it/s]\n",
      "100%|████████████████████████████████████████████████████████████████████████████| 6085/6085 [00:00<00:00, 6957.10it/s]\n",
      "100%|████████████████████████████████████████████████████████████████████████████| 6085/6085 [00:00<00:00, 9083.92it/s]\n",
      "100%|█████████████████████████████████████████████████████████████████████████████| 6085/6085 [00:15<00:00, 391.31it/s]\n",
      "100%|████████████████████████████████████████████████████████████████████████████| 6085/6085 [00:01<00:00, 4426.75it/s]\n",
      "100%|████████████████████████████████████████████████████████████████████████████| 6085/6085 [00:00<00:00, 6849.83it/s]\n",
      "100%|████████████████████████████████████████████████████████████████████████████| 6085/6085 [00:00<00:00, 6939.86it/s]\n",
      "100%|████████████████████████████████████████████████████████████████████████████| 6085/6085 [00:00<00:00, 6808.20it/s]\n",
      "100%|████████████████████████████████████████████████████████████████████████████| 6085/6085 [00:00<00:00, 6946.05it/s]\n",
      "100%|████████████████████████████████████████████████████████████████████████████| 6085/6085 [00:00<00:00, 6879.15it/s]\n",
      "100%|████████████████████████████████████████████████████████████████████████████| 6085/6085 [00:00<00:00, 8975.32it/s]\n",
      "100%|█████████████████████████████████████████████████████████████████████████████| 6085/6085 [00:17<00:00, 353.99it/s]\n",
      "100%|████████████████████████████████████████████████████████████████████████████| 6085/6085 [00:01<00:00, 4432.04it/s]\n",
      "100%|████████████████████████████████████████████████████████████████████████████| 6085/6085 [00:00<00:00, 6951.00it/s]\n",
      "100%|████████████████████████████████████████████████████████████████████████████| 6085/6085 [00:00<00:00, 7173.61it/s]\n",
      "100%|████████████████████████████████████████████████████████████████████████████| 6085/6085 [00:00<00:00, 7134.19it/s]\n",
      "100%|████████████████████████████████████████████████████████████████████████████| 6085/6085 [00:00<00:00, 7185.12it/s]\n",
      "100%|████████████████████████████████████████████████████████████████████████████| 6085/6085 [00:00<00:00, 6985.81it/s]\n",
      "100%|████████████████████████████████████████████████████████████████████████████| 6085/6085 [00:00<00:00, 9133.53it/s]\n",
      "100%|█████████████████████████████████████████████████████████████████████████████| 6085/6085 [00:18<00:00, 322.45it/s]\n",
      "100%|████████████████████████████████████████████████████████████████████████████| 6085/6085 [00:01<00:00, 4421.33it/s]\n",
      "100%|████████████████████████████████████████████████████████████████████████████| 6085/6085 [00:00<00:00, 7095.95it/s]\n",
      "100%|████████████████████████████████████████████████████████████████████████████| 6085/6085 [00:00<00:00, 7202.12it/s]\n",
      "100%|████████████████████████████████████████████████████████████████████████████| 6085/6085 [00:00<00:00, 7219.78it/s]\n",
      "100%|████████████████████████████████████████████████████████████████████████████| 6085/6085 [00:00<00:00, 7028.48it/s]\n",
      "100%|████████████████████████████████████████████████████████████████████████████| 6085/6085 [00:00<00:00, 6872.46it/s]\n",
      "100%|████████████████████████████████████████████████████████████████████████████| 6085/6085 [00:00<00:00, 8954.67it/s]\n",
      "100%|█████████████████████████████████████████████████████████████████████████████| 6085/6085 [00:20<00:00, 296.99it/s]\n",
      "100%|████████████████████████████████████████████████████████████████████████████| 6085/6085 [00:01<00:00, 4426.99it/s]\n",
      "100%|████████████████████████████████████████████████████████████████████████████| 6085/6085 [00:00<00:00, 7176.85it/s]\n",
      "100%|████████████████████████████████████████████████████████████████████████████| 6085/6085 [00:00<00:00, 7016.92it/s]\n",
      "100%|████████████████████████████████████████████████████████████████████████████| 6085/6085 [00:00<00:00, 7013.69it/s]\n",
      "100%|████████████████████████████████████████████████████████████████████████████| 6085/6085 [00:00<00:00, 6906.48it/s]\n",
      "100%|████████████████████████████████████████████████████████████████████████████| 6085/6085 [00:00<00:00, 6835.49it/s]\n",
      "100%|████████████████████████████████████████████████████████████████████████████| 6085/6085 [00:00<00:00, 8902.84it/s]\n"
     ]
    }
   ],
   "source": [
    "MAP10UserVisit = {}\n",
    "for k in range(50, 120, 10):\n",
    "    similarity3 = train(userVisitMatrix)\n",
    "    user_item_prediction_score3 = predict(userVisitMatrix, k, similarity3, item_similarity_en= False)\n",
    "    user_item_predict3 = prediction(user_item_prediction_score3, 50, userVisitMatrix)\n",
    "    user_item_res3 = evaluate(user_item_predict3, rvalid_implicit)\n",
    "    \n",
    "    MAP10UserVisit[k] = user_item_res3.get('MAP@10')[0]"
   ]
  },
  {
   "cell_type": "code",
   "execution_count": 258,
   "metadata": {},
   "outputs": [
    {
     "data": {
      "text/plain": [
       "dict_values([0.0464, 0.0467, 0.0469, 0.0471, 0.0471, 0.0472, 0.0472])"
      ]
     },
     "execution_count": 258,
     "metadata": {},
     "output_type": "execute_result"
    }
   ],
   "source": [
    "MAP10UserVisit.values()"
   ]
  },
  {
   "cell_type": "markdown",
   "metadata": {},
   "source": [
    "## plot for best k "
   ]
  },
  {
   "cell_type": "code",
   "execution_count": 43,
   "metadata": {},
   "outputs": [
    {
     "data": {
      "image/png": "[encoded data removed]",
      "text/plain": [
       "<Figure size 432x288 with 1 Axes>"
      ]
     },
     "metadata": {
      "needs_background": "light"
     },
     "output_type": "display_data"
    }
   ],
   "source": [
    "listsUserRatingScaled = sorted(MAP10.items()) # sorted by key, return a list of tuples\n",
    "listsUserRatingImplicit = sorted(MAP10Implicit.items())\n",
    "listsUserRatingExplicitRaw = sorted(MAP10ExplicitRaw.items())\n",
    "listsUserRatingUserVisiting = sorted(MAP10UserVisit.items())\n",
    "\n",
    "x1, y1 = zip(*listsUserRatingScaled) # unpack a list of pairs into two tuples\n",
    "x2, y2 = zip(*listsUserRatingImplicit)\n",
    "x3, y3 = zip(*listsUserRatingExplicitRaw)\n",
    "x4, y4 = zip(*listsUserRatingUserVisiting)\n",
    "\n",
    "\n",
    "plt.plot( x1, y1, marker='o',color='green', linewidth=2, label=\"user_Rating_Scaled\")\n",
    "plt.plot( x2, y2, marker='o', color='blue', linewidth=2, label=\"user_Rating_Implicit\")\n",
    "plt.plot( x3, y3, marker='o', color='red', linewidth=2, label=\"user_Rating_Explicit\")\n",
    "plt.plot( x4, y4, marker='o', color='orange', linewidth=2, label=\"user_Visting\")\n",
    "\n",
    "for x, y in zip(x1, y1): \n",
    "    plt.text(x, y, str(y))\n",
    "for x, y in zip(x2, y2): \n",
    "    plt.text(x, y, str(y))\n",
    "for x, y in zip(x3, y3): \n",
    "    plt.text(x, y, str(y))\n",
    "for x, y in zip(x4, y4): \n",
    "    plt.text(x, y, str(y))\n",
    "    \n",
    "plt.legend(bbox_to_anchor=(1, 1),\n",
    "           bbox_transform=plt.gcf().transFigure)\n",
    "plt.title('Comparison between candidate matrcies')\n",
    "plt.xlabel('K values')\n",
    "plt.ylabel('MAP@10')\n",
    "\n",
    "plt.show()"
   ]
  },
  {
   "cell_type": "markdown",
   "metadata": {},
   "source": [
    "## Item Base KNN using TF-IDF"
   ]
  },
  {
   "cell_type": "code",
   "execution_count": 48,
   "metadata": {},
   "outputs": [],
   "source": [
    "IK_MATRIX = X_cleaned_sparse"
   ]
  },
  {
   "cell_type": "code",
   "execution_count": 49,
   "metadata": {},
   "outputs": [
    {
     "name": "stderr",
     "output_type": "stream",
     "text": [
      "100%|█████████████████████████████████████████████████████████████████████████████| 4000/4000 [00:05<00:00, 760.44it/s]\n",
      "100%|████████████████████████████████████████████████████████████████████████████| 6088/6088 [00:01<00:00, 3433.24it/s]\n"
     ]
    }
   ],
   "source": [
    "I_I_similarity = train(IK_MATRIX)\n",
    "item_based_prediction_score4 = predict(rtrain, 10, I_I_similarity, item_similarity_en= True)\n",
    "#for each restuarant top50 users \n",
    "item_based_predict4 = prediction(item_based_prediction_score4, 50, rtrain)"
   ]
  },
  {
   "cell_type": "code",
   "execution_count": 51,
   "metadata": {},
   "outputs": [
    {
     "name": "stderr",
     "output_type": "stream",
     "text": [
      "100%|████████████████████████████████████████████████████████████████████████████| 6088/6088 [00:00<00:00, 6455.91it/s]\n",
      "100%|████████████████████████████████████████████████████████████████████████████| 6088/6088 [00:00<00:00, 6746.07it/s]\n",
      "100%|████████████████████████████████████████████████████████████████████████████| 6088/6088 [00:00<00:00, 6796.31it/s]\n",
      "100%|████████████████████████████████████████████████████████████████████████████| 6088/6088 [00:00<00:00, 6843.26it/s]\n",
      "100%|████████████████████████████████████████████████████████████████████████████| 6088/6088 [00:00<00:00, 6664.89it/s]\n",
      "100%|████████████████████████████████████████████████████████████████████████████| 6088/6088 [00:00<00:00, 6098.03it/s]\n"
     ]
    }
   ],
   "source": [
    "item_based_res_TFIDF = evaluate(item_based_predict4, rvalid)"
   ]
  },
  {
   "cell_type": "code",
   "execution_count": 52,
   "metadata": {},
   "outputs": [
    {
     "data": {
      "text/plain": [
       "{'MAP@5': (0.025720090045571842, 0.0023778194577824324),\n",
       " 'Recall@5': (0.016655483869688705, 0.0017397463525098502),\n",
       " 'Precision@5': (0.022467468291879424, 0.0017674622991041998),\n",
       " 'MAP@10': (0.022609687481207827, 0.0017360525467602446),\n",
       " 'Recall@10': (0.027194281753721176, 0.002222645640702759),\n",
       " 'Precision@10': (0.018283643551309504, 0.0011753292576658),\n",
       " 'MAP@15': (0.020781676396896296, 0.00142907310519044),\n",
       " 'Recall@15': (0.036517627228885796, 0.0025924958256981607),\n",
       " 'Precision@15': (0.0165266567836161, 0.0009373298279886963),\n",
       " 'MAP@20': (0.019509841866004404, 0.0012405775324402586),\n",
       " 'Recall@20': (0.044301527297699116, 0.002866338517957658),\n",
       " 'Precision@20': (0.015112831493987811, 0.0007917345810550951),\n",
       " 'MAP@50': (0.015555777760667203, 0.0007797415508435789),\n",
       " 'Recall@50': (0.08003652685068291, 0.003781329780486565),\n",
       " 'Precision@50': (0.011391862955032118, 0.0004649805491420753),\n",
       " 'R-Precision': (0.019076629311042183, 0.0015214914170442837),\n",
       " 'NDCG': (0.04568113642606309, 0.0021907588988182157)}"
      ]
     },
     "execution_count": 52,
     "metadata": {},
     "output_type": "execute_result"
    }
   ],
   "source": [
    "item_based_res_TFIDF"
   ]
  },
  {
   "cell_type": "markdown",
   "metadata": {},
   "source": [
    "## Try combining different similarity scores"
   ]
  },
  {
   "cell_type": "code",
   "execution_count": 26,
   "metadata": {},
   "outputs": [],
   "source": [
    "#Get a UI matrix if it's not item_similarity based or else IU\n",
    "def predictUU(matrix_train, k, similarity1=None, similarity2=None, similarity3=None, similarity4=None, chooseWeigthMethod = 'max', item_similarity_en = False):\n",
    "    prediction_scores = []\n",
    "    #Convert from list to ndarray, add an axis\n",
    "    if isinstance(chooseWeigthMethod, list):\n",
    "        chooseWeigthMethod = np.array(chooseWeigthMethod)[:, np.newaxis]\n",
    "   \n",
    "    \"make sure that when passing in chooseWeightMethod, the weight must be aligned with similarity metrices, even if set to None\"\n",
    "    \"They should add to 1 as well\"\n",
    "    #inverse to IU matrix\n",
    "    if item_similarity_en:\n",
    "        matrix_train = matrix_train.transpose()\n",
    "        \n",
    "    #for each user or item, depends UI or IU \n",
    "    for user_index in tqdm(range(matrix_train.shape[0])):\n",
    "    #for user_index in tqdm(range(10,20)):\n",
    "        \n",
    "        numberSimilarMatrix = 0\n",
    "        # Get user u's prediction scores for all items \n",
    "        #Get prediction/similarity score for each user 1*num or user or num of items\n",
    "        if similarity1 is not None:\n",
    "            vector_u1 = similarity1[user_index]\n",
    "            numberSimilarMatrix += 1\n",
    "        else:\n",
    "            vector_u1 = [0]*matrix_train.shape[0]\n",
    "            \n",
    "        if similarity2 is not None:\n",
    "            vector_u2 = similarity2[user_index]\n",
    "            numberSimilarMatrix += 1\n",
    "        else:\n",
    "            vector_u2 = [0]*len(vector_u1)\n",
    "            \n",
    "        if similarity3 is not None:\n",
    "            vector_u3 = similarity3[user_index]\n",
    "            numberSimilarMatrix += 1\n",
    "        else:\n",
    "            vector_u3 = [0]*len(vector_u1)\n",
    "            \n",
    "        if similarity4 is not None:\n",
    "            vector_u4 = similarity4[user_index]\n",
    "            numberSimilarMatrix += 1\n",
    "        else:\n",
    "            vector_u4 = [0]*len(vector_u1)\n",
    "        \n",
    "        #Temperary vector that stacks all 4 vectors together\n",
    "        tempVector = np.array([vector_u1,vector_u2,vector_u3,vector_u4])\n",
    "        \n",
    "        if chooseWeigthMethod is None:\n",
    "            #Get the similarity score from the first similarity matrix anyways \n",
    "            vector_u = vector_u1.copy()\n",
    "            \n",
    "        #If we are choosing the max, min, avg or similarity scores\n",
    "        if chooseWeigthMethod is not None:\n",
    "            if chooseWeigthMethod == 'max':\n",
    "                vector_u = tempVector.max(axis=0)\n",
    "            elif chooseWeigthMethod == 'min':\n",
    "                vector_u = tempVector.min(axis=0)\n",
    "            elif chooseWeigthMethod == 'average':\n",
    "                vector_u = tempVector.mean(axis=0)\n",
    "            elif isinstance(chooseWeigthMethod, np.ndarray):\n",
    "                #Validate that number of weights passed in equals number of matrices\n",
    "                #assert(len(chooseWeigthMethod) == numberSimilarMatrix)\n",
    "                #Get the new combined similarity vector \n",
    "                weighted_u = tempVector * chooseWeigthMethod\n",
    "                vector_u =np.sum(weighted_u, axis=0)\n",
    "                #print((vector_u == vector_u4).sum())\n",
    "                \n",
    "        similar_users = vector_u.argsort()[::-1][1:k+1]\n",
    "        \n",
    "        # Get neighbors similarity weights and ratings\n",
    "        #similar_users_weights = similarity1[user_index][similar_users]\n",
    "        similar_users_weights = vector_u[similar_users]\n",
    "        \n",
    "        #similar_users_weights_sum = np.sum(similar_users_weights)\n",
    "        #print(similar_users_weights.shape)\n",
    "        #shape: num of res * k\n",
    "        similar_users_ratings = matrix_train[similar_users].toarray()\n",
    "              \n",
    "        prediction_scores_u = similar_users_ratings * similar_users_weights[:, np.newaxis]\n",
    "        #print(prediction_scores_u)\n",
    "        \n",
    "        prediction_scores.append(np.sum(prediction_scores_u, axis=0))\n",
    "        \n",
    "    res = np.array(prediction_scores)\n",
    "    \n",
    "    if item_similarity_en:\n",
    "        res = res.transpose()\n",
    "    return res\n",
    "    #return vector_u"
   ]
  },
  {
   "cell_type": "code",
   "execution_count": 256,
   "metadata": {
    "scrolled": false
   },
   "outputs": [
    {
     "name": "stderr",
     "output_type": "stream",
     "text": [
      "  0%|                                                                                         | 0/6085 [00:00<?, ?it/s]C:\\ProgramData\\Anaconda3\\lib\\site-packages\\ipykernel_launcher.py:58: FutureWarning: elementwise comparison failed; returning scalar instead, but in the future will perform elementwise comparison\n",
      "C:\\ProgramData\\Anaconda3\\lib\\site-packages\\ipykernel_launcher.py:60: FutureWarning: elementwise comparison failed; returning scalar instead, but in the future will perform elementwise comparison\n",
      "C:\\ProgramData\\Anaconda3\\lib\\site-packages\\ipykernel_launcher.py:62: FutureWarning: elementwise comparison failed; returning scalar instead, but in the future will perform elementwise comparison\n",
      "100%|█████████████████████████████████████████████████████████████████████████████| 6085/6085 [00:16<00:00, 379.99it/s]\n",
      "100%|████████████████████████████████████████████████████████████████████████████| 6085/6085 [00:01<00:00, 4405.27it/s]\n",
      "100%|████████████████████████████████████████████████████████████████████████████| 6085/6085 [00:00<00:00, 6996.63it/s]\n",
      "100%|████████████████████████████████████████████████████████████████████████████| 6085/6085 [00:00<00:00, 6925.20it/s]\n",
      "100%|████████████████████████████████████████████████████████████████████████████| 6085/6085 [00:00<00:00, 6901.97it/s]\n",
      "100%|████████████████████████████████████████████████████████████████████████████| 6085/6085 [00:00<00:00, 6925.20it/s]\n",
      "100%|████████████████████████████████████████████████████████████████████████████| 6085/6085 [00:00<00:00, 6832.15it/s]\n",
      "100%|████████████████████████████████████████████████████████████████████████████| 6085/6085 [00:00<00:00, 9343.10it/s]\n"
     ]
    }
   ],
   "source": [
    "#UU similarity, using cosine similarity\n",
    "similarity1 = train(rtrain)\n",
    "similarity2 = train(rtrain_userAvg)\n",
    "#similarity2 = None\n",
    "similarity3 =train(userVisitMatrix)\n",
    "#similarity3 = None\n",
    "similarity4 = train(rtrain_implicit)\n",
    "#similarity4 = None\n",
    "#vectorU = predictUU(rtrain_userAvg, 90, similarity1, similarity2, similarity3, weight1, weight2, weight3, item_similarity_en= False)\n",
    "user_item_prediction_score1 = predictUU(rtrain, 90, similarity1, similarity2, similarity3, similarity4, chooseWeigthMethod = [0,0,0,1], item_similarity_en= False)\n",
    "user_item_predict1 = prediction(user_item_prediction_score1, 50, rtrain)\n",
    "user_item_res1 = evaluate(user_item_predict1, rvalid)"
   ]
  },
  {
   "cell_type": "markdown",
   "metadata": {},
   "source": [
    "## Iterations for different combination "
   ]
  },
  {
   "cell_type": "code",
   "execution_count": 28,
   "metadata": {},
   "outputs": [],
   "source": [
    "#UU similarity, using cosine similarity\n",
    "similarity1 = train(rtrain)\n",
    "similarity2 = train(rtrain_userAvg)\n",
    "#similarity2 = None\n",
    "similarity3 =train(userVisitMatrix)\n",
    "#similarity3 = None\n",
    "similarity4 = train(rtrain_implicit)\n",
    "\n",
    "predictionMatrixDict = {'prediction1':rtrain, \n",
    "                        'prediction2': rtrain_userAvg, \n",
    "                        'prediction3:': userVisitMatrix, \n",
    "                        'prediction4': rtrain_implicit}\n",
    "\n",
    "SimilarityMatrixIndex = {1: [similarity1, None],\n",
    "                         2: [similarity2, None],\n",
    "                         3: [similarity3, None],\n",
    "                         4: [similarity4, None]} \n",
    "combinationDict = {\n",
    "    'comb1': [1, 2, 3, 4],\n",
    "    'comb2': [1, 2, 3],\n",
    "    'comb3': [1, 2, 4],\n",
    "    'comb4': [2, 3, 4],\n",
    "    'comb5': [1, 3, 4],\n",
    "    'comb6': [1, 2],\n",
    "    'comb7': [1, 3],\n",
    "    'comb8': [1, 4],\n",
    "    'comb9': [2, 3],\n",
    "    'comb10': [2, 4],\n",
    "    'combe11':[3,4]\n",
    "    }"
   ]
  },
  {
   "cell_type": "markdown",
   "metadata": {},
   "source": [
    "### Max\n",
    "Prediction 1: rtrain; explicit raw rating\n",
    "\n",
    "Prediction 2: explicit user rating, with user average\n",
    "\n",
    "Prediction 3:user-visiting matrix\n",
    "\n",
    "Prediction 4: Implicit user rating"
   ]
  },
  {
   "cell_type": "code",
   "execution_count": 44,
   "metadata": {},
   "outputs": [],
   "source": [
    "def computeUUCombination(rtrain, rtrain_userAvg, userVisitMatrix, rtrain_implicit, combinationDict, SimilarityMatrixIndex, kTune, method='max'):\n",
    "\n",
    "    prediction1 = {}\n",
    "    prediction2 = {}\n",
    "    prediction3 = {}\n",
    "    prediction4 = {}\n",
    "\n",
    "    for combination, indexList in combinationDict.items():\n",
    "        #Loop through the similarity matrices \n",
    "        for index in SimilarityMatrixIndex.keys():\n",
    "            if index in indexList:\n",
    "                if index == 1: \n",
    "                    similarityOne = SimilarityMatrixIndex[1][0]\n",
    "                elif index == 2:\n",
    "                    similarityTwo = SimilarityMatrixIndex[2][0]\n",
    "                elif index == 3:\n",
    "                    similarityThree = SimilarityMatrixIndex[3][0]\n",
    "                elif index == 4:\n",
    "                    similarityFour = SimilarityMatrixIndex[4][0]\n",
    "            else:\n",
    "                if index == 1: \n",
    "                    similarityOne = SimilarityMatrixIndex[1][1]\n",
    "                elif index == 2:\n",
    "                    similarityTwo = SimilarityMatrixIndex[2][1]\n",
    "                elif index == 3:\n",
    "                    similarityThree = SimilarityMatrixIndex[3][1]\n",
    "                elif index == 4:\n",
    "                    similarityFour = SimilarityMatrixIndex[4][1]\n",
    "\n",
    "        user_item_prediction_score1 = predictUU(rtrain, kTune, similarityOne, similarityTwo, similarityThree, similarityFour, chooseWeigthMethod=method, item_similarity_en= False)\n",
    "        user_item_predict1 = prediction(user_item_prediction_score1, 50, rtrain)\n",
    "        user_item_res1 = evaluate(user_item_predict1, rvalid)\n",
    "        prediction1[combination] = user_item_res1.get('MAP@10')[0]\n",
    "\n",
    "        user_item_prediction_score2 = predictUU(rtrain_userAvg, kTune, similarityOne, similarityTwo, similarityThree, similarityFour, chooseWeigthMethod=method, item_similarity_en= False)\n",
    "        user_item_predict2 = prediction(user_item_prediction_score2, 50, rtrain_userAvg)\n",
    "        user_item_res2 = evaluate(user_item_predict2, rvalid_userAvg)\n",
    "        prediction2[combination] = user_item_res2.get('MAP@10')[0]\n",
    "        prediction2[combination] = user_item_res.get('MAP@10')[0]\n",
    "\n",
    "        user_item_prediction_score3 = predictUU(userVisitMatrix, kTune, similarityOne, similarityTwo, similarityThree, similarityFour, chooseWeigthMethod=method, item_similarity_en= False)\n",
    "        user_item_predict3 = prediction(user_item_prediction_score3, 50, userVisitMatrix)\n",
    "        user_item_res3 = evaluate(user_item_predict3, rvalid_implicit)         \n",
    "        prediction3[combination] = user_item_res3.get('MAP@10')[0]                \n",
    "\n",
    "        user_item_prediction_score4 = predictUU(rtrain_implicit, kTune, similarityOne, similarityTwo, similarityThree, similarityFour, chooseWeigthMethod=method, item_similarity_en= False)\n",
    "        user_item_predict4 = prediction(user_item_prediction_score4, 50, rtrain_implicit)\n",
    "        user_item_res4 = evaluate(user_item_predict4, rvalid_implicit)\n",
    "        prediction4[combination] = user_item_res4.get('MAP@10')[0]\n",
    "        \n",
    "    plotingCombination(prediction1, prediction2, prediction3, prediction4, kTune, method)\n"
   ]
  },
  {
   "cell_type": "code",
   "execution_count": 43,
   "metadata": {
    "scrolled": false
   },
   "outputs": [],
   "source": [
    "def plotingCombination(prediction1, prediction2, prediction3, prediction4, tuneK, method):\n",
    "    listPrediction1 = prediction1.items() # sorted by key, return a list of tuples\n",
    "    listPrediction2 = prediction2.items()\n",
    "    listPrediction3 = prediction3.items()\n",
    "    listPrediction4 = prediction4.items()\n",
    "\n",
    "    x1, y1 = zip(*listPrediction1) # unpack a list of pairs into two tuples\n",
    "    x2, y2 = zip(*listPrediction2)\n",
    "    x3, y3 = zip(*listPrediction3)\n",
    "    x4, y4 = zip(*listPrediction4)\n",
    "\n",
    "    plt.figure(figsize=(10,6))\n",
    "    \n",
    "    \"Please make sure that the label is correct\"\n",
    "    plt.plot( x1, y1, marker='o',color='green', linewidth=2, label=\"ExplicitUserRating\")\n",
    "    plt.plot( x2, y2, marker='o',color='orange', linewidth=2, label=\"ScaledExplicitUserRating\")\n",
    "    plt.plot( x3, y3, marker='o',color='blue', linewidth=2, label=\"UserVisting\")\n",
    "    plt.plot( x4, y4, marker='o',color='red', linewidth=2, label=\"ImplicitUserRating\")\n",
    "\n",
    "    for x, y in zip(x1, y1): \n",
    "        plt.text(x, y, str(y))\n",
    "    for x, y in zip(x2, y2): \n",
    "        plt.text(x, y, str(y))\n",
    "    for x, y in zip(x3, y3): \n",
    "        plt.text(x, y, str(y))\n",
    "    for x, y in zip(x4, y4): \n",
    "        plt.text(x, y, str(y))\n",
    "\n",
    "    plt.title(method, 'with k=', tuneK)\n",
    "    plt.legend()\n",
    "    plt.xlabel('Combinations')\n",
    "    plt.ylabel('MAP@10')\n",
    "    plt.show()"
   ]
  },
  {
   "cell_type": "code",
   "execution_count": 45,
   "metadata": {},
   "outputs": [
    {
     "name": "stderr",
     "output_type": "stream",
     "text": [
      "100%|█████████████████████████████████████████████████████████████████████████████| 6085/6085 [00:15<00:00, 383.10it/s]\n",
      "100%|████████████████████████████████████████████████████████████████████████████| 6085/6085 [00:01<00:00, 4311.83it/s]\n",
      "100%|████████████████████████████████████████████████████████████████████████████| 6085/6085 [00:00<00:00, 6780.51it/s]\n",
      "100%|████████████████████████████████████████████████████████████████████████████| 6085/6085 [00:00<00:00, 6649.35it/s]\n",
      "100%|████████████████████████████████████████████████████████████████████████████| 6085/6085 [00:00<00:00, 6764.89it/s]\n",
      "100%|████████████████████████████████████████████████████████████████████████████| 6085/6085 [00:00<00:00, 6684.38it/s]\n",
      "100%|████████████████████████████████████████████████████████████████████████████| 6085/6085 [00:00<00:00, 6665.44it/s]\n",
      "100%|████████████████████████████████████████████████████████████████████████████| 6085/6085 [00:00<00:00, 8635.48it/s]\n",
      "100%|█████████████████████████████████████████████████████████████████████████████| 6085/6085 [00:15<00:00, 392.89it/s]\n",
      "100%|████████████████████████████████████████████████████████████████████████████| 6085/6085 [00:01<00:00, 4277.34it/s]\n",
      "100%|████████████████████████████████████████████████████████████████████████████| 6085/6085 [00:00<00:00, 6881.16it/s]\n",
      "100%|████████████████████████████████████████████████████████████████████████████| 6085/6085 [00:00<00:00, 7174.36it/s]\n",
      "100%|████████████████████████████████████████████████████████████████████████████| 6085/6085 [00:00<00:00, 7152.94it/s]\n",
      "100%|████████████████████████████████████████████████████████████████████████████| 6085/6085 [00:00<00:00, 7051.88it/s]\n",
      "100%|████████████████████████████████████████████████████████████████████████████| 6085/6085 [00:00<00:00, 6946.35it/s]\n",
      "100%|████████████████████████████████████████████████████████████████████████████| 6085/6085 [00:00<00:00, 9082.14it/s]\n",
      "100%|█████████████████████████████████████████████████████████████████████████████| 6085/6085 [00:17<00:00, 339.03it/s]\n",
      "100%|████████████████████████████████████████████████████████████████████████████| 6085/6085 [00:01<00:00, 4360.48it/s]\n",
      "100%|████████████████████████████████████████████████████████████████████████████| 6085/6085 [00:00<00:00, 7102.71it/s]\n",
      "100%|████████████████████████████████████████████████████████████████████████████| 6085/6085 [00:00<00:00, 7058.44it/s]\n",
      "100%|████████████████████████████████████████████████████████████████████████████| 6085/6085 [00:00<00:00, 7029.04it/s]\n",
      "100%|████████████████████████████████████████████████████████████████████████████| 6085/6085 [00:00<00:00, 6901.83it/s]\n",
      "100%|████████████████████████████████████████████████████████████████████████████| 6085/6085 [00:00<00:00, 6967.85it/s]\n",
      "100%|████████████████████████████████████████████████████████████████████████████| 6085/6085 [00:00<00:00, 8712.23it/s]\n",
      "100%|█████████████████████████████████████████████████████████████████████████████| 6085/6085 [00:15<00:00, 397.53it/s]\n",
      "100%|████████████████████████████████████████████████████████████████████████████| 6085/6085 [00:01<00:00, 4580.56it/s]\n",
      "100%|████████████████████████████████████████████████████████████████████████████| 6085/6085 [00:00<00:00, 7122.56it/s]\n",
      "100%|████████████████████████████████████████████████████████████████████████████| 6085/6085 [00:00<00:00, 7052.24it/s]\n",
      "100%|████████████████████████████████████████████████████████████████████████████| 6085/6085 [00:00<00:00, 7014.68it/s]\n",
      "100%|████████████████████████████████████████████████████████████████████████████| 6085/6085 [00:00<00:00, 6883.72it/s]\n",
      "100%|████████████████████████████████████████████████████████████████████████████| 6085/6085 [00:00<00:00, 6862.04it/s]\n",
      "100%|████████████████████████████████████████████████████████████████████████████| 6085/6085 [00:00<00:00, 9051.85it/s]\n",
      "100%|█████████████████████████████████████████████████████████████████████████████| 6085/6085 [00:18<00:00, 331.60it/s]\n",
      "100%|████████████████████████████████████████████████████████████████████████████| 6085/6085 [00:01<00:00, 4372.62it/s]\n",
      "100%|████████████████████████████████████████████████████████████████████████████| 6085/6085 [00:00<00:00, 6953.13it/s]\n",
      "100%|████████████████████████████████████████████████████████████████████████████| 6085/6085 [00:00<00:00, 7022.22it/s]\n",
      "100%|████████████████████████████████████████████████████████████████████████████| 6085/6085 [00:00<00:00, 6941.10it/s]\n",
      "100%|████████████████████████████████████████████████████████████████████████████| 6085/6085 [00:00<00:00, 6855.98it/s]\n",
      "100%|████████████████████████████████████████████████████████████████████████████| 6085/6085 [00:00<00:00, 6741.92it/s]\n",
      "100%|████████████████████████████████████████████████████████████████████████████| 6085/6085 [00:00<00:00, 9244.59it/s]\n",
      "100%|█████████████████████████████████████████████████████████████████████████████| 6085/6085 [00:18<00:00, 332.74it/s]\n",
      "100%|████████████████████████████████████████████████████████████████████████████| 6085/6085 [00:01<00:00, 4549.32it/s]\n",
      "100%|████████████████████████████████████████████████████████████████████████████| 6085/6085 [00:00<00:00, 7014.87it/s]\n",
      "100%|████████████████████████████████████████████████████████████████████████████| 6085/6085 [00:00<00:00, 7110.27it/s]\n",
      "100%|████████████████████████████████████████████████████████████████████████████| 6085/6085 [00:00<00:00, 7027.65it/s]\n",
      "100%|████████████████████████████████████████████████████████████████████████████| 6085/6085 [00:00<00:00, 7004.36it/s]\n",
      "100%|████████████████████████████████████████████████████████████████████████████| 6085/6085 [00:00<00:00, 6470.24it/s]\n",
      "100%|████████████████████████████████████████████████████████████████████████████| 6085/6085 [00:00<00:00, 9258.63it/s]\n",
      "100%|█████████████████████████████████████████████████████████████████████████████| 6085/6085 [00:19<00:00, 315.24it/s]\n",
      "100%|████████████████████████████████████████████████████████████████████████████| 6085/6085 [00:01<00:00, 4470.16it/s]\n",
      "100%|████████████████████████████████████████████████████████████████████████████| 6085/6085 [00:00<00:00, 7133.56it/s]\n",
      "100%|████████████████████████████████████████████████████████████████████████████| 6085/6085 [00:00<00:00, 7008.01it/s]\n",
      "100%|████████████████████████████████████████████████████████████████████████████| 6085/6085 [00:00<00:00, 7075.59it/s]\n",
      "100%|████████████████████████████████████████████████████████████████████████████| 6085/6085 [00:00<00:00, 7013.39it/s]\n",
      "100%|████████████████████████████████████████████████████████████████████████████| 6085/6085 [00:00<00:00, 6884.65it/s]\n",
      "100%|████████████████████████████████████████████████████████████████████████████| 6085/6085 [00:00<00:00, 9158.48it/s]\n",
      "100%|█████████████████████████████████████████████████████████████████████████████| 6085/6085 [00:17<00:00, 346.55it/s]\n",
      "100%|████████████████████████████████████████████████████████████████████████████| 6085/6085 [00:01<00:00, 4547.97it/s]\n",
      "100%|████████████████████████████████████████████████████████████████████████████| 6085/6085 [00:00<00:00, 6873.45it/s]\n",
      "100%|████████████████████████████████████████████████████████████████████████████| 6085/6085 [00:00<00:00, 7007.73it/s]\n",
      "100%|████████████████████████████████████████████████████████████████████████████| 6085/6085 [00:00<00:00, 6992.30it/s]\n",
      "100%|████████████████████████████████████████████████████████████████████████████| 6085/6085 [00:00<00:00, 7071.20it/s]\n",
      "100%|████████████████████████████████████████████████████████████████████████████| 6085/6085 [00:00<00:00, 6942.92it/s]\n",
      "100%|████████████████████████████████████████████████████████████████████████████| 6085/6085 [00:00<00:00, 8703.29it/s]\n",
      "100%|█████████████████████████████████████████████████████████████████████████████| 6085/6085 [00:17<00:00, 354.62it/s]\n",
      "100%|████████████████████████████████████████████████████████████████████████████| 6085/6085 [00:01<00:00, 4308.26it/s]\n",
      "100%|████████████████████████████████████████████████████████████████████████████| 6085/6085 [00:00<00:00, 6927.66it/s]\n",
      "100%|████████████████████████████████████████████████████████████████████████████| 6085/6085 [00:00<00:00, 7082.54it/s]\n"
     ]
    },
    {
     "name": "stderr",
     "output_type": "stream",
     "text": [
      "100%|████████████████████████████████████████████████████████████████████████████| 6085/6085 [00:00<00:00, 7121.04it/s]\n",
      "100%|████████████████████████████████████████████████████████████████████████████| 6085/6085 [00:00<00:00, 7097.26it/s]\n",
      "100%|████████████████████████████████████████████████████████████████████████████| 6085/6085 [00:00<00:00, 6876.30it/s]\n",
      "100%|████████████████████████████████████████████████████████████████████████████| 6085/6085 [00:00<00:00, 9149.82it/s]\n",
      "100%|█████████████████████████████████████████████████████████████████████████████| 6085/6085 [00:17<00:00, 349.91it/s]\n",
      "100%|████████████████████████████████████████████████████████████████████████████| 6085/6085 [00:01<00:00, 4467.69it/s]\n",
      "100%|████████████████████████████████████████████████████████████████████████████| 6085/6085 [00:00<00:00, 7180.16it/s]\n",
      "100%|████████████████████████████████████████████████████████████████████████████| 6085/6085 [00:00<00:00, 7082.37it/s]\n",
      "100%|████████████████████████████████████████████████████████████████████████████| 6085/6085 [00:00<00:00, 6945.26it/s]\n",
      "100%|████████████████████████████████████████████████████████████████████████████| 6085/6085 [00:00<00:00, 6881.73it/s]\n",
      "100%|████████████████████████████████████████████████████████████████████████████| 6085/6085 [00:00<00:00, 6761.81it/s]\n",
      "100%|████████████████████████████████████████████████████████████████████████████| 6085/6085 [00:00<00:00, 8545.85it/s]\n",
      "100%|█████████████████████████████████████████████████████████████████████████████| 6085/6085 [00:19<00:00, 315.31it/s]\n",
      "100%|████████████████████████████████████████████████████████████████████████████| 6085/6085 [00:01<00:00, 4500.25it/s]\n",
      "100%|████████████████████████████████████████████████████████████████████████████| 6085/6085 [00:00<00:00, 7015.69it/s]\n",
      "100%|████████████████████████████████████████████████████████████████████████████| 6085/6085 [00:00<00:00, 6958.35it/s]\n",
      "100%|████████████████████████████████████████████████████████████████████████████| 6085/6085 [00:00<00:00, 7113.28it/s]\n",
      "100%|████████████████████████████████████████████████████████████████████████████| 6085/6085 [00:00<00:00, 7135.11it/s]\n",
      "100%|████████████████████████████████████████████████████████████████████████████| 6085/6085 [00:00<00:00, 7015.12it/s]\n",
      "100%|████████████████████████████████████████████████████████████████████████████| 6085/6085 [00:00<00:00, 9091.50it/s]\n",
      "100%|█████████████████████████████████████████████████████████████████████████████| 6085/6085 [00:17<00:00, 356.10it/s]\n",
      "100%|████████████████████████████████████████████████████████████████████████████| 6085/6085 [00:01<00:00, 4607.59it/s]\n",
      "100%|████████████████████████████████████████████████████████████████████████████| 6085/6085 [00:00<00:00, 6888.17it/s]\n",
      "100%|████████████████████████████████████████████████████████████████████████████| 6085/6085 [00:00<00:00, 7116.69it/s]\n",
      "100%|████████████████████████████████████████████████████████████████████████████| 6085/6085 [00:00<00:00, 7272.24it/s]\n",
      "100%|████████████████████████████████████████████████████████████████████████████| 6085/6085 [00:00<00:00, 7137.19it/s]\n",
      "100%|████████████████████████████████████████████████████████████████████████████| 6085/6085 [00:00<00:00, 7014.96it/s]\n",
      "100%|████████████████████████████████████████████████████████████████████████████| 6085/6085 [00:00<00:00, 9274.93it/s]\n",
      "100%|█████████████████████████████████████████████████████████████████████████████| 6085/6085 [00:17<00:00, 355.18it/s]\n",
      "100%|████████████████████████████████████████████████████████████████████████████| 6085/6085 [00:01<00:00, 4368.95it/s]\n",
      "100%|████████████████████████████████████████████████████████████████████████████| 6085/6085 [00:00<00:00, 6731.49it/s]\n",
      "100%|████████████████████████████████████████████████████████████████████████████| 6085/6085 [00:00<00:00, 7010.58it/s]\n",
      "100%|████████████████████████████████████████████████████████████████████████████| 6085/6085 [00:00<00:00, 7071.93it/s]\n",
      "100%|████████████████████████████████████████████████████████████████████████████| 6085/6085 [00:00<00:00, 7073.44it/s]\n",
      "100%|████████████████████████████████████████████████████████████████████████████| 6085/6085 [00:00<00:00, 7213.74it/s]\n",
      "100%|████████████████████████████████████████████████████████████████████████████| 6085/6085 [00:00<00:00, 9148.92it/s]\n",
      "100%|█████████████████████████████████████████████████████████████████████████████| 6085/6085 [00:17<00:00, 338.41it/s]\n",
      "100%|████████████████████████████████████████████████████████████████████████████| 6085/6085 [00:01<00:00, 4323.22it/s]\n",
      "100%|████████████████████████████████████████████████████████████████████████████| 6085/6085 [00:00<00:00, 6834.74it/s]\n",
      "100%|████████████████████████████████████████████████████████████████████████████| 6085/6085 [00:00<00:00, 7082.34it/s]\n",
      "100%|████████████████████████████████████████████████████████████████████████████| 6085/6085 [00:00<00:00, 6886.45it/s]\n",
      "100%|████████████████████████████████████████████████████████████████████████████| 6085/6085 [00:00<00:00, 7036.36it/s]\n",
      "100%|████████████████████████████████████████████████████████████████████████████| 6085/6085 [00:00<00:00, 6759.03it/s]\n",
      "100%|████████████████████████████████████████████████████████████████████████████| 6085/6085 [00:00<00:00, 8736.46it/s]\n",
      "100%|█████████████████████████████████████████████████████████████████████████████| 6085/6085 [00:19<00:00, 312.25it/s]\n",
      "100%|████████████████████████████████████████████████████████████████████████████| 6085/6085 [00:01<00:00, 4468.63it/s]\n",
      "100%|████████████████████████████████████████████████████████████████████████████| 6085/6085 [00:00<00:00, 7112.75it/s]\n",
      "100%|████████████████████████████████████████████████████████████████████████████| 6085/6085 [00:00<00:00, 7082.34it/s]\n",
      "100%|████████████████████████████████████████████████████████████████████████████| 6085/6085 [00:00<00:00, 7184.77it/s]\n",
      "100%|████████████████████████████████████████████████████████████████████████████| 6085/6085 [00:00<00:00, 7008.85it/s]\n",
      "100%|████████████████████████████████████████████████████████████████████████████| 6085/6085 [00:00<00:00, 6652.83it/s]\n",
      "100%|████████████████████████████████████████████████████████████████████████████| 6085/6085 [00:00<00:00, 8541.19it/s]\n",
      "100%|█████████████████████████████████████████████████████████████████████████████| 6085/6085 [00:17<00:00, 340.14it/s]\n",
      "100%|████████████████████████████████████████████████████████████████████████████| 6085/6085 [00:01<00:00, 4381.41it/s]\n",
      "100%|████████████████████████████████████████████████████████████████████████████| 6085/6085 [00:00<00:00, 6886.11it/s]\n",
      "100%|████████████████████████████████████████████████████████████████████████████| 6085/6085 [00:00<00:00, 7009.94it/s]\n",
      "100%|████████████████████████████████████████████████████████████████████████████| 6085/6085 [00:00<00:00, 7121.54it/s]\n",
      "100%|████████████████████████████████████████████████████████████████████████████| 6085/6085 [00:00<00:00, 6875.10it/s]\n",
      "100%|████████████████████████████████████████████████████████████████████████████| 6085/6085 [00:00<00:00, 6760.58it/s]\n",
      "100%|████████████████████████████████████████████████████████████████████████████| 6085/6085 [00:00<00:00, 8288.12it/s]\n",
      "100%|█████████████████████████████████████████████████████████████████████████████| 6085/6085 [00:17<00:00, 353.45it/s]\n",
      "100%|████████████████████████████████████████████████████████████████████████████| 6085/6085 [00:01<00:00, 4427.80it/s]\n",
      "100%|████████████████████████████████████████████████████████████████████████████| 6085/6085 [00:00<00:00, 7013.33it/s]\n",
      "100%|████████████████████████████████████████████████████████████████████████████| 6085/6085 [00:00<00:00, 7136.78it/s]\n",
      "100%|████████████████████████████████████████████████████████████████████████████| 6085/6085 [00:00<00:00, 7136.75it/s]\n",
      "100%|████████████████████████████████████████████████████████████████████████████| 6085/6085 [00:00<00:00, 7012.68it/s]\n",
      "100%|████████████████████████████████████████████████████████████████████████████| 6085/6085 [00:00<00:00, 6876.97it/s]\n",
      "100%|████████████████████████████████████████████████████████████████████████████| 6085/6085 [00:00<00:00, 9059.11it/s]\n"
     ]
    },
    {
     "name": "stderr",
     "output_type": "stream",
     "text": [
      "100%|█████████████████████████████████████████████████████████████████████████████| 6085/6085 [00:17<00:00, 357.73it/s]\n",
      "100%|████████████████████████████████████████████████████████████████████████████| 6085/6085 [00:01<00:00, 4471.84it/s]\n",
      "100%|████████████████████████████████████████████████████████████████████████████| 6085/6085 [00:00<00:00, 7247.91it/s]\n",
      "100%|████████████████████████████████████████████████████████████████████████████| 6085/6085 [00:00<00:00, 7189.73it/s]\n",
      "100%|████████████████████████████████████████████████████████████████████████████| 6085/6085 [00:00<00:00, 7082.35it/s]\n",
      "100%|████████████████████████████████████████████████████████████████████████████| 6085/6085 [00:00<00:00, 7273.95it/s]\n",
      "100%|████████████████████████████████████████████████████████████████████████████| 6085/6085 [00:00<00:00, 7008.55it/s]\n",
      "100%|████████████████████████████████████████████████████████████████████████████| 6085/6085 [00:00<00:00, 9151.14it/s]\n",
      "100%|█████████████████████████████████████████████████████████████████████████████| 6085/6085 [00:18<00:00, 320.90it/s]\n",
      "100%|████████████████████████████████████████████████████████████████████████████| 6085/6085 [00:01<00:00, 4498.22it/s]\n",
      "100%|████████████████████████████████████████████████████████████████████████████| 6085/6085 [00:00<00:00, 7101.68it/s]\n",
      "100%|████████████████████████████████████████████████████████████████████████████| 6085/6085 [00:00<00:00, 7112.52it/s]\n",
      "100%|████████████████████████████████████████████████████████████████████████████| 6085/6085 [00:00<00:00, 7167.52it/s]\n",
      "100%|████████████████████████████████████████████████████████████████████████████| 6085/6085 [00:00<00:00, 7009.18it/s]\n",
      "100%|████████████████████████████████████████████████████████████████████████████| 6085/6085 [00:00<00:00, 6879.46it/s]\n",
      "100%|████████████████████████████████████████████████████████████████████████████| 6085/6085 [00:00<00:00, 8656.49it/s]\n",
      "100%|█████████████████████████████████████████████████████████████████████████████| 6085/6085 [00:16<00:00, 300.64it/s]\n",
      "100%|████████████████████████████████████████████████████████████████████████████| 6085/6085 [00:01<00:00, 4570.17it/s]\n",
      "100%|████████████████████████████████████████████████████████████████████████████| 6085/6085 [00:00<00:00, 7082.34it/s]\n",
      "100%|████████████████████████████████████████████████████████████████████████████| 6085/6085 [00:00<00:00, 7136.48it/s]\n",
      "100%|████████████████████████████████████████████████████████████████████████████| 6085/6085 [00:00<00:00, 7254.44it/s]\n",
      "100%|████████████████████████████████████████████████████████████████████████████| 6085/6085 [00:00<00:00, 7132.65it/s]\n",
      "100%|████████████████████████████████████████████████████████████████████████████| 6085/6085 [00:00<00:00, 6988.39it/s]\n",
      "100%|████████████████████████████████████████████████████████████████████████████| 6085/6085 [00:00<00:00, 8817.87it/s]\n",
      "100%|█████████████████████████████████████████████████████████████████████████████| 6085/6085 [00:20<00:00, 298.27it/s]\n",
      "100%|████████████████████████████████████████████████████████████████████████████| 6085/6085 [00:01<00:00, 4321.40it/s]\n",
      "100%|████████████████████████████████████████████████████████████████████████████| 6085/6085 [00:00<00:00, 6731.39it/s]\n",
      "100%|████████████████████████████████████████████████████████████████████████████| 6085/6085 [00:00<00:00, 6956.09it/s]\n",
      "100%|████████████████████████████████████████████████████████████████████████████| 6085/6085 [00:00<00:00, 6886.82it/s]\n",
      "100%|████████████████████████████████████████████████████████████████████████████| 6085/6085 [00:00<00:00, 7010.89it/s]\n",
      "100%|████████████████████████████████████████████████████████████████████████████| 6085/6085 [00:00<00:00, 6880.25it/s]\n",
      "100%|████████████████████████████████████████████████████████████████████████████| 6085/6085 [00:00<00:00, 8928.54it/s]\n",
      "100%|█████████████████████████████████████████████████████████████████████████████| 6085/6085 [00:20<00:00, 297.64it/s]\n",
      "100%|████████████████████████████████████████████████████████████████████████████| 6085/6085 [00:01<00:00, 4368.09it/s]\n",
      "100%|████████████████████████████████████████████████████████████████████████████| 6085/6085 [00:00<00:00, 7048.86it/s]\n",
      "100%|████████████████████████████████████████████████████████████████████████████| 6085/6085 [00:00<00:00, 7082.54it/s]\n",
      "100%|████████████████████████████████████████████████████████████████████████████| 6085/6085 [00:00<00:00, 7069.15it/s]\n",
      "100%|████████████████████████████████████████████████████████████████████████████| 6085/6085 [00:00<00:00, 7099.23it/s]\n",
      "100%|████████████████████████████████████████████████████████████████████████████| 6085/6085 [00:00<00:00, 6886.58it/s]\n",
      "100%|████████████████████████████████████████████████████████████████████████████| 6085/6085 [00:00<00:00, 9151.19it/s]\n",
      "100%|█████████████████████████████████████████████████████████████████████████████| 6085/6085 [00:22<00:00, 267.57it/s]\n",
      "100%|████████████████████████████████████████████████████████████████████████████| 6085/6085 [00:01<00:00, 4392.97it/s]\n",
      "100%|████████████████████████████████████████████████████████████████████████████| 6085/6085 [00:00<00:00, 6919.32it/s]\n",
      "100%|████████████████████████████████████████████████████████████████████████████| 6085/6085 [00:00<00:00, 6886.71it/s]\n",
      "100%|████████████████████████████████████████████████████████████████████████████| 6085/6085 [00:00<00:00, 6882.69it/s]\n",
      "100%|████████████████████████████████████████████████████████████████████████████| 6085/6085 [00:00<00:00, 6884.99it/s]\n",
      "100%|████████████████████████████████████████████████████████████████████████████| 6085/6085 [00:00<00:00, 6611.53it/s]\n",
      "100%|████████████████████████████████████████████████████████████████████████████| 6085/6085 [00:00<00:00, 8852.84it/s]\n",
      "100%|█████████████████████████████████████████████████████████████████████████████| 6085/6085 [00:19<00:00, 311.99it/s]\n",
      "100%|████████████████████████████████████████████████████████████████████████████| 6085/6085 [00:01<00:00, 4380.25it/s]\n",
      "100%|████████████████████████████████████████████████████████████████████████████| 6085/6085 [00:00<00:00, 7042.88it/s]\n",
      "100%|████████████████████████████████████████████████████████████████████████████| 6085/6085 [00:00<00:00, 6911.96it/s]\n",
      "100%|████████████████████████████████████████████████████████████████████████████| 6085/6085 [00:00<00:00, 7145.34it/s]\n",
      "100%|████████████████████████████████████████████████████████████████████████████| 6085/6085 [00:00<00:00, 7075.23it/s]\n",
      "100%|████████████████████████████████████████████████████████████████████████████| 6085/6085 [00:00<00:00, 7011.22it/s]\n",
      "100%|████████████████████████████████████████████████████████████████████████████| 6085/6085 [00:00<00:00, 9058.67it/s]\n",
      "100%|█████████████████████████████████████████████████████████████████████████████| 6085/6085 [00:19<00:00, 318.32it/s]\n",
      "100%|████████████████████████████████████████████████████████████████████████████| 6085/6085 [00:01<00:00, 4497.24it/s]\n",
      "100%|████████████████████████████████████████████████████████████████████████████| 6085/6085 [00:00<00:00, 7212.18it/s]\n",
      "100%|████████████████████████████████████████████████████████████████████████████| 6085/6085 [00:00<00:00, 7142.25it/s]\n",
      "100%|████████████████████████████████████████████████████████████████████████████| 6085/6085 [00:00<00:00, 7125.49it/s]\n",
      "100%|████████████████████████████████████████████████████████████████████████████| 6085/6085 [00:00<00:00, 7217.25it/s]\n",
      "100%|████████████████████████████████████████████████████████████████████████████| 6085/6085 [00:00<00:00, 6885.03it/s]\n",
      "100%|████████████████████████████████████████████████████████████████████████████| 6085/6085 [00:00<00:00, 9158.17it/s]\n",
      "100%|█████████████████████████████████████████████████████████████████████████████| 6085/6085 [00:19<00:00, 316.23it/s]\n",
      "100%|████████████████████████████████████████████████████████████████████████████| 6085/6085 [00:01<00:00, 4467.94it/s]\n",
      "100%|████████████████████████████████████████████████████████████████████████████| 6085/6085 [00:00<00:00, 7105.41it/s]\n",
      "100%|████████████████████████████████████████████████████████████████████████████| 6085/6085 [00:00<00:00, 7349.56it/s]\n"
     ]
    },
    {
     "name": "stderr",
     "output_type": "stream",
     "text": [
      "100%|████████████████████████████████████████████████████████████████████████████| 6085/6085 [00:00<00:00, 7024.06it/s]\n",
      "100%|████████████████████████████████████████████████████████████████████████████| 6085/6085 [00:00<00:00, 6958.57it/s]\n",
      "100%|████████████████████████████████████████████████████████████████████████████| 6085/6085 [00:00<00:00, 6819.53it/s]\n",
      "100%|████████████████████████████████████████████████████████████████████████████| 6085/6085 [00:00<00:00, 8543.85it/s]\n",
      "100%|█████████████████████████████████████████████████████████████████████████████| 6085/6085 [00:22<00:00, 274.50it/s]\n",
      "100%|████████████████████████████████████████████████████████████████████████████| 6085/6085 [00:01<00:00, 4393.40it/s]\n",
      "100%|████████████████████████████████████████████████████████████████████████████| 6085/6085 [00:00<00:00, 7026.81it/s]\n",
      "100%|████████████████████████████████████████████████████████████████████████████| 6085/6085 [00:00<00:00, 7136.37it/s]\n",
      "100%|████████████████████████████████████████████████████████████████████████████| 6085/6085 [00:00<00:00, 7066.96it/s]\n",
      "100%|████████████████████████████████████████████████████████████████████████████| 6085/6085 [00:00<00:00, 6937.11it/s]\n",
      "100%|████████████████████████████████████████████████████████████████████████████| 6085/6085 [00:00<00:00, 6914.22it/s]\n",
      "100%|████████████████████████████████████████████████████████████████████████████| 6085/6085 [00:00<00:00, 9082.78it/s]\n",
      "100%|█████████████████████████████████████████████████████████████████████████████| 6085/6085 [00:19<00:00, 306.22it/s]\n",
      "100%|████████████████████████████████████████████████████████████████████████████| 6085/6085 [00:01<00:00, 4529.28it/s]\n",
      "100%|████████████████████████████████████████████████████████████████████████████| 6085/6085 [00:00<00:00, 7163.85it/s]\n",
      "100%|████████████████████████████████████████████████████████████████████████████| 6085/6085 [00:00<00:00, 7112.67it/s]\n",
      "100%|████████████████████████████████████████████████████████████████████████████| 6085/6085 [00:00<00:00, 7099.96it/s]\n",
      "100%|████████████████████████████████████████████████████████████████████████████| 6085/6085 [00:00<00:00, 7152.88it/s]\n",
      "100%|████████████████████████████████████████████████████████████████████████████| 6085/6085 [00:00<00:00, 6938.43it/s]\n",
      "100%|████████████████████████████████████████████████████████████████████████████| 6085/6085 [00:00<00:00, 9070.15it/s]\n",
      "100%|█████████████████████████████████████████████████████████████████████████████| 6085/6085 [00:20<00:00, 301.96it/s]\n",
      "100%|████████████████████████████████████████████████████████████████████████████| 6085/6085 [00:01<00:00, 4407.28it/s]\n",
      "100%|████████████████████████████████████████████████████████████████████████████| 6085/6085 [00:00<00:00, 7042.78it/s]\n",
      "100%|████████████████████████████████████████████████████████████████████████████| 6085/6085 [00:00<00:00, 7075.27it/s]\n",
      "100%|████████████████████████████████████████████████████████████████████████████| 6085/6085 [00:00<00:00, 7015.94it/s]\n",
      "100%|████████████████████████████████████████████████████████████████████████████| 6085/6085 [00:00<00:00, 7006.20it/s]\n",
      "100%|████████████████████████████████████████████████████████████████████████████| 6085/6085 [00:00<00:00, 6955.06it/s]\n",
      "100%|████████████████████████████████████████████████████████████████████████████| 6085/6085 [00:00<00:00, 8940.67it/s]\n",
      "100%|█████████████████████████████████████████████████████████████████████████████| 6085/6085 [00:19<00:00, 307.19it/s]\n",
      "100%|████████████████████████████████████████████████████████████████████████████| 6085/6085 [00:01<00:00, 4396.47it/s]\n",
      "100%|████████████████████████████████████████████████████████████████████████████| 6085/6085 [00:00<00:00, 7050.04it/s]\n",
      "100%|████████████████████████████████████████████████████████████████████████████| 6085/6085 [00:00<00:00, 7151.83it/s]\n",
      "100%|████████████████████████████████████████████████████████████████████████████| 6085/6085 [00:00<00:00, 7099.13it/s]\n",
      "100%|████████████████████████████████████████████████████████████████████████████| 6085/6085 [00:00<00:00, 7192.21it/s]\n",
      "100%|████████████████████████████████████████████████████████████████████████████| 6085/6085 [00:00<00:00, 7064.58it/s]\n",
      "100%|████████████████████████████████████████████████████████████████████████████| 6085/6085 [00:00<00:00, 9092.95it/s]\n",
      "100%|█████████████████████████████████████████████████████████████████████████████| 6085/6085 [00:22<00:00, 276.30it/s]\n",
      "100%|████████████████████████████████████████████████████████████████████████████| 6085/6085 [00:01<00:00, 4490.72it/s]\n",
      "100%|████████████████████████████████████████████████████████████████████████████| 6085/6085 [00:00<00:00, 7209.44it/s]\n",
      "100%|████████████████████████████████████████████████████████████████████████████| 6085/6085 [00:00<00:00, 7278.51it/s]\n",
      "100%|████████████████████████████████████████████████████████████████████████████| 6085/6085 [00:00<00:00, 7256.72it/s]\n",
      "100%|████████████████████████████████████████████████████████████████████████████| 6085/6085 [00:00<00:00, 7091.99it/s]\n",
      "100%|████████████████████████████████████████████████████████████████████████████| 6085/6085 [00:00<00:00, 7086.56it/s]\n",
      "100%|████████████████████████████████████████████████████████████████████████████| 6085/6085 [00:00<00:00, 9175.69it/s]\n",
      "100%|█████████████████████████████████████████████████████████████████████████████| 6085/6085 [00:19<00:00, 308.44it/s]\n",
      "100%|████████████████████████████████████████████████████████████████████████████| 6085/6085 [00:01<00:00, 4574.78it/s]\n",
      "100%|████████████████████████████████████████████████████████████████████████████| 6085/6085 [00:00<00:00, 7100.71it/s]\n",
      "100%|████████████████████████████████████████████████████████████████████████████| 6085/6085 [00:00<00:00, 7134.77it/s]\n",
      "100%|████████████████████████████████████████████████████████████████████████████| 6085/6085 [00:00<00:00, 7284.33it/s]\n",
      "100%|████████████████████████████████████████████████████████████████████████████| 6085/6085 [00:00<00:00, 7099.32it/s]\n",
      "100%|████████████████████████████████████████████████████████████████████████████| 6085/6085 [00:00<00:00, 7011.10it/s]\n",
      "100%|████████████████████████████████████████████████████████████████████████████| 6085/6085 [00:00<00:00, 9070.76it/s]\n",
      "100%|█████████████████████████████████████████████████████████████████████████████| 6085/6085 [00:19<00:00, 309.11it/s]\n",
      "100%|████████████████████████████████████████████████████████████████████████████| 6085/6085 [00:01<00:00, 4435.40it/s]\n",
      "100%|████████████████████████████████████████████████████████████████████████████| 6085/6085 [00:00<00:00, 7229.71it/s]\n",
      "100%|████████████████████████████████████████████████████████████████████████████| 6085/6085 [00:00<00:00, 7286.36it/s]\n",
      "100%|████████████████████████████████████████████████████████████████████████████| 6085/6085 [00:00<00:00, 7152.65it/s]\n",
      "100%|████████████████████████████████████████████████████████████████████████████| 6085/6085 [00:00<00:00, 7101.03it/s]\n",
      "100%|████████████████████████████████████████████████████████████████████████████| 6085/6085 [00:00<00:00, 6933.44it/s]\n",
      "100%|████████████████████████████████████████████████████████████████████████████| 6085/6085 [00:00<00:00, 8531.05it/s]\n",
      "100%|█████████████████████████████████████████████████████████████████████████████| 6085/6085 [00:19<00:00, 306.74it/s]\n",
      "100%|████████████████████████████████████████████████████████████████████████████| 6085/6085 [00:01<00:00, 4533.43it/s]\n",
      "100%|████████████████████████████████████████████████████████████████████████████| 6085/6085 [00:00<00:00, 7333.27it/s]\n",
      "100%|████████████████████████████████████████████████████████████████████████████| 6085/6085 [00:00<00:00, 7372.64it/s]\n",
      "100%|████████████████████████████████████████████████████████████████████████████| 6085/6085 [00:00<00:00, 7275.18it/s]\n",
      "100%|████████████████████████████████████████████████████████████████████████████| 6085/6085 [00:00<00:00, 7411.27it/s]\n",
      "100%|████████████████████████████████████████████████████████████████████████████| 6085/6085 [00:00<00:00, 7123.75it/s]\n",
      "100%|████████████████████████████████████████████████████████████████████████████| 6085/6085 [00:00<00:00, 9260.37it/s]\n"
     ]
    },
    {
     "name": "stderr",
     "output_type": "stream",
     "text": [
      "100%|█████████████████████████████████████████████████████████████████████████████| 6085/6085 [00:21<00:00, 233.93it/s]\n",
      "100%|████████████████████████████████████████████████████████████████████████████| 6085/6085 [00:01<00:00, 4382.51it/s]\n",
      "100%|████████████████████████████████████████████████████████████████████████████| 6085/6085 [00:00<00:00, 7053.45it/s]\n",
      "100%|████████████████████████████████████████████████████████████████████████████| 6085/6085 [00:00<00:00, 6985.49it/s]\n",
      "100%|████████████████████████████████████████████████████████████████████████████| 6085/6085 [00:00<00:00, 6953.96it/s]\n",
      "100%|████████████████████████████████████████████████████████████████████████████| 6085/6085 [00:00<00:00, 7083.75it/s]\n",
      "100%|████████████████████████████████████████████████████████████████████████████| 6085/6085 [00:00<00:00, 6928.29it/s]\n",
      "100%|████████████████████████████████████████████████████████████████████████████| 6085/6085 [00:00<00:00, 8964.96it/s]\n",
      "100%|█████████████████████████████████████████████████████████████████████████████| 6085/6085 [00:19<00:00, 306.65it/s]\n",
      "100%|████████████████████████████████████████████████████████████████████████████| 6085/6085 [00:01<00:00, 4485.08it/s]\n",
      "100%|████████████████████████████████████████████████████████████████████████████| 6085/6085 [00:00<00:00, 7108.14it/s]\n",
      "100%|████████████████████████████████████████████████████████████████████████████| 6085/6085 [00:00<00:00, 7051.26it/s]\n",
      "100%|████████████████████████████████████████████████████████████████████████████| 6085/6085 [00:00<00:00, 7077.59it/s]\n",
      "100%|████████████████████████████████████████████████████████████████████████████| 6085/6085 [00:00<00:00, 6992.49it/s]\n",
      "100%|████████████████████████████████████████████████████████████████████████████| 6085/6085 [00:00<00:00, 6984.54it/s]\n",
      "100%|████████████████████████████████████████████████████████████████████████████| 6085/6085 [00:00<00:00, 8958.88it/s]\n",
      "100%|█████████████████████████████████████████████████████████████████████████████| 6085/6085 [00:19<00:00, 310.00it/s]\n",
      "100%|████████████████████████████████████████████████████████████████████████████| 6085/6085 [00:01<00:00, 4367.82it/s]\n",
      "100%|████████████████████████████████████████████████████████████████████████████| 6085/6085 [00:00<00:00, 6951.05it/s]\n",
      "100%|████████████████████████████████████████████████████████████████████████████| 6085/6085 [00:00<00:00, 7107.14it/s]\n",
      "100%|████████████████████████████████████████████████████████████████████████████| 6085/6085 [00:00<00:00, 6969.98it/s]\n",
      "100%|████████████████████████████████████████████████████████████████████████████| 6085/6085 [00:00<00:00, 7031.83it/s]\n",
      "100%|████████████████████████████████████████████████████████████████████████████| 6085/6085 [00:00<00:00, 6950.65it/s]\n",
      "100%|████████████████████████████████████████████████████████████████████████████| 6085/6085 [00:00<00:00, 9060.99it/s]\n",
      "100%|█████████████████████████████████████████████████████████████████████████████| 6085/6085 [00:19<00:00, 306.83it/s]\n",
      "100%|████████████████████████████████████████████████████████████████████████████| 6085/6085 [00:01<00:00, 4445.66it/s]\n",
      "100%|████████████████████████████████████████████████████████████████████████████| 6085/6085 [00:00<00:00, 7290.63it/s]\n",
      "100%|████████████████████████████████████████████████████████████████████████████| 6085/6085 [00:00<00:00, 7164.53it/s]\n",
      "100%|████████████████████████████████████████████████████████████████████████████| 6085/6085 [00:00<00:00, 7079.07it/s]\n",
      "100%|████████████████████████████████████████████████████████████████████████████| 6085/6085 [00:00<00:00, 7108.44it/s]\n",
      "100%|████████████████████████████████████████████████████████████████████████████| 6085/6085 [00:00<00:00, 6975.12it/s]\n",
      "100%|████████████████████████████████████████████████████████████████████████████| 6085/6085 [00:00<00:00, 9199.07it/s]\n",
      "100%|█████████████████████████████████████████████████████████████████████████████| 6085/6085 [00:21<00:00, 279.17it/s]\n",
      "100%|████████████████████████████████████████████████████████████████████████████| 6085/6085 [00:01<00:00, 4355.57it/s]\n",
      "100%|████████████████████████████████████████████████████████████████████████████| 6085/6085 [00:00<00:00, 6998.81it/s]\n",
      "100%|████████████████████████████████████████████████████████████████████████████| 6085/6085 [00:00<00:00, 7007.93it/s]\n",
      "100%|████████████████████████████████████████████████████████████████████████████| 6085/6085 [00:00<00:00, 6929.31it/s]\n",
      "100%|████████████████████████████████████████████████████████████████████████████| 6085/6085 [00:00<00:00, 7043.76it/s]\n",
      "100%|████████████████████████████████████████████████████████████████████████████| 6085/6085 [00:00<00:00, 6873.11it/s]\n",
      "100%|████████████████████████████████████████████████████████████████████████████| 6085/6085 [00:00<00:00, 9026.43it/s]\n",
      "100%|█████████████████████████████████████████████████████████████████████████████| 6085/6085 [00:19<00:00, 306.07it/s]\n",
      "100%|████████████████████████████████████████████████████████████████████████████| 6085/6085 [00:01<00:00, 4529.10it/s]\n",
      "100%|████████████████████████████████████████████████████████████████████████████| 6085/6085 [00:00<00:00, 7056.39it/s]\n",
      "100%|████████████████████████████████████████████████████████████████████████████| 6085/6085 [00:00<00:00, 7087.58it/s]\n",
      "100%|████████████████████████████████████████████████████████████████████████████| 6085/6085 [00:00<00:00, 6995.90it/s]\n",
      "100%|████████████████████████████████████████████████████████████████████████████| 6085/6085 [00:00<00:00, 7046.72it/s]\n",
      "100%|████████████████████████████████████████████████████████████████████████████| 6085/6085 [00:00<00:00, 6914.43it/s]\n",
      "100%|████████████████████████████████████████████████████████████████████████████| 6085/6085 [00:00<00:00, 9019.76it/s]\n",
      "100%|█████████████████████████████████████████████████████████████████████████████| 6085/6085 [00:20<00:00, 303.73it/s]\n",
      "100%|████████████████████████████████████████████████████████████████████████████| 6085/6085 [00:01<00:00, 4411.11it/s]\n",
      "100%|████████████████████████████████████████████████████████████████████████████| 6085/6085 [00:00<00:00, 7136.30it/s]\n",
      "100%|████████████████████████████████████████████████████████████████████████████| 6085/6085 [00:00<00:00, 7063.98it/s]\n",
      "100%|████████████████████████████████████████████████████████████████████████████| 6085/6085 [00:00<00:00, 7144.02it/s]\n",
      "100%|████████████████████████████████████████████████████████████████████████████| 6085/6085 [00:00<00:00, 7103.28it/s]\n",
      "100%|████████████████████████████████████████████████████████████████████████████| 6085/6085 [00:00<00:00, 7063.34it/s]\n",
      "100%|████████████████████████████████████████████████████████████████████████████| 6085/6085 [00:00<00:00, 9092.66it/s]\n",
      "100%|█████████████████████████████████████████████████████████████████████████████| 6085/6085 [00:20<00:00, 298.77it/s]\n",
      "100%|████████████████████████████████████████████████████████████████████████████| 6085/6085 [00:01<00:00, 4371.22it/s]\n",
      "100%|████████████████████████████████████████████████████████████████████████████| 6085/6085 [00:00<00:00, 7107.42it/s]\n",
      "100%|████████████████████████████████████████████████████████████████████████████| 6085/6085 [00:00<00:00, 7161.06it/s]\n",
      "100%|████████████████████████████████████████████████████████████████████████████| 6085/6085 [00:00<00:00, 7169.43it/s]\n",
      "100%|████████████████████████████████████████████████████████████████████████████| 6085/6085 [00:00<00:00, 7126.25it/s]\n",
      "100%|████████████████████████████████████████████████████████████████████████████| 6085/6085 [00:00<00:00, 6908.77it/s]\n",
      "100%|████████████████████████████████████████████████████████████████████████████| 6085/6085 [00:00<00:00, 8920.11it/s]\n",
      "100%|█████████████████████████████████████████████████████████████████████████████| 6085/6085 [00:22<00:00, 271.88it/s]\n",
      "100%|████████████████████████████████████████████████████████████████████████████| 6085/6085 [00:01<00:00, 4297.26it/s]\n",
      "100%|████████████████████████████████████████████████████████████████████████████| 6085/6085 [00:00<00:00, 7068.42it/s]\n",
      "100%|████████████████████████████████████████████████████████████████████████████| 6085/6085 [00:00<00:00, 7107.23it/s]\n"
     ]
    },
    {
     "name": "stderr",
     "output_type": "stream",
     "text": [
      "100%|████████████████████████████████████████████████████████████████████████████| 6085/6085 [00:00<00:00, 7020.37it/s]\n",
      "100%|████████████████████████████████████████████████████████████████████████████| 6085/6085 [00:00<00:00, 7110.97it/s]\n",
      "100%|████████████████████████████████████████████████████████████████████████████| 6085/6085 [00:00<00:00, 6951.26it/s]\n",
      "100%|████████████████████████████████████████████████████████████████████████████| 6085/6085 [00:00<00:00, 9047.11it/s]\n",
      "100%|█████████████████████████████████████████████████████████████████████████████| 6085/6085 [00:19<00:00, 309.57it/s]\n",
      "100%|████████████████████████████████████████████████████████████████████████████| 6085/6085 [00:01<00:00, 4583.64it/s]\n",
      "100%|████████████████████████████████████████████████████████████████████████████| 6085/6085 [00:00<00:00, 7268.53it/s]\n",
      "100%|████████████████████████████████████████████████████████████████████████████| 6085/6085 [00:00<00:00, 7356.31it/s]\n",
      "100%|████████████████████████████████████████████████████████████████████████████| 6085/6085 [00:00<00:00, 7293.14it/s]\n",
      "100%|████████████████████████████████████████████████████████████████████████████| 6085/6085 [00:00<00:00, 7131.56it/s]\n",
      "100%|████████████████████████████████████████████████████████████████████████████| 6085/6085 [00:00<00:00, 6987.10it/s]\n",
      "100%|████████████████████████████████████████████████████████████████████████████| 6085/6085 [00:00<00:00, 9130.85it/s]\n"
     ]
    },
    {
     "ename": "TypeError",
     "evalue": "plotingCombination() takes 5 positional arguments but 6 were given",
     "output_type": "error",
     "traceback": [
      "\u001b[1;31m---------------------------------------------------------------------------\u001b[0m",
      "\u001b[1;31mTypeError\u001b[0m                                 Traceback (most recent call last)",
      "\u001b[1;32m<ipython-input-45-4ef13c561055>\u001b[0m in \u001b[0;36m<module>\u001b[1;34m\u001b[0m\n\u001b[0;32m      1\u001b[0m \u001b[1;32mfor\u001b[0m \u001b[0mk\u001b[0m \u001b[1;32min\u001b[0m \u001b[0mrange\u001b[0m \u001b[1;33m(\u001b[0m\u001b[1;36m90\u001b[0m\u001b[1;33m,\u001b[0m \u001b[1;36m110\u001b[0m\u001b[1;33m,\u001b[0m \u001b[1;36m10\u001b[0m\u001b[1;33m)\u001b[0m\u001b[1;33m:\u001b[0m\u001b[1;33m\u001b[0m\u001b[1;33m\u001b[0m\u001b[0m\n\u001b[1;32m----> 2\u001b[1;33m     \u001b[0mcomputeUUCombination\u001b[0m\u001b[1;33m(\u001b[0m\u001b[0mrtrain\u001b[0m\u001b[1;33m,\u001b[0m \u001b[0mrtrain_userAvg\u001b[0m\u001b[1;33m,\u001b[0m \u001b[0muserVisitMatrix\u001b[0m\u001b[1;33m,\u001b[0m \u001b[0mrtrain_implicit\u001b[0m\u001b[1;33m,\u001b[0m \u001b[0mcombinationDict\u001b[0m\u001b[1;33m,\u001b[0m \u001b[0mSimilarityMatrixIndex\u001b[0m\u001b[1;33m,\u001b[0m \u001b[0mk\u001b[0m\u001b[1;33m,\u001b[0m \u001b[0mmethod\u001b[0m\u001b[1;33m=\u001b[0m\u001b[1;34m'max'\u001b[0m\u001b[1;33m)\u001b[0m\u001b[1;33m\u001b[0m\u001b[1;33m\u001b[0m\u001b[0m\n\u001b[0m",
      "\u001b[1;32m<ipython-input-44-72b7f38e0cc8>\u001b[0m in \u001b[0;36mcomputeUUCombination\u001b[1;34m(rtrain, rtrain_userAvg, userVisitMatrix, rtrain_implicit, combinationDict, SimilarityMatrixIndex, kTune, method)\u001b[0m\n\u001b[0;32m     49\u001b[0m         \u001b[0mprediction4\u001b[0m\u001b[1;33m[\u001b[0m\u001b[0mcombination\u001b[0m\u001b[1;33m]\u001b[0m \u001b[1;33m=\u001b[0m \u001b[0muser_item_res4\u001b[0m\u001b[1;33m.\u001b[0m\u001b[0mget\u001b[0m\u001b[1;33m(\u001b[0m\u001b[1;34m'MAP@10'\u001b[0m\u001b[1;33m)\u001b[0m\u001b[1;33m[\u001b[0m\u001b[1;36m0\u001b[0m\u001b[1;33m]\u001b[0m\u001b[1;33m\u001b[0m\u001b[1;33m\u001b[0m\u001b[0m\n\u001b[0;32m     50\u001b[0m \u001b[1;33m\u001b[0m\u001b[0m\n\u001b[1;32m---> 51\u001b[1;33m     \u001b[0mplotingCombination\u001b[0m\u001b[1;33m(\u001b[0m\u001b[0mprediction1\u001b[0m\u001b[1;33m,\u001b[0m \u001b[0mprediction2\u001b[0m\u001b[1;33m,\u001b[0m \u001b[0mprediction3\u001b[0m\u001b[1;33m,\u001b[0m \u001b[0mprediction4\u001b[0m\u001b[1;33m,\u001b[0m \u001b[0mkTune\u001b[0m\u001b[1;33m,\u001b[0m \u001b[0mmethod\u001b[0m\u001b[1;33m)\u001b[0m\u001b[1;33m\u001b[0m\u001b[1;33m\u001b[0m\u001b[0m\n\u001b[0m",
      "\u001b[1;31mTypeError\u001b[0m: plotingCombination() takes 5 positional arguments but 6 were given"
     ]
    }
   ],
   "source": [
    "for k in range (90, 110, 10):\n",
    "    computeUUCombination(rtrain, rtrain_userAvg, userVisitMatrix, rtrain_implicit, combinationDict, SimilarityMatrixIndex, k, method='max')"
   ]
  },
  {
   "cell_type": "markdown",
   "metadata": {},
   "source": [
    "### Min"
   ]
  },
  {
   "cell_type": "code",
   "execution_count": 22,
   "metadata": {
    "scrolled": true
   },
   "outputs": [
    {
     "name": "stderr",
     "output_type": "stream",
     "text": [
      "100%|█████████████████████████████████████████████████████████████████████████████| 6085/6085 [00:17<00:00, 286.50it/s]\n",
      "100%|████████████████████████████████████████████████████████████████████████████| 6085/6085 [00:01<00:00, 3603.83it/s]\n",
      "100%|████████████████████████████████████████████████████████████████████████████| 6085/6085 [00:00<00:00, 6894.09it/s]\n",
      "100%|████████████████████████████████████████████████████████████████████████████| 6085/6085 [00:00<00:00, 7061.46it/s]\n",
      "100%|████████████████████████████████████████████████████████████████████████████| 6085/6085 [00:00<00:00, 6909.50it/s]\n",
      "100%|████████████████████████████████████████████████████████████████████████████| 6085/6085 [00:00<00:00, 6925.10it/s]\n",
      "100%|████████████████████████████████████████████████████████████████████████████| 6085/6085 [00:00<00:00, 6901.64it/s]\n",
      "100%|████████████████████████████████████████████████████████████████████████████| 6085/6085 [00:00<00:00, 9011.77it/s]\n",
      "100%|█████████████████████████████████████████████████████████████████████████████| 6085/6085 [00:17<00:00, 346.53it/s]\n",
      "100%|████████████████████████████████████████████████████████████████████████████| 6085/6085 [00:01<00:00, 3740.83it/s]\n",
      "100%|████████████████████████████████████████████████████████████████████████████| 6085/6085 [00:00<00:00, 6928.61it/s]\n",
      "100%|████████████████████████████████████████████████████████████████████████████| 6085/6085 [00:00<00:00, 7245.88it/s]\n",
      "100%|████████████████████████████████████████████████████████████████████████████| 6085/6085 [00:00<00:00, 6878.36it/s]\n",
      "100%|████████████████████████████████████████████████████████████████████████████| 6085/6085 [00:00<00:00, 6925.43it/s]\n",
      "100%|████████████████████████████████████████████████████████████████████████████| 6085/6085 [00:00<00:00, 6925.21it/s]\n",
      "100%|████████████████████████████████████████████████████████████████████████████| 6085/6085 [00:00<00:00, 9174.53it/s]\n",
      "100%|█████████████████████████████████████████████████████████████████████████████| 6085/6085 [00:19<00:00, 306.04it/s]\n",
      "100%|████████████████████████████████████████████████████████████████████████████| 6085/6085 [00:01<00:00, 3722.51it/s]\n",
      "100%|████████████████████████████████████████████████████████████████████████████| 6085/6085 [00:00<00:00, 7012.78it/s]\n",
      "100%|████████████████████████████████████████████████████████████████████████████| 6085/6085 [00:00<00:00, 7004.64it/s]\n",
      "100%|████████████████████████████████████████████████████████████████████████████| 6085/6085 [00:00<00:00, 6779.23it/s]\n",
      "100%|████████████████████████████████████████████████████████████████████████████| 6085/6085 [00:00<00:00, 6996.91it/s]\n",
      "100%|████████████████████████████████████████████████████████████████████████████| 6085/6085 [00:00<00:00, 6886.06it/s]\n",
      "100%|████████████████████████████████████████████████████████████████████████████| 6085/6085 [00:00<00:00, 8998.01it/s]\n",
      "100%|█████████████████████████████████████████████████████████████████████████████| 6085/6085 [00:17<00:00, 343.42it/s]\n",
      "100%|████████████████████████████████████████████████████████████████████████████| 6085/6085 [00:01<00:00, 3815.63it/s]\n",
      "100%|████████████████████████████████████████████████████████████████████████████| 6085/6085 [00:00<00:00, 6832.36it/s]\n",
      "100%|████████████████████████████████████████████████████████████████████████████| 6085/6085 [00:00<00:00, 7012.70it/s]\n",
      "100%|████████████████████████████████████████████████████████████████████████████| 6085/6085 [00:00<00:00, 6646.31it/s]\n",
      "100%|████████████████████████████████████████████████████████████████████████████| 6085/6085 [00:00<00:00, 6893.84it/s]\n",
      "100%|████████████████████████████████████████████████████████████████████████████| 6085/6085 [00:00<00:00, 6719.27it/s]\n",
      "100%|████████████████████████████████████████████████████████████████████████████| 6085/6085 [00:00<00:00, 8972.13it/s]\n",
      "100%|█████████████████████████████████████████████████████████████████████████████| 6085/6085 [00:19<00:00, 306.69it/s]\n",
      "100%|████████████████████████████████████████████████████████████████████████████| 6085/6085 [00:01<00:00, 3938.80it/s]\n",
      "100%|████████████████████████████████████████████████████████████████████████████| 6085/6085 [00:00<00:00, 6878.59it/s]\n",
      "100%|████████████████████████████████████████████████████████████████████████████| 6085/6085 [00:00<00:00, 6988.89it/s]\n",
      "100%|████████████████████████████████████████████████████████████████████████████| 6085/6085 [00:00<00:00, 7028.93it/s]\n",
      "100%|████████████████████████████████████████████████████████████████████████████| 6085/6085 [00:00<00:00, 6949.11it/s]\n",
      "100%|████████████████████████████████████████████████████████████████████████████| 6085/6085 [00:00<00:00, 6933.07it/s]\n",
      "100%|████████████████████████████████████████████████████████████████████████████| 6085/6085 [00:00<00:00, 8828.13it/s]\n",
      "100%|█████████████████████████████████████████████████████████████████████████████| 6085/6085 [00:19<00:00, 308.15it/s]\n",
      "100%|████████████████████████████████████████████████████████████████████████████| 6085/6085 [00:01<00:00, 3918.63it/s]\n",
      "100%|████████████████████████████████████████████████████████████████████████████| 6085/6085 [00:00<00:00, 7094.54it/s]\n",
      "100%|████████████████████████████████████████████████████████████████████████████| 6085/6085 [00:00<00:00, 6909.75it/s]\n",
      "100%|████████████████████████████████████████████████████████████████████████████| 6085/6085 [00:00<00:00, 6980.90it/s]\n",
      "100%|████████████████████████████████████████████████████████████████████████████| 6085/6085 [00:00<00:00, 7119.37it/s]\n",
      "100%|████████████████████████████████████████████████████████████████████████████| 6085/6085 [00:00<00:00, 6925.43it/s]\n",
      "100%|████████████████████████████████████████████████████████████████████████████| 6085/6085 [00:00<00:00, 9133.70it/s]\n",
      "100%|█████████████████████████████████████████████████████████████████████████████| 6085/6085 [00:22<00:00, 275.43it/s]\n",
      "100%|████████████████████████████████████████████████████████████████████████████| 6085/6085 [00:01<00:00, 3896.12it/s]\n",
      "100%|████████████████████████████████████████████████████████████████████████████| 6085/6085 [00:00<00:00, 6933.23it/s]\n",
      "100%|████████████████████████████████████████████████████████████████████████████| 6085/6085 [00:00<00:00, 6996.68it/s]\n",
      "100%|████████████████████████████████████████████████████████████████████████████| 6085/6085 [00:00<00:00, 7045.07it/s]\n",
      "100%|████████████████████████████████████████████████████████████████████████████| 6085/6085 [00:00<00:00, 6726.69it/s]\n",
      "100%|████████████████████████████████████████████████████████████████████████████| 6085/6085 [00:00<00:00, 6847.48it/s]\n",
      "100%|████████████████████████████████████████████████████████████████████████████| 6085/6085 [00:00<00:00, 9092.34it/s]\n",
      "100%|█████████████████████████████████████████████████████████████████████████████| 6085/6085 [00:19<00:00, 304.57it/s]\n",
      "100%|████████████████████████████████████████████████████████████████████████████| 6085/6085 [00:01<00:00, 3985.17it/s]\n",
      "100%|████████████████████████████████████████████████████████████████████████████| 6085/6085 [00:00<00:00, 6917.58it/s]\n",
      "100%|████████████████████████████████████████████████████████████████████████████| 6085/6085 [00:00<00:00, 6904.08it/s]\n",
      "100%|████████████████████████████████████████████████████████████████████████████| 6085/6085 [00:00<00:00, 7004.72it/s]\n",
      "100%|████████████████████████████████████████████████████████████████████████████| 6085/6085 [00:00<00:00, 6839.78it/s]\n",
      "100%|████████████████████████████████████████████████████████████████████████████| 6085/6085 [00:00<00:00, 6886.34it/s]\n",
      "100%|████████████████████████████████████████████████████████████████████████████| 6085/6085 [00:00<00:00, 9066.03it/s]\n",
      "100%|█████████████████████████████████████████████████████████████████████████████| 6085/6085 [00:20<00:00, 304.24it/s]\n",
      "100%|████████████████████████████████████████████████████████████████████████████| 6085/6085 [00:01<00:00, 3926.05it/s]\n",
      "100%|████████████████████████████████████████████████████████████████████████████| 6085/6085 [00:00<00:00, 6734.33it/s]\n",
      "100%|████████████████████████████████████████████████████████████████████████████| 6085/6085 [00:00<00:00, 7013.08it/s]\n",
      "100%|████████████████████████████████████████████████████████████████████████████| 6085/6085 [00:00<00:00, 6909.58it/s]\n",
      "100%|████████████████████████████████████████████████████████████████████████████| 6085/6085 [00:00<00:00, 6964.66it/s]\n",
      "100%|████████████████████████████████████████████████████████████████████████████| 6085/6085 [00:00<00:00, 6631.78it/s]\n",
      "100%|████████████████████████████████████████████████████████████████████████████| 6085/6085 [00:00<00:00, 8919.77it/s]\n",
      "100%|█████████████████████████████████████████████████████████████████████████████| 6085/6085 [00:19<00:00, 307.62it/s]\n",
      "100%|████████████████████████████████████████████████████████████████████████████| 6085/6085 [00:01<00:00, 3931.28it/s]\n",
      "100%|████████████████████████████████████████████████████████████████████████████| 6085/6085 [00:00<00:00, 7069.87it/s]\n",
      "100%|████████████████████████████████████████████████████████████████████████████| 6085/6085 [00:00<00:00, 7177.88it/s]\n",
      "100%|████████████████████████████████████████████████████████████████████████████| 6085/6085 [00:00<00:00, 7069.58it/s]\n",
      "100%|████████████████████████████████████████████████████████████████████████████| 6085/6085 [00:00<00:00, 7053.50it/s]\n",
      "100%|████████████████████████████████████████████████████████████████████████████| 6085/6085 [00:00<00:00, 6972.69it/s]\n",
      "100%|████████████████████████████████████████████████████████████████████████████| 6085/6085 [00:00<00:00, 8881.00it/s]\n",
      "100%|█████████████████████████████████████████████████████████████████████████████| 6085/6085 [00:22<00:00, 272.20it/s]\n",
      "100%|████████████████████████████████████████████████████████████████████████████| 6085/6085 [00:01<00:00, 3883.71it/s]\n",
      "100%|████████████████████████████████████████████████████████████████████████████| 6085/6085 [00:00<00:00, 6322.59it/s]\n",
      "100%|████████████████████████████████████████████████████████████████████████████| 6085/6085 [00:00<00:00, 6862.88it/s]\n",
      "100%|████████████████████████████████████████████████████████████████████████████| 6085/6085 [00:00<00:00, 6941.44it/s]\n",
      "100%|████████████████████████████████████████████████████████████████████████████| 6085/6085 [00:00<00:00, 6964.73it/s]\n",
      "100%|████████████████████████████████████████████████████████████████████████████| 6085/6085 [00:00<00:00, 6624.45it/s]\n",
      "100%|████████████████████████████████████████████████████████████████████████████| 6085/6085 [00:00<00:00, 8932.73it/s]\n",
      "100%|█████████████████████████████████████████████████████████████████████████████| 6085/6085 [00:19<00:00, 310.97it/s]\n",
      "100%|████████████████████████████████████████████████████████████████████████████| 6085/6085 [00:01<00:00, 4089.24it/s]\n",
      "100%|████████████████████████████████████████████████████████████████████████████| 6085/6085 [00:00<00:00, 6855.35it/s]\n",
      "100%|████████████████████████████████████████████████████████████████████████████| 6085/6085 [00:00<00:00, 7029.16it/s]\n",
      "100%|████████████████████████████████████████████████████████████████████████████| 6085/6085 [00:00<00:00, 7028.92it/s]\n",
      "100%|████████████████████████████████████████████████████████████████████████████| 6085/6085 [00:00<00:00, 6855.51it/s]\n",
      "100%|████████████████████████████████████████████████████████████████████████████| 6085/6085 [00:00<00:00, 6901.71it/s]\n",
      "100%|████████████████████████████████████████████████████████████████████████████| 6085/6085 [00:00<00:00, 8301.08it/s]\n",
      "100%|█████████████████████████████████████████████████████████████████████████████| 6085/6085 [00:19<00:00, 309.22it/s]\n",
      "100%|████████████████████████████████████████████████████████████████████████████| 6085/6085 [00:01<00:00, 3908.51it/s]\n",
      "100%|████████████████████████████████████████████████████████████████████████████| 6085/6085 [00:00<00:00, 6862.81it/s]\n",
      "100%|████████████████████████████████████████████████████████████████████████████| 6085/6085 [00:00<00:00, 7028.92it/s]\n",
      "100%|████████████████████████████████████████████████████████████████████████████| 6085/6085 [00:00<00:00, 6675.38it/s]\n",
      "100%|████████████████████████████████████████████████████████████████████████████| 6085/6085 [00:00<00:00, 6855.11it/s]\n",
      "100%|████████████████████████████████████████████████████████████████████████████| 6085/6085 [00:00<00:00, 6839.81it/s]\n",
      "100%|████████████████████████████████████████████████████████████████████████████| 6085/6085 [00:00<00:00, 8473.67it/s]\n",
      "100%|█████████████████████████████████████████████████████████████████████████████| 6085/6085 [00:19<00:00, 310.22it/s]\n",
      "100%|████████████████████████████████████████████████████████████████████████████| 6085/6085 [00:01<00:00, 3813.23it/s]\n",
      "100%|████████████████████████████████████████████████████████████████████████████| 6085/6085 [00:00<00:00, 7028.90it/s]\n",
      "100%|████████████████████████████████████████████████████████████████████████████| 6085/6085 [00:00<00:00, 7119.06it/s]\n",
      "100%|████████████████████████████████████████████████████████████████████████████| 6085/6085 [00:00<00:00, 6893.84it/s]\n",
      "100%|████████████████████████████████████████████████████████████████████████████| 6085/6085 [00:00<00:00, 6972.70it/s]\n",
      "100%|████████████████████████████████████████████████████████████████████████████| 6085/6085 [00:00<00:00, 6972.91it/s]\n",
      "100%|████████████████████████████████████████████████████████████████████████████| 6085/6085 [00:00<00:00, 8998.60it/s]\n",
      "100%|█████████████████████████████████████████████████████████████████████████████| 6085/6085 [00:21<00:00, 278.79it/s]\n",
      "100%|████████████████████████████████████████████████████████████████████████████| 6085/6085 [00:01<00:00, 3866.41it/s]\n",
      "100%|████████████████████████████████████████████████████████████████████████████| 6085/6085 [00:00<00:00, 6705.05it/s]\n",
      "100%|████████████████████████████████████████████████████████████████████████████| 6085/6085 [00:00<00:00, 6847.44it/s]\n",
      "100%|████████████████████████████████████████████████████████████████████████████| 6085/6085 [00:00<00:00, 6719.41it/s]\n",
      "100%|████████████████████████████████████████████████████████████████████████████| 6085/6085 [00:00<00:00, 6794.33it/s]\n",
      "100%|████████████████████████████████████████████████████████████████████████████| 6085/6085 [00:00<00:00, 6617.27it/s]\n",
      "100%|████████████████████████████████████████████████████████████████████████████| 6085/6085 [00:00<00:00, 8690.97it/s]\n",
      "100%|█████████████████████████████████████████████████████████████████████████████| 6085/6085 [00:19<00:00, 313.66it/s]\n",
      "100%|████████████████████████████████████████████████████████████████████████████| 6085/6085 [00:01<00:00, 3959.23it/s]\n",
      "100%|████████████████████████████████████████████████████████████████████████████| 6085/6085 [00:00<00:00, 6697.11it/s]\n",
      "100%|████████████████████████████████████████████████████████████████████████████| 6085/6085 [00:00<00:00, 6917.27it/s]\n",
      "100%|████████████████████████████████████████████████████████████████████████████| 6085/6085 [00:00<00:00, 6832.03it/s]\n",
      "100%|████████████████████████████████████████████████████████████████████████████| 6085/6085 [00:00<00:00, 6925.43it/s]\n",
      "100%|████████████████████████████████████████████████████████████████████████████| 6085/6085 [00:00<00:00, 6646.03it/s]\n",
      "100%|████████████████████████████████████████████████████████████████████████████| 6085/6085 [00:00<00:00, 9133.52it/s]\n",
      "100%|█████████████████████████████████████████████████████████████████████████████| 6085/6085 [00:19<00:00, 311.75it/s]\n",
      "100%|████████████████████████████████████████████████████████████████████████████| 6085/6085 [00:01<00:00, 3873.77it/s]\n",
      "100%|████████████████████████████████████████████████████████████████████████████| 6085/6085 [00:00<00:00, 6855.13it/s]\n",
      "100%|████████████████████████████████████████████████████████████████████████████| 6085/6085 [00:00<00:00, 6988.88it/s]\n",
      "100%|████████████████████████████████████████████████████████████████████████████| 6085/6085 [00:00<00:00, 6741.49it/s]\n",
      "100%|████████████████████████████████████████████████████████████████████████████| 6085/6085 [00:00<00:00, 6925.14it/s]\n",
      "100%|████████████████████████████████████████████████████████████████████████████| 6085/6085 [00:00<00:00, 6779.00it/s]\n",
      "100%|████████████████████████████████████████████████████████████████████████████| 6085/6085 [00:00<00:00, 8728.22it/s]\n"
     ]
    },
    {
     "name": "stderr",
     "output_type": "stream",
     "text": [
      "100%|█████████████████████████████████████████████████████████████████████████████| 6085/6085 [00:19<00:00, 310.50it/s]\n",
      "100%|████████████████████████████████████████████████████████████████████████████| 6085/6085 [00:01<00:00, 3861.58it/s]\n",
      "100%|████████████████████████████████████████████████████████████████████████████| 6085/6085 [00:00<00:00, 6824.72it/s]\n",
      "100%|████████████████████████████████████████████████████████████████████████████| 6085/6085 [00:00<00:00, 7152.74it/s]\n",
      "100%|████████████████████████████████████████████████████████████████████████████| 6085/6085 [00:00<00:00, 6980.68it/s]\n",
      "100%|████████████████████████████████████████████████████████████████████████████| 6085/6085 [00:00<00:00, 7037.17it/s]\n",
      "100%|████████████████████████████████████████████████████████████████████████████| 6085/6085 [00:00<00:00, 6909.75it/s]\n",
      "100%|████████████████████████████████████████████████████████████████████████████| 6085/6085 [00:00<00:00, 9065.71it/s]\n",
      "100%|█████████████████████████████████████████████████████████████████████████████| 6085/6085 [00:21<00:00, 280.55it/s]\n",
      "100%|████████████████████████████████████████████████████████████████████████████| 6085/6085 [00:01<00:00, 3849.33it/s]\n",
      "100%|████████████████████████████████████████████████████████████████████████████| 6085/6085 [00:00<00:00, 6756.90it/s]\n",
      "100%|████████████████████████████████████████████████████████████████████████████| 6085/6085 [00:00<00:00, 6941.02it/s]\n",
      "100%|████████████████████████████████████████████████████████████████████████████| 6085/6085 [00:00<00:00, 6756.73it/s]\n",
      "100%|████████████████████████████████████████████████████████████████████████████| 6085/6085 [00:00<00:00, 6893.90it/s]\n",
      "100%|████████████████████████████████████████████████████████████████████████████| 6085/6085 [00:00<00:00, 6764.19it/s]\n",
      "100%|████████████████████████████████████████████████████████████████████████████| 6085/6085 [00:00<00:00, 8841.97it/s]\n",
      "100%|█████████████████████████████████████████████████████████████████████████████| 6085/6085 [00:19<00:00, 312.66it/s]\n",
      "100%|████████████████████████████████████████████████████████████████████████████| 6085/6085 [00:01<00:00, 3949.06it/s]\n",
      "100%|████████████████████████████████████████████████████████████████████████████| 6085/6085 [00:00<00:00, 6870.82it/s]\n",
      "100%|████████████████████████████████████████████████████████████████████████████| 6085/6085 [00:00<00:00, 6901.64it/s]\n",
      "100%|████████████████████████████████████████████████████████████████████████████| 6085/6085 [00:00<00:00, 6948.80it/s]\n",
      "100%|████████████████████████████████████████████████████████████████████████████| 6085/6085 [00:00<00:00, 6893.91it/s]\n",
      "100%|████████████████████████████████████████████████████████████████████████████| 6085/6085 [00:00<00:00, 6964.74it/s]\n",
      "100%|████████████████████████████████████████████████████████████████████████████| 6085/6085 [00:00<00:00, 9271.98it/s]\n",
      "100%|█████████████████████████████████████████████████████████████████████████████| 6085/6085 [00:22<00:00, 270.65it/s]\n",
      "100%|████████████████████████████████████████████████████████████████████████████| 6085/6085 [00:01<00:00, 3984.93it/s]\n",
      "100%|████████████████████████████████████████████████████████████████████████████| 6085/6085 [00:00<00:00, 7110.90it/s]\n",
      "100%|████████████████████████████████████████████████████████████████████████████| 6085/6085 [00:00<00:00, 7152.53it/s]\n",
      "100%|████████████████████████████████████████████████████████████████████████████| 6085/6085 [00:00<00:00, 7094.30it/s]\n",
      "100%|████████████████████████████████████████████████████████████████████████████| 6085/6085 [00:00<00:00, 6956.79it/s]\n",
      "100%|████████████████████████████████████████████████████████████████████████████| 6085/6085 [00:00<00:00, 6878.36it/s]\n",
      "100%|████████████████████████████████████████████████████████████████████████████| 6085/6085 [00:00<00:00, 9371.66it/s]\n",
      "100%|█████████████████████████████████████████████████████████████████████████████| 6085/6085 [00:22<00:00, 271.24it/s]\n",
      "100%|████████████████████████████████████████████████████████████████████████████| 6085/6085 [00:01<00:00, 3842.13it/s]\n",
      "100%|████████████████████████████████████████████████████████████████████████████| 6085/6085 [00:00<00:00, 6886.09it/s]\n",
      "100%|████████████████████████████████████████████████████████████████████████████| 6085/6085 [00:00<00:00, 7078.08it/s]\n",
      "100%|████████████████████████████████████████████████████████████████████████████| 6085/6085 [00:00<00:00, 6863.11it/s]\n",
      "100%|████████████████████████████████████████████████████████████████████████████| 6085/6085 [00:00<00:00, 7029.15it/s]\n",
      "100%|████████████████████████████████████████████████████████████████████████████| 6085/6085 [00:00<00:00, 6925.43it/s]\n",
      "100%|████████████████████████████████████████████████████████████████████████████| 6085/6085 [00:00<00:00, 8678.95it/s]\n",
      "100%|█████████████████████████████████████████████████████████████████████████████| 6085/6085 [00:24<00:00, 249.17it/s]\n",
      "100%|████████████████████████████████████████████████████████████████████████████| 6085/6085 [00:01<00:00, 3995.53it/s]\n",
      "100%|████████████████████████████████████████████████████████████████████████████| 6085/6085 [00:00<00:00, 6870.62it/s]\n",
      "100%|████████████████████████████████████████████████████████████████████████████| 6085/6085 [00:00<00:00, 7135.77it/s]\n",
      "100%|████████████████████████████████████████████████████████████████████████████| 6085/6085 [00:00<00:00, 7004.71it/s]\n",
      "100%|████████████████████████████████████████████████████████████████████████████| 6085/6085 [00:00<00:00, 7085.99it/s]\n",
      "100%|████████████████████████████████████████████████████████████████████████████| 6085/6085 [00:00<00:00, 7028.88it/s]\n",
      "100%|████████████████████████████████████████████████████████████████████████████| 6085/6085 [00:00<00:00, 9230.02it/s]\n",
      "100%|█████████████████████████████████████████████████████████████████████████████| 6085/6085 [00:22<00:00, 270.05it/s]\n",
      "100%|████████████████████████████████████████████████████████████████████████████| 6085/6085 [00:01<00:00, 4032.48it/s]\n",
      "100%|████████████████████████████████████████████████████████████████████████████| 6085/6085 [00:00<00:00, 7037.02it/s]\n",
      "100%|████████████████████████████████████████████████████████████████████████████| 6085/6085 [00:00<00:00, 7078.07it/s]\n",
      "100%|████████████████████████████████████████████████████████████████████████████| 6085/6085 [00:00<00:00, 7086.02it/s]\n",
      "100%|████████████████████████████████████████████████████████████████████████████| 6085/6085 [00:00<00:00, 7119.11it/s]\n",
      "100%|████████████████████████████████████████████████████████████████████████████| 6085/6085 [00:00<00:00, 6980.67it/s]\n",
      "100%|████████████████████████████████████████████████████████████████████████████| 6085/6085 [00:00<00:00, 9078.93it/s]\n",
      "100%|█████████████████████████████████████████████████████████████████████████████| 6085/6085 [00:22<00:00, 274.29it/s]\n",
      "100%|████████████████████████████████████████████████████████████████████████████| 6085/6085 [00:01<00:00, 4064.72it/s]\n",
      "100%|████████████████████████████████████████████████████████████████████████████| 6085/6085 [00:00<00:00, 7045.16it/s]\n",
      "100%|████████████████████████████████████████████████████████████████████████████| 6085/6085 [00:00<00:00, 6988.66it/s]\n",
      "100%|████████████████████████████████████████████████████████████████████████████| 6085/6085 [00:00<00:00, 7020.84it/s]\n",
      "100%|████████████████████████████████████████████████████████████████████████████| 6085/6085 [00:00<00:00, 7169.33it/s]\n",
      "100%|████████████████████████████████████████████████████████████████████████████| 6085/6085 [00:00<00:00, 7028.85it/s]\n",
      "100%|████████████████████████████████████████████████████████████████████████████| 6085/6085 [00:00<00:00, 9243.83it/s]\n",
      "100%|█████████████████████████████████████████████████████████████████████████████| 6085/6085 [00:22<00:00, 270.65it/s]\n",
      "100%|████████████████████████████████████████████████████████████████████████████| 6085/6085 [00:01<00:00, 3866.41it/s]\n",
      "100%|████████████████████████████████████████████████████████████████████████████| 6085/6085 [00:00<00:00, 7004.72it/s]\n",
      "100%|████████████████████████████████████████████████████████████████████████████| 6085/6085 [00:00<00:00, 7045.21it/s]\n",
      "100%|████████████████████████████████████████████████████████████████████████████| 6085/6085 [00:00<00:00, 7160.83it/s]\n",
      "100%|████████████████████████████████████████████████████████████████████████████| 6085/6085 [00:00<00:00, 6972.67it/s]\n",
      "100%|████████████████████████████████████████████████████████████████████████████| 6085/6085 [00:00<00:00, 6980.64it/s]\n",
      "100%|████████████████████████████████████████████████████████████████████████████| 6085/6085 [00:00<00:00, 8972.12it/s]\n",
      "100%|█████████████████████████████████████████████████████████████████████████████| 6085/6085 [00:24<00:00, 250.16it/s]\n",
      "100%|████████████████████████████████████████████████████████████████████████████| 6085/6085 [00:01<00:00, 3844.55it/s]\n",
      "100%|████████████████████████████████████████████████████████████████████████████| 6085/6085 [00:00<00:00, 6870.59it/s]\n",
      "100%|████████████████████████████████████████████████████████████████████████████| 6085/6085 [00:00<00:00, 6956.69it/s]\n",
      "100%|████████████████████████████████████████████████████████████████████████████| 6085/6085 [00:00<00:00, 6996.68it/s]\n",
      "100%|████████████████████████████████████████████████████████████████████████████| 6085/6085 [00:00<00:00, 6964.65it/s]\n",
      "100%|████████████████████████████████████████████████████████████████████████████| 6085/6085 [00:00<00:00, 6771.70it/s]\n",
      "100%|████████████████████████████████████████████████████████████████████████████| 6085/6085 [00:00<00:00, 8945.82it/s]\n",
      "100%|█████████████████████████████████████████████████████████████████████████████| 6085/6085 [00:22<00:00, 272.09it/s]\n",
      "100%|████████████████████████████████████████████████████████████████████████████| 6085/6085 [00:01<00:00, 4003.38it/s]\n",
      "100%|████████████████████████████████████████████████████████████████████████████| 6085/6085 [00:00<00:00, 7004.64it/s]\n",
      "100%|████████████████████████████████████████████████████████████████████████████| 6085/6085 [00:00<00:00, 7004.94it/s]\n",
      "100%|████████████████████████████████████████████████████████████████████████████| 6085/6085 [00:00<00:00, 6940.96it/s]\n",
      "100%|████████████████████████████████████████████████████████████████████████████| 6085/6085 [00:00<00:00, 6956.79it/s]\n",
      "100%|████████████████████████████████████████████████████████████████████████████| 6085/6085 [00:00<00:00, 6719.29it/s]\n",
      "100%|████████████████████████████████████████████████████████████████████████████| 6085/6085 [00:00<00:00, 8972.01it/s]\n",
      "100%|█████████████████████████████████████████████████████████████████████████████| 6085/6085 [00:22<00:00, 270.66it/s]\n",
      "100%|████████████████████████████████████████████████████████████████████████████| 6085/6085 [00:01<00:00, 3943.96it/s]\n",
      "100%|████████████████████████████████████████████████████████████████████████████| 6085/6085 [00:00<00:00, 7029.07it/s]\n",
      "100%|████████████████████████████████████████████████████████████████████████████| 6085/6085 [00:00<00:00, 6940.97it/s]\n",
      "100%|████████████████████████████████████████████████████████████████████████████| 6085/6085 [00:00<00:00, 6886.27it/s]\n",
      "100%|████████████████████████████████████████████████████████████████████████████| 6085/6085 [00:00<00:00, 6996.87it/s]\n",
      "100%|████████████████████████████████████████████████████████████████████████████| 6085/6085 [00:00<00:00, 6734.06it/s]\n",
      "100%|████████████████████████████████████████████████████████████████████████████| 6085/6085 [00:00<00:00, 9105.89it/s]\n",
      "100%|█████████████████████████████████████████████████████████████████████████████| 6085/6085 [00:22<00:00, 270.53it/s]\n",
      "100%|████████████████████████████████████████████████████████████████████████████| 6085/6085 [00:01<00:00, 3775.56it/s]\n",
      "100%|████████████████████████████████████████████████████████████████████████████| 6085/6085 [00:00<00:00, 7020.82it/s]\n",
      "100%|████████████████████████████████████████████████████████████████████████████| 6085/6085 [00:00<00:00, 7013.00it/s]\n",
      "100%|████████████████████████████████████████████████████████████████████████████| 6085/6085 [00:00<00:00, 6964.96it/s]\n",
      "100%|████████████████████████████████████████████████████████████████████████████| 6085/6085 [00:00<00:00, 6863.11it/s]\n",
      "100%|████████████████████████████████████████████████████████████████████████████| 6085/6085 [00:00<00:00, 6764.19it/s]\n",
      "100%|████████████████████████████████████████████████████████████████████████████| 6085/6085 [00:00<00:00, 8868.17it/s]\n",
      "100%|█████████████████████████████████████████████████████████████████████████████| 6085/6085 [00:24<00:00, 252.70it/s]\n",
      "100%|████████████████████████████████████████████████████████████████████████████| 6085/6085 [00:01<00:00, 3881.17it/s]\n",
      "100%|████████████████████████████████████████████████████████████████████████████| 6085/6085 [00:00<00:00, 6719.29it/s]\n",
      "100%|████████████████████████████████████████████████████████████████████████████| 6085/6085 [00:00<00:00, 6925.19it/s]\n",
      "100%|████████████████████████████████████████████████████████████████████████████| 6085/6085 [00:00<00:00, 6956.64it/s]\n",
      "100%|████████████████████████████████████████████████████████████████████████████| 6085/6085 [00:00<00:00, 6748.95it/s]\n",
      "100%|████████████████████████████████████████████████████████████████████████████| 6085/6085 [00:00<00:00, 6646.30it/s]\n",
      "100%|████████████████████████████████████████████████████████████████████████████| 6085/6085 [00:00<00:00, 9025.21it/s]\n",
      "100%|█████████████████████████████████████████████████████████████████████████████| 6085/6085 [00:22<00:00, 270.47it/s]\n",
      "100%|████████████████████████████████████████████████████████████████████████████| 6085/6085 [00:01<00:00, 3876.33it/s]\n",
      "100%|████████████████████████████████████████████████████████████████████████████| 6085/6085 [00:00<00:00, 6779.22it/s]\n",
      "100%|████████████████████████████████████████████████████████████████████████████| 6085/6085 [00:00<00:00, 7061.70it/s]\n",
      "100%|████████████████████████████████████████████████████████████████████████████| 6085/6085 [00:00<00:00, 7053.53it/s]\n",
      "100%|████████████████████████████████████████████████████████████████████████████| 6085/6085 [00:00<00:00, 7119.37it/s]\n",
      "100%|████████████████████████████████████████████████████████████████████████████| 6085/6085 [00:00<00:00, 7061.70it/s]\n",
      "100%|████████████████████████████████████████████████████████████████████████████| 6085/6085 [00:00<00:00, 9230.42it/s]\n",
      "100%|█████████████████████████████████████████████████████████████████████████████| 6085/6085 [00:21<00:00, 279.21it/s]\n",
      "100%|████████████████████████████████████████████████████████████████████████████| 6085/6085 [00:01<00:00, 3883.82it/s]\n",
      "100%|████████████████████████████████████████████████████████████████████████████| 6085/6085 [00:00<00:00, 6980.60it/s]\n",
      "100%|████████████████████████████████████████████████████████████████████████████| 6085/6085 [00:00<00:00, 7004.65it/s]\n",
      "100%|████████████████████████████████████████████████████████████████████████████| 6085/6085 [00:00<00:00, 6801.97it/s]\n",
      "100%|████████████████████████████████████████████████████████████████████████████| 6085/6085 [00:00<00:00, 6949.10it/s]\n",
      "100%|████████████████████████████████████████████████████████████████████████████| 6085/6085 [00:00<00:00, 6734.06it/s]\n",
      "100%|████████████████████████████████████████████████████████████████████████████| 6085/6085 [00:00<00:00, 8998.62it/s]\n",
      "100%|█████████████████████████████████████████████████████████████████████████████| 6085/6085 [00:24<00:00, 251.11it/s]\n",
      "100%|████████████████████████████████████████████████████████████████████████████| 6085/6085 [00:01<00:00, 3918.54it/s]\n",
      "100%|████████████████████████████████████████████████████████████████████████████| 6085/6085 [00:00<00:00, 7110.83it/s]\n",
      "100%|████████████████████████████████████████████████████████████████████████████| 6085/6085 [00:00<00:00, 7127.71it/s]\n",
      "100%|████████████████████████████████████████████████████████████████████████████| 6085/6085 [00:00<00:00, 7020.84it/s]\n",
      "100%|████████████████████████████████████████████████████████████████████████████| 6085/6085 [00:00<00:00, 7127.73it/s]\n",
      "100%|████████████████████████████████████████████████████████████████████████████| 6085/6085 [00:00<00:00, 6964.75it/s]\n",
      "100%|████████████████████████████████████████████████████████████████████████████| 6085/6085 [00:00<00:00, 9257.92it/s]\n"
     ]
    },
    {
     "name": "stderr",
     "output_type": "stream",
     "text": [
      "100%|█████████████████████████████████████████████████████████████████████████████| 6085/6085 [00:24<00:00, 245.44it/s]\n",
      "100%|████████████████████████████████████████████████████████████████████████████| 6085/6085 [00:01<00:00, 3896.03it/s]\n",
      "100%|████████████████████████████████████████████████████████████████████████████| 6085/6085 [00:00<00:00, 6786.80it/s]\n",
      "100%|████████████████████████████████████████████████████████████████████████████| 6085/6085 [00:00<00:00, 6824.72it/s]\n",
      "100%|████████████████████████████████████████████████████████████████████████████| 6085/6085 [00:00<00:00, 6588.88it/s]\n",
      "100%|████████████████████████████████████████████████████████████████████████████| 6085/6085 [00:00<00:00, 6855.40it/s]\n",
      "100%|████████████████████████████████████████████████████████████████████████████| 6085/6085 [00:00<00:00, 6726.91it/s]\n",
      "100%|████████████████████████████████████████████████████████████████████████████| 6085/6085 [00:00<00:00, 9120.04it/s]\n",
      "100%|█████████████████████████████████████████████████████████████████████████████| 6085/6085 [00:21<00:00, 277.67it/s]\n",
      "100%|████████████████████████████████████████████████████████████████████████████| 6085/6085 [00:01<00:00, 3886.21it/s]\n",
      "100%|████████████████████████████████████████████████████████████████████████████| 6085/6085 [00:00<00:00, 6794.10it/s]\n",
      "100%|████████████████████████████████████████████████████████████████████████████| 6085/6085 [00:00<00:00, 6988.88it/s]\n",
      "100%|████████████████████████████████████████████████████████████████████████████| 6085/6085 [00:00<00:00, 6801.68it/s]\n",
      "100%|████████████████████████████████████████████████████████████████████████████| 6085/6085 [00:00<00:00, 6786.55it/s]\n",
      "100%|████████████████████████████████████████████████████████████████████████████| 6085/6085 [00:00<00:00, 6809.26it/s]\n",
      "100%|████████████████████████████████████████████████████████████████████████████| 6085/6085 [00:00<00:00, 8945.79it/s]\n",
      "100%|█████████████████████████████████████████████████████████████████████████████| 6085/6085 [00:22<00:00, 273.14it/s]\n",
      "100%|████████████████████████████████████████████████████████████████████████████| 6085/6085 [00:01<00:00, 3896.03it/s]\n",
      "100%|████████████████████████████████████████████████████████████████████████████| 6085/6085 [00:00<00:00, 6917.28it/s]\n",
      "100%|████████████████████████████████████████████████████████████████████████████| 6085/6085 [00:00<00:00, 6956.72it/s]\n",
      "100%|████████████████████████████████████████████████████████████████████████████| 6085/6085 [00:00<00:00, 6941.19it/s]\n",
      "100%|████████████████████████████████████████████████████████████████████████████| 6085/6085 [00:00<00:00, 6824.51it/s]\n",
      "100%|████████████████████████████████████████████████████████████████████████████| 6085/6085 [00:00<00:00, 6886.33it/s]\n",
      "100%|████████████████████████████████████████████████████████████████████████████| 6085/6085 [00:00<00:00, 8741.11it/s]\n",
      "100%|█████████████████████████████████████████████████████████████████████████████| 6085/6085 [00:22<00:00, 272.53it/s]\n",
      "100%|████████████████████████████████████████████████████████████████████████████| 6085/6085 [00:01<00:00, 3964.38it/s]\n",
      "100%|████████████████████████████████████████████████████████████████████████████| 6085/6085 [00:00<00:00, 7086.30it/s]\n",
      "100%|████████████████████████████████████████████████████████████████████████████| 6085/6085 [00:00<00:00, 7078.01it/s]\n",
      "100%|████████████████████████████████████████████████████████████████████████████| 6085/6085 [00:00<00:00, 7045.15it/s]\n",
      "100%|████████████████████████████████████████████████████████████████████████████| 6085/6085 [00:00<00:00, 6925.19it/s]\n",
      "100%|████████████████████████████████████████████████████████████████████████████| 6085/6085 [00:00<00:00, 7028.92it/s]\n",
      "100%|████████████████████████████████████████████████████████████████████████████| 6085/6085 [00:00<00:00, 9400.66it/s]\n",
      "100%|█████████████████████████████████████████████████████████████████████████████| 6085/6085 [00:24<00:00, 204.23it/s]\n",
      "100%|████████████████████████████████████████████████████████████████████████████| 6085/6085 [00:01<00:00, 3896.01it/s]\n",
      "100%|████████████████████████████████████████████████████████████████████████████| 6085/6085 [00:00<00:00, 6948.80it/s]\n",
      "100%|████████████████████████████████████████████████████████████████████████████| 6085/6085 [00:00<00:00, 7061.44it/s]\n",
      "100%|████████████████████████████████████████████████████████████████████████████| 6085/6085 [00:00<00:00, 6756.49it/s]\n",
      "100%|████████████████████████████████████████████████████████████████████████████| 6085/6085 [00:00<00:00, 6917.29it/s]\n",
      "100%|████████████████████████████████████████████████████████████████████████████| 6085/6085 [00:00<00:00, 6816.88it/s]\n",
      "100%|████████████████████████████████████████████████████████████████████████████| 6085/6085 [00:00<00:00, 8778.35it/s]\n",
      "100%|█████████████████████████████████████████████████████████████████████████████| 6085/6085 [00:22<00:00, 273.45it/s]\n",
      "100%|████████████████████████████████████████████████████████████████████████████| 6085/6085 [00:01<00:00, 3928.63it/s]\n",
      "100%|████████████████████████████████████████████████████████████████████████████| 6085/6085 [00:00<00:00, 6816.88it/s]\n",
      "100%|████████████████████████████████████████████████████████████████████████████| 6085/6085 [00:00<00:00, 7135.79it/s]\n",
      "100%|████████████████████████████████████████████████████████████████████████████| 6085/6085 [00:00<00:00, 6870.61it/s]\n",
      "100%|████████████████████████████████████████████████████████████████████████████| 6085/6085 [00:00<00:00, 7020.60it/s]\n",
      "100%|████████████████████████████████████████████████████████████████████████████| 6085/6085 [00:00<00:00, 6748.95it/s]\n",
      "100%|████████████████████████████████████████████████████████████████████████████| 6085/6085 [00:00<00:00, 8985.55it/s]\n",
      "100%|█████████████████████████████████████████████████████████████████████████████| 6085/6085 [00:21<00:00, 279.20it/s]\n",
      "100%|████████████████████████████████████████████████████████████████████████████| 6085/6085 [00:01<00:00, 4008.78it/s]\n",
      "100%|████████████████████████████████████████████████████████████████████████████| 6085/6085 [00:00<00:00, 7102.77it/s]\n",
      "100%|████████████████████████████████████████████████████████████████████████████| 6085/6085 [00:00<00:00, 7061.69it/s]\n",
      "100%|████████████████████████████████████████████████████████████████████████████| 6085/6085 [00:00<00:00, 7045.16it/s]\n",
      "100%|████████████████████████████████████████████████████████████████████████████| 6085/6085 [00:00<00:00, 7061.46it/s]\n",
      "100%|████████████████████████████████████████████████████████████████████████████| 6085/6085 [00:00<00:00, 6956.79it/s]\n",
      "100%|████████████████████████████████████████████████████████████████████████████| 6085/6085 [00:00<00:00, 9300.23it/s]\n",
      "100%|█████████████████████████████████████████████████████████████████████████████| 6085/6085 [00:21<00:00, 276.93it/s]\n",
      "100%|████████████████████████████████████████████████████████████████████████████| 6085/6085 [00:01<00:00, 3881.14it/s]\n",
      "100%|████████████████████████████████████████████████████████████████████████████| 6085/6085 [00:00<00:00, 7013.23it/s]\n",
      "100%|████████████████████████████████████████████████████████████████████████████| 6085/6085 [00:00<00:00, 7094.23it/s]\n",
      "100%|████████████████████████████████████████████████████████████████████████████| 6085/6085 [00:00<00:00, 6925.51it/s]\n",
      "100%|████████████████████████████████████████████████████████████████████████████| 6085/6085 [00:00<00:00, 7069.92it/s]\n",
      "100%|████████████████████████████████████████████████████████████████████████████| 6085/6085 [00:00<00:00, 6653.56it/s]\n",
      "100%|████████████████████████████████████████████████████████████████████████████| 6085/6085 [00:00<00:00, 9025.09it/s]\n",
      "100%|█████████████████████████████████████████████████████████████████████████████| 6085/6085 [00:23<00:00, 255.14it/s]\n",
      "100%|████████████████████████████████████████████████████████████████████████████| 6085/6085 [00:01<00:00, 3941.33it/s]\n",
      "100%|████████████████████████████████████████████████████████████████████████████| 6085/6085 [00:00<00:00, 6925.42it/s]\n",
      "100%|████████████████████████████████████████████████████████████████████████████| 6085/6085 [00:00<00:00, 6956.78it/s]\n",
      "100%|████████████████████████████████████████████████████████████████████████████| 6085/6085 [00:00<00:00, 6925.21it/s]\n",
      "100%|████████████████████████████████████████████████████████████████████████████| 6085/6085 [00:00<00:00, 6925.10it/s]\n",
      "100%|████████████████████████████████████████████████████████████████████████████| 6085/6085 [00:00<00:00, 6870.55it/s]\n",
      "100%|████████████████████████████████████████████████████████████████████████████| 6085/6085 [00:00<00:00, 8919.66it/s]\n",
      "100%|█████████████████████████████████████████████████████████████████████████████| 6085/6085 [00:21<00:00, 277.19it/s]\n",
      "100%|████████████████████████████████████████████████████████████████████████████| 6085/6085 [00:01<00:00, 4072.89it/s]\n",
      "100%|████████████████████████████████████████████████████████████████████████████| 6085/6085 [00:00<00:00, 7263.11it/s]\n",
      "100%|████████████████████████████████████████████████████████████████████████████| 6085/6085 [00:00<00:00, 7127.38it/s]\n",
      "100%|████████████████████████████████████████████████████████████████████████████| 6085/6085 [00:00<00:00, 6980.89it/s]\n",
      "100%|████████████████████████████████████████████████████████████████████████████| 6085/6085 [00:00<00:00, 6964.73it/s]\n",
      "100%|████████████████████████████████████████████████████████████████████████████| 6085/6085 [00:00<00:00, 6878.34it/s]\n",
      "100%|████████████████████████████████████████████████████████████████████████████| 6085/6085 [00:00<00:00, 9039.26it/s]\n"
     ]
    }
   ],
   "source": [
    "predictionMin1 = {}\n",
    "predictionMin2 = {}\n",
    "predictionMin3 = {}\n",
    "predictionMin4 = {}\n",
    "\n",
    "for combination, indexList in combinationDict.items():\n",
    "    #Loop through the similarity matrices \n",
    "    for index in SimilarityMatrixIndex.keys():\n",
    "        if index in indexList:\n",
    "            if index == 1: \n",
    "                similarityOne = SimilarityMatrixIndex[1][0]\n",
    "            elif index == 2:\n",
    "                similarityTwo = SimilarityMatrixIndex[2][0]\n",
    "            elif index == 3:\n",
    "                similarityThree = SimilarityMatrixIndex[3][0]\n",
    "            elif index == 4:\n",
    "                similarityFour = SimilarityMatrixIndex[4][0]\n",
    "        else:\n",
    "            if index == 1: \n",
    "                similarityOne = SimilarityMatrixIndex[1][1]\n",
    "            elif index == 2:\n",
    "                similarityTwo = SimilarityMatrixIndex[2][1]\n",
    "            elif index == 3:\n",
    "                similarityThree = SimilarityMatrixIndex[3][1]\n",
    "            elif index == 4:\n",
    "                similarityFour = SimilarityMatrixIndex[4][1]\n",
    "    \n",
    "    #First matrix, explicit user rating matrx\n",
    "    user_item_prediction_score1 = predictUU(rtrain, 90, similarityOne, similarityTwo, similarityThree, similarityFour, chooseWeigthMethod='min', item_similarity_en= False)\n",
    "    user_item_predict1 = prediction(user_item_prediction_score1, 50, rtrain)\n",
    "    user_item_res1 = evaluate(user_item_predict1, rvalid)\n",
    "    \n",
    "    predictionMin1[combination] = user_item_res1.get('MAP@10')[0]\n",
    "    \n",
    "    #Second matrix, scaled explicit user raing matrix \n",
    "    user_item_prediction_score2 = predictUU(rtrain_userAvg, 90, similarityOne, similarityTwo, similarityThree, similarityFour, chooseWeigthMethod='min', item_similarity_en= False)\n",
    "    user_item_predict2 = prediction(user_item_prediction_score2, 50, rtrain_userAvg)\n",
    "    user_item_res2 = evaluate(user_item_predict2, rvalid_userAvg)\n",
    "\n",
    "    predictionMin2[combination] = user_item_res2.get('MAP@10')[0]\n",
    "    \n",
    "    #Third matrix, implicit user-visitng matrix \n",
    "    user_item_prediction_score3 = predictUU(userVisitMatrix, 90, similarityOne, similarityTwo, similarityThree, similarityFour, chooseWeigthMethod='min', item_similarity_en= False)\n",
    "    user_item_predict3 = prediction(user_item_prediction_score3, 50, userVisitMatrix)\n",
    "    user_item_res3 = evaluate(user_item_predict3, rvalid_implicit)\n",
    "            \n",
    "    predictionMin3[combination] = user_item_res3.get('MAP@10')[0]\n",
    "    \n",
    "    #Fourth matrix, Implicit user-rating matrix \n",
    "    user_item_prediction_score4 = predictUU(rtrain_implicit, 90, similarityOne, similarityTwo, similarityThree, similarityFour, chooseWeigthMethod='min', item_similarity_en= False)\n",
    "    user_item_predict4 = prediction(user_item_prediction_score4, 50, rtrain_implicit)\n",
    "    user_item_res4 = evaluate(user_item_predict4, rvalid_implicit)\n",
    "\n",
    "    predictionMin4[combination] = user_item_res4.get('MAP@10')[0]\n",
    "    \n",
    "            \n",
    "\n",
    "    "
   ]
  },
  {
   "cell_type": "code",
   "execution_count": 31,
   "metadata": {},
   "outputs": [
    {
     "data": {
      "image/png": "[encoded data removed]",
      "text/plain": [
       "<Figure size 720x504 with 1 Axes>"
      ]
     },
     "metadata": {
      "needs_background": "light"
     },
     "output_type": "display_data"
    }
   ],
   "source": [
    "listPredictionMin1 = predictionMin1.items() # sorted by key, return a list of tuples\n",
    "listPredictionMin2 = predictionMin2.items()\n",
    "listPredictionMin3 = predictionMin3.items()\n",
    "listPredictionMin4 = predictionMin4.items()\n",
    "\n",
    "x1, y1 = zip(*listPredictionMin1) # unpack a list of pairs into two tuples\n",
    "x2, y2 = zip(*listPredictionMin2)\n",
    "x3, y3 = zip(*listPredictionMin3)\n",
    "x4, y4 = zip(*listPredictionMin4)\n",
    "\n",
    "plt.figure(figsize=(10,7))\n",
    "plt.plot( x1, y1, marker='o',color='green', linewidth=2, label=\"ExplicitUserRating\")\n",
    "plt.plot( x2, y2, marker='o',color='orange', linewidth=2, label=\"ScaledExplicitUserRating\")\n",
    "plt.plot( x3, y3, marker='o',color='blue', linewidth=2, label=\"UserVisting\")\n",
    "plt.plot( x4, y4, marker='o',color='red', linewidth=2, label=\"ImplicitUserRating\")\n",
    "\n",
    "for x, y in zip(x1, y1): \n",
    "    plt.text(x, y, str(y))\n",
    "for x, y in zip(x2, y2): \n",
    "    plt.text(x, y, str(y))\n",
    "for x, y in zip(x3, y3): \n",
    "    plt.text(x, y, str(y))\n",
    "for x, y in zip(x4, y4): \n",
    "    plt.text(x, y, str(y))\n",
    "      \n",
    "plt.title('Min (k=90)')\n",
    "plt.legend()\n",
    "plt.xlabel('Combinations')\n",
    "plt.ylabel('MAP@10')\n",
    "plt.show()"
   ]
  },
  {
   "cell_type": "markdown",
   "metadata": {},
   "source": [
    "### Average"
   ]
  },
  {
   "cell_type": "code",
   "execution_count": 23,
   "metadata": {
    "scrolled": true
   },
   "outputs": [
    {
     "name": "stderr",
     "output_type": "stream",
     "text": [
      "100%|█████████████████████████████████████████████████████████████████████████████| 6085/6085 [00:17<00:00, 356.52it/s]\n",
      "100%|████████████████████████████████████████████████████████████████████████████| 6085/6085 [00:01<00:00, 4351.55it/s]\n",
      "100%|████████████████████████████████████████████████████████████████████████████| 6085/6085 [00:00<00:00, 6822.17it/s]\n",
      "100%|████████████████████████████████████████████████████████████████████████████| 6085/6085 [00:00<00:00, 6771.66it/s]\n",
      "100%|████████████████████████████████████████████████████████████████████████████| 6085/6085 [00:00<00:00, 6896.96it/s]\n",
      "100%|████████████████████████████████████████████████████████████████████████████| 6085/6085 [00:00<00:00, 6972.19it/s]\n",
      "100%|████████████████████████████████████████████████████████████████████████████| 6085/6085 [00:00<00:00, 6536.92it/s]\n",
      "100%|████████████████████████████████████████████████████████████████████████████| 6085/6085 [00:00<00:00, 8972.82it/s]\n",
      "100%|█████████████████████████████████████████████████████████████████████████████| 6085/6085 [00:16<00:00, 367.11it/s]\n",
      "100%|████████████████████████████████████████████████████████████████████████████| 6085/6085 [00:01<00:00, 4366.87it/s]\n",
      "100%|████████████████████████████████████████████████████████████████████████████| 6085/6085 [00:00<00:00, 7015.27it/s]\n",
      "100%|████████████████████████████████████████████████████████████████████████████| 6085/6085 [00:00<00:00, 7111.08it/s]\n",
      "100%|████████████████████████████████████████████████████████████████████████████| 6085/6085 [00:00<00:00, 7007.36it/s]\n",
      "100%|████████████████████████████████████████████████████████████████████████████| 6085/6085 [00:00<00:00, 7094.85it/s]\n",
      "100%|████████████████████████████████████████████████████████████████████████████| 6085/6085 [00:00<00:00, 6976.68it/s]\n",
      "100%|████████████████████████████████████████████████████████████████████████████| 6085/6085 [00:00<00:00, 8818.15it/s]\n",
      "100%|█████████████████████████████████████████████████████████████████████████████| 6085/6085 [00:18<00:00, 324.32it/s]\n",
      "100%|████████████████████████████████████████████████████████████████████████████| 6085/6085 [00:01<00:00, 4437.34it/s]\n",
      "100%|████████████████████████████████████████████████████████████████████████████| 6085/6085 [00:00<00:00, 6809.54it/s]\n",
      "100%|████████████████████████████████████████████████████████████████████████████| 6085/6085 [00:00<00:00, 6800.92it/s]\n",
      "100%|████████████████████████████████████████████████████████████████████████████| 6085/6085 [00:00<00:00, 6996.95it/s]\n",
      "100%|████████████████████████████████████████████████████████████████████████████| 6085/6085 [00:00<00:00, 6532.49it/s]\n",
      "100%|████████████████████████████████████████████████████████████████████████████| 6085/6085 [00:00<00:00, 6719.55it/s]\n",
      "100%|████████████████████████████████████████████████████████████████████████████| 6085/6085 [00:00<00:00, 8860.38it/s]\n",
      "100%|█████████████████████████████████████████████████████████████████████████████| 6085/6085 [00:16<00:00, 366.90it/s]\n",
      "100%|████████████████████████████████████████████████████████████████████████████| 6085/6085 [00:01<00:00, 4476.15it/s]\n",
      "100%|████████████████████████████████████████████████████████████████████████████| 6085/6085 [00:00<00:00, 6924.90it/s]\n",
      "100%|████████████████████████████████████████████████████████████████████████████| 6085/6085 [00:00<00:00, 6941.62it/s]\n",
      "100%|████████████████████████████████████████████████████████████████████████████| 6085/6085 [00:00<00:00, 6800.83it/s]\n",
      "100%|████████████████████████████████████████████████████████████████████████████| 6085/6085 [00:00<00:00, 7091.61it/s]\n",
      "100%|████████████████████████████████████████████████████████████████████████████| 6085/6085 [00:00<00:00, 6925.67it/s]\n",
      "100%|████████████████████████████████████████████████████████████████████████████| 6085/6085 [00:00<00:00, 8949.33it/s]\n",
      "100%|█████████████████████████████████████████████████████████████████████████████| 6085/6085 [00:18<00:00, 336.53it/s]\n",
      "100%|████████████████████████████████████████████████████████████████████████████| 6085/6085 [00:01<00:00, 4256.10it/s]\n",
      "100%|████████████████████████████████████████████████████████████████████████████| 6085/6085 [00:00<00:00, 6887.72it/s]\n",
      "100%|████████████████████████████████████████████████████████████████████████████| 6085/6085 [00:00<00:00, 6882.75it/s]\n",
      "100%|████████████████████████████████████████████████████████████████████████████| 6085/6085 [00:00<00:00, 6767.36it/s]\n",
      "100%|████████████████████████████████████████████████████████████████████████████| 6085/6085 [00:00<00:00, 7011.22it/s]\n",
      "100%|████████████████████████████████████████████████████████████████████████████| 6085/6085 [00:00<00:00, 6887.37it/s]\n",
      "100%|████████████████████████████████████████████████████████████████████████████| 6085/6085 [00:00<00:00, 8291.65it/s]\n",
      "100%|█████████████████████████████████████████████████████████████████████████████| 6085/6085 [00:18<00:00, 326.76it/s]\n",
      "100%|████████████████████████████████████████████████████████████████████████████| 6085/6085 [00:01<00:00, 4448.80it/s]\n",
      "100%|████████████████████████████████████████████████████████████████████████████| 6085/6085 [00:00<00:00, 7144.17it/s]\n",
      "100%|████████████████████████████████████████████████████████████████████████████| 6085/6085 [00:00<00:00, 7252.16it/s]\n",
      "100%|████████████████████████████████████████████████████████████████████████████| 6085/6085 [00:00<00:00, 6891.10it/s]\n",
      "100%|████████████████████████████████████████████████████████████████████████████| 6085/6085 [00:00<00:00, 7280.29it/s]\n",
      "100%|████████████████████████████████████████████████████████████████████████████| 6085/6085 [00:00<00:00, 6946.56it/s]\n",
      "100%|████████████████████████████████████████████████████████████████████████████| 6085/6085 [00:00<00:00, 9191.38it/s]\n",
      "100%|█████████████████████████████████████████████████████████████████████████████| 6085/6085 [00:21<00:00, 283.53it/s]\n",
      "100%|████████████████████████████████████████████████████████████████████████████| 6085/6085 [00:01<00:00, 4342.50it/s]\n",
      "100%|████████████████████████████████████████████████████████████████████████████| 6085/6085 [00:00<00:00, 7136.07it/s]\n",
      "100%|████████████████████████████████████████████████████████████████████████████| 6085/6085 [00:00<00:00, 7094.35it/s]\n",
      "100%|████████████████████████████████████████████████████████████████████████████| 6085/6085 [00:00<00:00, 7094.59it/s]\n",
      "100%|████████████████████████████████████████████████████████████████████████████| 6085/6085 [00:00<00:00, 7161.20it/s]\n",
      "100%|████████████████████████████████████████████████████████████████████████████| 6085/6085 [00:00<00:00, 6870.65it/s]\n",
      "100%|████████████████████████████████████████████████████████████████████████████| 6085/6085 [00:00<00:00, 8958.89it/s]\n",
      "100%|█████████████████████████████████████████████████████████████████████████████| 6085/6085 [00:18<00:00, 322.51it/s]\n",
      "100%|████████████████████████████████████████████████████████████████████████████| 6085/6085 [00:01<00:00, 4526.13it/s]\n",
      "100%|████████████████████████████████████████████████████████████████████████████| 6085/6085 [00:00<00:00, 7037.30it/s]\n",
      "100%|████████████████████████████████████████████████████████████████████████████| 6085/6085 [00:00<00:00, 7004.71it/s]\n",
      "100%|████████████████████████████████████████████████████████████████████████████| 6085/6085 [00:00<00:00, 7069.68it/s]\n",
      "100%|████████████████████████████████████████████████████████████████████████████| 6085/6085 [00:00<00:00, 6972.81it/s]\n",
      "100%|████████████████████████████████████████████████████████████████████████████| 6085/6085 [00:00<00:00, 6816.91it/s]\n",
      "100%|████████████████████████████████████████████████████████████████████████████| 6085/6085 [00:00<00:00, 8943.93it/s]\n",
      "100%|█████████████████████████████████████████████████████████████████████████████| 6085/6085 [00:19<00:00, 314.49it/s]\n",
      "100%|████████████████████████████████████████████████████████████████████████████| 6085/6085 [00:01<00:00, 4443.80it/s]\n",
      "100%|████████████████████████████████████████████████████████████████████████████| 6085/6085 [00:00<00:00, 6901.75it/s]\n",
      "100%|████████████████████████████████████████████████████████████████████████████| 6085/6085 [00:00<00:00, 7144.19it/s]\n",
      "100%|████████████████████████████████████████████████████████████████████████████| 6085/6085 [00:00<00:00, 7045.18it/s]\n",
      "100%|████████████████████████████████████████████████████████████████████████████| 6085/6085 [00:00<00:00, 6980.72it/s]\n",
      "100%|████████████████████████████████████████████████████████████████████████████| 6085/6085 [00:00<00:00, 6886.15it/s]\n",
      "100%|████████████████████████████████████████████████████████████████████████████| 6085/6085 [00:00<00:00, 9174.56it/s]\n",
      "100%|█████████████████████████████████████████████████████████████████████████████| 6085/6085 [00:19<00:00, 317.96it/s]\n",
      "100%|████████████████████████████████████████████████████████████████████████████| 6085/6085 [00:01<00:00, 4499.48it/s]\n",
      "100%|████████████████████████████████████████████████████████████████████████████| 6085/6085 [00:00<00:00, 6933.12it/s]\n",
      "100%|████████████████████████████████████████████████████████████████████████████| 6085/6085 [00:00<00:00, 7280.59it/s]\n",
      "100%|████████████████████████████████████████████████████████████████████████████| 6085/6085 [00:00<00:00, 7102.61it/s]\n",
      "100%|████████████████████████████████████████████████████████████████████████████| 6085/6085 [00:00<00:00, 7211.76it/s]\n",
      "100%|████████████████████████████████████████████████████████████████████████████| 6085/6085 [00:00<00:00, 7110.87it/s]\n",
      "100%|████████████████████████████████████████████████████████████████████████████| 6085/6085 [00:00<00:00, 9328.84it/s]\n",
      "100%|█████████████████████████████████████████████████████████████████████████████| 6085/6085 [00:21<00:00, 279.23it/s]\n",
      "100%|████████████████████████████████████████████████████████████████████████████| 6085/6085 [00:01<00:00, 4420.36it/s]\n",
      "100%|████████████████████████████████████████████████████████████████████████████| 6085/6085 [00:00<00:00, 6949.53it/s]\n",
      "100%|████████████████████████████████████████████████████████████████████████████| 6085/6085 [00:00<00:00, 7010.40it/s]\n",
      "100%|████████████████████████████████████████████████████████████████████████████| 6085/6085 [00:00<00:00, 6802.50it/s]\n",
      "100%|████████████████████████████████████████████████████████████████████████████| 6085/6085 [00:00<00:00, 6771.49it/s]\n",
      "100%|████████████████████████████████████████████████████████████████████████████| 6085/6085 [00:00<00:00, 6863.96it/s]\n",
      "100%|████████████████████████████████████████████████████████████████████████████| 6085/6085 [00:00<00:00, 9236.85it/s]\n",
      "100%|█████████████████████████████████████████████████████████████████████████████| 6085/6085 [00:19<00:00, 315.03it/s]\n",
      "100%|████████████████████████████████████████████████████████████████████████████| 6085/6085 [00:01<00:00, 4482.24it/s]\n",
      "100%|████████████████████████████████████████████████████████████████████████████| 6085/6085 [00:00<00:00, 6673.71it/s]\n",
      "100%|████████████████████████████████████████████████████████████████████████████| 6085/6085 [00:00<00:00, 6986.64it/s]\n",
      "100%|████████████████████████████████████████████████████████████████████████████| 6085/6085 [00:00<00:00, 6845.04it/s]\n",
      "100%|████████████████████████████████████████████████████████████████████████████| 6085/6085 [00:00<00:00, 6817.92it/s]\n",
      "100%|████████████████████████████████████████████████████████████████████████████| 6085/6085 [00:00<00:00, 6953.56it/s]\n",
      "100%|████████████████████████████████████████████████████████████████████████████| 6085/6085 [00:00<00:00, 9184.40it/s]\n",
      "100%|█████████████████████████████████████████████████████████████████████████████| 6085/6085 [00:18<00:00, 322.26it/s]\n",
      "100%|████████████████████████████████████████████████████████████████████████████| 6085/6085 [00:01<00:00, 4317.24it/s]\n",
      "100%|████████████████████████████████████████████████████████████████████████████| 6085/6085 [00:00<00:00, 7167.04it/s]\n",
      "100%|████████████████████████████████████████████████████████████████████████████| 6085/6085 [00:00<00:00, 6743.58it/s]\n",
      "100%|████████████████████████████████████████████████████████████████████████████| 6085/6085 [00:00<00:00, 6986.83it/s]\n",
      "100%|████████████████████████████████████████████████████████████████████████████| 6085/6085 [00:00<00:00, 7081.24it/s]\n",
      "100%|████████████████████████████████████████████████████████████████████████████| 6085/6085 [00:00<00:00, 6422.38it/s]\n",
      "100%|████████████████████████████████████████████████████████████████████████████| 6085/6085 [00:00<00:00, 8534.22it/s]\n",
      "100%|█████████████████████████████████████████████████████████████████████████████| 6085/6085 [00:19<00:00, 312.27it/s]\n",
      "100%|████████████████████████████████████████████████████████████████████████████| 6085/6085 [00:01<00:00, 4176.27it/s]\n",
      "100%|████████████████████████████████████████████████████████████████████████████| 6085/6085 [00:00<00:00, 6517.71it/s]\n",
      "100%|████████████████████████████████████████████████████████████████████████████| 6085/6085 [00:00<00:00, 7215.44it/s]\n",
      "100%|████████████████████████████████████████████████████████████████████████████| 6085/6085 [00:00<00:00, 7277.08it/s]\n",
      "100%|████████████████████████████████████████████████████████████████████████████| 6085/6085 [00:00<00:00, 7264.23it/s]\n",
      "100%|████████████████████████████████████████████████████████████████████████████| 6085/6085 [00:00<00:00, 7181.57it/s]\n",
      "100%|████████████████████████████████████████████████████████████████████████████| 6085/6085 [00:00<00:00, 9372.26it/s]\n",
      "100%|█████████████████████████████████████████████████████████████████████████████| 6085/6085 [00:21<00:00, 286.39it/s]\n",
      "100%|████████████████████████████████████████████████████████████████████████████| 6085/6085 [00:01<00:00, 4354.91it/s]\n",
      "100%|████████████████████████████████████████████████████████████████████████████| 6085/6085 [00:00<00:00, 6792.20it/s]\n",
      "100%|████████████████████████████████████████████████████████████████████████████| 6085/6085 [00:00<00:00, 7012.12it/s]\n",
      "100%|████████████████████████████████████████████████████████████████████████████| 6085/6085 [00:00<00:00, 6851.92it/s]\n",
      "100%|████████████████████████████████████████████████████████████████████████████| 6085/6085 [00:00<00:00, 6833.30it/s]\n",
      "100%|████████████████████████████████████████████████████████████████████████████| 6085/6085 [00:00<00:00, 6667.95it/s]\n",
      "100%|████████████████████████████████████████████████████████████████████████████| 6085/6085 [00:00<00:00, 8656.00it/s]\n",
      "100%|█████████████████████████████████████████████████████████████████████████████| 6085/6085 [00:18<00:00, 324.70it/s]\n",
      "100%|████████████████████████████████████████████████████████████████████████████| 6085/6085 [00:01<00:00, 4447.92it/s]\n",
      "100%|████████████████████████████████████████████████████████████████████████████| 6085/6085 [00:00<00:00, 7220.26it/s]\n",
      "100%|████████████████████████████████████████████████████████████████████████████| 6085/6085 [00:00<00:00, 7254.62it/s]\n",
      "100%|████████████████████████████████████████████████████████████████████████████| 6085/6085 [00:00<00:00, 6886.17it/s]\n",
      "100%|████████████████████████████████████████████████████████████████████████████| 6085/6085 [00:00<00:00, 7136.58it/s]\n",
      "100%|████████████████████████████████████████████████████████████████████████████| 6085/6085 [00:00<00:00, 6656.96it/s]\n",
      "100%|████████████████████████████████████████████████████████████████████████████| 6085/6085 [00:00<00:00, 9035.88it/s]\n",
      "100%|█████████████████████████████████████████████████████████████████████████████| 6085/6085 [00:19<00:00, 314.17it/s]\n",
      "100%|████████████████████████████████████████████████████████████████████████████| 6085/6085 [00:01<00:00, 4376.12it/s]\n",
      "100%|████████████████████████████████████████████████████████████████████████████| 6085/6085 [00:00<00:00, 7186.51it/s]\n",
      "100%|████████████████████████████████████████████████████████████████████████████| 6085/6085 [00:00<00:00, 7198.27it/s]\n",
      "100%|████████████████████████████████████████████████████████████████████████████| 6085/6085 [00:00<00:00, 6863.15it/s]\n",
      "100%|████████████████████████████████████████████████████████████████████████████| 6085/6085 [00:00<00:00, 6996.62it/s]\n",
      "100%|████████████████████████████████████████████████████████████████████████████| 6085/6085 [00:00<00:00, 7024.03it/s]\n",
      "100%|████████████████████████████████████████████████████████████████████████████| 6085/6085 [00:00<00:00, 9174.57it/s]\n"
     ]
    },
    {
     "name": "stderr",
     "output_type": "stream",
     "text": [
      "100%|█████████████████████████████████████████████████████████████████████████████| 6085/6085 [00:19<00:00, 307.11it/s]\n",
      "100%|████████████████████████████████████████████████████████████████████████████| 6085/6085 [00:01<00:00, 4395.20it/s]\n",
      "100%|████████████████████████████████████████████████████████████████████████████| 6085/6085 [00:00<00:00, 7161.18it/s]\n",
      "100%|████████████████████████████████████████████████████████████████████████████| 6085/6085 [00:00<00:00, 7023.53it/s]\n",
      "100%|████████████████████████████████████████████████████████████████████████████| 6085/6085 [00:00<00:00, 7109.64it/s]\n",
      "100%|████████████████████████████████████████████████████████████████████████████| 6085/6085 [00:00<00:00, 7099.25it/s]\n",
      "100%|████████████████████████████████████████████████████████████████████████████| 6085/6085 [00:00<00:00, 6996.96it/s]\n",
      "100%|████████████████████████████████████████████████████████████████████████████| 6085/6085 [00:00<00:00, 9444.80it/s]\n",
      "100%|█████████████████████████████████████████████████████████████████████████████| 6085/6085 [00:22<00:00, 268.51it/s]\n",
      "100%|████████████████████████████████████████████████████████████████████████████| 6085/6085 [00:01<00:00, 4391.49it/s]\n",
      "100%|████████████████████████████████████████████████████████████████████████████| 6085/6085 [00:00<00:00, 7186.42it/s]\n",
      "100%|████████████████████████████████████████████████████████████████████████████| 6085/6085 [00:00<00:00, 6859.24it/s]\n",
      "100%|████████████████████████████████████████████████████████████████████████████| 6085/6085 [00:00<00:00, 7071.35it/s]\n",
      "100%|████████████████████████████████████████████████████████████████████████████| 6085/6085 [00:00<00:00, 6980.72it/s]\n",
      "100%|████████████████████████████████████████████████████████████████████████████| 6085/6085 [00:00<00:00, 6737.43it/s]\n",
      "100%|████████████████████████████████████████████████████████████████████████████| 6085/6085 [00:00<00:00, 8688.69it/s]\n",
      "100%|█████████████████████████████████████████████████████████████████████████████| 6085/6085 [00:19<00:00, 318.74it/s]\n",
      "100%|████████████████████████████████████████████████████████████████████████████| 6085/6085 [00:01<00:00, 4501.96it/s]\n",
      "100%|████████████████████████████████████████████████████████████████████████████| 6085/6085 [00:00<00:00, 7160.36it/s]\n",
      "100%|████████████████████████████████████████████████████████████████████████████| 6085/6085 [00:00<00:00, 6744.91it/s]\n",
      "100%|████████████████████████████████████████████████████████████████████████████| 6085/6085 [00:00<00:00, 7061.57it/s]\n",
      "100%|████████████████████████████████████████████████████████████████████████████| 6085/6085 [00:00<00:00, 7092.59it/s]\n",
      "100%|████████████████████████████████████████████████████████████████████████████| 6085/6085 [00:00<00:00, 6693.71it/s]\n",
      "100%|████████████████████████████████████████████████████████████████████████████| 6085/6085 [00:00<00:00, 9038.78it/s]\n",
      "100%|█████████████████████████████████████████████████████████████████████████████| 6085/6085 [00:20<00:00, 295.02it/s]\n",
      "100%|████████████████████████████████████████████████████████████████████████████| 6085/6085 [00:01<00:00, 4380.88it/s]\n",
      "100%|████████████████████████████████████████████████████████████████████████████| 6085/6085 [00:00<00:00, 7008.35it/s]\n",
      "100%|████████████████████████████████████████████████████████████████████████████| 6085/6085 [00:00<00:00, 7095.59it/s]\n",
      "100%|████████████████████████████████████████████████████████████████████████████| 6085/6085 [00:00<00:00, 7143.11it/s]\n",
      "100%|████████████████████████████████████████████████████████████████████████████| 6085/6085 [00:00<00:00, 7028.14it/s]\n",
      "100%|████████████████████████████████████████████████████████████████████████████| 6085/6085 [00:00<00:00, 6714.77it/s]\n",
      "100%|████████████████████████████████████████████████████████████████████████████| 6085/6085 [00:00<00:00, 8934.83it/s]\n",
      "100%|█████████████████████████████████████████████████████████████████████████████| 6085/6085 [00:21<00:00, 283.45it/s]\n",
      "100%|████████████████████████████████████████████████████████████████████████████| 6085/6085 [00:01<00:00, 4435.51it/s]\n",
      "100%|████████████████████████████████████████████████████████████████████████████| 6085/6085 [00:00<00:00, 7263.19it/s]\n",
      "100%|████████████████████████████████████████████████████████████████████████████| 6085/6085 [00:00<00:00, 7220.25it/s]\n",
      "100%|████████████████████████████████████████████████████████████████████████████| 6085/6085 [00:00<00:00, 7324.28it/s]\n",
      "100%|████████████████████████████████████████████████████████████████████████████| 6085/6085 [00:00<00:00, 7280.59it/s]\n",
      "100%|████████████████████████████████████████████████████████████████████████████| 6085/6085 [00:00<00:00, 6996.72it/s]\n",
      "100%|████████████████████████████████████████████████████████████████████████████| 6085/6085 [00:00<00:00, 9328.87it/s]\n",
      "100%|█████████████████████████████████████████████████████████████████████████████| 6085/6085 [00:23<00:00, 261.02it/s]\n",
      "100%|████████████████████████████████████████████████████████████████████████████| 6085/6085 [00:01<00:00, 4339.41it/s]\n",
      "100%|████████████████████████████████████████████████████████████████████████████| 6085/6085 [00:00<00:00, 7053.58it/s]\n",
      "100%|████████████████████████████████████████████████████████████████████████████| 6085/6085 [00:00<00:00, 7086.10it/s]\n",
      "100%|████████████████████████████████████████████████████████████████████████████| 6085/6085 [00:00<00:00, 7037.07it/s]\n",
      "100%|████████████████████████████████████████████████████████████████████████████| 6085/6085 [00:00<00:00, 7020.88it/s]\n",
      "100%|████████████████████████████████████████████████████████████████████████████| 6085/6085 [00:00<00:00, 6949.14it/s]\n",
      "100%|████████████████████████████████████████████████████████████████████████████| 6085/6085 [00:00<00:00, 9065.49it/s]\n",
      "100%|█████████████████████████████████████████████████████████████████████████████| 6085/6085 [00:20<00:00, 293.90it/s]\n",
      "100%|████████████████████████████████████████████████████████████████████████████| 6085/6085 [00:01<00:00, 4486.29it/s]\n",
      "100%|████████████████████████████████████████████████████████████████████████████| 6085/6085 [00:00<00:00, 6901.96it/s]\n",
      "100%|████████████████████████████████████████████████████████████████████████████| 6085/6085 [00:00<00:00, 7056.44it/s]\n",
      "100%|████████████████████████████████████████████████████████████████████████████| 6085/6085 [00:00<00:00, 7061.89it/s]\n",
      "100%|████████████████████████████████████████████████████████████████████████████| 6085/6085 [00:00<00:00, 6988.97it/s]\n",
      "100%|████████████████████████████████████████████████████████████████████████████| 6085/6085 [00:00<00:00, 6839.85it/s]\n",
      "100%|████████████████████████████████████████████████████████████████████████████| 6085/6085 [00:00<00:00, 9106.08it/s]\n",
      "100%|█████████████████████████████████████████████████████████████████████████████| 6085/6085 [00:20<00:00, 294.71it/s]\n",
      "100%|████████████████████████████████████████████████████████████████████████████| 6085/6085 [00:01<00:00, 4386.29it/s]\n",
      "100%|████████████████████████████████████████████████████████████████████████████| 6085/6085 [00:00<00:00, 6948.90it/s]\n",
      "100%|████████████████████████████████████████████████████████████████████████████| 6085/6085 [00:00<00:00, 7204.80it/s]\n",
      "100%|████████████████████████████████████████████████████████████████████████████| 6085/6085 [00:00<00:00, 7086.11it/s]\n",
      "100%|████████████████████████████████████████████████████████████████████████████| 6085/6085 [00:00<00:00, 7004.70it/s]\n",
      "100%|████████████████████████████████████████████████████████████████████████████| 6085/6085 [00:00<00:00, 6956.82it/s]\n",
      "100%|████████████████████████████████████████████████████████████████████████████| 6085/6085 [00:00<00:00, 9092.49it/s]\n",
      "100%|█████████████████████████████████████████████████████████████████████████████| 6085/6085 [00:19<00:00, 304.75it/s]\n",
      "100%|████████████████████████████████████████████████████████████████████████████| 6085/6085 [00:01<00:00, 4551.62it/s]\n",
      "100%|████████████████████████████████████████████████████████████████████████████| 6085/6085 [00:00<00:00, 7134.87it/s]\n",
      "100%|████████████████████████████████████████████████████████████████████████████| 6085/6085 [00:00<00:00, 7272.07it/s]\n",
      "100%|████████████████████████████████████████████████████████████████████████████| 6085/6085 [00:00<00:00, 7030.85it/s]\n",
      "100%|████████████████████████████████████████████████████████████████████████████| 6085/6085 [00:00<00:00, 7053.44it/s]\n",
      "100%|████████████████████████████████████████████████████████████████████████████| 6085/6085 [00:00<00:00, 7159.48it/s]\n",
      "100%|████████████████████████████████████████████████████████████████████████████| 6085/6085 [00:00<00:00, 9606.62it/s]\n",
      "100%|█████████████████████████████████████████████████████████████████████████████| 6085/6085 [00:21<00:00, 277.93it/s]\n",
      "100%|████████████████████████████████████████████████████████████████████████████| 6085/6085 [00:01<00:00, 4486.13it/s]\n",
      "100%|████████████████████████████████████████████████████████████████████████████| 6085/6085 [00:00<00:00, 7181.24it/s]\n",
      "100%|████████████████████████████████████████████████████████████████████████████| 6085/6085 [00:00<00:00, 7143.81it/s]\n",
      "100%|████████████████████████████████████████████████████████████████████████████| 6085/6085 [00:00<00:00, 6986.58it/s]\n",
      "100%|████████████████████████████████████████████████████████████████████████████| 6085/6085 [00:00<00:00, 7142.60it/s]\n",
      "100%|████████████████████████████████████████████████████████████████████████████| 6085/6085 [00:00<00:00, 7014.22it/s]\n",
      "100%|████████████████████████████████████████████████████████████████████████████| 6085/6085 [00:00<00:00, 8909.80it/s]\n",
      "100%|█████████████████████████████████████████████████████████████████████████████| 6085/6085 [00:20<00:00, 247.66it/s]\n",
      "100%|████████████████████████████████████████████████████████████████████████████| 6085/6085 [00:01<00:00, 4484.84it/s]\n",
      "100%|████████████████████████████████████████████████████████████████████████████| 6085/6085 [00:00<00:00, 7165.72it/s]\n",
      "100%|████████████████████████████████████████████████████████████████████████████| 6085/6085 [00:00<00:00, 7274.56it/s]\n",
      "100%|████████████████████████████████████████████████████████████████████████████| 6085/6085 [00:00<00:00, 7145.09it/s]\n",
      "100%|████████████████████████████████████████████████████████████████████████████| 6085/6085 [00:00<00:00, 7063.36it/s]\n",
      "100%|████████████████████████████████████████████████████████████████████████████| 6085/6085 [00:00<00:00, 7007.15it/s]\n",
      "100%|████████████████████████████████████████████████████████████████████████████| 6085/6085 [00:00<00:00, 9026.68it/s]\n",
      "100%|█████████████████████████████████████████████████████████████████████████████| 6085/6085 [00:20<00:00, 296.76it/s]\n",
      "100%|████████████████████████████████████████████████████████████████████████████| 6085/6085 [00:01<00:00, 4368.00it/s]\n",
      "100%|████████████████████████████████████████████████████████████████████████████| 6085/6085 [00:00<00:00, 7028.65it/s]\n",
      "100%|████████████████████████████████████████████████████████████████████████████| 6085/6085 [00:00<00:00, 7016.33it/s]\n",
      "100%|████████████████████████████████████████████████████████████████████████████| 6085/6085 [00:00<00:00, 7085.72it/s]\n",
      "100%|████████████████████████████████████████████████████████████████████████████| 6085/6085 [00:00<00:00, 6957.18it/s]\n",
      "100%|████████████████████████████████████████████████████████████████████████████| 6085/6085 [00:00<00:00, 6969.96it/s]\n",
      "100%|████████████████████████████████████████████████████████████████████████████| 6085/6085 [00:00<00:00, 9121.00it/s]\n",
      "100%|█████████████████████████████████████████████████████████████████████████████| 6085/6085 [00:20<00:00, 295.89it/s]\n",
      "100%|████████████████████████████████████████████████████████████████████████████| 6085/6085 [00:01<00:00, 4486.49it/s]\n",
      "100%|████████████████████████████████████████████████████████████████████████████| 6085/6085 [00:00<00:00, 7211.79it/s]\n",
      "100%|████████████████████████████████████████████████████████████████████████████| 6085/6085 [00:00<00:00, 7350.24it/s]\n",
      "100%|████████████████████████████████████████████████████████████████████████████| 6085/6085 [00:00<00:00, 7182.72it/s]\n",
      "100%|████████████████████████████████████████████████████████████████████████████| 6085/6085 [00:00<00:00, 7269.60it/s]\n",
      "100%|████████████████████████████████████████████████████████████████████████████| 6085/6085 [00:00<00:00, 7194.23it/s]\n",
      "100%|████████████████████████████████████████████████████████████████████████████| 6085/6085 [00:00<00:00, 9182.49it/s]\n",
      "100%|█████████████████████████████████████████████████████████████████████████████| 6085/6085 [00:22<00:00, 265.90it/s]\n",
      "100%|████████████████████████████████████████████████████████████████████████████| 6085/6085 [00:01<00:00, 4486.52it/s]\n",
      "100%|████████████████████████████████████████████████████████████████████████████| 6085/6085 [00:00<00:00, 7095.22it/s]\n",
      "100%|████████████████████████████████████████████████████████████████████████████| 6085/6085 [00:00<00:00, 7186.22it/s]\n",
      "100%|████████████████████████████████████████████████████████████████████████████| 6085/6085 [00:00<00:00, 7068.92it/s]\n",
      "100%|████████████████████████████████████████████████████████████████████████████| 6085/6085 [00:00<00:00, 7204.07it/s]\n",
      "100%|████████████████████████████████████████████████████████████████████████████| 6085/6085 [00:00<00:00, 6957.23it/s]\n",
      "100%|████████████████████████████████████████████████████████████████████████████| 6085/6085 [00:00<00:00, 9141.43it/s]\n",
      "100%|█████████████████████████████████████████████████████████████████████████████| 6085/6085 [00:20<00:00, 299.36it/s]\n",
      "100%|████████████████████████████████████████████████████████████████████████████| 6085/6085 [00:01<00:00, 4486.63it/s]\n",
      "100%|████████████████████████████████████████████████████████████████████████████| 6085/6085 [00:00<00:00, 7076.19it/s]\n",
      "100%|████████████████████████████████████████████████████████████████████████████| 6085/6085 [00:00<00:00, 7009.60it/s]\n",
      "100%|████████████████████████████████████████████████████████████████████████████| 6085/6085 [00:00<00:00, 7097.04it/s]\n",
      "100%|████████████████████████████████████████████████████████████████████████████| 6085/6085 [00:00<00:00, 7080.26it/s]\n",
      "100%|████████████████████████████████████████████████████████████████████████████| 6085/6085 [00:00<00:00, 7059.17it/s]\n",
      "100%|████████████████████████████████████████████████████████████████████████████| 6085/6085 [00:00<00:00, 9115.67it/s]\n",
      "100%|█████████████████████████████████████████████████████████████████████████████| 6085/6085 [00:20<00:00, 299.92it/s]\n",
      "100%|████████████████████████████████████████████████████████████████████████████| 6085/6085 [00:01<00:00, 4474.43it/s]\n",
      "100%|████████████████████████████████████████████████████████████████████████████| 6085/6085 [00:00<00:00, 7257.25it/s]\n",
      "100%|████████████████████████████████████████████████████████████████████████████| 6085/6085 [00:00<00:00, 7147.04it/s]\n",
      "100%|████████████████████████████████████████████████████████████████████████████| 6085/6085 [00:00<00:00, 7078.30it/s]\n",
      "100%|████████████████████████████████████████████████████████████████████████████| 6085/6085 [00:00<00:00, 6917.40it/s]\n",
      "100%|████████████████████████████████████████████████████████████████████████████| 6085/6085 [00:00<00:00, 6934.49it/s]\n",
      "100%|████████████████████████████████████████████████████████████████████████████| 6085/6085 [00:00<00:00, 8885.69it/s]\n",
      "100%|█████████████████████████████████████████████████████████████████████████████| 6085/6085 [00:20<00:00, 297.32it/s]\n",
      "100%|████████████████████████████████████████████████████████████████████████████| 6085/6085 [00:01<00:00, 4432.05it/s]\n",
      "100%|████████████████████████████████████████████████████████████████████████████| 6085/6085 [00:00<00:00, 7296.55it/s]\n",
      "100%|████████████████████████████████████████████████████████████████████████████| 6085/6085 [00:00<00:00, 7256.54it/s]\n",
      "100%|████████████████████████████████████████████████████████████████████████████| 6085/6085 [00:00<00:00, 7361.09it/s]\n",
      "100%|████████████████████████████████████████████████████████████████████████████| 6085/6085 [00:00<00:00, 7015.38it/s]\n",
      "100%|████████████████████████████████████████████████████████████████████████████| 6085/6085 [00:00<00:00, 7142.58it/s]\n",
      "100%|████████████████████████████████████████████████████████████████████████████| 6085/6085 [00:00<00:00, 9208.61it/s]\n"
     ]
    },
    {
     "name": "stderr",
     "output_type": "stream",
     "text": [
      "100%|█████████████████████████████████████████████████████████████████████████████| 6085/6085 [00:22<00:00, 225.22it/s]\n",
      "100%|████████████████████████████████████████████████████████████████████████████| 6085/6085 [00:01<00:00, 4436.18it/s]\n",
      "100%|████████████████████████████████████████████████████████████████████████████| 6085/6085 [00:00<00:00, 7069.18it/s]\n",
      "100%|████████████████████████████████████████████████████████████████████████████| 6085/6085 [00:00<00:00, 7119.32it/s]\n",
      "100%|████████████████████████████████████████████████████████████████████████████| 6085/6085 [00:00<00:00, 7221.45it/s]\n",
      "100%|████████████████████████████████████████████████████████████████████████████| 6085/6085 [00:00<00:00, 7017.03it/s]\n",
      "100%|████████████████████████████████████████████████████████████████████████████| 6085/6085 [00:00<00:00, 6878.37it/s]\n",
      "100%|████████████████████████████████████████████████████████████████████████████| 6085/6085 [00:00<00:00, 9087.44it/s]\n",
      "100%|█████████████████████████████████████████████████████████████████████████████| 6085/6085 [00:20<00:00, 297.50it/s]\n",
      "100%|████████████████████████████████████████████████████████████████████████████| 6085/6085 [00:01<00:00, 4459.97it/s]\n",
      "100%|████████████████████████████████████████████████████████████████████████████| 6085/6085 [00:00<00:00, 7131.00it/s]\n",
      "100%|████████████████████████████████████████████████████████████████████████████| 6085/6085 [00:00<00:00, 7052.27it/s]\n",
      "100%|████████████████████████████████████████████████████████████████████████████| 6085/6085 [00:00<00:00, 7128.02it/s]\n",
      "100%|████████████████████████████████████████████████████████████████████████████| 6085/6085 [00:00<00:00, 7089.87it/s]\n",
      "100%|████████████████████████████████████████████████████████████████████████████| 6085/6085 [00:00<00:00, 6998.42it/s]\n",
      "100%|████████████████████████████████████████████████████████████████████████████| 6085/6085 [00:00<00:00, 9125.89it/s]\n",
      "100%|█████████████████████████████████████████████████████████████████████████████| 6085/6085 [00:20<00:00, 299.31it/s]\n",
      "100%|████████████████████████████████████████████████████████████████████████████| 6085/6085 [00:01<00:00, 4370.08it/s]\n",
      "100%|████████████████████████████████████████████████████████████████████████████| 6085/6085 [00:00<00:00, 7121.65it/s]\n",
      "100%|████████████████████████████████████████████████████████████████████████████| 6085/6085 [00:00<00:00, 7209.04it/s]\n",
      "100%|████████████████████████████████████████████████████████████████████████████| 6085/6085 [00:00<00:00, 7248.02it/s]\n",
      "100%|████████████████████████████████████████████████████████████████████████████| 6085/6085 [00:00<00:00, 6969.98it/s]\n",
      "100%|████████████████████████████████████████████████████████████████████████████| 6085/6085 [00:00<00:00, 6950.23it/s]\n",
      "100%|████████████████████████████████████████████████████████████████████████████| 6085/6085 [00:00<00:00, 9069.02it/s]\n",
      "100%|█████████████████████████████████████████████████████████████████████████████| 6085/6085 [00:20<00:00, 299.87it/s]\n",
      "100%|████████████████████████████████████████████████████████████████████████████| 6085/6085 [00:01<00:00, 4438.68it/s]\n",
      "100%|████████████████████████████████████████████████████████████████████████████| 6085/6085 [00:00<00:00, 7326.51it/s]\n",
      "100%|████████████████████████████████████████████████████████████████████████████| 6085/6085 [00:00<00:00, 7247.50it/s]\n",
      "100%|████████████████████████████████████████████████████████████████████████████| 6085/6085 [00:00<00:00, 7257.56it/s]\n",
      "100%|████████████████████████████████████████████████████████████████████████████| 6085/6085 [00:00<00:00, 7297.98it/s]\n",
      "100%|████████████████████████████████████████████████████████████████████████████| 6085/6085 [00:00<00:00, 7219.03it/s]\n",
      "100%|████████████████████████████████████████████████████████████████████████████| 6085/6085 [00:00<00:00, 9350.28it/s]\n",
      "100%|█████████████████████████████████████████████████████████████████████████████| 6085/6085 [00:23<00:00, 262.22it/s]\n",
      "100%|████████████████████████████████████████████████████████████████████████████| 6085/6085 [00:01<00:00, 4452.51it/s]\n",
      "100%|████████████████████████████████████████████████████████████████████████████| 6085/6085 [00:00<00:00, 7152.34it/s]\n",
      "100%|████████████████████████████████████████████████████████████████████████████| 6085/6085 [00:00<00:00, 7125.39it/s]\n",
      "100%|████████████████████████████████████████████████████████████████████████████| 6085/6085 [00:00<00:00, 7038.09it/s]\n",
      "100%|████████████████████████████████████████████████████████████████████████████| 6085/6085 [00:00<00:00, 7078.01it/s]\n",
      "100%|████████████████████████████████████████████████████████████████████████████| 6085/6085 [00:00<00:00, 6937.04it/s]\n",
      "100%|████████████████████████████████████████████████████████████████████████████| 6085/6085 [00:00<00:00, 9070.96it/s]\n",
      "100%|█████████████████████████████████████████████████████████████████████████████| 6085/6085 [00:20<00:00, 294.58it/s]\n",
      "100%|████████████████████████████████████████████████████████████████████████████| 6085/6085 [00:01<00:00, 4445.85it/s]\n",
      "100%|████████████████████████████████████████████████████████████████████████████| 6085/6085 [00:00<00:00, 7210.69it/s]\n",
      "100%|████████████████████████████████████████████████████████████████████████████| 6085/6085 [00:00<00:00, 7122.71it/s]\n",
      "100%|████████████████████████████████████████████████████████████████████████████| 6085/6085 [00:00<00:00, 7172.88it/s]\n",
      "100%|████████████████████████████████████████████████████████████████████████████| 6085/6085 [00:00<00:00, 7004.78it/s]\n",
      "100%|████████████████████████████████████████████████████████████████████████████| 6085/6085 [00:00<00:00, 6886.95it/s]\n",
      "100%|████████████████████████████████████████████████████████████████████████████| 6085/6085 [00:00<00:00, 9139.46it/s]\n",
      "100%|█████████████████████████████████████████████████████████████████████████████| 6085/6085 [00:20<00:00, 298.04it/s]\n",
      "100%|████████████████████████████████████████████████████████████████████████████| 6085/6085 [00:01<00:00, 4424.25it/s]\n",
      "100%|████████████████████████████████████████████████████████████████████████████| 6085/6085 [00:00<00:00, 7041.45it/s]\n",
      "100%|████████████████████████████████████████████████████████████████████████████| 6085/6085 [00:00<00:00, 7076.68it/s]\n",
      "100%|████████████████████████████████████████████████████████████████████████████| 6085/6085 [00:00<00:00, 7095.87it/s]\n",
      "100%|████████████████████████████████████████████████████████████████████████████| 6085/6085 [00:00<00:00, 7045.32it/s]\n",
      "100%|████████████████████████████████████████████████████████████████████████████| 6085/6085 [00:00<00:00, 6903.34it/s]\n",
      "100%|████████████████████████████████████████████████████████████████████████████| 6085/6085 [00:00<00:00, 9106.05it/s]\n",
      "100%|█████████████████████████████████████████████████████████████████████████████| 6085/6085 [00:20<00:00, 291.00it/s]\n",
      "100%|████████████████████████████████████████████████████████████████████████████| 6085/6085 [00:01<00:00, 4418.12it/s]\n",
      "100%|████████████████████████████████████████████████████████████████████████████| 6085/6085 [00:00<00:00, 7263.23it/s]\n",
      "100%|████████████████████████████████████████████████████████████████████████████| 6085/6085 [00:00<00:00, 7213.50it/s]\n",
      "100%|████████████████████████████████████████████████████████████████████████████| 6085/6085 [00:00<00:00, 7206.59it/s]\n",
      "100%|████████████████████████████████████████████████████████████████████████████| 6085/6085 [00:00<00:00, 7144.13it/s]\n",
      "100%|████████████████████████████████████████████████████████████████████████████| 6085/6085 [00:00<00:00, 7143.39it/s]\n",
      "100%|████████████████████████████████████████████████████████████████████████████| 6085/6085 [00:00<00:00, 9258.50it/s]\n",
      "100%|█████████████████████████████████████████████████████████████████████████████| 6085/6085 [00:22<00:00, 265.37it/s]\n",
      "100%|████████████████████████████████████████████████████████████████████████████| 6085/6085 [00:01<00:00, 4395.16it/s]\n",
      "100%|████████████████████████████████████████████████████████████████████████████| 6085/6085 [00:00<00:00, 7118.38it/s]\n",
      "100%|████████████████████████████████████████████████████████████████████████████| 6085/6085 [00:00<00:00, 6831.13it/s]\n",
      "100%|████████████████████████████████████████████████████████████████████████████| 6085/6085 [00:00<00:00, 6950.76it/s]\n",
      "100%|████████████████████████████████████████████████████████████████████████████| 6085/6085 [00:00<00:00, 7053.32it/s]\n",
      "100%|████████████████████████████████████████████████████████████████████████████| 6085/6085 [00:00<00:00, 7012.80it/s]\n",
      "100%|████████████████████████████████████████████████████████████████████████████| 6085/6085 [00:00<00:00, 9160.78it/s]\n",
      "100%|█████████████████████████████████████████████████████████████████████████████| 6085/6085 [00:20<00:00, 301.86it/s]\n",
      "100%|████████████████████████████████████████████████████████████████████████████| 6085/6085 [00:01<00:00, 4469.87it/s]\n",
      "100%|████████████████████████████████████████████████████████████████████████████| 6085/6085 [00:00<00:00, 7081.55it/s]\n",
      "100%|████████████████████████████████████████████████████████████████████████████| 6085/6085 [00:00<00:00, 7047.75it/s]\n",
      "100%|████████████████████████████████████████████████████████████████████████████| 6085/6085 [00:00<00:00, 6991.56it/s]\n",
      "100%|████████████████████████████████████████████████████████████████████████████| 6085/6085 [00:00<00:00, 7055.71it/s]\n",
      "100%|████████████████████████████████████████████████████████████████████████████| 6085/6085 [00:00<00:00, 6828.09it/s]\n",
      "100%|████████████████████████████████████████████████████████████████████████████| 6085/6085 [00:00<00:00, 9230.48it/s]\n"
     ]
    }
   ],
   "source": [
    "predictionAvg1 = {}\n",
    "predictionAvg2 = {}\n",
    "predictionAvg3 = {}\n",
    "predictionAvg4 = {}\n",
    "\n",
    "for combination, indexList in combinationDict.items():\n",
    "    #Loop through the similarity matrices \n",
    "    for index in SimilarityMatrixIndex.keys():\n",
    "        if index in indexList:\n",
    "            if index == 1: \n",
    "                similarityOne = SimilarityMatrixIndex[1][0]\n",
    "            elif index == 2:\n",
    "                similarityTwo = SimilarityMatrixIndex[2][0]\n",
    "            elif index == 3:\n",
    "                similarityThree = SimilarityMatrixIndex[3][0]\n",
    "            elif index == 4:\n",
    "                similarityFour = SimilarityMatrixIndex[4][0]\n",
    "        else:\n",
    "            if index == 1: \n",
    "                similarityOne = SimilarityMatrixIndex[1][1]\n",
    "            elif index == 2:\n",
    "                similarityTwo = SimilarityMatrixIndex[2][1]\n",
    "            elif index == 3:\n",
    "                similarityThree = SimilarityMatrixIndex[3][1]\n",
    "            elif index == 4:\n",
    "                similarityFour = SimilarityMatrixIndex[4][1]\n",
    "    \n",
    "    #First matrix, explicit user rating matrx\n",
    "    user_item_prediction_score1 = predictUU(rtrain, 90, similarityOne, similarityTwo, similarityThree, similarityFour, chooseWeigthMethod='average', item_similarity_en= False)\n",
    "    user_item_predict1 = prediction(user_item_prediction_score1, 50, rtrain)\n",
    "    user_item_res1 = evaluate(user_item_predict1, rvalid)\n",
    "    \n",
    "    predictionAvg1[combination] = user_item_res1.get('MAP@10')[0]\n",
    "    \n",
    "    #Second matrix, scaled explicit user raing matrix \n",
    "    user_item_prediction_score2 = predictUU(rtrain_userAvg, 90, similarityOne, similarityTwo, similarityThree, similarityFour, chooseWeigthMethod='average', item_similarity_en= False)\n",
    "    user_item_predict2 = prediction(user_item_prediction_score2, 50, rtrain_userAvg)\n",
    "    user_item_res2 = evaluate(user_item_predict2, rvalid_userAvg)\n",
    "\n",
    "    predictionAvg2[combination] = user_item_res2.get('MAP@10')[0]\n",
    "    \n",
    "    #Third matrix, implicit user-visitng matrix \n",
    "    user_item_prediction_score3 = predictUU(userVisitMatrix, 90, similarityOne, similarityTwo, similarityThree, similarityFour, chooseWeigthMethod='average', item_similarity_en= False)\n",
    "    user_item_predict3 = prediction(user_item_prediction_score3, 50, userVisitMatrix)\n",
    "    user_item_res3 = evaluate(user_item_predict3, rvalid_implicit)\n",
    "            \n",
    "    predictionAvg3[combination] = user_item_res3.get('MAP@10')[0]\n",
    "    \n",
    "    #Fourth matrix, Implicit user-rating matrix \n",
    "    user_item_prediction_score4 = predictUU(rtrain_implicit, 90, similarityOne, similarityTwo, similarityThree, similarityFour, chooseWeigthMethod='average', item_similarity_en= False)\n",
    "    user_item_predict4 = prediction(user_item_prediction_score4, 50, rtrain_implicit)\n",
    "    user_item_res4 = evaluate(user_item_predict4, rvalid_implicit)\n",
    "\n",
    "    predictionAvg4[combination] = user_item_res4.get('MAP@10')[0] "
   ]
  },
  {
   "cell_type": "code",
   "execution_count": 38,
   "metadata": {},
   "outputs": [
    {
     "data": {
      "image/png": "[encoded data removed]",
      "text/plain": [
       "<Figure size 720x576 with 1 Axes>"
      ]
     },
     "metadata": {
      "needs_background": "light"
     },
     "output_type": "display_data"
    }
   ],
   "source": [
    "listPredictionAvg1 = predictionAvg1.items() # sorted by key, return a list of tuples\n",
    "listPredictionAvg2 = predictionAvg2.items()\n",
    "listPredictionAvg3 = predictionAvg3.items()\n",
    "listPredictionAvg4 = predictionAvg4.items()\n",
    "\n",
    "x1, y1 = zip(*listPredictionAvg1) # unpack a list of pairs into two tuples\n",
    "x2, y2 = zip(*listPredictionAvg2)\n",
    "x3, y3 = zip(*listPredictionAvg3)\n",
    "x4, y4 = zip(*listPredictionAvg4)\n",
    "\n",
    "plt.figure(figsize=(10,8))\n",
    "plt.plot( x1, y1, marker='o',color='green', linewidth=2, label=\"ExplicitUserRating\")\n",
    "plt.plot( x2, y2, marker='o',color='orange', linewidth=2, label=\"ScaledExplicitUserRating\")\n",
    "plt.plot( x3, y3, marker='o',color='blue', linewidth=2, label=\"UserVisting\")\n",
    "plt.plot( x4, y4, marker='o',color='red', linewidth=2, label=\"ImplicitUserRating\")\n",
    "\n",
    "for x, y in zip(x1, y1): \n",
    "    plt.text(x, y, str(y))\n",
    "for x, y in zip(x2, y2): \n",
    "    plt.text(x, y, str(y))\n",
    "for x, y in zip(x3, y3): \n",
    "    plt.text(x, y, str(y))\n",
    "for x, y in zip(x4, y4): \n",
    "    plt.text(x, y, str(y))\n",
    "      \n",
    "plt.title('Average (k=90)')\n",
    "plt.legend(bbox_to_anchor=(1, 1),\n",
    "           bbox_transform=plt.gcf().transFigure)\n",
    "plt.xlabel('Combinations')\n",
    "plt.ylabel('MAP@10')\n",
    "plt.show()"
   ]
  },
  {
   "cell_type": "code",
   "execution_count": 42,
   "metadata": {},
   "outputs": [],
   "source": [
    "# def getImplicitMatrix(sparseMatrix, threashold=0):\n",
    "#     temp_matrix = sparse.csr_matrix(sparseMatrix.shape)\n",
    "#     temp_matrix[(sparseMatrix > threashold).nonzero()] = 1\n",
    "#     return temp_matrix\n",
    "\n",
    "# userVisitMatrix = getImplicitMatrix(rtrain)"
   ]
  },
  {
   "cell_type": "code",
   "execution_count": 157,
   "metadata": {},
   "outputs": [
    {
     "name": "stderr",
     "output_type": "stream",
     "text": [
      "100%|█████████████████████████████████████████████████████████████████████████████| 6085/6085 [00:16<00:00, 361.14it/s]\n",
      "100%|████████████████████████████████████████████████████████████████████████████| 6085/6085 [00:01<00:00, 4383.05it/s]\n",
      "100%|████████████████████████████████████████████████████████████████████████████| 6085/6085 [00:00<00:00, 7094.54it/s]\n",
      "100%|████████████████████████████████████████████████████████████████████████████| 6085/6085 [00:00<00:00, 7020.77it/s]\n",
      "100%|████████████████████████████████████████████████████████████████████████████| 6085/6085 [00:00<00:00, 7031.87it/s]\n",
      "100%|████████████████████████████████████████████████████████████████████████████| 6085/6085 [00:00<00:00, 6964.96it/s]\n",
      "100%|████████████████████████████████████████████████████████████████████████████| 6085/6085 [00:00<00:00, 6853.95it/s]\n",
      "100%|████████████████████████████████████████████████████████████████████████████| 6085/6085 [00:00<00:00, 9092.89it/s]\n"
     ]
    }
   ],
   "source": [
    "#UU similarity\n",
    "similarity3 = train(userVisitMatrix)\n",
    "#get a user-item matrix  UI prediction\n",
    "#Predict using UI matrix with ratings in it \n",
    "user_item_prediction_score3 = predict(userVisitMatrix, 90, similarity3, item_similarity_en= False)\n",
    "user_item_predict3 = prediction(user_item_prediction_score3, 50, userVisitMatrix)\n",
    "#Check user item prediction score\n",
    "user_item_res3 = evaluate(user_item_predict3, rvalid)"
   ]
  },
  {
   "cell_type": "code",
   "execution_count": 158,
   "metadata": {},
   "outputs": [
    {
     "data": {
      "text/plain": [
       "{'MAP@5': (0.056, 0.0034),\n",
       " 'MAP@10': (0.0521, 0.0025),\n",
       " 'MAP@15': (0.0493, 0.0021),\n",
       " 'MAP@20': (0.0471, 0.0019),\n",
       " 'MAP@50': (0.0393, 0.0012)}"
      ]
     },
     "execution_count": 158,
     "metadata": {},
     "output_type": "execute_result"
    }
   ],
   "source": [
    "user_item_res3"
   ]
  },
  {
   "cell_type": "code",
   "execution_count": 90,
   "metadata": {},
   "outputs": [
    {
     "data": {
      "text/plain": [
       "array([[4., 0., 0., ..., 0., 0., 0.]], dtype=float32)"
      ]
     },
     "execution_count": 90,
     "metadata": {},
     "output_type": "execute_result"
    }
   ],
   "source": [
    "rtrain[0].toarray()"
   ]
  },
  {
   "cell_type": "code",
   "execution_count": 101,
   "metadata": {},
   "outputs": [
    {
     "name": "stderr",
     "output_type": "stream",
     "text": [
      "\r",
      "  0%|                                                                                            | 0/2 [00:00<?, ?it/s]"
     ]
    },
    {
     "name": "stdout",
     "output_type": "stream",
     "text": [
      "0\n",
      "1\n"
     ]
    },
    {
     "name": "stderr",
     "output_type": "stream",
     "text": [
      "100%|██████████████████████████████████████████████████████████████████████████████████| 2/2 [00:00<00:00, 2006.36it/s]\n"
     ]
    }
   ],
   "source": [
    "for user_index in tqdm(range(2)):\n",
    "    print(user_index)"
   ]
  },
  {
   "cell_type": "code",
   "execution_count": 118,
   "metadata": {},
   "outputs": [
    {
     "data": {
      "text/plain": [
       "(6085, 4000)"
      ]
     },
     "execution_count": 118,
     "metadata": {},
     "output_type": "execute_result"
    }
   ],
   "source": [
    "userVisitMatrix.shape"
   ]
  },
  {
   "cell_type": "code",
   "execution_count": 119,
   "metadata": {},
   "outputs": [
    {
     "data": {
      "text/plain": [
       "(6085, 4000)"
      ]
     },
     "execution_count": 119,
     "metadata": {},
     "output_type": "execute_result"
    }
   ],
   "source": [
    "rtrain.shape"
   ]
  },
  {
   "cell_type": "code",
   "execution_count": 156,
   "metadata": {},
   "outputs": [
    {
     "data": {
      "text/plain": [
       "10"
      ]
     },
     "execution_count": 156,
     "metadata": {},
     "output_type": "execute_result"
    }
   ],
   "source": [
    "max(5,8,9,10)"
   ]
  },
  {
   "cell_type": "code",
   "execution_count": 164,
   "metadata": {},
   "outputs": [
    {
     "data": {
      "text/plain": [
       "1"
      ]
     },
     "execution_count": 164,
     "metadata": {},
     "output_type": "execute_result"
    }
   ],
   "source": [
    "stats.mean([1,1,1,1])"
   ]
  },
  {
   "cell_type": "code",
   "execution_count": 185,
   "metadata": {},
   "outputs": [
    {
     "data": {
      "text/plain": [
       "[10, 5, 9]"
      ]
     },
     "execution_count": 185,
     "metadata": {},
     "output_type": "execute_result"
    }
   ],
   "source": [
    "max([5,10,2], [10,5,9], [2,5,13])"
   ]
  },
  {
   "cell_type": "code",
   "execution_count": 69,
   "metadata": {},
   "outputs": [],
   "source": [
    "a = np.array([[10, 2, 100], [3, 4, 50], [5, 6,40]])"
   ]
  },
  {
   "cell_type": "code",
   "execution_count": 70,
   "metadata": {},
   "outputs": [
    {
     "data": {
      "text/plain": [
       "array([[ 10,   2, 100],\n",
       "       [  3,   4,  50],\n",
       "       [  5,   6,  40]])"
      ]
     },
     "execution_count": 70,
     "metadata": {},
     "output_type": "execute_result"
    }
   ],
   "source": [
    "a"
   ]
  },
  {
   "cell_type": "code",
   "execution_count": 83,
   "metadata": {},
   "outputs": [
    {
     "data": {
      "text/plain": [
       "array([ 6.        ,  4.        , 63.33333333])"
      ]
     },
     "execution_count": 83,
     "metadata": {},
     "output_type": "execute_result"
    }
   ],
   "source": [
    "a.mean(axis=0)"
   ]
  },
  {
   "cell_type": "code",
   "execution_count": 98,
   "metadata": {},
   "outputs": [
    {
     "name": "stdout",
     "output_type": "stream",
     "text": [
      "True\n"
     ]
    }
   ],
   "source": [
    "flag = isinstance([\"10\",\"50\",\"20\"], list)\n",
    "print(flag)"
   ]
  },
  {
   "cell_type": "code",
   "execution_count": 95,
   "metadata": {},
   "outputs": [
    {
     "data": {
      "text/plain": [
       "list"
      ]
     },
     "execution_count": 95,
     "metadata": {},
     "output_type": "execute_result"
    }
   ],
   "source": [
    "type([10,50,20])"
   ]
  },
  {
   "cell_type": "code",
   "execution_count": 99,
   "metadata": {},
   "outputs": [
    {
     "data": {
      "text/plain": [
       "array([[ 10,   2, 100],\n",
       "       [  3,   4,  50],\n",
       "       [  5,   6,  40]])"
      ]
     },
     "execution_count": 99,
     "metadata": {},
     "output_type": "execute_result"
    }
   ],
   "source": [
    "a"
   ]
  },
  {
   "cell_type": "code",
   "execution_count": 100,
   "metadata": {},
   "outputs": [],
   "source": [
    "b = [3,4,2]"
   ]
  },
  {
   "cell_type": "code",
   "execution_count": 103,
   "metadata": {},
   "outputs": [
    {
     "data": {
      "text/plain": [
       "list"
      ]
     },
     "execution_count": 103,
     "metadata": {},
     "output_type": "execute_result"
    }
   ],
   "source": [
    "type(b)"
   ]
  },
  {
   "cell_type": "code",
   "execution_count": 106,
   "metadata": {},
   "outputs": [
    {
     "data": {
      "text/plain": [
       "array([ 54,  48, 380])"
      ]
     },
     "execution_count": 106,
     "metadata": {},
     "output_type": "execute_result"
    }
   ],
   "source": [
    "(a * b).sum(axis=0)"
   ]
  },
  {
   "cell_type": "code",
   "execution_count": 107,
   "metadata": {},
   "outputs": [
    {
     "data": {
      "text/plain": [
       "array([[ 30,   8, 200],\n",
       "       [  9,  16, 100],\n",
       "       [ 15,  24,  80]])"
      ]
     },
     "execution_count": 107,
     "metadata": {},
     "output_type": "execute_result"
    }
   ],
   "source": [
    "a * b"
   ]
  },
  {
   "cell_type": "code",
   "execution_count": 120,
   "metadata": {},
   "outputs": [
    {
     "data": {
      "text/plain": [
       "(3, 1)"
      ]
     },
     "execution_count": 120,
     "metadata": {},
     "output_type": "execute_result"
    }
   ],
   "source": []
  },
  {
   "cell_type": "code",
   "execution_count": null,
   "metadata": {},
   "outputs": [],
   "source": []
  }
 ],
 "metadata": {
  "kernelspec": {
   "display_name": "Python 3",
   "language": "python",
   "name": "python3"
  },
  "language_info": {
   "codemirror_mode": {
    "name": "ipython",
    "version": 3
   },
   "file_extension": ".py",
   "mimetype": "text/x-python",
   "name": "python",
   "nbconvert_exporter": "python",
   "pygments_lexer": "ipython3",
   "version": "3.7.3"
  }
 },
 "nbformat": 4,
 "nbformat_minor": 2
}
