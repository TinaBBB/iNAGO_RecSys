{
 "cells": [
  {
   "cell_type": "code",
   "execution_count": 1,
   "metadata": {},
   "outputs": [],
   "source": [
    "import json\n",
    "from requests import get, post, put"
   ]
  },
  {
   "cell_type": "code",
   "execution_count": 2,
   "metadata": {},
   "outputs": [],
   "source": [
    "#Test Get Request\n",
    "def getRequest (url):\n",
    "    #URL = \"http://127.0.0.1:5002/business\"\n",
    "    r = get(url=url)\n",
    "    dataRetrieved = r.json()\n",
    "    return dataRetrieved\n",
    "\n",
    "#Test Post Request\n",
    "def postRequest (url):\n",
    "    #url = 'http://127.0.0.1:5002/business'\n",
    "    retrieve = post(url, json={'data':'remember'}).json()\n",
    "    #Should retrieve json object\n",
    "    return retrieve\n",
    "\n",
    "def putRequst (url, inputJson):\n",
    "    retrieve = put(url, json=inputJson).json()\n",
    "    return retrieve"
   ]
  },
  {
   "cell_type": "code",
   "execution_count": null,
   "metadata": {},
   "outputs": [],
   "source": []
  },
  {
   "cell_type": "code",
   "execution_count": 3,
   "metadata": {},
   "outputs": [
    {
     "name": "stdout",
     "output_type": "stream",
     "text": [
      "{'business_id': '1076', 'name': 'Taverna Mercatto', 'cuisine': 'Italian', 'price': '$$', 'rating': '4.0', 'distance': '1.7km', 'addText': ''}\n"
     ]
    }
   ],
   "source": [
    "currentRecommendation = getRequest('http://127.0.0.1:5002/business')\n",
    "print(currentRecommendation)"
   ]
  },
  {
   "cell_type": "code",
   "execution_count": 5,
   "metadata": {},
   "outputs": [],
   "source": [
    "#Just a sample\n",
    "categoryList = ['Custom Cakes',\n",
    " 'American (Traditional)', 'Food Court','Mexican','Italian','Food Tours','Wine Bars',\n",
    " 'Imported Food','Food Delivery Services','Seafood','Brewpubs','Community Service/Non-Profit','Tea Rooms',\n",
    " 'Caribbean','Fast Food','Shopping Centers','Gluten-Free','Tapas/Small Plates','Bangladeshi','Food Stands','Wine & Spirits',\n",
    " 'Salvadoran','Champagne Bars','Pan Asian','Personal Chefs','Internet Cafes','Macarons','Taiwanese','Strip Clubs','Desserts',\n",
    " 'Arts & Entertainment','Nicaraguan','Korean','Himalayan/Nepalese','Dinner Theater',\n",
    " 'Japanese','Breakfast & Brunch','Performing Arts','Chinese','Southern','Tours','Waffles','Halal','Polish','Austrian','Kebab','Scottish','Cinema','South African',\n",
    " 'Supper Clubs',\n",
    " 'Sushi Bars','Bistros','Meat Shops','Musical Instruments & Teachers','Burgers','Malaysian','Cideries','Turkish',\n",
    " 'Arcades','Afghan','Cheese Shops',\n",
    " 'Cambodian','Indonesian','Bed & Breakfast','Golf','Festivals','Pakistani','Indian','Ramen',\n",
    " 'Cantonese','Wineries','Chicken Shop','Pizza','Hakka','Mediterranean','Persian/Iranian','Ethiopian','Shaved Snow',\n",
    " 'Specialty Schools','Caterers','Salad','Middle Eastern','Sandwiches','Specialty Food','Butcher','Cheesesteaks','Venezuelan',\n",
    " 'Cannabis Clinics',\n",
    " 'Shopping','Wedding Planning','Poke','Jazz & Blues','Irish Pub','Creperies','Vietnamese','Patisserie/Cake Shop',\n",
    " 'Dive Bars',\n",
    " 'Dance Clubs','Tobacco Shops','Pets','Art Galleries','Vegetarian','Chocolatiers & Shops','Coffee & Tea','French','Sri Lankan']"
   ]
  },
  {
   "cell_type": "markdown",
   "metadata": {},
   "source": [
    "## Take in critique value, this step mimics the request sent by fulfillment"
   ]
  },
  {
   "cell_type": "code",
   "execution_count": 47,
   "metadata": {},
   "outputs": [
    {
     "name": "stdout",
     "output_type": "stream",
     "text": [
      "\n",
      "????????????????\n",
      "You Like? ('yes', 'no') no\n",
      "What feature to critique: (name, cuisine, price, rating, distance)distance\n",
      "Positive or negative: negative\n",
      "????????????????\n",
      "\n",
      "constructed json: {'feature': 'distance', 'positiveOrNegative': 'negative'}\n",
      "Stop?stop\n",
      "BYE :)\n"
     ]
    }
   ],
   "source": [
    "#Construct the critiquing dictionary \n",
    "#categories\n",
    "#restaurant -> boolean value, anything another than none should be taken\n",
    "#price\n",
    "#rating\n",
    "#distance\n",
    "#keywords\n",
    "#critiqueValue\n",
    "#positiveOrNegative\n",
    "\n",
    "while True:\n",
    "    satisfied = 'None'\n",
    "    feature = 'None'\n",
    "    positiveOrNegative = 'None'\n",
    "    critiqueValue = 'None'\n",
    "    critiqueDict = {}\n",
    "    \n",
    "    #currentRecommendation = getRequest('http://127.0.0.1:5002/business')\n",
    "    #print('currentRecommendation:', currentRecommendation)\n",
    "    \n",
    "    #currentCuisineType = currentRecommendation['cuisine']\n",
    "    #print('Recommending...')\n",
    "    #displayRestaurantInfo(recommendIndex, current_user_item_predict,df,ID_dictionary)\n",
    "    \n",
    "    #Current recommendation cuisine type \n",
    "    #currentCuisineType = df[df['business_num_id'] == current_user_item_predict[recommendIndex]]\\\n",
    "    #                                                    .categories.unique()[0].split(', ')\n",
    "    #currentPriceLabel = IP_dictionary[current_user_item_predict[recommendIndex]]\n",
    "    #currentRating = IS_dictionary[current_user_item_predict[recommendIndex]]\n",
    "    #currentDistance = ID_dictionary[current_user_item_predict[recommendIndex]]\n",
    "    \n",
    "    #First testing cuisine type\n",
    "    print('\\n????????????????')\n",
    "    \n",
    "    while satisfied.lower() not in ['yes', 'no', 'stop']: \n",
    "        satisfied = input(\"You Like? ('yes', 'no') \").strip().lower()\n",
    "    \n",
    "    if satisfied == 'stop' or satisfied == 'yes':\n",
    "        print('BYE :)')\n",
    "        break\n",
    "        \n",
    "    #When satisfied is NO, take in feature\n",
    "    while feature.lower() not in ['name', 'cuisine', 'price', 'distance', 'rating', 'stop']: \n",
    "        feature = input(\"What feature to critique: (name, cuisine, price, rating, distance)\").strip().lower()\n",
    "    \n",
    "    if feature == 'stop':\n",
    "        break\n",
    "        \n",
    "    #Add value into dictionary \n",
    "    critiqueDict['feature'] = feature\n",
    "    \n",
    "    #Take in Positive or nagative \n",
    "    if feature != 'name':\n",
    "        while positiveOrNegative.lower() not in ['positive', 'negative', 'stop']:\n",
    "            positiveOrNegative = input(\"Positive or negative: \").strip().lower()\n",
    "    \n",
    "    if positiveOrNegative == 'stop':\n",
    "        break\n",
    "    \n",
    "    #Add value into dictionary \n",
    "    critiqueDict['positiveOrNegative'] = positiveOrNegative\n",
    "    \n",
    "    #Only ask for critique value when not critiquing restaurant name, or not negatively critiquing price \n",
    "    if feature != 'name' and not(feature == 'price' and positiveOrNegative == 'negative')\\\n",
    "    and not(feature == 'distance' and positiveOrNegative == 'negative'):\n",
    "    #and not(feature == 'rating' and positiveOrNegative == 'negative')\\\n",
    "     \n",
    "        #The valid values to be critiuqed that can pass in \n",
    "        validCritiqueValueList = []\n",
    "        #negatively critique current cuisine type, should only enter current cruisine type\n",
    "        if 'cuisine' in feature and 'negative' in positiveOrNegative:\n",
    "            validCritiqueValueList = currentCuisineType.lower().split(',') + ['stop']\n",
    "            outPutString = '(' + currentCuisineType +')'\n",
    "        elif 'cuisine' in feature and 'positive' in positiveOrNegative:\n",
    "            validCritiqueValueList = [cat.strip().lower() for cat in categoryList] + ['stop']\n",
    "            #categories = list(set(IC_dictionary.keys())) + ['stop']\n",
    "            outPutString = '(chinese, fast food,indian, ramen...)'\n",
    "        #Can only enter cheapter or more expensive\n",
    "        elif 'price' in feature:\n",
    "            validCritiqueValueList = ['cheaper', 'more expensive','stop']\n",
    "            outPutString = '(cheaper, more expensive)'\n",
    "        elif 'rating' in feature:\n",
    "            validCritiqueValueList = [str(star/10) for star in range(0,51,1)] + ['stop']\n",
    "            outPutString = '(0 ~ 5.0 with 0.1 increment)'\n",
    "        #positively critique distance\n",
    "        elif 'distance' in feature:\n",
    "            validCritiqueDis = [str(i/10) for i in range(0,int((maxDistance+0.5)*10),5)][1:] \n",
    "            validCritiqueValueList = ['closer', 'further'] + validCritiqueDis + ['stop']\n",
    "            outPutString = '(closer, further, or distance in range 0.5 ~' + str(maxDistance) + 'in every 0.5km)' \n",
    "        #Prompt to ask critique value\n",
    "        while critiqueValue not in validCritiqueValueList:\n",
    "            critiqueValue = input(\"Critique value: \" + outPutString).strip().lower()\n",
    "        \n",
    "        if critiqueValue == 'stop':\n",
    "            break\n",
    "            \n",
    "        #Add value into dictionary \n",
    "        critiqueDict['critiqueValue'] = critiqueValue\n",
    "            \n",
    "    print('????????????????\\n')\n",
    "    print('constructed json:', critiqueDict)\n",
    "    \n",
    "    stopOrNot = input(\"Stop?\").strip().lower()\n",
    "    \n",
    "    if stopOrNot == 'stop' or satisfied == 'yes':\n",
    "        print('BYE :)')\n",
    "        break\n",
    "    #At the end, send out the post request"
   ]
  },
  {
   "cell_type": "code",
   "execution_count": 27,
   "metadata": {
    "scrolled": true
   },
   "outputs": [
    {
     "data": {
      "text/plain": [
       "{'feature': 'price', 'positiveOrNegative': 'negative'}"
      ]
     },
     "execution_count": 27,
     "metadata": {},
     "output_type": "execute_result"
    }
   ],
   "source": [
    "critiqueDict"
   ]
  },
  {
   "cell_type": "code",
   "execution_count": 39,
   "metadata": {},
   "outputs": [],
   "source": [
    "from time import sleep"
   ]
  },
  {
   "cell_type": "code",
   "execution_count": 44,
   "metadata": {},
   "outputs": [
    {
     "name": "stdout",
     "output_type": "stream",
     "text": [
      "<class 'requests.exceptions.ConnectionError'>\n",
      "HTTPConnectionPool(host='127.0.0.', port=80): Max retries exceeded with url: /1:5003/business (Caused by NewConnectionError('<urllib3.connection.HTTPConnection object at 0x000001E406F07E10>: Failed to establish a new connection: [Errno 11001] getaddrinfo failed'))\n"
     ]
    }
   ],
   "source": [
    "try:\n",
    "    retrieve = put('http://127.0.0./1:5003/business', json=critiqueDict).json()\n",
    "    print(retrieve)\n",
    "    \n",
    "except Exception as e:\n",
    "    print(type(e))\n",
    "    print(e)"
   ]
  },
  {
   "cell_type": "code",
   "execution_count": 43,
   "metadata": {},
   "outputs": [],
   "source": [
    "# import requests\n",
    "# from requests.adapters import HTTPAdapter\n",
    "# from requests.packages.urllib3.util.retry import Retry\n",
    "\n",
    "# session = requests.Session()\n",
    "# retry = Retry(connect=3, backoff_factor=0.5)\n",
    "# adapter = HTTPAdapter(max_retries=retry)\n",
    "# session.mount('http://', adapter)\n",
    "# session.mount('https://', adapter)\n",
    "\n",
    "# retrieve = session.put('http://127.0.0./1:5003/business', json=critiqueDict).json()\n",
    "# print(retrieve)"
   ]
  },
  {
   "cell_type": "code",
   "execution_count": 37,
   "metadata": {},
   "outputs": [
    {
     "name": "stdout",
     "output_type": "stream",
     "text": [
      "<class 'requests.exceptions.ConnectionError'>\n",
      "HTTPConnectionPool(host='127.0.0.', port=80): Max retries exceeded with url: /1:5003/business (Caused by NewConnectionError('<urllib3.connection.HTTPConnection object at 0x000001E406ED6DA0>: Failed to establish a new connection: [Errno 11001] getaddrinfo failed'))\n"
     ]
    }
   ],
   "source": [
    "try:\n",
    "    retrieve = put('http://127.0.0./1:5003/business', json=critiqueDict).json()\n",
    "    print(retrieve)\n",
    "    \n",
    "except Exception as e:\n",
    "    print(type(e))\n",
    "    print(e)"
   ]
  },
  {
   "cell_type": "code",
   "execution_count": 8,
   "metadata": {},
   "outputs": [
    {
     "data": {
      "text/plain": [
       "{'message': 'Internal Server Error'}"
      ]
     },
     "execution_count": 8,
     "metadata": {},
     "output_type": "execute_result"
    }
   ],
   "source": [
    "postRequest('http://127.0.0.1:5002/business')"
   ]
  },
  {
   "cell_type": "code",
   "execution_count": 6,
   "metadata": {},
   "outputs": [],
   "source": [
    "#POST request\n",
    "# URL = \"http://127.0.0.1:5002/business\"\n",
    "# data = json.dumps({'ok': 'okok'})\n",
    "# r = post(url=URL, data = data)\n",
    "# dataRetrieved = r.text"
   ]
  },
  {
   "cell_type": "code",
   "execution_count": 12,
   "metadata": {},
   "outputs": [],
   "source": [
    "# url = 'http://127.0.0.1:5002/business'\n",
    "# myobj = {'somekey': 'somevalue'}\n",
    "# okk = Request(url, urlencode(myobj).encode())\n",
    "# x = urlopen(okk).read().decode()\n",
    "\n",
    "# print(x)"
   ]
  },
  {
   "cell_type": "code",
   "execution_count": 40,
   "metadata": {},
   "outputs": [
    {
     "name": "stdout",
     "output_type": "stream",
     "text": [
      "{\n",
      "  \"args\": {}, \n",
      "  \"data\": \"\", \n",
      "  \"files\": {}, \n",
      "  \"form\": {\n",
      "    \"foo\": \"bar\"\n",
      "  }, \n",
      "  \"headers\": {\n",
      "    \"Accept-Encoding\": \"identity\", \n",
      "    \"Content-Length\": \"7\", \n",
      "    \"Content-Type\": \"application/x-www-form-urlencoded\", \n",
      "    \"Host\": \"httpbin.org\", \n",
      "    \"User-Agent\": \"Python-urllib/3.7\"\n",
      "  }, \n",
      "  \"json\": null, \n",
      "  \"origin\": \"142.1.71.146, 142.1.71.146\", \n",
      "  \"url\": \"https://httpbin.org/post\"\n",
      "}\n",
      "\n"
     ]
    }
   ],
   "source": [
    "from urllib.parse import urlencode\n",
    "from urllib.request import Request, urlopen\n",
    "\n",
    "url = 'https://httpbin.org/post' # Set destination URL here\n",
    "post_fields = {'foo': 'bar'}     # Set POST fields here\n",
    "\n",
    "request = Request(url, urlencode(post_fields).encode())\n",
    "json = urlopen(request).read().decode()\n",
    "print(json)"
   ]
  },
  {
   "cell_type": "code",
   "execution_count": 1,
   "metadata": {},
   "outputs": [],
   "source": [
    "def detect_intent_texts(project_id, session_id, texts, language_code):\n",
    "    \"\"\"Returns the result of detect intent with texts as inputs.\n",
    "\n",
    "    Using the same `session_id` between requests allows continuation\n",
    "    of the conversation.\"\"\"\n",
    "    import dialogflow_v2 as dialogflow\n",
    "    session_client = dialogflow.SessionsClient()\n",
    "\n",
    "    session = session_client.session_path(project_id, session_id)\n",
    "    print('Session path: {}\\n'.format(session))\n",
    "\n",
    "    for text in texts:\n",
    "        text_input = dialogflow.types.TextInput(\n",
    "            text=text, language_code=language_code)\n",
    "\n",
    "        query_input = dialogflow.types.QueryInput(text=text_input)\n",
    "\n",
    "        response = session_client.detect_intent(\n",
    "            session=session, query_input=query_input)\n",
    "\n",
    "        print('=' * 20)\n",
    "        print('Query text: {}'.format(response.query_result.query_text))\n",
    "        print('Detected intent: {} (confidence: {})\\n'.format(\n",
    "            response.query_result.intent.display_name,\n",
    "            response.query_result.intent_detection_confidence))\n",
    "        print('Fulfillment text: {}\\n'.format(\n",
    "            response.query_result.fulfillment_text))"
   ]
  },
  {
   "cell_type": "code",
   "execution_count": null,
   "metadata": {},
   "outputs": [],
   "source": [
    "detect_intent_texts()"
   ]
  }
 ],
 "metadata": {
  "kernelspec": {
   "display_name": "Python 3",
   "language": "python",
   "name": "python3"
  },
  "language_info": {
   "codemirror_mode": {
    "name": "ipython",
    "version": 3
   },
   "file_extension": ".py",
   "mimetype": "text/x-python",
   "name": "python",
   "nbconvert_exporter": "python",
   "pygments_lexer": "ipython3",
   "version": "3.7.3"
  }
 },
 "nbformat": 4,
 "nbformat_minor": 2
}
