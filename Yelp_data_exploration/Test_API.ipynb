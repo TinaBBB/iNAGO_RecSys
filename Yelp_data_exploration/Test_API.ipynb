{
 "cells": [
  {
   "cell_type": "code",
   "execution_count": 1,
   "metadata": {},
   "outputs": [],
   "source": [
    "import json\n",
    "from requests import get, post, put"
   ]
  },
  {
   "cell_type": "code",
   "execution_count": 2,
   "metadata": {},
   "outputs": [],
   "source": [
    "#Test Get Request\n",
    "def getRequest (url):\n",
    "    #URL = \"http://127.0.0.1:5002/business\"\n",
    "    r = get(url=url)\n",
    "    dataRetrieved = r.json()\n",
    "    return dataRetrieved\n",
    "\n",
    "#Test Post Request\n",
    "def postRequest (url):\n",
    "    #url = 'http://127.0.0.1:5002/business'\n",
    "    retrieve = post(url, json={'data':'remember'}).json()\n",
    "    #Should retrieve json object\n",
    "    return retrieve\n",
    "\n",
    "def putRequst (url, inputJson):\n",
    "    retrieve = put(url, json=inputJson).json()\n",
    "    return retrieve"
   ]
  },
  {
   "cell_type": "code",
   "execution_count": 27,
   "metadata": {},
   "outputs": [
    {
     "name": "stdout",
     "output_type": "stream",
     "text": [
      "{'business_id': '241', 'name': 'Woodlot Restaurant', 'cuisine': 'Vegetarian, Canadian (New), Comfort Food', 'price': '$$$', 'rating': '4.0', 'distance': '1.3km', 'addText': ''}\n"
     ]
    }
   ],
   "source": [
    "currentRecommendation = getRequest('http://127.0.0.1:5002/business')\n",
    "print(currentRecommendation)"
   ]
  },
  {
   "cell_type": "code",
   "execution_count": null,
   "metadata": {},
   "outputs": [],
   "source": [
    "#Just a sample\n",
    "categoryList = ['Custom Cakes',\n",
    " 'American (Traditional)', 'Food Court','Mexican','Italian','Food Tours','Wine Bars',\n",
    " 'Imported Food','Food Delivery Services','Seafood','Brewpubs','Community Service/Non-Profit','Tea Rooms',\n",
    " 'Caribbean','Fast Food','Shopping Centers','Gluten-Free','Tapas/Small Plates','Bangladeshi','Food Stands','Wine & Spirits',\n",
    " 'Salvadoran','Champagne Bars','Pan Asian','Personal Chefs','Internet Cafes','Macarons','Taiwanese','Strip Clubs','Desserts',\n",
    " 'Arts & Entertainment','Nicaraguan','Korean','Himalayan/Nepalese','Dinner Theater',\n",
    " 'Japanese','Breakfast & Brunch','Performing Arts','Chinese','Southern','Tours','Waffles','Halal','Polish','Austrian','Kebab','Scottish','Cinema','South African',\n",
    " 'Supper Clubs',\n",
    " 'Sushi Bars','Bistros','Meat Shops','Musical Instruments & Teachers','Burgers','Malaysian','Cideries','Turkish',\n",
    " 'Arcades','Afghan','Cheese Shops',\n",
    " 'Cambodian','Indonesian','Bed & Breakfast','Golf','Festivals','Pakistani','Indian','Ramen',\n",
    " 'Cantonese','Wineries','Chicken Shop','Pizza','Hakka','Mediterranean','Persian/Iranian','Ethiopian','Shaved Snow',\n",
    " 'Specialty Schools','Caterers','Salad','Middle Eastern','Sandwiches','Specialty Food','Butcher','Cheesesteaks','Venezuelan',\n",
    " 'Cannabis Clinics',\n",
    " 'Shopping','Wedding Planning','Poke','Jazz & Blues','Irish Pub','Creperies','Vietnamese','Patisserie/Cake Shop',\n",
    " 'Dive Bars',\n",
    " 'Dance Clubs','Tobacco Shops','Pets','Art Galleries','Vegetarian','Chocolatiers & Shops','Coffee & Tea','French','Sri Lankan']"
   ]
  },
  {
   "cell_type": "markdown",
   "metadata": {},
   "source": [
    "## Take in critique value, this step mimics the request sent by fulfillment critique_API_V1"
   ]
  },
  {
   "cell_type": "code",
   "execution_count": 4,
   "metadata": {},
   "outputs": [
    {
     "ename": "ConnectionError",
     "evalue": "HTTPConnectionPool(host='127.0.0.1', port=5002): Max retries exceeded with url: /business (Caused by NewConnectionError('<urllib3.connection.HTTPConnection object at 0x00000182590D47F0>: Failed to establish a new connection: [WinError 10061] No connection could be made because the target machine actively refused it'))",
     "output_type": "error",
     "traceback": [
      "\u001b[1;31m---------------------------------------------------------------------------\u001b[0m",
      "\u001b[1;31mConnectionRefusedError\u001b[0m                    Traceback (most recent call last)",
      "\u001b[1;32mC:\\ProgramData\\Anaconda3\\lib\\site-packages\\urllib3\\connection.py\u001b[0m in \u001b[0;36m_new_conn\u001b[1;34m(self)\u001b[0m\n\u001b[0;32m    158\u001b[0m             conn = connection.create_connection(\n\u001b[1;32m--> 159\u001b[1;33m                 (self._dns_host, self.port), self.timeout, **extra_kw)\n\u001b[0m\u001b[0;32m    160\u001b[0m \u001b[1;33m\u001b[0m\u001b[0m\n",
      "\u001b[1;32mC:\\ProgramData\\Anaconda3\\lib\\site-packages\\urllib3\\util\\connection.py\u001b[0m in \u001b[0;36mcreate_connection\u001b[1;34m(address, timeout, source_address, socket_options)\u001b[0m\n\u001b[0;32m     79\u001b[0m     \u001b[1;32mif\u001b[0m \u001b[0merr\u001b[0m \u001b[1;32mis\u001b[0m \u001b[1;32mnot\u001b[0m \u001b[1;32mNone\u001b[0m\u001b[1;33m:\u001b[0m\u001b[1;33m\u001b[0m\u001b[1;33m\u001b[0m\u001b[0m\n\u001b[1;32m---> 80\u001b[1;33m         \u001b[1;32mraise\u001b[0m \u001b[0merr\u001b[0m\u001b[1;33m\u001b[0m\u001b[1;33m\u001b[0m\u001b[0m\n\u001b[0m\u001b[0;32m     81\u001b[0m \u001b[1;33m\u001b[0m\u001b[0m\n",
      "\u001b[1;32mC:\\ProgramData\\Anaconda3\\lib\\site-packages\\urllib3\\util\\connection.py\u001b[0m in \u001b[0;36mcreate_connection\u001b[1;34m(address, timeout, source_address, socket_options)\u001b[0m\n\u001b[0;32m     69\u001b[0m                 \u001b[0msock\u001b[0m\u001b[1;33m.\u001b[0m\u001b[0mbind\u001b[0m\u001b[1;33m(\u001b[0m\u001b[0msource_address\u001b[0m\u001b[1;33m)\u001b[0m\u001b[1;33m\u001b[0m\u001b[1;33m\u001b[0m\u001b[0m\n\u001b[1;32m---> 70\u001b[1;33m             \u001b[0msock\u001b[0m\u001b[1;33m.\u001b[0m\u001b[0mconnect\u001b[0m\u001b[1;33m(\u001b[0m\u001b[0msa\u001b[0m\u001b[1;33m)\u001b[0m\u001b[1;33m\u001b[0m\u001b[1;33m\u001b[0m\u001b[0m\n\u001b[0m\u001b[0;32m     71\u001b[0m             \u001b[1;32mreturn\u001b[0m \u001b[0msock\u001b[0m\u001b[1;33m\u001b[0m\u001b[1;33m\u001b[0m\u001b[0m\n",
      "\u001b[1;31mConnectionRefusedError\u001b[0m: [WinError 10061] No connection could be made because the target machine actively refused it",
      "\nDuring handling of the above exception, another exception occurred:\n",
      "\u001b[1;31mNewConnectionError\u001b[0m                        Traceback (most recent call last)",
      "\u001b[1;32mC:\\ProgramData\\Anaconda3\\lib\\site-packages\\urllib3\\connectionpool.py\u001b[0m in \u001b[0;36murlopen\u001b[1;34m(self, method, url, body, headers, retries, redirect, assert_same_host, timeout, pool_timeout, release_conn, chunked, body_pos, **response_kw)\u001b[0m\n\u001b[0;32m    599\u001b[0m                                                   \u001b[0mbody\u001b[0m\u001b[1;33m=\u001b[0m\u001b[0mbody\u001b[0m\u001b[1;33m,\u001b[0m \u001b[0mheaders\u001b[0m\u001b[1;33m=\u001b[0m\u001b[0mheaders\u001b[0m\u001b[1;33m,\u001b[0m\u001b[1;33m\u001b[0m\u001b[1;33m\u001b[0m\u001b[0m\n\u001b[1;32m--> 600\u001b[1;33m                                                   chunked=chunked)\n\u001b[0m\u001b[0;32m    601\u001b[0m \u001b[1;33m\u001b[0m\u001b[0m\n",
      "\u001b[1;32mC:\\ProgramData\\Anaconda3\\lib\\site-packages\\urllib3\\connectionpool.py\u001b[0m in \u001b[0;36m_make_request\u001b[1;34m(self, conn, method, url, timeout, chunked, **httplib_request_kw)\u001b[0m\n\u001b[0;32m    353\u001b[0m         \u001b[1;32melse\u001b[0m\u001b[1;33m:\u001b[0m\u001b[1;33m\u001b[0m\u001b[1;33m\u001b[0m\u001b[0m\n\u001b[1;32m--> 354\u001b[1;33m             \u001b[0mconn\u001b[0m\u001b[1;33m.\u001b[0m\u001b[0mrequest\u001b[0m\u001b[1;33m(\u001b[0m\u001b[0mmethod\u001b[0m\u001b[1;33m,\u001b[0m \u001b[0murl\u001b[0m\u001b[1;33m,\u001b[0m \u001b[1;33m**\u001b[0m\u001b[0mhttplib_request_kw\u001b[0m\u001b[1;33m)\u001b[0m\u001b[1;33m\u001b[0m\u001b[1;33m\u001b[0m\u001b[0m\n\u001b[0m\u001b[0;32m    355\u001b[0m \u001b[1;33m\u001b[0m\u001b[0m\n",
      "\u001b[1;32mC:\\ProgramData\\Anaconda3\\lib\\http\\client.py\u001b[0m in \u001b[0;36mrequest\u001b[1;34m(self, method, url, body, headers, encode_chunked)\u001b[0m\n\u001b[0;32m   1228\u001b[0m         \u001b[1;34m\"\"\"Send a complete request to the server.\"\"\"\u001b[0m\u001b[1;33m\u001b[0m\u001b[1;33m\u001b[0m\u001b[0m\n\u001b[1;32m-> 1229\u001b[1;33m         \u001b[0mself\u001b[0m\u001b[1;33m.\u001b[0m\u001b[0m_send_request\u001b[0m\u001b[1;33m(\u001b[0m\u001b[0mmethod\u001b[0m\u001b[1;33m,\u001b[0m \u001b[0murl\u001b[0m\u001b[1;33m,\u001b[0m \u001b[0mbody\u001b[0m\u001b[1;33m,\u001b[0m \u001b[0mheaders\u001b[0m\u001b[1;33m,\u001b[0m \u001b[0mencode_chunked\u001b[0m\u001b[1;33m)\u001b[0m\u001b[1;33m\u001b[0m\u001b[1;33m\u001b[0m\u001b[0m\n\u001b[0m\u001b[0;32m   1230\u001b[0m \u001b[1;33m\u001b[0m\u001b[0m\n",
      "\u001b[1;32mC:\\ProgramData\\Anaconda3\\lib\\http\\client.py\u001b[0m in \u001b[0;36m_send_request\u001b[1;34m(self, method, url, body, headers, encode_chunked)\u001b[0m\n\u001b[0;32m   1274\u001b[0m             \u001b[0mbody\u001b[0m \u001b[1;33m=\u001b[0m \u001b[0m_encode\u001b[0m\u001b[1;33m(\u001b[0m\u001b[0mbody\u001b[0m\u001b[1;33m,\u001b[0m \u001b[1;34m'body'\u001b[0m\u001b[1;33m)\u001b[0m\u001b[1;33m\u001b[0m\u001b[1;33m\u001b[0m\u001b[0m\n\u001b[1;32m-> 1275\u001b[1;33m         \u001b[0mself\u001b[0m\u001b[1;33m.\u001b[0m\u001b[0mendheaders\u001b[0m\u001b[1;33m(\u001b[0m\u001b[0mbody\u001b[0m\u001b[1;33m,\u001b[0m \u001b[0mencode_chunked\u001b[0m\u001b[1;33m=\u001b[0m\u001b[0mencode_chunked\u001b[0m\u001b[1;33m)\u001b[0m\u001b[1;33m\u001b[0m\u001b[1;33m\u001b[0m\u001b[0m\n\u001b[0m\u001b[0;32m   1276\u001b[0m \u001b[1;33m\u001b[0m\u001b[0m\n",
      "\u001b[1;32mC:\\ProgramData\\Anaconda3\\lib\\http\\client.py\u001b[0m in \u001b[0;36mendheaders\u001b[1;34m(self, message_body, encode_chunked)\u001b[0m\n\u001b[0;32m   1223\u001b[0m             \u001b[1;32mraise\u001b[0m \u001b[0mCannotSendHeader\u001b[0m\u001b[1;33m(\u001b[0m\u001b[1;33m)\u001b[0m\u001b[1;33m\u001b[0m\u001b[1;33m\u001b[0m\u001b[0m\n\u001b[1;32m-> 1224\u001b[1;33m         \u001b[0mself\u001b[0m\u001b[1;33m.\u001b[0m\u001b[0m_send_output\u001b[0m\u001b[1;33m(\u001b[0m\u001b[0mmessage_body\u001b[0m\u001b[1;33m,\u001b[0m \u001b[0mencode_chunked\u001b[0m\u001b[1;33m=\u001b[0m\u001b[0mencode_chunked\u001b[0m\u001b[1;33m)\u001b[0m\u001b[1;33m\u001b[0m\u001b[1;33m\u001b[0m\u001b[0m\n\u001b[0m\u001b[0;32m   1225\u001b[0m \u001b[1;33m\u001b[0m\u001b[0m\n",
      "\u001b[1;32mC:\\ProgramData\\Anaconda3\\lib\\http\\client.py\u001b[0m in \u001b[0;36m_send_output\u001b[1;34m(self, message_body, encode_chunked)\u001b[0m\n\u001b[0;32m   1015\u001b[0m         \u001b[1;32mdel\u001b[0m \u001b[0mself\u001b[0m\u001b[1;33m.\u001b[0m\u001b[0m_buffer\u001b[0m\u001b[1;33m[\u001b[0m\u001b[1;33m:\u001b[0m\u001b[1;33m]\u001b[0m\u001b[1;33m\u001b[0m\u001b[1;33m\u001b[0m\u001b[0m\n\u001b[1;32m-> 1016\u001b[1;33m         \u001b[0mself\u001b[0m\u001b[1;33m.\u001b[0m\u001b[0msend\u001b[0m\u001b[1;33m(\u001b[0m\u001b[0mmsg\u001b[0m\u001b[1;33m)\u001b[0m\u001b[1;33m\u001b[0m\u001b[1;33m\u001b[0m\u001b[0m\n\u001b[0m\u001b[0;32m   1017\u001b[0m \u001b[1;33m\u001b[0m\u001b[0m\n",
      "\u001b[1;32mC:\\ProgramData\\Anaconda3\\lib\\http\\client.py\u001b[0m in \u001b[0;36msend\u001b[1;34m(self, data)\u001b[0m\n\u001b[0;32m    955\u001b[0m             \u001b[1;32mif\u001b[0m \u001b[0mself\u001b[0m\u001b[1;33m.\u001b[0m\u001b[0mauto_open\u001b[0m\u001b[1;33m:\u001b[0m\u001b[1;33m\u001b[0m\u001b[1;33m\u001b[0m\u001b[0m\n\u001b[1;32m--> 956\u001b[1;33m                 \u001b[0mself\u001b[0m\u001b[1;33m.\u001b[0m\u001b[0mconnect\u001b[0m\u001b[1;33m(\u001b[0m\u001b[1;33m)\u001b[0m\u001b[1;33m\u001b[0m\u001b[1;33m\u001b[0m\u001b[0m\n\u001b[0m\u001b[0;32m    957\u001b[0m             \u001b[1;32melse\u001b[0m\u001b[1;33m:\u001b[0m\u001b[1;33m\u001b[0m\u001b[1;33m\u001b[0m\u001b[0m\n",
      "\u001b[1;32mC:\\ProgramData\\Anaconda3\\lib\\site-packages\\urllib3\\connection.py\u001b[0m in \u001b[0;36mconnect\u001b[1;34m(self)\u001b[0m\n\u001b[0;32m    180\u001b[0m     \u001b[1;32mdef\u001b[0m \u001b[0mconnect\u001b[0m\u001b[1;33m(\u001b[0m\u001b[0mself\u001b[0m\u001b[1;33m)\u001b[0m\u001b[1;33m:\u001b[0m\u001b[1;33m\u001b[0m\u001b[1;33m\u001b[0m\u001b[0m\n\u001b[1;32m--> 181\u001b[1;33m         \u001b[0mconn\u001b[0m \u001b[1;33m=\u001b[0m \u001b[0mself\u001b[0m\u001b[1;33m.\u001b[0m\u001b[0m_new_conn\u001b[0m\u001b[1;33m(\u001b[0m\u001b[1;33m)\u001b[0m\u001b[1;33m\u001b[0m\u001b[1;33m\u001b[0m\u001b[0m\n\u001b[0m\u001b[0;32m    182\u001b[0m         \u001b[0mself\u001b[0m\u001b[1;33m.\u001b[0m\u001b[0m_prepare_conn\u001b[0m\u001b[1;33m(\u001b[0m\u001b[0mconn\u001b[0m\u001b[1;33m)\u001b[0m\u001b[1;33m\u001b[0m\u001b[1;33m\u001b[0m\u001b[0m\n",
      "\u001b[1;32mC:\\ProgramData\\Anaconda3\\lib\\site-packages\\urllib3\\connection.py\u001b[0m in \u001b[0;36m_new_conn\u001b[1;34m(self)\u001b[0m\n\u001b[0;32m    167\u001b[0m             raise NewConnectionError(\n\u001b[1;32m--> 168\u001b[1;33m                 self, \"Failed to establish a new connection: %s\" % e)\n\u001b[0m\u001b[0;32m    169\u001b[0m \u001b[1;33m\u001b[0m\u001b[0m\n",
      "\u001b[1;31mNewConnectionError\u001b[0m: <urllib3.connection.HTTPConnection object at 0x00000182590D47F0>: Failed to establish a new connection: [WinError 10061] No connection could be made because the target machine actively refused it",
      "\nDuring handling of the above exception, another exception occurred:\n",
      "\u001b[1;31mMaxRetryError\u001b[0m                             Traceback (most recent call last)",
      "\u001b[1;32mC:\\ProgramData\\Anaconda3\\lib\\site-packages\\requests\\adapters.py\u001b[0m in \u001b[0;36msend\u001b[1;34m(self, request, stream, timeout, verify, cert, proxies)\u001b[0m\n\u001b[0;32m    448\u001b[0m                     \u001b[0mretries\u001b[0m\u001b[1;33m=\u001b[0m\u001b[0mself\u001b[0m\u001b[1;33m.\u001b[0m\u001b[0mmax_retries\u001b[0m\u001b[1;33m,\u001b[0m\u001b[1;33m\u001b[0m\u001b[1;33m\u001b[0m\u001b[0m\n\u001b[1;32m--> 449\u001b[1;33m                     \u001b[0mtimeout\u001b[0m\u001b[1;33m=\u001b[0m\u001b[0mtimeout\u001b[0m\u001b[1;33m\u001b[0m\u001b[1;33m\u001b[0m\u001b[0m\n\u001b[0m\u001b[0;32m    450\u001b[0m                 )\n",
      "\u001b[1;32mC:\\ProgramData\\Anaconda3\\lib\\site-packages\\urllib3\\connectionpool.py\u001b[0m in \u001b[0;36murlopen\u001b[1;34m(self, method, url, body, headers, retries, redirect, assert_same_host, timeout, pool_timeout, release_conn, chunked, body_pos, **response_kw)\u001b[0m\n\u001b[0;32m    637\u001b[0m             retries = retries.increment(method, url, error=e, _pool=self,\n\u001b[1;32m--> 638\u001b[1;33m                                         _stacktrace=sys.exc_info()[2])\n\u001b[0m\u001b[0;32m    639\u001b[0m             \u001b[0mretries\u001b[0m\u001b[1;33m.\u001b[0m\u001b[0msleep\u001b[0m\u001b[1;33m(\u001b[0m\u001b[1;33m)\u001b[0m\u001b[1;33m\u001b[0m\u001b[1;33m\u001b[0m\u001b[0m\n",
      "\u001b[1;32mC:\\ProgramData\\Anaconda3\\lib\\site-packages\\urllib3\\util\\retry.py\u001b[0m in \u001b[0;36mincrement\u001b[1;34m(self, method, url, response, error, _pool, _stacktrace)\u001b[0m\n\u001b[0;32m    397\u001b[0m         \u001b[1;32mif\u001b[0m \u001b[0mnew_retry\u001b[0m\u001b[1;33m.\u001b[0m\u001b[0mis_exhausted\u001b[0m\u001b[1;33m(\u001b[0m\u001b[1;33m)\u001b[0m\u001b[1;33m:\u001b[0m\u001b[1;33m\u001b[0m\u001b[1;33m\u001b[0m\u001b[0m\n\u001b[1;32m--> 398\u001b[1;33m             \u001b[1;32mraise\u001b[0m \u001b[0mMaxRetryError\u001b[0m\u001b[1;33m(\u001b[0m\u001b[0m_pool\u001b[0m\u001b[1;33m,\u001b[0m \u001b[0murl\u001b[0m\u001b[1;33m,\u001b[0m \u001b[0merror\u001b[0m \u001b[1;32mor\u001b[0m \u001b[0mResponseError\u001b[0m\u001b[1;33m(\u001b[0m\u001b[0mcause\u001b[0m\u001b[1;33m)\u001b[0m\u001b[1;33m)\u001b[0m\u001b[1;33m\u001b[0m\u001b[1;33m\u001b[0m\u001b[0m\n\u001b[0m\u001b[0;32m    399\u001b[0m \u001b[1;33m\u001b[0m\u001b[0m\n",
      "\u001b[1;31mMaxRetryError\u001b[0m: HTTPConnectionPool(host='127.0.0.1', port=5002): Max retries exceeded with url: /business (Caused by NewConnectionError('<urllib3.connection.HTTPConnection object at 0x00000182590D47F0>: Failed to establish a new connection: [WinError 10061] No connection could be made because the target machine actively refused it'))",
      "\nDuring handling of the above exception, another exception occurred:\n",
      "\u001b[1;31mConnectionError\u001b[0m                           Traceback (most recent call last)",
      "\u001b[1;32m<ipython-input-4-cf01f6c80e56>\u001b[0m in \u001b[0;36m<module>\u001b[1;34m\u001b[0m\n\u001b[0;32m     17\u001b[0m     \u001b[0mcritiqueDict\u001b[0m \u001b[1;33m=\u001b[0m \u001b[1;33m{\u001b[0m\u001b[1;33m}\u001b[0m\u001b[1;33m\u001b[0m\u001b[1;33m\u001b[0m\u001b[0m\n\u001b[0;32m     18\u001b[0m \u001b[1;33m\u001b[0m\u001b[0m\n\u001b[1;32m---> 19\u001b[1;33m     \u001b[0mcurrentRecommendation\u001b[0m \u001b[1;33m=\u001b[0m \u001b[0mgetRequest\u001b[0m\u001b[1;33m(\u001b[0m\u001b[1;34m'http://127.0.0.1:5002/business'\u001b[0m\u001b[1;33m)\u001b[0m\u001b[1;33m\u001b[0m\u001b[1;33m\u001b[0m\u001b[0m\n\u001b[0m\u001b[0;32m     20\u001b[0m     \u001b[0mprint\u001b[0m\u001b[1;33m(\u001b[0m\u001b[1;34m'currentRecommendation:'\u001b[0m\u001b[1;33m,\u001b[0m \u001b[0mcurrentRecommendation\u001b[0m\u001b[1;33m)\u001b[0m\u001b[1;33m\u001b[0m\u001b[1;33m\u001b[0m\u001b[0m\n\u001b[0;32m     21\u001b[0m \u001b[1;33m\u001b[0m\u001b[0m\n",
      "\u001b[1;32m<ipython-input-2-e1859451efb0>\u001b[0m in \u001b[0;36mgetRequest\u001b[1;34m(url)\u001b[0m\n\u001b[0;32m      2\u001b[0m \u001b[1;32mdef\u001b[0m \u001b[0mgetRequest\u001b[0m \u001b[1;33m(\u001b[0m\u001b[0murl\u001b[0m\u001b[1;33m)\u001b[0m\u001b[1;33m:\u001b[0m\u001b[1;33m\u001b[0m\u001b[1;33m\u001b[0m\u001b[0m\n\u001b[0;32m      3\u001b[0m     \u001b[1;31m#URL = \"http://127.0.0.1:5002/business\"\u001b[0m\u001b[1;33m\u001b[0m\u001b[1;33m\u001b[0m\u001b[1;33m\u001b[0m\u001b[0m\n\u001b[1;32m----> 4\u001b[1;33m     \u001b[0mr\u001b[0m \u001b[1;33m=\u001b[0m \u001b[0mget\u001b[0m\u001b[1;33m(\u001b[0m\u001b[0murl\u001b[0m\u001b[1;33m=\u001b[0m\u001b[0murl\u001b[0m\u001b[1;33m)\u001b[0m\u001b[1;33m\u001b[0m\u001b[1;33m\u001b[0m\u001b[0m\n\u001b[0m\u001b[0;32m      5\u001b[0m     \u001b[0mdataRetrieved\u001b[0m \u001b[1;33m=\u001b[0m \u001b[0mr\u001b[0m\u001b[1;33m.\u001b[0m\u001b[0mjson\u001b[0m\u001b[1;33m(\u001b[0m\u001b[1;33m)\u001b[0m\u001b[1;33m\u001b[0m\u001b[1;33m\u001b[0m\u001b[0m\n\u001b[0;32m      6\u001b[0m     \u001b[1;32mreturn\u001b[0m \u001b[0mdataRetrieved\u001b[0m\u001b[1;33m\u001b[0m\u001b[1;33m\u001b[0m\u001b[0m\n",
      "\u001b[1;32mC:\\ProgramData\\Anaconda3\\lib\\site-packages\\requests\\api.py\u001b[0m in \u001b[0;36mget\u001b[1;34m(url, params, **kwargs)\u001b[0m\n\u001b[0;32m     73\u001b[0m \u001b[1;33m\u001b[0m\u001b[0m\n\u001b[0;32m     74\u001b[0m     \u001b[0mkwargs\u001b[0m\u001b[1;33m.\u001b[0m\u001b[0msetdefault\u001b[0m\u001b[1;33m(\u001b[0m\u001b[1;34m'allow_redirects'\u001b[0m\u001b[1;33m,\u001b[0m \u001b[1;32mTrue\u001b[0m\u001b[1;33m)\u001b[0m\u001b[1;33m\u001b[0m\u001b[1;33m\u001b[0m\u001b[0m\n\u001b[1;32m---> 75\u001b[1;33m     \u001b[1;32mreturn\u001b[0m \u001b[0mrequest\u001b[0m\u001b[1;33m(\u001b[0m\u001b[1;34m'get'\u001b[0m\u001b[1;33m,\u001b[0m \u001b[0murl\u001b[0m\u001b[1;33m,\u001b[0m \u001b[0mparams\u001b[0m\u001b[1;33m=\u001b[0m\u001b[0mparams\u001b[0m\u001b[1;33m,\u001b[0m \u001b[1;33m**\u001b[0m\u001b[0mkwargs\u001b[0m\u001b[1;33m)\u001b[0m\u001b[1;33m\u001b[0m\u001b[1;33m\u001b[0m\u001b[0m\n\u001b[0m\u001b[0;32m     76\u001b[0m \u001b[1;33m\u001b[0m\u001b[0m\n\u001b[0;32m     77\u001b[0m \u001b[1;33m\u001b[0m\u001b[0m\n",
      "\u001b[1;32mC:\\ProgramData\\Anaconda3\\lib\\site-packages\\requests\\api.py\u001b[0m in \u001b[0;36mrequest\u001b[1;34m(method, url, **kwargs)\u001b[0m\n\u001b[0;32m     58\u001b[0m     \u001b[1;31m# cases, and look like a memory leak in others.\u001b[0m\u001b[1;33m\u001b[0m\u001b[1;33m\u001b[0m\u001b[1;33m\u001b[0m\u001b[0m\n\u001b[0;32m     59\u001b[0m     \u001b[1;32mwith\u001b[0m \u001b[0msessions\u001b[0m\u001b[1;33m.\u001b[0m\u001b[0mSession\u001b[0m\u001b[1;33m(\u001b[0m\u001b[1;33m)\u001b[0m \u001b[1;32mas\u001b[0m \u001b[0msession\u001b[0m\u001b[1;33m:\u001b[0m\u001b[1;33m\u001b[0m\u001b[1;33m\u001b[0m\u001b[0m\n\u001b[1;32m---> 60\u001b[1;33m         \u001b[1;32mreturn\u001b[0m \u001b[0msession\u001b[0m\u001b[1;33m.\u001b[0m\u001b[0mrequest\u001b[0m\u001b[1;33m(\u001b[0m\u001b[0mmethod\u001b[0m\u001b[1;33m=\u001b[0m\u001b[0mmethod\u001b[0m\u001b[1;33m,\u001b[0m \u001b[0murl\u001b[0m\u001b[1;33m=\u001b[0m\u001b[0murl\u001b[0m\u001b[1;33m,\u001b[0m \u001b[1;33m**\u001b[0m\u001b[0mkwargs\u001b[0m\u001b[1;33m)\u001b[0m\u001b[1;33m\u001b[0m\u001b[1;33m\u001b[0m\u001b[0m\n\u001b[0m\u001b[0;32m     61\u001b[0m \u001b[1;33m\u001b[0m\u001b[0m\n\u001b[0;32m     62\u001b[0m \u001b[1;33m\u001b[0m\u001b[0m\n",
      "\u001b[1;32mC:\\ProgramData\\Anaconda3\\lib\\site-packages\\requests\\sessions.py\u001b[0m in \u001b[0;36mrequest\u001b[1;34m(self, method, url, params, data, headers, cookies, files, auth, timeout, allow_redirects, proxies, hooks, stream, verify, cert, json)\u001b[0m\n\u001b[0;32m    531\u001b[0m         }\n\u001b[0;32m    532\u001b[0m         \u001b[0msend_kwargs\u001b[0m\u001b[1;33m.\u001b[0m\u001b[0mupdate\u001b[0m\u001b[1;33m(\u001b[0m\u001b[0msettings\u001b[0m\u001b[1;33m)\u001b[0m\u001b[1;33m\u001b[0m\u001b[1;33m\u001b[0m\u001b[0m\n\u001b[1;32m--> 533\u001b[1;33m         \u001b[0mresp\u001b[0m \u001b[1;33m=\u001b[0m \u001b[0mself\u001b[0m\u001b[1;33m.\u001b[0m\u001b[0msend\u001b[0m\u001b[1;33m(\u001b[0m\u001b[0mprep\u001b[0m\u001b[1;33m,\u001b[0m \u001b[1;33m**\u001b[0m\u001b[0msend_kwargs\u001b[0m\u001b[1;33m)\u001b[0m\u001b[1;33m\u001b[0m\u001b[1;33m\u001b[0m\u001b[0m\n\u001b[0m\u001b[0;32m    534\u001b[0m \u001b[1;33m\u001b[0m\u001b[0m\n\u001b[0;32m    535\u001b[0m         \u001b[1;32mreturn\u001b[0m \u001b[0mresp\u001b[0m\u001b[1;33m\u001b[0m\u001b[1;33m\u001b[0m\u001b[0m\n",
      "\u001b[1;32mC:\\ProgramData\\Anaconda3\\lib\\site-packages\\requests\\sessions.py\u001b[0m in \u001b[0;36msend\u001b[1;34m(self, request, **kwargs)\u001b[0m\n\u001b[0;32m    644\u001b[0m \u001b[1;33m\u001b[0m\u001b[0m\n\u001b[0;32m    645\u001b[0m         \u001b[1;31m# Send the request\u001b[0m\u001b[1;33m\u001b[0m\u001b[1;33m\u001b[0m\u001b[1;33m\u001b[0m\u001b[0m\n\u001b[1;32m--> 646\u001b[1;33m         \u001b[0mr\u001b[0m \u001b[1;33m=\u001b[0m \u001b[0madapter\u001b[0m\u001b[1;33m.\u001b[0m\u001b[0msend\u001b[0m\u001b[1;33m(\u001b[0m\u001b[0mrequest\u001b[0m\u001b[1;33m,\u001b[0m \u001b[1;33m**\u001b[0m\u001b[0mkwargs\u001b[0m\u001b[1;33m)\u001b[0m\u001b[1;33m\u001b[0m\u001b[1;33m\u001b[0m\u001b[0m\n\u001b[0m\u001b[0;32m    647\u001b[0m \u001b[1;33m\u001b[0m\u001b[0m\n\u001b[0;32m    648\u001b[0m         \u001b[1;31m# Total elapsed time of the request (approximately)\u001b[0m\u001b[1;33m\u001b[0m\u001b[1;33m\u001b[0m\u001b[1;33m\u001b[0m\u001b[0m\n",
      "\u001b[1;32mC:\\ProgramData\\Anaconda3\\lib\\site-packages\\requests\\adapters.py\u001b[0m in \u001b[0;36msend\u001b[1;34m(self, request, stream, timeout, verify, cert, proxies)\u001b[0m\n\u001b[0;32m    514\u001b[0m                 \u001b[1;32mraise\u001b[0m \u001b[0mSSLError\u001b[0m\u001b[1;33m(\u001b[0m\u001b[0me\u001b[0m\u001b[1;33m,\u001b[0m \u001b[0mrequest\u001b[0m\u001b[1;33m=\u001b[0m\u001b[0mrequest\u001b[0m\u001b[1;33m)\u001b[0m\u001b[1;33m\u001b[0m\u001b[1;33m\u001b[0m\u001b[0m\n\u001b[0;32m    515\u001b[0m \u001b[1;33m\u001b[0m\u001b[0m\n\u001b[1;32m--> 516\u001b[1;33m             \u001b[1;32mraise\u001b[0m \u001b[0mConnectionError\u001b[0m\u001b[1;33m(\u001b[0m\u001b[0me\u001b[0m\u001b[1;33m,\u001b[0m \u001b[0mrequest\u001b[0m\u001b[1;33m=\u001b[0m\u001b[0mrequest\u001b[0m\u001b[1;33m)\u001b[0m\u001b[1;33m\u001b[0m\u001b[1;33m\u001b[0m\u001b[0m\n\u001b[0m\u001b[0;32m    517\u001b[0m \u001b[1;33m\u001b[0m\u001b[0m\n\u001b[0;32m    518\u001b[0m         \u001b[1;32mexcept\u001b[0m \u001b[0mClosedPoolError\u001b[0m \u001b[1;32mas\u001b[0m \u001b[0me\u001b[0m\u001b[1;33m:\u001b[0m\u001b[1;33m\u001b[0m\u001b[1;33m\u001b[0m\u001b[0m\n",
      "\u001b[1;31mConnectionError\u001b[0m: HTTPConnectionPool(host='127.0.0.1', port=5002): Max retries exceeded with url: /business (Caused by NewConnectionError('<urllib3.connection.HTTPConnection object at 0x00000182590D47F0>: Failed to establish a new connection: [WinError 10061] No connection could be made because the target machine actively refused it'))"
     ]
    }
   ],
   "source": [
    "#Construct the critiquing dictionary \n",
    "#categories\n",
    "#restaurant -> boolean value, anything another than none should be taken\n",
    "#price\n",
    "#rating\n",
    "#distance\n",
    "#keywords\n",
    "#critiqueValue\n",
    "#positiveOrNegative\n",
    "\n",
    "maxDistance = 169 \n",
    "while True:\n",
    "    satisfied = 'None'\n",
    "    feature = 'None'\n",
    "    positiveOrNegative = 'None'\n",
    "    critiqueValue = 'None'\n",
    "    critiqueDict = {}\n",
    "    \n",
    "    currentRecommendation = getRequest('http://127.0.0.1:5002/business')\n",
    "    print('currentRecommendation:', currentRecommendation)\n",
    "    \n",
    "    #currentCuisineType = currentRecommendation['cuisine']\n",
    "    #print('Recommending...')\n",
    "    #displayRestaurantInfo(recommendIndex, current_user_item_predict,df,ID_dictionary)\n",
    "    \n",
    "    #Current recommendation cuisine type \n",
    "    #currentCuisineType = df[df['business_num_id'] == current_user_item_predict[recommendIndex]]\\\n",
    "    #                                                    .categories.unique()[0].split(', ')\n",
    "    #currentPriceLabel = IP_dictionary[current_user_item_predict[recommendIndex]]\n",
    "    #currentRating = IS_dictionary[current_user_item_predict[recommendIndex]]\n",
    "    #currentDistance = ID_dictionary[current_user_item_predict[recommendIndex]]\n",
    "    \n",
    "    #First testing cuisine type\n",
    "    print('\\n????????????????')\n",
    "    \n",
    "    while satisfied.lower() not in ['yes', 'no', 'stop']: \n",
    "        satisfied = input(\"You Like? ('yes', 'no') \").strip().lower()\n",
    "    \n",
    "    if satisfied == 'stop' or satisfied == 'yes':\n",
    "        print('BYE :)')\n",
    "        break\n",
    "        \n",
    "    #When satisfied is NO, take in feature\n",
    "    while feature.lower() not in ['name', 'cuisine', 'price', 'distance', 'rating', 'stop']: \n",
    "        feature = input(\"What feature to critique: (name, cuisine, price, rating, distance)\").strip().lower()\n",
    "    \n",
    "    if feature == 'stop':\n",
    "        break\n",
    "        \n",
    "    #Add value into dictionary \n",
    "    critiqueDict['feature'] = feature\n",
    "    \n",
    "    #Take in Positive or nagative \n",
    "    if feature != 'name':\n",
    "        while positiveOrNegative.lower() not in ['positive', 'negative', 'stop']:\n",
    "            positiveOrNegative = input(\"Positive or negative: \").strip().lower()\n",
    "    \n",
    "    if positiveOrNegative == 'stop':\n",
    "        break\n",
    "    \n",
    "    #Add value into dictionary \n",
    "    critiqueDict['positiveOrNegative'] = positiveOrNegative\n",
    "    \n",
    "    #Only ask for critique value when not critiquing restaurant name, or not negatively critiquing price \n",
    "    if feature != 'name' and not(feature == 'price' and positiveOrNegative == 'negative')\\\n",
    "    and not(feature == 'distance' and positiveOrNegative == 'negative'):\n",
    "    #and not(feature == 'rating' and positiveOrNegative == 'negative')\\\n",
    "     \n",
    "        #The valid values to be critiuqed that can pass in \n",
    "        validCritiqueValueList = []\n",
    "        #negatively critique current cuisine type, should only enter current cruisine type\n",
    "        if 'cuisine' in feature and 'negative' in positiveOrNegative:\n",
    "            validCritiqueValueList = currentCuisineType.lower().split(',') + ['stop']\n",
    "            outPutString = '(' + currentCuisineType +')'\n",
    "        elif 'cuisine' in feature and 'positive' in positiveOrNegative:\n",
    "            validCritiqueValueList = [cat.strip().lower() for cat in categoryList] + ['stop']\n",
    "            #categories = list(set(IC_dictionary.keys())) + ['stop']\n",
    "            outPutString = '(chinese, fast food,indian, ramen...)'\n",
    "        #Can only enter cheapter or more expensive\n",
    "        elif 'price' in feature:\n",
    "            validCritiqueValueList = ['cheaper', 'more expensive','stop']\n",
    "            outPutString = '(cheaper, more expensive)'\n",
    "        elif 'rating' in feature:\n",
    "            validCritiqueValueList = [str(star/10) for star in range(0,51,1)] + ['stop', 'current_rating']\n",
    "            outPutString = '(0 ~ 5.0 with 0.1 increment)'\n",
    "        #positively critique distance\n",
    "        elif 'distance' in feature:\n",
    "            validCritiqueDis = [str(i/10) for i in range(0,int((maxDistance+0.5)*10),5)][1:] \n",
    "            validCritiqueValueList = ['closer', 'further'] + validCritiqueDis + ['stop']\n",
    "            outPutString = '(closer, further, or distance in range 0.5 ~' + str(maxDistance) + 'in every 0.5km)' \n",
    "        #Prompt to ask critique value\n",
    "        while critiqueValue not in validCritiqueValueList:\n",
    "            critiqueValue = input(\"Critique value: \" + outPutString).strip().lower()\n",
    "        \n",
    "        if critiqueValue == 'stop':\n",
    "            break\n",
    "            \n",
    "        #Add value into dictionary \n",
    "        critiqueDict['critiqueValue'] = critiqueValue\n",
    "            \n",
    "    print('????????????????\\n')\n",
    "    print('constructed json:', critiqueDict)\n",
    "    \n",
    "    try:\n",
    "        retrieve = put('http://127.0.0.1:5002/business', json=critiqueDict).json()\n",
    "        print(retrieve)\n",
    "    \n",
    "    except Exception as e:\n",
    "        print(type(e))\n",
    "        print(e)\n",
    "    \n",
    "    stopOrNot = input(\"Critique?\").strip().lower()\n",
    "    \n",
    "    if stopOrNot == 'stop' or stopOrNot == 'no':\n",
    "        print('BYE :)')\n",
    "        break\n",
    "    #At the end, send out the post request"
   ]
  },
  {
   "cell_type": "code",
   "execution_count": 27,
   "metadata": {
    "scrolled": true
   },
   "outputs": [
    {
     "data": {
      "text/plain": [
       "{'feature': 'price', 'positiveOrNegative': 'negative'}"
      ]
     },
     "execution_count": 27,
     "metadata": {},
     "output_type": "execute_result"
    }
   ],
   "source": [
    "critiqueDict"
   ]
  },
  {
   "cell_type": "code",
   "execution_count": 39,
   "metadata": {},
   "outputs": [],
   "source": [
    "from time import sleep"
   ]
  },
  {
   "cell_type": "code",
   "execution_count": 48,
   "metadata": {},
   "outputs": [
    {
     "name": "stdout",
     "output_type": "stream",
     "text": [
      "<class 'requests.exceptions.ConnectionError'>\n",
      "HTTPConnectionPool(host='127.0.0.', port=80): Max retries exceeded with url: /1:5003/business (Caused by NewConnectionError('<urllib3.connection.HTTPConnection object at 0x000001E406EDC978>: Failed to establish a new connection: [Errno 11001] getaddrinfo failed'))\n"
     ]
    }
   ],
   "source": [
    "try:\n",
    "    retrieve = put('http://127.0.0./1:5003/business', json=critiqueDict).json()\n",
    "    print(retrieve)\n",
    "    \n",
    "except Exception as e:\n",
    "    print(type(e))\n",
    "    print(e)"
   ]
  },
  {
   "cell_type": "code",
   "execution_count": 37,
   "metadata": {},
   "outputs": [
    {
     "name": "stdout",
     "output_type": "stream",
     "text": [
      "<class 'requests.exceptions.ConnectionError'>\n",
      "HTTPConnectionPool(host='127.0.0.', port=80): Max retries exceeded with url: /1:5003/business (Caused by NewConnectionError('<urllib3.connection.HTTPConnection object at 0x000001E406ED6DA0>: Failed to establish a new connection: [Errno 11001] getaddrinfo failed'))\n"
     ]
    }
   ],
   "source": [
    "try:\n",
    "    retrieve = put('http://127.0.0./1:5003/business', json=critiqueDict).json()\n",
    "    print(retrieve)\n",
    "    \n",
    "except Exception as e:\n",
    "    print(type(e))\n",
    "    print(e)"
   ]
  },
  {
   "cell_type": "code",
   "execution_count": 8,
   "metadata": {},
   "outputs": [
    {
     "data": {
      "text/plain": [
       "{'message': 'Internal Server Error'}"
      ]
     },
     "execution_count": 8,
     "metadata": {},
     "output_type": "execute_result"
    }
   ],
   "source": [
    "postRequest('http://127.0.0.1:5002/business')"
   ]
  },
  {
   "cell_type": "markdown",
   "metadata": {},
   "source": [
    "### Testing initialize & recommend for critique_API_V2"
   ]
  },
  {
   "cell_type": "markdown",
   "metadata": {},
   "source": [
    "### Test user initialization - set up initial user recommendation list"
   ]
  },
  {
   "cell_type": "code",
   "execution_count": 28,
   "metadata": {},
   "outputs": [],
   "source": [
    "restaurantInitializeDict = {\n",
    " 'r_BrIgzYcwo1NAuG9dLbpg': 'Pai Northern Thai Kitchen',\n",
    " 'aLcFhMe6DDJ430zelCpd2A': 'Khao San Road',\n",
    " 'RtUvSWO_UZ8V3Wpj0n077w': 'KINKA IZAKAYA ORIGINAL',\n",
    " 'iGEvDk6hsizigmXhDKs2Vg': 'Seven Lives Tacos Y Mariscos',\n",
    " 'N93EYZy9R0sdlEvubu94ig': 'Banh Mi Boys',\n",
    " 'zgQHtqX0gqMw1nlBZl2VnQ': 'Momofuku Noodle Bar',\n",
    " 'B70iTJjcPkuYn8ouUewWgw': 'Gusto 101',\n",
    " 'e41TP5cXZqSrz50xCBJqZw': 'Insomnia Restaurant & Lounge',\n",
    " 'f5O7v_X_jCg2itqacRfxhg': 'Sansotei Ramen',\n",
    " 'a8pmtlVKf7NiSLI-4KejIw': 'El Catrin Destileria',\n",
    " 'h_4dPV9M9aYaBliH1Eoeeg': 'Wvrst',\n",
    " 'kOFDVcnj-8fd3doIpCQ06A': \"Mildred's Temple Kitchen\",\n",
    " 'Yl2TN9c23ZGLUBSD9ks5Uw': 'Byblos',\n",
    " 'k6zmSLmYAquCpJGKNnTgSQ': 'The Stockyards',\n",
    " '_xAJZOKBMPOe47p1MphB2w': 'Fishman Lobster Clubhouse Restaurant',\n",
    " 'MS-hfug4QDXqb_Mws3qlzA': 'Grand Electric',\n",
    " 'O1TvPrgkK2bUo5O5aSZ7lw': 'Rol San',\n",
    " 'nBl_4gw5ecGzNkHyzfii8g': 'Terroni',\n",
    " 'KVpvE6pOPM9KMvak4HFsNg': 'Pizzeria Libretto',\n",
    " 'fGurvC5BdOfd5MIuLUQYVA': 'Dumpling House Restaurant',\n",
    " 'UxWH8zRYIBgs6Q2oykvRdw': 'Cluny Bistro & Boulangerie',\n",
    " 'wSojc-y-d7MWiGWdy8deCg': 'Barque Smokehouse',\n",
    " 'RUd_M7DPJq1I3DPq0oF--w': 'Lahore Tikka House',\n",
    " 'MhiBpIBNTCAm1Xd3WzRzjQ': 'Messini Authentic Gyros',\n",
    " 'oWTn2IzrprsRkPfULtjZtQ': \"The Burger's Priest\",\n",
    " 'nHFJtud7jWZhM9dHQ1eIRA': 'Buk Chang Dong Soon Tofu',\n",
    " 'Cp3YRVZojrCGeQS41Hf1pw': 'Pho Hung',\n",
    " 'UDk7qUVIetK3Y3NuARguqg': 'Banjara Indian Cuisine',\n",
    " '3uIXuw878fNjxZ2Li1diFg': 'The Hogtown Vegan',\n",
    " 'q5xrVJ4kivx_yEfJeOKNYQ': 'Bar Isabel'}"
   ]
  },
  {
   "cell_type": "code",
   "execution_count": 30,
   "metadata": {},
   "outputs": [
    {
     "name": "stdout",
     "output_type": "stream",
     "text": [
      "Input business id that you like r_BrIgzYcwo1NAuG9dLbpg\n",
      "r_BrIgzYcwo1NAuG9dLbpg\n",
      "Input business id that you like aLcFhMe6DDJ430zelCpd2A\n",
      "aLcFhMe6DDJ430zelCpd2A\n",
      "Input business id that you like stop\n",
      "stop\n",
      "{'r_BrIgzYcwo1NAuG9dLbpg': 5, 'aLcFhMe6DDJ430zelCpd2A': 5}\n",
      "{'You are calling a PUT for set up, the user initialization you sent:': {'r_BrIgzYcwo1NAuG9dLbpg': 5, 'aLcFhMe6DDJ430zelCpd2A': 5}}\n"
     ]
    }
   ],
   "source": [
    "#Initialize user preference dictionary 'business_id': '5'\n",
    "UserInitialResponse = {}\n",
    "businessIdInput = ''\n",
    "while businessIdInput.lower() != 'stop': \n",
    "    businessIdInput = input(\"Input business id that you like \").strip()\n",
    "    print(businessIdInput)\n",
    "    if businessIdInput== 'stop':\n",
    "        break;\n",
    "    elif businessIdInput not in restaurantInitializeDict.keys():\n",
    "        print('invalid business id, RE-ENTER')\n",
    "    else:\n",
    "        UserInitialResponse[businessIdInput] = 5\n",
    "print(UserInitialResponse)\n",
    "#Now retrieve from end point\n",
    "retrieve = put('http://127.0.0.1:5002/initialization', json=UserInitialResponse, verify=False).json()\n",
    "print(retrieve)\n"
   ]
  },
  {
   "cell_type": "markdown",
   "metadata": {},
   "source": [
    "### Test intersection - /initialization POST"
   ]
  },
  {
   "cell_type": "code",
   "execution_count": 31,
   "metadata": {},
   "outputs": [],
   "source": [
    "yonge_and_finch = {'latitude': '43.779824', 'longitude': '-79.415665'}\n",
    "bloor_and_bathurst = {'latitude': '43.665194', 'longitude': '-79.411208'}\n",
    "queen_and_spadina = {'latitude': '43.648772', 'longitude': '-79.396259'} \n",
    "bloor_and_yonge = {'latitude': '43.670409', 'longitude': '-79.386814'}\n",
    "dundas_and_yonge = {'latitude': '43.6561', 'longitude': '-79.3802'}\n",
    "spadina_and_dundas = {'latitude': '43.653004', 'longitude': '-79.398082'}\n",
    "\n",
    "intersectionDictionary= {'yonge_and_finch': yonge_and_finch,\n",
    "                         'bloor_and_bathurst': bloor_and_bathurst,\n",
    "                         'queen_and_spadina':queen_and_spadina,\n",
    "                         'bloor_and_yonge': bloor_and_yonge,\n",
    "                         'dundas_and_yonge': dundas_and_yonge,\n",
    "                         'spadina_and_dundas': spadina_and_dundas}"
   ]
  },
  {
   "cell_type": "code",
   "execution_count": 32,
   "metadata": {},
   "outputs": [
    {
     "name": "stdout",
     "output_type": "stream",
     "text": [
      "Input intersection to testspadina_and_dundas\n",
      "spadina_and_dundas\n",
      "{'latitude': '43.653004', 'longitude': '-79.398082'}\n",
      "{'You are calling a POST for set up, intersection point:': '43.653004,-79.398082'}\n",
      "currentRecommendation: {'business_id': '4664', 'name': 'Sukho Thai', 'cuisine': 'Thai', 'price': '$$', 'rating': '3.5', 'distance': '2.0km', 'addText': ''}\n"
     ]
    }
   ],
   "source": [
    "testIntersection = \"\"\n",
    "sendIntersectionJson = {}\n",
    "while testIntersection  not in intersectionDictionary.keys():\n",
    "    testIntersection = input('Input intersection to test')\n",
    "    print(testIntersection)\n",
    "    sendIntersectionJson = intersectionDictionary[testIntersection]\n",
    "    print(sendIntersectionJson)\n",
    "    \n",
    "#Now retrieve from another end point\n",
    "retrieve = post('http://127.0.0.1:5002/initialization', json=sendIntersectionJson, verify=False).json()\n",
    "print(retrieve)\n",
    "\n",
    "currentRecommendation = getRequest('http://127.0.0.1:5002/business')\n",
    "print('currentRecommendation:', currentRecommendation)"
   ]
  },
  {
   "cell_type": "code",
   "execution_count": 1,
   "metadata": {},
   "outputs": [],
   "source": [
    "def detect_intent_texts(project_id, session_id, texts, language_code):\n",
    "    \"\"\"Returns the result of detect intent with texts as inputs.\n",
    "\n",
    "    Using the same `session_id` between requests allows continuation\n",
    "    of the conversation.\"\"\"\n",
    "    import dialogflow_v2 as dialogflow\n",
    "    session_client = dialogflow.SessionsClient()\n",
    "\n",
    "    session = session_client.session_path(project_id, session_id)\n",
    "    print('Session path: {}\\n'.format(session))\n",
    "\n",
    "    for text in texts:\n",
    "        text_input = dialogflow.types.TextInput(\n",
    "            text=text, language_code=language_code)\n",
    "\n",
    "        query_input = dialogflow.types.QueryInput(text=text_input)\n",
    "\n",
    "        response = session_client.detect_intent(\n",
    "            session=session, query_input=query_input)\n",
    "\n",
    "        print('=' * 20)\n",
    "        print('Query text: {}'.format(response.query_result.query_text))\n",
    "        print('Detected intent: {} (confidence: {})\\n'.format(\n",
    "            response.query_result.intent.display_name,\n",
    "            response.query_result.intent_detection_confidence))\n",
    "        print('Fulfillment text: {}\\n'.format(\n",
    "            response.query_result.fulfillment_text))"
   ]
  },
  {
   "cell_type": "code",
   "execution_count": null,
   "metadata": {},
   "outputs": [],
   "source": [
    "detect_intent_texts()"
   ]
  }
 ],
 "metadata": {
  "kernelspec": {
   "display_name": "Python 3",
   "language": "python",
   "name": "python3"
  },
  "language_info": {
   "codemirror_mode": {
    "name": "ipython",
    "version": 3
   },
   "file_extension": ".py",
   "mimetype": "text/x-python",
   "name": "python",
   "nbconvert_exporter": "python",
   "pygments_lexer": "ipython3",
   "version": "3.7.3"
  }
 },
 "nbformat": 4,
 "nbformat_minor": 2
}
