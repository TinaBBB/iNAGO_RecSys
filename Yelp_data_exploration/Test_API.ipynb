{
 "cells": [
  {
   "cell_type": "code",
   "execution_count": 4,
   "metadata": {},
   "outputs": [],
   "source": [
    "import json\n",
    "from requests import get, post"
   ]
  },
  {
   "cell_type": "code",
   "execution_count": 27,
   "metadata": {},
   "outputs": [],
   "source": [
    "#Test Get Request\n",
    "def getRequest (url):\n",
    "    #URL = \"http://127.0.0.1:5002/business\"\n",
    "    r = get(url=url)\n",
    "    dataRetrieved = r.json()\n",
    "    return dataRetrieved\n",
    "\n",
    "#Test Post Request\n",
    "def postRequest (url):\n",
    "    #url = 'http://127.0.0.1:5002/business'\n",
    "    retrieve = post(url, json={'data':'remember'}).json()\n",
    "    #Should retrieve json object\n",
    "    return retrieve"
   ]
  },
  {
   "cell_type": "code",
   "execution_count": 26,
   "metadata": {},
   "outputs": [
    {
     "data": {
      "text/plain": [
       "{'business_id': '4501',\n",
       " 'Restaurant name': 'Lai Wah Heen',\n",
       " 'Cuisine Type': 'Dim Sum',\n",
       " 'Price': '$$$',\n",
       " 'Rating': '3.5',\n",
       " 'Distance': '1.0km'}"
      ]
     },
     "execution_count": 26,
     "metadata": {},
     "output_type": "execute_result"
    }
   ],
   "source": [
    "getRequest('http://127.0.0.1:5002/business')"
   ]
  },
  {
   "cell_type": "markdown",
   "metadata": {},
   "source": [
    "#### Take in critique value, this step mimics the request sent by fulfillment"
   ]
  },
  {
   "cell_type": "code",
   "execution_count": 31,
   "metadata": {},
   "outputs": [
    {
     "name": "stdout",
     "output_type": "stream",
     "text": [
      "\n",
      "????????????????\n",
      "You Like? ('yes', 'no') no\n",
      "What feature to critique: (name, cuisine, price, rating, distance)price\n",
      "Positive or negative: positive\n",
      "Critique value: (cheaper, more expensive)cheaper\n",
      "????????????????\n",
      "\n",
      "constructed json: {'feature': 'price', 'positiveOrNegative': 'positive', 'critiqueValue': 'cheaper'}\n",
      "\n",
      "????????????????\n",
      "You Like? ('yes', 'no') yes\n",
      "BYE :)\n"
     ]
    }
   ],
   "source": [
    "#Construct the critiquing dictionary \n",
    "#categories\n",
    "#restaurant -> boolean value, anything another than none should be taken\n",
    "#price\n",
    "#rating\n",
    "#distance\n",
    "#keywords\n",
    "#critiqueValue\n",
    "#positiveOrNegative\n",
    "\n",
    "while True:\n",
    "    satisfied = 'None'\n",
    "    feature = 'None'\n",
    "    positiveOrNegative = 'None'\n",
    "    critiqueValue = 'None'\n",
    "    critiqueDict = {}\n",
    "    \n",
    "    #print('Recommending...')\n",
    "    #displayRestaurantInfo(recommendIndex, current_user_item_predict,df,ID_dictionary)\n",
    "    \n",
    "    #Current recommendation cuisine type \n",
    "    #currentCuisineType = df[df['business_num_id'] == current_user_item_predict[recommendIndex]]\\\n",
    "    #                                                    .categories.unique()[0].split(', ')\n",
    "    #currentPriceLabel = IP_dictionary[current_user_item_predict[recommendIndex]]\n",
    "    #currentRating = IS_dictionary[current_user_item_predict[recommendIndex]]\n",
    "    #currentDistance = ID_dictionary[current_user_item_predict[recommendIndex]]\n",
    "    \n",
    "    #First testing cuisine type\n",
    "    print('\\n????????????????')\n",
    "    \n",
    "    while satisfied.lower() not in ['yes', 'no', 'stop']: \n",
    "        satisfied = input(\"You Like? ('yes', 'no') \").strip().lower()\n",
    "    \n",
    "    if satisfied == 'stop' or satisfied == 'yes':\n",
    "        print('BYE :)')\n",
    "        break\n",
    "        \n",
    "    #When satisfied is NO, take in feature\n",
    "    while feature.lower() not in ['name', 'cuisine', 'price', 'distance', 'rating', 'stop']: \n",
    "        feature = input(\"What feature to critique: (name, cuisine, price, rating, distance)\").strip().lower()\n",
    "    \n",
    "    if feature == 'stop':\n",
    "        break\n",
    "        \n",
    "    #Add value into dictionary \n",
    "    critiqueDict['feature'] = feature\n",
    "    \n",
    "    #Take in Positive or nagative \n",
    "    if feature != 'name':\n",
    "        while positiveOrNegative.lower() not in ['positive', 'negative', 'stop']:\n",
    "            positiveOrNegative = input(\"Positive or negative: \").strip().lower()\n",
    "    \n",
    "    if positiveOrNegative == 'stop':\n",
    "        break\n",
    "    \n",
    "    #Add value into dictionary \n",
    "    critiqueDict['positiveOrNegative'] = positiveOrNegative\n",
    "    \n",
    "    #Only ask for critique value when not critiquing restaurant name, or not negatively critiquing price \n",
    "    if feature != 'name' and not(feature == 'price' and positiveOrNegative == 'negative')\\\n",
    "    and not(feature == 'distance' and positiveOrNegative == 'negative'):\n",
    "    #and not(feature == 'rating' and positiveOrNegative == 'negative')\\\n",
    "     \n",
    "        #The valid values to be critiuqed that can pass in \n",
    "        validCritiqueValueList = []\n",
    "        #negatively critique current cuisine type, should only enter current cruisine type\n",
    "        if 'cuisine' in feature and 'negative' in positiveOrNegative:\n",
    "            validCritiqueValueList = [cat.strip().lower() for cat in currentCuisineType] + ['stop']\n",
    "            outPutString = '(' + currentCuisineType[0] +')'\n",
    "        elif 'cuisine' in feature and 'positive' in positiveOrNegative:\n",
    "            validCritiqueValueList = [cat.strip().lower() for cat in categoryList] \n",
    "            categories = list(set(IC_dictionary.keys())) + ['stop']\n",
    "            outPutString = '(' + categories[0] +categories[1] +categories[2] +'...)'\n",
    "        #Can only enter cheapter or more expensive\n",
    "        elif 'price' in feature:\n",
    "            validCritiqueValueList = ['cheaper', 'more expensive','stop']\n",
    "            outPutString = '(cheaper, more expensive)'\n",
    "        elif 'rating' in feature:\n",
    "            validCritiqueValueList = [str(star/10) for star in range(0,51,1)] + ['stop']\n",
    "            outPutString = '(0 ~ 5.0 with 0.1 increment)'\n",
    "        #positively critique distance\n",
    "        elif 'distance' in feature:\n",
    "            validCritiqueDis = [str(i/10) for i in range(0,int((maxDistance+0.5)*10),5)][1:] \n",
    "            validCritiqueValueList = ['closer', 'further'] + validCritiqueDis + ['stop']\n",
    "            outPutString = '(closer, further, or distance in range 0.5 ~' + str(maxDistance) + 'in every 0.5km)' \n",
    "        #Prompt to ask critique value\n",
    "        while critiqueValue not in validCritiqueValueList:\n",
    "            critiqueValue = input(\"Critique value: \" + outPutString).strip().lower()\n",
    "        \n",
    "        if critiqueValue == 'stop':\n",
    "            break\n",
    "            \n",
    "        #Add value into dictionary \n",
    "        critiqueDict['critiqueValue'] = critiqueValue\n",
    "            \n",
    "    print('????????????????\\n')\n",
    "    print('constructed json:', critiqueDict)\n",
    "    \n",
    "    #At the end, send out the post request"
   ]
  },
  {
   "cell_type": "code",
   "execution_count": 28,
   "metadata": {},
   "outputs": [
    {
     "data": {
      "text/plain": [
       "{'You sent': {'data': 'remember'}}"
      ]
     },
     "execution_count": 28,
     "metadata": {},
     "output_type": "execute_result"
    }
   ],
   "source": [
    "postRequest('http://127.0.0.1:5002/business')"
   ]
  },
  {
   "cell_type": "code",
   "execution_count": 9,
   "metadata": {},
   "outputs": [],
   "source": [
    "#POST request\n",
    "# URL = \"http://127.0.0.1:5002/business\"\n",
    "# data = json.dumps({'ok': 'okok'})\n",
    "# r = post(url=URL, data = data)\n",
    "# dataRetrieved = r.text"
   ]
  },
  {
   "cell_type": "code",
   "execution_count": 12,
   "metadata": {},
   "outputs": [],
   "source": [
    "# url = 'http://127.0.0.1:5002/business'\n",
    "# myobj = {'somekey': 'somevalue'}\n",
    "# okk = Request(url, urlencode(myobj).encode())\n",
    "# x = urlopen(okk).read().decode()\n",
    "\n",
    "# print(x)"
   ]
  },
  {
   "cell_type": "code",
   "execution_count": 40,
   "metadata": {},
   "outputs": [
    {
     "name": "stdout",
     "output_type": "stream",
     "text": [
      "{\n",
      "  \"args\": {}, \n",
      "  \"data\": \"\", \n",
      "  \"files\": {}, \n",
      "  \"form\": {\n",
      "    \"foo\": \"bar\"\n",
      "  }, \n",
      "  \"headers\": {\n",
      "    \"Accept-Encoding\": \"identity\", \n",
      "    \"Content-Length\": \"7\", \n",
      "    \"Content-Type\": \"application/x-www-form-urlencoded\", \n",
      "    \"Host\": \"httpbin.org\", \n",
      "    \"User-Agent\": \"Python-urllib/3.7\"\n",
      "  }, \n",
      "  \"json\": null, \n",
      "  \"origin\": \"142.1.71.146, 142.1.71.146\", \n",
      "  \"url\": \"https://httpbin.org/post\"\n",
      "}\n",
      "\n"
     ]
    }
   ],
   "source": [
    "from urllib.parse import urlencode\n",
    "from urllib.request import Request, urlopen\n",
    "\n",
    "url = 'https://httpbin.org/post' # Set destination URL here\n",
    "post_fields = {'foo': 'bar'}     # Set POST fields here\n",
    "\n",
    "request = Request(url, urlencode(post_fields).encode())\n",
    "json = urlopen(request).read().decode()\n",
    "print(json)"
   ]
  },
  {
   "cell_type": "code",
   "execution_count": 1,
   "metadata": {},
   "outputs": [],
   "source": [
    "def detect_intent_texts(project_id, session_id, texts, language_code):\n",
    "    \"\"\"Returns the result of detect intent with texts as inputs.\n",
    "\n",
    "    Using the same `session_id` between requests allows continuation\n",
    "    of the conversation.\"\"\"\n",
    "    import dialogflow_v2 as dialogflow\n",
    "    session_client = dialogflow.SessionsClient()\n",
    "\n",
    "    session = session_client.session_path(project_id, session_id)\n",
    "    print('Session path: {}\\n'.format(session))\n",
    "\n",
    "    for text in texts:\n",
    "        text_input = dialogflow.types.TextInput(\n",
    "            text=text, language_code=language_code)\n",
    "\n",
    "        query_input = dialogflow.types.QueryInput(text=text_input)\n",
    "\n",
    "        response = session_client.detect_intent(\n",
    "            session=session, query_input=query_input)\n",
    "\n",
    "        print('=' * 20)\n",
    "        print('Query text: {}'.format(response.query_result.query_text))\n",
    "        print('Detected intent: {} (confidence: {})\\n'.format(\n",
    "            response.query_result.intent.display_name,\n",
    "            response.query_result.intent_detection_confidence))\n",
    "        print('Fulfillment text: {}\\n'.format(\n",
    "            response.query_result.fulfillment_text))"
   ]
  },
  {
   "cell_type": "code",
   "execution_count": null,
   "metadata": {},
   "outputs": [],
   "source": [
    "detect_intent_texts()"
   ]
  }
 ],
 "metadata": {
  "kernelspec": {
   "display_name": "Python 3",
   "language": "python",
   "name": "python3"
  },
  "language_info": {
   "codemirror_mode": {
    "name": "ipython",
    "version": 3
   },
   "file_extension": ".py",
   "mimetype": "text/x-python",
   "name": "python",
   "nbconvert_exporter": "python",
   "pygments_lexer": "ipython3",
   "version": "3.7.3"
  }
 },
 "nbformat": 4,
 "nbformat_minor": 2
}
