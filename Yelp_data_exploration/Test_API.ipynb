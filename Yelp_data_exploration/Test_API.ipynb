{
 "cells": [
  {
   "cell_type": "code",
   "execution_count": 1,
   "metadata": {},
   "outputs": [],
   "source": [
    "import json\n",
    "from requests import get, post, put"
   ]
  },
  {
   "cell_type": "code",
   "execution_count": 19,
   "metadata": {},
   "outputs": [],
   "source": [
    "#Test Get Request\n",
    "def getRequest (url):\n",
    "    #URL = \"http://127.0.0.1:5002/business\"\n",
    "    r = get(url=url, verify=False)\n",
    "    dataRetrieved = r.json()\n",
    "    return dataRetrieved\n",
    "\n",
    "#Test Post Request\n",
    "def postRequest (url):\n",
    "    #url = 'http://127.0.0.1:5002/business'\n",
    "    retrieve = post(url, json={'data':'remember'}).json()\n",
    "    #Should retrieve json object\n",
    "    return retrieve\n",
    "\n",
    "def putRequst (url, inputJson):\n",
    "    retrieve = put(url, json=inputJson).json()\n",
    "    return retrieve"
   ]
  },
  {
   "cell_type": "code",
   "execution_count": 3,
   "metadata": {},
   "outputs": [
    {
     "name": "stdout",
     "output_type": "stream",
     "text": [
      "{'business_id': '4501', 'name': 'Lai Wah Heen', 'cuisine': 'Dim Sum', 'price': '$$$', 'rating': '3.5', 'distance': '1.0km', 'addText': '', 'explanation': 'best chicken dim-sum dumpling, good excellent service and many excellent fine chinese restaurant'}\n"
     ]
    }
   ],
   "source": [
    "currentRecommendation = getRequest('http://127.0.0.1:5002/business')\n",
    "print(currentRecommendation)"
   ]
  },
  {
   "cell_type": "code",
   "execution_count": 4,
   "metadata": {},
   "outputs": [],
   "source": [
    "#Just a sample\n",
    "categoryList = ['Custom Cakes',\n",
    " 'American (Traditional)', 'Food Court','Mexican','Italian','Food Tours','Wine Bars',\n",
    " 'Imported Food','Food Delivery Services','Seafood','Brewpubs','Community Service/Non-Profit','Tea Rooms',\n",
    " 'Caribbean','Fast Food','Shopping Centers','Gluten-Free','Tapas/Small Plates','Bangladeshi','Food Stands','Wine & Spirits',\n",
    " 'Salvadoran','Champagne Bars','Pan Asian','Personal Chefs','Internet Cafes','Macarons','Taiwanese','Strip Clubs','Desserts',\n",
    " 'Arts & Entertainment','Nicaraguan','Korean','Himalayan/Nepalese','Dinner Theater',\n",
    " 'Japanese','Breakfast & Brunch','Performing Arts','Chinese','Southern','Tours','Waffles','Halal','Polish','Austrian','Kebab','Scottish','Cinema','South African',\n",
    " 'Supper Clubs',\n",
    " 'Sushi Bars','Bistros','Meat Shops','Musical Instruments & Teachers','Burgers','Malaysian','Cideries','Turkish',\n",
    " 'Arcades','Afghan','Cheese Shops',\n",
    " 'Cambodian','Indonesian','Bed & Breakfast','Golf','Festivals','Pakistani','Indian','Ramen',\n",
    " 'Cantonese','Wineries','Chicken Shop','Pizza','Hakka','Mediterranean','Persian/Iranian','Ethiopian','Shaved Snow',\n",
    " 'Specialty Schools','Caterers','Salad','Middle Eastern','Sandwiches','Specialty Food','Butcher','Cheesesteaks','Venezuelan',\n",
    " 'Cannabis Clinics',\n",
    " 'Shopping','Wedding Planning','Poke','Jazz & Blues','Irish Pub','Creperies','Vietnamese','Patisserie/Cake Shop',\n",
    " 'Dive Bars',\n",
    " 'Dance Clubs','Tobacco Shops','Pets','Art Galleries','Vegetarian','Chocolatiers & Shops','Coffee & Tea','French','Sri Lankan']"
   ]
  },
  {
   "cell_type": "markdown",
   "metadata": {},
   "source": [
    "## Take in critique value, this step mimics the request sent by fulfillment critique_API_V1"
   ]
  },
  {
   "cell_type": "code",
   "execution_count": 118,
   "metadata": {},
   "outputs": [
    {
     "name": "stdout",
     "output_type": "stream",
     "text": [
      "currentRecommendation: {'business_id': '3', 'name': 'The Fry', 'cuisine': 'Bars, Korean, Soul Food', 'price': '$$', 'rating': '3.5', 'distance': '1.9km', 'addText': '', 'explanation': 'chicken is pretty good, pretty quick service and best korean chicken'}\n",
      "\n",
      "????????????????\n",
      "You Like? ('yes', 'no') no\n",
      "What feature to critique: (name, cuisine, price, rating, distance)name\n",
      "????????????????\n",
      "\n",
      "constructed json: {'feature': 'name', 'positiveOrNegative': 'None'}\n",
      "{'You_sent': {'feature': 'name', 'positiveOrNegative': 'None'}, 'Result': {'business_id': '3595', 'name': 'Lee Nam Jang', 'cuisine': 'Korean', 'price': '$$', 'rating': '3.5', 'distance': '2.0km', 'addText': 'Critiquing the current displayed item', 'explanation': 'super authentic korean experience, amazing soup and delicious yook-hwa raw beef'}}\n",
      "--------------------------------------------------------------\n",
      "Critique?yes\n",
      "currentRecommendation: {'business_id': '3595', 'name': 'Lee Nam Jang', 'cuisine': 'Korean', 'price': '$$', 'rating': '3.5', 'distance': '2.0km', 'addText': 'Critiquing the current displayed item', 'explanation': 'super authentic korean experience, amazing soup and delicious yook-hwa raw beef'}\n",
      "\n",
      "????????????????\n",
      "You Like? ('yes', 'no') no\n",
      "What feature to critique: (name, cuisine, price, rating, distance)cuisine\n",
      "Positive or negative: negative\n",
      "Critique value: (Korean)Korean\n",
      "????????????????\n",
      "\n",
      "constructed json: {'feature': 'cuisine', 'positiveOrNegative': 'negative', 'critiqueValue': 'korean'}\n",
      "{'You_sent': {'feature': 'cuisine', 'positiveOrNegative': 'negative', 'critiqueValue': 'korean'}, 'Result': {'business_id': '12', 'name': 'Chatime North York', 'cuisine': 'Coffee & Tea', 'price': '$', 'rating': '3.5', 'distance': '0.2km', 'addText': '', 'explanation': 'truly authentic bubble tea, best milk tea and chatime popular chain'}}\n",
      "--------------------------------------------------------------\n",
      "Critique?yes\n",
      "currentRecommendation: {'business_id': '12', 'name': 'Chatime North York', 'cuisine': 'Coffee & Tea', 'price': '$', 'rating': '3.5', 'distance': '0.2km', 'addText': '', 'explanation': 'truly authentic bubble tea, best milk tea and chatime popular chain'}\n",
      "\n",
      "????????????????\n",
      "You Like? ('yes', 'no') no\n",
      "What feature to critique: (name, cuisine, price, rating, distance)cuisine\n",
      "Positive or negative: negative\n",
      "Critique value: (Coffee & Tea)Coffee & Tea\n",
      "????????????????\n",
      "\n",
      "constructed json: {'feature': 'cuisine', 'positiveOrNegative': 'negative', 'critiqueValue': 'coffee & tea'}\n",
      "{'You_sent': {'feature': 'cuisine', 'positiveOrNegative': 'negative', 'critiqueValue': 'coffee & tea'}, 'Result': {'business_id': '1549', 'name': 'Canephora Cafe & Bakery', 'cuisine': 'Cafes', 'price': '$', 'rating': '4.0', 'distance': '1.6km', 'addText': '', 'explanation': 'coffee is great good, great good service and good breakfast'}}\n",
      "--------------------------------------------------------------\n",
      "Critique?yes\n",
      "currentRecommendation: {'business_id': '1549', 'name': 'Canephora Cafe & Bakery', 'cuisine': 'Cafes', 'price': '$', 'rating': '4.0', 'distance': '1.6km', 'addText': '', 'explanation': 'coffee is great good, great good service and good breakfast'}\n",
      "\n",
      "????????????????\n",
      "You Like? ('yes', 'no') no\n",
      "What feature to critique: (name, cuisine, price, rating, distance)price\n",
      "Positive or negative: positive\n",
      "Critique value: (cheaper, more expensive)cheaper\n",
      "????????????????\n",
      "\n",
      "constructed json: {'feature': 'price', 'positiveOrNegative': 'positive', 'critiqueValue': 'cheaper'}\n",
      "{'You_sent': {'feature': 'price', 'positiveOrNegative': 'positive', 'critiqueValue': 'cheaper'}, 'Result': {'business_id': '1421', 'name': 'Cafe Vite', 'cuisine': 'Cafes, Ice Cream & Frozen Yogurt, Vietnamese', 'price': '$', 'rating': '4.5', 'distance': '0.5km', 'addText': 'Showing the cheapest restaurant options', 'explanation': 'vietnamese real authentic pho, banh mi is delicious and great banh mi'}}\n",
      "--------------------------------------------------------------\n",
      "Critique?yes\n",
      "currentRecommendation: {'business_id': '1421', 'name': 'Cafe Vite', 'cuisine': 'Cafes, Ice Cream & Frozen Yogurt, Vietnamese', 'price': '$', 'rating': '4.5', 'distance': '0.5km', 'addText': 'Showing the cheapest restaurant options', 'explanation': 'vietnamese real authentic pho, banh mi is delicious and great banh mi'}\n",
      "\n",
      "????????????????\n",
      "You Like? ('yes', 'no') no\n",
      "What feature to critique: (name, cuisine, price, rating, distance)rating\n",
      "Positive or negative: positive\n",
      "Critique value: (0 ~ 5.0 with 0.1 increment)current_rating\n",
      "????????????????\n",
      "\n",
      "constructed json: {'feature': 'rating', 'positiveOrNegative': 'positive', 'critiqueValue': 'current_rating'}\n",
      "{'You_sent': {'feature': 'rating', 'positiveOrNegative': 'positive', 'critiqueValue': 'current_rating'}, 'Result': {'business_id': '1344', 'name': 'Soban Cafe', 'cuisine': 'Desserts, Cafes', 'price': '$', 'rating': '3.0', 'distance': '0.0km', 'addText': '| Exhausted recommendation list, no matching restaurant after current critique, discarding current critique', 'explanation': 'peach tea is pretty sweet, service is pretty good and cafe is great'}}\n",
      "--------------------------------------------------------------\n",
      "Critique?stop\n",
      "BYE :)\n"
     ]
    }
   ],
   "source": [
    "#Construct the critiquing dictionary \n",
    "#categories\n",
    "#restaurant -> boolean value, anything another than none should be taken\n",
    "#price\n",
    "#rating\n",
    "#distance\n",
    "#keywords\n",
    "#critiqueValue\n",
    "#positiveOrNegative\n",
    "\n",
    "maxDistance = 169 \n",
    "while True:\n",
    "    satisfied = 'None'\n",
    "    feature = 'None'\n",
    "    positiveOrNegative = 'None'\n",
    "    critiqueValue = 'None'\n",
    "    critiqueDict = {}\n",
    "    \n",
    "    currentRecommendation = getRequest('http://127.0.0.1:5002/business')\n",
    "    print('currentRecommendation:', currentRecommendation)\n",
    "    \n",
    "    #currentCuisineType = currentRecommendation['cuisine']\n",
    "    #print('Recommending...')\n",
    "    #displayRestaurantInfo(recommendIndex, current_user_item_predict,df,ID_dictionary)\n",
    "    \n",
    "    #Current recommendation cuisine type \n",
    "    #currentCuisineType = df[df['business_num_id'] == current_user_item_predict[recommendIndex]]\\\n",
    "    #                                                    .categories.unique()[0].split(', ')\n",
    "    #currentPriceLabel = IP_dictionary[current_user_item_predict[recommendIndex]]\n",
    "    #currentRating = IS_dictionary[current_user_item_predict[recommendIndex]]\n",
    "    #currentDistance = ID_dictionary[current_user_item_predict[recommendIndex]]\n",
    "    \n",
    "    #First testing cuisine type\n",
    "    print('\\n????????????????')\n",
    "    \n",
    "    while satisfied.lower() not in ['yes', 'no', 'stop']: \n",
    "        satisfied = input(\"You Like? ('yes', 'no') \").strip().lower()\n",
    "    \n",
    "    if satisfied == 'stop' or satisfied == 'yes':\n",
    "        print('BYE :)')\n",
    "        break\n",
    "        \n",
    "    #When satisfied is NO, take in feature\n",
    "    while feature.lower() not in ['name', 'cuisine', 'price', 'distance', 'rating', 'stop']: \n",
    "        feature = input(\"What feature to critique: (name, cuisine, price, rating, distance)\").strip().lower()\n",
    "    \n",
    "    if feature == 'stop':\n",
    "        break\n",
    "        \n",
    "    #Add value into dictionary \n",
    "    critiqueDict['feature'] = feature\n",
    "    \n",
    "    #Take in Positive or nagative \n",
    "    if feature != 'name':\n",
    "        while positiveOrNegative.lower() not in ['positive', 'negative', 'stop']:\n",
    "            positiveOrNegative = input(\"Positive or negative: \").strip().lower()\n",
    "    \n",
    "    if positiveOrNegative == 'stop':\n",
    "        break\n",
    "    \n",
    "    #Add value into dictionary \n",
    "    critiqueDict['positiveOrNegative'] = positiveOrNegative\n",
    "    \n",
    "    #Only ask for critique value when not critiquing restaurant name, or not negatively critiquing price \n",
    "    if feature != 'name' and not(feature == 'price' and positiveOrNegative == 'negative')\\\n",
    "    and not(feature == 'distance' and positiveOrNegative == 'negative'):\n",
    "    #and not(feature == 'rating' and positiveOrNegative == 'negative')\\\n",
    "     \n",
    "        #The valid values to be critiuqed that can pass in \n",
    "        validCritiqueValueList = []\n",
    "        #negatively critique current cuisine type, should only enter current cruisine type\n",
    "        if 'cuisine' in feature and 'negative' in positiveOrNegative:\n",
    "            validCritiqueValueList = currentRecommendation['cuisine'].lower().split(',') + ['stop']\n",
    "            outPutString = '(' + currentRecommendation['cuisine'] +')'\n",
    "        elif 'cuisine' in feature and 'positive' in positiveOrNegative:\n",
    "            validCritiqueValueList = [cat.strip().lower() for cat in categoryList] + ['stop']\n",
    "            #categories = list(set(IC_dictionary.keys())) + ['stop']\n",
    "            outPutString = '(chinese, fast food,indian, ramen...)'\n",
    "        #Can only enter cheapter or more expensive\n",
    "        elif 'price' in feature:\n",
    "            validCritiqueValueList = ['cheaper', 'more expensive','stop']\n",
    "            outPutString = '(cheaper, more expensive)'\n",
    "        elif 'rating' in feature:\n",
    "            validCritiqueValueList = [str(star/10) for star in range(0,51,1)] + ['stop', 'current_rating']\n",
    "            outPutString = '(0 ~ 5.0 with 0.1 increment)'\n",
    "        #positively critique distance\n",
    "        elif 'distance' in feature:\n",
    "            validCritiqueDis = [str(i/10) for i in range(0,int((maxDistance+0.5)*10),5)][1:] \n",
    "            validCritiqueValueList = ['closer', 'further'] + validCritiqueDis + ['stop']\n",
    "            outPutString = '(closer, further, or distance in range 0.5 ~' + str(maxDistance) + 'in every 0.5km)' \n",
    "        #Prompt to ask critique value\n",
    "        while critiqueValue not in validCritiqueValueList:\n",
    "            critiqueValue = input(\"Critique value: \" + outPutString).strip().lower()\n",
    "        \n",
    "        if critiqueValue == 'stop':\n",
    "            break\n",
    "            \n",
    "        #Add value into dictionary \n",
    "        critiqueDict['critiqueValue'] = critiqueValue\n",
    "            \n",
    "    print('????????????????\\n')\n",
    "    print('constructed json:', critiqueDict)\n",
    "    \n",
    "    try:\n",
    "        retrieve = put('http://127.0.0.1:5002/business', json=critiqueDict).json()\n",
    "        print(retrieve)\n",
    "    \n",
    "    except Exception as e:\n",
    "        print(type(e))\n",
    "        print(e)\n",
    "    \n",
    "    print('--------------------------------------------------------------')\n",
    "    stopOrNot = input(\"Critique?\").strip().lower()\n",
    "    \n",
    "    if stopOrNot == 'stop' or stopOrNot == 'no':\n",
    "        print('BYE :)')\n",
    "        break\n",
    "    #At the end, send out the post request"
   ]
  },
  {
   "cell_type": "markdown",
   "metadata": {},
   "source": [
    "## Clear up"
   ]
  },
  {
   "cell_type": "code",
   "execution_count": 74,
   "metadata": {},
   "outputs": [
    {
     "data": {
      "text/plain": [
       "{'You are Resetting the user set up': 'Not retrieving anything for you'}"
      ]
     },
     "execution_count": 74,
     "metadata": {},
     "output_type": "execute_result"
    }
   ],
   "source": [
    "getRequest('http://127.0.0.1:5002/clearup')"
   ]
  },
  {
   "cell_type": "code",
   "execution_count": null,
   "metadata": {},
   "outputs": [],
   "source": []
  },
  {
   "cell_type": "code",
   "execution_count": 27,
   "metadata": {
    "scrolled": true
   },
   "outputs": [
    {
     "data": {
      "text/plain": [
       "{'feature': 'price', 'positiveOrNegative': 'negative'}"
      ]
     },
     "execution_count": 27,
     "metadata": {},
     "output_type": "execute_result"
    }
   ],
   "source": [
    "critiqueDict"
   ]
  },
  {
   "cell_type": "code",
   "execution_count": 39,
   "metadata": {},
   "outputs": [],
   "source": [
    "from time import sleep"
   ]
  },
  {
   "cell_type": "code",
   "execution_count": 48,
   "metadata": {},
   "outputs": [
    {
     "name": "stdout",
     "output_type": "stream",
     "text": [
      "<class 'requests.exceptions.ConnectionError'>\n",
      "HTTPConnectionPool(host='127.0.0.', port=80): Max retries exceeded with url: /1:5003/business (Caused by NewConnectionError('<urllib3.connection.HTTPConnection object at 0x000001E406EDC978>: Failed to establish a new connection: [Errno 11001] getaddrinfo failed'))\n"
     ]
    }
   ],
   "source": [
    "try:\n",
    "    retrieve = put('http://127.0.0./1:5003/business', json=critiqueDict).json()\n",
    "    print(retrieve)\n",
    "    \n",
    "except Exception as e:\n",
    "    print(type(e))\n",
    "    print(e)"
   ]
  },
  {
   "cell_type": "code",
   "execution_count": 37,
   "metadata": {},
   "outputs": [
    {
     "name": "stdout",
     "output_type": "stream",
     "text": [
      "<class 'requests.exceptions.ConnectionError'>\n",
      "HTTPConnectionPool(host='127.0.0.', port=80): Max retries exceeded with url: /1:5003/business (Caused by NewConnectionError('<urllib3.connection.HTTPConnection object at 0x000001E406ED6DA0>: Failed to establish a new connection: [Errno 11001] getaddrinfo failed'))\n"
     ]
    }
   ],
   "source": [
    "try:\n",
    "    retrieve = put('http://127.0.0./1:5003/business', json=critiqueDict).json()\n",
    "    print(retrieve)\n",
    "    \n",
    "except Exception as e:\n",
    "    print(type(e))\n",
    "    print(e)"
   ]
  },
  {
   "cell_type": "code",
   "execution_count": 8,
   "metadata": {},
   "outputs": [
    {
     "data": {
      "text/plain": [
       "{'message': 'Internal Server Error'}"
      ]
     },
     "execution_count": 8,
     "metadata": {},
     "output_type": "execute_result"
    }
   ],
   "source": [
    "postRequest('http://127.0.0.1:5002/business')"
   ]
  },
  {
   "cell_type": "markdown",
   "metadata": {},
   "source": [
    "### Testing initialize & recommend for critique_API_V2"
   ]
  },
  {
   "cell_type": "markdown",
   "metadata": {},
   "source": [
    "### Test user initialization - set up initial user recommendation list"
   ]
  },
  {
   "cell_type": "code",
   "execution_count": 114,
   "metadata": {},
   "outputs": [],
   "source": [
    "restaurantInitializeDict = {\n",
    " 'r_BrIgzYcwo1NAuG9dLbpg': 'Pai Northern Thai Kitchen',\n",
    " 'aLcFhMe6DDJ430zelCpd2A': 'Khao San Road',\n",
    " 'RtUvSWO_UZ8V3Wpj0n077w': 'KINKA IZAKAYA ORIGINAL',\n",
    " 'iGEvDk6hsizigmXhDKs2Vg': 'Seven Lives Tacos Y Mariscos',\n",
    " 'N93EYZy9R0sdlEvubu94ig': 'Banh Mi Boys',\n",
    " 'zgQHtqX0gqMw1nlBZl2VnQ': 'Momofuku Noodle Bar',\n",
    " 'B70iTJjcPkuYn8ouUewWgw': 'Gusto 101',\n",
    " 'e41TP5cXZqSrz50xCBJqZw': 'Insomnia Restaurant & Lounge',\n",
    " 'f5O7v_X_jCg2itqacRfxhg': 'Sansotei Ramen',\n",
    " 'a8pmtlVKf7NiSLI-4KejIw': 'El Catrin Destileria',\n",
    " 'h_4dPV9M9aYaBliH1Eoeeg': 'Wvrst',\n",
    " 'kOFDVcnj-8fd3doIpCQ06A': \"Mildred's Temple Kitchen\",\n",
    " 'Yl2TN9c23ZGLUBSD9ks5Uw': 'Byblos',\n",
    " 'k6zmSLmYAquCpJGKNnTgSQ': 'The Stockyards',\n",
    " '_xAJZOKBMPOe47p1MphB2w': 'Fishman Lobster Clubhouse Restaurant',\n",
    " 'MS-hfug4QDXqb_Mws3qlzA': 'Grand Electric',\n",
    " 'O1TvPrgkK2bUo5O5aSZ7lw': 'Rol San',\n",
    " 'nBl_4gw5ecGzNkHyzfii8g': 'Terroni',\n",
    " 'KVpvE6pOPM9KMvak4HFsNg': 'Pizzeria Libretto',\n",
    " 'fGurvC5BdOfd5MIuLUQYVA': 'Dumpling House Restaurant',\n",
    " 'UxWH8zRYIBgs6Q2oykvRdw': 'Cluny Bistro & Boulangerie',\n",
    " 'wSojc-y-d7MWiGWdy8deCg': 'Barque Smokehouse',\n",
    " 'RUd_M7DPJq1I3DPq0oF--w': 'Lahore Tikka House',\n",
    " 'MhiBpIBNTCAm1Xd3WzRzjQ': 'Messini Authentic Gyros',\n",
    " 'oWTn2IzrprsRkPfULtjZtQ': \"The Burger's Priest\",\n",
    " 'nHFJtud7jWZhM9dHQ1eIRA': 'Buk Chang Dong Soon Tofu',\n",
    " 'Cp3YRVZojrCGeQS41Hf1pw': 'Pho Hung',\n",
    " 'UDk7qUVIetK3Y3NuARguqg': 'Banjara Indian Cuisine',\n",
    " '3uIXuw878fNjxZ2Li1diFg': 'The Hogtown Vegan',\n",
    " 'q5xrVJ4kivx_yEfJeOKNYQ': 'Bar Isabel'}"
   ]
  },
  {
   "cell_type": "code",
   "execution_count": 115,
   "metadata": {},
   "outputs": [
    {
     "name": "stdout",
     "output_type": "stream",
     "text": [
      "Input business id that you like nBl_4gw5ecGzNkHyzfii8g\n",
      "nBl_4gw5ecGzNkHyzfii8g\n",
      "Input business id that you like q5xrVJ4kivx_yEfJeOKNYQ\n",
      "q5xrVJ4kivx_yEfJeOKNYQ\n",
      "Input business id that you like UDk7qUVIetK3Y3NuARguqg\n",
      "UDk7qUVIetK3Y3NuARguqg\n",
      "Input business id that you like stop\n",
      "stop\n",
      "{'init_key': ['nBl_4gw5ecGzNkHyzfii8g', 'q5xrVJ4kivx_yEfJeOKNYQ', 'UDk7qUVIetK3Y3NuARguqg']}\n",
      "{'You are calling a PUT for set up, the user initialization you sent:': {'init_key': ['nBl_4gw5ecGzNkHyzfii8g', 'q5xrVJ4kivx_yEfJeOKNYQ', 'UDk7qUVIetK3Y3NuARguqg']}}\n"
     ]
    }
   ],
   "source": [
    "#Initialize user preference dictionary 'business_id': '5'\n",
    "UserInitialResponse = {}\n",
    "businessIdInput = ''\n",
    "businessIdList = []\n",
    "while businessIdInput.lower() != 'stop': \n",
    "    businessIdInput = input(\"Input business id that you like \").strip()\n",
    "    print(businessIdInput)\n",
    "    if businessIdInput== 'stop':\n",
    "        break;\n",
    "    elif businessIdInput not in restaurantInitializeDict.keys():\n",
    "        print('invalid business id, RE-ENTER')\n",
    "    else:\n",
    "        businessIdList.append(businessIdInput)\n",
    "        \n",
    "UserInitialResponse['init_key'] = businessIdList\n",
    "print(UserInitialResponse)\n",
    "#Now retrieve from end point\n",
    "retrieve = put('http://127.0.0.1:5002/initialization', json=UserInitialResponse, verify=False).json()\n",
    "print(retrieve)\n"
   ]
  },
  {
   "cell_type": "markdown",
   "metadata": {},
   "source": [
    "### Test intersection - /initialization POST"
   ]
  },
  {
   "cell_type": "code",
   "execution_count": 116,
   "metadata": {},
   "outputs": [],
   "source": [
    "yonge_and_finch = {'init_key': '43.779824,-79.415665'}\n",
    "bloor_and_bathurst = {'init_key': '43.665194,-79.411208'}\n",
    "queen_and_spadina = {'init_key': '43.648772,-79.396259'} \n",
    "bloor_and_yonge = {'init_key': '43.670409,-79.386814'}\n",
    "dundas_and_yonge = {'init_key': '43.6561,-79.3802'}\n",
    "spadina_and_dundas = {'init_key': '43.653004,-79.398082'}\n",
    "\n",
    "intersectionDictionary= {'yonge_and_finch': yonge_and_finch,\n",
    "                         'bloor_and_bathurst': bloor_and_bathurst,\n",
    "                         'queen_and_spadina':queen_and_spadina,\n",
    "                         'bloor_and_yonge': bloor_and_yonge,\n",
    "                         'dundas_and_yonge': dundas_and_yonge,\n",
    "                         'spadina_and_dundas': spadina_and_dundas}"
   ]
  },
  {
   "cell_type": "code",
   "execution_count": 117,
   "metadata": {},
   "outputs": [
    {
     "name": "stdout",
     "output_type": "stream",
     "text": [
      "Input intersection to testyonge_and_finch\n",
      "yonge_and_finch\n",
      "{'init_key': 'yonge_and_finch'}\n",
      "{'You are calling a POST for set up, intersection point:': 'yonge_and_finch'}\n",
      "currentRecommendation: {'business_id': '3', 'name': 'The Fry', 'cuisine': 'Bars, Korean, Soul Food', 'price': '$$', 'rating': '3.5', 'distance': '1.9km', 'addText': '', 'explanation': 'chicken is pretty good, pretty quick service and best korean chicken'}\n"
     ]
    }
   ],
   "source": [
    "testIntersection = \"\"\n",
    "sendIntersectionJson = {}\n",
    "while testIntersection  not in intersectionDictionary.keys():\n",
    "    testIntersection = input('Input intersection to test')\n",
    "    print(testIntersection)\n",
    "    sendIntersectionJson['init_key'] = testIntersection\n",
    "    print(sendIntersectionJson)\n",
    "    \n",
    "#Now retrieve from another end point\n",
    "retrieve = post('http://127.0.0.1:5002/initialization', json=sendIntersectionJson, verify=False).json()\n",
    "print(retrieve)\n",
    "\n",
    "currentRecommendation = getRequest('http://127.0.0.1:5002/business')\n",
    "print('currentRecommendation:', currentRecommendation)"
   ]
  },
  {
   "cell_type": "code",
   "execution_count": 1,
   "metadata": {},
   "outputs": [],
   "source": [
    "def detect_intent_texts(project_id, session_id, texts, language_code):\n",
    "    \"\"\"Returns the result of detect intent with texts as inputs.\n",
    "\n",
    "    Using the same `session_id` between requests allows continuation\n",
    "    of the conversation.\"\"\"\n",
    "    import dialogflow_v2 as dialogflow\n",
    "    session_client = dialogflow.SessionsClient()\n",
    "\n",
    "    session = session_client.session_path(project_id, session_id)\n",
    "    print('Session path: {}\\n'.format(session))\n",
    "\n",
    "    for text in texts:\n",
    "        text_input = dialogflow.types.TextInput(\n",
    "            text=text, language_code=language_code)\n",
    "\n",
    "        query_input = dialogflow.types.QueryInput(text=text_input)\n",
    "\n",
    "        response = session_client.detect_intent(\n",
    "            session=session, query_input=query_input)\n",
    "\n",
    "        print('=' * 20)\n",
    "        print('Query text: {}'.format(response.query_result.query_text))\n",
    "        print('Detected intent: {} (confidence: {})\\n'.format(\n",
    "            response.query_result.intent.display_name,\n",
    "            response.query_result.intent_detection_confidence))\n",
    "        print('Fulfillment text: {}\\n'.format(\n",
    "            response.query_result.fulfillment_text))"
   ]
  },
  {
   "cell_type": "code",
   "execution_count": null,
   "metadata": {},
   "outputs": [],
   "source": [
    "detect_intent_texts()"
   ]
  }
 ],
 "metadata": {
  "kernelspec": {
   "display_name": "Python 3",
   "language": "python",
   "name": "python3"
  },
  "language_info": {
   "codemirror_mode": {
    "name": "ipython",
    "version": 3
   },
   "file_extension": ".py",
   "mimetype": "text/x-python",
   "name": "python",
   "nbconvert_exporter": "python",
   "pygments_lexer": "ipython3",
   "version": "3.7.3"
  }
 },
 "nbformat": 4,
 "nbformat_minor": 2
}
