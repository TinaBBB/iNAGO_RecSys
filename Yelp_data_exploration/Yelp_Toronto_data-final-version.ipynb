{
 "cells": [
  {
   "cell_type": "code",
   "execution_count": 1,
   "metadata": {},
   "outputs": [],
   "source": [
    "from ast import literal_eval\n",
    "from os import listdir\n",
    "from os.path import isfile, join\n",
    "from scipy.sparse import csr_matrix, load_npz, save_npz\n",
    "from tqdm import tqdm\n",
    "from sklearn.preprocessing import normalize\n",
    "import yaml\n",
    "import seaborn as sns\n",
    "import datetime\n",
    "import json\n",
    "import numpy as np\n",
    "import pandas as pd\n",
    "import time\n",
    "import yaml\n",
    "import scipy.sparse as sparse\n",
    "from ast import literal_eval\n",
    "\n",
    "# For Python2 this have to be done\n",
    "# from __future__ import division\n"
   ]
  },
  {
   "cell_type": "markdown",
   "metadata": {},
   "source": [
    "### Import Toronto data as df,  userJson as df_user"
   ]
  },
  {
   "cell_type": "code",
   "execution_count": 2,
   "metadata": {
    "scrolled": true
   },
   "outputs": [],
   "source": [
    "# read csv data reviews \n",
    "df_toronto_review = pd.read_csv('../data/toronto_reviews.csv')\n",
    "\n",
    "# read business csv data \n",
    "df_business = pd.read_csv('../data/businesses_final_toronto.csv')"
   ]
  },
  {
   "cell_type": "code",
   "execution_count": 3,
   "metadata": {},
   "outputs": [],
   "source": [
    "# rename business id\n",
    "df_business.rename(columns={'id': 'business_id'}, inplace=True)"
   ]
  },
  {
   "cell_type": "code",
   "execution_count": 4,
   "metadata": {},
   "outputs": [
    {
     "data": {
      "text/html": [
       "<div>\n",
       "<style scoped>\n",
       "    .dataframe tbody tr th:only-of-type {\n",
       "        vertical-align: middle;\n",
       "    }\n",
       "\n",
       "    .dataframe tbody tr th {\n",
       "        vertical-align: top;\n",
       "    }\n",
       "\n",
       "    .dataframe thead th {\n",
       "        text-align: right;\n",
       "    }\n",
       "</style>\n",
       "<table border=\"1\" class=\"dataframe\">\n",
       "  <thead>\n",
       "    <tr style=\"text-align: right;\">\n",
       "      <th></th>\n",
       "      <th>Unnamed: 0</th>\n",
       "      <th>alias</th>\n",
       "      <th>categories</th>\n",
       "      <th>coordinates</th>\n",
       "      <th>display_phone</th>\n",
       "      <th>distance</th>\n",
       "      <th>business_id</th>\n",
       "      <th>image_url</th>\n",
       "      <th>is_closed</th>\n",
       "      <th>location</th>\n",
       "      <th>name</th>\n",
       "      <th>phone</th>\n",
       "      <th>price</th>\n",
       "      <th>rating</th>\n",
       "      <th>review_count</th>\n",
       "      <th>transactions</th>\n",
       "      <th>url</th>\n",
       "    </tr>\n",
       "  </thead>\n",
       "  <tbody>\n",
       "    <tr>\n",
       "      <th>0</th>\n",
       "      <td>0</td>\n",
       "      <td>the-ossington-toronto</td>\n",
       "      <td>[{'alias': 'divebars', 'title': 'Dive Bars'}]</td>\n",
       "      <td>{'latitude': 43.6456, 'longitude': -79.41903}</td>\n",
       "      <td>+1 416-850-0161</td>\n",
       "      <td>4831.221092</td>\n",
       "      <td>KUdj08tVC3tvIT0rM6V8uQ</td>\n",
       "      <td>https://s3-media1.fl.yelpcdn.com/bphoto/dEQPAb...</td>\n",
       "      <td>False</td>\n",
       "      <td>{'address1': '61 Ossington Avenue', 'address2'...</td>\n",
       "      <td>The Ossington</td>\n",
       "      <td>1.416850e+10</td>\n",
       "      <td>$$</td>\n",
       "      <td>3.0</td>\n",
       "      <td>46</td>\n",
       "      <td>[]</td>\n",
       "      <td>https://www.yelp.com/biz/the-ossington-toronto...</td>\n",
       "    </tr>\n",
       "    <tr>\n",
       "      <th>1</th>\n",
       "      <td>1</td>\n",
       "      <td>life-is-sweet-toronto-3</td>\n",
       "      <td>[{'alias': 'desserts', 'title': 'Desserts'}, {...</td>\n",
       "      <td>{'latitude': 43.67212500034, 'longitude': -79....</td>\n",
       "      <td>+1 416-698-0555</td>\n",
       "      <td>1716.906703</td>\n",
       "      <td>rnjFHvb1I-KlnGvv_o_Zxg</td>\n",
       "      <td>https://s3-media2.fl.yelpcdn.com/bphoto/s11QxZ...</td>\n",
       "      <td>False</td>\n",
       "      <td>{'address1': '2345 Queen Street E', 'address2'...</td>\n",
       "      <td>Life is Sweet</td>\n",
       "      <td>1.416698e+10</td>\n",
       "      <td>$$</td>\n",
       "      <td>4.0</td>\n",
       "      <td>10</td>\n",
       "      <td>[]</td>\n",
       "      <td>https://www.yelp.com/biz/life-is-sweet-toronto...</td>\n",
       "    </tr>\n",
       "  </tbody>\n",
       "</table>\n",
       "</div>"
      ],
      "text/plain": [
       "   Unnamed: 0                    alias  \\\n",
       "0           0    the-ossington-toronto   \n",
       "1           1  life-is-sweet-toronto-3   \n",
       "\n",
       "                                          categories  \\\n",
       "0      [{'alias': 'divebars', 'title': 'Dive Bars'}]   \n",
       "1  [{'alias': 'desserts', 'title': 'Desserts'}, {...   \n",
       "\n",
       "                                         coordinates    display_phone  \\\n",
       "0      {'latitude': 43.6456, 'longitude': -79.41903}  +1 416-850-0161   \n",
       "1  {'latitude': 43.67212500034, 'longitude': -79....  +1 416-698-0555   \n",
       "\n",
       "      distance             business_id  \\\n",
       "0  4831.221092  KUdj08tVC3tvIT0rM6V8uQ   \n",
       "1  1716.906703  rnjFHvb1I-KlnGvv_o_Zxg   \n",
       "\n",
       "                                           image_url  is_closed  \\\n",
       "0  https://s3-media1.fl.yelpcdn.com/bphoto/dEQPAb...      False   \n",
       "1  https://s3-media2.fl.yelpcdn.com/bphoto/s11QxZ...      False   \n",
       "\n",
       "                                            location           name  \\\n",
       "0  {'address1': '61 Ossington Avenue', 'address2'...  The Ossington   \n",
       "1  {'address1': '2345 Queen Street E', 'address2'...  Life is Sweet   \n",
       "\n",
       "          phone price  rating  review_count transactions  \\\n",
       "0  1.416850e+10    $$     3.0            46           []   \n",
       "1  1.416698e+10    $$     4.0            10           []   \n",
       "\n",
       "                                                 url  \n",
       "0  https://www.yelp.com/biz/the-ossington-toronto...  \n",
       "1  https://www.yelp.com/biz/life-is-sweet-toronto...  "
      ]
     },
     "execution_count": 4,
     "metadata": {},
     "output_type": "execute_result"
    }
   ],
   "source": [
    "df_business.head(2)"
   ]
  },
  {
   "cell_type": "code",
   "execution_count": 5,
   "metadata": {},
   "outputs": [
    {
     "name": "stdout",
     "output_type": "stream",
     "text": [
      "total business numbers: 32123\n"
     ]
    }
   ],
   "source": [
    "print(\"total business numbers:\", len(df_business))"
   ]
  },
  {
   "cell_type": "code",
   "execution_count": 6,
   "metadata": {},
   "outputs": [
    {
     "name": "stdout",
     "output_type": "stream",
     "text": [
      "Matched categories, before filtering size:  10131\n",
      "Matched categories, after filtering size:  9711\n"
     ]
    }
   ],
   "source": [
    "restaurantString = \"restaurant|Bar|Bakeries|food|Coffee|Tea|Waffles|Desserts\\\n",
    "|sandwiches|Cupcakes|cafes|Breakfast|Brunch|Lunch|Dinner|chicken|wings\\\n",
    "|singaporean|malaysian|indonesian|russian|taiwanese|american|vietnamese|moroccan\\\n",
    "|cantonese|caribbean|mideastern|asian|italian|korean|himalayan|african|nepalese|laotian|sushi|hawaiian\\\n",
    "|mediterranean|caterers|fish|chips|fishnchips|thai|salad|chinese|seafood|irish|portuguese|french|vegan|raw_food\\\n",
    "|pizza|latin|lebanese|burgers|gluten-free|japanese|pakistani|mexican|sushi|venues|argentine|lounges|barbeque\\\n",
    "|canadian|dimsum|halal|afghan|donuts|juice|smoothies|bagels|ramen|icecream|pubs|falafel\\\n",
    "|noodles|soup|cheese|colombian|turkish|ethiopian|peruvian|hungarian|ukrainian|indian\\\n",
    "|persian|brazilian|vegetarian|austrian|arabian|haitian|cambodian|german|greek|Barbeque\"\n",
    "\n",
    "# We only take restaurant business with the above keywords\n",
    "cond_category_restaurant = df_business[\"categories\"].str.contains(restaurantString,case=False)\n",
    "\n",
    "#df_business_Restaurant = df_business[cond_category_restaurant]\n",
    "df_matched_business = df_business[cond_category_restaurant]\n",
    "\n",
    "#Now filter out groceries, acupuncture \n",
    "filterString = \"acupuncture|grocery|bookstores|musicvideo|yoga|servicestations|convenience|homeappliancerepair\\\n",
    "|appliances|Repair|bike|repair|Used|toys|wholesale|supplies|hair|barbers|Hair Salons\"\n",
    "\n",
    "df_business_Restaurant = df_matched_business[~df_matched_business[\"categories\"].str.contains(filterString,case=False)]\n",
    "\n",
    "print('Matched categories, before filtering size: ', len(df_matched_business))\n",
    "print('Matched categories, after filtering size: ', len(df_business_Restaurant))\n"
   ]
  },
  {
   "cell_type": "code",
   "execution_count": 7,
   "metadata": {},
   "outputs": [],
   "source": [
    "#Checking the filtered out businesses at the first step  \n",
    "cond_category_Not_restaurant = ~df_business[\"categories\"].str.contains(restaurantString,case=False)\n",
    "business_not_res = df_business[cond_category_Not_restaurant]\n",
    "# for index, value in business_not_res['categories'].items():\n",
    "#     print(\"Index : {}, Value : {}\".format(index, value))"
   ]
  },
  {
   "cell_type": "code",
   "execution_count": 8,
   "metadata": {},
   "outputs": [
    {
     "data": {
      "text/plain": [
       "Series([], Name: categories, dtype: object)"
      ]
     },
     "execution_count": 8,
     "metadata": {},
     "output_type": "execute_result"
    }
   ],
   "source": [
    "#Checking invalid businesses\n",
    "pd.options.display.max_colwidth = 90  \n",
    "df_business_Restaurant[df_business_Restaurant[\"categories\"].str.contains('barber',case=False)].categories"
   ]
  },
  {
   "cell_type": "code",
   "execution_count": null,
   "metadata": {},
   "outputs": [],
   "source": [
    "  "
   ]
  },
  {
   "cell_type": "code",
   "execution_count": 9,
   "metadata": {},
   "outputs": [],
   "source": [
    "# for index in range(0,100):\n",
    "#     print(business_not_res['categories'][index])\n",
    "#business_not_res['categories']\n",
    "\n",
    "# for index, value in business_not_res['categories'].items():\n",
    "#     print(\"Index : {}, Value : {}\".format(index, value))"
   ]
  },
  {
   "cell_type": "code",
   "execution_count": 10,
   "metadata": {},
   "outputs": [],
   "source": [
    "#Checking business name\n",
    "# df_business['name'][31600]"
   ]
  },
  {
   "cell_type": "code",
   "execution_count": 11,
   "metadata": {},
   "outputs": [
    {
     "name": "stdout",
     "output_type": "stream",
     "text": [
      "9711\n",
      "9711\n"
     ]
    }
   ],
   "source": [
    "# Drop duplicate values in df_business\n",
    "print(len(df_business_Restaurant))\n",
    "df_business_clean = df_business_Restaurant.drop_duplicates(subset =\"business_id\", \n",
    "                     keep = False)\n",
    "print(len(df_business_clean))"
   ]
  },
  {
   "cell_type": "markdown",
   "metadata": {},
   "source": [
    "## Changing the format of category"
   ]
  },
  {
   "cell_type": "code",
   "execution_count": 12,
   "metadata": {},
   "outputs": [],
   "source": [
    "# Rename Month as Day and Day as Month(error occurs on original data)\n",
    "df_toronto_review=df_toronto_review.rename(columns = {'Month':'new_Day'})\n",
    "df_toronto_review=df_toronto_review.rename(columns = {'Day':'Month'})\n",
    "df_toronto_review=df_toronto_review.rename(columns = {'new_Day':'Day'})"
   ]
  },
  {
   "cell_type": "code",
   "execution_count": 13,
   "metadata": {},
   "outputs": [],
   "source": [
    "# df_toronto_review.shape"
   ]
  },
  {
   "cell_type": "code",
   "execution_count": 14,
   "metadata": {},
   "outputs": [],
   "source": [
    "# df_business_clean.shape"
   ]
  },
  {
   "cell_type": "code",
   "execution_count": 15,
   "metadata": {},
   "outputs": [],
   "source": [
    "# inner join two full dataset\n",
    "df = pd.merge(df_toronto_review, df_business_clean, on='business_id', how='inner')"
   ]
  },
  {
   "cell_type": "code",
   "execution_count": 16,
   "metadata": {},
   "outputs": [
    {
     "data": {
      "text/plain": [
       "(503776, 39)"
      ]
     },
     "execution_count": 16,
     "metadata": {},
     "output_type": "execute_result"
    }
   ],
   "source": [
    "df.shape"
   ]
  },
  {
   "cell_type": "code",
   "execution_count": 17,
   "metadata": {},
   "outputs": [],
   "source": [
    "# merge the date and turn it into string\n",
    "df['date'] = pd.to_datetime(df[['Year', 'Month','Day']])\n",
    "df['date'] = df['date'].astype(str)"
   ]
  },
  {
   "cell_type": "code",
   "execution_count": 18,
   "metadata": {
    "scrolled": true
   },
   "outputs": [],
   "source": [
    "# rename the columns to match the algorithm \n",
    "df.rename(columns={'rating_x': 'stars','rating_y': 'business_stars','review_text': 'text',}, inplace=True)"
   ]
  },
  {
   "cell_type": "code",
   "execution_count": 19,
   "metadata": {},
   "outputs": [],
   "source": [
    "# get rid of the rows without user_id\n",
    "df = df[~df[\"user_id\"].isnull()]"
   ]
  },
  {
   "cell_type": "code",
   "execution_count": 20,
   "metadata": {},
   "outputs": [
    {
     "data": {
      "text/html": [
       "<div>\n",
       "<style scoped>\n",
       "    .dataframe tbody tr th:only-of-type {\n",
       "        vertical-align: middle;\n",
       "    }\n",
       "\n",
       "    .dataframe tbody tr th {\n",
       "        vertical-align: top;\n",
       "    }\n",
       "\n",
       "    .dataframe thead th {\n",
       "        text-align: right;\n",
       "    }\n",
       "</style>\n",
       "<table border=\"1\" class=\"dataframe\">\n",
       "  <thead>\n",
       "    <tr style=\"text-align: right;\">\n",
       "      <th></th>\n",
       "      <th>Unnamed: 0_x</th>\n",
       "      <th>Unnamed: 0.1</th>\n",
       "      <th>business_id</th>\n",
       "      <th>friend_count</th>\n",
       "      <th>ghost</th>\n",
       "      <th>img_dsc</th>\n",
       "      <th>img_url</th>\n",
       "      <th>nr</th>\n",
       "      <th>photo_count</th>\n",
       "      <th>stars</th>\n",
       "      <th>review_count_x</th>\n",
       "      <th>review_date</th>\n",
       "      <th>review_id</th>\n",
       "      <th>review_language</th>\n",
       "      <th>text</th>\n",
       "      <th>ufc</th>\n",
       "      <th>user_id</th>\n",
       "      <th>user_loc</th>\n",
       "      <th>vote_count</th>\n",
       "      <th>Updated</th>\n",
       "      <th>Year</th>\n",
       "      <th>Day</th>\n",
       "      <th>Month</th>\n",
       "      <th>Unnamed: 0_y</th>\n",
       "      <th>alias</th>\n",
       "      <th>categories</th>\n",
       "      <th>coordinates</th>\n",
       "      <th>display_phone</th>\n",
       "      <th>distance</th>\n",
       "      <th>image_url</th>\n",
       "      <th>is_closed</th>\n",
       "      <th>location</th>\n",
       "      <th>name</th>\n",
       "      <th>phone</th>\n",
       "      <th>price</th>\n",
       "      <th>business_stars</th>\n",
       "      <th>review_count_y</th>\n",
       "      <th>transactions</th>\n",
       "      <th>url</th>\n",
       "      <th>date</th>\n",
       "    </tr>\n",
       "  </thead>\n",
       "  <tbody>\n",
       "    <tr>\n",
       "      <th>0</th>\n",
       "      <td>6</td>\n",
       "      <td>6</td>\n",
       "      <td>Xo1LNzhnwE-ilqsM3ybs9Q</td>\n",
       "      <td>105</td>\n",
       "      <td>False</td>\n",
       "      <td>['Photo of Happy Lemon - Markham, ON, Canada. Lemon mango slush']</td>\n",
       "      <td>['https://s3-media4.fl.yelpcdn.com/bphoto/tu7jZIEA1RZJ6U1s7ZAx3w/348s.jpg']</td>\n",
       "      <td>False</td>\n",
       "      <td>325.0</td>\n",
       "      <td>4.0</td>\n",
       "      <td>122</td>\n",
       "      <td>['8', '23', '2016']</td>\n",
       "      <td>rqjzFEb1rQ09CgDVlGxZug</td>\n",
       "      <td>en</td>\n",
       "      <td>I ordered the lemon mango slush and the lemon taste is very strong.  If you love lemon...</td>\n",
       "      <td>[1, 1, 1]</td>\n",
       "      <td>zsJFjhBQEFQ6gJ7BsNM_Ug</td>\n",
       "      <td>Toronto, Canada</td>\n",
       "      <td>1.0</td>\n",
       "      <td>False</td>\n",
       "      <td>2016</td>\n",
       "      <td>23</td>\n",
       "      <td>8</td>\n",
       "      <td>21653</td>\n",
       "      <td>happy-lemon-markham</td>\n",
       "      <td>[{'alias': 'bubbletea', 'title': 'Bubble Tea'}, {'alias': 'coffee', 'title': 'Coffee &amp;...</td>\n",
       "      <td>{'latitude': 43.8258200636421, 'longitude': -79.3063458055258}</td>\n",
       "      <td>+1 416-855-0768</td>\n",
       "      <td>2867.240253</td>\n",
       "      <td>https://s3-media4.fl.yelpcdn.com/bphoto/ATj6Mv5Siz8ExZpAC8XSXA/o.jpg</td>\n",
       "      <td>False</td>\n",
       "      <td>{'address1': 'B25 4300 Steeles Avenue E', 'address2': '', 'address3': None, 'city': 'M...</td>\n",
       "      <td>Happy Lemon</td>\n",
       "      <td>1.416855e+10</td>\n",
       "      <td>$</td>\n",
       "      <td>3.5</td>\n",
       "      <td>32</td>\n",
       "      <td>[]</td>\n",
       "      <td>https://www.yelp.com/biz/happy-lemon-markham?adjust_creative=ZbO96qTvvfSmFTkvkUBjkQ&amp;ut...</td>\n",
       "      <td>2016-08-23</td>\n",
       "    </tr>\n",
       "    <tr>\n",
       "      <th>1</th>\n",
       "      <td>7</td>\n",
       "      <td>7</td>\n",
       "      <td>Xo1LNzhnwE-ilqsM3ybs9Q</td>\n",
       "      <td>171</td>\n",
       "      <td>False</td>\n",
       "      <td>['Photo of Happy Lemon - Markham, ON, Canada. Oreo milk tea', 'Photo of Happy Lemon - ...</td>\n",
       "      <td>['https://s3-media3.fl.yelpcdn.com/bphoto/h110aP3Vldr7KjuhOhryZQ/348s.jpg', 'https://s...</td>\n",
       "      <td>False</td>\n",
       "      <td>307.0</td>\n",
       "      <td>3.0</td>\n",
       "      <td>114</td>\n",
       "      <td>['10', '2', '2016']</td>\n",
       "      <td>P7S5VclOJEihkqpA7LscPw</td>\n",
       "      <td>en</td>\n",
       "      <td>Came here on a Sunday afternoon, it wasn't busy at all. I came here for the Sunday spe...</td>\n",
       "      <td>[1, 0, 0]</td>\n",
       "      <td>P7YuMh74-I2cDq7oU8frww</td>\n",
       "      <td>York Regional Municipality, Canada</td>\n",
       "      <td>1.0</td>\n",
       "      <td>False</td>\n",
       "      <td>2016</td>\n",
       "      <td>2</td>\n",
       "      <td>10</td>\n",
       "      <td>21653</td>\n",
       "      <td>happy-lemon-markham</td>\n",
       "      <td>[{'alias': 'bubbletea', 'title': 'Bubble Tea'}, {'alias': 'coffee', 'title': 'Coffee &amp;...</td>\n",
       "      <td>{'latitude': 43.8258200636421, 'longitude': -79.3063458055258}</td>\n",
       "      <td>+1 416-855-0768</td>\n",
       "      <td>2867.240253</td>\n",
       "      <td>https://s3-media4.fl.yelpcdn.com/bphoto/ATj6Mv5Siz8ExZpAC8XSXA/o.jpg</td>\n",
       "      <td>False</td>\n",
       "      <td>{'address1': 'B25 4300 Steeles Avenue E', 'address2': '', 'address3': None, 'city': 'M...</td>\n",
       "      <td>Happy Lemon</td>\n",
       "      <td>1.416855e+10</td>\n",
       "      <td>$</td>\n",
       "      <td>3.5</td>\n",
       "      <td>32</td>\n",
       "      <td>[]</td>\n",
       "      <td>https://www.yelp.com/biz/happy-lemon-markham?adjust_creative=ZbO96qTvvfSmFTkvkUBjkQ&amp;ut...</td>\n",
       "      <td>2016-10-02</td>\n",
       "    </tr>\n",
       "  </tbody>\n",
       "</table>\n",
       "</div>"
      ],
      "text/plain": [
       "   Unnamed: 0_x  Unnamed: 0.1             business_id  friend_count  ghost  \\\n",
       "0             6             6  Xo1LNzhnwE-ilqsM3ybs9Q           105  False   \n",
       "1             7             7  Xo1LNzhnwE-ilqsM3ybs9Q           171  False   \n",
       "\n",
       "                                                                                     img_dsc  \\\n",
       "0                          ['Photo of Happy Lemon - Markham, ON, Canada. Lemon mango slush']   \n",
       "1  ['Photo of Happy Lemon - Markham, ON, Canada. Oreo milk tea', 'Photo of Happy Lemon - ...   \n",
       "\n",
       "                                                                                     img_url  \\\n",
       "0                ['https://s3-media4.fl.yelpcdn.com/bphoto/tu7jZIEA1RZJ6U1s7ZAx3w/348s.jpg']   \n",
       "1  ['https://s3-media3.fl.yelpcdn.com/bphoto/h110aP3Vldr7KjuhOhryZQ/348s.jpg', 'https://s...   \n",
       "\n",
       "      nr  photo_count  stars  review_count_x          review_date  \\\n",
       "0  False        325.0    4.0             122  ['8', '23', '2016']   \n",
       "1  False        307.0    3.0             114  ['10', '2', '2016']   \n",
       "\n",
       "                review_id review_language  \\\n",
       "0  rqjzFEb1rQ09CgDVlGxZug              en   \n",
       "1  P7S5VclOJEihkqpA7LscPw              en   \n",
       "\n",
       "                                                                                        text  \\\n",
       "0  I ordered the lemon mango slush and the lemon taste is very strong.  If you love lemon...   \n",
       "1  Came here on a Sunday afternoon, it wasn't busy at all. I came here for the Sunday spe...   \n",
       "\n",
       "         ufc                 user_id                            user_loc  \\\n",
       "0  [1, 1, 1]  zsJFjhBQEFQ6gJ7BsNM_Ug                     Toronto, Canada   \n",
       "1  [1, 0, 0]  P7YuMh74-I2cDq7oU8frww  York Regional Municipality, Canada   \n",
       "\n",
       "   vote_count  Updated  Year  Day  Month  Unnamed: 0_y                alias  \\\n",
       "0         1.0    False  2016   23      8         21653  happy-lemon-markham   \n",
       "1         1.0    False  2016    2     10         21653  happy-lemon-markham   \n",
       "\n",
       "                                                                                  categories  \\\n",
       "0  [{'alias': 'bubbletea', 'title': 'Bubble Tea'}, {'alias': 'coffee', 'title': 'Coffee &...   \n",
       "1  [{'alias': 'bubbletea', 'title': 'Bubble Tea'}, {'alias': 'coffee', 'title': 'Coffee &...   \n",
       "\n",
       "                                                      coordinates  \\\n",
       "0  {'latitude': 43.8258200636421, 'longitude': -79.3063458055258}   \n",
       "1  {'latitude': 43.8258200636421, 'longitude': -79.3063458055258}   \n",
       "\n",
       "     display_phone     distance  \\\n",
       "0  +1 416-855-0768  2867.240253   \n",
       "1  +1 416-855-0768  2867.240253   \n",
       "\n",
       "                                                              image_url  \\\n",
       "0  https://s3-media4.fl.yelpcdn.com/bphoto/ATj6Mv5Siz8ExZpAC8XSXA/o.jpg   \n",
       "1  https://s3-media4.fl.yelpcdn.com/bphoto/ATj6Mv5Siz8ExZpAC8XSXA/o.jpg   \n",
       "\n",
       "   is_closed  \\\n",
       "0      False   \n",
       "1      False   \n",
       "\n",
       "                                                                                    location  \\\n",
       "0  {'address1': 'B25 4300 Steeles Avenue E', 'address2': '', 'address3': None, 'city': 'M...   \n",
       "1  {'address1': 'B25 4300 Steeles Avenue E', 'address2': '', 'address3': None, 'city': 'M...   \n",
       "\n",
       "          name         phone price  business_stars  review_count_y  \\\n",
       "0  Happy Lemon  1.416855e+10     $             3.5              32   \n",
       "1  Happy Lemon  1.416855e+10     $             3.5              32   \n",
       "\n",
       "  transactions  \\\n",
       "0           []   \n",
       "1           []   \n",
       "\n",
       "                                                                                         url  \\\n",
       "0  https://www.yelp.com/biz/happy-lemon-markham?adjust_creative=ZbO96qTvvfSmFTkvkUBjkQ&ut...   \n",
       "1  https://www.yelp.com/biz/happy-lemon-markham?adjust_creative=ZbO96qTvvfSmFTkvkUBjkQ&ut...   \n",
       "\n",
       "         date  \n",
       "0  2016-08-23  \n",
       "1  2016-10-02  "
      ]
     },
     "execution_count": 20,
     "metadata": {},
     "output_type": "execute_result"
    }
   ],
   "source": [
    "pd.set_option('display.max_columns', None)\n",
    "df.head(2)"
   ]
  },
  {
   "cell_type": "code",
   "execution_count": 21,
   "metadata": {},
   "outputs": [
    {
     "data": {
      "text/plain": [
       "409471"
      ]
     },
     "execution_count": 21,
     "metadata": {},
     "output_type": "execute_result"
    }
   ],
   "source": [
    "len(df)"
   ]
  },
  {
   "cell_type": "code",
   "execution_count": 22,
   "metadata": {},
   "outputs": [],
   "source": [
    "dfff = df.copy()"
   ]
  },
  {
   "cell_type": "markdown",
   "metadata": {},
   "source": [
    "change category format"
   ]
  },
  {
   "cell_type": "code",
   "execution_count": 23,
   "metadata": {},
   "outputs": [],
   "source": [
    "df = dfff.copy()"
   ]
  },
  {
   "cell_type": "code",
   "execution_count": 24,
   "metadata": {},
   "outputs": [],
   "source": [
    "df.reset_index(inplace = True)"
   ]
  },
  {
   "cell_type": "code",
   "execution_count": 25,
   "metadata": {
    "scrolled": false
   },
   "outputs": [
    {
     "name": "stderr",
     "output_type": "stream",
     "text": [
      "100%|████████████████████████████████████████████████████████████████████████| 409471/409471 [02:31<00:00, 2698.36it/s]\n"
     ]
    }
   ],
   "source": [
    "ans = []\n",
    "for cat in tqdm(df.categories.values):\n",
    "    temp = yaml.safe_load(cat)\n",
    "#     ans.append([temp[i][\"title\"] for i in range(len(temp))])\n",
    "    cat_str = \"\"\n",
    "    for i in range(len(temp)):\n",
    "        if i == 0:\n",
    "            cat_str += temp[i][\"title\"]\n",
    "            if len(temp) >1:\n",
    "                cat_str += \", \"\n",
    "        elif i == len(temp)-1:\n",
    "            cat_str += temp[i][\"title\"]\n",
    "        else:\n",
    "            cat_str += temp[i][\"title\"]\n",
    "            cat_str += \", \"\n",
    "    ans.append(cat_str)\n",
    "    "
   ]
  },
  {
   "cell_type": "code",
   "execution_count": 26,
   "metadata": {
    "scrolled": true
   },
   "outputs": [],
   "source": [
    "arr_temp = np.asarray(ans)"
   ]
  },
  {
   "cell_type": "code",
   "execution_count": 27,
   "metadata": {
    "scrolled": true
   },
   "outputs": [],
   "source": [
    "df_cat = pd.DataFrame(arr_temp)\n",
    "df_cat.rename(columns={0: \"cat\"}, inplace = True)"
   ]
  },
  {
   "cell_type": "code",
   "execution_count": 28,
   "metadata": {},
   "outputs": [],
   "source": [
    "df[\"cat\"] = df_cat"
   ]
  },
  {
   "cell_type": "code",
   "execution_count": 29,
   "metadata": {},
   "outputs": [],
   "source": [
    "pd.set_option('display.max_rows', 100000)"
   ]
  },
  {
   "cell_type": "code",
   "execution_count": 30,
   "metadata": {},
   "outputs": [],
   "source": [
    "del df['categories']"
   ]
  },
  {
   "cell_type": "code",
   "execution_count": 31,
   "metadata": {},
   "outputs": [],
   "source": [
    "df.rename(columns={\"cat\": \"categories\"}, inplace = True)"
   ]
  },
  {
   "cell_type": "code",
   "execution_count": 32,
   "metadata": {},
   "outputs": [
    {
     "data": {
      "text/html": [
       "<div>\n",
       "<style scoped>\n",
       "    .dataframe tbody tr th:only-of-type {\n",
       "        vertical-align: middle;\n",
       "    }\n",
       "\n",
       "    .dataframe tbody tr th {\n",
       "        vertical-align: top;\n",
       "    }\n",
       "\n",
       "    .dataframe thead th {\n",
       "        text-align: right;\n",
       "    }\n",
       "</style>\n",
       "<table border=\"1\" class=\"dataframe\">\n",
       "  <thead>\n",
       "    <tr style=\"text-align: right;\">\n",
       "      <th></th>\n",
       "      <th>index</th>\n",
       "      <th>Unnamed: 0_x</th>\n",
       "      <th>Unnamed: 0.1</th>\n",
       "      <th>business_id</th>\n",
       "      <th>friend_count</th>\n",
       "      <th>ghost</th>\n",
       "      <th>img_dsc</th>\n",
       "      <th>img_url</th>\n",
       "      <th>nr</th>\n",
       "      <th>photo_count</th>\n",
       "      <th>stars</th>\n",
       "      <th>review_count_x</th>\n",
       "      <th>review_date</th>\n",
       "      <th>review_id</th>\n",
       "      <th>review_language</th>\n",
       "      <th>text</th>\n",
       "      <th>ufc</th>\n",
       "      <th>user_id</th>\n",
       "      <th>user_loc</th>\n",
       "      <th>vote_count</th>\n",
       "      <th>Updated</th>\n",
       "      <th>Year</th>\n",
       "      <th>Day</th>\n",
       "      <th>Month</th>\n",
       "      <th>Unnamed: 0_y</th>\n",
       "      <th>alias</th>\n",
       "      <th>coordinates</th>\n",
       "      <th>display_phone</th>\n",
       "      <th>distance</th>\n",
       "      <th>image_url</th>\n",
       "      <th>is_closed</th>\n",
       "      <th>location</th>\n",
       "      <th>name</th>\n",
       "      <th>phone</th>\n",
       "      <th>price</th>\n",
       "      <th>business_stars</th>\n",
       "      <th>review_count_y</th>\n",
       "      <th>transactions</th>\n",
       "      <th>url</th>\n",
       "      <th>date</th>\n",
       "      <th>categories</th>\n",
       "    </tr>\n",
       "  </thead>\n",
       "  <tbody>\n",
       "    <tr>\n",
       "      <th>0</th>\n",
       "      <td>0</td>\n",
       "      <td>6</td>\n",
       "      <td>6</td>\n",
       "      <td>Xo1LNzhnwE-ilqsM3ybs9Q</td>\n",
       "      <td>105</td>\n",
       "      <td>False</td>\n",
       "      <td>['Photo of Happy Lemon - Markham, ON, Canada. Lemon mango slush']</td>\n",
       "      <td>['https://s3-media4.fl.yelpcdn.com/bphoto/tu7jZIEA1RZJ6U1s7ZAx3w/348s.jpg']</td>\n",
       "      <td>False</td>\n",
       "      <td>325.0</td>\n",
       "      <td>4.0</td>\n",
       "      <td>122</td>\n",
       "      <td>['8', '23', '2016']</td>\n",
       "      <td>rqjzFEb1rQ09CgDVlGxZug</td>\n",
       "      <td>en</td>\n",
       "      <td>I ordered the lemon mango slush and the lemon taste is very strong.  If you love lemon...</td>\n",
       "      <td>[1, 1, 1]</td>\n",
       "      <td>zsJFjhBQEFQ6gJ7BsNM_Ug</td>\n",
       "      <td>Toronto, Canada</td>\n",
       "      <td>1.0</td>\n",
       "      <td>False</td>\n",
       "      <td>2016</td>\n",
       "      <td>23</td>\n",
       "      <td>8</td>\n",
       "      <td>21653</td>\n",
       "      <td>happy-lemon-markham</td>\n",
       "      <td>{'latitude': 43.8258200636421, 'longitude': -79.3063458055258}</td>\n",
       "      <td>+1 416-855-0768</td>\n",
       "      <td>2867.240253</td>\n",
       "      <td>https://s3-media4.fl.yelpcdn.com/bphoto/ATj6Mv5Siz8ExZpAC8XSXA/o.jpg</td>\n",
       "      <td>False</td>\n",
       "      <td>{'address1': 'B25 4300 Steeles Avenue E', 'address2': '', 'address3': None, 'city': 'M...</td>\n",
       "      <td>Happy Lemon</td>\n",
       "      <td>1.416855e+10</td>\n",
       "      <td>$</td>\n",
       "      <td>3.5</td>\n",
       "      <td>32</td>\n",
       "      <td>[]</td>\n",
       "      <td>https://www.yelp.com/biz/happy-lemon-markham?adjust_creative=ZbO96qTvvfSmFTkvkUBjkQ&amp;ut...</td>\n",
       "      <td>2016-08-23</td>\n",
       "      <td>Bubble Tea, Coffee &amp; Tea</td>\n",
       "    </tr>\n",
       "    <tr>\n",
       "      <th>1</th>\n",
       "      <td>1</td>\n",
       "      <td>7</td>\n",
       "      <td>7</td>\n",
       "      <td>Xo1LNzhnwE-ilqsM3ybs9Q</td>\n",
       "      <td>171</td>\n",
       "      <td>False</td>\n",
       "      <td>['Photo of Happy Lemon - Markham, ON, Canada. Oreo milk tea', 'Photo of Happy Lemon - ...</td>\n",
       "      <td>['https://s3-media3.fl.yelpcdn.com/bphoto/h110aP3Vldr7KjuhOhryZQ/348s.jpg', 'https://s...</td>\n",
       "      <td>False</td>\n",
       "      <td>307.0</td>\n",
       "      <td>3.0</td>\n",
       "      <td>114</td>\n",
       "      <td>['10', '2', '2016']</td>\n",
       "      <td>P7S5VclOJEihkqpA7LscPw</td>\n",
       "      <td>en</td>\n",
       "      <td>Came here on a Sunday afternoon, it wasn't busy at all. I came here for the Sunday spe...</td>\n",
       "      <td>[1, 0, 0]</td>\n",
       "      <td>P7YuMh74-I2cDq7oU8frww</td>\n",
       "      <td>York Regional Municipality, Canada</td>\n",
       "      <td>1.0</td>\n",
       "      <td>False</td>\n",
       "      <td>2016</td>\n",
       "      <td>2</td>\n",
       "      <td>10</td>\n",
       "      <td>21653</td>\n",
       "      <td>happy-lemon-markham</td>\n",
       "      <td>{'latitude': 43.8258200636421, 'longitude': -79.3063458055258}</td>\n",
       "      <td>+1 416-855-0768</td>\n",
       "      <td>2867.240253</td>\n",
       "      <td>https://s3-media4.fl.yelpcdn.com/bphoto/ATj6Mv5Siz8ExZpAC8XSXA/o.jpg</td>\n",
       "      <td>False</td>\n",
       "      <td>{'address1': 'B25 4300 Steeles Avenue E', 'address2': '', 'address3': None, 'city': 'M...</td>\n",
       "      <td>Happy Lemon</td>\n",
       "      <td>1.416855e+10</td>\n",
       "      <td>$</td>\n",
       "      <td>3.5</td>\n",
       "      <td>32</td>\n",
       "      <td>[]</td>\n",
       "      <td>https://www.yelp.com/biz/happy-lemon-markham?adjust_creative=ZbO96qTvvfSmFTkvkUBjkQ&amp;ut...</td>\n",
       "      <td>2016-10-02</td>\n",
       "      <td>Bubble Tea, Coffee &amp; Tea</td>\n",
       "    </tr>\n",
       "  </tbody>\n",
       "</table>\n",
       "</div>"
      ],
      "text/plain": [
       "   index  Unnamed: 0_x  Unnamed: 0.1             business_id  friend_count  \\\n",
       "0      0             6             6  Xo1LNzhnwE-ilqsM3ybs9Q           105   \n",
       "1      1             7             7  Xo1LNzhnwE-ilqsM3ybs9Q           171   \n",
       "\n",
       "   ghost  \\\n",
       "0  False   \n",
       "1  False   \n",
       "\n",
       "                                                                                     img_dsc  \\\n",
       "0                          ['Photo of Happy Lemon - Markham, ON, Canada. Lemon mango slush']   \n",
       "1  ['Photo of Happy Lemon - Markham, ON, Canada. Oreo milk tea', 'Photo of Happy Lemon - ...   \n",
       "\n",
       "                                                                                     img_url  \\\n",
       "0                ['https://s3-media4.fl.yelpcdn.com/bphoto/tu7jZIEA1RZJ6U1s7ZAx3w/348s.jpg']   \n",
       "1  ['https://s3-media3.fl.yelpcdn.com/bphoto/h110aP3Vldr7KjuhOhryZQ/348s.jpg', 'https://s...   \n",
       "\n",
       "      nr  photo_count  stars  review_count_x          review_date  \\\n",
       "0  False        325.0    4.0             122  ['8', '23', '2016']   \n",
       "1  False        307.0    3.0             114  ['10', '2', '2016']   \n",
       "\n",
       "                review_id review_language  \\\n",
       "0  rqjzFEb1rQ09CgDVlGxZug              en   \n",
       "1  P7S5VclOJEihkqpA7LscPw              en   \n",
       "\n",
       "                                                                                        text  \\\n",
       "0  I ordered the lemon mango slush and the lemon taste is very strong.  If you love lemon...   \n",
       "1  Came here on a Sunday afternoon, it wasn't busy at all. I came here for the Sunday spe...   \n",
       "\n",
       "         ufc                 user_id                            user_loc  \\\n",
       "0  [1, 1, 1]  zsJFjhBQEFQ6gJ7BsNM_Ug                     Toronto, Canada   \n",
       "1  [1, 0, 0]  P7YuMh74-I2cDq7oU8frww  York Regional Municipality, Canada   \n",
       "\n",
       "   vote_count  Updated  Year  Day  Month  Unnamed: 0_y                alias  \\\n",
       "0         1.0    False  2016   23      8         21653  happy-lemon-markham   \n",
       "1         1.0    False  2016    2     10         21653  happy-lemon-markham   \n",
       "\n",
       "                                                      coordinates  \\\n",
       "0  {'latitude': 43.8258200636421, 'longitude': -79.3063458055258}   \n",
       "1  {'latitude': 43.8258200636421, 'longitude': -79.3063458055258}   \n",
       "\n",
       "     display_phone     distance  \\\n",
       "0  +1 416-855-0768  2867.240253   \n",
       "1  +1 416-855-0768  2867.240253   \n",
       "\n",
       "                                                              image_url  \\\n",
       "0  https://s3-media4.fl.yelpcdn.com/bphoto/ATj6Mv5Siz8ExZpAC8XSXA/o.jpg   \n",
       "1  https://s3-media4.fl.yelpcdn.com/bphoto/ATj6Mv5Siz8ExZpAC8XSXA/o.jpg   \n",
       "\n",
       "   is_closed  \\\n",
       "0      False   \n",
       "1      False   \n",
       "\n",
       "                                                                                    location  \\\n",
       "0  {'address1': 'B25 4300 Steeles Avenue E', 'address2': '', 'address3': None, 'city': 'M...   \n",
       "1  {'address1': 'B25 4300 Steeles Avenue E', 'address2': '', 'address3': None, 'city': 'M...   \n",
       "\n",
       "          name         phone price  business_stars  review_count_y  \\\n",
       "0  Happy Lemon  1.416855e+10     $             3.5              32   \n",
       "1  Happy Lemon  1.416855e+10     $             3.5              32   \n",
       "\n",
       "  transactions  \\\n",
       "0           []   \n",
       "1           []   \n",
       "\n",
       "                                                                                         url  \\\n",
       "0  https://www.yelp.com/biz/happy-lemon-markham?adjust_creative=ZbO96qTvvfSmFTkvkUBjkQ&ut...   \n",
       "1  https://www.yelp.com/biz/happy-lemon-markham?adjust_creative=ZbO96qTvvfSmFTkvkUBjkQ&ut...   \n",
       "\n",
       "         date                categories  \n",
       "0  2016-08-23  Bubble Tea, Coffee & Tea  \n",
       "1  2016-10-02  Bubble Tea, Coffee & Tea  "
      ]
     },
     "execution_count": 32,
     "metadata": {},
     "output_type": "execute_result"
    }
   ],
   "source": [
    "df.head(2)"
   ]
  },
  {
   "cell_type": "code",
   "execution_count": 74,
   "metadata": {
    "scrolled": true
   },
   "outputs": [
    {
     "data": {
      "text/html": [
       "<div>\n",
       "<style scoped>\n",
       "    .dataframe tbody tr th:only-of-type {\n",
       "        vertical-align: middle;\n",
       "    }\n",
       "\n",
       "    .dataframe tbody tr th {\n",
       "        vertical-align: top;\n",
       "    }\n",
       "\n",
       "    .dataframe thead th {\n",
       "        text-align: right;\n",
       "    }\n",
       "</style>\n",
       "<table border=\"1\" class=\"dataframe\">\n",
       "  <thead>\n",
       "    <tr style=\"text-align: right;\">\n",
       "      <th></th>\n",
       "      <th>Unnamed: 0</th>\n",
       "      <th>alias</th>\n",
       "      <th>categories</th>\n",
       "      <th>coordinates</th>\n",
       "      <th>display_phone</th>\n",
       "      <th>distance</th>\n",
       "      <th>business_id</th>\n",
       "      <th>image_url</th>\n",
       "      <th>is_closed</th>\n",
       "      <th>location</th>\n",
       "      <th>name</th>\n",
       "      <th>phone</th>\n",
       "      <th>price</th>\n",
       "      <th>rating</th>\n",
       "      <th>review_count</th>\n",
       "      <th>transactions</th>\n",
       "      <th>url</th>\n",
       "    </tr>\n",
       "  </thead>\n",
       "  <tbody>\n",
       "    <tr>\n",
       "      <th>0</th>\n",
       "      <td>0</td>\n",
       "      <td>the-ossington-toronto</td>\n",
       "      <td>[{'alias': 'divebars', 'title': 'Dive Bars'}]</td>\n",
       "      <td>{'latitude': 43.6456, 'longitude': -79.41903}</td>\n",
       "      <td>+1 416-850-0161</td>\n",
       "      <td>4831.221092</td>\n",
       "      <td>KUdj08tVC3tvIT0rM6V8uQ</td>\n",
       "      <td>https://s3-media1.fl.yelpcdn.com/bphoto/dEQPAbThPHKevj07OijSfA/o.jpg</td>\n",
       "      <td>False</td>\n",
       "      <td>{'address1': '61 Ossington Avenue', 'address2': '', 'address3': '', 'city': 'Toronto',...</td>\n",
       "      <td>The Ossington</td>\n",
       "      <td>1.416850e+10</td>\n",
       "      <td>$$</td>\n",
       "      <td>3.0</td>\n",
       "      <td>46</td>\n",
       "      <td>[]</td>\n",
       "      <td>https://www.yelp.com/biz/the-ossington-toronto?adjust_creative=uxtIWjm7I33oX3CDHUtQgQ&amp;...</td>\n",
       "    </tr>\n",
       "    <tr>\n",
       "      <th>1</th>\n",
       "      <td>1</td>\n",
       "      <td>life-is-sweet-toronto-3</td>\n",
       "      <td>[{'alias': 'desserts', 'title': 'Desserts'}, {'alias': 'bakeries', 'title': 'Bakeries'}]</td>\n",
       "      <td>{'latitude': 43.67212500034, 'longitude': -79.28946080056}</td>\n",
       "      <td>+1 416-698-0555</td>\n",
       "      <td>1716.906703</td>\n",
       "      <td>rnjFHvb1I-KlnGvv_o_Zxg</td>\n",
       "      <td>https://s3-media2.fl.yelpcdn.com/bphoto/s11QxZr-V8-VJHNLQJyvgQ/o.jpg</td>\n",
       "      <td>False</td>\n",
       "      <td>{'address1': '2345 Queen Street E', 'address2': '', 'address3': '', 'city': 'Toronto',...</td>\n",
       "      <td>Life is Sweet</td>\n",
       "      <td>1.416698e+10</td>\n",
       "      <td>$$</td>\n",
       "      <td>4.0</td>\n",
       "      <td>10</td>\n",
       "      <td>[]</td>\n",
       "      <td>https://www.yelp.com/biz/life-is-sweet-toronto-3?adjust_creative=9LfdvYfx0rVPnDmG5bc0i...</td>\n",
       "    </tr>\n",
       "    <tr>\n",
       "      <th>2</th>\n",
       "      <td>2</td>\n",
       "      <td>subway-toronto-51</td>\n",
       "      <td>[{'alias': 'sandwiches', 'title': 'Sandwiches'}, {'alias': 'hotdogs', 'title': 'Fast F...</td>\n",
       "      <td>{'latitude': 43.66449, 'longitude': -79.34116}</td>\n",
       "      <td>+1 416-465-8100</td>\n",
       "      <td>2934.260861</td>\n",
       "      <td>f8YPC7K4UUTkKatE5ga8Ig</td>\n",
       "      <td>https://s3-media1.fl.yelpcdn.com/bphoto/JpxU9FOgghpQQptpdsDDtg/o.jpg</td>\n",
       "      <td>False</td>\n",
       "      <td>{'address1': '331 Carlaw Avenue', 'address2': 'Unit 103', 'address3': '', 'city': 'Tor...</td>\n",
       "      <td>Subway</td>\n",
       "      <td>1.416466e+10</td>\n",
       "      <td>$$</td>\n",
       "      <td>1.5</td>\n",
       "      <td>6</td>\n",
       "      <td>[]</td>\n",
       "      <td>https://www.yelp.com/biz/subway-toronto-51?adjust_creative=NeTgDT5IUqTFt2XAEV__OA&amp;utm_...</td>\n",
       "    </tr>\n",
       "    <tr>\n",
       "      <th>5</th>\n",
       "      <td>5</td>\n",
       "      <td>jodies-restaurant-toronto</td>\n",
       "      <td>[{'alias': 'hotdogs', 'title': 'Fast Food'}, {'alias': 'diners', 'title': 'Diners'}, {...</td>\n",
       "      <td>{'latitude': 43.6053352355957, 'longitude': -79.5289154052734}</td>\n",
       "      <td>+1 416-255-5552</td>\n",
       "      <td>4262.777626</td>\n",
       "      <td>K5TteBnAfgj18HRnV-Yy4w</td>\n",
       "      <td>https://s3-media3.fl.yelpcdn.com/bphoto/GtkSIOchBTNry8WbIiZ7Gg/o.jpg</td>\n",
       "      <td>False</td>\n",
       "      <td>{'address1': '331 Horner Avenue', 'address2': '', 'address3': '', 'city': 'Toronto', '...</td>\n",
       "      <td>Jodie's Restaurant</td>\n",
       "      <td>1.416256e+10</td>\n",
       "      <td>$$</td>\n",
       "      <td>4.5</td>\n",
       "      <td>6</td>\n",
       "      <td>[]</td>\n",
       "      <td>https://www.yelp.com/biz/jodies-restaurant-toronto?adjust_creative=uxtIWjm7I33oX3CDHUt...</td>\n",
       "    </tr>\n",
       "    <tr>\n",
       "      <th>11</th>\n",
       "      <td>11</td>\n",
       "      <td>the-great-canadian-bagel-ltd-vaughan</td>\n",
       "      <td>[{'alias': 'bagels', 'title': 'Bagels'}]</td>\n",
       "      <td>{'latitude': 43.7928079, 'longitude': -79.5312639}</td>\n",
       "      <td>+1 905-760-9955</td>\n",
       "      <td>7595.423171</td>\n",
       "      <td>ARwwcafc0x5s9wC-Te9yXg</td>\n",
       "      <td>NaN</td>\n",
       "      <td>False</td>\n",
       "      <td>{'address1': '3300 Hwy 7', 'address2': 'Suite 101', 'address3': '', 'city': 'Vaughan',...</td>\n",
       "      <td>The Great Canadian Bagel, Ltd</td>\n",
       "      <td>1.905761e+10</td>\n",
       "      <td>$$</td>\n",
       "      <td>4.0</td>\n",
       "      <td>1</td>\n",
       "      <td>[]</td>\n",
       "      <td>https://www.yelp.com/biz/the-great-canadian-bagel-ltd-vaughan?adjust_creative=9LfdvYfx...</td>\n",
       "    </tr>\n",
       "    <tr>\n",
       "      <th>18</th>\n",
       "      <td>18</td>\n",
       "      <td>tim-hortons-toronto-240</td>\n",
       "      <td>[{'alias': 'coffee', 'title': 'Coffee &amp; Tea'}, {'alias': 'bakeries', 'title': 'Bakerie...</td>\n",
       "      <td>{'latitude': 43.61003, 'longitude': -79.55318}</td>\n",
       "      <td>+1 416-521-7336</td>\n",
       "      <td>2661.026341</td>\n",
       "      <td>ym-vQYhSONsViLfxbXJ0_g</td>\n",
       "      <td>https://s3-media3.fl.yelpcdn.com/bphoto/0f6QI_f_0rLQwJXPLPVhXA/o.jpg</td>\n",
       "      <td>False</td>\n",
       "      <td>{'address1': '660 Evans Avenue', 'address2': '', 'address3': None, 'city': 'Toronto', ...</td>\n",
       "      <td>Tim Horton's</td>\n",
       "      <td>1.416522e+10</td>\n",
       "      <td>NaN</td>\n",
       "      <td>3.5</td>\n",
       "      <td>2</td>\n",
       "      <td>[]</td>\n",
       "      <td>https://www.yelp.com/biz/tim-hortons-toronto-240?adjust_creative=ZbO96qTvvfSmFTkvkUBjk...</td>\n",
       "    </tr>\n",
       "  </tbody>\n",
       "</table>\n",
       "</div>"
      ],
      "text/plain": [
       "    Unnamed: 0                                 alias  \\\n",
       "0            0                 the-ossington-toronto   \n",
       "1            1               life-is-sweet-toronto-3   \n",
       "2            2                     subway-toronto-51   \n",
       "5            5             jodies-restaurant-toronto   \n",
       "11          11  the-great-canadian-bagel-ltd-vaughan   \n",
       "18          18               tim-hortons-toronto-240   \n",
       "\n",
       "                                                                                   categories  \\\n",
       "0                                               [{'alias': 'divebars', 'title': 'Dive Bars'}]   \n",
       "1    [{'alias': 'desserts', 'title': 'Desserts'}, {'alias': 'bakeries', 'title': 'Bakeries'}]   \n",
       "2   [{'alias': 'sandwiches', 'title': 'Sandwiches'}, {'alias': 'hotdogs', 'title': 'Fast F...   \n",
       "5   [{'alias': 'hotdogs', 'title': 'Fast Food'}, {'alias': 'diners', 'title': 'Diners'}, {...   \n",
       "11                                                   [{'alias': 'bagels', 'title': 'Bagels'}]   \n",
       "18  [{'alias': 'coffee', 'title': 'Coffee & Tea'}, {'alias': 'bakeries', 'title': 'Bakerie...   \n",
       "\n",
       "                                                       coordinates  \\\n",
       "0                    {'latitude': 43.6456, 'longitude': -79.41903}   \n",
       "1       {'latitude': 43.67212500034, 'longitude': -79.28946080056}   \n",
       "2                   {'latitude': 43.66449, 'longitude': -79.34116}   \n",
       "5   {'latitude': 43.6053352355957, 'longitude': -79.5289154052734}   \n",
       "11              {'latitude': 43.7928079, 'longitude': -79.5312639}   \n",
       "18                  {'latitude': 43.61003, 'longitude': -79.55318}   \n",
       "\n",
       "      display_phone     distance             business_id  \\\n",
       "0   +1 416-850-0161  4831.221092  KUdj08tVC3tvIT0rM6V8uQ   \n",
       "1   +1 416-698-0555  1716.906703  rnjFHvb1I-KlnGvv_o_Zxg   \n",
       "2   +1 416-465-8100  2934.260861  f8YPC7K4UUTkKatE5ga8Ig   \n",
       "5   +1 416-255-5552  4262.777626  K5TteBnAfgj18HRnV-Yy4w   \n",
       "11  +1 905-760-9955  7595.423171  ARwwcafc0x5s9wC-Te9yXg   \n",
       "18  +1 416-521-7336  2661.026341  ym-vQYhSONsViLfxbXJ0_g   \n",
       "\n",
       "                                                               image_url  \\\n",
       "0   https://s3-media1.fl.yelpcdn.com/bphoto/dEQPAbThPHKevj07OijSfA/o.jpg   \n",
       "1   https://s3-media2.fl.yelpcdn.com/bphoto/s11QxZr-V8-VJHNLQJyvgQ/o.jpg   \n",
       "2   https://s3-media1.fl.yelpcdn.com/bphoto/JpxU9FOgghpQQptpdsDDtg/o.jpg   \n",
       "5   https://s3-media3.fl.yelpcdn.com/bphoto/GtkSIOchBTNry8WbIiZ7Gg/o.jpg   \n",
       "11                                                                   NaN   \n",
       "18  https://s3-media3.fl.yelpcdn.com/bphoto/0f6QI_f_0rLQwJXPLPVhXA/o.jpg   \n",
       "\n",
       "    is_closed  \\\n",
       "0       False   \n",
       "1       False   \n",
       "2       False   \n",
       "5       False   \n",
       "11      False   \n",
       "18      False   \n",
       "\n",
       "                                                                                     location  \\\n",
       "0   {'address1': '61 Ossington Avenue', 'address2': '', 'address3': '', 'city': 'Toronto',...   \n",
       "1   {'address1': '2345 Queen Street E', 'address2': '', 'address3': '', 'city': 'Toronto',...   \n",
       "2   {'address1': '331 Carlaw Avenue', 'address2': 'Unit 103', 'address3': '', 'city': 'Tor...   \n",
       "5   {'address1': '331 Horner Avenue', 'address2': '', 'address3': '', 'city': 'Toronto', '...   \n",
       "11  {'address1': '3300 Hwy 7', 'address2': 'Suite 101', 'address3': '', 'city': 'Vaughan',...   \n",
       "18  {'address1': '660 Evans Avenue', 'address2': '', 'address3': None, 'city': 'Toronto', ...   \n",
       "\n",
       "                             name         phone price  rating  review_count  \\\n",
       "0                   The Ossington  1.416850e+10    $$     3.0            46   \n",
       "1                   Life is Sweet  1.416698e+10    $$     4.0            10   \n",
       "2                          Subway  1.416466e+10    $$     1.5             6   \n",
       "5              Jodie's Restaurant  1.416256e+10    $$     4.5             6   \n",
       "11  The Great Canadian Bagel, Ltd  1.905761e+10    $$     4.0             1   \n",
       "18                   Tim Horton's  1.416522e+10   NaN     3.5             2   \n",
       "\n",
       "   transactions  \\\n",
       "0            []   \n",
       "1            []   \n",
       "2            []   \n",
       "5            []   \n",
       "11           []   \n",
       "18           []   \n",
       "\n",
       "                                                                                          url  \n",
       "0   https://www.yelp.com/biz/the-ossington-toronto?adjust_creative=uxtIWjm7I33oX3CDHUtQgQ&...  \n",
       "1   https://www.yelp.com/biz/life-is-sweet-toronto-3?adjust_creative=9LfdvYfx0rVPnDmG5bc0i...  \n",
       "2   https://www.yelp.com/biz/subway-toronto-51?adjust_creative=NeTgDT5IUqTFt2XAEV__OA&utm_...  \n",
       "5   https://www.yelp.com/biz/jodies-restaurant-toronto?adjust_creative=uxtIWjm7I33oX3CDHUt...  \n",
       "11  https://www.yelp.com/biz/the-great-canadian-bagel-ltd-vaughan?adjust_creative=9LfdvYfx...  \n",
       "18  https://www.yelp.com/biz/tim-hortons-toronto-240?adjust_creative=ZbO96qTvvfSmFTkvkUBjk...  "
      ]
     },
     "execution_count": 74,
     "metadata": {},
     "output_type": "execute_result"
    }
   ],
   "source": [
    "df_business_clean.head(6)"
   ]
  },
  {
   "cell_type": "code",
   "execution_count": 38,
   "metadata": {},
   "outputs": [
    {
     "data": {
      "text/plain": [
       "str"
      ]
     },
     "execution_count": 38,
     "metadata": {},
     "output_type": "execute_result"
    }
   ],
   "source": [
    "yaml.safe_load(df_location[df_location[\"business_num_id\"] == prediction_matrix[user_id][j]].iloc[0].coordinates)\n"
   ]
  },
  {
   "cell_type": "code",
   "execution_count": 41,
   "metadata": {},
   "outputs": [
    {
     "data": {
      "text/plain": [
       "{'latitude': 43.6456, 'longitude': -79.41903}"
      ]
     },
     "execution_count": 41,
     "metadata": {},
     "output_type": "execute_result"
    }
   ],
   "source": [
    "\n",
    "yaml.safe_load(df_business_clean.coordinates[0])"
   ]
  },
  {
   "cell_type": "code",
   "execution_count": 86,
   "metadata": {},
   "outputs": [],
   "source": [
    "df_business_clean = df_business_clean.reset_index()"
   ]
  },
  {
   "cell_type": "code",
   "execution_count": 88,
   "metadata": {
    "scrolled": true
   },
   "outputs": [],
   "source": [
    "latitudeList = []\n",
    "longitudeList = []\n",
    "\n",
    "for business in range(len(df_business_clean)):\n",
    "    latitude= yaml.safe_load(df_business_clean.coordinates[business])['latitude']\n",
    "    longitude = yaml.safe_load(df_business_clean.coordinates[business])['longitude']\n",
    "    latitudeList.append(latitude)\n",
    "    longitudeList.append(longitude)"
   ]
  },
  {
   "cell_type": "code",
   "execution_count": 90,
   "metadata": {},
   "outputs": [],
   "source": [
    "df_latitude = pd.DataFrame(np.asarray(latitudeList))\n",
    "df_latitude.rename(columns={0: \"latitude\"}, inplace = True)"
   ]
  },
  {
   "cell_type": "code",
   "execution_count": 91,
   "metadata": {},
   "outputs": [],
   "source": [
    "df_longitude = pd.DataFrame(np.asarray(longitudeList))\n",
    "df_longitude.rename(columns={0: \"longitude\"}, inplace = True)"
   ]
  },
  {
   "cell_type": "code",
   "execution_count": 93,
   "metadata": {},
   "outputs": [],
   "source": [
    "df_business_clean[\"latitude\"] = df_latitude\n",
    "df_business_clean[\"longitude\"] = df_longitude"
   ]
  },
  {
   "cell_type": "code",
   "execution_count": 94,
   "metadata": {},
   "outputs": [
    {
     "data": {
      "text/html": [
       "<div>\n",
       "<style scoped>\n",
       "    .dataframe tbody tr th:only-of-type {\n",
       "        vertical-align: middle;\n",
       "    }\n",
       "\n",
       "    .dataframe tbody tr th {\n",
       "        vertical-align: top;\n",
       "    }\n",
       "\n",
       "    .dataframe thead th {\n",
       "        text-align: right;\n",
       "    }\n",
       "</style>\n",
       "<table border=\"1\" class=\"dataframe\">\n",
       "  <thead>\n",
       "    <tr style=\"text-align: right;\">\n",
       "      <th></th>\n",
       "      <th>index</th>\n",
       "      <th>Unnamed: 0</th>\n",
       "      <th>alias</th>\n",
       "      <th>categories</th>\n",
       "      <th>coordinates</th>\n",
       "      <th>display_phone</th>\n",
       "      <th>distance</th>\n",
       "      <th>business_id</th>\n",
       "      <th>image_url</th>\n",
       "      <th>is_closed</th>\n",
       "      <th>location</th>\n",
       "      <th>name</th>\n",
       "      <th>phone</th>\n",
       "      <th>price</th>\n",
       "      <th>rating</th>\n",
       "      <th>review_count</th>\n",
       "      <th>transactions</th>\n",
       "      <th>url</th>\n",
       "      <th>latitude</th>\n",
       "      <th>longitude</th>\n",
       "    </tr>\n",
       "  </thead>\n",
       "  <tbody>\n",
       "    <tr>\n",
       "      <th>0</th>\n",
       "      <td>0</td>\n",
       "      <td>0</td>\n",
       "      <td>the-ossington-toronto</td>\n",
       "      <td>[{'alias': 'divebars', 'title': 'Dive Bars'}]</td>\n",
       "      <td>{'latitude': 43.6456, 'longitude': -79.41903}</td>\n",
       "      <td>+1 416-850-0161</td>\n",
       "      <td>4831.221092</td>\n",
       "      <td>KUdj08tVC3tvIT0rM6V8uQ</td>\n",
       "      <td>https://s3-media1.fl.yelpcdn.com/bphoto/dEQPAbThPHKevj07OijSfA/o.jpg</td>\n",
       "      <td>False</td>\n",
       "      <td>{'address1': '61 Ossington Avenue', 'address2': '', 'address3': '', 'city': 'Toronto',...</td>\n",
       "      <td>The Ossington</td>\n",
       "      <td>1.416850e+10</td>\n",
       "      <td>$$</td>\n",
       "      <td>3.0</td>\n",
       "      <td>46</td>\n",
       "      <td>[]</td>\n",
       "      <td>https://www.yelp.com/biz/the-ossington-toronto?adjust_creative=uxtIWjm7I33oX3CDHUtQgQ&amp;...</td>\n",
       "      <td>43.6456</td>\n",
       "      <td>-79.41903</td>\n",
       "    </tr>\n",
       "    <tr>\n",
       "      <th>1</th>\n",
       "      <td>1</td>\n",
       "      <td>1</td>\n",
       "      <td>life-is-sweet-toronto-3</td>\n",
       "      <td>[{'alias': 'desserts', 'title': 'Desserts'}, {'alias': 'bakeries', 'title': 'Bakeries'}]</td>\n",
       "      <td>{'latitude': 43.67212500034, 'longitude': -79.28946080056}</td>\n",
       "      <td>+1 416-698-0555</td>\n",
       "      <td>1716.906703</td>\n",
       "      <td>rnjFHvb1I-KlnGvv_o_Zxg</td>\n",
       "      <td>https://s3-media2.fl.yelpcdn.com/bphoto/s11QxZr-V8-VJHNLQJyvgQ/o.jpg</td>\n",
       "      <td>False</td>\n",
       "      <td>{'address1': '2345 Queen Street E', 'address2': '', 'address3': '', 'city': 'Toronto',...</td>\n",
       "      <td>Life is Sweet</td>\n",
       "      <td>1.416698e+10</td>\n",
       "      <td>$$</td>\n",
       "      <td>4.0</td>\n",
       "      <td>10</td>\n",
       "      <td>[]</td>\n",
       "      <td>https://www.yelp.com/biz/life-is-sweet-toronto-3?adjust_creative=9LfdvYfx0rVPnDmG5bc0i...</td>\n",
       "      <td>43.67212500034</td>\n",
       "      <td>-79.28946080056</td>\n",
       "    </tr>\n",
       "  </tbody>\n",
       "</table>\n",
       "</div>"
      ],
      "text/plain": [
       "   index  Unnamed: 0                    alias  \\\n",
       "0      0           0    the-ossington-toronto   \n",
       "1      1           1  life-is-sweet-toronto-3   \n",
       "\n",
       "                                                                                 categories  \\\n",
       "0                                             [{'alias': 'divebars', 'title': 'Dive Bars'}]   \n",
       "1  [{'alias': 'desserts', 'title': 'Desserts'}, {'alias': 'bakeries', 'title': 'Bakeries'}]   \n",
       "\n",
       "                                                  coordinates  \\\n",
       "0               {'latitude': 43.6456, 'longitude': -79.41903}   \n",
       "1  {'latitude': 43.67212500034, 'longitude': -79.28946080056}   \n",
       "\n",
       "     display_phone     distance             business_id  \\\n",
       "0  +1 416-850-0161  4831.221092  KUdj08tVC3tvIT0rM6V8uQ   \n",
       "1  +1 416-698-0555  1716.906703  rnjFHvb1I-KlnGvv_o_Zxg   \n",
       "\n",
       "                                                              image_url  \\\n",
       "0  https://s3-media1.fl.yelpcdn.com/bphoto/dEQPAbThPHKevj07OijSfA/o.jpg   \n",
       "1  https://s3-media2.fl.yelpcdn.com/bphoto/s11QxZr-V8-VJHNLQJyvgQ/o.jpg   \n",
       "\n",
       "   is_closed  \\\n",
       "0      False   \n",
       "1      False   \n",
       "\n",
       "                                                                                    location  \\\n",
       "0  {'address1': '61 Ossington Avenue', 'address2': '', 'address3': '', 'city': 'Toronto',...   \n",
       "1  {'address1': '2345 Queen Street E', 'address2': '', 'address3': '', 'city': 'Toronto',...   \n",
       "\n",
       "            name         phone price  rating  review_count transactions  \\\n",
       "0  The Ossington  1.416850e+10    $$     3.0            46           []   \n",
       "1  Life is Sweet  1.416698e+10    $$     4.0            10           []   \n",
       "\n",
       "                                                                                         url  \\\n",
       "0  https://www.yelp.com/biz/the-ossington-toronto?adjust_creative=uxtIWjm7I33oX3CDHUtQgQ&...   \n",
       "1  https://www.yelp.com/biz/life-is-sweet-toronto-3?adjust_creative=9LfdvYfx0rVPnDmG5bc0i...   \n",
       "\n",
       "         latitude        longitude  \n",
       "0         43.6456        -79.41903  \n",
       "1  43.67212500034  -79.28946080056  "
      ]
     },
     "execution_count": 94,
     "metadata": {},
     "output_type": "execute_result"
    }
   ],
   "source": [
    "df_business_clean.head(2)"
   ]
  },
  {
   "cell_type": "markdown",
   "metadata": {},
   "source": [
    "### Data Processing"
   ]
  },
  {
   "cell_type": "code",
   "execution_count": 34,
   "metadata": {},
   "outputs": [],
   "source": [
    "Export = df.to_json(r'..\\\\data\\\\Export_TorontoData.json', orient='records')"
   ]
  },
  {
   "cell_type": "code",
   "execution_count": 95,
   "metadata": {},
   "outputs": [],
   "source": [
    "Export = df_business_clean.to_json(r'..\\\\data\\\\Export_ClearnTorontoBusiness.json', orient='records')"
   ]
  },
  {
   "cell_type": "code",
   "execution_count": null,
   "metadata": {},
   "outputs": [],
   "source": []
  }
 ],
 "metadata": {
  "kernelspec": {
   "display_name": "Python 3",
   "language": "python",
   "name": "python3"
  },
  "language_info": {
   "codemirror_mode": {
    "name": "ipython",
    "version": 3
   },
   "file_extension": ".py",
   "mimetype": "text/x-python",
   "name": "python",
   "nbconvert_exporter": "python",
   "pygments_lexer": "ipython3",
   "version": "3.7.3"
  }
 },
 "nbformat": 4,
 "nbformat_minor": 2
}
