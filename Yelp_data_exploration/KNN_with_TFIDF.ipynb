{
 "cells": [
  {
   "cell_type": "code",
   "execution_count": 1,
   "metadata": {},
   "outputs": [],
   "source": [
    "from ast import literal_eval\n",
    "from os import listdir\n",
    "from os.path import isfile, join\n",
    "from scipy.sparse import csr_matrix, load_npz, save_npz\n",
    "from tqdm import tqdm\n",
    "\n",
    "import seaborn as sns\n",
    "import datetime\n",
    "import json\n",
    "import numpy as np\n",
    "import pandas as pd\n",
    "import time\n",
    "import yaml\n",
    "import scipy.sparse as sparse"
   ]
  },
  {
   "cell_type": "markdown",
   "metadata": {},
   "source": [
    "# Load Data"
   ]
  },
  {
   "cell_type": "code",
   "execution_count": 2,
   "metadata": {},
   "outputs": [],
   "source": [
    "def get_yelp_df(path = 'data/', filename = 'data0.txt', sampling=False, top_user_num=6100, top_item_num=4000):\n",
    "    \"\"\"\n",
    "    Get the pandas dataframe\n",
    "    Sampling only the top users/items by density \n",
    "    Implicit representation applies\n",
    "    \"\"\"\n",
    "    with open(filename,'r') as f:\n",
    "        data = f.readlines()\n",
    "        data = list(map(json.loads, data))\n",
    "    #Get all the data from the data file\n",
    "    df = pd.DataFrame(data)\n",
    "    \n",
    "    df.rename(columns={'stars': 'review_stars', 'text': 'review_text', 'cool': 'review_cool',\n",
    "                       'funny': 'review_funny', 'useful': 'review_useful'},\n",
    "              inplace=True)\n",
    "\n",
    "    df['business_num_id'] = df.business_id.astype('category').\\\n",
    "        cat.rename_categories(range(0, df.business_id.nunique()))\n",
    "    df['business_num_id'] = df['business_num_id'].astype('int')\n",
    "\n",
    "    df['user_num_id'] = df.user_id.astype('category').\\\n",
    "    cat.rename_categories(range(0, df.user_id.nunique()))\n",
    "    df['user_num_id'] = df['user_num_id'].astype('int')\n",
    "\n",
    "    df['timestamp'] = df['date'].apply(date_to_timestamp)\n",
    "\n",
    "    if sampling:\n",
    "        df = filter_yelp_df(df, top_user_num=top_user_num, top_item_num=top_item_num)\n",
    "        # Refresh num id\n",
    "        df['business_num_id'] = df.business_id.astype('category').\\\n",
    "        cat.rename_categories(range(0, df.business_id.nunique()))\n",
    "        df['business_num_id'] = df['business_num_id'].astype('int')\n",
    "        \n",
    "        df['user_num_id'] = df.user_id.astype('category').\\\n",
    "        cat.rename_categories(range(0, df.user_id.nunique()))\n",
    "        df['user_num_id'] = df['user_num_id'].astype('int')\n",
    "#     drop_list = ['date','review_id','review_funny','review_cool','review_useful']\n",
    "#     df = df.drop(drop_list, axis=1)\n",
    "\n",
    "    df = df.reset_index(drop = True)\n",
    "\n",
    "    return df \n",
    "\n",
    "\n",
    "def filter_yelp_df(df, top_user_num=6100, top_item_num=4000):\n",
    "    #Getting the reviews where starts are above 3\n",
    "    df_implicit = df[df['review_stars']>3]\n",
    "    frequent_user_id = df_implicit['user_num_id'].value_counts().head(top_user_num).index.values\n",
    "    frequent_item_id = df_implicit['business_num_id'].value_counts().head(top_item_num).index.values\n",
    "    return df.loc[(df['user_num_id'].isin(frequent_user_id)) & (df['business_num_id'].isin(frequent_item_id))]\n",
    "\n",
    "\n",
    "def date_to_timestamp(date):\n",
    "    dt = datetime.datetime.strptime(date, '%Y-%m-%d')\n",
    "    return time.mktime(dt.timetuple())\n",
    "\n",
    "def df_to_sparse(df, row_name='userId', col_name='movieId', value_name='rating',\n",
    "                 shape=(138494, 131263)):\n",
    "    rows = df[row_name]\n",
    "    cols = df[col_name]\n",
    "    if value_name is not None:\n",
    "        values = df[value_name]\n",
    "    else:\n",
    "        values = [1]*len(rows)\n",
    "\n",
    "    return csr_matrix((values, (rows, cols)), shape=shape)"
   ]
  },
  {
   "cell_type": "code",
   "execution_count": 3,
   "metadata": {
    "scrolled": true
   },
   "outputs": [],
   "source": [
    "#Getting the yelp data -> reviews, only get the data for the top frequent users & restuarants that had a history of rating > 3\n",
    "df = get_yelp_df(path = '', filename=\"data0.txt\", sampling= True)"
   ]
  },
  {
   "cell_type": "code",
   "execution_count": 4,
   "metadata": {},
   "outputs": [
    {
     "data": {
      "text/plain": [
       "(39620, 12)"
      ]
     },
     "execution_count": 4,
     "metadata": {},
     "output_type": "execute_result"
    }
   ],
   "source": [
    "df.shape"
   ]
  },
  {
   "cell_type": "code",
   "execution_count": 5,
   "metadata": {},
   "outputs": [],
   "source": [
    "def get_rating_timestamp_matrix(df, sampling=False, top_user_num=6100, top_item_num=4000):\n",
    "    \"\"\"\n",
    "    \"\"\"\n",
    "    #make the df implicit with top frenquent users and \n",
    "    #no need to sample anymore if df was sampled before \n",
    "    if sampling:\n",
    "        df = filter_yelp_df(df, top_user_num=top_user_num, top_item_num=top_item_num)\n",
    "\n",
    "    rating_matrix = df_to_sparse(df, row_name='user_num_id',\n",
    "                                 col_name='business_num_id',\n",
    "                                 value_name='review_stars',\n",
    "                                 shape=None)\n",
    "\n",
    "    timestamp_matrix = df_to_sparse(df, row_name='user_num_id',\n",
    "                                    col_name='business_num_id',\n",
    "                                    value_name='timestamp',\n",
    "                                    shape=None)\n",
    "\n",
    "    return rating_matrix, timestamp_matrix"
   ]
  },
  {
   "cell_type": "code",
   "execution_count": 6,
   "metadata": {},
   "outputs": [],
   "source": [
    "rating_matrix, timestamp_matrix = get_rating_timestamp_matrix(df)"
   ]
  },
  {
   "cell_type": "code",
   "execution_count": 7,
   "metadata": {},
   "outputs": [
    {
     "name": "stdout",
     "output_type": "stream",
     "text": [
      "  (0, 924)\t5\n",
      "  (0, 1464)\t5\n",
      "  (0, 2186)\t5\n",
      "  (0, 2707)\t5\n",
      "  (0, 3174)\t3\n",
      "  (1, 2570)\t5\n",
      "  (1, 2861)\t4\n",
      "  (1, 3803)\t4\n",
      "  (2, 1888)\t4\n",
      "  (2, 2245)\t5\n",
      "  (2, 2453)\t4\n",
      "  (2, 3047)\t4\n",
      "  (2, 3105)\t4\n",
      "  (2, 3135)\t5\n",
      "  (3, 15)\t5\n",
      "  (3, 358)\t2\n",
      "  (3, 453)\t4\n",
      "  (3, 1248)\t5\n",
      "  (3, 1631)\t5\n",
      "  (3, 1642)\t4\n",
      "  (3, 1869)\t5\n",
      "  (3, 2229)\t4\n",
      "  (3, 2305)\t4\n",
      "  (3, 2931)\t5\n",
      "  (3, 3076)\t5\n",
      "  :\t:\n",
      "  (4, 3340)\t5\n",
      "  (4, 3489)\t4\n",
      "  (4, 3781)\t3\n",
      "  (5, 100)\t5\n",
      "  (5, 1770)\t1\n",
      "  (5, 2311)\t4\n",
      "  (5, 2377)\t5\n",
      "  (5, 3284)\t2\n",
      "  (6, 167)\t1\n",
      "  (6, 466)\t5\n",
      "  (6, 823)\t4\n",
      "  (6, 1611)\t1\n",
      "  (6, 3207)\t5\n",
      "  (6, 3390)\t5\n",
      "  (6, 3743)\t5\n",
      "  (7, 156)\t4\n",
      "  (7, 174)\t3\n",
      "  (7, 423)\t4\n",
      "  (7, 783)\t2\n",
      "  (7, 1701)\t2\n",
      "  (7, 1765)\t2\n",
      "  (7, 2115)\t2\n",
      "  (7, 2459)\t2\n",
      "  (7, 2612)\t4\n",
      "  (7, 3814)\t4\n"
     ]
    }
   ],
   "source": [
    "print(rating_matrix[2:10])"
   ]
  },
  {
   "cell_type": "markdown",
   "metadata": {},
   "source": [
    "# Time ordered split"
   ]
  },
  {
   "cell_type": "code",
   "execution_count": 8,
   "metadata": {},
   "outputs": [],
   "source": [
    "def time_ordered_split(rating_matrix, timestamp_matrix, ratio=[0.5, 0.2, 0.3],\n",
    "                       implicit=True, remove_empty=False, threshold=3,\n",
    "                       sampling=False, sampling_ratio=0.1):\n",
    "    \"\"\"\n",
    "    Split the data to train,valid,test by time\n",
    "    ratio:  train:valid:test\n",
    "    threshold: for implicit representation\n",
    "    \"\"\"\n",
    "    if implicit:\n",
    "        temp_rating_matrix = sparse.csr_matrix(rating_matrix.shape)\n",
    "        temp_rating_matrix[(rating_matrix > threshold).nonzero()] = 1\n",
    "        rating_matrix = temp_rating_matrix\n",
    "        timestamp_matrix = timestamp_matrix.multiply(rating_matrix)\n",
    "\n",
    "    nonzero_index = None\n",
    "\n",
    "    #Default false, not removing empty columns and rows\n",
    "    #Should not have this case, since users should have at least 1 record of 4,5 \n",
    "    #And restuarant should have at least 1 record of 4,5 \n",
    "    if remove_empty:\n",
    "        # Remove empty columns. record original item index\n",
    "        nonzero_index = np.unique(rating_matrix.nonzero()[1])\n",
    "        rating_matrix = rating_matrix[:, nonzero_index]\n",
    "        timestamp_matrix = timestamp_matrix[:, nonzero_index]\n",
    "\n",
    "        # Remove empty rows. record original user index\n",
    "        nonzero_rows = np.unique(rating_matrix.nonzero()[0])\n",
    "        rating_matrix = rating_matrix[nonzero_rows]\n",
    "        timestamp_matrix = timestamp_matrix[nonzero_rows]\n",
    "\n",
    "    user_num, item_num = rating_matrix.shape\n",
    "\n",
    "    rtrain = []\n",
    "    rtime = []\n",
    "    rvalid = []\n",
    "    rtest = []\n",
    "    # Get the index list corresponding to item for train,valid,test\n",
    "    item_idx_train = []\n",
    "    item_idx_valid = []\n",
    "    item_idx_test = []\n",
    "    \n",
    "    for i in tqdm(range(user_num)):\n",
    "        #Get the non_zero indexs, restuarants where the user visited/liked if implicit \n",
    "        item_indexes = rating_matrix[i].nonzero()[1]\n",
    "        \n",
    "        #Get the data for the user\n",
    "        data = rating_matrix[i].data\n",
    "        \n",
    "        #Get time stamp value \n",
    "        timestamp = timestamp_matrix[i].data\n",
    "        \n",
    "        #Non zero reviews for this user\n",
    "        num_nonzeros = len(item_indexes)\n",
    "        \n",
    "        #If the user has at least one review\n",
    "        if num_nonzeros >= 1:\n",
    "            #Get number of test and valid data \n",
    "            #train is 30%\n",
    "            num_test = int(num_nonzeros * ratio[2])\n",
    "            #validate is 50%\n",
    "            num_valid = int(num_nonzeros * (ratio[1] + ratio[2]))\n",
    "\n",
    "            valid_offset = num_nonzeros - num_valid\n",
    "            test_offset = num_nonzeros - num_test\n",
    "\n",
    "            #Sort the timestamp for each review for the user\n",
    "            argsort = np.argsort(timestamp)\n",
    "            \n",
    "            #Sort the reviews for the user according to the time stamp \n",
    "            data = data[argsort]\n",
    "            \n",
    "            #Non-zero review index sort according to time\n",
    "            item_indexes = item_indexes[argsort]\n",
    "            \n",
    "            #list of ratings, num of valid_offset index, index where there's non-zeros\n",
    "            rtrain.append([data[:valid_offset], np.full(valid_offset, i), item_indexes[:valid_offset]])\n",
    "            #50%-70%\n",
    "            rvalid.append([data[valid_offset:test_offset], np.full(test_offset - valid_offset, i),\n",
    "                           item_indexes[valid_offset:test_offset]])\n",
    "            #remaining 30%\n",
    "            rtest.append([data[test_offset:], np.full(num_test, i), item_indexes[test_offset:]])\n",
    "            \n",
    "            item_idx_train.append(item_indexes[:valid_offset])\n",
    "            \n",
    "#             item_idx_valid.append(item_indexes[valid_offset:test_offset])\n",
    "#             item_idx_test.append(item_indexes[test_offset:])\n",
    "        else:\n",
    "            item_idx_train.append([])\n",
    "#             item_idx_valid.append([])\n",
    "#             item_idx_test.append([])\n",
    "    rtrain = np.array(rtrain)\n",
    "    rvalid = np.array(rvalid)\n",
    "    rtest = np.array(rtest)\n",
    "    \n",
    "    #print(rtrain)\n",
    "    \n",
    "    \n",
    "    #take non-zeros values, row index, and column (non-zero) index and store into sparse matrix\n",
    "    rtrain = sparse.csr_matrix((np.hstack(rtrain[:, 0]), (np.hstack(rtrain[:, 1]), np.hstack(rtrain[:, 2]))),\n",
    "                               shape=rating_matrix.shape, dtype=np.float32)\n",
    "    rvalid = sparse.csr_matrix((np.hstack(rvalid[:, 0]), (np.hstack(rvalid[:, 1]), np.hstack(rvalid[:, 2]))),\n",
    "                               shape=rating_matrix.shape, dtype=np.float32)\n",
    "    rtest = sparse.csr_matrix((np.hstack(rtest[:, 0]), (np.hstack(rtest[:, 1]), np.hstack(rtest[:, 2]))),\n",
    "                              shape=rating_matrix.shape, dtype=np.float32)\n",
    "\n",
    "\n",
    "    return rtrain, rvalid, rtest, nonzero_index, timestamp_matrix, item_idx_train, item_idx_valid, item_idx_test"
   ]
  },
  {
   "cell_type": "code",
   "execution_count": 12,
   "metadata": {},
   "outputs": [
    {
     "name": "stderr",
     "output_type": "stream",
     "text": [
      "100%|████████████████████████████████████████████████████████████████████████████| 5791/5791 [00:01<00:00, 5297.83it/s]\n"
     ]
    }
   ],
   "source": [
    "rtrain, rvalid, rtest, nonzero_index, rtime, item_idx_matrix_train,item_idx_matrix_valid, item_idx_matrix_test = time_ordered_split(rating_matrix=rating_matrix,timestamp_matrix=timestamp_matrix,\n",
    "                                                                     ratio=[0.5,0.2,0.3],\n",
    "                                                                     implicit=False)  "
   ]
  },
  {
   "cell_type": "code",
   "execution_count": 13,
   "metadata": {},
   "outputs": [
    {
     "data": {
      "text/plain": [
       "1"
      ]
     },
     "execution_count": 13,
     "metadata": {},
     "output_type": "execute_result"
    }
   ],
   "source": [
    "int(1.8)"
   ]
  },
  {
   "cell_type": "code",
   "execution_count": 14,
   "metadata": {
    "scrolled": true
   },
   "outputs": [
    {
     "data": {
      "text/plain": [
       "[array([2776,  346, 2554]),\n",
       " array([  16, 2206, 2830, 2074]),\n",
       " array([ 924, 2707, 2186]),\n",
       " array([2861, 2570]),\n",
       " array([1888, 2245, 2453]),\n",
       " array([3741, 2305, 1248, 1642, 1869, 2931, 2229]),\n",
       " array([1921, 3209, 1416, 3174,  402, 1237, 3340, 3781, 2595, 2738,  432]),\n",
       " array([1770, 2311, 2377]),\n",
       " array([ 466, 3207,  823, 1611]),\n",
       " array([2459, 1765,  156, 1701, 2115]),\n",
       " array([ 792, 3544,  514, 1928, 3024]),\n",
       " array([103,  62]),\n",
       " array([ 701, 3216]),\n",
       " array([3348,  277, 2378]),\n",
       " array([ 375, 2339]),\n",
       " array([3832, 1050]),\n",
       " array([3785]),\n",
       " array([1034]),\n",
       " array([2087, 1898]),\n",
       " array([ 574, 1205, 3851,  720]),\n",
       " array([2825,  468, 2106]),\n",
       " array([1062]),\n",
       " array([1361]),\n",
       " array([2142,  881, 1013, 2416]),\n",
       " array([2612, 3133, 3839,  194, 2965]),\n",
       " array([2085, 3531]),\n",
       " array([1157, 1653]),\n",
       " array([1169,  245, 1983, 2495,  325, 1212, 2673]),\n",
       " array([3120]),\n",
       " array([1418]),\n",
       " array([ 338, 3525]),\n",
       " array([1840,  505, 1113, 3874]),\n",
       " array([2004, 1637, 3542, 3603, 3369]),\n",
       " array([3192, 3399]),\n",
       " array([3207, 3736]),\n",
       " array([1738]),\n",
       " array([1714]),\n",
       " array([1366]),\n",
       " array([409, 652]),\n",
       " array([3898, 3746]),\n",
       " array([1835, 1859]),\n",
       " array([  94, 1834, 3726]),\n",
       " array([1968, 2130, 1541,   94,  475, 1308, 1380]),\n",
       " array([2804]),\n",
       " array([1215, 2160, 3298, 1843,  473, 2776]),\n",
       " array([2115, 3597,  783,  887, 1092]),\n",
       " array([2519,  430, 2377]),\n",
       " array([   9, 2089, 2503, 2621]),\n",
       " array([ 131, 1738,  293, 3335]),\n",
       " array([1674]),\n",
       " array([2093, 3816]),\n",
       " array([ 660, 2456, 1368]),\n",
       " array([2683, 2957, 3716,  385, 2632, 2891, 3337]),\n",
       " array([3724, 1088, 1435]),\n",
       " array([1550,  303, 2468]),\n",
       " array([1306, 1482]),\n",
       " array([1793, 3268]),\n",
       " array([1966]),\n",
       " array([2422]),\n",
       " array([3793, 1337, 3359, 1913,  556,   94, 1967, 1236]),\n",
       " array([3297,  548, 3882,  411,  544,  836, 1535]),\n",
       " array([1293,  194,  887, 1889]),\n",
       " array([3255]),\n",
       " array([2716, 3472]),\n",
       " array([1398,  864, 3099, 1315]),\n",
       " array([2908, 2609]),\n",
       " array([1699, 2609,  572, 1542, 1119, 1086, 1917, 2179,   96, 1167, 3401,\n",
       "         232, 2795, 2358, 2866, 1884, 3019, 3835, 3221, 3443, 2532, 3882,\n",
       "        1115,  121]),\n",
       " array([ 207, 2591, 2735, 3104]),\n",
       " array([ 390, 2213]),\n",
       " array([1940]),\n",
       " array([3229, 2891]),\n",
       " array([2417]),\n",
       " array([  94, 1023, 1339, 3353, 3466]),\n",
       " array([1712]),\n",
       " array([2014,  944]),\n",
       " array([1278, 1560, 3256, 1225, 3331]),\n",
       " array([2338,  646]),\n",
       " array([3059, 1416, 1709, 2849,  225]),\n",
       " array([1518, 2803]),\n",
       " array([2336, 3168, 3259,  843,  961, 3336]),\n",
       " array([1947,  300]),\n",
       " array([2125,  443, 2597,  228]),\n",
       " array([ 707, 3726, 2062, 2669, 1032]),\n",
       " array([1310, 1413, 1853]),\n",
       " array([2087, 1005, 2356, 2782]),\n",
       " array([ 595, 3239, 2557]),\n",
       " array([631, 484]),\n",
       " array([ 512, 2964]),\n",
       " array([2504, 2622]),\n",
       " array([3046, 1630, 2835]),\n",
       " array([1310, 2851]),\n",
       " array([3195, 1212]),\n",
       " array([3297, 1233, 3340,  399, 3229]),\n",
       " array([2131, 3275, 3289, 3353]),\n",
       " array([3426, 3477,  745,  749, 1610]),\n",
       " array([1791, 1545, 2335]),\n",
       " array([1722, 2901, 1498, 1552]),\n",
       " array([2659, 1713]),\n",
       " array([2524]),\n",
       " array([1007]),\n",
       " array([1633, 1835, 3865, 3555, 1775, 3817,    1, 2493, 3815, 1697]),\n",
       " array([383]),\n",
       " array([2029, 2655, 2730]),\n",
       " array([1402, 2241, 3189, 1117]),\n",
       " array([1391]),\n",
       " array([2696,  949]),\n",
       " array([390]),\n",
       " array([2280, 2432]),\n",
       " array([3095]),\n",
       " array([409, 686, 805]),\n",
       " array([1046]),\n",
       " array([2536, 3052, 2015,  273]),\n",
       " array([3583,  655, 3446]),\n",
       " array([ 198, 2374, 3045,  540, 2855, 1933, 3771, 3819]),\n",
       " array([ 484, 2393, 3264, 1284]),\n",
       " array([ 107, 2133,  445,  571, 3115]),\n",
       " array([2103,  410, 3307, 1651, 2934, 1550, 2281,  661, 1975]),\n",
       " array([3884, 1561, 3072, 3828, 1917,  526,  151,  540, 3821, 1929, 3046,\n",
       "        1174,  837, 1959, 2839,  548, 2007, 2707, 3337, 1921, 3805,  123,\n",
       "        1595,  761, 2719]),\n",
       " array([ 861, 2003]),\n",
       " array([ 415, 3237,  923,  515]),\n",
       " array([  69,  981, 1889]),\n",
       " array([1443]),\n",
       " array([1847, 2567]),\n",
       " array([2170, 3090, 1568, 2102, 3340, 3489, 3821,  540, 3501, 3261,  837,\n",
       "        1128, 3742, 1690,  724, 1233,  711, 3013, 1589, 1891, 1890,    0,\n",
       "        3345, 3679,  123, 3565, 3666, 3033, 3667, 3680]),\n",
       " array([2007,  359, 2191]),\n",
       " array([3765, 3393]),\n",
       " array([2108, 3661, 2746, 1099]),\n",
       " array([  58,  284,  856, 1133]),\n",
       " array([ 767, 3348,  167,  468]),\n",
       " array([ 913, 2716]),\n",
       " array([ 103, 1760]),\n",
       " array([1100, 1106]),\n",
       " array([ 301,  480,  712, 1550, 2468]),\n",
       " array([3187,  174, 1701]),\n",
       " array([3394,  736, 1413]),\n",
       " array([1448, 2138,  408, 2226, 2276,  884,  965,  240]),\n",
       " array([2306,  278, 1190]),\n",
       " array([1843, 1122, 1781, 2109, 1627, 2594]),\n",
       " array([3042]),\n",
       " array([641, 474, 920]),\n",
       " array([3260]),\n",
       " array([ 961, 3459, 3121]),\n",
       " array([1138]),\n",
       " array([ 946, 2744]),\n",
       " array([3349, 3541,  334, 2561]),\n",
       " array([3905, 2904,  631,  892]),\n",
       " array([3195, 1136]),\n",
       " array([1744, 3325, 1326,  246]),\n",
       " array([3094, 3464,  930]),\n",
       " array([ 483,  579,  176, 2376]),\n",
       " array([1388, 2985]),\n",
       " array([3022]),\n",
       " array([ 878, 3478, 2198, 1378, 2517]),\n",
       " array([2755]),\n",
       " array([493]),\n",
       " array([3502, 3463,  810]),\n",
       " array([956]),\n",
       " array([1940, 3599]),\n",
       " array([ 574, 2690,  806]),\n",
       " array([ 283, 3099, 2066,  781,  828]),\n",
       " array([131]),\n",
       " array([930,   2]),\n",
       " array([3183]),\n",
       " array([2191, 2524, 3522, 1035, 1993]),\n",
       " array([3333, 3526]),\n",
       " array([1587, 3254, 2639, 1125, 2155]),\n",
       " array([152, 556]),\n",
       " array([1214]),\n",
       " array([  76, 1296, 2095, 2706, 2712]),\n",
       " array([425, 855]),\n",
       " array([2470,  199,  975, 1192, 1206, 1258, 1395, 1831]),\n",
       " array([2117,   23]),\n",
       " array([2681, 2764, 2052, 3457]),\n",
       " array([3628]),\n",
       " array([1610, 2431, 2481]),\n",
       " array([1089, 1540, 2013]),\n",
       " array([3882, 1516, 2243,  183, 1013, 2866, 1660, 1971, 3586, 3283, 2783,\n",
       "        2061, 2397]),\n",
       " array([2106, 3367]),\n",
       " array([3669, 2106, 1711, 1913]),\n",
       " array([1996]),\n",
       " array([  83, 2951, 2570, 1745, 2302]),\n",
       " array([2191, 2478, 3079]),\n",
       " array([3077, 2340, 3536, 1284, 2957, 1277, 1842,  377, 1895, 2739, 2515,\n",
       "        3776, 3290, 1401, 1386, 3433]),\n",
       " array([1758,  382, 1113]),\n",
       " array([2916,   80, 1362]),\n",
       " array([ 411, 3896]),\n",
       " array([2227]),\n",
       " array([2670,  389, 1922, 3625, 2599]),\n",
       " array([1676]),\n",
       " array([2552, 3493]),\n",
       " array([ 736, 1733, 2951, 3040, 3526]),\n",
       " array([1123, 1278]),\n",
       " array([457,  86, 613]),\n",
       " array([ 267, 1329, 2880]),\n",
       " array([ 594, 2314, 2574]),\n",
       " array([1462, 1205,  522, 3600, 1978]),\n",
       " array([2396, 2610]),\n",
       " array([1740, 1946]),\n",
       " array([1912]),\n",
       " array([ 490, 3372]),\n",
       " array([1942, 2316]),\n",
       " array([3859]),\n",
       " array([1618]),\n",
       " array([476, 247, 875]),\n",
       " array([3168,  339]),\n",
       " array([2669, 3498,  688]),\n",
       " array([  22, 2667,  994, 2663]),\n",
       " array([2668, 1298, 2658]),\n",
       " array([1981]),\n",
       " array([ 957, 1293]),\n",
       " array([2964]),\n",
       " array([482]),\n",
       " array([1714]),\n",
       " array([3263]),\n",
       " array([ 499, 1621, 2170,  573]),\n",
       " array([1414, 1518, 2001, 2523]),\n",
       " array([ 382,  631, 2733]),\n",
       " array([2299,  656]),\n",
       " array([3114]),\n",
       " array([ 152, 1278, 1588]),\n",
       " array([3680, 1904,  929]),\n",
       " array([ 621, 3710, 1203,  178]),\n",
       " array([3432,  292, 3015, 2240, 2302, 1502, 3366, 2540, 1738, 3269, 3058,\n",
       "         986, 3050, 2885,   55, 1821,  626, 1947,  578, 1124, 1602, 1686,\n",
       "        2877,  756, 2144, 2567, 3122]),\n",
       " array([ 152,  468,  929,  985, 1035, 1228]),\n",
       " array([2451]),\n",
       " array([ 472,  790, 1984]),\n",
       " array([2882,  327]),\n",
       " array([ 701, 1876]),\n",
       " array([ 399, 2515, 2479]),\n",
       " array([ 685, 3688]),\n",
       " array([1313, 1561, 3082, 3161]),\n",
       " array([3115]),\n",
       " array([3496, 2261,    8]),\n",
       " array([157, 231, 403]),\n",
       " array([ 621, 3510]),\n",
       " array([ 470, 3534]),\n",
       " array([1929, 3002,  232,  542, 2185]),\n",
       " array([ 517, 2727]),\n",
       " array([2310]),\n",
       " array([ 148, 2483, 2660,   11]),\n",
       " array([ 529, 1358]),\n",
       " array([3030,  652]),\n",
       " array([ 436, 1329, 1654, 1770, 3522]),\n",
       " array([   3,  660, 2752, 3727]),\n",
       " array([1872]),\n",
       " array([3353,  235]),\n",
       " array([ 262, 1168, 1916, 2373]),\n",
       " array([1619]),\n",
       " array([3024, 1278, 3466]),\n",
       " array([ 547, 3660, 3774, 3488, 1632, 1264]),\n",
       " array([2558, 3348]),\n",
       " array([675]),\n",
       " array([3353]),\n",
       " array([3353,  208,  214]),\n",
       " array([1534]),\n",
       " array([3622,  416]),\n",
       " array([3567, 3781, 1536, 2707, 2623, 1699, 1295,  294, 1013,  896, 1167,\n",
       "        1120]),\n",
       " array([ 638,  437, 2044, 3264, 1091,  250]),\n",
       " array([3020]),\n",
       " array([1309, 1926,  408]),\n",
       " array([2115, 1970]),\n",
       " array([1816, 2066]),\n",
       " array([1550, 3726, 1541, 1824]),\n",
       " array([1893, 2575]),\n",
       " array([2594, 1527, 1120, 1478]),\n",
       " array([1789,  665, 3858, 1473]),\n",
       " array([1236, 1741]),\n",
       " array([ 336,  929, 3726, 3833]),\n",
       " array([ 393, 1961, 1235]),\n",
       " array([ 317, 1848, 3075]),\n",
       " array([  23, 1220, 1341, 1419, 2366,  189, 2726]),\n",
       " array([2259,  619, 1738, 3855, 2174, 2335, 3300, 3426, 2801, 1766]),\n",
       " array([2269, 2352]),\n",
       " array([3429]),\n",
       " array([21]),\n",
       " array([1241, 2235, 1536]),\n",
       " array([ 537, 2843,  765]),\n",
       " array([1346, 2466]),\n",
       " array([849]),\n",
       " array([2190]),\n",
       " array([1929]),\n",
       " array([  96,  225, 2639, 3090, 2537, 3221,  837, 2043]),\n",
       " array([195]),\n",
       " array([1506,   79]),\n",
       " array([  35, 2294, 3093]),\n",
       " array([ 131, 1078]),\n",
       " array([ 995, 3200]),\n",
       " array([ 480,  537, 1462, 1500]),\n",
       " array([1545, 1618, 1944]),\n",
       " array([ 913, 1775, 3440,  675, 2135]),\n",
       " array([1369, 1066]),\n",
       " array([579]),\n",
       " array([  23, 1501, 1752, 3086, 3228]),\n",
       " array([3593, 1166, 2832]),\n",
       " array([1667]),\n",
       " array([2050, 3897]),\n",
       " array([  39, 2943, 2203, 1203, 1337]),\n",
       " array([2305, 1745, 3548]),\n",
       " array([1047, 1250,  431]),\n",
       " array([1424, 1915]),\n",
       " array([223]),\n",
       " array([ 30, 865, 330]),\n",
       " array([1969]),\n",
       " array([2489, 1880, 2628, 2942, 3868,  892, 1181]),\n",
       " array([ 198, 2043]),\n",
       " array([3445, 3490,   47, 1468,  394]),\n",
       " array([2956]),\n",
       " array([2366, 3022,  396]),\n",
       " array([2749, 3493]),\n",
       " array([ 574, 2764, 1350]),\n",
       " array([3549, 1272, 3265, 3007, 1130]),\n",
       " array([488]),\n",
       " array([ 568, 2335,  347]),\n",
       " array([1483]),\n",
       " array([1346]),\n",
       " array([ 292, 1248]),\n",
       " array([2562,   48,  801, 2643]),\n",
       " array([ 195, 3232, 1298]),\n",
       " array([1187, 1012]),\n",
       " array([ 657, 1832, 3475, 3765]),\n",
       " array([2380, 3562, 3599, 3725]),\n",
       " array([1796, 1306,  805,  482, 3611, 3233,  498, 2215, 3030]),\n",
       " array([1058,  818, 1655, 2054, 1933]),\n",
       " array([3874]),\n",
       " array([1437, 1770, 2340,   48,  572,  665]),\n",
       " array([1730]),\n",
       " array([2025, 3844, 2423, 3013, 1218, 1850]),\n",
       " array([2972, 3651,  486, 1042, 1317]),\n",
       " array([ 963, 1678, 2670, 1203]),\n",
       " array([2815]),\n",
       " array([857]),\n",
       " array([2224,  416]),\n",
       " array([2637, 1431]),\n",
       " array([2672, 3398,  731,  768, 1397]),\n",
       " array([3333, 1642]),\n",
       " array([756]),\n",
       " array([1231,  559]),\n",
       " array([2977,  295, 3824]),\n",
       " array([131]),\n",
       " array([ 277, 3353, 1282]),\n",
       " array([1310, 3438, 3469, 3263]),\n",
       " array([ 452,  995, 1537]),\n",
       " array([2355, 2637, 1634]),\n",
       " array([  29, 2739, 1013]),\n",
       " array([3132,  592, 1363, 1000, 1358, 1497, 3330,  452, 1272, 1327, 1456,\n",
       "         671]),\n",
       " array([1649]),\n",
       " array([ 522,  765, 1550, 1830]),\n",
       " array([ 918, 3278, 1608, 2493]),\n",
       " array([1943, 3676, 1754, 2984, 2162, 1329]),\n",
       " array([1774]),\n",
       " array([3329, 1502]),\n",
       " array([ 106,  478, 2011]),\n",
       " array([2085, 2697, 3643, 3338]),\n",
       " array([1089, 2190]),\n",
       " array([1008]),\n",
       " array([ 701, 2366, 3206, 3216,  975, 2247]),\n",
       " array([ 647, 2240, 2951,  615]),\n",
       " array([1222, 2092, 2204, 3104, 1651]),\n",
       " array([1886,   67, 2457, 1123, 1848, 1030, 3714, 2774, 3804, 2694, 2681,\n",
       "        2962,  282, 1749, 1580, 3137]),\n",
       " array([   7, 3824,  178]),\n",
       " array([3372]),\n",
       " array([1005, 1382, 3755,   65]),\n",
       " array([2257, 3411, 1447, 1623]),\n",
       " array([3401]),\n",
       " array([ 269,  546, 1881]),\n",
       " array([ 540,  896, 1082, 2623]),\n",
       " array([2066, 1038, 1937, 3683]),\n",
       " array([ 266, 1852, 2323, 1859, 2716, 2493, 2202]),\n",
       " array([1249,  362]),\n",
       " array([ 437,  871, 2528,  582,  166,  661, 3853, 1211]),\n",
       " array([2670, 3137, 1228, 3042, 3638]),\n",
       " array([2943]),\n",
       " array([ 540, 3019,  995]),\n",
       " array([1933, 3128, 1288, 2045, 1798]),\n",
       " array([2591, 2047, 2052, 2764, 3600,  386]),\n",
       " array([3457, 2052, 1016]),\n",
       " array([1229, 2090,  261]),\n",
       " array([ 864, 1045, 1115, 2515, 1917]),\n",
       " array([2330, 3278]),\n",
       " array([1110, 3240, 1272]),\n",
       " array([1215, 1274, 1926,  447]),\n",
       " array([ 437, 3111,  800, 3711]),\n",
       " array([ 164,  744, 1379, 2267, 2577]),\n",
       " array([819, 468, 600]),\n",
       " array([2543, 1801, 3349]),\n",
       " array([ 568, 2593,  453, 3372]),\n",
       " array([1813]),\n",
       " array([ 379, 1857]),\n",
       " array([ 157, 1259]),\n",
       " array([ 762, 1947, 2481, 1766]),\n",
       " array([972]),\n",
       " array([3706]),\n",
       " array([  31, 1057, 3757]),\n",
       " array([ 964, 2083, 2660,  542, 3567]),\n",
       " array([3568, 1921, 1277,  836,  286, 1142,  184,  988, 2627]),\n",
       " array([1059, 1480, 2113]),\n",
       " array([ 411, 3666]),\n",
       " array([ 109, 2770, 2414,  509, 3254, 3880,  203, 2944,  246]),\n",
       " array([ 462, 1718]),\n",
       " array([1709, 3835]),\n",
       " array([1250,  909, 1855,  580, 2971, 2044, 3266, 3097,  207, 1683, 3042,\n",
       "         323,  442,  500,  656,  892, 2943, 2735, 2670]),\n",
       " array([3399]),\n",
       " array([ 411, 1531, 3813]),\n",
       " array([ 374,  602,  744, 1111, 1412, 1446, 1497]),\n",
       " array([558]),\n",
       " array([444]),\n",
       " array([ 166,  239,  525, 1832]),\n",
       " array([2689, 2935, 3533]),\n",
       " array([  27, 1591]),\n",
       " array([2440, 3817, 1697]),\n",
       " array([2421, 2159]),\n",
       " array([1947, 1851, 2695, 2508]),\n",
       " array([1344, 1061, 2326]),\n",
       " array([ 873, 1049]),\n",
       " array([3836,  680, 1039]),\n",
       " array([2093, 3300,  705, 2963, 3076, 2270,  778,  568]),\n",
       " array([ 604, 2104, 2274,  709]),\n",
       " array([  10, 1559]),\n",
       " array([1642, 2779]),\n",
       " array([ 801,  489, 1721, 1838]),\n",
       " array([3159, 2865, 2977, 3430,  479, 3094,  505, 2942, 3423,  434, 1670,\n",
       "        3740, 3561, 1474, 3714,  971, 1001, 3464,  871, 2485, 2501, 3710,\n",
       "         311, 3853,   27, 1165, 3356, 2468]),\n",
       " array([ 489, 1120]),\n",
       " array([ 138, 1720]),\n",
       " array([3697]),\n",
       " array([383]),\n",
       " array([ 732,   57,  225, 3121,  725]),\n",
       " array([  49,  410,  555, 2599, 3902]),\n",
       " array([2214,  199, 3206]),\n",
       " array([ 336, 2638, 1929, 3805, 1816, 2474, 1822, 2623, 1993,  993]),\n",
       " array([465]),\n",
       " array([2502, 2709, 3764, 2689, 3512, 1986]),\n",
       " array([2278, 3065]),\n",
       " array([ 540, 2191, 1445]),\n",
       " array([3075,  277, 3450]),\n",
       " array([1308]),\n",
       " array([ 690, 3409,  920, 2388]),\n",
       " array([3692, 1260]),\n",
       " array([ 564, 1093, 1488,  437]),\n",
       " array([3724, 1961, 3036]),\n",
       " array([71]),\n",
       " array([2657, 3718]),\n",
       " array([ 735, 2221, 1591, 3903, 2583, 1090, 3049, 2651,  437,  475]),\n",
       " array([ 269, 1669, 1451, 2980, 3459]),\n",
       " array([2060]),\n",
       " array([1762, 2573, 3768]),\n",
       " array([199]),\n",
       " array([2880, 2985,  309]),\n",
       " array([1905, 2254, 3498]),\n",
       " array([2712,  572, 2747, 1295, 1326, 1927]),\n",
       " array([3409, 3165, 2940, 1893, 3157]),\n",
       " array([ 501,  699, 1564, 2212, 2425,  363]),\n",
       " array([1156, 2951, 1346, 3447, 1947]),\n",
       " array([1481, 2842, 3702,  894]),\n",
       " array([2017]),\n",
       " array([2597, 2120]),\n",
       " array([ 458, 1516, 2059]),\n",
       " array([1510, 2066, 1237,  669, 3362, 3568, 1286, 2162, 1142]),\n",
       " array([3568, 3191, 1295]),\n",
       " array([3804,   13,  178,  983, 1236, 1369]),\n",
       " array([1387]),\n",
       " array([1973]),\n",
       " array([ 403, 2752]),\n",
       " array([ 756, 2649,  568]),\n",
       " array([ 286,  336,   92, 2178, 3396, 1204, 2783]),\n",
       " array([1540,  546, 1226, 2523]),\n",
       " array([1298, 2699, 3450, 3498,  382, 1894]),\n",
       " array([ 200,  429, 1453, 3000,  592, 1636, 2660,  890]),\n",
       " array([  94, 2736]),\n",
       " array([2083, 3222, 3261]),\n",
       " array([3054, 1431]),\n",
       " array([1512,  595, 1407, 3565,  669,  550, 1789]),\n",
       " array([ 211, 1421, 2252, 1867]),\n",
       " array([2716, 1509]),\n",
       " array([ 748,  994, 2125, 2453, 3176]),\n",
       " array([1602]),\n",
       " array([2659,  246, 1295, 1431, 3459, 3587, 3273]),\n",
       " array([2753, 3609]),\n",
       " array([3732, 1867, 2506,   44,  745,  943, 1635]),\n",
       " array([3801, 3277]),\n",
       " array([ 526, 1098, 1921, 2154, 2327, 2398, 2891, 3072]),\n",
       " array([1500]),\n",
       " array([ 736, 1976]),\n",
       " array([1282, 2501, 2702, 2294, 1768, 2754, 3256, 1016]),\n",
       " array([2567, 2821, 3885]),\n",
       " array([1247,  810]),\n",
       " array([ 267, 3665,  519]),\n",
       " array([ 880, 2514, 1085, 2049, 3144, 1659, 1205,  638]),\n",
       " array([ 937, 2375, 2603, 1295,  993, 2880]),\n",
       " array([3628, 3752, 1017, 1516]),\n",
       " array([1905]),\n",
       " array([379]),\n",
       " array([250]),\n",
       " array([ 537, 3378, 1329, 3873, 3211, 1334, 2955, 2453, 1897, 3037, 1048,\n",
       "        2670, 1562, 2599,  178, 1710, 1022]),\n",
       " array([3809]),\n",
       " array([3904, 2072]),\n",
       " array([2433]),\n",
       " array([1689]),\n",
       " array([2688, 2207, 3762, 3007, 1699]),\n",
       " array([ 786, 1124, 3120, 3058, 3601]),\n",
       " array([2551, 1119, 3284, 3320, 3019]),\n",
       " array([ 339, 1453, 1594, 2508]),\n",
       " array([2264, 2469, 3066, 2750]),\n",
       " array([2144, 2945, 3192, 3269,  672, 2242, 3000]),\n",
       " array([2956]),\n",
       " array([3040]),\n",
       " array([2756]),\n",
       " array([3022, 1921, 3420, 3391,  988,   29,  603,  356,  666,  542]),\n",
       " array([1417, 2335]),\n",
       " array([1964, 3472]),\n",
       " array([   2, 2482, 2347,  362,  942, 2463, 1569, 2793,  566, 1382, 1833,\n",
       "        2708,  415, 3168, 2378, 1012, 1740]),\n",
       " array([855]),\n",
       " array([1402, 3664]),\n",
       " array([ 178,  856, 3533,  823]),\n",
       " array([2412, 2567, 2945,  692]),\n",
       " array([3191, 1873, 1215]),\n",
       " array([1061, 2764, 2943, 3604, 1875,  114,  851, 2052]),\n",
       " array([2493,  193, 3485]),\n",
       " array([890]),\n",
       " array([ 917, 1633, 3685, 3292]),\n",
       " array([2242]),\n",
       " array([1206]),\n",
       " array([ 631, 2782, 3100]),\n",
       " array([3176, 2254, 3701,  277, 1968]),\n",
       " array([2640,  107,  336]),\n",
       " array([ 134, 3254, 1132]),\n",
       " array([2565]),\n",
       " array([ 118,  604, 3664,   70,  349]),\n",
       " array([1896, 3741,  187, 3089]),\n",
       " array([ 34, 206,  37]),\n",
       " array([2446]),\n",
       " array([3284, 1635,  715]),\n",
       " array([ 540, 3317, 3760]),\n",
       " array([1075,  982, 3578, 3492]),\n",
       " array([2523]),\n",
       " array([3372,  571, 3180]),\n",
       " array([3905, 2526]),\n",
       " array([ 443,  594, 3869, 3105]),\n",
       " array([3040, 1686, 2693, 2318]),\n",
       " array([ 233, 3173]),\n",
       " array([ 828, 3584, 2189, 1257, 1238, 2532, 2738]),\n",
       " array([3493]),\n",
       " array([1705, 2897, 2309, 3433, 1349, 3759, 1067]),\n",
       " array([782]),\n",
       " array([1699,  923, 1277]),\n",
       " array([2946, 1763]),\n",
       " array([2262, 2931,  217]),\n",
       " array([1359, 1135, 1511, 2247]),\n",
       " array([2588, 2000,  170]),\n",
       " array([3578]),\n",
       " array([2500,  915,  572, 1067]),\n",
       " array([1978, 1143, 1888, 1462, 2942, 1415,   16, 3307,  613]),\n",
       " array([2674, 3575, 1744]),\n",
       " array([1593]),\n",
       " array([1280]),\n",
       " array([ 786, 2091, 1506]),\n",
       " array([1811]),\n",
       " array([52]),\n",
       " array([519, 761, 912]),\n",
       " array([1713,  143]),\n",
       " array([ 122, 3816, 1534]),\n",
       " array([  70,  371, 1252, 2092, 1954, 3445, 1203, 2317,  678, 1001, 2689,\n",
       "        3533]),\n",
       " array([757]),\n",
       " array([2709,  253]),\n",
       " array([ 950, 2622, 1536]),\n",
       " array([ 123, 1021, 2170, 2066, 1718, 1891, 3369, 1521]),\n",
       " array([ 225,  424,  371,  896, 2580, 2707]),\n",
       " array([ 482, 1357]),\n",
       " array([2323, 2976, 2429, 2436]),\n",
       " array([ 628, 1966]),\n",
       " array([ 405, 1277, 2420]),\n",
       " array([1302,  190]),\n",
       " array([3904, 2275, 3115,  290]),\n",
       " array([  17,   27,  443,  712, 1462, 1562, 1875, 1922]),\n",
       " array([ 730, 1699, 1900, 1917]),\n",
       " array([896]),\n",
       " array([ 107, 3469,  217]),\n",
       " array([3538,   63, 2076]),\n",
       " array([1131, 1236]),\n",
       " array([2472, 2204, 3029]),\n",
       " array([2341, 2342]),\n",
       " array([3380,  369,  707, 1486, 2751, 2646]),\n",
       " array([ 189, 1876, 2117, 1831]),\n",
       " array([3012, 2295, 2638, 3679]),\n",
       " array([1464, 3420]),\n",
       " array([ 987, 1734, 1814]),\n",
       " array([ 369, 2359, 2525]),\n",
       " array([1934, 2455]),\n",
       " array([3357, 1215]),\n",
       " array([1904]),\n",
       " array([3580, 3231, 2886, 1911]),\n",
       " array([1392, 3506, 2372, 2938,  509,  638,  230]),\n",
       " array([2092, 3071]),\n",
       " array([3192, 2335, 2446]),\n",
       " array([2820]),\n",
       " array([1284, 1347, 2783]),\n",
       " array([ 695,  917, 3145, 3485]),\n",
       " array([1385,  720, 3136, 3035, 2843]),\n",
       " array([3244,  579, 2597, 3540,  712, 2859]),\n",
       " array([1066]),\n",
       " array([1829, 2151, 2453]),\n",
       " array([1282, 3266, 1265]),\n",
       " array([1369, 2528, 2709]),\n",
       " array([2663,  463, 3249]),\n",
       " array([1604, 1751,  186]),\n",
       " array([ 33, 670]),\n",
       " array([1357]),\n",
       " array([160]),\n",
       " array([3093, 1591, 3867, 1786]),\n",
       " array([524]),\n",
       " array([3085,  387]),\n",
       " array([ 646, 2293]),\n",
       " array([ 204,  656,  547, 2016]),\n",
       " array([  68, 2128, 2038]),\n",
       " array([3210,   94,  277]),\n",
       " array([2090, 1229]),\n",
       " array([1421, 1527,   76, 2057, 2891, 3077, 3222]),\n",
       " array([1225]),\n",
       " array([315]),\n",
       " array([2356]),\n",
       " array([1352, 3015,  674, 2801, 3273]),\n",
       " array([3089, 3195]),\n",
       " array([2346,   69]),\n",
       " array([555]),\n",
       " array([3847]),\n",
       " array([1823,  161, 1595,  544, 1535,  595, 2063, 1379, 1816, 1960, 1233]),\n",
       " array([1774, 1503, 1846, 1545]),\n",
       " array([69]),\n",
       " array([ 944, 2125, 2932,  704,  207]),\n",
       " array([  11, 1027]),\n",
       " array([1729, 1592, 3286, 1447]),\n",
       " array([  17,  574, 1263]),\n",
       " array([ 973, 3740,  914, 2494, 3264,  475, 3466, 1205, 3251]),\n",
       " array([3472, 2493]),\n",
       " array([2670, 2845, 3764, 2568]),\n",
       " array([1401,   11,  262]),\n",
       " array([2843]),\n",
       " array([1464, 1564,  356, 2707]),\n",
       " array([ 933, 2045, 3894, 2430, 1837, 2081, 2817]),\n",
       " array([3183]),\n",
       " array([3487]),\n",
       " array([ 589, 3866]),\n",
       " array([2555, 2282]),\n",
       " array([1581, 2802, 3712]),\n",
       " array([2008]),\n",
       " array([1222]),\n",
       " array([1554]),\n",
       " array([ 579, 1278, 1499, 2786,  226]),\n",
       " array([2842,  160,  697, 1227,  647]),\n",
       " array([ 171, 3653, 3483,  903, 1790, 1478]),\n",
       " array([1030, 2528]),\n",
       " array([2596,  670, 3258]),\n",
       " array([3340,  987,  901]),\n",
       " array([ 652, 1306, 3554, 3252]),\n",
       " array([2840, 1090, 3481]),\n",
       " array([ 887, 1558]),\n",
       " array([1995,  801, 2960]),\n",
       " array([2755, 2812, 1795, 2869]),\n",
       " array([1428, 2254, 2221, 1591, 2846, 1039,  605, 3087,   67,   70, 3833,\n",
       "         172, 1103, 3851, 2597, 2098, 1815, 3510, 1711, 1091]),\n",
       " array([3240, 3533, 1591]),\n",
       " array([ 954, 2327, 3775]),\n",
       " array([ 524, 3371, 2669,  688, 2151, 2041,  484, 1905, 2044, 3378, 1462,\n",
       "          17,  765,  126]),\n",
       " array([482]),\n",
       " array([ 322, 1283]),\n",
       " array([1306,  902]),\n",
       " array([1428, 1810, 2251, 1704, 2187]),\n",
       " array([3573,   36]),\n",
       " array([ 615, 2270, 3084,  865]),\n",
       " array([1310, 3816]),\n",
       " array([ 544, 3412, 1281, 2707, 1921,  258, 1013]),\n",
       " array([1926, 2142, 2930,  595]),\n",
       " array([ 270, 3043, 3533, 1402]),\n",
       " array([2455,  751,  795, 3502, 3781]),\n",
       " array([3768, 1010]),\n",
       " array([2477, 1562, 1679,  721, 3101,  370,  102,  680, 2130, 2442, 1626,\n",
       "        3415, 3602, 3316,  250, 1986]),\n",
       " array([1477, 3035, 3711]),\n",
       " array([1417, 2801,  852]),\n",
       " array([1110, 3036,  868]),\n",
       " array([1603, 2099]),\n",
       " array([3355]),\n",
       " array([2087]),\n",
       " array([2323,  679,  855,  918]),\n",
       " array([2311]),\n",
       " array([3881,  801, 1407, 2309]),\n",
       " array([2769, 1348, 1907, 1079,  175,  503]),\n",
       " array([2115]),\n",
       " array([ 336, 1497]),\n",
       " array([2694, 2728,  930]),\n",
       " array([3100, 3589,  531, 1048, 3434]),\n",
       " array([ 458, 2603]),\n",
       " array([3303, 2779]),\n",
       " array([3016, 2548]),\n",
       " array([3292]),\n",
       " array([2619, 1743, 2573, 2978,   44,  961,  529, 2910, 2116]),\n",
       " array([ 134, 1155, 1950, 1184, 2763, 2321]),\n",
       " array([1000, 2639, 2983, 3009, 3354]),\n",
       " array([1006, 2072]),\n",
       " array([ 866, 2098,  761, 3881]),\n",
       " array([ 127, 1568,   57]),\n",
       " array([2968]),\n",
       " array([2032, 1789, 1127]),\n",
       " array([2865, 2364, 3726, 3602, 2938,  126,  271, 1729,  282, 1443, 1475,\n",
       "        1975]),\n",
       " array([  63, 1881]),\n",
       " array([3343,  645, 2297, 3264]),\n",
       " array([ 159, 2026, 2876]),\n",
       " array([3426, 1310,  191]),\n",
       " array([ 619, 3115, 3588, 2697]),\n",
       " array([ 505, 2807, 1390]),\n",
       " array([1720, 3578,  196]),\n",
       " array([660]),\n",
       " array([ 837, 2420, 3198, 1885]),\n",
       " array([3608]),\n",
       " array([2934, 3066, 2257,  709, 1550, 2014, 3105, 2883, 2453, 2151, 1804,\n",
       "        1740, 3812,  488,  503, 1199]),\n",
       " array([1716, 1956]),\n",
       " array([3856]),\n",
       " array([ 491, 1295, 1685, 3762, 2531]),\n",
       " array([2310, 3280,  389, 3786, 2689, 2669]),\n",
       " array([835]),\n",
       " array([1739, 1150, 1282, 2501, 3282]),\n",
       " array([1453, 2205, 1699]),\n",
       " array([ 239, 2982,  971,   82]),\n",
       " array([ 632, 3871]),\n",
       " array([1591,  457]),\n",
       " array([ 110, 1661,  929,  221, 2995]),\n",
       " array([ 139, 2368]),\n",
       " array([1707, 1202, 2689, 1656,  271]),\n",
       " array([2021, 2357, 3494]),\n",
       " array([ 666, 1836]),\n",
       " array([ 529, 3412, 1790, 2517]),\n",
       " array([3220, 1627, 1142]),\n",
       " array([558]),\n",
       " array([ 605,  856, 3316, 3533, 1278]),\n",
       " array([2910]),\n",
       " array([1743]),\n",
       " array([2050]),\n",
       " array([1435, 1784, 2208, 3112]),\n",
       " array([1963]),\n",
       " array([3700]),\n",
       " array([2405, 2353]),\n",
       " array([413]),\n",
       " array([ 765,  167, 1886, 2362, 2843, 1863, 1500, 1905,  282, 2084]),\n",
       " array([3504, 3322]),\n",
       " array([176]),\n",
       " array([1045, 2783, 2863, 3666, 3798,  889]),\n",
       " array([2798, 1447]),\n",
       " array([2598, 1819, 1753,  666]),\n",
       " array([568, 719]),\n",
       " array([3032, 1699, 2863, 3832]),\n",
       " array([999]),\n",
       " array([1335]),\n",
       " array([3314]),\n",
       " array([3196,  532]),\n",
       " array([1562, 2400, 1428, 3621, 3812,   53]),\n",
       " array([3150, 2412]),\n",
       " array([2782, 2929, 2432]),\n",
       " array([3196,  582, 2469, 3621,   16, 1205, 1786]),\n",
       " array([505]),\n",
       " array([1445,  873]),\n",
       " array([3122]),\n",
       " array([530]),\n",
       " array([2736, 3311]),\n",
       " array([ 151, 3045, 1241, 3126]),\n",
       " array([1462, 2084, 1886,   70,  797, 1185, 3264, 3189, 3746]),\n",
       " array([2937]),\n",
       " array([2470]),\n",
       " array([1171, 2801]),\n",
       " array([ 326,  561, 1500]),\n",
       " array([1738, 2064, 3273]),\n",
       " array([ 638,  524,    7,   16, 3215]),\n",
       " array([ 277, 1757]),\n",
       " array([1846, 3493, 1732, 2283,  305, 2335,  426,  429]),\n",
       " array([ 902, 1482, 1070, 1306, 2322, 1357, 3611, 2384, 3500, 3499,  409]),\n",
       " array([ 347, 2508, 3785, 2141]),\n",
       " array([349,  84]),\n",
       " array([ 842, 2114, 3601, 3110, 3661]),\n",
       " array([  36,  292, 2240]),\n",
       " array([1629, 1118, 1258]),\n",
       " array([2861, 1821, 2608, 1214, 1310, 2099]),\n",
       " array([3489, 1721,  843, 1527, 3339, 1375, 3234, 3357,  730]),\n",
       " array([3754, 1588, 1563, 3182,  214, 3024, 3023, 2864, 2762, 2438, 2120,\n",
       "        1907]),\n",
       " array([1729,  532,   25, 2092,  707,    2, 3824,  748]),\n",
       " array([2660, 3491]),\n",
       " array([3075, 1815, 1271,  532, 2704]),\n",
       " array([3384]),\n",
       " array([2981]),\n",
       " array([3054, 1413,  217, 2335, 1502,  426, 1745, 1948]),\n",
       " array([2396,  584, 1118]),\n",
       " array([ 395, 2935, 1824, 2125]),\n",
       " array([1701, 2612,   69]),\n",
       " array([1903,  532, 2372, 3135, 1382, 1007,  207, 2934,  926, 2183]),\n",
       " array([1913, 3248, 1605]),\n",
       " array([1442]),\n",
       " array([3497]),\n",
       " array([876, 517]),\n",
       " array([3600, 1392,  613,   77,  386, 2469, 2938]),\n",
       " array([3124, 1213]),\n",
       " array([2270, 2951]),\n",
       " array([ 389, 3264, 3073, 2942, 3481, 1670,  708]),\n",
       " array([2561]),\n",
       " array([ 107, 1212]),\n",
       " array([2763, 2598,  356, 1184]),\n",
       " array([ 336,  729,  923, 1917, 2377, 1451,  575]),\n",
       " array([3318,  629]),\n",
       " array([3128, 1112]),\n",
       " array([ 377, 3901]),\n",
       " array([1357, 1026]),\n",
       " array([1987]),\n",
       " array([2302, 3700]),\n",
       " array([ 592, 3200, 2891, 1179]),\n",
       " array([1945, 2853,  892, 2494]),\n",
       " array([3537, 1209, 1977,  896, 1295, 1959]),\n",
       " array([1227, 2937]),\n",
       " array([ 350,  830, 1254, 2037, 2312, 1387, 2955, 2316, 2155, 1751,  178]),\n",
       " array([ 634, 2148, 1286, 3819,  225,  359, 1119, 2048]),\n",
       " array([3856]),\n",
       " array([3070, 1842, 3018, 3433, 1827, 1901, 3099, 2500, 1274]),\n",
       " array([1334]),\n",
       " array([  27,  205,  678,  707,  858, 2281, 2299]),\n",
       " array([1628,  814, 3464,  282]),\n",
       " array([ 930, 2876, 1653]),\n",
       " array([ 605, 3244, 2793, 3323, 3162]),\n",
       " array([3817, 2606,  833]),\n",
       " array([ 157, 2673, 1229]),\n",
       " array([ 763, 1355, 1910, 1012, 2218]),\n",
       " array([ 214, 3319, 1591]),\n",
       " array([299, 309]),\n",
       " array([1280, 1491]),\n",
       " array([ 266, 2493,  139]),\n",
       " array([1380, 2681,  295,  360, 2982, 2756]),\n",
       " array([1736, 3353, 3148, 1644,  522,  748,  567,  133,  242, 3100, 1199,\n",
       "        2014, 1875, 3418, 2221,  395, 3824, 2647, 1007, 1023, 1211,  178]),\n",
       " array([3724, 3102,  362, 3629, 1757, 3495,   94, 3540, 1457, 1656, 3786,\n",
       "         680, 1382, 2432, 2261]),\n",
       " array([ 564,  721, 2264, 2453, 3652, 3475]),\n",
       " array([1212]),\n",
       " array([2319]),\n",
       " array([1931]),\n",
       " array([ 976, 1827, 1856]),\n",
       " array([  3,  93, 107]),\n",
       " array([811, 426]),\n",
       " array([3119,  864]),\n",
       " array([567]),\n",
       " array([1906, 2945, 3493, 2963]),\n",
       " array([2653, 1869, 1361]),\n",
       " array([2190, 1845, 1956,   41, 1743, 2503, 1540, 2910, 1716]),\n",
       " array([1488, 3710]),\n",
       " array([2910, 2565, 2921,  825, 2089, 1940]),\n",
       " array([2169, 1975,  434]),\n",
       " array([3399]),\n",
       " array([  72, 1079]),\n",
       " array([ 659, 1187, 1345, 3332]),\n",
       " array([3386]),\n",
       " array([2781, 3627,   54]),\n",
       " array([ 744,  837,  880, 1207, 1326, 2267]),\n",
       " array([975]),\n",
       " array([1763, 3656, 3284, 3340, 2514]),\n",
       " array([2014, 2899]),\n",
       " array([3335]),\n",
       " array([2345]),\n",
       " array([2175]),\n",
       " array([ 627, 1026, 1674, 1796]),\n",
       " array([3348, 1056, 1271, 1888, 2714, 1202,  607,  673]),\n",
       " array([2866, 2725, 3320, 2835,  575,  324, 3884]),\n",
       " array([230, 567]),\n",
       " array([2395, 2554, 3421]),\n",
       " array([3330,  487]),\n",
       " array([3041,  359, 3254,  439]),\n",
       " array([2972,  518]),\n",
       " array([3875, 1317, 2707,  148, 2609,  569, 2572, 2559, 1055, 3252, 2303]),\n",
       " array([1096,  443, 3093,  566, 3763]),\n",
       " array([2087,  205, 3872,  767, 1653, 3260]),\n",
       " array([ 277, 2254,  479, 1380, 1578,  800]),\n",
       " array([ 126,  216, 1561]),\n",
       " array([3885,  849]),\n",
       " array([3110,  674, 2481,  762]),\n",
       " array([426, 852]),\n",
       " array([3900, 2154,  336, 3433, 3832, 2500,  557, 2880]),\n",
       " array([2013]),\n",
       " array([ 429, 1821]),\n",
       " array([3615]),\n",
       " array([2085,  581]),\n",
       " array([ 102, 3444,  270]),\n",
       " array([3725]),\n",
       " array([3021, 1418]),\n",
       " array([1595, 1150, 1386,  523, 3309,  336,  789, 1375,  287]),\n",
       " array([3611]),\n",
       " array([1905, 2453, 3669, 2971, 2016, 2569, 1462]),\n",
       " array([1135]),\n",
       " array([3673, 3794,  262, 1342]),\n",
       " array([2574,  726,  349, 2838]),\n",
       " array([1773]),\n",
       " array([3893, 3167, 1301]),\n",
       " array([ 266,  138, 3384]),\n",
       " array([1264]),\n",
       " array([2362, 1668, 1460]),\n",
       " array([2596, 1626,  233, 3210]),\n",
       " array([2403, 2614,  447, 3586]),\n",
       " array([1203, 3867,  719,  966, 3640]),\n",
       " array([1191]),\n",
       " array([2885, 1503]),\n",
       " array([2366, 1100]),\n",
       " array([ 230, 1023]),\n",
       " array([   8,  277,  295,  792,  921, 1907, 2254]),\n",
       " array([1166]),\n",
       " array([1917,  365, 1552, 2719]),\n",
       " array([ 789, 1760, 1916,  262, 1843]),\n",
       " array([ 693, 3603,   25,  120]),\n",
       " array([ 152, 1271, 2402, 2596]),\n",
       " array([3433, 1237]),\n",
       " array([2963]),\n",
       " array([1022, 3264, 2811]),\n",
       " array([1269, 1930, 2845]),\n",
       " array([ 107,  157,  660, 1896, 2090, 2275, 2456]),\n",
       " array([ 509, 2681, 3544, 3105, 3540]),\n",
       " array([1134, 2052, 2982,  270]),\n",
       " array([1419]),\n",
       " array([ 761, 1272]),\n",
       " array([747]),\n",
       " array([1482]),\n",
       " array([2963]),\n",
       " array([2114, 1738, 3269,  426, 2931, 3366]),\n",
       " array([2774]),\n",
       " array([ 306, 1281, 2539, 2783, 3378, 3835,  146, 2228]),\n",
       " array([2501, 2502,  792, 3459, 2314,  916,  605, 2938, 3765,  788,  934,\n",
       "        3171]),\n",
       " array([260]),\n",
       " array([ 415, 1837,  961, 1295, 3459, 1437,  246, 1780,  312, 1242]),\n",
       " array([2565, 2475,  520, 2892]),\n",
       " array([1968,  816, 1147, 1260, 1255,  524,  484, 3243, 2155, 1908,  239,\n",
       "        1373,  483]),\n",
       " array([2525,  703]),\n",
       " array([2956, 2114]),\n",
       " array([3254,  761, 1155, 1098, 2534, 3293, 3420, 3896]),\n",
       " array([2633, 1033]),\n",
       " array([3855]),\n",
       " array([2454,  307]),\n",
       " array([3238]),\n",
       " array([3166]),\n",
       " array([3845,  458, 1430, 3130,  648, 1918]),\n",
       " array([  69, 1507, 1889, 2342]),\n",
       " array([2657, 1218, 1042,  333, 2377, 3455, 2468, 3034, 1336, 2372, 3266]),\n",
       " array([3092, 2052]),\n",
       " array([ 817, 2472,  531, 2453, 1749]),\n",
       " array([3818]),\n",
       " array([1362, 1835, 3326,  848, 1633]),\n",
       " array([ 819, 1793, 1344, 1681, 2977, 1175, 3874]),\n",
       " array([2783, 2374, 2519]),\n",
       " array([ 889, 1309, 2839, 2461]),\n",
       " array([1672, 2916]),\n",
       " array([2824, 3745]),\n",
       " array([3709,  257, 1744, 1843, 1877]),\n",
       " array([ 310, 2724,   70,  600,  926]),\n",
       " array([1738, 2848, 2945]),\n",
       " array([2799,  307,   55]),\n",
       " array([ 581, 1828]),\n",
       " array([ 107,  403, 1212]),\n",
       " array([3596, 1647,  504, 1968, 3632]),\n",
       " array([3430, 2331, 2501]),\n",
       " array([ 578,  617,  736, 1453]),\n",
       " array([ 568, 2697, 1555]),\n",
       " array([  17, 1810, 1986]),\n",
       " array([ 537, 1907, 2277,  743, 3231, 3726, 3903, 3113, 3382]),\n",
       " array([2079, 3725,  269, 2718, 3202, 3538, 2089, 3599,  306, 1045,  701,\n",
       "        1029,    9, 2523, 2566]),\n",
       " array([2154, 2644, 1351,  128, 1371,   96]),\n",
       " array([3032, 3099,  238]),\n",
       " array([2861,  307, 1713]),\n",
       " array([1447,  410, 1888, 3307, 2512, 3863]),\n",
       " array([ 151,  388,  991, 1823, 3191, 3679, 2818]),\n",
       " array([3115,  619,  842, 2508, 3103]),\n",
       " array([ 598, 1591, 2669]),\n",
       " array([1921, 1965, 3501, 3828, 1587]),\n",
       " array([1808, 2851]),\n",
       " array([ 827, 3083]),\n",
       " array([3885]),\n",
       " array([1481,   52,  616]),\n",
       " array([ 485, 1569, 3561, 3718]),\n",
       " array([3136, 2574, 1160]),\n",
       " array([2317]),\n",
       " array([2825,  600]),\n",
       " array([ 892, 3568,   19, 2385, 1974, 3362,  262,  526, 1082, 1309,   32,\n",
       "        3381,  711, 1620, 3412,  123, 1272, 2066,  487, 1702,  995]),\n",
       " array([2274,   82]),\n",
       " array([1231, 1906, 3150]),\n",
       " array([2306, 3338,  131]),\n",
       " array([1697, 2918, 1297]),\n",
       " array([ 856, 2670, 2041]),\n",
       " array([2011, 2453, 1384, 3068]),\n",
       " array([2282, 2439]),\n",
       " array([1740, 2498]),\n",
       " array([ 295, 1537]),\n",
       " array([3393, 1989, 3826]),\n",
       " array([   2, 1066,  800, 3044]),\n",
       " array([3034]),\n",
       " array([2320]),\n",
       " array([1523, 1921, 2228]),\n",
       " array([ 724, 2191]),\n",
       " array([3177, 1067]),\n",
       " array([519]),\n",
       " array([1061]),\n",
       " array([2526, 2614,  399, 3284,  915, 1281, 3152, 1836, 2650, 1349, 1119,\n",
       "        1421, 3716, 3473]),\n",
       " array([ 991, 2435, 3828,  356, 1095, 2108, 3302,  306]),\n",
       " array([3859, 1655]),\n",
       " array([1550, 1695,  564]),\n",
       " array([1515,  181,  975]),\n",
       " array([ 362, 1096]),\n",
       " array([1963, 1359, 1100]),\n",
       " ...]"
      ]
     },
     "execution_count": 14,
     "metadata": {},
     "output_type": "execute_result"
    }
   ],
   "source": [
    "item_idx_matrix_train"
   ]
  },
  {
   "cell_type": "code",
   "execution_count": 15,
   "metadata": {},
   "outputs": [
    {
     "name": "stdout",
     "output_type": "stream",
     "text": [
      "  (0, 346)\t4.0\n",
      "  (0, 2554)\t5.0\n",
      "  (0, 2776)\t5.0\n",
      "  (1, 16)\t5.0\n",
      "  (1, 2074)\t5.0\n",
      "  (1, 2206)\t5.0\n",
      "  (1, 2830)\t5.0\n",
      "  (2, 924)\t5.0\n",
      "  (2, 2186)\t5.0\n",
      "  (2, 2707)\t5.0\n",
      "  (3, 2570)\t5.0\n",
      "  (3, 2861)\t4.0\n",
      "  (4, 1888)\t4.0\n",
      "  (4, 2245)\t5.0\n",
      "  (4, 2453)\t4.0\n",
      "  (5, 1248)\t5.0\n",
      "  (5, 1642)\t4.0\n",
      "  (5, 1869)\t5.0\n",
      "  (5, 2229)\t4.0\n",
      "  (5, 2305)\t4.0\n",
      "  (5, 2931)\t5.0\n",
      "  (5, 3741)\t5.0\n",
      "  (6, 402)\t5.0\n",
      "  (6, 432)\t5.0\n",
      "  (6, 1237)\t4.0\n",
      "  :\t:\n",
      "  (5785, 754)\t5.0\n",
      "  (5785, 1786)\t4.0\n",
      "  (5785, 3319)\t5.0\n",
      "  (5786, 977)\t1.0\n",
      "  (5786, 2823)\t5.0\n",
      "  (5787, 52)\t5.0\n",
      "  (5787, 635)\t4.0\n",
      "  (5787, 1745)\t4.0\n",
      "  (5787, 1791)\t4.0\n",
      "  (5787, 2552)\t4.0\n",
      "  (5787, 3223)\t5.0\n",
      "  (5787, 3352)\t5.0\n",
      "  (5788, 1370)\t5.0\n",
      "  (5788, 2057)\t1.0\n",
      "  (5788, 2373)\t5.0\n",
      "  (5789, 3409)\t5.0\n",
      "  (5790, 178)\t5.0\n",
      "  (5790, 271)\t4.0\n",
      "  (5790, 282)\t3.0\n",
      "  (5790, 551)\t5.0\n",
      "  (5790, 1474)\t5.0\n",
      "  (5790, 1500)\t4.0\n",
      "  (5790, 2134)\t3.0\n",
      "  (5790, 2735)\t5.0\n",
      "  (5790, 3215)\t4.0\n"
     ]
    }
   ],
   "source": [
    "print(rtrain)"
   ]
  },
  {
   "cell_type": "raw",
   "metadata": {},
   "source": [
    "rtrain_implicit, rvalid_implicit, rtest_implicit, nonzero_index, rtime, item_idx_matrix_train_implicit,item_idx_matrix_valid_implicit, item_idx_matrix_test_implicit = time_ordered_split(rating_matrix=rating_matrix,timestamp_matrix=timestamp_matrix,\n",
    "                                                                     ratio=[0.5,0.2,0.3],\n",
    "                                                                     implicit=True)"
   ]
  },
  {
   "cell_type": "markdown",
   "metadata": {},
   "source": [
    "## Get df for training corpus"
   ]
  },
  {
   "cell_type": "code",
   "execution_count": 16,
   "metadata": {},
   "outputs": [],
   "source": [
    "#Item idex matrix stores the reivews starts\n",
    "#This function returns a list of index for the reviews included in training set \n",
    "def get_corpus_idx_list(df, item_idx_matrix):\n",
    "    \"\"\"\n",
    "    Input: \n",
    "    df: total dataframe\n",
    "    item_idx_matrix: train index list got from time_split \n",
    "    Output: row index in original dataframe for training data by time split\n",
    "    \"\"\"\n",
    "    lst = []\n",
    "    #For all the users: 5791\n",
    "    for i in tqdm(range(len(item_idx_matrix))):\n",
    "        \n",
    "        #find row index where user_num_id is i\n",
    "        a = df.index[df['user_num_id'] == i].tolist()\n",
    "        \n",
    "        #loop through the busienss id that the user i reviewed for in offvalid set \n",
    "        for item_idx in  item_idx_matrix[i]:\n",
    "            \n",
    "            #get the row index for reviews for business that the user liked in the train set\n",
    "            b = df.index[df['business_num_id'] == item_idx].tolist()\n",
    "            \n",
    "            #Find the index for which this user liked, one user only rate a business once\n",
    "            idx_to_add = list(set(a).intersection(b))\n",
    "            \n",
    "            if idx_to_add not in lst:\n",
    "                lst.extend(idx_to_add)\n",
    "    return lst"
   ]
  },
  {
   "cell_type": "code",
   "execution_count": 17,
   "metadata": {},
   "outputs": [
    {
     "name": "stderr",
     "output_type": "stream",
     "text": [
      "100%|█████████████████████████████████████████████████████████████████████████████| 5791/5791 [00:09<00:00, 484.69it/s]\n"
     ]
    }
   ],
   "source": [
    "lst_train = get_corpus_idx_list(df, item_idx_matrix_train)\n",
    "\n",
    "# Get the training dataframe from the original dataframe\n",
    "df_train = df.loc[lst_train]"
   ]
  },
  {
   "cell_type": "code",
   "execution_count": 18,
   "metadata": {},
   "outputs": [],
   "source": [
    "#Resetting the index of the train data\n",
    "df_train = df_train.reset_index(drop=True)"
   ]
  },
  {
   "cell_type": "code",
   "execution_count": 19,
   "metadata": {
    "scrolled": true
   },
   "outputs": [
    {
     "data": {
      "text/html": [
       "<div>\n",
       "<style scoped>\n",
       "    .dataframe tbody tr th:only-of-type {\n",
       "        vertical-align: middle;\n",
       "    }\n",
       "\n",
       "    .dataframe tbody tr th {\n",
       "        vertical-align: top;\n",
       "    }\n",
       "\n",
       "    .dataframe thead th {\n",
       "        text-align: right;\n",
       "    }\n",
       "</style>\n",
       "<table border=\"1\" class=\"dataframe\">\n",
       "  <thead>\n",
       "    <tr style=\"text-align: right;\">\n",
       "      <th></th>\n",
       "      <th>business_id</th>\n",
       "      <th>review_cool</th>\n",
       "      <th>date</th>\n",
       "      <th>review_funny</th>\n",
       "      <th>review_id</th>\n",
       "      <th>review_stars</th>\n",
       "      <th>review_text</th>\n",
       "      <th>review_useful</th>\n",
       "      <th>user_id</th>\n",
       "      <th>business_num_id</th>\n",
       "      <th>user_num_id</th>\n",
       "      <th>timestamp</th>\n",
       "    </tr>\n",
       "  </thead>\n",
       "  <tbody>\n",
       "    <tr>\n",
       "      <th>0</th>\n",
       "      <td>h7s4MRVvB726jWHCHiQ9kw</td>\n",
       "      <td>0</td>\n",
       "      <td>2015-07-10</td>\n",
       "      <td>0</td>\n",
       "      <td>50CAr36tKFbhnZuUg1HEag</td>\n",
       "      <td>5</td>\n",
       "      <td>I've come to this place several times, and eac...</td>\n",
       "      <td>0</td>\n",
       "      <td>-1immOUG00aBdpcQPFYQhA</td>\n",
       "      <td>2776</td>\n",
       "      <td>0</td>\n",
       "      <td>1.436501e+09</td>\n",
       "    </tr>\n",
       "    <tr>\n",
       "      <th>1</th>\n",
       "      <td>4VkLiFoIEjTTpbCRgxjnCQ</td>\n",
       "      <td>0</td>\n",
       "      <td>2015-09-10</td>\n",
       "      <td>0</td>\n",
       "      <td>oUluqUz1h9G-TwrFHIRQ7g</td>\n",
       "      <td>4</td>\n",
       "      <td>A quaint little hole-in-the-wall deli/restaura...</td>\n",
       "      <td>0</td>\n",
       "      <td>-1immOUG00aBdpcQPFYQhA</td>\n",
       "      <td>346</td>\n",
       "      <td>0</td>\n",
       "      <td>1.441858e+09</td>\n",
       "    </tr>\n",
       "    <tr>\n",
       "      <th>2</th>\n",
       "      <td>duw-3Aj7gAKbQG-isS5UtQ</td>\n",
       "      <td>0</td>\n",
       "      <td>2015-09-10</td>\n",
       "      <td>0</td>\n",
       "      <td>aPTCoZa_5hb-LJ4QHST6zQ</td>\n",
       "      <td>5</td>\n",
       "      <td>Terrific service and comfortable atmosphere as...</td>\n",
       "      <td>0</td>\n",
       "      <td>-1immOUG00aBdpcQPFYQhA</td>\n",
       "      <td>2554</td>\n",
       "      <td>0</td>\n",
       "      <td>1.441858e+09</td>\n",
       "    </tr>\n",
       "    <tr>\n",
       "      <th>3</th>\n",
       "      <td>-Bdw-5H5C4AYSMGnAvmnzw</td>\n",
       "      <td>4</td>\n",
       "      <td>2011-01-08</td>\n",
       "      <td>15</td>\n",
       "      <td>2yjShsBAIqUN4NZ2UuQH8A</td>\n",
       "      <td>5</td>\n",
       "      <td>Sadly I'm going to rate this restaurant based ...</td>\n",
       "      <td>7</td>\n",
       "      <td>-3gIDSqZ04FROn3du4CK2A</td>\n",
       "      <td>16</td>\n",
       "      <td>1</td>\n",
       "      <td>1.294463e+09</td>\n",
       "    </tr>\n",
       "    <tr>\n",
       "      <th>4</th>\n",
       "      <td>ZHQU79PMUGCX0fEoyCcWlw</td>\n",
       "      <td>2</td>\n",
       "      <td>2011-01-08</td>\n",
       "      <td>0</td>\n",
       "      <td>hwf4-6O18fP0PJ3bP2i2BA</td>\n",
       "      <td>5</td>\n",
       "      <td>The 5-Star rating is a combo good food+cool pl...</td>\n",
       "      <td>4</td>\n",
       "      <td>-3gIDSqZ04FROn3du4CK2A</td>\n",
       "      <td>2206</td>\n",
       "      <td>1</td>\n",
       "      <td>1.294463e+09</td>\n",
       "    </tr>\n",
       "  </tbody>\n",
       "</table>\n",
       "</div>"
      ],
      "text/plain": [
       "              business_id  review_cool        date  review_funny  \\\n",
       "0  h7s4MRVvB726jWHCHiQ9kw            0  2015-07-10             0   \n",
       "1  4VkLiFoIEjTTpbCRgxjnCQ            0  2015-09-10             0   \n",
       "2  duw-3Aj7gAKbQG-isS5UtQ            0  2015-09-10             0   \n",
       "3  -Bdw-5H5C4AYSMGnAvmnzw            4  2011-01-08            15   \n",
       "4  ZHQU79PMUGCX0fEoyCcWlw            2  2011-01-08             0   \n",
       "\n",
       "                review_id  review_stars  \\\n",
       "0  50CAr36tKFbhnZuUg1HEag             5   \n",
       "1  oUluqUz1h9G-TwrFHIRQ7g             4   \n",
       "2  aPTCoZa_5hb-LJ4QHST6zQ             5   \n",
       "3  2yjShsBAIqUN4NZ2UuQH8A             5   \n",
       "4  hwf4-6O18fP0PJ3bP2i2BA             5   \n",
       "\n",
       "                                         review_text  review_useful  \\\n",
       "0  I've come to this place several times, and eac...              0   \n",
       "1  A quaint little hole-in-the-wall deli/restaura...              0   \n",
       "2  Terrific service and comfortable atmosphere as...              0   \n",
       "3  Sadly I'm going to rate this restaurant based ...              7   \n",
       "4  The 5-Star rating is a combo good food+cool pl...              4   \n",
       "\n",
       "                  user_id  business_num_id  user_num_id     timestamp  \n",
       "0  -1immOUG00aBdpcQPFYQhA             2776            0  1.436501e+09  \n",
       "1  -1immOUG00aBdpcQPFYQhA              346            0  1.441858e+09  \n",
       "2  -1immOUG00aBdpcQPFYQhA             2554            0  1.441858e+09  \n",
       "3  -3gIDSqZ04FROn3du4CK2A               16            1  1.294463e+09  \n",
       "4  -3gIDSqZ04FROn3du4CK2A             2206            1  1.294463e+09  "
      ]
     },
     "execution_count": 19,
     "metadata": {},
     "output_type": "execute_result"
    }
   ],
   "source": [
    "df_train.head(5)"
   ]
  },
  {
   "cell_type": "code",
   "execution_count": 20,
   "metadata": {},
   "outputs": [
    {
     "data": {
      "text/plain": [
       "(21304, 12)"
      ]
     },
     "execution_count": 20,
     "metadata": {},
     "output_type": "execute_result"
    }
   ],
   "source": [
    "df_train.shape"
   ]
  },
  {
   "cell_type": "code",
   "execution_count": 21,
   "metadata": {},
   "outputs": [],
   "source": [
    "import pickle as pkl\n",
    "# Save and load df_train\n",
    "# with open('df_train.pkl', 'wb') as handle:\n",
    "#     pkl.dump(df_train, handle)\n",
    "\n",
    "# with open('df_train.pkl', 'rb') as handle:\n",
    "#     df_train = pkl.load(handle)"
   ]
  },
  {
   "cell_type": "markdown",
   "metadata": {},
   "source": [
    "## Preprocess using tf-idf"
   ]
  },
  {
   "cell_type": "code",
   "execution_count": 22,
   "metadata": {},
   "outputs": [
    {
     "name": "stderr",
     "output_type": "stream",
     "text": [
      "[nltk_data] Downloading package wordnet to\n",
      "[nltk_data]     C:\\Users\\songya25\\AppData\\Roaming\\nltk_data...\n",
      "[nltk_data]   Package wordnet is already up-to-date!\n",
      "[nltk_data] Downloading package wordnet to\n",
      "[nltk_data]     C:\\Users\\songya25\\AppData\\Roaming\\nltk_data...\n",
      "[nltk_data]   Package wordnet is already up-to-date!\n"
     ]
    },
    {
     "name": "stdout",
     "output_type": "stream",
     "text": [
      "stemming: invers\n",
      "lemmatization: inversely\n"
     ]
    }
   ],
   "source": [
    "#Stemming and Lemmatisation\n",
    "from nltk.stem.porter import PorterStemmer\n",
    "from nltk.stem.wordnet import WordNetLemmatizer\n",
    "import nltk\n",
    "nltk.download('wordnet')\n",
    "nltk.download('wordnet')\n",
    "lem = WordNetLemmatizer()\n",
    "stem = PorterStemmer()\n",
    "word = 'inversely'\n",
    "print ('stemming:', stem.stem(word))\n",
    "print ('lemmatization:', lem.lemmatize(word, \"v\"))"
   ]
  },
  {
   "cell_type": "code",
   "execution_count": 23,
   "metadata": {},
   "outputs": [],
   "source": [
    "import re \n",
    "import nltk\n",
    "from nltk.corpus import stopwords\n",
    "from nltk.stem.porter import PorterStemmer\n",
    "from nltk.tokenize import RegexpTokenizer\n",
    "from nltk.stem.wordnet import WordNetLemmatizer"
   ]
  },
  {
   "cell_type": "code",
   "execution_count": 24,
   "metadata": {
    "scrolled": true
   },
   "outputs": [
    {
     "name": "stderr",
     "output_type": "stream",
     "text": [
      "[nltk_data] Downloading package stopwords to\n",
      "[nltk_data]     C:\\Users\\songya25\\AppData\\Roaming\\nltk_data...\n",
      "[nltk_data]   Package stopwords is already up-to-date!\n",
      "[nltk_data] Downloading package wordnet to\n",
      "[nltk_data]     C:\\Users\\songya25\\AppData\\Roaming\\nltk_data...\n",
      "[nltk_data]   Package wordnet is already up-to-date!\n"
     ]
    }
   ],
   "source": [
    "nltk.download('stopwords')\n",
    "nltk.download('wordnet')\n",
    "# Create a list of stopwords and add custom stopwords\n",
    "stop_words = set(stopwords.words(\"english\"))\n",
    "# stop_words.remove('not')\n",
    "## A list of custom stopwords\n",
    "# new_words = ['using','show','result','large','also']\n",
    "new_words = ['not_the']\n",
    "stop_words = stop_words.union(new_words)"
   ]
  },
  {
   "cell_type": "code",
   "execution_count": 25,
   "metadata": {},
   "outputs": [],
   "source": [
    "# Get corpus and CountVector\n",
    "from sklearn.feature_extraction.text import CountVectorizer\n",
    "import re"
   ]
  },
  {
   "cell_type": "code",
   "execution_count": 26,
   "metadata": {},
   "outputs": [],
   "source": [
    "from tqdm import tqdm\n",
    "\n",
    "#Should 'because' added?\n",
    "def preprocess(df, reset_list = [',','.','?',';','however','but']):\n",
    "    corpus = []\n",
    "    for i in tqdm(range(df.shape[0])):\n",
    "        text = df['review_text'][i]\n",
    "        change_flg = 0\n",
    "        #Convert to lowercase\n",
    "        text = text.lower()\n",
    "        \n",
    "        ##Convert to list from string, loop through the review text\n",
    "        text = text.split()\n",
    "        \n",
    "        #any sentence that encounters a not, the folloing words will become not phrase until hit the sentence end\n",
    "        for j in range(len(text)):\n",
    "            #Make the not_ hack\n",
    "            if text[j] == 'not':\n",
    "                change_flg = 1\n",
    "#                 print 'changes is made after ', i\n",
    "                continue\n",
    "            #if was 1 was round and not hit a 'not' in this round\n",
    "            if change_flg == 1 and any(reset in text[j] for reset in reset_list):\n",
    "                text[j] = 'not_' + text[j]\n",
    "                change_flg = 0\n",
    "#                 print 'reset at ', i\n",
    "            if change_flg == 1:\n",
    "                text[j] = 'not_' + text[j]\n",
    "        \n",
    "        #Convert back to string\n",
    "        text = \" \".join(text)\n",
    "        \n",
    "        #Remove punctuations\n",
    "#         text = re.sub('[^a-zA-Z]', ' ', text)\n",
    "        \n",
    "        #remove tags\n",
    "        text=re.sub(\"&lt;/?.*?&gt;\",\" &lt;&gt; \",text)\n",
    "        \n",
    "        # remove special characters and digits\n",
    "        text=re.sub(\"(\\\\d|\\\\W)+\",\" \",text)\n",
    "        \n",
    "        ##Convert to list from string\n",
    "        text = text.split()\n",
    "        \n",
    "        ##Stemming\n",
    "        ps=PorterStemmer()\n",
    "        \n",
    "        #Lemmatisation\n",
    "        lem = WordNetLemmatizer()\n",
    "        text = [lem.lemmatize(word) for word in text if not word in  \n",
    "                stop_words] \n",
    "        text = \" \".join(text)\n",
    "        corpus.append(text)\n",
    "    return corpus"
   ]
  },
  {
   "cell_type": "code",
   "execution_count": 27,
   "metadata": {
    "scrolled": false
   },
   "outputs": [
    {
     "name": "stderr",
     "output_type": "stream",
     "text": [
      "100%|██████████████████████████████████████████████████████████████████████████| 21304/21304 [00:05<00:00, 3622.66it/s]\n"
     ]
    }
   ],
   "source": [
    "# The entire corpus\n",
    "corpus = preprocess(df_train)"
   ]
  },
  {
   "cell_type": "code",
   "execution_count": 28,
   "metadata": {},
   "outputs": [
    {
     "data": {
      "text/plain": [
       "21304"
      ]
     },
     "execution_count": 28,
     "metadata": {},
     "output_type": "execute_result"
    }
   ],
   "source": [
    "len(corpus)"
   ]
  },
  {
   "cell_type": "code",
   "execution_count": 29,
   "metadata": {
    "scrolled": true
   },
   "outputs": [],
   "source": [
    "# X row: df_train row, column: key words frequency \n",
    "# When building the vocabulary ignore terms that have a document frequency strictly higher than the given threshold\n",
    "cv=CountVectorizer(max_df=0.9,stop_words=stop_words, max_features=5000, ngram_range=(1,1))\n",
    "X=cv.fit_transform(corpus)"
   ]
  },
  {
   "cell_type": "code",
   "execution_count": 30,
   "metadata": {},
   "outputs": [
    {
     "data": {
      "text/plain": [
       "(21304, 5000)"
      ]
     },
     "execution_count": 30,
     "metadata": {},
     "output_type": "execute_result"
    }
   ],
   "source": [
    "X.shape"
   ]
  },
  {
   "cell_type": "code",
   "execution_count": 31,
   "metadata": {},
   "outputs": [
    {
     "data": {
      "text/plain": [
       "(array([0, 0, 0, 0, 0, 0, 0, 0, 0, 0, 0, 0, 0, 0, 0, 0, 0, 0, 0, 0, 0, 0,\n",
       "        0, 0, 0, 0, 0, 0, 0, 0, 0, 0, 0, 0, 0, 0, 0, 0, 0, 0, 0, 0, 0, 0],\n",
       "       dtype=int64),\n",
       " array([ 136,  181,  265,  466,  678,  919,  929, 1067, 1098, 1380, 1396,\n",
       "        1733, 1857, 2031, 2067, 2293, 2489, 2606, 2615, 2625, 2633, 3208,\n",
       "        3225, 3284, 3449, 3856, 3919, 3920, 3997, 4055, 4097, 4176, 4203,\n",
       "        4222, 4472, 4543, 4544, 4631, 4642, 4684, 4885, 4953, 4961, 4979],\n",
       "       dtype=int64))"
      ]
     },
     "execution_count": 31,
     "metadata": {},
     "output_type": "execute_result"
    }
   ],
   "source": [
    "# X should be a document(review) vs. term frequency matrix \n",
    "import sys\n",
    "np.set_printoptions(threshold=sys.maxsize)\n",
    "X[6].toarray().nonzero()"
   ]
  },
  {
   "cell_type": "markdown",
   "metadata": {},
   "source": [
    "### Process the Corpus using TF-IDF"
   ]
  },
  {
   "cell_type": "code",
   "execution_count": 49,
   "metadata": {},
   "outputs": [],
   "source": [
    "dict_text = {}\n",
    "for i in range(len(corpus)):\n",
    "    if df_train['business_num_id'][i] not in dict_text:\n",
    "        dict_text[df_train['business_num_id'][i]] = corpus[i]\n",
    "    else:\n",
    "        temp = dict_text[df_train['business_num_id'][i]]\n",
    "        temp = temp + corpus[i]\n",
    "        dict_text[df_train['business_num_id'][i]] = temp"
   ]
  },
  {
   "cell_type": "code",
   "execution_count": 50,
   "metadata": {},
   "outputs": [],
   "source": [
    "list_text = []\n",
    "for key in range(0,max(list(dict_text.keys()))+1) :\n",
    "    if key not in dict_text.keys():\n",
    "        list_text.extend([\"\"])\n",
    "    else:\n",
    "        list_text.extend([dict_text[key]])"
   ]
  },
  {
   "cell_type": "code",
   "execution_count": 56,
   "metadata": {},
   "outputs": [],
   "source": [
    "from sklearn.feature_extraction.text import TfidfVectorizer"
   ]
  },
  {
   "cell_type": "code",
   "execution_count": 57,
   "metadata": {},
   "outputs": [],
   "source": [
    "vectorizer = TfidfVectorizer(max_df=0.9,stop_words=stop_words, max_features=5000, ngram_range=(1,1))\n",
    "X_cleaned = vectorizer.fit_transform(list_text).toarray()"
   ]
  },
  {
   "cell_type": "code",
   "execution_count": 58,
   "metadata": {},
   "outputs": [
    {
     "data": {
      "text/plain": [
       "(3906, 5000)"
      ]
     },
     "execution_count": 58,
     "metadata": {},
     "output_type": "execute_result"
    }
   ],
   "source": [
    "X_cleaned.shape"
   ]
  },
  {
   "cell_type": "code",
   "execution_count": 59,
   "metadata": {},
   "outputs": [
    {
     "data": {
      "text/plain": [
       "numpy.ndarray"
      ]
     },
     "execution_count": 59,
     "metadata": {},
     "output_type": "execute_result"
    }
   ],
   "source": [
    "type(X_cleaned)"
   ]
  },
  {
   "cell_type": "code",
   "execution_count": 60,
   "metadata": {},
   "outputs": [],
   "source": [
    "X_cleaned_sparse = csr_matrix(X_cleaned)"
   ]
  },
  {
   "cell_type": "code",
   "execution_count": 61,
   "metadata": {},
   "outputs": [
    {
     "name": "stdout",
     "output_type": "stream",
     "text": [
      "  (0, 1)\t0.023610601009401558\n",
      "  (0, 62)\t0.041110869816430244\n",
      "  (0, 63)\t0.023359909160515398\n",
      "  (0, 95)\t0.020641076642448835\n",
      "  (0, 102)\t0.03654977597689457\n",
      "  (0, 104)\t0.020738763932256966\n",
      "  (0, 107)\t0.04418234451287187\n",
      "  (0, 118)\t0.023267987596309325\n",
      "  (0, 131)\t0.018066835560039858\n",
      "  (0, 140)\t0.10402296049059105\n",
      "  (0, 141)\t0.03694109970759077\n",
      "  (0, 142)\t0.029314121389190803\n",
      "  (0, 160)\t0.10172468159243515\n",
      "  (0, 169)\t0.03445821373124826\n",
      "  (0, 175)\t0.03531032713837482\n",
      "  (0, 183)\t0.016742987998210047\n",
      "  (0, 201)\t0.06878458114812552\n",
      "  (0, 203)\t0.04089876691648105\n",
      "  (0, 217)\t0.023515621685203485\n",
      "  (0, 229)\t0.021617842092445178\n",
      "  (0, 247)\t0.03857163900021131\n",
      "  (0, 248)\t0.05915385056980205\n",
      "  (0, 259)\t0.036432881307268565\n",
      "  (0, 268)\t0.07400517079463148\n",
      "  (0, 269)\t0.01886051789943975\n",
      "  :\t:\n",
      "  (3905, 3636)\t0.08041919023280394\n",
      "  (3905, 3687)\t0.07824110374547194\n",
      "  (3905, 3691)\t0.08191032523086332\n",
      "  (3905, 3705)\t0.053642618756116145\n",
      "  (3905, 3726)\t0.0754449748628456\n",
      "  (3905, 3810)\t0.05292978261543481\n",
      "  (3905, 3880)\t0.09696781089367207\n",
      "  (3905, 3972)\t0.15243719082227938\n",
      "  (3905, 3992)\t0.12423572060967221\n",
      "  (3905, 3999)\t0.08864942730648609\n",
      "  (3905, 4053)\t0.08273860750428957\n",
      "  (3905, 4099)\t0.07437150482023253\n",
      "  (3905, 4227)\t0.09793660829963646\n",
      "  (3905, 4334)\t0.15898710275870132\n",
      "  (3905, 4402)\t0.059695114738094184\n",
      "  (3905, 4428)\t0.11950462860678451\n",
      "  (3905, 4433)\t0.26458523300358555\n",
      "  (3905, 4472)\t0.09533091641619458\n",
      "  (3905, 4567)\t0.03630277520200376\n",
      "  (3905, 4655)\t0.0564037310704672\n",
      "  (3905, 4690)\t0.05389784923169806\n",
      "  (3905, 4724)\t0.08911196386415152\n",
      "  (3905, 4766)\t0.09342148003999874\n",
      "  (3905, 4778)\t0.0701777367140333\n",
      "  (3905, 4865)\t0.053448000049557916\n"
     ]
    }
   ],
   "source": [
    "print(X_cleaned_sparse)\n"
   ]
  },
  {
   "cell_type": "markdown",
   "metadata": {},
   "source": [
    "## all Model"
   ]
  },
  {
   "cell_type": "code",
   "execution_count": 32,
   "metadata": {},
   "outputs": [],
   "source": [
    "from sklearn.metrics.pairwise import cosine_similarity\n",
    "def train(matrix_train):\n",
    "    similarity = cosine_similarity(X=matrix_train, Y=None, dense_output=True)\n",
    "    return similarity\n",
    "\n",
    "def get_I_K(df, X, row_name = 'business_num_id', binary = True, shape = (121994,6000)):\n",
    "    \"\"\"\n",
    "    get the item-keyphrase matrix\n",
    "    \"\"\"\n",
    "    rows = []\n",
    "    cols = []\n",
    "    vals = []\n",
    "    \n",
    "    #For each review history\n",
    "    for i in tqdm(range(X.shape[0])):\n",
    "        #Get the array of frequencies for document/review i \n",
    "        arr = X[i].toarray() \n",
    "        nonzero_element = arr.nonzero()[1]  # Get nonzero element in each line, keyphrase that appears index\n",
    "        \n",
    "        length_of_nonzero = len(nonzero_element) #number of important keyphrase that appears\n",
    "        \n",
    "        # df[row_name][i] is the item idex\n",
    "        #Get a list row index that indicates the document/review\n",
    "        rows.extend(np.array([df[row_name][i]]*length_of_nonzero)) ## Item index\n",
    "        #print(rows)\n",
    "        \n",
    "        #Get a list of column index indicating the key phrase that appears in i document/review\n",
    "        cols.extend(nonzero_element) ## Keyword Index\n",
    "        if binary:\n",
    "            #Create a bunch of 1s\n",
    "            vals.extend(np.array([1]*length_of_nonzero))\n",
    "        else:\n",
    "            #If not binary \n",
    "            vals.extend(arr[arr.nonzero()])    \n",
    "    return csr_matrix((vals, (rows, cols)), shape=shape)\n",
    "\n",
    "\n",
    "#Get a UI matrix if it's not item_similarity based or else IU\n",
    "def predict(matrix_train, k, similarity, item_similarity_en = False):\n",
    "    prediction_scores = []\n",
    "    \n",
    "    #inverse to IU matrix\n",
    "    if item_similarity_en:\n",
    "        matrix_train = matrix_train.transpose()\n",
    "        \n",
    "    #for each user or item, depends UI or IU \n",
    "    for user_index in tqdm(range(matrix_train.shape[0])):\n",
    "        # Get user u's prediction scores for all items\n",
    "        #Get prediction/similarity score for each user 1*num or user or num of items\n",
    "        vector_u = similarity[user_index]\n",
    "\n",
    "        # Get closest K neighbors excluding user u self\n",
    "        #Decending accoding to similarity score, select top k\n",
    "        similar_users = vector_u.argsort()[::-1][1:k+1]\n",
    "        \n",
    "        # Get neighbors similarity weights and ratings\n",
    "        similar_users_weights = similarity[user_index][similar_users]\n",
    "        #print(similar_users_weights.shape)\n",
    "        #shape: num of res * k\n",
    "        similar_users_ratings = matrix_train[similar_users].toarray()\n",
    "        \n",
    "        \n",
    "        prediction_scores_u = similar_users_ratings * similar_users_weights[:, np.newaxis]\n",
    "        #print(prediction_scores_u)\n",
    "        \n",
    "        \"\"\"should divide by the sum of the weights if explicit\"\"\"\n",
    "        prediction_scores.append(np.sum(prediction_scores_u, axis=0))\n",
    "        \n",
    "    res = np.array(prediction_scores)\n",
    "    \n",
    "    if item_similarity_en:\n",
    "        res = res.transpose()\n",
    "    return res\n",
    "\n",
    "\n",
    "#Preidction score is UI or IU?\n",
    "def prediction(prediction_score, topK, matrix_Train):\n",
    "\n",
    "    prediction = []\n",
    "\n",
    "    #for each user\n",
    "    for user_index in tqdm(range(matrix_Train.shape[0])):\n",
    "        \n",
    "        #take the prediction scores for user 1 * num res\n",
    "        vector_u = prediction_score[user_index]\n",
    "        \n",
    "        #The restuarant the user rated\n",
    "        vector_train = matrix_Train[user_index]\n",
    "        \n",
    "        if len(vector_train.nonzero()[0]) > 0:\n",
    "            vector_predict = sub_routine(vector_u, vector_train, topK=topK)\n",
    "        else:\n",
    "            vector_predict = np.zeros(topK, dtype=np.float32)\n",
    "\n",
    "        prediction.append(vector_predict)\n",
    "\n",
    "    return np.vstack(prediction)\n",
    "\n",
    "#topK: the number of restuarants we are suggesting \n",
    "def sub_routine(vector_u, vector_train, topK=500):\n",
    "\n",
    "    #index where non-zero\n",
    "    train_index = vector_train.nonzero()[1]\n",
    "    \n",
    "    vector_u = vector_u\n",
    "    \n",
    "    #get topk + num rated res prediction score descending, top index \n",
    "    candidate_index = np.argpartition(-vector_u, topK+len(train_index))[:topK+len(train_index)]\n",
    "    \n",
    "    #sort top prediction score index in range topK+len(train_index) into vector_u`\n",
    "    vector_u = candidate_index[vector_u[candidate_index].argsort()[::-1]]\n",
    "    \n",
    "    #deleted the rated res from the topk+train_index prediction score vector for user u \n",
    "    #Delete the user rated res index from the topk+numRated index\n",
    "    vector_u = np.delete(vector_u, np.isin(vector_u, train_index).nonzero()[0])\n",
    "\n",
    "    #so we only include the top K prediction score here\n",
    "    return vector_u[:topK]\n"
   ]
  },
  {
   "cell_type": "code",
   "execution_count": 33,
   "metadata": {},
   "outputs": [
    {
     "data": {
      "text/plain": [
       "[3660]"
      ]
     },
     "execution_count": 33,
     "metadata": {},
     "output_type": "execute_result"
    }
   ],
   "source": [
    "([df['business_num_id'][0]]*1)"
   ]
  },
  {
   "cell_type": "markdown",
   "metadata": {},
   "source": [
    "### Evaluation "
   ]
  },
  {
   "cell_type": "code",
   "execution_count": 34,
   "metadata": {},
   "outputs": [],
   "source": [
    "def recallk(vector_true_dense, hits, **unused):\n",
    "    hits = len(hits.nonzero()[0])\n",
    "    return float(hits)/len(vector_true_dense)\n",
    "\n",
    "\n",
    "def precisionk(vector_predict, hits, **unused):\n",
    "    hits = len(hits.nonzero()[0])\n",
    "    return float(hits)/len(vector_predict)\n",
    "\n",
    "\n",
    "def average_precisionk(vector_predict, hits, **unused):\n",
    "    precisions = np.cumsum(hits, dtype=np.float32)/range(1, len(vector_predict)+1)\n",
    "    return np.mean(precisions)\n",
    "\n",
    "\n",
    "def r_precision(vector_true_dense, vector_predict, **unused):\n",
    "    vector_predict_short = vector_predict[:len(vector_true_dense)]\n",
    "    hits = len(np.isin(vector_predict_short, vector_true_dense).nonzero()[0])\n",
    "    return float(hits)/len(vector_true_dense)\n",
    "\n",
    "\n",
    "def _dcg_support(size):\n",
    "    arr = np.arange(1, size+1)+1\n",
    "    return 1./np.log2(arr)\n",
    "\n",
    "\n",
    "def ndcg(vector_true_dense, vector_predict, hits):\n",
    "    idcg = np.sum(_dcg_support(len(vector_true_dense)))\n",
    "    dcg_base = _dcg_support(len(vector_predict))\n",
    "    dcg_base[np.logical_not(hits)] = 0\n",
    "    dcg = np.sum(dcg_base)\n",
    "    return dcg/idcg\n",
    "\n",
    "\n",
    "def click(hits, **unused):\n",
    "    first_hit = next((i for i, x in enumerate(hits) if x), None)\n",
    "    if first_hit is None:\n",
    "        return 5\n",
    "    else:\n",
    "        return first_hit/10\n",
    "\n",
    "\n",
    "def evaluate(matrix_Predict, matrix_Test, metric_names =['R-Precision', 'NDCG', 'Precision', 'Recall', 'MAP'], atK = [5, 10, 15, 20, 50], analytical=False):\n",
    "    \"\"\"\n",
    "    :param matrix_U: Latent representations of users, for LRecs it is RQ, for ALSs it is U\n",
    "    :param matrix_V: Latent representations of items, for LRecs it is Q, for ALSs it is V\n",
    "    :param matrix_Train: Rating matrix for training, features.\n",
    "    :param matrix_Test: Rating matrix for evaluation, true labels.\n",
    "    :param k: Top K retrieval\n",
    "    :param metric_names: Evaluation metrics\n",
    "    :return:\n",
    "    \"\"\"\n",
    "    global_metrics = {\n",
    "        \"R-Precision\": r_precision,\n",
    "        \"NDCG\": ndcg,\n",
    "        \"Clicks\": click\n",
    "    }\n",
    "\n",
    "    local_metrics = {\n",
    "        \"Precision\": precisionk,\n",
    "        \"Recall\": recallk,\n",
    "        \"MAP\": average_precisionk\n",
    "    }\n",
    "\n",
    "    output = dict()\n",
    "\n",
    "    num_users = matrix_Predict.shape[0]\n",
    "\n",
    "    for k in atK:\n",
    "\n",
    "        local_metric_names = list(set(metric_names).intersection(local_metrics.keys()))\n",
    "        results = {name: [] for name in local_metric_names}\n",
    "        topK_Predict = matrix_Predict[:, :k]\n",
    "\n",
    "        for user_index in tqdm(range(topK_Predict.shape[0])):\n",
    "            vector_predict = topK_Predict[user_index]\n",
    "            if len(vector_predict.nonzero()[0]) > 0:\n",
    "                vector_true = matrix_Test[user_index]\n",
    "                vector_true_dense = vector_true.nonzero()[1]\n",
    "                hits = np.isin(vector_predict, vector_true_dense)\n",
    "\n",
    "                if vector_true_dense.size > 0:\n",
    "                    for name in local_metric_names:\n",
    "                        results[name].append(local_metrics[name](vector_true_dense=vector_true_dense,\n",
    "                                                                 vector_predict=vector_predict,\n",
    "                                                                 hits=hits))\n",
    "\n",
    "        results_summary = dict()\n",
    "        if analytical:\n",
    "            for name in local_metric_names:\n",
    "                results_summary['{0}@{1}'.format(name, k)] = results[name]\n",
    "        else:\n",
    "            for name in local_metric_names:\n",
    "                results_summary['{0}@{1}'.format(name, k)] = (np.average(results[name]),\n",
    "                                                              1.96*np.std(results[name])/np.sqrt(num_users))\n",
    "        output.update(results_summary)\n",
    "\n",
    "    global_metric_names = list(set(metric_names).intersection(global_metrics.keys()))\n",
    "    results = {name: [] for name in global_metric_names}\n",
    "\n",
    "    topK_Predict = matrix_Predict[:]\n",
    "\n",
    "    for user_index in tqdm(range(topK_Predict.shape[0])):\n",
    "        vector_predict = topK_Predict[user_index]\n",
    "\n",
    "        if len(vector_predict.nonzero()[0]) > 0:\n",
    "            vector_true = matrix_Test[user_index]\n",
    "            vector_true_dense = vector_true.nonzero()[1]\n",
    "            hits = np.isin(vector_predict, vector_true_dense)\n",
    "\n",
    "            # if user_index == 1:\n",
    "            #     import ipdb;\n",
    "            #     ipdb.set_trace()\n",
    "\n",
    "            if vector_true_dense.size > 0:\n",
    "                for name in global_metric_names:\n",
    "                    results[name].append(global_metrics[name](vector_true_dense=vector_true_dense,\n",
    "                                                              vector_predict=vector_predict,\n",
    "                                                              hits=hits))\n",
    "\n",
    "    results_summary = dict()\n",
    "    if analytical:\n",
    "        for name in global_metric_names:\n",
    "            results_summary[name] = results[name]\n",
    "    else:\n",
    "        for name in global_metric_names:\n",
    "            results_summary[name] = (np.average(results[name]), 1.96*np.std(results[name])/np.sqrt(num_users))\n",
    "    output.update(results_summary)\n",
    "\n",
    "    return output\n"
   ]
  },
  {
   "cell_type": "code",
   "execution_count": 35,
   "metadata": {},
   "outputs": [],
   "source": [
    "## Utility functions\n",
    "#3906 restuarant, 3000 keyphrase, 5791 user \n",
    "def add_two_matrix(ratio, U_I_matrix,I_K_matrix, shape = (3906, 3000+5791)):\n",
    "    # ratio determine Keywords/User in the matrix\n",
    "    rows = []\n",
    "    cols = []\n",
    "    datas = []\n",
    "    I_U_matrix = U_I_matrix.transpose()\n",
    "    \n",
    "    #for each restuarant\n",
    "    for i in tqdm(range(I_K_matrix.shape[0])):\n",
    "        #key phrase that this item has, column(key phrase) index\n",
    "        nonzero1 = I_K_matrix[i].nonzero()\n",
    "        \n",
    "        #user that rated this item, column(user) index \n",
    "        nonzero2 = I_U_matrix[i].nonzero()\n",
    "        \n",
    "        #Trying to create a sparse matrix that stores \n",
    "        #index of restuarant for (K + U) times\n",
    "        row = [i]*(len(nonzero1[1])+len(nonzero2[1]))\n",
    "        \n",
    "        #column index for key phrase and users that are non-zero\n",
    "        col = nonzero1[1].tolist()+ nonzero2[1].tolist()\n",
    "        \n",
    "        \n",
    "        data = [ratio]*len(nonzero1[1])+[1-ratio]*len(nonzero2[1]) # Binary representation of I-K/U matrix\n",
    "        \n",
    "        rows.extend(row)\n",
    "        cols.extend(col)\n",
    "        datas.extend(data)\n",
    "    return csr_matrix( (datas,(rows,cols)), shape=shape )\n",
    "\n",
    "def transfer_to_implicit(rating_matrix, threshold = 0):\n",
    "    temp_rating_matrix = sparse.csr_matrix(rating_matrix.shape)\n",
    "    temp_rating_matrix[(rating_matrix > threshold).nonzero()] = 1\n",
    "    rating_matrix = temp_rating_matrix\n",
    "    return rating_matrix"
   ]
  },
  {
   "cell_type": "markdown",
   "metadata": {},
   "source": [
    "## user_item KNN"
   ]
  },
  {
   "cell_type": "code",
   "execution_count": 36,
   "metadata": {
    "scrolled": true
   },
   "outputs": [
    {
     "name": "stderr",
     "output_type": "stream",
     "text": [
      "100%|████████████████████████████████████████████████████████████████████████████| 5791/5791 [00:01<00:00, 3694.86it/s]\n",
      "100%|████████████████████████████████████████████████████████████████████████████| 5791/5791 [00:01<00:00, 5327.00it/s]\n"
     ]
    }
   ],
   "source": [
    "#UU similarity\n",
    "similarity = train(rtrain)\n",
    "#get a user-item matrix  UI prediction\n",
    "#Predict using UI matrix with ratings in it \n",
    "user_item_prediction_score = predict(rtrain, 10, similarity, item_similarity_en= False)\n",
    "user_item_predict = prediction(user_item_prediction_score, 50, rtrain)"
   ]
  },
  {
   "cell_type": "code",
   "execution_count": 37,
   "metadata": {},
   "outputs": [
    {
     "data": {
      "text/plain": [
       "(5791, 3906)"
      ]
     },
     "execution_count": 37,
     "metadata": {},
     "output_type": "execute_result"
    }
   ],
   "source": [
    "#Check user item prediction score\n",
    "user_item_prediction_score.shape"
   ]
  },
  {
   "cell_type": "code",
   "execution_count": 38,
   "metadata": {},
   "outputs": [
    {
     "name": "stderr",
     "output_type": "stream",
     "text": [
      "100%|████████████████████████████████████████████████████████████████████████████| 5791/5791 [00:00<00:00, 7752.07it/s]\n",
      "100%|████████████████████████████████████████████████████████████████████████████| 5791/5791 [00:00<00:00, 7710.94it/s]\n",
      "100%|████████████████████████████████████████████████████████████████████████████| 5791/5791 [00:00<00:00, 7690.52it/s]\n",
      "100%|████████████████████████████████████████████████████████████████████████████| 5791/5791 [00:00<00:00, 7488.08it/s]\n",
      "100%|████████████████████████████████████████████████████████████████████████████| 5791/5791 [00:00<00:00, 7428.95it/s]\n",
      "100%|████████████████████████████████████████████████████████████████████████████| 5791/5791 [00:00<00:00, 7530.86it/s]\n"
     ]
    }
   ],
   "source": [
    "user_item_res = evaluate(user_item_predict, rvalid)"
   ]
  },
  {
   "cell_type": "code",
   "execution_count": 39,
   "metadata": {
    "scrolled": true
   },
   "outputs": [
    {
     "data": {
      "text/plain": [
       "{'Precision@5': (0.008521207489491785, 0.001083345161010646),\n",
       " 'MAP@5': (0.009604508979747803, 0.0014980399129590725),\n",
       " 'Recall@5': (0.027657621854221014, 0.0038284227312722972),\n",
       " 'Precision@10': (0.007336645013374094, 0.0007207138421056788),\n",
       " 'MAP@10': (0.008640277853594629, 0.0010828056779517141),\n",
       " 'Recall@10': (0.04666506830960404, 0.00490789032159672),\n",
       " 'Precision@15': (0.006317666539294358, 0.0005550900831680399),\n",
       " 'MAP@15': (0.007981665407152607, 0.0008838342244627093),\n",
       " 'Recall@15': (0.05916937263899434, 0.00547178567846764),\n",
       " 'Precision@20': (0.00550248376003057, 0.0004484214352208597),\n",
       " 'MAP@20': (0.007436901396458298, 0.0007604941845718976),\n",
       " 'Recall@20': (0.06834653585704407, 0.005874313750771494),\n",
       " 'Precision@50': (0.0028467711119602598, 0.0002022636456795373),\n",
       " 'MAP@50': (0.005292439152889286, 0.0004483106388828079),\n",
       " 'Recall@50': (0.08762987161439588, 0.006543335984180451),\n",
       " 'R-Precision': (0.010262858400038375, 0.002159512356554834),\n",
       " 'NDCG': (0.0364597104610826, 0.0030753973193813357)}"
      ]
     },
     "execution_count": 39,
     "metadata": {},
     "output_type": "execute_result"
    }
   ],
   "source": [
    "user_item_res"
   ]
  },
  {
   "cell_type": "markdown",
   "metadata": {},
   "source": [
    "## item_based KNN using TF-IDF"
   ]
  },
  {
   "cell_type": "code",
   "execution_count": 75,
   "metadata": {},
   "outputs": [],
   "source": [
    "IK_MATRIX = X_cleaned_sparse"
   ]
  },
  {
   "cell_type": "code",
   "execution_count": 74,
   "metadata": {},
   "outputs": [
    {
     "name": "stderr",
     "output_type": "stream",
     "text": [
      "100%|████████████████████████████████████████████████████████████████████████████| 3906/3906 [00:03<00:00, 1195.51it/s]\n",
      "100%|████████████████████████████████████████████████████████████████████████████| 5791/5791 [00:01<00:00, 4452.89it/s]\n"
     ]
    }
   ],
   "source": [
    "I_I_similarity = train(IK_MATRIX)\n",
    "item_based_prediction_score = predict(rtrain, 10, I_I_similarity, item_similarity_en= True)\n",
    "#for each restuarant top50 users \n",
    "item_based_predict = prediction(item_based_prediction_score, 50, rtrain)"
   ]
  },
  {
   "cell_type": "code",
   "execution_count": 71,
   "metadata": {
    "scrolled": true
   },
   "outputs": [
    {
     "name": "stderr",
     "output_type": "stream",
     "text": [
      "100%|████████████████████████████████████████████████████████████████████████████| 5791/5791 [00:00<00:00, 7670.19it/s]\n",
      "100%|████████████████████████████████████████████████████████████████████████████| 5791/5791 [00:00<00:00, 7463.44it/s]\n",
      "100%|████████████████████████████████████████████████████████████████████████████| 5791/5791 [00:00<00:00, 7540.72it/s]\n",
      "100%|████████████████████████████████████████████████████████████████████████████| 5791/5791 [00:00<00:00, 7482.39it/s]\n",
      "100%|████████████████████████████████████████████████████████████████████████████| 5791/5791 [00:00<00:00, 7368.77it/s]\n",
      "100%|████████████████████████████████████████████████████████████████████████████| 5791/5791 [00:00<00:00, 7312.79it/s]\n"
     ]
    }
   ],
   "source": [
    "item_based_res_TFIDF = evaluate(item_based_predict, rvalid)"
   ]
  },
  {
   "cell_type": "code",
   "execution_count": 73,
   "metadata": {},
   "outputs": [
    {
     "data": {
      "text/plain": [
       "{'Precision@5': (0.005196790217806649, 0.0008617099481287719),\n",
       " 'MAP@5': (0.006092854413450516, 0.0012065821524976797),\n",
       " 'Recall@5': (0.013982822520747624, 0.0026087530571683427),\n",
       " 'Precision@10': (0.004088651127244936, 0.0005460438377275104),\n",
       " 'MAP@10': (0.005296656173614523, 0.0008686098122583183),\n",
       " 'Recall@10': (0.02137126422806591, 0.0031659836297877175),\n",
       " 'Precision@15': (0.0033116800407591387, 0.00039791432969878886),\n",
       " 'MAP@15': (0.004731502240099872, 0.0007020225320323408),\n",
       " 'Recall@15': (0.026695426755132524, 0.0035515715171223422),\n",
       " 'Precision@20': (0.0028467711119602598, 0.0003219054913786238),\n",
       " 'MAP@20': (0.004307008630787735, 0.0005986059835155256),\n",
       " 'Recall@20': (0.030501408539238113, 0.00379772817508023),\n",
       " 'Precision@50': (0.0020328620557890716, 0.00018068011648347503),\n",
       " 'MAP@50': (0.0031535092848903887, 0.00035182771127505825),\n",
       " 'Recall@50': (0.0509775066567195, 0.004766205477582822),\n",
       " 'R-Precision': (0.006640201761046239, 0.0016763599138188996),\n",
       " 'NDCG': (0.020998827765126092, 0.0022651692812838834)}"
      ]
     },
     "execution_count": 73,
     "metadata": {},
     "output_type": "execute_result"
    }
   ],
   "source": [
    "item_based_res_TFIDF"
   ]
  },
  {
   "cell_type": "markdown",
   "metadata": {},
   "source": [
    "## item_based KNN"
   ]
  },
  {
   "cell_type": "code",
   "execution_count": 40,
   "metadata": {},
   "outputs": [
    {
     "data": {
      "text/plain": [
       "<21304x5000 sparse matrix of type '<class 'numpy.int64'>'\n",
       "\twith 962735 stored elements in Compressed Sparse Row format>"
      ]
     },
     "execution_count": 40,
     "metadata": {},
     "output_type": "execute_result"
    }
   ],
   "source": [
    "X"
   ]
  },
  {
   "cell_type": "code",
   "execution_count": 62,
   "metadata": {},
   "outputs": [
    {
     "name": "stderr",
     "output_type": "stream",
     "text": [
      "100%|██████████████████████████████████████████████████████████████████████████| 21304/21304 [00:02<00:00, 9085.93it/s]\n",
      "100%|████████████████████████████████████████████████████████████████████████████| 3906/3906 [00:03<00:00, 1191.86it/s]\n",
      "100%|████████████████████████████████████████████████████████████████████████████| 5791/5791 [00:01<00:00, 4422.25it/s]\n"
     ]
    }
   ],
   "source": [
    "#3987 items? 5000 key phrase\n",
    "I_K_matrix = get_I_K(df_train, X, shape = (rating_matrix.shape[1], 5000))\n",
    "I_I_similarity = train(I_K_matrix)\n",
    "item_based_prediction_score = predict(rtrain, 10, I_I_similarity, item_similarity_en= True)\n",
    "#for each restuarant top50 users \n",
    "item_based_predict = prediction(item_based_prediction_score, 50, rtrain)"
   ]
  },
  {
   "cell_type": "code",
   "execution_count": 64,
   "metadata": {},
   "outputs": [
    {
     "data": {
      "text/plain": [
       "(3906, 5000)"
      ]
     },
     "execution_count": 64,
     "metadata": {},
     "output_type": "execute_result"
    }
   ],
   "source": [
    "I_K_matrix.shape"
   ]
  },
  {
   "cell_type": "code",
   "execution_count": 65,
   "metadata": {
    "scrolled": true
   },
   "outputs": [
    {
     "name": "stderr",
     "output_type": "stream",
     "text": [
      "100%|████████████████████████████████████████████████████████████████████████████| 5791/5791 [00:00<00:00, 7690.55it/s]\n",
      "100%|████████████████████████████████████████████████████████████████████████████| 5791/5791 [00:00<00:00, 7589.95it/s]\n",
      "100%|████████████████████████████████████████████████████████████████████████████| 5791/5791 [00:00<00:00, 7590.02it/s]\n",
      "100%|████████████████████████████████████████████████████████████████████████████| 5791/5791 [00:00<00:00, 7600.18it/s]\n",
      "100%|████████████████████████████████████████████████████████████████████████████| 5791/5791 [00:00<00:00, 7521.46it/s]\n",
      "100%|████████████████████████████████████████████████████████████████████████████| 5791/5791 [00:00<00:00, 7349.86it/s]\n"
     ]
    }
   ],
   "source": [
    "item_based_res = evaluate(item_based_predict, rvalid)"
   ]
  },
  {
   "cell_type": "code",
   "execution_count": 66,
   "metadata": {},
   "outputs": [
    {
     "data": {
      "text/plain": [
       "{'Precision@5': (0.004661826518914789, 0.0008154305536628502),\n",
       " 'MAP@5': (0.006100496752006114, 0.0012543375211610756),\n",
       " 'Recall@5': (0.012692147469564359, 0.002491705609306215),\n",
       " 'Precision@10': (0.003802063431410011, 0.0005201087060859525),\n",
       " 'MAP@10': (0.005101192750695999, 0.0008773434438779437),\n",
       " 'Recall@10': (0.01964220925340528, 0.0030311374548420427),\n",
       " 'Precision@15': (0.0032607311170551527, 0.000401012671738522),\n",
       " 'MAP@15': (0.004551910005673858, 0.0007033252979959634),\n",
       " 'Recall@15': (0.0241127705352008, 0.0033041115431208384),\n",
       " 'Precision@20': (0.0029709591134887275, 0.0003351607803518368),\n",
       " 'MAP@20': (0.00418789110910929, 0.0005987757870873808),\n",
       " 'Recall@20': (0.02839681070002048, 0.0035343793608007884),\n",
       " 'Precision@50': (0.0020596102407336647, 0.0001872347597298744),\n",
       " 'MAP@50': (0.0031185600823783475, 0.00035244376851816087),\n",
       " 'Recall@50': (0.04754841123297371, 0.004547225557607917),\n",
       " 'R-Precision': (0.005801470957183605, 0.0014985094919413374),\n",
       " 'NDCG': (0.02006206411854443, 0.0021921201263554275)}"
      ]
     },
     "execution_count": 66,
     "metadata": {},
     "output_type": "execute_result"
    }
   ],
   "source": [
    "item_based_res"
   ]
  },
  {
   "cell_type": "markdown",
   "metadata": {},
   "source": [
    "## User_based KNN"
   ]
  },
  {
   "cell_type": "code",
   "execution_count": 45,
   "metadata": {
    "scrolled": true
   },
   "outputs": [
    {
     "name": "stderr",
     "output_type": "stream",
     "text": [
      "100%|██████████████████████████████████████████████████████████████████████████| 21304/21304 [00:02<00:00, 9120.85it/s]\n",
      "100%|████████████████████████████████████████████████████████████████████████████| 5791/5791 [00:03<00:00, 1835.78it/s]\n",
      "100%|████████████████████████████████████████████████████████████████████████████| 5791/5791 [00:01<00:00, 5165.85it/s]\n"
     ]
    }
   ],
   "source": [
    "U_K_matrix = get_I_K(df_train, X, row_name = 'user_num_id', shape = (rating_matrix.shape[0],5000))\n",
    "U_U_similarity = train(U_K_matrix)\n",
    "#return UI matrix\n",
    "user_based_prediction_score = predict(rtrain, 10, U_U_similarity, item_similarity_en= False)\n",
    "user_based_predict = prediction(user_based_prediction_score, 50, rtrain)"
   ]
  },
  {
   "cell_type": "code",
   "execution_count": 46,
   "metadata": {},
   "outputs": [
    {
     "data": {
      "text/plain": [
       "(5791, 5000)"
      ]
     },
     "execution_count": 46,
     "metadata": {},
     "output_type": "execute_result"
    }
   ],
   "source": [
    "U_K_matrix.shape"
   ]
  },
  {
   "cell_type": "code",
   "execution_count": 47,
   "metadata": {},
   "outputs": [
    {
     "name": "stderr",
     "output_type": "stream",
     "text": [
      "100%|████████████████████████████████████████████████████████████████████████████| 5791/5791 [00:00<00:00, 7670.71it/s]\n",
      "100%|████████████████████████████████████████████████████████████████████████████| 5791/5791 [00:00<00:00, 7609.88it/s]\n",
      "100%|████████████████████████████████████████████████████████████████████████████| 5791/5791 [00:00<00:00, 7550.51it/s]\n",
      "100%|████████████████████████████████████████████████████████████████████████████| 5791/5791 [00:00<00:00, 7580.08it/s]\n",
      "100%|████████████████████████████████████████████████████████████████████████████| 5791/5791 [00:00<00:00, 7472.80it/s]\n",
      "100%|████████████████████████████████████████████████████████████████████████████| 5791/5791 [00:00<00:00, 7359.13it/s]\n"
     ]
    }
   ],
   "source": [
    "user_based_res = evaluate(user_based_predict, rvalid)"
   ]
  },
  {
   "cell_type": "code",
   "execution_count": 44,
   "metadata": {},
   "outputs": [
    {
     "data": {
      "text/plain": [
       "{'MAP@5': (0.0025735575085976308, 0.0007676156126468466),\n",
       " 'Precision@5': (0.0024073366450133742, 0.0005795062496393374),\n",
       " 'Recall@5': (0.0066284467029595045, 0.0018404749909681256),\n",
       " 'MAP@10': (0.002507725737091423, 0.000559410552105227),\n",
       " 'Precision@10': (0.002426442491402369, 0.0004088981513066637),\n",
       " 'Recall@10': (0.012451814945127898, 0.0024279126495880673),\n",
       " 'MAP@15': (0.0024161872107993625, 0.00046230520394713445),\n",
       " 'Precision@15': (0.0021525920264934403, 0.00031802087357710076),\n",
       " 'Recall@15': (0.01635767853765561, 0.0027477111797367055),\n",
       " 'MAP@20': (0.0023298605384057315, 0.0004018414719961806),\n",
       " 'Precision@20': (0.0019296904852884986, 0.00026052312171035455),\n",
       " 'Recall@20': (0.01908269467975238, 0.0029418874130037625),\n",
       " 'MAP@50': (0.0019804868107647835, 0.0002494590150419936),\n",
       " 'Precision@50': (0.0015819640810087888, 0.00015258737043166547),\n",
       " 'Recall@50': (0.039183685481927744, 0.004186060385583187),\n",
       " 'R-Precision': (0.0027842566722964123, 0.001053550976552734),\n",
       " 'NDCG': (0.013806024125739749, 0.0016632935739357634)}"
      ]
     },
     "execution_count": 44,
     "metadata": {},
     "output_type": "execute_result"
    }
   ],
   "source": [
    "user_based_res"
   ]
  },
  {
   "cell_type": "markdown",
   "metadata": {},
   "source": [
    "## Combined KNN "
   ]
  },
  {
   "cell_type": "markdown",
   "metadata": {},
   "source": [
    "### lambda = .001"
   ]
  },
  {
   "cell_type": "code",
   "execution_count": null,
   "metadata": {},
   "outputs": [],
   "source": [
    "## Change to implicit first\n",
    "I_K_matrix_implicit = transfer_to_implicit(I_K_matrix)"
   ]
  },
  {
   "cell_type": "code",
   "execution_count": null,
   "metadata": {},
   "outputs": [],
   "source": [
    "I_K_U_matrix = add_two_matrix(0.001, rtrain_implicit, I_K_matrix_implicit, shape = (3987, 5000+6049))\n",
    "I_I_matrix_combined = train(I_K_U_matrix)\n",
    "combined_prediction_score = predict(rtrain_implicit, 10, I_I_matrix_combined, item_similarity_en= True)\n",
    "combined_predict = prediction(combined_prediction_score, 50, rtrain_implicit)"
   ]
  },
  {
   "cell_type": "code",
   "execution_count": null,
   "metadata": {},
   "outputs": [],
   "source": [
    "combined_res = evaluate(combined_predict, rvalid_implicit)"
   ]
  },
  {
   "cell_type": "code",
   "execution_count": null,
   "metadata": {},
   "outputs": [],
   "source": [
    "combined_res"
   ]
  },
  {
   "cell_type": "markdown",
   "metadata": {},
   "source": [
    "## lambda = 0.5"
   ]
  },
  {
   "cell_type": "code",
   "execution_count": null,
   "metadata": {},
   "outputs": [],
   "source": [
    "I_K_U_matrix = add_two_matrix(0.5, rtrain_implicit, I_K_matrix_implicit, shape = (3987, 5000+6049))\n",
    "I_I_matrix_combined = train(I_K_U_matrix)\n",
    "combined_prediction_score = predict(rtrain_implicit, 10, I_I_matrix_combined, item_similarity_en= True)\n",
    "combined_predict = prediction(combined_prediction_score, 50, rtrain_implicit)"
   ]
  },
  {
   "cell_type": "code",
   "execution_count": null,
   "metadata": {},
   "outputs": [],
   "source": [
    "combined_res = evaluate(combined_predict, rvalid_implicit)"
   ]
  },
  {
   "cell_type": "code",
   "execution_count": null,
   "metadata": {
    "scrolled": true
   },
   "outputs": [],
   "source": [
    "combined_res"
   ]
  },
  {
   "cell_type": "markdown",
   "metadata": {},
   "source": [
    "## lambda = .99"
   ]
  },
  {
   "cell_type": "code",
   "execution_count": null,
   "metadata": {},
   "outputs": [],
   "source": [
    "I_K_U_matrix = add_two_matrix(0.99, rtrain_implicit, I_K_matrix_implicit, shape = (3987, 5000+6049))\n",
    "I_I_matrix_combined = train(I_K_U_matrix)\n",
    "combined_prediction_score = predict(rtrain_implicit, 10, I_I_matrix_combined, item_similarity_en= True)\n",
    "combined_predict = prediction(combined_prediction_score, 50, rtrain_implicit)"
   ]
  },
  {
   "cell_type": "code",
   "execution_count": null,
   "metadata": {},
   "outputs": [],
   "source": [
    "combined_res = evaluate(combined_predict, rvalid_implicit)"
   ]
  },
  {
   "cell_type": "code",
   "execution_count": null,
   "metadata": {
    "scrolled": true
   },
   "outputs": [],
   "source": [
    "combined_res"
   ]
  },
  {
   "cell_type": "markdown",
   "metadata": {},
   "source": [
    "## lambda = .3"
   ]
  },
  {
   "cell_type": "code",
   "execution_count": null,
   "metadata": {},
   "outputs": [],
   "source": [
    "I_K_U_matrix = add_two_matrix(0.3, rtrain_implicit, I_K_matrix_implicit, shape = (3987, 5000+6049))\n",
    "I_I_matrix_combined = train(I_K_U_matrix)\n",
    "combined_prediction_score = predict(rtrain_implicit, 10, I_I_matrix_combined, item_similarity_en= True)\n",
    "combined_predict = prediction(combined_prediction_score, 50, rtrain_implicit)\n",
    "combined_res = evaluate(combined_predict, rvalid_implicit)"
   ]
  },
  {
   "cell_type": "code",
   "execution_count": null,
   "metadata": {},
   "outputs": [],
   "source": [
    "combined_res"
   ]
  },
  {
   "cell_type": "code",
   "execution_count": null,
   "metadata": {},
   "outputs": [],
   "source": []
  },
  {
   "cell_type": "code",
   "execution_count": 57,
   "metadata": {},
   "outputs": [],
   "source": [
    "x = np.array([10, 20, 4, 3, 7, 8, 11])"
   ]
  },
  {
   "cell_type": "code",
   "execution_count": 58,
   "metadata": {},
   "outputs": [
    {
     "data": {
      "text/plain": [
       "array([3, 1, 2, 0, 4, 5, 6], dtype=int64)"
      ]
     },
     "execution_count": 58,
     "metadata": {},
     "output_type": "execute_result"
    }
   ],
   "source": [
    "np.argpartition(x, 0)"
   ]
  },
  {
   "cell_type": "code",
   "execution_count": 61,
   "metadata": {},
   "outputs": [
    {
     "data": {
      "text/plain": [
       "array([ 7,  3,  4,  8, 10, 20, 11])"
      ]
     },
     "execution_count": 61,
     "metadata": {},
     "output_type": "execute_result"
    }
   ],
   "source": [
    "x[np.argpartition(x, 4)]"
   ]
  },
  {
   "cell_type": "code",
   "execution_count": null,
   "metadata": {},
   "outputs": [],
   "source": []
  }
 ],
 "metadata": {
  "kernelspec": {
   "display_name": "Python 3",
   "language": "python",
   "name": "python3"
  },
  "language_info": {
   "codemirror_mode": {
    "name": "ipython",
    "version": 3
   },
   "file_extension": ".py",
   "mimetype": "text/x-python",
   "name": "python",
   "nbconvert_exporter": "python",
   "pygments_lexer": "ipython3",
   "version": "3.7.3"
  }
 },
 "nbformat": 4,
 "nbformat_minor": 2
}
