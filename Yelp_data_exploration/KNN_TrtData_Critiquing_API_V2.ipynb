{
 "cells": [
  {
   "cell_type": "markdown",
   "metadata": {},
   "source": [
    "### This version adds the part for user initial  set up "
   ]
  },
  {
   "cell_type": "code",
   "execution_count": 1,
   "metadata": {},
   "outputs": [
    {
     "name": "stdout",
     "output_type": "stream",
     "text": [
      "Requirement already satisfied: geopy in /anaconda3/lib/python3.7/site-packages (1.21.0)\n",
      "Requirement already satisfied: geographiclib<2,>=1.49 in /anaconda3/lib/python3.7/site-packages (from geopy) (1.50)\n",
      "Note: you may need to restart the kernel to use updated packages.\n"
     ]
    }
   ],
   "source": [
    "#pip install geopy"
   ]
  },
  {
   "cell_type": "code",
   "execution_count": 2,
   "metadata": {},
   "outputs": [
    {
     "name": "stdout",
     "output_type": "stream",
     "text": [
      "Collecting flask-restful\n",
      "  Downloading https://files.pythonhosted.org/packages/e9/83/d0d33c971de2d38e54b0037136c8b8d20b9c83d308bc6c220a25162755fd/Flask_RESTful-0.3.8-py2.py3-none-any.whl\n",
      "Requirement already satisfied: pytz in /anaconda3/lib/python3.7/site-packages (from flask-restful) (2018.9)\n",
      "Collecting aniso8601>=0.82 (from flask-restful)\n",
      "\u001b[?25l  Downloading https://files.pythonhosted.org/packages/eb/e4/787e104b58eadc1a710738d4e418d7e599e4e778e52cb8e5d5ef6ddd5833/aniso8601-8.0.0-py2.py3-none-any.whl (43kB)\n",
      "\u001b[K    100% |████████████████████████████████| 51kB 2.0MB/s ta 0:00:011\n",
      "\u001b[?25hRequirement already satisfied: six>=1.3.0 in /anaconda3/lib/python3.7/site-packages (from flask-restful) (1.12.0)\n",
      "Requirement already satisfied: Flask>=0.8 in /anaconda3/lib/python3.7/site-packages (from flask-restful) (1.1.1)\n",
      "Requirement already satisfied: click>=5.1 in /anaconda3/lib/python3.7/site-packages (from Flask>=0.8->flask-restful) (7.0)\n",
      "Requirement already satisfied: Werkzeug>=0.15 in /anaconda3/lib/python3.7/site-packages (from Flask>=0.8->flask-restful) (0.16.1)\n",
      "Requirement already satisfied: Jinja2>=2.10.1 in /anaconda3/lib/python3.7/site-packages (from Flask>=0.8->flask-restful) (2.11.0)\n",
      "Requirement already satisfied: itsdangerous>=0.24 in /anaconda3/lib/python3.7/site-packages (from Flask>=0.8->flask-restful) (1.1.0)\n",
      "Requirement already satisfied: MarkupSafe>=0.23 in /anaconda3/lib/python3.7/site-packages (from Jinja2>=2.10.1->Flask>=0.8->flask-restful) (1.1.1)\n",
      "Installing collected packages: aniso8601, flask-restful\n",
      "Successfully installed aniso8601-8.0.0 flask-restful-0.3.8\n",
      "Note: you may need to restart the kernel to use updated packages.\n"
     ]
    }
   ],
   "source": [
    "#pip install flask-restful"
   ]
  },
  {
   "cell_type": "code",
   "execution_count": 3,
   "metadata": {},
   "outputs": [
    {
     "name": "stdout",
     "output_type": "stream",
     "text": [
      "Collecting pyOpenSSL\n",
      "\u001b[?25l  Downloading https://files.pythonhosted.org/packages/9e/de/f8342b68fa9e981d348039954657bdf681b2ab93de27443be51865ffa310/pyOpenSSL-19.1.0-py2.py3-none-any.whl (53kB)\n",
      "\u001b[K    100% |████████████████████████████████| 61kB 1.3MB/s ta 0:00:01\n",
      "\u001b[?25hCollecting cryptography>=2.8 (from pyOpenSSL)\n",
      "\u001b[?25l  Downloading https://files.pythonhosted.org/packages/6b/4a/ce93178469d4460d6b3a5e648fc1a2f426030f3d30a12d7ed4df73d044de/cryptography-2.8-cp34-abi3-macosx_10_6_intel.whl (1.6MB)\n",
      "\u001b[K    100% |████████████████████████████████| 1.6MB 3.6MB/s ta 0:00:011\n",
      "\u001b[?25hRequirement already satisfied, skipping upgrade: six>=1.5.2 in /anaconda3/lib/python3.7/site-packages (from pyOpenSSL) (1.12.0)\n",
      "Requirement already satisfied, skipping upgrade: cffi!=1.11.3,>=1.8 in /anaconda3/lib/python3.7/site-packages (from cryptography>=2.8->pyOpenSSL) (1.12.2)\n",
      "Requirement already satisfied, skipping upgrade: pycparser in /anaconda3/lib/python3.7/site-packages (from cffi!=1.11.3,>=1.8->cryptography>=2.8->pyOpenSSL) (2.19)\n",
      "Installing collected packages: cryptography, pyOpenSSL\n",
      "  Found existing installation: cryptography 2.6.1\n",
      "    Uninstalling cryptography-2.6.1:\n",
      "      Successfully uninstalled cryptography-2.6.1\n",
      "  Found existing installation: pyOpenSSL 19.0.0\n",
      "    Uninstalling pyOpenSSL-19.0.0:\n",
      "      Successfully uninstalled pyOpenSSL-19.0.0\n",
      "Successfully installed cryptography-2.8 pyOpenSSL-19.1.0\n"
     ]
    }
   ],
   "source": [
    "#For SSL certificate\n",
    "#!pip install -U pyOpenSSL"
   ]
  },
  {
   "cell_type": "code",
   "execution_count": 9,
   "metadata": {},
   "outputs": [],
   "source": [
    "from ast import literal_eval\n",
    "from os import listdir\n",
    "from os.path import isfile, join\n",
    "from scipy.sparse import csr_matrix, load_npz, save_npz\n",
    "from tqdm import tqdm\n",
    "#from scipy import integrate\n",
    "import statistics as stats\n",
    "#import seaborn as sns\n",
    "import datetime\n",
    "import json\n",
    "import numpy as np\n",
    "import pandas as pd\n",
    "import time\n",
    "import yaml\n",
    "import scipy.sparse as sparse\n",
    "import sys\n",
    "from geopy.geocoders import Nominatim\n",
    "from geopy import distance\n",
    "from geopy import Point\n",
    "import statistics \n",
    "from sklearn.metrics.pairwise import cosine_similarity"
   ]
  },
  {
   "cell_type": "code",
   "execution_count": 10,
   "metadata": {},
   "outputs": [
    {
     "data": {
      "text/plain": [
       "{'Cell': {'cm_config': {'lineNumbers': True}},\n",
       " 'load_extensions': {'nbextensions_configurator/config_menu/main': True,\n",
       "  'contrib_nbextensions_help_item/main': True,\n",
       "  'hinterland/main': True,\n",
       "  'hinterland': True,\n",
       "  'codefolding/main': True,\n",
       "  'highlight_selected_word/main': True,\n",
       "  'code_prettify/code_prettify': True},\n",
       " 'highlight_selected_word': {'delay': 500, 'highlight_across_all_cells': True}}"
      ]
     },
     "execution_count": 10,
     "metadata": {},
     "output_type": "execute_result"
    }
   ],
   "source": [
    "#Resource allows more segreggated \n",
    "from flask import Flask, request\n",
    "from flask_restful import Resource, Api\n",
    "from sqlalchemy import create_engine\n",
    "from json import dumps\n",
    "from flask import jsonify\n",
    "import json\n",
    "import requests\n",
    "from notebook.services.config import ConfigManager\n",
    "cm = ConfigManager()\n",
    "cm.update('notebook', {'highlight_selected_word': {\n",
    "    'delay': 500,\n",
    "    'highlight_across_all_cells': True,\n",
    "}})"
   ]
  },
  {
   "cell_type": "markdown",
   "metadata": {},
   "source": [
    "## Dataset files "
   ]
  },
  {
   "cell_type": "code",
   "execution_count": 11,
   "metadata": {},
   "outputs": [],
   "source": [
    "### import explanation data and store it in the df_explanation file\n",
    "TorontoExplanation = \"../data/Toronto_explanation.json\"\n",
    "with open(TorontoExplanation,'r') as f:\n",
    "    data = f.readlines()\n",
    "    data = list(map(json.loads, data))\n",
    "data = data[0]\n",
    "#Get all the data from the dggeata file\n",
    "df_explanation = pd.DataFrame(data)"
   ]
  },
  {
   "cell_type": "markdown",
   "metadata": {},
   "source": [
    "### Popularity Calculation"
   ]
  },
  {
   "cell_type": "code",
   "execution_count": 12,
   "metadata": {},
   "outputs": [],
   "source": [
    "def get_three_popularity_matrix(df_original,rtrain):\n",
    "    # get the list of popular items by ranking the number of reviews\n",
    "    numUsers = rtrain.shape[0]\n",
    "    numItems = rtrain.shape[1]\n",
    "    \n",
    "    dff_popular = df_original.copy()\n",
    "    dff_popular = dff_popular.sort_values(by=[\"review_count_y\"], ascending=False).drop_duplicates(subset = 'business_id', keep = 'first')\n",
    "    popular_list_num_of_reviews = dff_popular[\"business_num_id\"].tolist()\n",
    "    \n",
    "    # get the list of popular items by ranking average rating score\n",
    "    dff_popular_rating = df_original.copy()\n",
    "    dff_popular_rating = dff_popular_rating.sort_values(by=[\"business_stars\"], ascending=False).drop_duplicates(subset = 'business_id', keep = 'first')\n",
    "    popular_list_avg_stars = dff_popular_rating[\"business_num_id\"].tolist()\n",
    "    \n",
    "    lst_temp = []\n",
    "    for item in tqdm(range(numItems)):\n",
    "        numOfUsersRated = len(rtrain.toarray()[:, item].nonzero()[0])\n",
    "        if numOfUsersRated <= 50:\n",
    "            lst_temp.append(item)\n",
    "    popular_list_avg_stars = [x for x in popular_list_avg_stars if x not in lst_temp]\n",
    "    \n",
    "    # get the popularity items by using the percentage liked method(number of liked items / total items)\n",
    "    predictionMatrix = np.zeros((numUsers , numItems))\n",
    "\n",
    "    # Define function for converting 1-5 rating to 0/1 (like / don't like)\n",
    "    vf = np.vectorize(lambda x: 1 if x >= 4 else 0)\n",
    "    rtrain_array = rtrain.toarray()\n",
    "    # For every item calculate the number of people liked (4-5) divided by the number of people that rated\n",
    "    itemPopularity = np.zeros((numItems))\n",
    "    for item in range(numItems):\n",
    "        numOfUsersRated = len(rtrain_array[:, item].nonzero()[0])\n",
    "        numOfUsersLiked = len(vf(rtrain_array[:, item]).nonzero()[0])\n",
    "#         if numOfUsersRated == 0:\n",
    "        # set a threshold to filter out restaurants with very few reviews\n",
    "        if numOfUsersRated <= 30:\n",
    "            itemPopularity[item] = 0\n",
    "        else:\n",
    "            itemPopularity[item] = numOfUsersLiked/numOfUsersRated\n",
    "    popular_list_liked_ratio = itemPopularity.argsort()\n",
    "    \n",
    "    return np.asarray(popular_list_num_of_reviews),np.asarray(popular_list_avg_stars),popular_list_liked_ratio"
   ]
  },
  {
   "cell_type": "markdown",
   "metadata": {},
   "source": [
    "## All Model"
   ]
  },
  {
   "cell_type": "code",
   "execution_count": 13,
   "metadata": {},
   "outputs": [],
   "source": [
    "def train(matrix_train):\n",
    "    similarity = cosine_similarity(X=matrix_train, Y=None, dense_output=True)\n",
    "    return similarity\n",
    "\n",
    "#Get a UI matrix if it's not item_similarity based or else IU\n",
    "def predict(matrix_train, k, similarity, item_similarity_en = False):\n",
    "    prediction_scores = []\n",
    "    \n",
    "    #inverse to IU matrix\n",
    "    if item_similarity_en:\n",
    "        matrix_train = matrix_train.transpose()\n",
    "        \n",
    "    #for each user or item, depends UI or IU \n",
    "    for user_index in tqdm(range(matrix_train.shape[0])):\n",
    "        # Get user u's prediction scores for all items\n",
    "        #Get prediction/similarity score for each user 1*num or user or num of items\n",
    "        vector_u = similarity[user_index]\n",
    "\n",
    "        # Get closest K neighbors excluding user u self\n",
    "        #Decending accoding to similarity score, select top k\n",
    "        similar_users = vector_u.argsort()[::-1][1:k+1]\n",
    "        \n",
    "        # Get neighbors similarity weights and ratings\n",
    "        similar_users_weights = similarity[user_index][similar_users]\n",
    "        \n",
    "        #similar_users_weights_sum = np.sum(similar_users_weights)\n",
    "        #print(similar_users_weights.shape)\n",
    "        #shape: num of res * k\n",
    "        similar_users_ratings = matrix_train[similar_users].toarray()\n",
    "              \n",
    "        prediction_scores_u = similar_users_ratings * similar_users_weights[:, np.newaxis]\n",
    "        #print(prediction_scores_u)\n",
    "        \n",
    "        \n",
    "        prediction_scores.append(np.sum(prediction_scores_u, axis=0))\n",
    "        \n",
    "    res = np.array(prediction_scores)\n",
    "    \n",
    "    if item_similarity_en:\n",
    "        res = res.transpose()\n",
    "    return res\n",
    "\n",
    "\n",
    "#Preidction score is UI or IU?\n",
    "def prediction(prediction_score, topK, matrix_Train):\n",
    "\n",
    "    prediction = []\n",
    "\n",
    "    #for each user\n",
    "    for user_index in tqdm(range(matrix_Train.shape[0])):\n",
    "        \n",
    "        #take the prediction scores for user 1 * num res\n",
    "        vector_u = prediction_score[user_index]\n",
    "        \n",
    "        #The restuarant the user rated\n",
    "        vector_train = matrix_Train[user_index]\n",
    "        \n",
    "        if len(vector_train.nonzero()[0]) > 0:\n",
    "            vector_predict = sub_routine(vector_u, vector_train, topK=topK)\n",
    "        else:\n",
    "            vector_predict = np.zeros(topK, dtype=np.float32)\n",
    "\n",
    "        prediction.append(vector_predict)\n",
    "\n",
    "    return np.vstack(prediction)\n",
    "\n",
    "\n",
    "#One hot encoding for new users, passed in 1 * number items prediction score vector\n",
    "def prediction_oneHotEncode(prediction_score, initial_record):\n",
    "    prediction = []\n",
    "\n",
    "    #for each user\n",
    "    #for user_index in tqdm(range(matrix_Train.shape[0])):\n",
    "        \n",
    "    #take the prediction scores for user 1 * num res\n",
    "    vector_u =prediction_score\n",
    "\n",
    "    #The restuarant the user rated 1 * num res\n",
    "    vector_train = initial_record\n",
    "\n",
    "    if len(vector_train.nonzero()[0]) > 0:\n",
    "        vector_predict = sub_routine_modified(vector_u, vector_train)\n",
    "    else:\n",
    "        vector_predict = np.zeros(50, dtype=np.float32)\n",
    "\n",
    "    prediction.append(vector_predict)\n",
    "\n",
    "    return prediction\n",
    "\n",
    "def sub_routine_modified(vector_u, vector_train):\n",
    "\n",
    "    #index where non-zero\n",
    "    train_index = vector_train.nonzero()[1]\n",
    "\n",
    "    vector_u = vector_u\n",
    "\n",
    "    #get topk + num rated res prediction score descending, top index \n",
    "    candidate_index = np.argpartition(-vector_u, -1)\n",
    "    \n",
    "    #sort top prediction score index in range topK+len(train_index) into vector_u`\n",
    "    vector_u = candidate_index[vector_u[candidate_index].argsort()[::-1]]\n",
    "    \n",
    "    #deleted the rated res from the topk+train_index prediction score vector for user u \n",
    "    #Delete the user rated res index from the topk+numRated index\n",
    "    vector_u = np.delete(vector_u, np.isin(vector_u, train_index).nonzero()[0])\n",
    "\n",
    "    #so we only include the top K prediction score here\n",
    "    return vector_u"
   ]
  },
  {
   "cell_type": "markdown",
   "metadata": {},
   "source": [
    "## Evaluation"
   ]
  },
  {
   "cell_type": "code",
   "execution_count": 14,
   "metadata": {},
   "outputs": [],
   "source": [
    "def load_dataframe_csv(path, name):\n",
    "    return pd.read_csv(path+name)\n",
    "\n",
    "def load_numpy_csr(path, name):\n",
    "    return load_npz(path+name).tocsr()\n",
    "\n",
    "def load_numpy(path, name):\n",
    "    return np.load(path+name)\n",
    "\n",
    "def loadDict(path, fileName, trainOrTest='train'):\n",
    "    # json_fileName = \"{:s}.json\".format(fileName)\n",
    "    # Read data from file:\n",
    "    if(trainOrTest == 'train'):\n",
    "        dataDict = json.load(open(path+fileName))\n",
    "    else:\n",
    "        dataDict = json.load(open(path+fileName))\n",
    "    return dataDict"
   ]
  },
  {
   "cell_type": "markdown",
   "metadata": {},
   "source": [
    "## For API"
   ]
  },
  {
   "cell_type": "code",
   "execution_count": 15,
   "metadata": {},
   "outputs": [],
   "source": [
    "def updateList (listTobeUpdated, listUsedToUpdate):\n",
    "    tempList = listTobeUpdated.copy()\n",
    "    tempList.append(listUsedToUpdate)\n",
    "    listUpdate = list(set(tempList))\n",
    "    \n",
    "    return listUpdate\n",
    "\n",
    "def exhaustFallBack(tempRecommendList):\n",
    "    ifExhaust = False\n",
    "    #print(critiqueDictionary['critiqued_Res_AccrdName_list'])\n",
    "    #Exhausted recommendation list\n",
    "    if(len(tempRecommendList) == 0):\n",
    "        ifExhaust = True\n",
    "        print('Exhausted recommendation list, no matching restaurant after current critique')\n",
    "        \n",
    "        #update critiqued restaurant list according to name\n",
    "        #critiqueDictionary['critiqued_Res_AccrdName_list'] = updateList(critiqueDictionary['critiqued_Res_AccrdName_list'], \\\n",
    "        #                                                                critiqueDictionary['current_user_item_predict'][recommendIndex])\n",
    "        #Update critiqued restaurant total set\n",
    "        critiqueDictionary['current_user_item_predict'] = critiqueDictionary['current_user_item_predict'][recommendIndex+1 :]\n",
    "    #print(critiqueDictionary['critiqued_Res_AccrdName_list'])\n",
    "    return ifExhaust\n",
    "\n",
    "def updateExtendList (listTobeUpdated, listUsedToUpdate):\n",
    "    tempList = listTobeUpdated.copy()\n",
    "    tempList.extend(listUsedToUpdate)\n",
    "    listUpdate = list(set(tempList))\n",
    "    \n",
    "    return listUpdate\n",
    "\n",
    "#This method should generate a dictionary for the recommended item, to be used for API \n",
    "def constructRestaurantDict(RecommendItem_Index, user_item_predictionMatrix,df,Id_dictionary, additionalText='', critiqueText='', empty=False):\n",
    "    restaurantInfo = {}\n",
    "    if empty:\n",
    "        restaurantInfo['business_id'] = \"empty\"\n",
    "        restaurantInfo['name'] = \"empty\"\n",
    "        restaurantInfo['cuisine'] = \"empty\"\n",
    "        restaurantInfo['price'] = \"empty\"\n",
    "        restaurantInfo['rating'] = \"empty\"\n",
    "        restaurantInfo['distance'] = \"empty\"\n",
    "        #Additional text sent back from the system \n",
    "        restaurantInfo['addText'] = \"empty\"\n",
    "    else:\n",
    "        businessId = user_item_predictionMatrix[RecommendItem_Index]\n",
    "        #print(businessId)\n",
    "        #print(Id_dictionary[businessId])\n",
    "        retrieveDF = df[df['business_num_id'] == businessId]\n",
    "        restaurantInfo['business_id'] = str(businessId)\n",
    "        restaurantInfo['name'] = str(retrieveDF.name.unique()[0])\n",
    "        restaurantInfo['cuisine'] = str(retrieveDF.categories.unique()[0])\n",
    "        #restaurantInfo['price'] = str(retrieveDF.price.unique()[0])\n",
    "        restaurantInfo['price'] = str('$' * IP_dictionary[businessId] )\n",
    "        restaurantInfo['rating'] = str(retrieveDF.business_stars.unique()[0])\n",
    "        restaurantInfo['distance'] = str(Id_dictionary[businessId]) + 'km'\n",
    "        #Additional text sent back from the system \n",
    "        restaurantInfo['addText'] = additionalText\n",
    "        #The text to display for users for new requests\n",
    "        restaurantInfo['critiqueText'] = critiqueText\n",
    "        \n",
    "        explanation_dict = df_explanation[df_explanation[\"business_id\"] == str(retrieveDF.business_id.unique()[0])].explanation.values[0]\n",
    "        exp_list = []\n",
    "        \n",
    "        explanation_str = ''\n",
    "        for (k,v) in explanation_dict.items():\n",
    "            explanation_str+=v\n",
    "            exp_list.append(v)\n",
    "        explanation_str = exp_list[0] + \", \" + exp_list[1] + \" and \"+ exp_list[2]\n",
    "\n",
    "        restaurantInfo['explanation'] = explanation_str\n",
    "    \n",
    "    return restaurantInfo\n",
    "\n",
    "                \n",
    "#Enter critique res list and critique res according to name if fall back to square one \n",
    "#deleted critique_Res_list=[], \n",
    "def fallBackSetup(critiqued_Res_AccrdName_list=[], critiqueDistance=2.0):\n",
    "    global ID_dictionary\n",
    "    global variableDictionary\n",
    "    global critiqueDictionary\n",
    "    global recommendResDict\n",
    "    \n",
    "    critique_distance = critiqueDistance\n",
    "    wanted_Category_index = -1\n",
    "    \n",
    "    variableDictionary['critique_distance'] = critique_distance\n",
    "    variableDictionary['wanted_Category_index'] = wanted_Category_index\n",
    "    \n",
    "    #initialize critique dictionary \n",
    "    for listName in critiqueDictionary.keys():\n",
    "        if listName !='test_user_item_predict':\n",
    "            critiqueDictionary[listName] = []\n",
    "    \n",
    "    #Reset critique_Res_list\n",
    "    tempCritiqueResList = [key for (key, value) in ID_dictionary.items() \\\n",
    "                                               if value > variableDictionary['critique_distance']]\n",
    "    tempCritiqueResList.extend(critiqued_Res_AccrdName_list)\n",
    "    critiqueDictionary['critique_Res_list'] = tempCritiqueResList.copy()\n",
    "\n",
    "    #critiqueDictionary['critiqued_Res_AccrdName_list'] = critiqued_Res_AccrdName_list\n",
    "    critiqueDictionary['critiqued_Res_AccrdDistance_list'] = [key for (key, value) in ID_dictionary.items() \\\n",
    "                                                              if value > variableDictionary['critique_distance']]\n",
    "    \n",
    "    critiqueDictionary['current_user_item_predict'] = [item for item in critiqueDictionary['test_user_item_predict'] if \\\n",
    "                                                       item not in critiqueDictionary['critique_Res_list']]\n",
    "    \n",
    "    \n",
    "    #Construct recommend business json, insert into dictionary\n",
    "    recBusinessJson = constructRestaurantDict(recommendIndex, critiqueDictionary['current_user_item_predict'],df,ID_dictionary)\n",
    "    recommendResDict['recBusinessJson'] = recBusinessJson"
   ]
  },
  {
   "cell_type": "code",
   "execution_count": 17,
   "metadata": {},
   "outputs": [],
   "source": [
    "# restaurantInitializeDict = {\n",
    "#  '_xAJZOKBMPOe47p1MphB2w': 'Fishman Lobster Clubhouse',\n",
    "#  'ae95XSsD37OQfOWF92GjNQ': 'Dragon Legend',\n",
    "#  'HQpMwOOrGND3GaRqMNV9ig': 'Jim Chai Kee',\n",
    "#  'kOFDVcnj-8fd3doIpCQ06A': 'Mildred\\'s Temple Kitchen',\n",
    "#  'i--dxuKd_6Dx7mwgQ5nl-g': 'School',\n",
    "#  'htQgj-ANQpZGpIpkkrEmyQ': 'Inspire',\n",
    "#  'L3R7y3_tUKQlM9kor4-Ccw': 'Jamie\\'s Italian',\n",
    "#  'wNXw53wmePcf_V3rF18LUg': 'Grazie Ristorante',\n",
    "#  'Cr5CLpmVrmzFyz_RfQ6rmA': 'Scaddabush',\n",
    "#  'QGTqGNLZbBA1QD8L_fO9ZA': 'Kaka All You Can Eat',\n",
    "#  'hPXR-Bi8U-uz6TUViqmGpg': 'Fat Ninja Bite',\n",
    "#  'HTkY1GABYTivk-DKWyrlEw': \"Sansotei Ramen\",\n",
    "#  'XCxxPZ3Lu5mwmIo7IQRf1g': 'Osaka Sushi Japanese Korean Restaurant',\n",
    "#  'Ro-_PAzq-Rdxl5JhM3WmoA': 'Kiu Japanese',\n",
    "#  'NuGZD3yBVqzpY1HuzT26mQ': 'Gal\\'s Sushi',\n",
    "#  'jCzrbfboRc3D-9_Gr0Wm9w': 'SongCook\\'s',\n",
    "#  'uChTCA6MsLAciDRklpO-Fw': 'Makkal Chon',\n",
    "#  '1_rqZz1K5Uoq2RvZlINfgA': 'Cho Sun Ok',\n",
    "#  '-J6FVdY9pSgAdFmmalO-pQ': 'Jatujak',\n",
    "#  '8I2XBrjf4rOEWx7pnKpVeg': 'Kub Khao Thai Eatery',\n",
    "#  'a911y0BuV1rjHXkXlFm3Ig': 'EAT BKK Thai Kitchen',\n",
    "#  'MS-hfug4QDXqb_Mws3qlzA': 'Grand Electric',\n",
    "#  'fK1oj0dk9Bc6KsBk5mMDxg': 'Playa Cabana Cantina',\n",
    "#  'WFB1fn8rWNukmmIfTg6AMw': 'Ay Caramba, Eh',\n",
    "#  'oWTn2IzrprsRkPfULtjZtQ': \"The Burger's Priest\",\n",
    "#  'vazCBq6DH9LnCQ3cH7E4Og': 'Fresh Burger',\n",
    "#  'Vg4N2DsGrzzoam9jS1L3Wg': 'Johnny\\'s Hamburgers',\n",
    "#  'wxL9wgxLeuMMfI6SAXIzJw': 'Smash Kitchen & Bar',\n",
    "#  'K1nwSvx14on6eVBbu5E9rA': 'Good Catch Boil House',\n",
    "#  '3gdjVkNeUa9piW9H708Aig': 'The Olde Yorke'}\n",
    "\n",
    "# businessIndexs = list(restaurantInitializeDict.keys())\n",
    "# for businessId in businessIndexs:\n",
    "#     restaurantInfo = {}\n",
    "#     retrieveDF = df[df['business_id'] == businessId]\n",
    "#     restaurantInfo['business_id'] = str(businessId)\n",
    "#     restaurantInfo['name'] = str(retrieveDF.name.unique()[0])\n",
    "#     restaurantInfo['cuisine'] = str(retrieveDF.categories.unique()[0])\n",
    "#     restaurantInfo['price'] = str('$' * IP_dictionary[retrieveDF.business_num_id.unique()[0]] )\n",
    "#     restaurantInfo['rating'] = str(retrieveDF.business_stars.unique()[0])\n",
    "\n",
    "#     print (restaurantInfo)"
   ]
  },
  {
   "cell_type": "code",
   "execution_count": 18,
   "metadata": {},
   "outputs": [],
   "source": [
    "#Takes in a dictionary {business id: rating}\n",
    "def constructUserItemVector(UserInitialResponse):\n",
    "    #Get row lis\n",
    "    rowList = [0] * len(UserInitialResponse)\n",
    "    #Get col list\n",
    "    colList = []\n",
    "    #Get data list\n",
    "    dataList = []\n",
    "\n",
    "    for resBusinessId, rating in UserInitialResponse.items():\n",
    "        #print(resBusinessId, rating)\n",
    "        #Append the bus_num_id as column values\n",
    "        colList.append(df[df['business_id']==resBusinessId].business_num_id.unique()[0])\n",
    "        dataList.append(rating)\n",
    "\n",
    "    rows = np.array(rowList)\n",
    "    cols = np.array(colList)\n",
    "    data = np.array(dataList)\n",
    "    #print(rows, cols,data)\n",
    "\n",
    "    #Get explicit data, dimension: 1 * # of items\n",
    "    userSetUpVector = csr_matrix((data, (rows, cols)), shape=(1, IK_similarity.shape[1]))\n",
    "    print(userSetUpVector)\n",
    "    return userSetUpVector"
   ]
  },
  {
   "cell_type": "markdown",
   "metadata": {},
   "source": [
    "### Get original dataframe out of the review datastet"
   ]
  },
  {
   "cell_type": "code",
   "execution_count": 19,
   "metadata": {},
   "outputs": [],
   "source": [
    "data_dir = \"../data/\""
   ]
  },
  {
   "cell_type": "code",
   "execution_count": 20,
   "metadata": {},
   "outputs": [],
   "source": [
    "df= load_dataframe_csv(data_dir, \"Dataframe.csv\")"
   ]
  },
  {
   "cell_type": "code",
   "execution_count": 21,
   "metadata": {},
   "outputs": [],
   "source": [
    "IC_dictionary = loadDict(data_dir, \"icDictionary.json\")\n",
    "categoryList = list(IC_dictionary.keys())"
   ]
  },
  {
   "cell_type": "code",
   "execution_count": 22,
   "metadata": {},
   "outputs": [],
   "source": [
    "I_C_matrix = load_numpy_csr(data_dir, \"icmatrix.npz\")"
   ]
  },
  {
   "cell_type": "markdown",
   "metadata": {},
   "source": [
    "### Using entire dataset as rtrain"
   ]
  },
  {
   "cell_type": "code",
   "execution_count": 23,
   "metadata": {},
   "outputs": [],
   "source": [
    "#np.allclose(rtrain_load.A, rtrain.A)\n",
    "rtrain= load_numpy_csr(data_dir, \"rtrain.npz\")"
   ]
  },
  {
   "cell_type": "markdown",
   "metadata": {},
   "source": [
    "## <font color = 'green'> Item based recommend & critique INTERNAL TESTING FOR CHECKING API</font>"
   ]
  },
  {
   "cell_type": "code",
   "execution_count": 24,
   "metadata": {},
   "outputs": [],
   "source": [
    "#intersections\n",
    "# yonge_and_finch = Point(\"43.779824, -79.415665\")\n",
    "# bloor_and_bathurst = Point(\"43.665194,-79.411208\")\n",
    "# queen_and_spadina = Point(\"43.648772,-79.396259\")\n",
    "# bloor_and_yonge = Point(\"43.670409,-79.386814\")\n",
    "# dundas_and_yonge = Point(\"43.6561,-79.3802\")\n",
    "# spadina_and_dundas = Point(\"43.653004,-79.398082\")\n",
    "yonge_and_finch = 'idDictionary_yongefinch'\n",
    "bloor_and_bathurst = 'idDictionary_bloorbathurst.json'\n",
    "queen_and_spadina = 'idDictionary_queenspadina.json'\n",
    "bloor_and_yonge = 'idDictionary_blooryonge.json'\n",
    "dundas_and_yonge = 'idDictionary_dundasyonge.json'\n",
    "spadina_and_dundas = 'idDictionary_spadinadundas.json'\n",
    "\n",
    "#Set intersection for test case:\n",
    "intersection = bloor_and_yonge"
   ]
  },
  {
   "cell_type": "code",
   "execution_count": 25,
   "metadata": {},
   "outputs": [],
   "source": [
    "IK_similarity = load_numpy(data_dir, 'IKbased_II_similarity.npy')"
   ]
  },
  {
   "cell_type": "code",
   "execution_count": 26,
   "metadata": {},
   "outputs": [],
   "source": [
    "IS_dictionary = loadDict(data_dir, \"isDictionary.json\")\n",
    "IS_dictionary = {int(old_key): val for old_key, val in IS_dictionary.items()}"
   ]
  },
  {
   "cell_type": "code",
   "execution_count": 27,
   "metadata": {},
   "outputs": [],
   "source": [
    "IP_dictionary = loadDict(data_dir, \"ipDictionary.json\")\n",
    "IP_dictionary = {int(old_key): val for old_key, val in IP_dictionary.items()}"
   ]
  },
  {
   "cell_type": "code",
   "execution_count": 28,
   "metadata": {},
   "outputs": [],
   "source": [
    "ID_dictionary_load = loadDict(data_dir, intersection)\n",
    "ID_dictionary_load = {int(old_key): val for old_key, val in ID_dictionary_load.items()}"
   ]
  },
  {
   "cell_type": "markdown",
   "metadata": {},
   "source": [
    "### <font color='green'>1.Get user initial restaurant set up</font>"
   ]
  },
  {
   "cell_type": "code",
   "execution_count": 29,
   "metadata": {},
   "outputs": [],
   "source": [
    "pickList = [4331,2970,2216,3628,1844,4972,926,3286,3356,2949,3569,3792,2766,\\\n",
    "     3770,2931,1789,1908,4008,1658,3372,2442,4715,2188,1813,4111,4016,\\\n",
    "    1058,2384, 371,4227]\n",
    "business_id_list = [df[df['business_num_id']==item].business_id.unique()[0] for item in pickList]\n",
    "pickBusinessDict = {}\n",
    "for item in pickList:\n",
    "    business_name = df[df['business_num_id']==item].name.unique()[0]\n",
    "    business_id = df[df['business_num_id']==item].business_id.unique()[0]\n",
    "    pickBusinessDict[business_id] = business_name"
   ]
  },
  {
   "cell_type": "code",
   "execution_count": 30,
   "metadata": {
    "scrolled": true
   },
   "outputs": [
    {
     "name": "stdout",
     "output_type": "stream",
     "text": [
      "pick from the following business ids\n"
     ]
    },
    {
     "data": {
      "text/plain": [
       "{'rXcq6CWUlrUhZPQUs1U35Q': 'Tasty Korea',\n",
       " 'aHQOfN-PRlx_4dnJ6fPZXA': 'Patties Express',\n",
       " 'Ro-_PAzq-Rdxl5JhM3WmoA': 'Kiu Japanese Restaurant',\n",
       " 'iAe3gkuK7SXVay9T5D4OFw': 'Ramen Isshin',\n",
       " 'N2l-RGl3jrqdiT6lW3GaYA': \"Southside Johnny's\",\n",
       " 'zdxOrKy1GGyQcchr0qZvnQ': \"Dolly's Mojito Bar\",\n",
       " 'B0-U_iHvNhbxgUwEpd5NXg': \"Topper's Pizza\",\n",
       " 'dy0O7DaSUd49NZWSEtvz_g': 'Foxley Bistro and Bar',\n",
       " 'evekKeEoJMT2O6Z7ky96iw': 'Spice Indian Bistro',\n",
       " 'a5LPHftunsV3OciDaumJXQ': 'Galata Cafe',\n",
       " 'hWaptsAiWkxqCX9SFfJDkg': 'BIWON',\n",
       " 'kIjmPE4FxiNT843Se1CSTQ': \"Harvey's\",\n",
       " 'Ye2WDL6sA66605igAbKGFg': 'Mezza Notte Trattoria',\n",
       " 'k1luUes-twOcLWEMzpLZ_w': 'Pita Q Restaurant',\n",
       " '_nsuZ7Fl1aMwqZGWEraQHw': 'Cora',\n",
       " 'MH3WJlnNHKWCpZ2q7YbuOw': 'The Draft House',\n",
       " 'NxpaDfYm8OB14Zw9QDFejA': 'Tapas At Embrujo',\n",
       " 'n44grut83X0UiRZCA-O1fw': 'Patisserie La Cigogne',\n",
       " 'KRoJhHyPWORMJn1UO5kAkA': 'The Six Cafe and Restaurant',\n",
       " 'f8c3JLJWp6xmGUa3DEV1_w': \"Bobby's Hideaway\",\n",
       " 'UntYhU75-CqypVO8Qin9qw': 'Si Espresso Bar',\n",
       " 'wQMw6kc24uUQqqUGxe3Ztg': 'Baldini Restaurant',\n",
       " 'RMjCnixEY5i12CiqnskiVw': 'Four Star Sushi',\n",
       " 'M_fzy4_KslKoXeyZ022Z8g': 'August 8',\n",
       " 'oU-Af-_1zT-ewuLfIubN2w': 'Katsu Japanese Restaurant',\n",
       " 'nBo99rJ9dG6-hiKdo7E7gw': 'Darband Restaurant',\n",
       " 'Ck6zHE15TuWTaNJ2YNawZA': 'CoolN2',\n",
       " 'U3gBH2iJxlajlMSOP9UtNw': 'Nguyên Huong',\n",
       " '3tiEjjBtdfV5_npPNzs0Cg': 'Dakgogi',\n",
       " 'q2l6L-gdvIZewh7n5_xasQ': 'Banknote Bar'}"
      ]
     },
     "execution_count": 30,
     "metadata": {},
     "output_type": "execute_result"
    }
   ],
   "source": [
    "print('pick from the following business ids')\n",
    "pickBusinessDict"
   ]
  },
  {
   "cell_type": "markdown",
   "metadata": {},
   "source": [
    "### <font color='green'>2.Initialize, input user preference</font>"
   ]
  },
  {
   "cell_type": "code",
   "execution_count": 31,
   "metadata": {},
   "outputs": [],
   "source": [
    "# #Initialize user preference dictionary 'business_id': '5'\n",
    "# UserInitialResponse = {}\n",
    "# businessIdInput = ''\n",
    "# while businessIdInput.lower() != 'stop': \n",
    "#     businessIdInput = input(\"Input business id that you like \").strip()\n",
    "#     print(businessIdInput)\n",
    "#     if businessIdInput== 'stop':\n",
    "#         break;\n",
    "#     elif businessIdInput not in pickBusinessDict.keys():\n",
    "#         print('invalid business id, RE-ENTER')\n",
    "#     else:\n",
    "#         UserInitialResponse[businessIdInput] = 5\n",
    "# print(UserInitialResponse)"
   ]
  },
  {
   "cell_type": "code",
   "execution_count": 22,
   "metadata": {},
   "outputs": [],
   "source": [
    "# #Preprocess User Preference Input, transfers the input json into csr sparse matrix, 1 row\n",
    "# #Get row lis\n",
    "# rowList = [0] * len(UserInitialResponse)\n",
    "# #Get col list\n",
    "# colList = []\n",
    "# #Get data list\n",
    "# dataList = []\n",
    "\n",
    "# for resBusinessId, rating in UserInitialResponse.items():\n",
    "#     print(resBusinessId, rating)\n",
    "#     #Append the bus_num_id as column values\n",
    "#     colList.append(df[df['business_id']==resBusinessId].business_num_id.unique()[0])\n",
    "#     dataList.append(rating)\n",
    "\n",
    "# rows = np.array(rowList)\n",
    "# cols = np.array(colList)\n",
    "# data = np.array(dataList)\n",
    "# print(rows, cols,data)\n",
    "\n",
    "# #Get explicit data, dimension: 1 * # of items\n",
    "# userSetUpVector = csr_matrix((data, (rows, cols)), shape=(1, IK_similarity.shape[1]))\n",
    "# print(userSetUpVector)"
   ]
  },
  {
   "cell_type": "code",
   "execution_count": 23,
   "metadata": {},
   "outputs": [],
   "source": [
    "# user_item_prediction_score = predict(userSetUpVector, 110, IK_similarity, item_similarity_en= True)\n",
    "# #reduce dimension \n",
    "# user_item_prediction_score = user_item_prediction_score[0]"
   ]
  },
  {
   "cell_type": "code",
   "execution_count": 24,
   "metadata": {},
   "outputs": [],
   "source": [
    "# user_item_predict = prediction_oneHotEncode(user_item_prediction_score, userSetUpVector)\n",
    "# test_user_item_predict = list(user_item_predict[0])\n",
    "# test_user_item_predict[:5]\n",
    "\n",
    "# recBusinessJson = constructRestaurantDict(0, test_user_item_predict\\\n",
    "#                                                   ,df,ID_dictionary_load)\n",
    "# print('Check if this is the same with the API return',recBusinessJson)\n",
    "    "
   ]
  },
  {
   "cell_type": "code",
   "execution_count": 25,
   "metadata": {},
   "outputs": [],
   "source": [
    "#ID_dictionary_load"
   ]
  },
  {
   "cell_type": "code",
   "execution_count": 73,
   "metadata": {},
   "outputs": [],
   "source": [
    "#Counting the number of reviews/business\n",
    "# reviewGroup = df.groupby('business_id')\n",
    "# reviewCountDict = {}\n",
    "# for busId in reviewGroup.groups.keys():\n",
    "#     #print(len(reviewGroup.groups[busId]))\n",
    "#     reviewLen = len(reviewGroup.groups[busId])\n",
    "#     reviewCountDict[reviewLen] = reviewCountDict.get(reviewLen, 0) +1\n",
    "\n",
    "#reviewCountDict"
   ]
  },
  {
   "cell_type": "code",
   "execution_count": 74,
   "metadata": {},
   "outputs": [],
   "source": [
    "#np.sum(list(reviewCountDict.keys()))/len(reviewCountDict.keys())"
   ]
  },
  {
   "cell_type": "code",
   "execution_count": 57,
   "metadata": {},
   "outputs": [
    {
     "name": "stdout",
     "output_type": "stream",
     "text": [
      "[4331, 2971, 2217, 3630, 1847, 2220, 4972, 4554, 44, 931, 3290, 3361, 2950, 1094, 3573, 3792, 2768, 3768, 2932, 1883, 1792, 1912, 4757, 130, 1909, 2085, 4008, 4429, 1305, 1659, 4519, 2277, 3737, 3377, 4927, 3184, 1445, 950, 2256, 3431, 3605, 2487, 733, 2445, 3600, 4713, 2189, 4524, 2128, 1816]\n"
     ]
    }
   ],
   "source": [
    "# number of reviews popularity list, redundent with the output of the next method\n",
    "dff_popular = df.copy()\n",
    "dff_popular = dff_popular.sort_values(by=[\"review_count_y\"], ascending=False).drop_duplicates(subset = 'business_id', keep = 'first')\n",
    "#Get the list of restaurants accoridng to their popularity level\n",
    "popular_list = dff_popular[\"business_num_id\"].tolist()[:50]\n",
    "print(popular_list)"
   ]
  },
  {
   "cell_type": "code",
   "execution_count": 165,
   "metadata": {},
   "outputs": [],
   "source": [
    "catCountDict = {}\n",
    "matrixSTH = I_C_matrix.sum(axis=0)\n",
    "countArray = np.array(matrixSTH)[0]\n",
    "\n",
    "index = 0\n",
    "for frequency in countArray:\n",
    "    \n",
    "    for category, categoryID in IC_dictionary.items():    # for name, age in dictionary.iteritems():  (for Python 2.x)\n",
    "        #match index\n",
    "        if index == categoryID:\n",
    "            catCountDict[category] = frequency\n",
    "        \n",
    "    index+=1\n",
    "#print(catCountDict)\n",
    "#Sort category count dictionary by category count\n",
    "sorted_catCount = sorted(catCountDict.items(), key=lambda kv: kv[1], reverse=True)"
   ]
  },
  {
   "cell_type": "code",
   "execution_count": 249,
   "metadata": {
    "scrolled": false
   },
   "outputs": [
    {
     "data": {
      "image/png": "[encoded data removed]",
      "text/plain": [
       "<Figure size 2160x360 with 1 Axes>"
      ]
     },
     "metadata": {
      "needs_background": "light"
     },
     "output_type": "display_data"
    }
   ],
   "source": [
    "import matplotlib.pyplot as plt\n",
    "plt.figure(figsize=(30,5))\n",
    "labels = [cat for (cat,count) in sorted_catCount][:50]\n",
    "y = [count for (cat,count) in sorted_catCount][:50]\n",
    "x = np.arange(len(labels))\n",
    "\n",
    "plt.bar(x, y, align='center', alpha=0.5)\n",
    "plt.xticks(x, labels, rotation=30, ha='right')\n",
    "plt.ylabel('Cuisine Type Count')\n",
    "plt.title('Cuisine Type vs. frequency in all restaurants')\n",
    "\n",
    "plt.show()"
   ]
  },
  {
   "cell_type": "code",
   "execution_count": 202,
   "metadata": {},
   "outputs": [],
   "source": [
    "IDdictList = ['idDictionary_dundasyonge.json', 'idDictionary_blooryonge.json', 'idDictionary_queenspadina.json',\\\n",
    "             'idDictionary_spadinadundas.json', 'idDictionary_bloorbathurst.json', 'idDictionary_yongefinch.json']\n",
    "listOfBusiness = []\n",
    "\n",
    "for intersection in IDdictList:\n",
    "    load_Dict = loadDict(data_dir, intersection)\n",
    "    load_Dict = {int(old_key): val for old_key, val in load_Dict.items()}\n",
    "    matchedRes = [item for item, distance in load_Dict.items() if distance <=2.0]\n",
    "    listOfBusiness.extend(matchedRes)\n",
    "    listOfBusiness = list(set(listOfBusiness))"
   ]
  },
  {
   "cell_type": "code",
   "execution_count": 246,
   "metadata": {
    "scrolled": true
   },
   "outputs": [
    {
     "name": "stdout",
     "output_type": "stream",
     "text": [
      "{'Cocktail Bars': 64, 'Bars': 84, 'Korean': 101, 'Soul Food': 3, 'Coffee & Tea': 133, 'Ramen': 33, 'Gluten-Free': 28, 'Pizza': 63, 'Salad': 57, 'Dive Bars': 22, 'Music Venues': 18, 'Filipino': 3, 'Vietnamese': 34, 'Vegetarian': 38, 'Mexican': 57, 'Irish': 7, 'Pubs': 48, 'Canadian (New)': 92, 'Thai': 47, 'Italian': 92, 'Burgers': 69, 'Sandwiches': 102, 'Tex-Mex': 4, 'Health Markets': 7, 'Juice Bars & Smoothies': 44, 'Latin American': 9, 'Nicaraguan': 1, 'American (Traditional)': 60, 'Chinese': 78, 'Seafood Markets': 3, 'Seafood': 58, 'Steakhouses': 18, 'Asian Fusion': 55, 'Japanese': 94, 'Fast Food': 44, 'Sushi Bars': 52, 'Breakfast & Brunch': 122, 'Singaporean': 1, 'Bistros': 7, 'Cafes': 77, 'Indian': 44, 'Middle Eastern': 36, 'Vegan': 38, 'Tapas Bars': 11, 'Modern European': 7, 'Wine Bars': 39, 'Dim Sum': 16, 'Beer Bar': 13, 'Sports Bars': 29, 'Bakeries': 74, 'Patisserie/Cake Shop': 9, 'Syrian': 1, 'Desserts': 93, 'Ice Cream & Frozen Yogurt': 59, 'Coffee Roasteries': 10, 'Barbeque': 32, 'Belgian': 4, 'Comfort Food': 25, 'Hot Pot': 6, 'Noodles': 32, 'Soup': 22, 'Pool Halls': 2, 'Russian': 3, 'Ukrainian': 4, 'Persian/Iranian': 14, 'Cajun/Creole': 8, 'Jazz & Blues': 2, 'Chicken Wings': 25, 'Lounges': 42, 'British': 8, 'French': 40, 'Spanish': 9, 'Specialty Food': 11, 'Argentine': 5, 'Caterers': 9, 'Tapas/Small Plates': 22, 'Gastropubs': 16, 'Caribbean': 21, 'Hungarian': 2, 'Brasseries': 3, 'Mediterranean': 39, 'Chicken Shop': 16, 'Waffles': 5, 'Halal': 10, 'Taiwanese': 14, 'Tea Rooms': 19, 'Whiskey Bars': 4, 'Portuguese': 7, 'Imported Food': 4, 'Cheese Shops': 7, 'Food Trucks': 10, 'Delis': 19, 'Macarons': 4, 'Moroccan': 2, 'Diners': 29, 'Dance Clubs': 8, 'Venues & Event Spaces': 12, 'Chocolatiers & Shops': 5, 'Falafel': 3, 'Hawaiian': 10, 'Poke': 11, 'German': 4, 'Greek': 17, 'Buffets': 3, 'Butcher': 2, 'Cheesesteaks': 3, 'Poutineries': 6, 'Champagne Bars': 1, 'Afghan': 4, 'Creperies': 14, 'Cooking Classes': 1, 'Australian': 3, 'Food Court': 5, 'Polish': 3, 'Fish & Chips': 6, 'African': 3, 'Mongolian': 1, 'Donuts': 9, 'Cannabis Clinics': 1, 'Breweries': 4, 'Dinner Theater': 2, 'Hot Dogs': 4, 'Scottish': 1, 'Food Stands': 2, 'Ethiopian': 7, 'Shaved Snow': 1, 'Cuban': 1, 'Brazilian': 1, 'Bagels': 7, 'Venezuelan': 3, 'Himalayan/Nepalese': 1, 'Festivals': 7, 'Pan Asian': 1, 'Street Vendors': 2, 'Peruvian': 4, 'Kebab': 3, 'Brewpubs': 3, 'Pakistani': 4, 'Sports Clubs': 1, 'Malaysian': 3, 'Custom Cakes': 2, 'Southern': 5, 'Live/Raw Food': 3, 'Food Delivery Services': 4, 'South African': 1, 'Florists': 2, 'Fruits & Veggies': 3, 'Lebanese': 4, 'Karaoke': 2, 'Comedy Clubs': 3, 'Delicatessen': 1, 'International': 1, 'Colombian': 1, 'Tabletop Games': 2, 'Laotian': 1, 'Supper Clubs': 1, 'Organic Stores': 3, 'Indonesian': 1, 'Meat Shops': 2, 'Bangladeshi': 1, 'Shopping': 1, 'Social Clubs': 1, 'Gay Bars': 5, 'Smokehouse': 1, 'Hookah Bars': 1}\n"
     ]
    }
   ],
   "source": [
    "catCountDict1 = {}\n",
    "\n",
    "#loop through business within the intersections \n",
    "for busiD in listOfBusiness:\n",
    "    #Get list of category index \n",
    "    categoryIndexList = [catInd for catInd in I_C_matrix[busiD,:].nonzero()[1]]\n",
    "    #loop through category id, get catgeory name\n",
    "    for category in categoryIndexList:\n",
    "        matchedCat = [cat for cat,cateInd in IC_dictionary.items() if cateInd==category][0]\n",
    "\n",
    "        #Counting the frequency\n",
    "        catCountDict1[matchedCat] = catCountDict1.get(matchedCat,0) +1\n",
    "\n",
    "print(catCountDict1)\n",
    "#Sort category count dictionary by category count\n",
    "sorted_catCount1 = sorted(catCountDict1.items(), key=lambda kv: kv[1], reverse=True)"
   ]
  },
  {
   "cell_type": "code",
   "execution_count": 248,
   "metadata": {
    "scrolled": true
   },
   "outputs": [
    {
     "data": {
      "image/png": "[encoded data removed]",
      "text/plain": [
       "<Figure size 2160x360 with 1 Axes>"
      ]
     },
     "metadata": {
      "needs_background": "light"
     },
     "output_type": "display_data"
    }
   ],
   "source": [
    "import matplotlib.pyplot as plt\n",
    "plt.figure(figsize=(30,5))\n",
    "labels = [cat for (cat,count) in sorted_catCount1][:50]\n",
    "y = [count for (cat,count) in sorted_catCount1][:50]\n",
    "x = np.arange(len(labels))\n",
    "\n",
    "plt.bar(x, y, align='center', alpha=0.5)\n",
    "plt.xticks(x, labels, rotation=30, ha='right')\n",
    "plt.ylabel('Cuisine Type Count')\n",
    "plt.title('Cuisine Type vs. frequency in the selected 6 intersections')\n",
    "\n",
    "plt.show()"
   ]
  },
  {
   "cell_type": "code",
   "execution_count": 294,
   "metadata": {},
   "outputs": [
    {
     "data": {
      "text/plain": [
       "'Chinese'"
      ]
     },
     "execution_count": 294,
     "metadata": {},
     "output_type": "execute_result"
    }
   ],
   "source": [
    "df[df['business_id'] == 'HQpMwOOrGND3GaRqMNV9ig'].categories.unique()[0]"
   ]
  },
  {
   "cell_type": "code",
   "execution_count": 297,
   "metadata": {},
   "outputs": [
    {
     "name": "stdout",
     "output_type": "stream",
     "text": [
      "category: Chinese\n",
      "[(2941, 692), (577, 343), (3015, 312), (3150, 305), (1428, 273), (3554, 242), (4567, 237), (854, 236), (2847, 214), (919, 206)]\n",
      "business num Id: 2941 business id: _xAJZOKBMPOe47p1MphB2w business name: Fishman Lobster Clubhouse Restaurant review counts: 692 category: Chinese, Seafood\n",
      "business num Id: 577 business id: 6ZsiLiSWGK2pgw6t3LfzNQ business name: Donburi review counts: 343 category: Japanese, Chinese\n",
      "business num Id: 3015 business id: ae95XSsD37OQfOWF92GjNQ business name: Dragon Legend review counts: 312 category: Chinese, Buffets\n",
      "business num Id: 3150 business id: cPXasVLtq_1gmuSg65TUfQ business name: Dragon Pearl Buffet review counts: 305 category: Buffets, Chinese\n",
      "business num Id: 1428 business id: HQpMwOOrGND3GaRqMNV9ig business name: Jim Chai Kee review counts: 273 category: Chinese\n",
      "business num Id: 3554 business id: hPTx2Y5e4Czbr21XcbDN8g business name: Mei Nung Beef Noodle House review counts: 242 category: Chinese, Taiwanese\n",
      "business num Id: 4567 business id: uFTcyheegHAdRobLf_4Siw business name: Magic Noodle review counts: 237 category: Chinese\n",
      "business num Id: 854 business id: A5lD3y2eREchEdMcvWPXBA business name: Yin Ji Chang Fen review counts: 236 category: Chinese\n",
      "business num Id: 2847 business id: ZilzayEdyk70SoI-wruJbg business name: Congee Queen review counts: 214 category: Chinese\n",
      "business num Id: 919 business id: AtUtG-oQp1rkk6ZdYcfSzw business name: Cafe Hollywood review counts: 206 category: Chinese, Fast Food\n",
      "category: Breakfast & Brunch\n",
      "[(3800, 709), (3611, 473), (3605, 410), (501, 391), (2451, 348), (3393, 289), (2243, 273), (3117, 225), (3429, 207), (931, 186)]\n",
      "business num Id: 3800 business id: kOFDVcnj-8fd3doIpCQ06A business name: Mildred's Temple Kitchen review counts: 709 category: Breakfast & Brunch, Canadian (New), Vegetarian\n",
      "business num Id: 3611 business id: i--dxuKd_6Dx7mwgQ5nl-g business name: School Restaurant review counts: 473 category: Bakeries, Breakfast & Brunch, Canadian (New)\n",
      "business num Id: 3605 business id: htQgj-ANQpZGpIpkkrEmyQ business name: Inspire Restaurant review counts: 410 category: Asian Fusion, Breakfast & Brunch, French\n",
      "business num Id: 501 business id: 5XVabANkehj7oH-Z7YZkwg business name: Alchemy Coffee review counts: 391 category: Coffee & Tea, Breakfast & Brunch\n",
      "business num Id: 2451 business id: Uq-GOs9_IqweUsB5MdII9w business name: Emma's Country Kitchen review counts: 348 category: Breakfast & Brunch, Bakeries, Comfort Food\n",
      "business num Id: 3393 business id: fN_I3jP7RD2llubTvhXtKQ business name: The Good Fork review counts: 289 category: Breakfast & Brunch, Canadian (New)\n",
      "business num Id: 2243 business id: SCklYa_jhihWAcfIn-_chg business name: Bonjour Brioche review counts: 273 category: Breakfast & Brunch, French\n",
      "business num Id: 3117 business id: c-hapDBIAZ9Uw4pB59Xc-g business name: The Hearth review counts: 225 category: American (Traditional), Canadian (New), Breakfast & Brunch\n",
      "business num Id: 3429 business id: fpuyZ31OpX11UlJGFWKoNw business name: Ramona's Kitchen review counts: 207 category: Breakfast & Brunch, American (Traditional)\n",
      "business num Id: 931 business id: B4-2wA8Pj8MQK1Ylymypqg business name: Sunny Morning review counts: 186 category: Breakfast & Brunch\n",
      "category: Italian\n",
      "[(1709, 378), (4713, 368), (3847, 331), (1067, 319), (1938, 291), (353, 285), (4177, 274), (3450, 268), (469, 263), (3441, 228)]\n",
      "business num Id: 1709 business id: L3R7y3_tUKQlM9kor4-Ccw business name: Jamie's Italian review counts: 378 category: Italian\n",
      "business num Id: 4713 business id: wNXw53wmePcf_V3rF18LUg business name: Grazie Ristorante review counts: 368 category: Italian\n",
      "business num Id: 3847 business id: l-Zjik0MbpabQPv-nNp9YQ business name: Sanremo Bakery review counts: 331 category: Bakeries, Coffee & Tea, Italian\n",
      "business num Id: 1067 business id: Cr5CLpmVrmzFyz_RfQ6rmA business name: Scaddabush review counts: 319 category: Italian\n",
      "business num Id: 1938 business id: OIdOJaNS8M624F58XGV3PQ business name: Pizzeria Libretto Danforth review counts: 291 category: Pizza, Italian\n",
      "business num Id: 353 business id: 3glVZZh_vyZH1VvPU0307A business name: Enoteca Sociale review counts: 285 category: Italian\n",
      "business num Id: 4177 business id: pOEL97ld-FJMKO8Ki8JmYg business name: Oliver & Bonacini Café Grill review counts: 274 category: Italian\n",
      "business num Id: 3450 business id: g6AFW-zY0wDvBl9U82g4zg business name: Baretto Caffe review counts: 268 category: Cafes, Italian\n",
      "business num Id: 469 business id: 59c3Cp-p5i18xFCKUuCkFQ business name: La Vecchia Ristorante review counts: 263 category: Italian, Seafood, Venues & Event Spaces\n",
      "business num Id: 3441 business id: g-nzfTvso3-4c4gkhkmGbQ business name: Frankie Tomatto's review counts: 228 category: Buffets, Italian\n",
      "category: Japanese\n",
      "[(2092, 595), (3557, 391), (577, 343), (1430, 325), (2641, 324), (1051, 316), (2216, 298), (201, 290), (1904, 289), (83, 250)]\n",
      "business num Id: 2092 business id: QGTqGNLZbBA1QD8L_fO9ZA business name: Kaka All You Can Eat review counts: 595 category: Japanese, Sushi Bars\n",
      "business num Id: 3557 business id: hPXR-Bi8U-uz6TUViqmGpg business name: Fat Ninja Bite review counts: 391 category: Japanese, Burgers, Korean\n",
      "business num Id: 577 business id: 6ZsiLiSWGK2pgw6t3LfzNQ business name: Donburi review counts: 343 category: Japanese, Chinese\n",
      "business num Id: 1430 business id: HTkY1GABYTivk-DKWyrlEw business name: Sansotei Ramen review counts: 325 category: Japanese\n",
      "business num Id: 2641 business id: XCxxPZ3Lu5mwmIo7IQRf1g business name: Osaka Sushi Japanese Korean Restaurant review counts: 324 category: Japanese, Korean, Sushi Bars\n",
      "business num Id: 1051 business id: CfxVkwEJk1NAqgqMSesLzA business name: KINKA IZAKAYA NORTH  YORK review counts: 316 category: Japanese, Tapas/Small Plates, Pubs\n",
      "business num Id: 2216 business id: Ro-_PAzq-Rdxl5JhM3WmoA business name: Kiu Japanese Restaurant review counts: 298 category: Japanese, Sushi Bars, Asian Fusion\n",
      "business num Id: 201 business id: 1cGgVvEbuBlW2GDvJ112vA business name: Gyubee Japanese BBQ - Markham review counts: 290 category: Japanese, Barbeque\n",
      "business num Id: 1904 business id: NuGZD3yBVqzpY1HuzT26mQ business name: Gal's Sushi review counts: 289 category: Sushi Bars, Japanese, Korean\n",
      "business num Id: 83 business id: 02BXFKzu1rgaYulNGYvi6g business name: Matsuda Japanese Cuisine review counts: 250 category: Japanese\n",
      "category: Sushi Bars\n",
      "[(2092, 595), (2641, 324), (2216, 298), (1904, 289), (513, 236), (4802, 226), (2978, 224), (978, 223), (4280, 210), (4962, 209)]\n",
      "business num Id: 2092 business id: QGTqGNLZbBA1QD8L_fO9ZA business name: Kaka All You Can Eat review counts: 595 category: Japanese, Sushi Bars\n",
      "business num Id: 2641 business id: XCxxPZ3Lu5mwmIo7IQRf1g business name: Osaka Sushi Japanese Korean Restaurant review counts: 324 category: Japanese, Korean, Sushi Bars\n",
      "business num Id: 2216 business id: Ro-_PAzq-Rdxl5JhM3WmoA business name: Kiu Japanese Restaurant review counts: 298 category: Japanese, Sushi Bars, Asian Fusion\n",
      "business num Id: 1904 business id: NuGZD3yBVqzpY1HuzT26mQ business name: Gal's Sushi review counts: 289 category: Sushi Bars, Japanese, Korean\n",
      "business num Id: 513 business id: 5fg-RNWNbqyGn8b8wqe4QQ business name: 168 Sushi Asian Buffet review counts: 236 category: Buffets, Asian Fusion, Sushi Bars\n",
      "business num Id: 4802 business id: xYeLEIWbG0IBnMGU2mWUBg business name: Chako review counts: 226 category: Asian Fusion, Korean, Sushi Bars\n",
      "business num Id: 2978 business id: aLTpnF4xG3KA5trMilgChQ business name: Ni Ji Sushi review counts: 224 category: Japanese, Sushi Bars\n",
      "business num Id: 978 business id: Bo9uuPiAsq_z02eb87N41g business name: Sushi Legend review counts: 223 category: Japanese, Sushi Bars, Asian Fusion\n",
      "business num Id: 4280 business id: qlPyuJ77Znjh30I2kTs1xQ business name: Le Cafe Michi review counts: 210 category: Sushi Bars, Japanese\n",
      "business num Id: 4962 business id: zW600wCsIlC2w5SQBNAo_w business name: Hub Sushi Fusion Japanese Restaurant review counts: 209 category: Japanese, Sushi Bars, Asian Fusion\n",
      "category: Korean\n",
      "[(3557, 391), (2641, 324), (3718, 317), (1904, 289), (4561, 275), (198, 271), (2702, 259), (4802, 226), (2085, 212), (927, 191)]\n",
      "business num Id: 3557 business id: hPXR-Bi8U-uz6TUViqmGpg business name: Fat Ninja Bite review counts: 391 category: Japanese, Burgers, Korean\n",
      "business num Id: 2641 business id: XCxxPZ3Lu5mwmIo7IQRf1g business name: Osaka Sushi Japanese Korean Restaurant review counts: 324 category: Japanese, Korean, Sushi Bars\n",
      "business num Id: 3718 business id: jCzrbfboRc3D-9_Gr0Wm9w business name: SongCook's review counts: 317 category: Korean\n",
      "business num Id: 1904 business id: NuGZD3yBVqzpY1HuzT26mQ business name: Gal's Sushi review counts: 289 category: Sushi Bars, Japanese, Korean\n",
      "business num Id: 4561 business id: uChTCA6MsLAciDRklpO-Fw business name: Makkal Chon review counts: 275 category: Korean\n",
      "business num Id: 198 business id: 1_rqZz1K5Uoq2RvZlINfgA business name: Cho Sun Ok review counts: 271 category: Korean\n",
      "business num Id: 2702 business id: XtJbDZODXi3mXHLoScGtwg business name: Piggy's Restaurant review counts: 259 category: Korean, Soup, Barbeque\n",
      "business num Id: 4802 business id: xYeLEIWbG0IBnMGU2mWUBg business name: Chako review counts: 226 category: Asian Fusion, Korean, Sushi Bars\n",
      "business num Id: 2085 business id: Q8EwiqPZiheEQH0S66THEg business name: Chako Barbeque review counts: 212 category: Korean, Japanese\n",
      "business num Id: 927 business id: B01pO_pI_8AOfEsukGNg-Q business name: 100 Percent Korean review counts: 191 category: Korean\n",
      "category: Thai\n",
      "[(24, 274), (715, 232), (2959, 219), (2082, 197), (3188, 185), (3378, 175), (4892, 129), (2071, 128), (810, 115), (1171, 114)]\n",
      "business num Id: 24 business id: -J6FVdY9pSgAdFmmalO-pQ business name: Jatujak review counts: 274 category: Food Delivery Services, Thai\n",
      "business num Id: 715 business id: 8I2XBrjf4rOEWx7pnKpVeg business name: Kub Khao Thai Eatery review counts: 232 category: Thai\n",
      "business num Id: 2959 business id: a911y0BuV1rjHXkXlFm3Ig business name: EAT BKK Thai Kitchen review counts: 219 category: Thai\n",
      "business num Id: 2082 business id: Q7oKidQDV52LEPfiwizSNQ business name: Spoon & Fork review counts: 197 category: Japanese, Thai, Sushi Bars\n",
      "business num Id: 3188 business id: cr__ihwxDQ7hyq2ZfX172Q business name: Bach Yen review counts: 185 category: Thai, Vietnamese, Juice Bars & Smoothies\n",
      "business num Id: 3378 business id: fCkfyCr1gFczZC816a9pOA business name: Spoon & Fork review counts: 175 category: Japanese, Thai\n",
      "business num Id: 4892 business id: ybbcg01-j7tKJ_oLEY1uPQ business name: Jatujak review counts: 129 category: Thai, Food Delivery Services\n",
      "business num Id: 2071 business id: Q3SdFs_6P3BPhPPywHZqBQ business name: Khmer Thai Restaurant review counts: 128 category: Thai, Cambodian\n",
      "business num Id: 810 business id: 9_CGhHMz8698M9-PkVf0CQ business name: Little Coxwell Vietnamese & Thai Cuisine review counts: 115 category: Vietnamese, Thai\n",
      "business num Id: 1171 business id: E7v9sMJx4_Swx7VtymNt5Q business name: Truly Thai Cuisine review counts: 114 category: Thai\n",
      "category: Mexican\n",
      "[(1798, 646), (3390, 263), (2566, 218), (2960, 172), (4592, 163), (1910, 151), (4191, 132), (1114, 121), (4404, 110), (2583, 108)]\n",
      "business num Id: 1798 business id: MS-hfug4QDXqb_Mws3qlzA business name: Grand Electric review counts: 646 category: Bars, Mexican\n",
      "business num Id: 3390 business id: fK1oj0dk9Bc6KsBk5mMDxg business name: Playa Cabana Cantina review counts: 263 category: Mexican\n",
      "business num Id: 2566 business id: WFB1fn8rWNukmmIfTg6AMw business name: Ay Caramba, Eh review counts: 218 category: Mexican, Latin American\n",
      "business num Id: 2960 business id: a9aW5e731lplWGHUZ02-zQ business name: Chino Locos Original review counts: 172 category: Mexican\n",
      "business num Id: 4592 business id: ufwkkMd9yr9cFU1R5ONArg business name: Huevos Gourmet review counts: 163 category: Mexican, Breakfast & Brunch\n",
      "business num Id: 1910 business id: Nz44ccUso3nq5S2OlQHNlA business name: Mexico Lindo review counts: 151 category: Mexican\n",
      "business num Id: 4191 business id: pdTYUCGkYz35utxPyUMoag business name: La Carnita review counts: 132 category: Mexican\n",
      "business num Id: 1114 business id: DXl9YviWyzAwMeUtrBPW7w business name: Barrio Cerveceria review counts: 121 category: Mexican, Bars\n",
      "business num Id: 4404 business id: sPPh1LJllyr5jUpKFTxxag business name: Asada Mexican Grill review counts: 110 category: Mexican\n",
      "business num Id: 2583 business id: WTGmtvIE1v9uEBZxiyXImQ business name: Maizal review counts: 108 category: Mexican\n",
      "category: Burgers\n",
      "[(4116, 435), (3557, 391), (4659, 264), (181, 221), (2518, 211), (2047, 195), (4737, 171), (4208, 159), (1745, 158), (1476, 155)]\n",
      "business num Id: 4116 business id: oWTn2IzrprsRkPfULtjZtQ business name: The Burger's Priest review counts: 435 category: Burgers\n",
      "business num Id: 3557 business id: hPXR-Bi8U-uz6TUViqmGpg business name: Fat Ninja Bite review counts: 391 category: Japanese, Burgers, Korean\n",
      "business num Id: 4659 business id: vazCBq6DH9LnCQ3cH7E4Og business name: Fresh Burger review counts: 264 category: Burgers\n",
      "business num Id: 181 business id: 1SknhuCmaR0PIIjQY3e6eg business name: Burger's Priest review counts: 221 category: Burgers\n",
      "business num Id: 2518 business id: Vg4N2DsGrzzoam9jS1L3Wg business name: Johnny's Hamburgers review counts: 211 category: Burgers\n",
      "business num Id: 2047 business id: Pprj3lMHpSm_Q1Lw_j4xdQ business name: Woody's Burger Bar and Grill review counts: 195 category: Burgers, Bars\n",
      "business num Id: 4737 business id: wfCNNMkeJcpWr9jj1hcdAA business name: Black Bear Japanese Fusion review counts: 171 category: Japanese, Asian Fusion, Burgers\n",
      "business num Id: 4208 business id: prlIJsg3UEg3DioOZPFhig business name: The Burger's Priest review counts: 159 category: Burgers\n",
      "business num Id: 1745 business id: L_thK7r3K_h5M4tV7amEKQ business name: Honey B Hives Restaurant review counts: 158 category: Breakfast & Brunch, Burgers, Coffee & Tea\n",
      "business num Id: 1476 business id: I9dtHZMPnhgatLqni6EJrA business name: Wahlburgers review counts: 155 category: Burgers, American (Traditional)\n",
      "category: Seafood\n",
      "[(2941, 692), (4762, 613), (1622, 357), (469, 263), (1473, 247), (3311, 222), (352, 219), (1931, 187), (1731, 173), (797, 161)]\n",
      "business num Id: 2941 business id: _xAJZOKBMPOe47p1MphB2w business name: Fishman Lobster Clubhouse Restaurant review counts: 692 category: Chinese, Seafood\n",
      "business num Id: 4762 business id: wxL9wgxLeuMMfI6SAXIzJw business name: Smash Kitchen & Bar review counts: 613 category: Comfort Food, American (Traditional), Seafood\n",
      "business num Id: 1622 business id: K1nwSvx14on6eVBbu5E9rA business name: Good Catch Boil House review counts: 357 category: Cajun/Creole, Seafood, Asian Fusion\n",
      "business num Id: 469 business id: 59c3Cp-p5i18xFCKUuCkFQ business name: La Vecchia Ristorante review counts: 263 category: Italian, Seafood, Venues & Event Spaces\n",
      "business num Id: 1473 business id: I6oxEn1HT41S2GPrDKPPvA business name: Perfect Chinese Restaurant review counts: 247 category: Dim Sum, Seafood\n",
      "business num Id: 3311 business id: eNFubUPJR7yIQah-NxZN_g business name: Yu Seafood review counts: 222 category: Seafood, Dim Sum\n"
     ]
    },
    {
     "name": "stdout",
     "output_type": "stream",
     "text": [
      "business num Id: 352 business id: 3gdjVkNeUa9piW9H708Aig business name: The Olde Yorke review counts: 219 category: Seafood, Fish & Chips, British\n",
      "business num Id: 1931 business id: OBG1j517k7aZRNC1HAL0TA business name: Fabbrica review counts: 187 category: Italian, Seafood, Pizza\n",
      "business num Id: 1731 business id: LPCFfrQow0kl7EABuM7VDA business name: Inatei Japanese Cuisine review counts: 173 category: Japanese, Sushi Bars, Seafood\n",
      "business num Id: 797 business id: 9Oc8UhYNarSisYM9SEBsKQ business name: Chop Steakhouse & Bar review counts: 161 category: Steakhouses, Seafood, Lounges\n"
     ]
    }
   ],
   "source": [
    "#Select restaurants for initialization \n",
    "selectCatList = ['Chinese', 'Breakfast & Brunch', 'Italian', 'Japanese', 'Sushi Bars', 'Korean', 'Thai',\\\n",
    "                 'Mexican', 'Burgers', 'Seafood']\n",
    "\n",
    "catResDict = {}\n",
    "allbusNumId = [i for i in range(len(ID_dictionary_load))]\n",
    "outOfRange = list(set(allbusNumId) - set(listOfBusiness))\n",
    "\n",
    "for category in selectCatList:\n",
    "    #find category id\n",
    "    catId = IC_dictionary[category]\n",
    "    #get the list of the businesses within this category, not in the selected intersections\n",
    "    businessIndexList = [catInd for catInd in I_C_matrix[:,catId].nonzero()[0]]\n",
    "    businessIndexList = list(set(businessIndexList).intersection(outOfRange))\n",
    "    #Store all matching restaurants and their review count in this categories' corresponding dict\n",
    "    candidateDict = {}\n",
    "    for busId in businessIndexList:\n",
    "        candidateDict[busId] = df[df['business_num_id'] == busId].review_count_y.unique()[0]\n",
    "    \n",
    "    catResDict[category] = candidateDict\n",
    "\n",
    "\n",
    "for category in catResDict.keys():\n",
    "    businessReviewDict = catResDict[category]\n",
    "    sorted_businessReview = sorted(businessReviewDict.items(), key=lambda kv: kv[1], reverse=True)[:10]\n",
    "    print('category:', category)\n",
    "    print(sorted_businessReview)\n",
    "    for busID, reviewCount in sorted_businessReview:\n",
    "        businessId = df[df['business_num_id']==busID].business_id.unique()[0]\n",
    "        businessName = df[df['business_num_id']==busID].name.unique()[0]\n",
    "        categorys = df[df['business_num_id']==busID].categories.unique()[0]\n",
    "        print('business num Id:', busID, 'business id:',businessId, 'business name:', businessName,\\\n",
    "              'review counts:', reviewCount, 'category:', categorys)"
   ]
  },
  {
   "cell_type": "markdown",
   "metadata": {},
   "source": [
    "## API initialization"
   ]
  },
  {
   "cell_type": "code",
   "execution_count": 35,
   "metadata": {
    "scrolled": true
   },
   "outputs": [
    {
     "name": "stdout",
     "output_type": "stream",
     "text": [
      " * Serving Flask app \"__main__\" (lazy loading)\n",
      " * Environment: production\n",
      "   WARNING: This is a development server. Do not use it in a production deployment.\n",
      "   Use a production WSGI server instead.\n",
      " * Debug mode: off\n"
     ]
    },
    {
     "name": "stderr",
     "output_type": "stream",
     "text": [
      " * Running on http://127.0.0.1:5002/ (Press CTRL+C to quit)\n",
      "127.0.0.1 - - [05/Mar/2020 18:07:46] \"\u001b[37mPOST /initialization HTTP/1.1\u001b[0m\" 200 -\n"
     ]
    },
    {
     "name": "stdout",
     "output_type": "stream",
     "text": [
      "idDictionary_spadinadundas.json\n"
     ]
    },
    {
     "name": "stderr",
     "output_type": "stream",
     "text": [
      "  2%|▏         | 78/4997 [00:00<00:06, 777.34it/s]"
     ]
    },
    {
     "name": "stdout",
     "output_type": "stream",
     "text": [
      "  (0, 2222)\t5\n",
      "  (0, 2979)\t5\n",
      "  (0, 3366)\t5\n",
      "  (0, 4334)\t5\n",
      "  (0, 4975)\t5\n"
     ]
    },
    {
     "name": "stderr",
     "output_type": "stream",
     "text": [
      "100%|██████████| 4997/4997 [00:05<00:00, 835.34it/s]\n",
      "127.0.0.1 - - [05/Mar/2020 18:08:18] \"\u001b[37mPUT /initialization HTTP/1.1\u001b[0m\" 200 -\n",
      "127.0.0.1 - - [05/Mar/2020 18:08:26] \"\u001b[37mGET /business HTTP/1.1\u001b[0m\" 200 -\n"
     ]
    },
    {
     "name": "stdout",
     "output_type": "stream",
     "text": [
      "Input data: {'feature': 'cuisine', 'positiveOrNegative': 'negative', 'critiqueValue': 'Bars'}\n",
      "Saving negatively critiqued cuisine type: Bars , cuisine index:  190\n",
      "Saving critiqued items at index:  [57, 176, 228, 345, 439] ...\n"
     ]
    },
    {
     "name": "stderr",
     "output_type": "stream",
     "text": [
      "127.0.0.1 - - [05/Mar/2020 18:08:39] \"\u001b[37mPUT /business HTTP/1.1\u001b[0m\" 201 -\n"
     ]
    },
    {
     "name": "stdout",
     "output_type": "stream",
     "text": [
      "elapsed time: 0.79 s\n",
      "Input data: {'feature': 'cuisine', 'positiveOrNegative': 'negative', 'critiqueValue': 'Sports Bars'}\n",
      "Saving negatively critiqued cuisine type: Sports Bars , cuisine index:  165\n",
      "Saving critiqued items at index:  [65, 120, 189, 213, 245] ...\n"
     ]
    },
    {
     "name": "stderr",
     "output_type": "stream",
     "text": [
      "127.0.0.1 - - [05/Mar/2020 18:09:08] \"\u001b[37mPUT /business HTTP/1.1\u001b[0m\" 201 -\n"
     ]
    },
    {
     "name": "stdout",
     "output_type": "stream",
     "text": [
      "elapsed time: 0.77 s\n",
      "Input data: {'feature': 'cuisine', 'positiveOrNegative': 'negative', 'critiqueValue': 'Coffee & Tea'}\n",
      "Saving negatively critiqued cuisine type: Coffee & Tea , cuisine index:  45\n",
      "Saving critiqued items at index:  [6, 12, 33, 38, 55] ...\n"
     ]
    },
    {
     "name": "stderr",
     "output_type": "stream",
     "text": [
      "127.0.0.1 - - [05/Mar/2020 18:09:20] \"\u001b[37mPUT /business HTTP/1.1\u001b[0m\" 201 -\n"
     ]
    },
    {
     "name": "stdout",
     "output_type": "stream",
     "text": [
      "elapsed time: 0.8 s\n",
      "Input data: {'feature': 'distance', 'positiveOrNegative': ['positive'], 'critiqueValue': ['closer']}\n",
      "Critiquing distance >= 1.4\n"
     ]
    },
    {
     "name": "stderr",
     "output_type": "stream",
     "text": [
      "127.0.0.1 - - [05/Mar/2020 18:09:37] \"\u001b[37mPUT /business HTTP/1.1\u001b[0m\" 201 -\n"
     ]
    },
    {
     "name": "stdout",
     "output_type": "stream",
     "text": [
      "elapsed time: 1.81 s\n"
     ]
    },
    {
     "name": "stderr",
     "output_type": "stream",
     "text": [
      "127.0.0.1 - - [05/Mar/2020 18:09:46] \"\u001b[37mPUT /business HTTP/1.1\u001b[0m\" 201 -\n"
     ]
    },
    {
     "name": "stdout",
     "output_type": "stream",
     "text": [
      "Input data: {'feature': 'cuisine', 'positiveOrNegative': 'negative', 'critiqueValue': 'Hungarian'}\n",
      "Saving negatively critiqued cuisine type: Hungarian , cuisine index:  95\n",
      "Saving critiqued items at index:  [271, 400, 1149, 2057, 3870] ...\n",
      "elapsed time: 0.09 s\n"
     ]
    },
    {
     "name": "stderr",
     "output_type": "stream",
     "text": [
      "127.0.0.1 - - [05/Mar/2020 18:09:56] \"\u001b[37mPUT /business HTTP/1.1\u001b[0m\" 201 -\n"
     ]
    },
    {
     "name": "stdout",
     "output_type": "stream",
     "text": [
      "Input data: {'feature': 'cuisine', 'positiveOrNegative': 'positive', 'critiqueValue': 'Chinese'}\n",
      "matching list: [644, 263, 265, 1034, 2699, 1161, 4114, 148, 1813, 1174]\n",
      "elapsed time: 0.01 s\n"
     ]
    },
    {
     "name": "stderr",
     "output_type": "stream",
     "text": [
      "127.0.0.1 - - [05/Mar/2020 18:10:10] \"\u001b[37mPUT /business HTTP/1.1\u001b[0m\" 201 -\n"
     ]
    },
    {
     "name": "stdout",
     "output_type": "stream",
     "text": [
      "Input data: {'feature': 'rating', 'positiveOrNegative': 'positive', 'critiqueValue': 'Current_rating'}\n",
      "critiquing restaurants at rating rangeing at: [0.0, 0.5, 2.0, 1.0, 1.5, 2.5, 3.0]\n",
      "Saving critiqued items at index:  [1039, 476, 4731, 1752, 253] ...\n",
      "elapsed time: 0.04 s\n"
     ]
    },
    {
     "name": "stderr",
     "output_type": "stream",
     "text": [
      "127.0.0.1 - - [05/Mar/2020 18:11:03] \"\u001b[37mPUT /business HTTP/1.1\u001b[0m\" 201 -\n"
     ]
    },
    {
     "name": "stdout",
     "output_type": "stream",
     "text": [
      "Input data: {'feature': 'rating', 'positiveOrNegative': 'positive', 'critiqueValue': 'Current_rating'}\n",
      "critiquing restaurants at rating rangeing at: [0.0, 0.5, 2.0, 1.0, 1.5, 2.5, 3.0, 3.5]\n",
      "Saving critiqued items at index:  [4103, 1390, 1039, 476, 1271] ...\n",
      "elapsed time: 0.01 s\n"
     ]
    },
    {
     "name": "stderr",
     "output_type": "stream",
     "text": [
      "127.0.0.1 - - [05/Mar/2020 18:13:23] \"\u001b[37mPUT /business HTTP/1.1\u001b[0m\" 201 -\n"
     ]
    },
    {
     "name": "stdout",
     "output_type": "stream",
     "text": [
      "Input data: {'feature': 'rating', 'positiveOrNegative': 'positive', 'critiqueValue': 'Current_rating'}\n",
      "critiquing restaurants at rating rangeing at: [0.0, 0.5, 2.0, 1.0, 1.5, 2.5, 3.0, 3.5, 4.0]\n",
      "Exhausted recommendation list, no matching restaurant after current critique\n",
      "elapsed time: 0.03 s\n"
     ]
    },
    {
     "name": "stderr",
     "output_type": "stream",
     "text": [
      "127.0.0.1 - - [05/Mar/2020 18:14:06] \"\u001b[37mPUT /business HTTP/1.1\u001b[0m\" 201 -\n"
     ]
    },
    {
     "name": "stdout",
     "output_type": "stream",
     "text": [
      "Input data: {'feature': 'cuisine', 'positiveOrNegative': 'negative', 'critiqueValue': 'Vegetarian'}\n",
      "Saving negatively critiqued cuisine type: Vegetarian , cuisine index:  184\n",
      "Saving critiqued items at index:  [27, 36, 144, 239, 333] ...\n",
      "elapsed time: 0.19 s\n"
     ]
    },
    {
     "name": "stderr",
     "output_type": "stream",
     "text": [
      "127.0.0.1 - - [05/Mar/2020 18:16:50] \"\u001b[37mPOST /initialization HTTP/1.1\u001b[0m\" 200 -\n"
     ]
    },
    {
     "name": "stdout",
     "output_type": "stream",
     "text": [
      "idDictionary_dundasyonge.json\n"
     ]
    },
    {
     "name": "stderr",
     "output_type": "stream",
     "text": [
      "127.0.0.1 - - [05/Mar/2020 18:24:12] \"\u001b[37mPOST /initialization HTTP/1.1\u001b[0m\" 200 -\n"
     ]
    },
    {
     "name": "stdout",
     "output_type": "stream",
     "text": [
      "idDictionary_blooryonge.json\n"
     ]
    }
   ],
   "source": [
    "#Directly using global variables is fine, but you can only modify dictionary variables\n",
    "\n",
    "app = Flask(__name__)\n",
    "#Add resources to be much cleaner\n",
    "api = Api(app)\n",
    "\n",
    "#Initialize variable \n",
    "#Need to initialize to have only restaurants within 2.0km recommended, restaurants distance above 2.0 will be critiqued\n",
    "#critique_distance = 2.0\n",
    "\n",
    "#list of restaurant don't wanted, initialized as restaurants distance <2.0km\n",
    "#critique_Res_list = [key for (key, value) in ID_dictionary.items() if value > critique_distance] \n",
    "#critique_Price_list = []\n",
    "#ciritiqued_Rating_list = []\n",
    "#list of categories don't wanted - Accumulated \n",
    "#critique_Cat_list = []\n",
    "\n",
    "#Used to fall back, when user inputs are conflicted, modified during the critiquing process\n",
    "#critiqued_Res_AccrdName_list= []\n",
    "#critiqued_Res_AccrdCuisine_list = []\n",
    "#critiqued_Res_AccrdPrice_list = []\n",
    "#critiqued_Res_AccrdStar_list = []\n",
    "#critiqued_Res_AccrdDistance_list = [key for (key, value) in ID_dictionary.items() if value > critique_distance] \n",
    "\n",
    "#Categories that explicitly wanted, ONLY 1 FOR NOW\n",
    "#wanted_Category_index = -1\n",
    "\n",
    "#Recommendation info\n",
    "recommendIndex = 0\n",
    "\n",
    "#To be initialized\n",
    "ID_dictionary = {}\n",
    "\n",
    "#Initial user item vector for critiquing process \n",
    "#current_user_item_predict = [item for item in test_user_item_predict if item not in critique_Res_list]\n",
    "\n",
    "#Construct initial recommendation\n",
    "#recBusinessJson = constructRestaurantDict(recommendIndex, current_user_item_predict,df,ID_dictionary)\n",
    "#print(recBusinessJson)\n",
    "\n",
    "#Following dictionaries are for retrieval \n",
    "\n",
    "priceDict = {\n",
    "    1: 'inexpensive',\n",
    "    2: 'moderately priced',\n",
    "    3: 'premium priced',\n",
    "    4: 'fine dining'\n",
    "}\n",
    "#Construct constant variables dictionary\n",
    "variableDictionary = {\n",
    "    'critique_distance' : 2.0,\n",
    "    'wanted_Category_index': -1,\n",
    "    'max_distance': 169\n",
    "}\n",
    "\n",
    "#A dictionary that stores all the lists related with the critiquing process\n",
    "critiqueDictionary = {\n",
    "    'critique_Res_list': [],\n",
    "    'critique_Price_list':[],\n",
    "    'critique_Cat_list': [],\n",
    "    'ciritiqued_Rating_list':[],\n",
    "    'critiqued_Res_AccrdStar_list': [],\n",
    "    'critiqued_Res_AccrdCuisine_list':[],\n",
    "    'critiqued_Res_AccrdPrice_list':[],\n",
    "    'critiqued_Res_AccrdName_list': [],\n",
    "    'critiqued_Res_AccrdDistance_list':[],\n",
    "    'test_user_item_predict': [],\n",
    "    'current_user_item_predict': []\n",
    "    }\n",
    "\n",
    "#Storing the current recommended restaurant\n",
    "recommendResDict = {\n",
    "        'recBusinessJson': None #recBusinessJson, to be initialized\n",
    "}\n",
    "\n",
    "intersectionDict= {'yonge_and_finch': 'idDictionary_yongefinch.json',\n",
    "                   'bloor_and_bathurst': 'idDictionary_bloorbathurst.json',\n",
    "                   'queen_and_spadina': 'idDictionary_queenspadina.json',\n",
    "                   'bloor_and_yonge':'idDictionary_blooryonge.json',\n",
    "                   'dundas_and_yonge': 'idDictionary_dundasyonge.json',\n",
    "                   'spadina_and_dundas': 'idDictionary_spadinadundas.json'}\n",
    "\n",
    "class ClearUp(Resource):\n",
    "    #Request for resetting user preferences \n",
    "    def get(self):\n",
    "        fallBackSetup(critiqueDictionary['critiqued_Res_AccrdName_list'], critiqueDistance=2.1)\n",
    "        return {'You are Resetting the user set up': 'Not retrieving anything for you'}\n",
    "\n",
    "class Initialize(Resource):\n",
    "    def get(self):\n",
    "        return {'You are calling a GET for set up:': 'Not retrieving anything for you'}\n",
    "    \n",
    "        #Post intersection {'init_key': intersection_name}\n",
    "    def post(self):\n",
    "        global ID_dictionary \n",
    "        global critiqueDictionary\n",
    "        \n",
    "        request_json  = request.get_json()\n",
    "\n",
    "        intersectionString = request_json.get('init_key','none')\n",
    "        filePath = \"\"\n",
    "        #find intersection name, load ID_dictionary\n",
    "        for intersection in intersectionDict:\n",
    "            if intersectionString == intersection:\n",
    "                filePath = intersectionDict[intersection]\n",
    "            \n",
    "        if not filePath:\n",
    "            return {'request': request_json,\n",
    "                   'message': 'you need to pass in valid intersection names'}\n",
    "        \n",
    "        #Create ID_dictionary \n",
    "        print(filePath)\n",
    "        load_dict = loadDict(data_dir, filePath)\n",
    "        load_dict = {int(old_key): val for old_key, val in load_dict.items()}\n",
    "        ID_dictionary = load_dict.copy()\n",
    "        \n",
    "        #get_ID_dictionary(df,list(set(df['business_num_id'])),intersection).copy() \n",
    "        \n",
    "        \n",
    "        variableDictionary['maxDistance'] = max(ID_dictionary, key=ID_dictionary.get)\n",
    "        #create initial critique restaurant list\n",
    "        critique_Res_list = [key for (key, value) in ID_dictionary.items() if value > variableDictionary['critique_distance']] \n",
    "        critiqued_Res_AccrdDistance_list = critique_Res_list.copy()\n",
    "        critiqueDictionary['critique_Res_list'] = critique_Res_list.copy()\n",
    "        critiqueDictionary['critiqued_Res_AccrdDistance_list'] = critiqued_Res_AccrdDistance_list.copy()\n",
    "        \n",
    "        return {'You are calling a POST for set up, intersection point:': intersectionString}\n",
    "    \n",
    "    #Put user initial preferences to initialize the initial user recommendation \n",
    "    #Produces test_user_item_predict, computes the recommendation results for the new user \n",
    "    #request json {init_key: [business id list]}\n",
    "    def put(self):\n",
    "        global ID_dictionary \n",
    "        global critiqueDictionary\n",
    "        \n",
    "        request_json  = request.get_json()\n",
    "        \n",
    "        UserInitialResponse = {}\n",
    "        \n",
    "        #Get a list of business ids \n",
    "        businessIds = request_json.get('init_key','none')\n",
    "        \n",
    "        #Construct dictionary \n",
    "        for businessId in businessIds:\n",
    "            UserInitialResponse[businessId] = 5\n",
    "        \n",
    "        #Construct the user item rating vector \n",
    "        userSetUpVector = constructUserItemVector(UserInitialResponse)\n",
    "        #Get item recommendation for user \n",
    "        user_item_prediction_score = predict(userSetUpVector, 110, IK_similarity, item_similarity_en= True)[0]\n",
    "        user_item_predict = prediction_oneHotEncode(user_item_prediction_score, userSetUpVector)\n",
    "        #Get the user item prediction, put into dictionary \n",
    "        test_user_item_predict = list(user_item_predict[0])\n",
    "        critiqueDictionary['test_user_item_predict'] = test_user_item_predict.copy()\n",
    "        \n",
    "        #Creates the rest -- waiting for put method to initialize user \n",
    "        current_user_item_predict = list(set(critiqueDictionary['test_user_item_predict']) - set(critiqueDictionary['critique_Res_list']))\n",
    "        \n",
    "        critiqueDictionary['current_user_item_predict'] = current_user_item_predict.copy()\n",
    "        \n",
    "        recBusinessJson = constructRestaurantDict(0, critiqueDictionary['current_user_item_predict']\\\n",
    "                                                  ,df,ID_dictionary)\n",
    "                                \n",
    "        recommendResDict['recBusinessJson'] = recBusinessJson\n",
    "        \n",
    "        return {'You are calling a PUT for set up, the user initialization you sent:': request_json}\n",
    "    \n",
    "class Business(Resource):\n",
    "\n",
    "    def __init__(self):\n",
    "        self.critique_Price_list = []\n",
    "        self.countVar = 0\n",
    "    \n",
    "    def get(self):\n",
    "        #return {'business name': data[0]['name']} # Fetches first column that is Employee ID\n",
    "        return recommendResDict['recBusinessJson']\n",
    "    \n",
    "    def post(self):\n",
    "        some_json  = request.get_json()\n",
    "        #put json object for the critiquing process \n",
    "        #Return newly computed object \n",
    "        return {'You sent': some_json}, 201\n",
    "    def put(self):\n",
    "        start_time = time.time()\n",
    "        \n",
    "        #Get the request json\n",
    "        request_json  = request.get_json()\n",
    "        print('Input data:', request_json)\n",
    "        \n",
    "        #put json object for the critiquing process \n",
    "        critique_feature = request_json.get('feature', 'none')\n",
    "        critique_posNeg = request_json.get('positiveOrNegative', 'none')\n",
    "        critique_value = request_json.get('critiqueValue', 'none')\n",
    "        if isinstance(critique_value, list):\n",
    "            critique_value = critique_value[0]\n",
    "        \n",
    "        #Error Handling - Shouldn't trigger if json format passed in properly \n",
    "        if critique_feature == 'none':\n",
    "            print('Critique Feature cannot be recognized')\n",
    "        if critique_posNeg == 'none':\n",
    "            print('Critique positive or negative category cannot be recognized')\n",
    "        \n",
    "        #Once user send this request, critique current item \n",
    "        #tempCritiqueRestList = critiqueDictionary['critique_Res_list'].copy()\n",
    "        #tempCritiqueRestList.append(critiqueDictionary['current_user_item_predict'][recommendIndex])\n",
    "        \n",
    "        #Put back into the dictionary \n",
    "        critiqueDictionary['critique_Res_list'].append(critiqueDictionary['current_user_item_predict'][recommendIndex])\n",
    "        critiqueDictionary['critiqued_Res_AccrdName_list'].append(critiqueDictionary['current_user_item_predict'][recommendIndex])\n",
    "        \n",
    "        \n",
    "        #initialize additional text to be passed back\n",
    "        additionalText = ''\n",
    "        critiqueText = ''\n",
    "        \n",
    "        #temporary updated recommendation list\n",
    "        tempRecommendList = []\n",
    "        \n",
    "        #Scenario 1 - Critique Restaurant name \n",
    "        if 'name' in critique_feature:\n",
    "            \n",
    "            print(\"Saving critiqued item: \", critiqueDictionary['current_user_item_predict'][recommendIndex])      \n",
    "            \n",
    "            critiqueText = \"Critiquing the current displayed item...\"\n",
    "            \n",
    "            #update critiqued restaurant list according to name\n",
    "            #critiqueDictionary['critiqued_Res_AccrdName_list'] = updateList(critiqueDictionary['critiqued_Res_AccrdName_list'], \\\n",
    "            #                                                                critiqueDictionary['current_user_item_predict'][recommendIndex])\n",
    "            \n",
    "            critiqueDictionary['current_user_item_predict'] = critiqueDictionary['current_user_item_predict'][recommendIndex+1 :]\n",
    "            \n",
    "        #Scenario 2 - Negatively critique restaurant features \n",
    "        if ('cuisine' in critique_feature) and ('negative' in critique_posNeg):\n",
    "            \n",
    "            #Get current recommended restaurant cuisine type\n",
    "            currentCuisineType = recommendResDict['recBusinessJson']['cuisine'].split(',')\n",
    "            \n",
    "            #Find the correct category name the user want to critique in current recommended item categories\n",
    "            critiqueValue = [cuisine.strip() for cuisine in currentCuisineType if critique_value.strip().lower() in cuisine.lower()][0]\n",
    "            \n",
    "            #Retrieve critiquing category index\n",
    "            critiquied_Cat_Index = IC_dictionary[critiqueValue]\n",
    "            print('Saving negatively critiqued cuisine type:', critique_value, ', cuisine index: ', critiquied_Cat_Index)\n",
    "            \n",
    "            critiqueText = \"Critiquing the cuisine type: %s ...\" %critiqueValue\n",
    "            \n",
    "            #Save the newly critiqued cuisine type\n",
    "            critiqueDictionary['critique_Cat_list'] = critiqueDictionary['critique_Cat_list'] + [critiquied_Cat_Index]\n",
    "            \n",
    "            #Handling extreme case - critique categories previously requested \n",
    "            if critiquied_Cat_Index == variableDictionary['wanted_Category_index']:\n",
    "                #Reset wanted category index\n",
    "                variableDictionary['wanted_Category_index'] = -1\n",
    "                print('You are critiquing a cuisine type you previously requested\\n Fall back to initial preference')\n",
    "                additionalText = additionalText + '|You are critiquing a cuisine type you previously requested'\n",
    "                \n",
    "                #Restting the prediction list -.-? \n",
    "                critiqueDictionary['current_user_item_predict'] = \\\n",
    "                                        list(set(critiqueDictionary['test_user_item_predict']) \\\n",
    "                                             - set(critiqueDictionary['critique_Res_list']))\n",
    "\n",
    "            #Find list of restaurants to filter out \n",
    "            critiquedItemsList = list(I_C_matrix.getcol(critiquied_Cat_Index).nonzero()[0])\n",
    "            \n",
    "            #Updating the critiqued items to list\n",
    "            print('Saving critiqued items at index: ', critiquedItemsList[:5], '...')\n",
    "            templist = critiqueDictionary['critique_Res_list'].copy()\n",
    "            templist.extend(list(critiquedItemsList))\n",
    "            \n",
    "            #temporary updated recommend list \n",
    "            tempRecommendList = [item for item in critiqueDictionary['current_user_item_predict']\\\n",
    "                                          if item not in templist]\n",
    "            \n",
    "            #Check if exhausted list, if so clear out all restaurants \n",
    "            if exhaustFallBack(tempRecommendList):\n",
    "                additionalText = additionalText +'| Could not retrieve restaurants matching current preferences, resetting all preferences'\n",
    "                print('--FALLING BACK TO INITIAL PREFERENCE--')\n",
    "                fallBackSetup(critiqued_Res_AccrdName_list=critiqueDictionary['critiqued_Res_AccrdName_list'], \\\n",
    "                              critiqueDistance=2.0)\n",
    "            else:\n",
    "                #Update critique restaurant list \n",
    "                critiqueDictionary['critique_Res_list'] = list(set(templist))\n",
    "\n",
    "                #Update the list of restaurants critiqued by cuisin type\n",
    "                templist = critiqueDictionary.get('critiqued_Res_AccrdCuisine_list',[]).copy()\n",
    "                templist.extend(critiquedItemsList)\n",
    "                critiqueDictionary['critiqued_Res_AccrdCuisine_list'] = list(set(templist))\n",
    "\n",
    "                #Filter out critiqued items, sequence must remain the same, update current valid set \n",
    "                critiqueDictionary['current_user_item_predict'] = tempRecommendList.copy()\n",
    "\n",
    "        \n",
    "        #Scenario 3 - Positively critique restaurant cuisine type \n",
    "        if 'cuisine' in critique_feature and 'positive' in critique_posNeg:\n",
    "            \n",
    "            critiqueText = \"Remembering cuisine preference: %s ...\" %critique_value\n",
    "            \n",
    "            #Find the correct category within all the categories list - assuming exact word typed in \n",
    "            \"\"\"Add ERROR HANDLING HERE\"\"\"\n",
    "            positiveCritiquiCategory = [cuisine for cuisine in categoryList if \\\n",
    "                                        critique_value.strip().lower() in cuisine.lower()][0]\n",
    "            \n",
    "            #Retrieve cuisine type index, 1 number  \n",
    "            positiveCritiquiedIndex = IC_dictionary[positiveCritiquiCategory]\n",
    "\n",
    "            #Get the preferred category index, replace existing ones\n",
    "            variableDictionary['wanted_Category_index'] = positiveCritiquiedIndex\n",
    "\n",
    "            #Retrieve items/restaurants matching item category \n",
    "            matchedResList = list(I_C_matrix.getcol(positiveCritiquiedIndex).nonzero()[0])\n",
    "            matchedResList = list(set(matchedResList) - set(critiqueDictionary['critique_Res_list']))\n",
    "            print('matching list:', matchedResList[:10])\n",
    "            \n",
    "            #Check if user have previously critiqued - remove it \n",
    "            if positiveCritiquiedIndex in critiqueDictionary['critique_Cat_list']:\n",
    "                addtionalText += 'You have previously critiqued the cuisine type, now adding back'\n",
    "                templist = critiqueDictionary['critique_Cat_list']\n",
    "                templist.remove(positiveCritiquiedIndex)\n",
    "                critiqueDictionary['critique_Cat_list'] = templist\n",
    "\n",
    "                #Update critiqued restaurant list according to cuisine type \n",
    "                templist = critiqueDictionary['critiqued_Res_AccrdCuisine_list']\n",
    "                templist.remove(matchedResList)\n",
    "                critiqueDictionary['critiqued_Res_AccrdCuisine_list'] = templist\n",
    "\n",
    "                #UPDATE CRITIQUE RESTAURANT LIST \n",
    "                #In the matched restuarnt list and not critiqued under other criteria will be withdrawn from this list\n",
    "                critiqueDictionary['critique_Res_list'] = [item for item in critiqueDictionary['test_user_item_predict']\\\n",
    "                                                           if item not in matchedResList or \\\n",
    "                                    item in list(set(critiqueDictionary['critiqued_Res_AccrdName_list']+ \\\n",
    "                                                     critiqueDictionary['critiqued_Res_AccrdCuisine_list']+\\\n",
    "                                                     critiqueDictionary['critiqued_Res_AccrdStar_list']+ \\\n",
    "                                                     critiqueDictionary['critiqued_Res_AccrdDistance_list']))]\n",
    "            \n",
    "            tempRecommendList = list(set(matchedResList) - set(critiqueDictionary['critique_Res_list']))\n",
    "            \n",
    "            #Check if exhausted recommendation list \n",
    "            if exhaustFallBack(tempRecommendList):\n",
    "                additionalText = additionalText +'No restaurants match current user preference, disgarding preference for current iteration...'\n",
    "            else:    \n",
    "                #Update current valid set, make sure not in critiqued restaurant set \n",
    "                critiqueDictionary['current_user_item_predict'] = tempRecommendList.copy()\n",
    "            \n",
    "        #Scenario 4 - Negative critique restuarant price e.g. \"I don't want expensive restaurants\" OR positive \"I want cheaper\"\n",
    "        #Scenario 5 - Positively critique restaurant price, \"I want fine dining\", wanting more expensive restaurant \n",
    "        if 'price' in critique_feature:\n",
    "            \n",
    "            #Get current price label range in 1 - 4\n",
    "            currentPriceLabel = IP_dictionary[critiqueDictionary['current_user_item_predict'][recommendIndex]]\n",
    "            \n",
    "            #Get critique_price_list first\n",
    "            templist = critiqueDictionary.get('critique_Price_list', []).copy()\n",
    "            \n",
    "            #Change critique value to default cheaper option \n",
    "            if critique_posNeg == 'negative':\n",
    "                critique_value = 'cheaper'\n",
    "            \n",
    "            #Update critiqued price list\n",
    "            if 'positive' in critique_posNeg and critique_value == 'more expensive':\n",
    "                templist.extend([price for price in range(1,currentPriceLabel+1,1)])\n",
    "                \n",
    "            #Negative or positive, cheaper     \n",
    "            else:     \n",
    "                templist.extend([price for price in range(currentPriceLabel,5,1)])\n",
    "            \n",
    "            #update critiqued_price_list by puting it back to the dictionary\n",
    "            critiqueDictionary['critique_Price_list'] = list(set(templist))\n",
    "\n",
    "            #Check if critiqued all price range, if critiqued all price range \n",
    "            if len(critiqueDictionary['critique_Price_list']) == 4:\n",
    "                \n",
    "                #Cases where users intentionally exhaust the price list\n",
    "                if currentPriceLabel==4 and critique_value == 'more expensive':\n",
    "                    print('You have critiqued all price range, showing the most expensive options')\n",
    "                    critiqueDictionary['critique_Price_list'] = [1,2,3]\n",
    "                    #Send feedback to front end\n",
    "                    additionalText = 'Showing the finest restaurant options'\n",
    "                elif currentPriceLabel==1 and critique_value == 'cheaper':\n",
    "                    print('You have critiqued all price range, showing the cheapest option')\n",
    "                    critiqueDictionary['critique_Price_list'] = [2,3,4] \n",
    "                    additionalText = 'Showing the cheapest restaurant options'\n",
    "                #Cases where users have seen all prices, and modify price preference\n",
    "                elif 'positive' in critique_posNeg and critique_value == 'more expensive':\n",
    "                    critiqueDictionary['critique_Price_list'] = [price for price in range(1,currentPriceLabel+1,1)]\n",
    "                #Negative or positive, cheaper     \n",
    "                else:     \n",
    "                    critiqueDictionary['critique_Price_list']=[price for price in range(currentPriceLabel,5,1)]\n",
    "                \n",
    "                \n",
    "                #Clear the previous critiqued restuarants based on price out of critiqued restuarant list \n",
    "                critiqueDictionary['critique_Res_list'] = [item for item in critiqueDictionary['test_user_item_predict'] if\\\n",
    "                                    item in list(set(critiqueDictionary['critiqued_Res_AccrdName_list'] + \\\n",
    "                                                     critiqueDictionary['critiqued_Res_AccrdCuisine_list']+\\\n",
    "                                                     critiqueDictionary['critiqued_Res_AccrdStar_list'] + \\\n",
    "                                                     critiqueDictionary['critiqued_Res_AccrdDistance_list']))]\n",
    "\n",
    "                #Clear out the restuarants critiquied by price \n",
    "                critiqueDictionary['critiqued_Res_AccrdPrice_list'] = []\n",
    "                     \n",
    "            print('Critiqing price at range:', [priceDict[label] for label in critiqueDictionary['critique_Price_list']])\n",
    "            \n",
    "                  \n",
    "            #Set message for front end\n",
    "            critiqueText = 'Finding restaurants that are: ' \n",
    "                  \n",
    "            tempPriceList = [1,2,3,4]\n",
    "                  \n",
    "            critiqueText += \",\".join([priceDict[label] for label in list(set(tempPriceList) - set(critiqueDictionary['critique_Price_list']))])\n",
    "            \n",
    "            #Find the list of restaurants to critique \n",
    "            listCritiqueRestaurant = [key for (key, value) in IP_dictionary.items() if \\\n",
    "                                       value in critiqueDictionary['critique_Price_list']]\n",
    "            \n",
    "            #find temporary updated critique list    \n",
    "            tempCritiqueList = updateExtendList(critiqueDictionary['critique_Res_list'], listCritiqueRestaurant)\n",
    "            \n",
    "            tempRecommendList = list(set(critiqueDictionary['current_user_item_predict']) - set(tempCritiqueList))\n",
    "            \n",
    "            #CHECK IF EXHAUSTED, if so clear out all restaurants \n",
    "            if exhaustFallBack(tempRecommendList):\n",
    "                additionalText = additionalText +'No restaurants match current user preference, disgarding preference for current iteration...'\n",
    "            \n",
    "            else:\n",
    "                #Update the critiqued restaurant list\n",
    "                critiqueDictionary['critique_Res_list'] = tempCritiqueList.copy()\n",
    "\n",
    "                #Record the list of restaurants critiqued so far based on price \n",
    "                critiqueDictionary['critiqued_Res_AccrdPrice_list'] = updateExtendList(critiqueDictionary['critiqued_Res_AccrdPrice_list'], \\\n",
    "                                                           listCritiqueRestaurant)\n",
    "                \n",
    "                #Updating the critiqued items to list\n",
    "                print('Saving critiqued items at index: ', listCritiqueRestaurant[:5], '...')\n",
    "\n",
    "                ##Update current valid set , filter out critiqued items, sequence must remain the same\n",
    "                critiqueDictionary['current_user_item_predict'] = tempRecommendList.copy()\n",
    "                \n",
    "        #Scenario 6 negatively critique rating & positively critique rating: both goes up \n",
    "        #\"I don't want ratings this low?\" \"I don't want restuarants with rating below XXX\" \"I want restaurants with rating above XXX\"\n",
    "        #I will critique the ratings below the current rating or specific rating \n",
    "        if 'rating' in critique_feature:\n",
    "            currentRating = float(recommendResDict['recBusinessJson']['rating'])\n",
    "            \n",
    "            if critique_value.lower() == 'current_rating':\n",
    "                critique_value = currentRating\n",
    "        \n",
    "            #Critiquing the restaurants that has ratings equal and below this restaurant \n",
    "            critiqueRes = [rating/10 for rating in range(0,int(float(critique_value)*10)+1,5)]\n",
    "            critiqueDictionary['ciritiqued_Rating_list'] = updateExtendList(critiqueDictionary['ciritiqued_Rating_list'], \\\n",
    "                                                                           critiqueRes)\n",
    "            #If critiqued all price\n",
    "            if critiqueDictionary['ciritiqued_Rating_list'] == [price/10 for price in range(0,51,5)]:\n",
    "                print('exhausted list, no better restaurants, recommending the finest restaurants')\n",
    "                additionalText += '|Exhausted list, no better restaurants, recommending restaurants beyond current rating'\n",
    "\n",
    "                #reset critiqued restaurant list \n",
    "                critiqueDictionary['critique_Res_list'] = [item for item in critiqueDictionary['test_user_item_predict'] if\\\n",
    "                                    item in list(set(critiqueDictionary['critiqued_Res_AccrdName_list']+\\\n",
    "                                                     critiqueDictionary['critiqued_Res_AccrdCuisine_list']+\\\n",
    "                                                     critiqueDictionary['critiqued_Res_AccrdPrice_list']+\\\n",
    "                                                     critiqueDictionary['critiqued_Res_AccrdDistance_list']))] \n",
    "\n",
    "                #Clear out the restuarants critiquied by rating \n",
    "                critiqueDictionary['critiqued_Res_AccrdStar_list'] = []\n",
    "                critiqueDictionary['ciritiqued_Rating_list'] = [rating/10 for rating in range(0,int(currentRating*10+1),5)]\n",
    "\n",
    "            print('critiquing restaurants at rating rangeing at:',critiqueDictionary['ciritiqued_Rating_list'])\n",
    "            #additionalText += '| critiquing restaurants at rating rangeing at:'+str(critiqueDictionary['ciritiqued_Rating_list'])\n",
    "            \n",
    "            tempRatingList = [price/10 for price in range(0,51,5)]\n",
    "            findRatingList = list(set(tempRatingList) - set(critiqueDictionary['ciritiqued_Rating_list']))\n",
    "            critiqueText = 'Finding restaurants at rating in range: %s ~ %s' % \\\n",
    "                                                                (str(min(findRatingList)),\\\n",
    "                                                                str(max(findRatingList)))\n",
    "            \n",
    "            \n",
    "            #Get the list of restaurants to critique\n",
    "            listCritiqueRes = [key  for (key, value) in IS_dictionary.items() if \\\n",
    "                               value in critiqueDictionary['ciritiqued_Rating_list']]\n",
    "            \n",
    "            #CHECK EXHAUSTED - Check to see if user critique exhausts the recommendation list\n",
    "            #Take a temporary list as updated critiquing list \n",
    "            tempCritiqueList = updateExtendList(critiqueDictionary['critique_Res_list'], listCritiqueRes)\n",
    "            \n",
    "            #Take a temporary list as updated recommendation list \n",
    "            tempRecommendList = list(set(critiqueDictionary['current_user_item_predict']) - set(tempCritiqueList))\n",
    "            \n",
    "            #Exhausted recommendation list\n",
    "            if exhaustFallBack(tempRecommendList):\n",
    "                additionalText += '|No restaurants match current user preference, disgarding preference for current iteration...'\n",
    "            else:\n",
    "                #Updating the critiqued items to list\n",
    "                print('Saving critiqued items at index: ', listCritiqueRes[:5], '...')\n",
    "\n",
    "                #Update the critiqued restaurant list\n",
    "                critiqueDictionary['critique_Res_list'] = updateExtendList(critiqueDictionary['critique_Res_list'], listCritiqueRes)\n",
    "\n",
    "                #Record those as well\n",
    "                critiqueDictionary['critiqued_Res_AccrdStar_list'] = updateExtendList(critiqueDictionary['critiqued_Res_AccrdStar_list'], \\\n",
    "                                                                                      listCritiqueRes)\n",
    "                #Update current valid set \n",
    "                critiqueDictionary['current_user_item_predict'] = list(set(critiqueDictionary['current_user_item_predict']) - \\\n",
    "                                                                   set(critiqueDictionary['critique_Res_list']))\n",
    "        \n",
    "        \n",
    "        #Scenario #7 Critique on Distance, goes up or down, only say positive critiques. Want closer, further, or specific value \n",
    "        if 'distance' in critique_feature:\n",
    "            \n",
    "            #Get current distance\n",
    "            currentDistance = float(recommendResDict['recBusinessJson']['distance'].strip('km'))\n",
    "            \n",
    "            #If want further distance restaurants\n",
    "            if 'positive' in critique_posNeg and 'further' in critique_value.lower():\n",
    "                print('Critiquing distance <=', currentDistance)\n",
    "                \n",
    "                critiqueText = 'Critiquing distance closer than %s km...' % str(currentDistance)\n",
    "                \n",
    "                #New requirements for restaurants to be critiqued\n",
    "                listCritiquedRestaurant = [key for (key, value) in ID_dictionary.items() if value <= currentDistance]\n",
    "                \n",
    "            #Closer distance, critique value not empty \n",
    "            else:\n",
    "                #specifiying a distance \n",
    "                if 'positive' in critique_posNeg and not 'closer' in critique_value.lower():\n",
    "                    currentDistance = float(critique_value)\n",
    "\n",
    "                print('Critiquing distance >=', currentDistance)\n",
    "                critiqueText = 'Critiquing distance further than %s km...' % str(currentDistance)\n",
    "                \n",
    "                #New requirements for restaurants to be critiqued\n",
    "                listCritiquedRestaurant = [busId for busId in critiqueDictionary['test_user_item_predict'] if ID_dictionary[busId] >= currentDistance]\n",
    "                #listCritiquedRestaurant = [key for (key, value) in ID_dictionary.items() if value >= currentDistance]\n",
    "\n",
    "\n",
    "            #Update critique restaurant list, only keep the ones that are critiqued under other features\n",
    "            critiqueDictionary['critique_Res_list'] = [item for item in critiqueDictionary['test_user_item_predict'] if\\\n",
    "                                                      (item in list(set(listCritiquedRestaurant+\\\n",
    "                                                                        critiqueDictionary['critiqued_Res_AccrdPrice_list']+\\\n",
    "                                                                        critiqueDictionary['critiqued_Res_AccrdStar_list']+\\\n",
    "                                                                        critiqueDictionary['critiqued_Res_AccrdName_list']+\\\n",
    "                                                                        critiqueDictionary['critiqued_Res_AccrdCuisine_list'])))] \n",
    "\n",
    "            #Update list of restaurants critiqued by the restuarnt distance, entire replacement\n",
    "            critiqueDictionary['critiqued_Res_AccrdDistance_list'] = listCritiquedRestaurant\n",
    "\n",
    "            #Update initial valid restuarnt list\n",
    "            critiqueDictionary['current_user_item_predict'] = list(set(critiqueDictionary['current_user_item_predict']) -\\\n",
    "                                                            set(critiqueDictionary['critique_Res_list']))\n",
    "            \n",
    "            #[item for item in critiqueDictionary['current_user_item_predict']\\\n",
    "            #                                                   if item not in critiqueDictionary['critique_Res_list']]\n",
    "\n",
    "            #Handle case where critiqued everything, there's no restuarnt that satisfy all the critiques \n",
    "            if(len(critiqueDictionary['current_user_item_predict']) == 0):\n",
    "                print('Exhausted sytem')\n",
    "\n",
    "                #new_Distance= input('There\\'s no restaurant that matches your preference within this area, please input a new larger distance')\n",
    "                additionalText += 'No restaurants that matches your preference within this area, currently default back to 2.0km'\n",
    "                new_Distance = 2.0\n",
    "                \n",
    "                listCritiquedRestaurant = [key for (key, value) in ID_dictionary.items() if value > new_Distance]\n",
    "\n",
    "                #Restore original critiqued restaurants under distance feature \n",
    "                critiqueDictionary['critique_Res_list'] = [item for item in critiqueDictionary['test_user_item_predict'] if\\\n",
    "                                    (item in list(set(listCritiquedRestaurant + \\\n",
    "                                                      critiqueDictionary['critiqued_Res_AccrdPrice_list']+\\\n",
    "                                                      critiqueDictionary['critiqued_Res_AccrdStar_list']+\\\n",
    "                                                      critiqueDictionary['critiqued_Res_AccrdName_list']+\\\n",
    "                                                      critiqueDictionary['critiqued_Res_AccrdCuisine_list'])))]   \n",
    "                #New critiquing restuarants\n",
    "                critiqueDictionary['critiqued_Res_AccrdDistance_list'] = listCritiquedRestaurant\n",
    "\n",
    "                #Update initial valid restuarnt list\n",
    "                critiqueDictionary['current_user_item_predict'] = [item for item in critiqueDictionary['current_user_item_predict'] \\\n",
    "                                                                   if item not in critiqueDictionary['critique_Res_list']]\n",
    "        \n",
    "        #Full fall back \n",
    "        if(len(critiqueDictionary['current_user_item_predict']) ==0):\n",
    "            fallBackSetup( critiqued_Res_AccrdName_list=critiqueDictionary['critiqued_Res_AccrdName_list'], \\\n",
    "                              critiqueDistance=2.0)\n",
    "            additionalText += ' Ran out of recommendations at the end of the process, reset, filtered out seen restaurants'\n",
    "            \n",
    "            #If still no results\n",
    "            if len(critiqueDictionary['current_user_item_predict']) ==0:\n",
    "                fallBackSetup(critiqued_Res_AccrdName_list=[], \\\n",
    "                              critiqueDistance=2.0)\n",
    "                additionalText += ' Clearing EVERYTHING'\n",
    "\n",
    "        #Construct newly returning item\n",
    "        return_Json = constructRestaurantDict(recommendIndex, critiqueDictionary['current_user_item_predict'],\\\n",
    "                                              df,ID_dictionary,additionalText, critiqueText)\n",
    "\n",
    "        #Update restaurant information for the GET method\n",
    "        recommendResDict['recBusinessJson'] = return_Json.copy()\n",
    "        \n",
    "        end_time = time.time()\n",
    "        print('elapsed time:', round(end_time - start_time,2), 's')\n",
    "        #Return newly computed object \n",
    "        return {'You_sent': request_json, 'Result': return_Json}, 201\n",
    "            \n",
    "api.add_resource(Business, '/business') # Route_1\n",
    "api.add_resource(Initialize, '/initialization') #Route_2\n",
    "api.add_resource(ClearUp, '/clearup') #Route_3\n",
    "\n",
    "if __name__ == '__main__':\n",
    "     app.run(port='5002')"
   ]
  },
  {
   "cell_type": "code",
   "execution_count": null,
   "metadata": {},
   "outputs": [],
   "source": [
    "IC_dictionary.keys()"
   ]
  },
  {
   "cell_type": "code",
   "execution_count": null,
   "metadata": {},
   "outputs": [],
   "source": [
    "df[df['business_num_id']=='4481']"
   ]
  },
  {
   "cell_type": "code",
   "execution_count": null,
   "metadata": {},
   "outputs": [],
   "source": [
    "current_user_item_predict"
   ]
  },
  {
   "cell_type": "code",
   "execution_count": null,
   "metadata": {},
   "outputs": [],
   "source": [
    "merge = listCritiquedRestaurant+critiqued_Res_AccrdPrice_list+ critiqued_Res_AccrdStar_list+critiqued_Res_AccrdName_list + critiqued_Res_AccrdCuisine_list\n",
    "a = 4139\n",
    "4139 not in critiqued_Res_AccrdDistance_list or 4139 in list(set(merge))"
   ]
  },
  {
   "cell_type": "markdown",
   "metadata": {},
   "source": [
    "### Requests  Example"
   ]
  },
  {
   "cell_type": "code",
   "execution_count": null,
   "metadata": {},
   "outputs": [],
   "source": [
    "from flask import Flask\n",
    "from flask_restful import reqparse, abort, Api, Resource\n",
    "\n",
    "app = Flask(__name__)\n",
    "api = Api(app)\n",
    "\n",
    "TODOS = {\n",
    "    'todo1': {'task': 'build an API'},\n",
    "    'todo2': {'task': '?????'},\n",
    "    'todo3': {'task': 'profit!'},\n",
    "}\n",
    "\n",
    "\n",
    "def abort_if_todo_doesnt_exist(todo_id):\n",
    "    if todo_id not in TODOS:\n",
    "        abort(404, message=\"Todo {} doesn't exist\".format(todo_id))\n",
    "\n",
    "parser = reqparse.RequestParser()\n",
    "parser.add_argument('task')\n",
    "\n",
    "\n",
    "# Todo\n",
    "# shows a single todo item and lets you delete a todo item\n",
    "class Todo(Resource):\n",
    "    def get(self, todo_id):\n",
    "        abort_if_todo_doesnt_exist(todo_id)\n",
    "        return TODOS[todo_id]\n",
    "\n",
    "    def delete(self, todo_id):\n",
    "        abort_if_todo_doesnt_exist(todo_id)\n",
    "        del TODOS[todo_id]\n",
    "        return '', 204\n",
    "\n",
    "    def put(self, todo_id):\n",
    "        args = parser.parse_args()\n",
    "        task = {'task': args['task']}\n",
    "        TODOS[todo_id] = task\n",
    "        return task, 201\n",
    "\n",
    "\n",
    "# TodoList\n",
    "# shows a list of all todos, and lets you POST to add new tasks\n",
    "class TodoList(Resource):\n",
    "    def get(self):\n",
    "        return TODOS\n",
    "\n",
    "    def post(self):\n",
    "        args = parser.parse_args()\n",
    "        todo_id = int(max(TODOS.keys()).lstrip('todo')) + 1\n",
    "        todo_id = 'todo%i' % todo_id\n",
    "        TODOS[todo_id] = {'task': args['task']}\n",
    "        return TODOS[todo_id], 201\n",
    "\n",
    "\n",
    "## Actually setup the Api resource routing here\n",
    "\n",
    "api.add_resource(TodoList, '/todos')\n",
    "api.add_resource(Todo, '/todos/<todo_id>')\n",
    "\n",
    "\n",
    "if __name__ == '__main__':\n",
    "    app.run(debug=False)"
   ]
  },
  {
   "cell_type": "code",
   "execution_count": null,
   "metadata": {},
   "outputs": [],
   "source": []
  }
 ],
 "metadata": {
  "kernelspec": {
   "display_name": "Python 3",
   "language": "python",
   "name": "python3"
  },
  "language_info": {
   "codemirror_mode": {
    "name": "ipython",
    "version": 3
   },
   "file_extension": ".py",
   "mimetype": "text/x-python",
   "name": "python",
   "nbconvert_exporter": "python",
   "pygments_lexer": "ipython3",
   "version": "3.7.3"
  }
 },
 "nbformat": 4,
 "nbformat_minor": 2
}
