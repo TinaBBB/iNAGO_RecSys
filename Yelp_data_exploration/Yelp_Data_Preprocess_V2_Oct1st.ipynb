{
 "cells": [
  {
   "cell_type": "markdown",
   "metadata": {},
   "source": [
    "## This file reads the review data and clean it, join with user data as well\n",
    "Review data combined user data and business data \n",
    "\n",
    "raw review data: 5996996\n",
    "\n",
    "review cleaned: 3390939"
   ]
  },
  {
   "cell_type": "code",
   "execution_count": 27,
   "metadata": {},
   "outputs": [],
   "source": [
    "import os \n",
    "import json \n",
    "import tqdm \n",
    "\n",
    "from ast import literal_eval\n",
    "from os import listdir\n",
    "from os.path import isfile, join\n",
    "from scipy.sparse import csr_matrix, load_npz, save_npz\n",
    "\n",
    "import datetime\n",
    "import json\n",
    "import numpy as np\n",
    "import pandas as pd\n",
    "import time\n",
    "import yaml\n",
    "import sys"
   ]
  },
  {
   "cell_type": "code",
   "execution_count": 2,
   "metadata": {},
   "outputs": [],
   "source": [
    "# file directory\n",
    "file_business, file_review, file_user = [\n",
    "    '..\\\\data\\\\business.json',\n",
    "    '..\\\\data\\\\yelp_academic_dataset_review.json',\n",
    "    '..\\\\data\\\\user.json',\n",
    "]"
   ]
  },
  {
   "cell_type": "markdown",
   "metadata": {},
   "source": [
    "### Read in review data \n",
    "df has 5996996 raw review histories\n",
    "\n",
    "df_join has 3392380 review histories after selecting the ones that has user average star history"
   ]
  },
  {
   "cell_type": "code",
   "execution_count": 3,
   "metadata": {},
   "outputs": [],
   "source": [
    "#path = \"yelp_academic_dataset_review.json\"\n",
    "\n",
    "#Litos' way\n",
    "#file = open(path, encoding=\"utf8\")\n",
    "#data = file.readlines()\n",
    "#data = list(map(json.loads, data))\n",
    "\n",
    "#Json's way\n",
    "with open(file_review, encoding = 'utf-8') as json_file:\n",
    "    data = json_file.readlines()\n",
    "    data = list(map(json.loads, data))\n",
    "\n",
    "df_review = pd.DataFrame(data)"
   ]
  },
  {
   "cell_type": "code",
   "execution_count": 4,
   "metadata": {
    "scrolled": false
   },
   "outputs": [
    {
     "data": {
      "text/html": [
       "<div>\n",
       "<style scoped>\n",
       "    .dataframe tbody tr th:only-of-type {\n",
       "        vertical-align: middle;\n",
       "    }\n",
       "\n",
       "    .dataframe tbody tr th {\n",
       "        vertical-align: top;\n",
       "    }\n",
       "\n",
       "    .dataframe thead th {\n",
       "        text-align: right;\n",
       "    }\n",
       "</style>\n",
       "<table border=\"1\" class=\"dataframe\">\n",
       "  <thead>\n",
       "    <tr style=\"text-align: right;\">\n",
       "      <th></th>\n",
       "      <th>business_id</th>\n",
       "      <th>cool</th>\n",
       "      <th>date</th>\n",
       "      <th>funny</th>\n",
       "      <th>review_id</th>\n",
       "      <th>stars</th>\n",
       "      <th>text</th>\n",
       "      <th>useful</th>\n",
       "      <th>user_id</th>\n",
       "    </tr>\n",
       "  </thead>\n",
       "  <tbody>\n",
       "    <tr>\n",
       "      <th>0</th>\n",
       "      <td>iCQpiavjjPzJ5_3gPD5Ebg</td>\n",
       "      <td>0</td>\n",
       "      <td>2011-02-25</td>\n",
       "      <td>0</td>\n",
       "      <td>x7mDIiDB3jEiPGPHOmDzyw</td>\n",
       "      <td>2</td>\n",
       "      <td>The pizza was okay. Not the best I've had. I p...</td>\n",
       "      <td>0</td>\n",
       "      <td>msQe1u7Z_XuqjGoqhB0J5g</td>\n",
       "    </tr>\n",
       "    <tr>\n",
       "      <th>1</th>\n",
       "      <td>pomGBqfbxcqPv14c3XH-ZQ</td>\n",
       "      <td>0</td>\n",
       "      <td>2012-11-13</td>\n",
       "      <td>0</td>\n",
       "      <td>dDl8zu1vWPdKGihJrwQbpw</td>\n",
       "      <td>5</td>\n",
       "      <td>I love this place! My fiance And I go here atl...</td>\n",
       "      <td>0</td>\n",
       "      <td>msQe1u7Z_XuqjGoqhB0J5g</td>\n",
       "    </tr>\n",
       "  </tbody>\n",
       "</table>\n",
       "</div>"
      ],
      "text/plain": [
       "              business_id  cool        date  funny               review_id  \\\n",
       "0  iCQpiavjjPzJ5_3gPD5Ebg     0  2011-02-25      0  x7mDIiDB3jEiPGPHOmDzyw   \n",
       "1  pomGBqfbxcqPv14c3XH-ZQ     0  2012-11-13      0  dDl8zu1vWPdKGihJrwQbpw   \n",
       "\n",
       "   stars                                               text  useful  \\\n",
       "0      2  The pizza was okay. Not the best I've had. I p...       0   \n",
       "1      5  I love this place! My fiance And I go here atl...       0   \n",
       "\n",
       "                  user_id  \n",
       "0  msQe1u7Z_XuqjGoqhB0J5g  \n",
       "1  msQe1u7Z_XuqjGoqhB0J5g  "
      ]
     },
     "execution_count": 4,
     "metadata": {},
     "output_type": "execute_result"
    }
   ],
   "source": [
    "df_review.head(2)  #5996995   review histories"
   ]
  },
  {
   "cell_type": "code",
   "execution_count": 82,
   "metadata": {},
   "outputs": [
    {
     "data": {
      "text/plain": [
       "5996996"
      ]
     },
     "execution_count": 82,
     "metadata": {},
     "output_type": "execute_result"
    }
   ],
   "source": [
    "df_review.shape[0]"
   ]
  },
  {
   "cell_type": "markdown",
   "metadata": {},
   "source": [
    "### Reading in user data \n",
    "total users: 1637138 "
   ]
  },
  {
   "cell_type": "code",
   "execution_count": 7,
   "metadata": {},
   "outputs": [],
   "source": [
    "# loading review data to pandas\n",
    "with open(file_user, encoding = 'utf-8') as f:\n",
    "    df_user = pd.DataFrame(json.loads(line) for line in f)\n",
    "\n",
    "#no user that has no average rating history\n",
    "#df_user.average_stars.isna().sum()\n",
    "#df_user.average_stars.min()\n",
    "#df_user.loc[df_user.average_stars == '1.0']"
   ]
  },
  {
   "cell_type": "code",
   "execution_count": 8,
   "metadata": {
    "scrolled": true
   },
   "outputs": [
    {
     "data": {
      "text/html": [
       "<div>\n",
       "<style scoped>\n",
       "    .dataframe tbody tr th:only-of-type {\n",
       "        vertical-align: middle;\n",
       "    }\n",
       "\n",
       "    .dataframe tbody tr th {\n",
       "        vertical-align: top;\n",
       "    }\n",
       "\n",
       "    .dataframe thead th {\n",
       "        text-align: right;\n",
       "    }\n",
       "</style>\n",
       "<table border=\"1\" class=\"dataframe\">\n",
       "  <thead>\n",
       "    <tr style=\"text-align: right;\">\n",
       "      <th></th>\n",
       "      <th>average_stars</th>\n",
       "      <th>compliment_cool</th>\n",
       "      <th>compliment_cute</th>\n",
       "      <th>compliment_funny</th>\n",
       "      <th>compliment_hot</th>\n",
       "      <th>compliment_list</th>\n",
       "      <th>compliment_more</th>\n",
       "      <th>compliment_note</th>\n",
       "      <th>compliment_photos</th>\n",
       "      <th>compliment_plain</th>\n",
       "      <th>...</th>\n",
       "      <th>cool</th>\n",
       "      <th>elite</th>\n",
       "      <th>fans</th>\n",
       "      <th>friends</th>\n",
       "      <th>funny</th>\n",
       "      <th>name</th>\n",
       "      <th>review_count</th>\n",
       "      <th>useful</th>\n",
       "      <th>user_id</th>\n",
       "      <th>yelping_since</th>\n",
       "    </tr>\n",
       "  </thead>\n",
       "  <tbody>\n",
       "    <tr>\n",
       "      <th>0</th>\n",
       "      <td>4.03</td>\n",
       "      <td>1</td>\n",
       "      <td>0</td>\n",
       "      <td>1</td>\n",
       "      <td>2</td>\n",
       "      <td>0</td>\n",
       "      <td>0</td>\n",
       "      <td>1</td>\n",
       "      <td>0</td>\n",
       "      <td>1</td>\n",
       "      <td>...</td>\n",
       "      <td>25</td>\n",
       "      <td>2015,2016,2017</td>\n",
       "      <td>5</td>\n",
       "      <td>c78V-rj8NQcQjOI8KP3UEA, alRMgPcngYSCJ5naFRBz5g...</td>\n",
       "      <td>17</td>\n",
       "      <td>Rashmi</td>\n",
       "      <td>95</td>\n",
       "      <td>84</td>\n",
       "      <td>l6BmjZMeQD3rDxWUbiAiow</td>\n",
       "      <td>2013-10-08 23:11:33</td>\n",
       "    </tr>\n",
       "    <tr>\n",
       "      <th>1</th>\n",
       "      <td>3.63</td>\n",
       "      <td>1</td>\n",
       "      <td>0</td>\n",
       "      <td>1</td>\n",
       "      <td>1</td>\n",
       "      <td>0</td>\n",
       "      <td>0</td>\n",
       "      <td>0</td>\n",
       "      <td>0</td>\n",
       "      <td>0</td>\n",
       "      <td>...</td>\n",
       "      <td>16</td>\n",
       "      <td></td>\n",
       "      <td>4</td>\n",
       "      <td>kEBTgDvFX754S68FllfCaA, aB2DynOxNOJK9st2ZeGTPg...</td>\n",
       "      <td>22</td>\n",
       "      <td>Jenna</td>\n",
       "      <td>33</td>\n",
       "      <td>48</td>\n",
       "      <td>4XChL029mKr5hydo79Ljxg</td>\n",
       "      <td>2013-02-21 22:29:06</td>\n",
       "    </tr>\n",
       "  </tbody>\n",
       "</table>\n",
       "<p>2 rows × 22 columns</p>\n",
       "</div>"
      ],
      "text/plain": [
       "   average_stars  compliment_cool  compliment_cute  compliment_funny  \\\n",
       "0           4.03                1                0                 1   \n",
       "1           3.63                1                0                 1   \n",
       "\n",
       "   compliment_hot  compliment_list  compliment_more  compliment_note  \\\n",
       "0               2                0                0                1   \n",
       "1               1                0                0                0   \n",
       "\n",
       "   compliment_photos  compliment_plain  ...  cool           elite  fans  \\\n",
       "0                  0                 1  ...    25  2015,2016,2017     5   \n",
       "1                  0                 0  ...    16                     4   \n",
       "\n",
       "                                             friends  funny    name  \\\n",
       "0  c78V-rj8NQcQjOI8KP3UEA, alRMgPcngYSCJ5naFRBz5g...     17  Rashmi   \n",
       "1  kEBTgDvFX754S68FllfCaA, aB2DynOxNOJK9st2ZeGTPg...     22   Jenna   \n",
       "\n",
       "   review_count useful                 user_id        yelping_since  \n",
       "0            95     84  l6BmjZMeQD3rDxWUbiAiow  2013-10-08 23:11:33  \n",
       "1            33     48  4XChL029mKr5hydo79Ljxg  2013-02-21 22:29:06  \n",
       "\n",
       "[2 rows x 22 columns]"
      ]
     },
     "execution_count": 8,
     "metadata": {},
     "output_type": "execute_result"
    }
   ],
   "source": [
    "df_user.head(2)"
   ]
  },
  {
   "cell_type": "code",
   "execution_count": 9,
   "metadata": {},
   "outputs": [
    {
     "data": {
      "text/html": [
       "<div>\n",
       "<style scoped>\n",
       "    .dataframe tbody tr th:only-of-type {\n",
       "        vertical-align: middle;\n",
       "    }\n",
       "\n",
       "    .dataframe tbody tr th {\n",
       "        vertical-align: top;\n",
       "    }\n",
       "\n",
       "    .dataframe thead th {\n",
       "        text-align: right;\n",
       "    }\n",
       "</style>\n",
       "<table border=\"1\" class=\"dataframe\">\n",
       "  <thead>\n",
       "    <tr style=\"text-align: right;\">\n",
       "      <th></th>\n",
       "      <th>user_id</th>\n",
       "      <th>average_stars</th>\n",
       "    </tr>\n",
       "  </thead>\n",
       "  <tbody>\n",
       "    <tr>\n",
       "      <th>0</th>\n",
       "      <td>l6BmjZMeQD3rDxWUbiAiow</td>\n",
       "      <td>4.03</td>\n",
       "    </tr>\n",
       "    <tr>\n",
       "      <th>1</th>\n",
       "      <td>4XChL029mKr5hydo79Ljxg</td>\n",
       "      <td>3.63</td>\n",
       "    </tr>\n",
       "    <tr>\n",
       "      <th>2</th>\n",
       "      <td>bc8C_eETBWL0olvFSJJd0w</td>\n",
       "      <td>3.71</td>\n",
       "    </tr>\n",
       "    <tr>\n",
       "      <th>3</th>\n",
       "      <td>dD0gZpBctWGdWo9WlGuhlA</td>\n",
       "      <td>4.85</td>\n",
       "    </tr>\n",
       "    <tr>\n",
       "      <th>4</th>\n",
       "      <td>MM4RJAeH6yuaN8oZDSt0RA</td>\n",
       "      <td>4.08</td>\n",
       "    </tr>\n",
       "  </tbody>\n",
       "</table>\n",
       "</div>"
      ],
      "text/plain": [
       "                  user_id  average_stars\n",
       "0  l6BmjZMeQD3rDxWUbiAiow           4.03\n",
       "1  4XChL029mKr5hydo79Ljxg           3.63\n",
       "2  bc8C_eETBWL0olvFSJJd0w           3.71\n",
       "3  dD0gZpBctWGdWo9WlGuhlA           4.85\n",
       "4  MM4RJAeH6yuaN8oZDSt0RA           4.08"
      ]
     },
     "execution_count": 9,
     "metadata": {},
     "output_type": "execute_result"
    }
   ],
   "source": [
    "#Select the information we want from the users \n",
    "selected_features = ['user_id','average_stars']\n",
    "df_user_selectedStars = df_user.filter(items = selected_features)\n",
    "df_user_selectedStars.head(5)"
   ]
  },
  {
   "cell_type": "markdown",
   "metadata": {},
   "source": [
    "### Combining review data and user average rating data, inner join on user_id"
   ]
  },
  {
   "cell_type": "code",
   "execution_count": 10,
   "metadata": {},
   "outputs": [],
   "source": [
    "# set user_id as the index of two data frames\n",
    "df_user_selectedStars = df_user_selectedStars.set_index('user_id')\n",
    "df_review = df_review.set_index('user_id')"
   ]
  },
  {
   "cell_type": "code",
   "execution_count": 11,
   "metadata": {},
   "outputs": [
    {
     "data": {
      "text/html": [
       "<div>\n",
       "<style scoped>\n",
       "    .dataframe tbody tr th:only-of-type {\n",
       "        vertical-align: middle;\n",
       "    }\n",
       "\n",
       "    .dataframe tbody tr th {\n",
       "        vertical-align: top;\n",
       "    }\n",
       "\n",
       "    .dataframe thead th {\n",
       "        text-align: right;\n",
       "    }\n",
       "</style>\n",
       "<table border=\"1\" class=\"dataframe\">\n",
       "  <thead>\n",
       "    <tr style=\"text-align: right;\">\n",
       "      <th></th>\n",
       "      <th>business_id</th>\n",
       "      <th>cool</th>\n",
       "      <th>date</th>\n",
       "      <th>funny</th>\n",
       "      <th>review_id</th>\n",
       "      <th>stars</th>\n",
       "      <th>text</th>\n",
       "      <th>useful</th>\n",
       "    </tr>\n",
       "    <tr>\n",
       "      <th>user_id</th>\n",
       "      <th></th>\n",
       "      <th></th>\n",
       "      <th></th>\n",
       "      <th></th>\n",
       "      <th></th>\n",
       "      <th></th>\n",
       "      <th></th>\n",
       "      <th></th>\n",
       "    </tr>\n",
       "  </thead>\n",
       "  <tbody>\n",
       "    <tr>\n",
       "      <th>msQe1u7Z_XuqjGoqhB0J5g</th>\n",
       "      <td>iCQpiavjjPzJ5_3gPD5Ebg</td>\n",
       "      <td>0</td>\n",
       "      <td>2011-02-25</td>\n",
       "      <td>0</td>\n",
       "      <td>x7mDIiDB3jEiPGPHOmDzyw</td>\n",
       "      <td>2</td>\n",
       "      <td>The pizza was okay. Not the best I've had. I p...</td>\n",
       "      <td>0</td>\n",
       "    </tr>\n",
       "    <tr>\n",
       "      <th>msQe1u7Z_XuqjGoqhB0J5g</th>\n",
       "      <td>pomGBqfbxcqPv14c3XH-ZQ</td>\n",
       "      <td>0</td>\n",
       "      <td>2012-11-13</td>\n",
       "      <td>0</td>\n",
       "      <td>dDl8zu1vWPdKGihJrwQbpw</td>\n",
       "      <td>5</td>\n",
       "      <td>I love this place! My fiance And I go here atl...</td>\n",
       "      <td>0</td>\n",
       "    </tr>\n",
       "  </tbody>\n",
       "</table>\n",
       "</div>"
      ],
      "text/plain": [
       "                                   business_id  cool        date  funny  \\\n",
       "user_id                                                                   \n",
       "msQe1u7Z_XuqjGoqhB0J5g  iCQpiavjjPzJ5_3gPD5Ebg     0  2011-02-25      0   \n",
       "msQe1u7Z_XuqjGoqhB0J5g  pomGBqfbxcqPv14c3XH-ZQ     0  2012-11-13      0   \n",
       "\n",
       "                                     review_id  stars  \\\n",
       "user_id                                                 \n",
       "msQe1u7Z_XuqjGoqhB0J5g  x7mDIiDB3jEiPGPHOmDzyw      2   \n",
       "msQe1u7Z_XuqjGoqhB0J5g  dDl8zu1vWPdKGihJrwQbpw      5   \n",
       "\n",
       "                                                                     text  \\\n",
       "user_id                                                                     \n",
       "msQe1u7Z_XuqjGoqhB0J5g  The pizza was okay. Not the best I've had. I p...   \n",
       "msQe1u7Z_XuqjGoqhB0J5g  I love this place! My fiance And I go here atl...   \n",
       "\n",
       "                        useful  \n",
       "user_id                         \n",
       "msQe1u7Z_XuqjGoqhB0J5g       0  \n",
       "msQe1u7Z_XuqjGoqhB0J5g       0  "
      ]
     },
     "execution_count": 11,
     "metadata": {},
     "output_type": "execute_result"
    }
   ],
   "source": [
    "df_review.head(2)"
   ]
  },
  {
   "cell_type": "code",
   "execution_count": 12,
   "metadata": {
    "scrolled": false
   },
   "outputs": [
    {
     "data": {
      "text/html": [
       "<div>\n",
       "<style scoped>\n",
       "    .dataframe tbody tr th:only-of-type {\n",
       "        vertical-align: middle;\n",
       "    }\n",
       "\n",
       "    .dataframe tbody tr th {\n",
       "        vertical-align: top;\n",
       "    }\n",
       "\n",
       "    .dataframe thead th {\n",
       "        text-align: right;\n",
       "    }\n",
       "</style>\n",
       "<table border=\"1\" class=\"dataframe\">\n",
       "  <thead>\n",
       "    <tr style=\"text-align: right;\">\n",
       "      <th></th>\n",
       "      <th>average_stars</th>\n",
       "    </tr>\n",
       "    <tr>\n",
       "      <th>user_id</th>\n",
       "      <th></th>\n",
       "    </tr>\n",
       "  </thead>\n",
       "  <tbody>\n",
       "    <tr>\n",
       "      <th>l6BmjZMeQD3rDxWUbiAiow</th>\n",
       "      <td>4.03</td>\n",
       "    </tr>\n",
       "    <tr>\n",
       "      <th>4XChL029mKr5hydo79Ljxg</th>\n",
       "      <td>3.63</td>\n",
       "    </tr>\n",
       "  </tbody>\n",
       "</table>\n",
       "</div>"
      ],
      "text/plain": [
       "                        average_stars\n",
       "user_id                              \n",
       "l6BmjZMeQD3rDxWUbiAiow           4.03\n",
       "4XChL029mKr5hydo79Ljxg           3.63"
      ]
     },
     "execution_count": 12,
     "metadata": {},
     "output_type": "execute_result"
    }
   ],
   "source": [
    "df_user_selectedStars.head(2)"
   ]
  },
  {
   "cell_type": "code",
   "execution_count": 13,
   "metadata": {},
   "outputs": [],
   "source": [
    "# combine two dataset with the same user id \n",
    "\n",
    "df_join = df_review.join(df_user_selectedStars,how = 'inner')\n",
    "df_join.reset_index(inplace = True)"
   ]
  },
  {
   "cell_type": "code",
   "execution_count": 14,
   "metadata": {},
   "outputs": [],
   "source": [
    "# rename the column name \"stars\" to \"avg_stars\" in business dataset to aviod nameing conflicts with review dataset\n",
    "df_join = df_join.rename(index = str, columns = {\"average_stars\":\"user_avg_stars\"})"
   ]
  },
  {
   "cell_type": "code",
   "execution_count": 15,
   "metadata": {},
   "outputs": [
    {
     "data": {
      "text/plain": [
       "59032150"
      ]
     },
     "execution_count": 15,
     "metadata": {},
     "output_type": "execute_result"
    }
   ],
   "source": [
    "#df_join.to_json('reviewNuserAvgFile.json',orient='records', lines=True)\n",
    "#data_hasUserAvg = df_join.to_json(orient='records', lines=True)\n",
    "df_join.size"
   ]
  },
  {
   "cell_type": "code",
   "execution_count": 16,
   "metadata": {},
   "outputs": [],
   "source": [
    "#df_join.to_json(r'reviewWuserAvg.json',orient='split')"
   ]
  },
  {
   "cell_type": "markdown",
   "metadata": {},
   "source": [
    "### Read in business data\n",
    "192608 raw business\n",
    "\n",
    "cutting 30000 business that are closed \n",
    "\n",
    "cutting 20000 business where attributes and categories are null\n",
    "\n",
    "cutting 80000 non-resaurant businesses\n",
    "\n",
    "52638 valid businesses for use "
   ]
  },
  {
   "cell_type": "code",
   "execution_count": 17,
   "metadata": {},
   "outputs": [],
   "source": [
    "# loading business data to pandas\n",
    "with open(file_business, encoding = 'utf-8') as f:\n",
    "    df_business = pd.DataFrame(json.loads(line) for line in f)"
   ]
  },
  {
   "cell_type": "code",
   "execution_count": 29,
   "metadata": {
    "scrolled": true
   },
   "outputs": [
    {
     "data": {
      "text/plain": [
       "array(['AZ', 'ON', 'NC', 'AB', 'NV', 'OH', 'PA', 'QC', 'WI', 'IL', 'NY',\n",
       "       'SC', 'TX', 'UT', 'NM', 'FL', 'CA', 'VA', 'BAS', 'NE', 'AK', 'XGM',\n",
       "       'WA', 'XWY', 'CON', 'BC', 'GA', 'VT', 'CT', 'AL', 'DUR', 'TN',\n",
       "       'NJ', 'AR', 'XGL', 'DOW'], dtype=object)"
      ]
     },
     "execution_count": 29,
     "metadata": {},
     "output_type": "execute_result"
    }
   ],
   "source": [
    "np.set_printoptions(threshold=sys.maxsize)\n",
    "df_business.state.unique()"
   ]
  },
  {
   "cell_type": "code",
   "execution_count": 73,
   "metadata": {},
   "outputs": [],
   "source": [
    "#Selecting only the ON businesses \n",
    "df_ON_business = df_business[df_business['state'] == 'ON']"
   ]
  },
  {
   "cell_type": "code",
   "execution_count": 74,
   "metadata": {},
   "outputs": [
    {
     "data": {
      "text/plain": [
       "192609"
      ]
     },
     "execution_count": 74,
     "metadata": {},
     "output_type": "execute_result"
    }
   ],
   "source": [
    "df_business.shape[0]"
   ]
  },
  {
   "cell_type": "code",
   "execution_count": 75,
   "metadata": {},
   "outputs": [
    {
     "data": {
      "text/plain": [
       "33412"
      ]
     },
     "execution_count": 75,
     "metadata": {},
     "output_type": "execute_result"
    }
   ],
   "source": [
    "df_ON_business.shape[0]"
   ]
  },
  {
   "cell_type": "code",
   "execution_count": 34,
   "metadata": {},
   "outputs": [
    {
     "data": {
      "text/plain": [
       "26525"
      ]
     },
     "execution_count": 34,
     "metadata": {},
     "output_type": "execute_result"
    }
   ],
   "source": [
    "(df_ON_business['is_open'] == 1).sum()"
   ]
  },
  {
   "cell_type": "code",
   "execution_count": 20,
   "metadata": {},
   "outputs": [],
   "source": [
    "# remove closed business\n",
    "#df_business = df_business[df_business['is_open'] == 1]"
   ]
  },
  {
   "cell_type": "code",
   "execution_count": 36,
   "metadata": {
    "scrolled": true
   },
   "outputs": [
    {
     "name": "stdout",
     "output_type": "stream",
     "text": [
      "Number of business that are opened 26525\n"
     ]
    }
   ],
   "source": [
    "print('Number of business that are opened',(df_ON_business['is_open'] == 1).sum())"
   ]
  },
  {
   "cell_type": "markdown",
   "metadata": {},
   "source": [
    "#### Clean the business data\n",
    "filter out the businesses that are closed, and not restaurants, and probably that don't have attributes/categories"
   ]
  },
  {
   "cell_type": "code",
   "execution_count": 27,
   "metadata": {},
   "outputs": [],
   "source": [
    "#Only select certain features to join \n",
    "selected_features_for_join = ['business_id','categories', 'stars']\n",
    "df_business_forJoin = df_business.filter(items = selected_features_for_join)\n",
    "df_business_forJoin = df_business_forJoin.rename(index = str, columns = {\"stars\": \"business_stars\"})"
   ]
  },
  {
   "cell_type": "markdown",
   "metadata": {},
   "source": [
    "#### Selecting only the ON businesses"
   ]
  },
  {
   "cell_type": "code",
   "execution_count": 76,
   "metadata": {},
   "outputs": [],
   "source": [
    "#Select ON businesses\n",
    "selected_features_for_join = ['business_id','categories', 'stars', 'is_open','address', 'city', 'hours', 'latitude', 'longitude',\\\n",
    "                             'name', 'review_count', 'stars']\n",
    "df_ON_business_forJoin = df_ON_business.filter(items = selected_features_for_join)\n",
    "df_ON_business_forJoin = df_ON_business_forJoin.rename(index = str, columns = {\"stars\": \"business_stars\"})"
   ]
  },
  {
   "cell_type": "code",
   "execution_count": 28,
   "metadata": {},
   "outputs": [],
   "source": [
    "# selected_features_for_join = ['name','business_id','categories']\n",
    "# df_business_forJoin = df_business.filter(items = selected_features_for_join)"
   ]
  },
  {
   "cell_type": "code",
   "execution_count": 29,
   "metadata": {},
   "outputs": [],
   "source": [
    "#pd.set_option('display.max_colwidth', None)\n",
    "#pd.set_option('display.max_columns', None)  \n",
    "# df_business_forJoin.categories\n"
   ]
  },
  {
   "cell_type": "code",
   "execution_count": 30,
   "metadata": {},
   "outputs": [
    {
     "name": "stdout",
     "output_type": "stream",
     "text": [
      "Number of business that are opened, and categories & attributes not null 192127\n"
     ]
    }
   ],
   "source": [
    "# remove null row for categories column and attributes column\n",
    "cond_category_not_null = ~df_business_forJoin['categories'].isnull()\n",
    "# cond_attribute_not_null = ~df_business_forJoin['attributes'].isnull()\n",
    "df_business_forJoin = df_business_forJoin[cond_category_not_null]\n",
    "print('Number of business that are opened, and categories & attributes not null', df_business_forJoin.shape[0])"
   ]
  },
  {
   "cell_type": "code",
   "execution_count": 77,
   "metadata": {},
   "outputs": [
    {
     "name": "stdout",
     "output_type": "stream",
     "text": [
      "Number of TORONTO business that categories not null 33342\n"
     ]
    }
   ],
   "source": [
    "#Filtering for toronto businesses \n",
    "cond_ON_category_not_null = ~df_ON_business_forJoin['categories'].isnull()\n",
    "# cond_attribute_not_null = ~df_business_forJoin['attributes'].isnull()\n",
    "df_ON_business_forJoin = df_ON_business_forJoin[cond_ON_category_not_null]\n",
    "print('Number of TORONTO business that categories not null', df_ON_business_forJoin.shape[0])"
   ]
  },
  {
   "cell_type": "code",
   "execution_count": 31,
   "metadata": {},
   "outputs": [],
   "source": [
    "# attributeSet = []\n",
    "# for attribute in df_business_forJoin['attributes']:\n",
    "#     for (key, item) in attribute.items():\n",
    "#         attributeSet.append(key)\n",
    "# arr = np.array(attributeSet)\n",
    "# np.unique(arr)\n",
    "\n",
    "# cateSet = []\n",
    "# for attribute in df_business_forJoin['categories']:\n",
    "#         attributeSet.append(attribute)\n",
    "\n",
    "# arr = np.array(cateSet)\n",
    "# np.unique(arr)"
   ]
  },
  {
   "cell_type": "markdown",
   "metadata": {},
   "source": [
    "###### Get the list of attribute and the list of categories "
   ]
  },
  {
   "cell_type": "code",
   "execution_count": 32,
   "metadata": {},
   "outputs": [],
   "source": [
    "# listAttribute = []\n",
    "# for attributes in df_business_forJoin[~df_business_forJoin[\"categories\"].str.contains(\"Restaurants|restaurant|Bakeries|Food|Coffee|Tea|Desserts|food|Cupcakes\",case=False)].attributes:\n",
    "#     for key in attributes.keys():\n",
    "#         listAttribute.append(key)\n",
    "        \n",
    "# from collections import Counter\n",
    "\n",
    "# c = Counter(listAttribute)\n",
    "\n",
    "# listCategory = []\n",
    "# for category in df_business_forJoin[~df_business_forJoin[\"categories\"].str.contains(\"Restaurants|restaurant|Bakeries|Food|Coffee|Tea|Desserts|food|Cupcakes|Bar|Nightlife|Pub|Lounges|Beer|Breakfast\",case=False)].categories:\n",
    "#     splitWords = [words.strip(\",.&\") for words in category.split()]\n",
    "#     for word in splitWords:\n",
    "#         if word != '':\n",
    "#             listCategory.append(word)\n",
    "            \n",
    "# from collections import Counter\n",
    "\n",
    "# count = Counter(listCategory)\n",
    "# #count"
   ]
  },
  {
   "cell_type": "code",
   "execution_count": 33,
   "metadata": {},
   "outputs": [],
   "source": [
    "#count"
   ]
  },
  {
   "cell_type": "code",
   "execution_count": 34,
   "metadata": {
    "scrolled": true
   },
   "outputs": [],
   "source": [
    "# We only take restaurant business\n",
    "cond_category_restaurant = df_business_forJoin[\"categories\"].str.contains(\"Restaurants|restaurants|Bakeries|Foods|Coffee|Tea|Desserts|food|Cupcakes|cafes|Breakfast|Lunch|Dinner\",case=False)\n",
    "#cannot use attribute over here\n",
    "#cond_attribute_restaurant = df_business_forJoin[\"attributes\"].str.contains(\"Restaurants|restaurant\",case=False)\n",
    "df_business_forJoin = df_business_forJoin[cond_category_restaurant]"
   ]
  },
  {
   "cell_type": "code",
   "execution_count": 35,
   "metadata": {},
   "outputs": [
    {
     "name": "stdout",
     "output_type": "stream",
     "text": [
      "number of businesses that are opened restaurants, and categories & attributes not null 75467\n"
     ]
    }
   ],
   "source": [
    "print('number of businesses that are opened restaurants, and categories & attributes not null',df_business_forJoin.shape[0])"
   ]
  },
  {
   "cell_type": "markdown",
   "metadata": {},
   "source": [
    "#### Counting number of restaurants in ON"
   ]
  },
  {
   "cell_type": "code",
   "execution_count": 78,
   "metadata": {},
   "outputs": [],
   "source": [
    "#Counting restaurant businesses\n",
    "cond_category_restaurant = df_ON_business_forJoin[\"categories\"].str.contains(\"Restaurants|restaurants|Bakeries|Foods|Coffee|Tea|Desserts|food|Cupcakes|cafes|Breakfast|Lunch|Dinner\",case=False)\n",
    "#cannot use attribute over here\n",
    "#cond_attribute_restaurant = df_business_forJoin[\"attributes\"].str.contains(\"Restaurants|restaurant\",case=False)\n",
    "df_ON_business_forJoin = df_ON_business_forJoin[cond_category_restaurant]"
   ]
  },
  {
   "cell_type": "code",
   "execution_count": 81,
   "metadata": {},
   "outputs": [
    {
     "name": "stdout",
     "output_type": "stream",
     "text": [
      "number of restaurants, and categories not null 18518\n",
      "number of restaurants that are opened and categories opened:  13436\n"
     ]
    }
   ],
   "source": [
    "print('number of restaurants, and categories not null',df_ON_business_forJoin.shape[0])\n",
    "print('number of restaurants that are opened and categories opened: ', (df_ON_business_forJoin['is_open'] == 1).sum())"
   ]
  },
  {
   "cell_type": "markdown",
   "metadata": {},
   "source": [
    "number of restaurants, and categories not null 18518\n",
    "\n",
    "number of restaurants that are opened and categories not null:  13436"
   ]
  },
  {
   "cell_type": "code",
   "execution_count": 40,
   "metadata": {},
   "outputs": [],
   "source": [
    "#Now combine the restaurants with df_join on business id \n",
    "# set business_id as the index of two data frames\n",
    "df_business_forJoin = df_business_forJoin.set_index('business_id')\n",
    "df_join = df_join.set_index('business_id')"
   ]
  },
  {
   "cell_type": "markdown",
   "metadata": {},
   "source": [
    "### Ready to combine business data with review data"
   ]
  },
  {
   "cell_type": "code",
   "execution_count": 80,
   "metadata": {},
   "outputs": [
    {
     "ename": "KeyError",
     "evalue": "'business_id'",
     "output_type": "error",
     "traceback": [
      "\u001b[1;31m---------------------------------------------------------------------------\u001b[0m",
      "\u001b[1;31mKeyError\u001b[0m                                  Traceback (most recent call last)",
      "\u001b[1;32mC:\\ProgramData\\Anaconda3\\lib\\site-packages\\pandas\\core\\indexes\\base.py\u001b[0m in \u001b[0;36mget_loc\u001b[1;34m(self, key, method, tolerance)\u001b[0m\n\u001b[0;32m   2656\u001b[0m             \u001b[1;32mtry\u001b[0m\u001b[1;33m:\u001b[0m\u001b[1;33m\u001b[0m\u001b[1;33m\u001b[0m\u001b[0m\n\u001b[1;32m-> 2657\u001b[1;33m                 \u001b[1;32mreturn\u001b[0m \u001b[0mself\u001b[0m\u001b[1;33m.\u001b[0m\u001b[0m_engine\u001b[0m\u001b[1;33m.\u001b[0m\u001b[0mget_loc\u001b[0m\u001b[1;33m(\u001b[0m\u001b[0mkey\u001b[0m\u001b[1;33m)\u001b[0m\u001b[1;33m\u001b[0m\u001b[1;33m\u001b[0m\u001b[0m\n\u001b[0m\u001b[0;32m   2658\u001b[0m             \u001b[1;32mexcept\u001b[0m \u001b[0mKeyError\u001b[0m\u001b[1;33m:\u001b[0m\u001b[1;33m\u001b[0m\u001b[1;33m\u001b[0m\u001b[0m\n",
      "\u001b[1;32mpandas/_libs/index.pyx\u001b[0m in \u001b[0;36mpandas._libs.index.IndexEngine.get_loc\u001b[1;34m()\u001b[0m\n",
      "\u001b[1;32mpandas/_libs/index.pyx\u001b[0m in \u001b[0;36mpandas._libs.index.IndexEngine.get_loc\u001b[1;34m()\u001b[0m\n",
      "\u001b[1;32mpandas/_libs/hashtable_class_helper.pxi\u001b[0m in \u001b[0;36mpandas._libs.hashtable.PyObjectHashTable.get_item\u001b[1;34m()\u001b[0m\n",
      "\u001b[1;32mpandas/_libs/hashtable_class_helper.pxi\u001b[0m in \u001b[0;36mpandas._libs.hashtable.PyObjectHashTable.get_item\u001b[1;34m()\u001b[0m\n",
      "\u001b[1;31mKeyError\u001b[0m: 'business_id'",
      "\nDuring handling of the above exception, another exception occurred:\n",
      "\u001b[1;31mKeyError\u001b[0m                                  Traceback (most recent call last)",
      "\u001b[1;32m<ipython-input-80-cb08b1f81907>\u001b[0m in \u001b[0;36m<module>\u001b[1;34m\u001b[0m\n\u001b[0;32m      2\u001b[0m \u001b[1;31m# set business_id as the index of two data frames\u001b[0m\u001b[1;33m\u001b[0m\u001b[1;33m\u001b[0m\u001b[1;33m\u001b[0m\u001b[0m\n\u001b[0;32m      3\u001b[0m \u001b[0mdf_ON_business_forJoin\u001b[0m \u001b[1;33m=\u001b[0m \u001b[0mdf_ON_business_forJoin\u001b[0m\u001b[1;33m.\u001b[0m\u001b[0mset_index\u001b[0m\u001b[1;33m(\u001b[0m\u001b[1;34m'business_id'\u001b[0m\u001b[1;33m)\u001b[0m\u001b[1;33m\u001b[0m\u001b[1;33m\u001b[0m\u001b[0m\n\u001b[1;32m----> 4\u001b[1;33m \u001b[0mdf_join\u001b[0m \u001b[1;33m=\u001b[0m \u001b[0mdf_join\u001b[0m\u001b[1;33m.\u001b[0m\u001b[0mset_index\u001b[0m\u001b[1;33m(\u001b[0m\u001b[1;34m'business_id'\u001b[0m\u001b[1;33m)\u001b[0m\u001b[1;33m\u001b[0m\u001b[1;33m\u001b[0m\u001b[0m\n\u001b[0m",
      "\u001b[1;32mC:\\ProgramData\\Anaconda3\\lib\\site-packages\\pandas\\core\\frame.py\u001b[0m in \u001b[0;36mset_index\u001b[1;34m(self, keys, drop, append, inplace, verify_integrity)\u001b[0m\n\u001b[0;32m   4176\u001b[0m                 \u001b[0mnames\u001b[0m\u001b[1;33m.\u001b[0m\u001b[0mappend\u001b[0m\u001b[1;33m(\u001b[0m\u001b[1;32mNone\u001b[0m\u001b[1;33m)\u001b[0m\u001b[1;33m\u001b[0m\u001b[1;33m\u001b[0m\u001b[0m\n\u001b[0;32m   4177\u001b[0m             \u001b[1;32melse\u001b[0m\u001b[1;33m:\u001b[0m\u001b[1;33m\u001b[0m\u001b[1;33m\u001b[0m\u001b[0m\n\u001b[1;32m-> 4178\u001b[1;33m                 \u001b[0mlevel\u001b[0m \u001b[1;33m=\u001b[0m \u001b[0mframe\u001b[0m\u001b[1;33m[\u001b[0m\u001b[0mcol\u001b[0m\u001b[1;33m]\u001b[0m\u001b[1;33m.\u001b[0m\u001b[0m_values\u001b[0m\u001b[1;33m\u001b[0m\u001b[1;33m\u001b[0m\u001b[0m\n\u001b[0m\u001b[0;32m   4179\u001b[0m                 \u001b[0mnames\u001b[0m\u001b[1;33m.\u001b[0m\u001b[0mappend\u001b[0m\u001b[1;33m(\u001b[0m\u001b[0mcol\u001b[0m\u001b[1;33m)\u001b[0m\u001b[1;33m\u001b[0m\u001b[1;33m\u001b[0m\u001b[0m\n\u001b[0;32m   4180\u001b[0m                 \u001b[1;32mif\u001b[0m \u001b[0mdrop\u001b[0m\u001b[1;33m:\u001b[0m\u001b[1;33m\u001b[0m\u001b[1;33m\u001b[0m\u001b[0m\n",
      "\u001b[1;32mC:\\ProgramData\\Anaconda3\\lib\\site-packages\\pandas\\core\\frame.py\u001b[0m in \u001b[0;36m__getitem__\u001b[1;34m(self, key)\u001b[0m\n\u001b[0;32m   2925\u001b[0m             \u001b[1;32mif\u001b[0m \u001b[0mself\u001b[0m\u001b[1;33m.\u001b[0m\u001b[0mcolumns\u001b[0m\u001b[1;33m.\u001b[0m\u001b[0mnlevels\u001b[0m \u001b[1;33m>\u001b[0m \u001b[1;36m1\u001b[0m\u001b[1;33m:\u001b[0m\u001b[1;33m\u001b[0m\u001b[1;33m\u001b[0m\u001b[0m\n\u001b[0;32m   2926\u001b[0m                 \u001b[1;32mreturn\u001b[0m \u001b[0mself\u001b[0m\u001b[1;33m.\u001b[0m\u001b[0m_getitem_multilevel\u001b[0m\u001b[1;33m(\u001b[0m\u001b[0mkey\u001b[0m\u001b[1;33m)\u001b[0m\u001b[1;33m\u001b[0m\u001b[1;33m\u001b[0m\u001b[0m\n\u001b[1;32m-> 2927\u001b[1;33m             \u001b[0mindexer\u001b[0m \u001b[1;33m=\u001b[0m \u001b[0mself\u001b[0m\u001b[1;33m.\u001b[0m\u001b[0mcolumns\u001b[0m\u001b[1;33m.\u001b[0m\u001b[0mget_loc\u001b[0m\u001b[1;33m(\u001b[0m\u001b[0mkey\u001b[0m\u001b[1;33m)\u001b[0m\u001b[1;33m\u001b[0m\u001b[1;33m\u001b[0m\u001b[0m\n\u001b[0m\u001b[0;32m   2928\u001b[0m             \u001b[1;32mif\u001b[0m \u001b[0mis_integer\u001b[0m\u001b[1;33m(\u001b[0m\u001b[0mindexer\u001b[0m\u001b[1;33m)\u001b[0m\u001b[1;33m:\u001b[0m\u001b[1;33m\u001b[0m\u001b[1;33m\u001b[0m\u001b[0m\n\u001b[0;32m   2929\u001b[0m                 \u001b[0mindexer\u001b[0m \u001b[1;33m=\u001b[0m \u001b[1;33m[\u001b[0m\u001b[0mindexer\u001b[0m\u001b[1;33m]\u001b[0m\u001b[1;33m\u001b[0m\u001b[1;33m\u001b[0m\u001b[0m\n",
      "\u001b[1;32mC:\\ProgramData\\Anaconda3\\lib\\site-packages\\pandas\\core\\indexes\\base.py\u001b[0m in \u001b[0;36mget_loc\u001b[1;34m(self, key, method, tolerance)\u001b[0m\n\u001b[0;32m   2657\u001b[0m                 \u001b[1;32mreturn\u001b[0m \u001b[0mself\u001b[0m\u001b[1;33m.\u001b[0m\u001b[0m_engine\u001b[0m\u001b[1;33m.\u001b[0m\u001b[0mget_loc\u001b[0m\u001b[1;33m(\u001b[0m\u001b[0mkey\u001b[0m\u001b[1;33m)\u001b[0m\u001b[1;33m\u001b[0m\u001b[1;33m\u001b[0m\u001b[0m\n\u001b[0;32m   2658\u001b[0m             \u001b[1;32mexcept\u001b[0m \u001b[0mKeyError\u001b[0m\u001b[1;33m:\u001b[0m\u001b[1;33m\u001b[0m\u001b[1;33m\u001b[0m\u001b[0m\n\u001b[1;32m-> 2659\u001b[1;33m                 \u001b[1;32mreturn\u001b[0m \u001b[0mself\u001b[0m\u001b[1;33m.\u001b[0m\u001b[0m_engine\u001b[0m\u001b[1;33m.\u001b[0m\u001b[0mget_loc\u001b[0m\u001b[1;33m(\u001b[0m\u001b[0mself\u001b[0m\u001b[1;33m.\u001b[0m\u001b[0m_maybe_cast_indexer\u001b[0m\u001b[1;33m(\u001b[0m\u001b[0mkey\u001b[0m\u001b[1;33m)\u001b[0m\u001b[1;33m)\u001b[0m\u001b[1;33m\u001b[0m\u001b[1;33m\u001b[0m\u001b[0m\n\u001b[0m\u001b[0;32m   2660\u001b[0m         \u001b[0mindexer\u001b[0m \u001b[1;33m=\u001b[0m \u001b[0mself\u001b[0m\u001b[1;33m.\u001b[0m\u001b[0mget_indexer\u001b[0m\u001b[1;33m(\u001b[0m\u001b[1;33m[\u001b[0m\u001b[0mkey\u001b[0m\u001b[1;33m]\u001b[0m\u001b[1;33m,\u001b[0m \u001b[0mmethod\u001b[0m\u001b[1;33m=\u001b[0m\u001b[0mmethod\u001b[0m\u001b[1;33m,\u001b[0m \u001b[0mtolerance\u001b[0m\u001b[1;33m=\u001b[0m\u001b[0mtolerance\u001b[0m\u001b[1;33m)\u001b[0m\u001b[1;33m\u001b[0m\u001b[1;33m\u001b[0m\u001b[0m\n\u001b[0;32m   2661\u001b[0m         \u001b[1;32mif\u001b[0m \u001b[0mindexer\u001b[0m\u001b[1;33m.\u001b[0m\u001b[0mndim\u001b[0m \u001b[1;33m>\u001b[0m \u001b[1;36m1\u001b[0m \u001b[1;32mor\u001b[0m \u001b[0mindexer\u001b[0m\u001b[1;33m.\u001b[0m\u001b[0msize\u001b[0m \u001b[1;33m>\u001b[0m \u001b[1;36m1\u001b[0m\u001b[1;33m:\u001b[0m\u001b[1;33m\u001b[0m\u001b[1;33m\u001b[0m\u001b[0m\n",
      "\u001b[1;32mpandas/_libs/index.pyx\u001b[0m in \u001b[0;36mpandas._libs.index.IndexEngine.get_loc\u001b[1;34m()\u001b[0m\n",
      "\u001b[1;32mpandas/_libs/index.pyx\u001b[0m in \u001b[0;36mpandas._libs.index.IndexEngine.get_loc\u001b[1;34m()\u001b[0m\n",
      "\u001b[1;32mpandas/_libs/hashtable_class_helper.pxi\u001b[0m in \u001b[0;36mpandas._libs.hashtable.PyObjectHashTable.get_item\u001b[1;34m()\u001b[0m\n",
      "\u001b[1;32mpandas/_libs/hashtable_class_helper.pxi\u001b[0m in \u001b[0;36mpandas._libs.hashtable.PyObjectHashTable.get_item\u001b[1;34m()\u001b[0m\n",
      "\u001b[1;31mKeyError\u001b[0m: 'business_id'"
     ]
    }
   ],
   "source": [
    "#Now combine the restaurants with df_join on business id \n",
    "# set business_id as the index of two data frames\n",
    "df_ON_business_forJoin = df_ON_business_forJoin.set_index('business_id')\n",
    "df_join = df_join.set_index('business_id')"
   ]
  },
  {
   "cell_type": "markdown",
   "metadata": {},
   "source": [
    "### Combine review dataset with business dataset on business id "
   ]
  },
  {
   "cell_type": "code",
   "execution_count": 70,
   "metadata": {},
   "outputs": [],
   "source": [
    "# combine two dataset with the same business id \n",
    "df_join_final = df_join.join(df_ON_business_forJoin,how = 'inner')\n",
    "#Resetting the index\n",
    "df_join_final.reset_index(inplace = True)\n",
    "df_ON_business_forJoin.reset_index(inplace = True)"
   ]
  },
  {
   "cell_type": "code",
   "execution_count": 71,
   "metadata": {},
   "outputs": [
    {
     "data": {
      "text/plain": [
       "568159"
      ]
     },
     "execution_count": 71,
     "metadata": {},
     "output_type": "execute_result"
    }
   ],
   "source": [
    "df_join_final.shape[0]"
   ]
  },
  {
   "cell_type": "code",
   "execution_count": 85,
   "metadata": {},
   "outputs": [],
   "source": [
    "np.set_printoptions(threshold=sys.maxsize)\n",
    "listCity = []\n",
    "for city in df_join_final.city:\n",
    "    if city not in listCity:\n",
    "        listCity.append(city)"
   ]
  },
  {
   "cell_type": "code",
   "execution_count": 86,
   "metadata": {},
   "outputs": [
    {
     "data": {
      "text/plain": [
       "['Richmond Hill',\n",
       " 'Toronto',\n",
       " 'East York',\n",
       " 'North York',\n",
       " 'Markham',\n",
       " 'Newmarket',\n",
       " 'Etobicoke',\n",
       " 'Aurora',\n",
       " 'Woodbridge',\n",
       " 'Mississauga',\n",
       " 'Ajax',\n",
       " 'King City',\n",
       " 'Scarborough',\n",
       " 'Brampton',\n",
       " 'Caledon East',\n",
       " 'Pickering',\n",
       " 'Gormley',\n",
       " 'Whitby',\n",
       " 'Vaughan',\n",
       " 'Oakville',\n",
       " 'York',\n",
       " 'Bolton',\n",
       " 'Bradford',\n",
       " 'Whitchurch-Stouffville',\n",
       " 'Stouffville',\n",
       " 'Concord',\n",
       " 'Thornhill',\n",
       " 'Brooklin',\n",
       " 'Beeton',\n",
       " 'Rexdale',\n",
       " 'King',\n",
       " 'Etobiicoke',\n",
       " 'Willowdale',\n",
       " 'Mount Albert',\n",
       " 'Georgetown',\n",
       " 'Unionville',\n",
       " 'Kleinburg',\n",
       " 'Maple',\n",
       " 'Caledon',\n",
       " 'Schomberg',\n",
       " 'East Gwillimbury',\n",
       " 'Nobleton',\n",
       " 'Clarkson',\n",
       " 'Inglewood',\n",
       " 'Bradford West Gwillimbury',\n",
       " 'East Mississauga',\n",
       " 'Sharon',\n",
       " 'Downtown Toronto',\n",
       " 'North of Brampton',\n",
       " 'Palgrave',\n",
       " 'North  York',\n",
       " 'Oakridges',\n",
       " 'Tornto',\n",
       " 'Streetsville',\n",
       " 'York Regional Municipality',\n",
       " 'Thornhil',\n",
       " 'AGINCOURT',\n",
       " 'Missisauga',\n",
       " 'THORNHILL',\n",
       " 'ETOBICOKE',\n",
       " 'Port Credit',\n",
       " 'Whtiby',\n",
       " 'Don Mills',\n",
       " 'Mississuaga',\n",
       " 'Agincourt',\n",
       " 'Bond Head',\n",
       " 'Woodbridge (Vaughan)',\n",
       " 'East Ajax',\n",
       " 'RIchmond Hill',\n",
       " 'Oak Ridges',\n",
       " 'Richmond Hil',\n",
       " 'Scarbrough',\n",
       " 'Thorncliffe Park',\n",
       " 'Centre Island',\n",
       " 'Malton',\n",
       " 'Caledon Village',\n",
       " 'Goodwood',\n",
       " 'Glen Williams',\n",
       " 'River Drive Park',\n",
       " 'Scarobrough',\n",
       " 'Whiitby',\n",
       " 'Regional Municipality of York',\n",
       " 'Etibicoke',\n",
       " 'Northyork',\n",
       " 'North Toronto',\n",
       " 'Ashburn',\n",
       " 'Toronto Scarborough',\n",
       " 'Tottenham',\n",
       " 'Holland Landing']"
      ]
     },
     "execution_count": 86,
     "metadata": {},
     "output_type": "execute_result"
    }
   ],
   "source": [
    "listCity"
   ]
  },
  {
   "cell_type": "code",
   "execution_count": 41,
   "metadata": {},
   "outputs": [],
   "source": [
    "# combine two dataset with the same business id \n",
    "df_join_final = df_join.join(df_business_forJoin,how = 'inner')\n",
    "df_join_final.reset_index(inplace = True)\n",
    "df_business_forJoin.reset_index(inplace = True)"
   ]
  },
  {
   "cell_type": "code",
   "execution_count": 42,
   "metadata": {
    "scrolled": false
   },
   "outputs": [
    {
     "data": {
      "text/plain": [
       "4047190"
      ]
     },
     "execution_count": 42,
     "metadata": {},
     "output_type": "execute_result"
    }
   ],
   "source": [
    "df_join_final.shape[0]"
   ]
  },
  {
   "cell_type": "code",
   "execution_count": null,
   "metadata": {},
   "outputs": [],
   "source": []
  },
  {
   "cell_type": "code",
   "execution_count": 43,
   "metadata": {},
   "outputs": [
    {
     "data": {
      "text/html": [
       "<div>\n",
       "<style scoped>\n",
       "    .dataframe tbody tr th:only-of-type {\n",
       "        vertical-align: middle;\n",
       "    }\n",
       "\n",
       "    .dataframe tbody tr th {\n",
       "        vertical-align: top;\n",
       "    }\n",
       "\n",
       "    .dataframe thead th {\n",
       "        text-align: right;\n",
       "    }\n",
       "</style>\n",
       "<table border=\"1\" class=\"dataframe\">\n",
       "  <thead>\n",
       "    <tr style=\"text-align: right;\">\n",
       "      <th></th>\n",
       "      <th>business_id</th>\n",
       "      <th>user_id</th>\n",
       "      <th>cool</th>\n",
       "      <th>date</th>\n",
       "      <th>funny</th>\n",
       "      <th>review_id</th>\n",
       "      <th>stars</th>\n",
       "      <th>text</th>\n",
       "      <th>useful</th>\n",
       "      <th>user_avg_stars</th>\n",
       "      <th>categories</th>\n",
       "      <th>business_stars</th>\n",
       "    </tr>\n",
       "  </thead>\n",
       "  <tbody>\n",
       "    <tr>\n",
       "      <th>0</th>\n",
       "      <td>--1UhMGODdWsrMastO9DZw</td>\n",
       "      <td>1b4rlFFdNfeysOjbrFykng</td>\n",
       "      <td>0</td>\n",
       "      <td>2016-08-16</td>\n",
       "      <td>0</td>\n",
       "      <td>8UsalYi1Jkbk8WitFEa_aQ</td>\n",
       "      <td>4</td>\n",
       "      <td>Spicy Amigos is the old Jalapeños. I'm not sur...</td>\n",
       "      <td>0</td>\n",
       "      <td>3.14</td>\n",
       "      <td>Restaurants, Mexican</td>\n",
       "      <td>4.0</td>\n",
       "    </tr>\n",
       "    <tr>\n",
       "      <th>1</th>\n",
       "      <td>--1UhMGODdWsrMastO9DZw</td>\n",
       "      <td>4YHZzwlxEMi7zWO6Osszdw</td>\n",
       "      <td>0</td>\n",
       "      <td>2017-07-26</td>\n",
       "      <td>0</td>\n",
       "      <td>X4PwY0mMHxqOf2O1pwYdIQ</td>\n",
       "      <td>5</td>\n",
       "      <td>Delicious! One of the best burritos, salsa and...</td>\n",
       "      <td>0</td>\n",
       "      <td>3.92</td>\n",
       "      <td>Restaurants, Mexican</td>\n",
       "      <td>4.0</td>\n",
       "    </tr>\n",
       "  </tbody>\n",
       "</table>\n",
       "</div>"
      ],
      "text/plain": [
       "              business_id                 user_id  cool        date  funny  \\\n",
       "0  --1UhMGODdWsrMastO9DZw  1b4rlFFdNfeysOjbrFykng     0  2016-08-16      0   \n",
       "1  --1UhMGODdWsrMastO9DZw  4YHZzwlxEMi7zWO6Osszdw     0  2017-07-26      0   \n",
       "\n",
       "                review_id  stars  \\\n",
       "0  8UsalYi1Jkbk8WitFEa_aQ      4   \n",
       "1  X4PwY0mMHxqOf2O1pwYdIQ      5   \n",
       "\n",
       "                                                text  useful  user_avg_stars  \\\n",
       "0  Spicy Amigos is the old Jalapeños. I'm not sur...       0            3.14   \n",
       "1  Delicious! One of the best burritos, salsa and...       0            3.92   \n",
       "\n",
       "             categories  business_stars  \n",
       "0  Restaurants, Mexican             4.0  \n",
       "1  Restaurants, Mexican             4.0  "
      ]
     },
     "execution_count": 43,
     "metadata": {},
     "output_type": "execute_result"
    }
   ],
   "source": [
    "#df_join_final = df_join_final.drop(columns = ['categories', 'attributes','business_stars'])\n",
    "df_join_final.head(2)"
   ]
  },
  {
   "cell_type": "markdown",
   "metadata": {},
   "source": [
    "### Export new cleaned data"
   ]
  },
  {
   "cell_type": "code",
   "execution_count": 44,
   "metadata": {},
   "outputs": [],
   "source": [
    "Export = df_join_final.to_json(r'..\\\\data\\\\Export_CleanedReviewNew_1011.json', orient='records')"
   ]
  },
  {
   "cell_type": "code",
   "execution_count": 38,
   "metadata": {},
   "outputs": [],
   "source": [
    "df_join_final.rename(columns={'stars': 'review_stars', 'text': 'review_text', 'cool': 'review_cool',\n",
    "                       'funny': 'review_funny', 'useful': 'review_useful'},\n",
    "              inplace=True)"
   ]
  },
  {
   "cell_type": "code",
   "execution_count": 42,
   "metadata": {},
   "outputs": [],
   "source": [
    "import datetime\n",
    "import time\n",
    "def date_to_timestamp(date):\n",
    "    dt = datetime.datetime.strptime(date, '%Y-%m-%d')\n",
    "    return time.mktime(dt.timetuple())"
   ]
  },
  {
   "cell_type": "code",
   "execution_count": 43,
   "metadata": {},
   "outputs": [],
   "source": [
    "df_join_final['business_num_id'] = df_join_final.business_id.astype('category').\\\n",
    "        cat.rename_categories(range(0, df_join_final.business_id.nunique()))\n",
    "df_join_final['business_num_id'] = df_join_final['business_num_id'].astype('int')\n",
    "\n",
    "df_join_final['user_num_id'] = df_join_final.user_id.astype('category').\\\n",
    "    cat.rename_categories(range(0, df_join_final.user_id.nunique()))\n",
    "df_join_final['user_num_id'] = df_join_final['user_num_id'].astype('int')\n",
    "\n",
    "df_join_final['timestamp'] = df_join_final['date'].apply(date_to_timestamp)"
   ]
  },
  {
   "cell_type": "code",
   "execution_count": 44,
   "metadata": {},
   "outputs": [],
   "source": [
    "df_join_final['reviewStars-userAvg'] = df_join_final['review_stars'] - df_join_final['user_avg_stars']"
   ]
  },
  {
   "cell_type": "code",
   "execution_count": 63,
   "metadata": {
    "scrolled": true
   },
   "outputs": [
    {
     "data": {
      "text/html": [
       "<div>\n",
       "<style scoped>\n",
       "    .dataframe tbody tr th:only-of-type {\n",
       "        vertical-align: middle;\n",
       "    }\n",
       "\n",
       "    .dataframe tbody tr th {\n",
       "        vertical-align: top;\n",
       "    }\n",
       "\n",
       "    .dataframe thead th {\n",
       "        text-align: right;\n",
       "    }\n",
       "</style>\n",
       "<table border=\"1\" class=\"dataframe\">\n",
       "  <thead>\n",
       "    <tr style=\"text-align: right;\">\n",
       "      <th></th>\n",
       "      <th>business_id</th>\n",
       "      <th>user_id</th>\n",
       "      <th>review_cool</th>\n",
       "      <th>date</th>\n",
       "      <th>review_funny</th>\n",
       "      <th>review_id</th>\n",
       "      <th>review_stars</th>\n",
       "      <th>review_text</th>\n",
       "      <th>review_useful</th>\n",
       "      <th>user_avg_stars</th>\n",
       "      <th>business_num_id</th>\n",
       "      <th>user_num_id</th>\n",
       "      <th>timestamp</th>\n",
       "      <th>reviewStars-userAvg</th>\n",
       "    </tr>\n",
       "  </thead>\n",
       "  <tbody>\n",
       "    <tr>\n",
       "      <th>0</th>\n",
       "      <td>--1UhMGODdWsrMastO9DZw</td>\n",
       "      <td>1b4rlFFdNfeysOjbrFykng</td>\n",
       "      <td>0</td>\n",
       "      <td>2016-08-16</td>\n",
       "      <td>0</td>\n",
       "      <td>8UsalYi1Jkbk8WitFEa_aQ</td>\n",
       "      <td>4</td>\n",
       "      <td>Spicy Amigos is the old Jalapeños. I'm not sur...</td>\n",
       "      <td>0</td>\n",
       "      <td>3.14</td>\n",
       "      <td>0</td>\n",
       "      <td>39816</td>\n",
       "      <td>1.471320e+09</td>\n",
       "      <td>0.86</td>\n",
       "    </tr>\n",
       "    <tr>\n",
       "      <th>1</th>\n",
       "      <td>--1UhMGODdWsrMastO9DZw</td>\n",
       "      <td>4YHZzwlxEMi7zWO6Osszdw</td>\n",
       "      <td>0</td>\n",
       "      <td>2017-07-26</td>\n",
       "      <td>0</td>\n",
       "      <td>X4PwY0mMHxqOf2O1pwYdIQ</td>\n",
       "      <td>5</td>\n",
       "      <td>Delicious! One of the best burritos, salsa and...</td>\n",
       "      <td>0</td>\n",
       "      <td>3.92</td>\n",
       "      <td>0</td>\n",
       "      <td>85109</td>\n",
       "      <td>1.501042e+09</td>\n",
       "      <td>1.08</td>\n",
       "    </tr>\n",
       "  </tbody>\n",
       "</table>\n",
       "</div>"
      ],
      "text/plain": [
       "              business_id                 user_id  review_cool        date  \\\n",
       "0  --1UhMGODdWsrMastO9DZw  1b4rlFFdNfeysOjbrFykng            0  2016-08-16   \n",
       "1  --1UhMGODdWsrMastO9DZw  4YHZzwlxEMi7zWO6Osszdw            0  2017-07-26   \n",
       "\n",
       "   review_funny               review_id  review_stars  \\\n",
       "0             0  8UsalYi1Jkbk8WitFEa_aQ             4   \n",
       "1             0  X4PwY0mMHxqOf2O1pwYdIQ             5   \n",
       "\n",
       "                                         review_text  review_useful  \\\n",
       "0  Spicy Amigos is the old Jalapeños. I'm not sur...              0   \n",
       "1  Delicious! One of the best burritos, salsa and...              0   \n",
       "\n",
       "   user_avg_stars  business_num_id  user_num_id     timestamp  \\\n",
       "0            3.14                0        39816  1.471320e+09   \n",
       "1            3.92                0        85109  1.501042e+09   \n",
       "\n",
       "   reviewStars-userAvg  \n",
       "0                 0.86  \n",
       "1                 1.08  "
      ]
     },
     "execution_count": 63,
     "metadata": {},
     "output_type": "execute_result"
    }
   ],
   "source": [
    "df_join_final.head(2)"
   ]
  },
  {
   "cell_type": "markdown",
   "metadata": {},
   "source": [
    "## Disregard this section "
   ]
  },
  {
   "cell_type": "markdown",
   "metadata": {},
   "source": [
    "### Matching the business table's business_num_id with review table's business_num_id"
   ]
  },
  {
   "cell_type": "code",
   "execution_count": 56,
   "metadata": {},
   "outputs": [],
   "source": [
    "df_business_forJoin.loc[df_business_forJoin['business_id'].isin(df_join_final['business_id']), ['business_num_id']] = df_join_final[['business_num_id']]"
   ]
  },
  {
   "cell_type": "code",
   "execution_count": 79,
   "metadata": {
    "scrolled": true
   },
   "outputs": [
    {
     "name": "stderr",
     "output_type": "stream",
     "text": [
      "C:\\ProgramData\\Anaconda3\\lib\\site-packages\\pandas\\core\\generic.py:5096: SettingWithCopyWarning: \n",
      "A value is trying to be set on a copy of a slice from a DataFrame.\n",
      "Try using .loc[row_indexer,col_indexer] = value instead\n",
      "\n",
      "See the caveats in the documentation: http://pandas.pydata.org/pandas-docs/stable/indexing.html#indexing-view-versus-copy\n",
      "  self[name] = value\n"
     ]
    },
    {
     "ename": "IndexError",
     "evalue": "single positional indexer is out-of-bounds",
     "output_type": "error",
     "traceback": [
      "\u001b[1;31m---------------------------------------------------------------------------\u001b[0m",
      "\u001b[1;31mIndexError\u001b[0m                                Traceback (most recent call last)",
      "\u001b[1;32m<ipython-input-79-1f35af4a29c8>\u001b[0m in \u001b[0;36m<module>\u001b[1;34m\u001b[0m\n\u001b[0;32m      1\u001b[0m \u001b[1;32mfor\u001b[0m \u001b[0mbusinessId\u001b[0m \u001b[1;32min\u001b[0m \u001b[0mdf_business_forJoin\u001b[0m\u001b[1;33m[\u001b[0m\u001b[1;34m'business_id'\u001b[0m\u001b[1;33m]\u001b[0m\u001b[1;33m:\u001b[0m\u001b[1;33m\u001b[0m\u001b[1;33m\u001b[0m\u001b[0m\n\u001b[0;32m      2\u001b[0m     \u001b[1;31m#df_business_forJoin[df_business_forJoin['business_id'] == businessId].business_num_id = df_join_final[df_join_final['business_id'] == businessId].business_num_id[0]\u001b[0m\u001b[1;33m\u001b[0m\u001b[1;33m\u001b[0m\u001b[1;33m\u001b[0m\u001b[0m\n\u001b[1;32m----> 3\u001b[1;33m     \u001b[0mtempBusNumId\u001b[0m \u001b[1;33m=\u001b[0m \u001b[0mdf_join_final\u001b[0m\u001b[1;33m[\u001b[0m\u001b[0mdf_join_final\u001b[0m\u001b[1;33m[\u001b[0m\u001b[1;34m'business_id'\u001b[0m\u001b[1;33m]\u001b[0m \u001b[1;33m==\u001b[0m \u001b[0mbusinessId\u001b[0m\u001b[1;33m]\u001b[0m\u001b[1;33m.\u001b[0m\u001b[0mbusiness_num_id\u001b[0m\u001b[1;33m.\u001b[0m\u001b[0miloc\u001b[0m\u001b[1;33m[\u001b[0m\u001b[1;36m0\u001b[0m\u001b[1;33m]\u001b[0m\u001b[1;33m\u001b[0m\u001b[1;33m\u001b[0m\u001b[0m\n\u001b[0m\u001b[0;32m      4\u001b[0m     \u001b[0mdf_business_forJoin\u001b[0m\u001b[1;33m[\u001b[0m\u001b[0mdf_business_forJoin\u001b[0m\u001b[1;33m[\u001b[0m\u001b[1;34m'business_id'\u001b[0m\u001b[1;33m]\u001b[0m \u001b[1;33m==\u001b[0m \u001b[0mbusinessId\u001b[0m\u001b[1;33m]\u001b[0m\u001b[1;33m.\u001b[0m\u001b[0mbusiness_num_id\u001b[0m \u001b[1;33m=\u001b[0m \u001b[0mtempBusNumId\u001b[0m\u001b[1;33m\u001b[0m\u001b[1;33m\u001b[0m\u001b[0m\n",
      "\u001b[1;32mC:\\ProgramData\\Anaconda3\\lib\\site-packages\\pandas\\core\\indexing.py\u001b[0m in \u001b[0;36m__getitem__\u001b[1;34m(self, key)\u001b[0m\n\u001b[0;32m   1498\u001b[0m \u001b[1;33m\u001b[0m\u001b[0m\n\u001b[0;32m   1499\u001b[0m             \u001b[0mmaybe_callable\u001b[0m \u001b[1;33m=\u001b[0m \u001b[0mcom\u001b[0m\u001b[1;33m.\u001b[0m\u001b[0mapply_if_callable\u001b[0m\u001b[1;33m(\u001b[0m\u001b[0mkey\u001b[0m\u001b[1;33m,\u001b[0m \u001b[0mself\u001b[0m\u001b[1;33m.\u001b[0m\u001b[0mobj\u001b[0m\u001b[1;33m)\u001b[0m\u001b[1;33m\u001b[0m\u001b[1;33m\u001b[0m\u001b[0m\n\u001b[1;32m-> 1500\u001b[1;33m             \u001b[1;32mreturn\u001b[0m \u001b[0mself\u001b[0m\u001b[1;33m.\u001b[0m\u001b[0m_getitem_axis\u001b[0m\u001b[1;33m(\u001b[0m\u001b[0mmaybe_callable\u001b[0m\u001b[1;33m,\u001b[0m \u001b[0maxis\u001b[0m\u001b[1;33m=\u001b[0m\u001b[0maxis\u001b[0m\u001b[1;33m)\u001b[0m\u001b[1;33m\u001b[0m\u001b[1;33m\u001b[0m\u001b[0m\n\u001b[0m\u001b[0;32m   1501\u001b[0m \u001b[1;33m\u001b[0m\u001b[0m\n\u001b[0;32m   1502\u001b[0m     \u001b[1;32mdef\u001b[0m \u001b[0m_is_scalar_access\u001b[0m\u001b[1;33m(\u001b[0m\u001b[0mself\u001b[0m\u001b[1;33m,\u001b[0m \u001b[0mkey\u001b[0m\u001b[1;33m)\u001b[0m\u001b[1;33m:\u001b[0m\u001b[1;33m\u001b[0m\u001b[1;33m\u001b[0m\u001b[0m\n",
      "\u001b[1;32mC:\\ProgramData\\Anaconda3\\lib\\site-packages\\pandas\\core\\indexing.py\u001b[0m in \u001b[0;36m_getitem_axis\u001b[1;34m(self, key, axis)\u001b[0m\n\u001b[0;32m   2228\u001b[0m \u001b[1;33m\u001b[0m\u001b[0m\n\u001b[0;32m   2229\u001b[0m             \u001b[1;31m# validate the location\u001b[0m\u001b[1;33m\u001b[0m\u001b[1;33m\u001b[0m\u001b[1;33m\u001b[0m\u001b[0m\n\u001b[1;32m-> 2230\u001b[1;33m             \u001b[0mself\u001b[0m\u001b[1;33m.\u001b[0m\u001b[0m_validate_integer\u001b[0m\u001b[1;33m(\u001b[0m\u001b[0mkey\u001b[0m\u001b[1;33m,\u001b[0m \u001b[0maxis\u001b[0m\u001b[1;33m)\u001b[0m\u001b[1;33m\u001b[0m\u001b[1;33m\u001b[0m\u001b[0m\n\u001b[0m\u001b[0;32m   2231\u001b[0m \u001b[1;33m\u001b[0m\u001b[0m\n\u001b[0;32m   2232\u001b[0m             \u001b[1;32mreturn\u001b[0m \u001b[0mself\u001b[0m\u001b[1;33m.\u001b[0m\u001b[0m_get_loc\u001b[0m\u001b[1;33m(\u001b[0m\u001b[0mkey\u001b[0m\u001b[1;33m,\u001b[0m \u001b[0maxis\u001b[0m\u001b[1;33m=\u001b[0m\u001b[0maxis\u001b[0m\u001b[1;33m)\u001b[0m\u001b[1;33m\u001b[0m\u001b[1;33m\u001b[0m\u001b[0m\n",
      "\u001b[1;32mC:\\ProgramData\\Anaconda3\\lib\\site-packages\\pandas\\core\\indexing.py\u001b[0m in \u001b[0;36m_validate_integer\u001b[1;34m(self, key, axis)\u001b[0m\n\u001b[0;32m   2137\u001b[0m         \u001b[0mlen_axis\u001b[0m \u001b[1;33m=\u001b[0m \u001b[0mlen\u001b[0m\u001b[1;33m(\u001b[0m\u001b[0mself\u001b[0m\u001b[1;33m.\u001b[0m\u001b[0mobj\u001b[0m\u001b[1;33m.\u001b[0m\u001b[0m_get_axis\u001b[0m\u001b[1;33m(\u001b[0m\u001b[0maxis\u001b[0m\u001b[1;33m)\u001b[0m\u001b[1;33m)\u001b[0m\u001b[1;33m\u001b[0m\u001b[1;33m\u001b[0m\u001b[0m\n\u001b[0;32m   2138\u001b[0m         \u001b[1;32mif\u001b[0m \u001b[0mkey\u001b[0m \u001b[1;33m>=\u001b[0m \u001b[0mlen_axis\u001b[0m \u001b[1;32mor\u001b[0m \u001b[0mkey\u001b[0m \u001b[1;33m<\u001b[0m \u001b[1;33m-\u001b[0m\u001b[0mlen_axis\u001b[0m\u001b[1;33m:\u001b[0m\u001b[1;33m\u001b[0m\u001b[1;33m\u001b[0m\u001b[0m\n\u001b[1;32m-> 2139\u001b[1;33m             \u001b[1;32mraise\u001b[0m \u001b[0mIndexError\u001b[0m\u001b[1;33m(\u001b[0m\u001b[1;34m\"single positional indexer is out-of-bounds\"\u001b[0m\u001b[1;33m)\u001b[0m\u001b[1;33m\u001b[0m\u001b[1;33m\u001b[0m\u001b[0m\n\u001b[0m\u001b[0;32m   2140\u001b[0m \u001b[1;33m\u001b[0m\u001b[0m\n\u001b[0;32m   2141\u001b[0m     \u001b[1;32mdef\u001b[0m \u001b[0m_getitem_tuple\u001b[0m\u001b[1;33m(\u001b[0m\u001b[0mself\u001b[0m\u001b[1;33m,\u001b[0m \u001b[0mtup\u001b[0m\u001b[1;33m)\u001b[0m\u001b[1;33m:\u001b[0m\u001b[1;33m\u001b[0m\u001b[1;33m\u001b[0m\u001b[0m\n",
      "\u001b[1;31mIndexError\u001b[0m: single positional indexer is out-of-bounds"
     ]
    }
   ],
   "source": [
    "for businessId in df_business_forJoin['business_id']:\n",
    "    #df_business_forJoin[df_business_forJoin['business_id'] == businessId].business_num_id = df_join_final[df_join_final['business_id'] == businessId].business_num_id[0]\n",
    "    tempBusNumId = df_join_final[df_join_final['business_id'] == businessId].business_num_id.iloc[0]\n",
    "    df_business_forJoin[df_business_forJoin['business_id'] == businessId].business_num_id = tempBusNumId"
   ]
  },
  {
   "cell_type": "code",
   "execution_count": 78,
   "metadata": {},
   "outputs": [
    {
     "data": {
      "text/plain": [
       "'8UsalYi1Jkbk8WitFEa_aQ'"
      ]
     },
     "execution_count": 78,
     "metadata": {},
     "output_type": "execute_result"
    }
   ],
   "source": []
  },
  {
   "cell_type": "code",
   "execution_count": 62,
   "metadata": {
    "scrolled": true
   },
   "outputs": [
    {
     "data": {
      "text/html": [
       "<div>\n",
       "<style scoped>\n",
       "    .dataframe tbody tr th:only-of-type {\n",
       "        vertical-align: middle;\n",
       "    }\n",
       "\n",
       "    .dataframe tbody tr th {\n",
       "        vertical-align: top;\n",
       "    }\n",
       "\n",
       "    .dataframe thead th {\n",
       "        text-align: right;\n",
       "    }\n",
       "</style>\n",
       "<table border=\"1\" class=\"dataframe\">\n",
       "  <thead>\n",
       "    <tr style=\"text-align: right;\">\n",
       "      <th></th>\n",
       "      <th>business_id</th>\n",
       "      <th>business_stars</th>\n",
       "      <th>categories</th>\n",
       "      <th>attributes</th>\n",
       "      <th>business_num_id</th>\n",
       "    </tr>\n",
       "  </thead>\n",
       "  <tbody>\n",
       "    <tr>\n",
       "      <th>41190</th>\n",
       "      <td>--1UhMGODdWsrMastO9DZw</td>\n",
       "      <td>4.0</td>\n",
       "      <td>Restaurants, Mexican</td>\n",
       "      <td>{'BusinessParking': '{'garage': False, 'street...</td>\n",
       "      <td>499</td>\n",
       "    </tr>\n",
       "  </tbody>\n",
       "</table>\n",
       "</div>"
      ],
      "text/plain": [
       "                  business_id  business_stars            categories  \\\n",
       "41190  --1UhMGODdWsrMastO9DZw             4.0  Restaurants, Mexican   \n",
       "\n",
       "                                              attributes  business_num_id  \n",
       "41190  {'BusinessParking': '{'garage': False, 'street...              499  "
      ]
     },
     "execution_count": 62,
     "metadata": {},
     "output_type": "execute_result"
    }
   ],
   "source": [
    "df_business_forJoin[df_business_forJoin.business_id =='--1UhMGODdWsrMastO9DZw']"
   ]
  },
  {
   "cell_type": "code",
   "execution_count": 65,
   "metadata": {},
   "outputs": [
    {
     "data": {
      "text/html": [
       "<div>\n",
       "<style scoped>\n",
       "    .dataframe tbody tr th:only-of-type {\n",
       "        vertical-align: middle;\n",
       "    }\n",
       "\n",
       "    .dataframe tbody tr th {\n",
       "        vertical-align: top;\n",
       "    }\n",
       "\n",
       "    .dataframe thead th {\n",
       "        text-align: right;\n",
       "    }\n",
       "</style>\n",
       "<table border=\"1\" class=\"dataframe\">\n",
       "  <thead>\n",
       "    <tr style=\"text-align: right;\">\n",
       "      <th></th>\n",
       "      <th>business_id</th>\n",
       "      <th>business_stars</th>\n",
       "      <th>categories</th>\n",
       "      <th>attributes</th>\n",
       "      <th>business_num_id</th>\n",
       "    </tr>\n",
       "  </thead>\n",
       "  <tbody>\n",
       "    <tr>\n",
       "      <th>0</th>\n",
       "      <td>QXAEGFB4oINsVuTFxEYKFQ</td>\n",
       "      <td>2.5</td>\n",
       "      <td>Specialty Food, Restaurants, Dim Sum, Imported...</td>\n",
       "      <td>{'RestaurantsReservations': 'True', 'GoodForMe...</td>\n",
       "      <td>0</td>\n",
       "    </tr>\n",
       "    <tr>\n",
       "      <th>1</th>\n",
       "      <td>gnKjwL_1w79qoiV3IC_xQQ</td>\n",
       "      <td>4.0</td>\n",
       "      <td>Sushi Bars, Restaurants, Japanese</td>\n",
       "      <td>{'GoodForKids': 'True', 'NoiseLevel': 'u'avera...</td>\n",
       "      <td>0</td>\n",
       "    </tr>\n",
       "    <tr>\n",
       "      <th>2</th>\n",
       "      <td>1Dfx3zM-rW4n-31KeC8sJg</td>\n",
       "      <td>3.0</td>\n",
       "      <td>Restaurants, Breakfast &amp; Brunch, Mexican, Taco...</td>\n",
       "      <td>{'RestaurantsTakeOut': 'True', 'BusinessParkin...</td>\n",
       "      <td>0</td>\n",
       "    </tr>\n",
       "    <tr>\n",
       "      <th>3</th>\n",
       "      <td>fweCYi8FmbJXHCqLnwuk8w</td>\n",
       "      <td>4.0</td>\n",
       "      <td>Italian, Restaurants, Pizza, Chicken Wings</td>\n",
       "      <td>{'RestaurantsPriceRange2': '2', 'BusinessAccep...</td>\n",
       "      <td>0</td>\n",
       "    </tr>\n",
       "    <tr>\n",
       "      <th>4</th>\n",
       "      <td>-K4gAv8_vjx8-2BxkVeRkA</td>\n",
       "      <td>3.0</td>\n",
       "      <td>Bakeries, Food</td>\n",
       "      <td>{'RestaurantsTakeOut': 'True', 'BusinessParkin...</td>\n",
       "      <td>0</td>\n",
       "    </tr>\n",
       "    <tr>\n",
       "      <th>5</th>\n",
       "      <td>1RHY4K3BD22FK7Cfftn8Mg</td>\n",
       "      <td>4.0</td>\n",
       "      <td>Sandwiches, Salad, Restaurants, Burgers, Comfo...</td>\n",
       "      <td>{'RestaurantsTakeOut': 'True', 'BusinessParkin...</td>\n",
       "      <td>0</td>\n",
       "    </tr>\n",
       "    <tr>\n",
       "      <th>6</th>\n",
       "      <td>tstimHoMcYbkSC4eBA1wEg</td>\n",
       "      <td>4.5</td>\n",
       "      <td>Mexican, Restaurants, Patisserie/Cake Shop, Fo...</td>\n",
       "      <td>{'BikeParking': 'True', 'BusinessParking': '{'...</td>\n",
       "      <td>0</td>\n",
       "    </tr>\n",
       "    <tr>\n",
       "      <th>7</th>\n",
       "      <td>C9oCPomVP0mtKa8z99E3gg</td>\n",
       "      <td>4.5</td>\n",
       "      <td>Bakeries, Food</td>\n",
       "      <td>{'RestaurantsDelivery': 'False', 'RestaurantsP...</td>\n",
       "      <td>0</td>\n",
       "    </tr>\n",
       "    <tr>\n",
       "      <th>8</th>\n",
       "      <td>NDuUMJfrWk52RA-H-OtrpA</td>\n",
       "      <td>3.0</td>\n",
       "      <td>Juice Bars &amp; Smoothies, Food, Restaurants, Fas...</td>\n",
       "      <td>{'WiFi': 'u'no'', 'BikeParking': 'True', 'Rest...</td>\n",
       "      <td>0</td>\n",
       "    </tr>\n",
       "    <tr>\n",
       "      <th>9</th>\n",
       "      <td>NBn4hgfGtNz91k3VsDZlmw</td>\n",
       "      <td>5.0</td>\n",
       "      <td>Local Services, Food Banks, Community Service/...</td>\n",
       "      <td>{'RestaurantsPriceRange2': '1', 'BusinessAccep...</td>\n",
       "      <td>0</td>\n",
       "    </tr>\n",
       "  </tbody>\n",
       "</table>\n",
       "</div>"
      ],
      "text/plain": [
       "              business_id  business_stars  \\\n",
       "0  QXAEGFB4oINsVuTFxEYKFQ             2.5   \n",
       "1  gnKjwL_1w79qoiV3IC_xQQ             4.0   \n",
       "2  1Dfx3zM-rW4n-31KeC8sJg             3.0   \n",
       "3  fweCYi8FmbJXHCqLnwuk8w             4.0   \n",
       "4  -K4gAv8_vjx8-2BxkVeRkA             3.0   \n",
       "5  1RHY4K3BD22FK7Cfftn8Mg             4.0   \n",
       "6  tstimHoMcYbkSC4eBA1wEg             4.5   \n",
       "7  C9oCPomVP0mtKa8z99E3gg             4.5   \n",
       "8  NDuUMJfrWk52RA-H-OtrpA             3.0   \n",
       "9  NBn4hgfGtNz91k3VsDZlmw             5.0   \n",
       "\n",
       "                                          categories  \\\n",
       "0  Specialty Food, Restaurants, Dim Sum, Imported...   \n",
       "1                  Sushi Bars, Restaurants, Japanese   \n",
       "2  Restaurants, Breakfast & Brunch, Mexican, Taco...   \n",
       "3         Italian, Restaurants, Pizza, Chicken Wings   \n",
       "4                                     Bakeries, Food   \n",
       "5  Sandwiches, Salad, Restaurants, Burgers, Comfo...   \n",
       "6  Mexican, Restaurants, Patisserie/Cake Shop, Fo...   \n",
       "7                                     Bakeries, Food   \n",
       "8  Juice Bars & Smoothies, Food, Restaurants, Fas...   \n",
       "9  Local Services, Food Banks, Community Service/...   \n",
       "\n",
       "                                          attributes  business_num_id  \n",
       "0  {'RestaurantsReservations': 'True', 'GoodForMe...                0  \n",
       "1  {'GoodForKids': 'True', 'NoiseLevel': 'u'avera...                0  \n",
       "2  {'RestaurantsTakeOut': 'True', 'BusinessParkin...                0  \n",
       "3  {'RestaurantsPriceRange2': '2', 'BusinessAccep...                0  \n",
       "4  {'RestaurantsTakeOut': 'True', 'BusinessParkin...                0  \n",
       "5  {'RestaurantsTakeOut': 'True', 'BusinessParkin...                0  \n",
       "6  {'BikeParking': 'True', 'BusinessParking': '{'...                0  \n",
       "7  {'RestaurantsDelivery': 'False', 'RestaurantsP...                0  \n",
       "8  {'WiFi': 'u'no'', 'BikeParking': 'True', 'Rest...                0  \n",
       "9  {'RestaurantsPriceRange2': '1', 'BusinessAccep...                0  "
      ]
     },
     "execution_count": 65,
     "metadata": {},
     "output_type": "execute_result"
    }
   ],
   "source": [
    "df_business_forJoin.head(10)"
   ]
  },
  {
   "cell_type": "markdown",
   "metadata": {},
   "source": [
    "### Export the cleaned review data, with user user average rating and valid business locations"
   ]
  },
  {
   "cell_type": "code",
   "execution_count": 36,
   "metadata": {},
   "outputs": [],
   "source": [
    "#Export = df_join_final.to_json(r'..\\\\data\\\\Export_CleanedReview.json', orient='records')"
   ]
  },
  {
   "cell_type": "markdown",
   "metadata": {},
   "source": [
    "### The way to split the data into smaller portion"
   ]
  },
  {
   "cell_type": "code",
   "execution_count": 37,
   "metadata": {},
   "outputs": [],
   "source": [
    "# total_len = len(data)\n",
    "# num = 10\n",
    "# chunk_len = total_len // num\n",
    "\n",
    "# folder = \"data\"\n",
    "# if not os.path.exists(folder):\n",
    "#     os.makedirs(folder)\n",
    "# for i in range(num):\n",
    "#     name = os.path.join(folder, \"%d.txt\" % i) \n",
    "#     with open(name, 'a') as f:\n",
    "#         for line in tqdm.tqdm(data[i*chunk_len :  (i+1)*chunk_len]):\n",
    "#             data_s = json.dumps(line)+\"\\n\"\n",
    "#             f.write(data_s)\n",
    "#     print(\"fininshed file: \", i)\n",
    "\n",
    "# name = os.path.join(folder, \"%d.txt\" % num) \n",
    "# with open(name, 'a') as f:\n",
    "#     for line in tqdm.tqdm(data[num*chunk_len :  total_len]):\n",
    "#         data_s = json.dumps(line)+\"\\n\"\n",
    "#         f.write(data_s)\n",
    "# print(\"fininshed file: \", i)"
   ]
  }
 ],
 "metadata": {
  "kernelspec": {
   "display_name": "Python 3",
   "language": "python",
   "name": "python3"
  },
  "language_info": {
   "codemirror_mode": {
    "name": "ipython",
    "version": 3
   },
   "file_extension": ".py",
   "mimetype": "text/x-python",
   "name": "python",
   "nbconvert_exporter": "python",
   "pygments_lexer": "ipython3",
   "version": "3.7.3"
  }
 },
 "nbformat": 4,
 "nbformat_minor": 2
}
