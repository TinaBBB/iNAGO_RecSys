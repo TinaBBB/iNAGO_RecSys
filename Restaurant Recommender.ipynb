{
 "cells": [
  {
   "cell_type": "code",
   "execution_count": 1,
   "metadata": {},
   "outputs": [],
   "source": [
    "import pandas as pd\n",
    "import matplotlib.pyplot as plt\n",
    "% matplotlib inline\n",
    "import numpy as np\n",
    "plt.style.use(\"ggplot\")"
   ]
  },
  {
   "cell_type": "markdown",
   "metadata": {},
   "source": [
    "### Load Data"
   ]
  },
  {
   "cell_type": "code",
   "execution_count": 2,
   "metadata": {},
   "outputs": [
    {
     "data": {
      "text/html": [
       "<div>\n",
       "<style>\n",
       "    .dataframe thead tr:only-child th {\n",
       "        text-align: right;\n",
       "    }\n",
       "\n",
       "    .dataframe thead th {\n",
       "        text-align: left;\n",
       "    }\n",
       "\n",
       "    .dataframe tbody tr th {\n",
       "        vertical-align: top;\n",
       "    }\n",
       "</style>\n",
       "<table border=\"1\" class=\"dataframe\">\n",
       "  <thead>\n",
       "    <tr style=\"text-align: right;\">\n",
       "      <th></th>\n",
       "      <th>business_id</th>\n",
       "      <th>stars</th>\n",
       "      <th>user_id</th>\n",
       "    </tr>\n",
       "  </thead>\n",
       "  <tbody>\n",
       "    <tr>\n",
       "      <th>0</th>\n",
       "      <td>--9e1ONYQuAa-CB_Rrw7Tw</td>\n",
       "      <td>5</td>\n",
       "      <td>ymlnR8UeFvB4FZL56tCZsA</td>\n",
       "    </tr>\n",
       "    <tr>\n",
       "      <th>1</th>\n",
       "      <td>--9e1ONYQuAa-CB_Rrw7Tw</td>\n",
       "      <td>5</td>\n",
       "      <td>9pSSL6X6lFpY3FCRLEH3og</td>\n",
       "    </tr>\n",
       "    <tr>\n",
       "      <th>2</th>\n",
       "      <td>--9e1ONYQuAa-CB_Rrw7Tw</td>\n",
       "      <td>5</td>\n",
       "      <td>gm8nNoA3uB4In5o_Hxpq3g</td>\n",
       "    </tr>\n",
       "    <tr>\n",
       "      <th>3</th>\n",
       "      <td>--9e1ONYQuAa-CB_Rrw7Tw</td>\n",
       "      <td>3</td>\n",
       "      <td>CEtidlXNyQzgJSdF1ubPFw</td>\n",
       "    </tr>\n",
       "    <tr>\n",
       "      <th>4</th>\n",
       "      <td>--9e1ONYQuAa-CB_Rrw7Tw</td>\n",
       "      <td>5</td>\n",
       "      <td>-Z7Nw2UF7NiBSAzfXNA_XA</td>\n",
       "    </tr>\n",
       "  </tbody>\n",
       "</table>\n",
       "</div>"
      ],
      "text/plain": [
       "              business_id  stars                 user_id\n",
       "0  --9e1ONYQuAa-CB_Rrw7Tw      5  ymlnR8UeFvB4FZL56tCZsA\n",
       "1  --9e1ONYQuAa-CB_Rrw7Tw      5  9pSSL6X6lFpY3FCRLEH3og\n",
       "2  --9e1ONYQuAa-CB_Rrw7Tw      5  gm8nNoA3uB4In5o_Hxpq3g\n",
       "3  --9e1ONYQuAa-CB_Rrw7Tw      3  CEtidlXNyQzgJSdF1ubPFw\n",
       "4  --9e1ONYQuAa-CB_Rrw7Tw      5  -Z7Nw2UF7NiBSAzfXNA_XA"
      ]
     },
     "execution_count": 2,
     "metadata": {},
     "output_type": "execute_result"
    }
   ],
   "source": [
    "df = pd.read_csv('data\\\\review_classification.csv', encoding = \"utf-8\", usecols = ['business_id','user_id','stars'])\n",
    "df.head()"
   ]
  },
  {
   "cell_type": "markdown",
   "metadata": {},
   "source": [
    "### Clean and Analyze Data"
   ]
  },
  {
   "cell_type": "code",
   "execution_count": 3,
   "metadata": {},
   "outputs": [
    {
     "data": {
      "text/plain": [
       "5    278772\n",
       "4    123321\n",
       "1     74337\n",
       "3     63377\n",
       "2     47120\n",
       "Name: stars, dtype: int64"
      ]
     },
     "execution_count": 3,
     "metadata": {},
     "output_type": "execute_result"
    }
   ],
   "source": [
    "# stars distribution\n",
    "df['stars'].value_counts()"
   ]
  },
  {
   "cell_type": "code",
   "execution_count": 4,
   "metadata": {},
   "outputs": [
    {
     "name": "stdout",
     "output_type": "stream",
     "text": [
      "number of unique business_id:  3958\n",
      "number of unique user_id:  262322\n"
     ]
    }
   ],
   "source": [
    "# number of unique business_id\n",
    "print('number of unique business_id: ',df['business_id'].nunique()) \n",
    "# number of unique user_id\n",
    "print('number of unique user_id: ',df['user_id'].nunique())"
   ]
  },
  {
   "cell_type": "code",
   "execution_count": 5,
   "metadata": {},
   "outputs": [
    {
     "data": {
      "text/plain": [
       "bLbSNkLggFnqwNNzzq-Ijw    664\n",
       "JaqcCU3nxReTW2cBLHounA    347\n",
       "PKEzKWv_FktMm2mGPjwd0Q    273\n",
       "U4INQZOPSUaj8hMjLlZ3KA    227\n",
       "qPVtjjp8sNQ32p9860SR9Q    212\n",
       "Name: user_id, dtype: int64"
      ]
     },
     "execution_count": 5,
     "metadata": {},
     "output_type": "execute_result"
    }
   ],
   "source": [
    "# number of comments made by each user\n",
    "user_review_count = df['user_id'].value_counts()\n",
    "user_review_count.head()"
   ]
  },
  {
   "cell_type": "code",
   "execution_count": 6,
   "metadata": {},
   "outputs": [
    {
     "data": {
      "text/plain": [
       "<function matplotlib.pyplot.show>"
      ]
     },
     "execution_count": 6,
     "metadata": {},
     "output_type": "execute_result"
    },
    {
     "data": {
      "image/png": "[encoded data removed]",
      "text/plain": [
       "<matplotlib.figure.Figure at 0x1df74731da0>"
      ]
     },
     "metadata": {},
     "output_type": "display_data"
    }
   ],
   "source": [
    "# display log histogram\n",
    "user_review_count.apply(np.log).hist()\n",
    "plt.show"
   ]
  },
  {
   "cell_type": "code",
   "execution_count": 7,
   "metadata": {},
   "outputs": [
    {
     "name": "stdout",
     "output_type": "stream",
     "text": [
      "Number of users who made more than 5 reiews:  16381\n",
      "Number of reviews:  210114\n"
     ]
    },
    {
     "data": {
      "text/plain": [
       "bLbSNkLggFnqwNNzzq-Ijw    664\n",
       "JaqcCU3nxReTW2cBLHounA    347\n",
       "PKEzKWv_FktMm2mGPjwd0Q    273\n",
       "U4INQZOPSUaj8hMjLlZ3KA    227\n",
       "qPVtjjp8sNQ32p9860SR9Q    212\n",
       "Name: user_id, dtype: int64"
      ]
     },
     "execution_count": 7,
     "metadata": {},
     "output_type": "execute_result"
    }
   ],
   "source": [
    "# Exclude users that haven't given many reviews (will become noise when computing item-item similarity)\n",
    "# take users that has made more than 5 reviews\n",
    "df_users = user_review_count[user_review_count > 5]\n",
    "# count how many users\n",
    "print('Number of users who made more than 5 reiews: ',df_users.count())\n",
    "# count how many reviews\n",
    "print('Number of reviews: ',df_users.sum())\n",
    "df_users.head()"
   ]
  },
  {
   "cell_type": "code",
   "execution_count": 8,
   "metadata": {},
   "outputs": [
    {
     "name": "stderr",
     "output_type": "stream",
     "text": [
      "C:\\Users\\yle\\AppData\\Local\\Continuum\\anaconda3\\lib\\site-packages\\ipykernel_launcher.py:2: DeprecationWarning: \n",
      ".ix is deprecated. Please use\n",
      ".loc for label based indexing or\n",
      ".iloc for positional indexing\n",
      "\n",
      "See the documentation here:\n",
      "http://pandas.pydata.org/pandas-docs/stable/indexing.html#ix-indexer-is-deprecated\n",
      "  \n"
     ]
    },
    {
     "data": {
      "text/html": [
       "<div>\n",
       "<style>\n",
       "    .dataframe thead tr:only-child th {\n",
       "        text-align: right;\n",
       "    }\n",
       "\n",
       "    .dataframe thead th {\n",
       "        text-align: left;\n",
       "    }\n",
       "\n",
       "    .dataframe tbody tr th {\n",
       "        vertical-align: top;\n",
       "    }\n",
       "</style>\n",
       "<table border=\"1\" class=\"dataframe\">\n",
       "  <thead>\n",
       "    <tr style=\"text-align: right;\">\n",
       "      <th></th>\n",
       "      <th>user_id</th>\n",
       "      <th>business_id</th>\n",
       "      <th>stars</th>\n",
       "    </tr>\n",
       "  </thead>\n",
       "  <tbody>\n",
       "    <tr>\n",
       "      <th>0</th>\n",
       "      <td>bLbSNkLggFnqwNNzzq-Ijw</td>\n",
       "      <td>-CQokjildrY7UZezXCdEBw</td>\n",
       "      <td>5</td>\n",
       "    </tr>\n",
       "    <tr>\n",
       "      <th>1</th>\n",
       "      <td>bLbSNkLggFnqwNNzzq-Ijw</td>\n",
       "      <td>-FcZY7a7qgxTUlTvwuyJnQ</td>\n",
       "      <td>3</td>\n",
       "    </tr>\n",
       "    <tr>\n",
       "      <th>2</th>\n",
       "      <td>bLbSNkLggFnqwNNzzq-Ijw</td>\n",
       "      <td>-IWsoxH7mLJTTpU5MmWY4w</td>\n",
       "      <td>4</td>\n",
       "    </tr>\n",
       "    <tr>\n",
       "      <th>3</th>\n",
       "      <td>bLbSNkLggFnqwNNzzq-Ijw</td>\n",
       "      <td>-NjZ5HZApXjRJaTVZeSO_w</td>\n",
       "      <td>4</td>\n",
       "    </tr>\n",
       "    <tr>\n",
       "      <th>4</th>\n",
       "      <td>bLbSNkLggFnqwNNzzq-Ijw</td>\n",
       "      <td>-RJ216TTIghZshCkUlD1WQ</td>\n",
       "      <td>4</td>\n",
       "    </tr>\n",
       "  </tbody>\n",
       "</table>\n",
       "</div>"
      ],
      "text/plain": [
       "                  user_id             business_id  stars\n",
       "0  bLbSNkLggFnqwNNzzq-Ijw  -CQokjildrY7UZezXCdEBw      5\n",
       "1  bLbSNkLggFnqwNNzzq-Ijw  -FcZY7a7qgxTUlTvwuyJnQ      3\n",
       "2  bLbSNkLggFnqwNNzzq-Ijw  -IWsoxH7mLJTTpU5MmWY4w      4\n",
       "3  bLbSNkLggFnqwNNzzq-Ijw  -NjZ5HZApXjRJaTVZeSO_w      4\n",
       "4  bLbSNkLggFnqwNNzzq-Ijw  -RJ216TTIghZshCkUlD1WQ      4"
      ]
     },
     "execution_count": 8,
     "metadata": {},
     "output_type": "execute_result"
    }
   ],
   "source": [
    "# filter the data frame with selected users\n",
    "df = df.set_index('user_id').ix[df_users.index].reset_index()\n",
    "df.head()"
   ]
  },
  {
   "cell_type": "markdown",
   "metadata": {},
   "source": [
    "### Create Utility Martrix"
   ]
  },
  {
   "cell_type": "code",
   "execution_count": 9,
   "metadata": {},
   "outputs": [],
   "source": [
    "df_utility = pd.pivot_table(data = df,\n",
    "                            values = 'stars', # fill with stars\n",
    "                            index = 'user_id', # rows\n",
    "                            columns = 'business_id', # columns\n",
    "                            fill_value = 0) # fill missings                  "
   ]
  },
  {
   "cell_type": "code",
   "execution_count": 14,
   "metadata": {},
   "outputs": [
    {
     "name": "stdout",
     "output_type": "stream",
     "text": [
      "(16381, 3848)\n"
     ]
    },
    {
     "data": {
      "text/html": [
       "<div>\n",
       "<style>\n",
       "    .dataframe thead tr:only-child th {\n",
       "        text-align: right;\n",
       "    }\n",
       "\n",
       "    .dataframe thead th {\n",
       "        text-align: left;\n",
       "    }\n",
       "\n",
       "    .dataframe tbody tr th {\n",
       "        vertical-align: top;\n",
       "    }\n",
       "</style>\n",
       "<table border=\"1\" class=\"dataframe\">\n",
       "  <thead>\n",
       "    <tr style=\"text-align: right;\">\n",
       "      <th>business_id</th>\n",
       "      <th>--9e1ONYQuAa-CB_Rrw7Tw</th>\n",
       "      <th>-1m9o3vGRA8IBPNvNqKLmA</th>\n",
       "      <th>-3zffZUHoY8bQjGfPSoBKQ</th>\n",
       "      <th>-8R_-EkGpUhBk55K9Dd4mg</th>\n",
       "      <th>-9YyInW1wapzdNZrhQJ9dg</th>\n",
       "      <th>-AD5PiuJHgdUcAK-Vxao2A</th>\n",
       "      <th>-ADtl9bLp8wNqYX1k3KuxA</th>\n",
       "      <th>-Bf8BQ3yMk8U2f45r2DRKw</th>\n",
       "      <th>-Bv-HHUs8aHzDrdWcZHn8w</th>\n",
       "      <th>-CQokjildrY7UZezXCdEBw</th>\n",
       "      <th>...</th>\n",
       "      <th>zjvnqTjBp56NhMp1GrlO5g</th>\n",
       "      <th>zmltWmTpoBt5sCU-5Kzj-Q</th>\n",
       "      <th>znWHLW1pt19HzW1VY6KfCA</th>\n",
       "      <th>zp-K5s3pGTWuuaVBWo6WZA</th>\n",
       "      <th>zpoZ6WyQUYff18-z4ZU1mA</th>\n",
       "      <th>zr42_UsWfaIF-rcp37OpwA</th>\n",
       "      <th>zsQk990PubOHjr1YcLkQFw</th>\n",
       "      <th>zuwba6QEBIDZT0tJZmNhdQ</th>\n",
       "      <th>zwNC-Ow4eIMan2__bS9-rg</th>\n",
       "      <th>zx_j6OuuHHa2afVoAZuLpA</th>\n",
       "    </tr>\n",
       "    <tr>\n",
       "      <th>user_id</th>\n",
       "      <th></th>\n",
       "      <th></th>\n",
       "      <th></th>\n",
       "      <th></th>\n",
       "      <th></th>\n",
       "      <th></th>\n",
       "      <th></th>\n",
       "      <th></th>\n",
       "      <th></th>\n",
       "      <th></th>\n",
       "      <th></th>\n",
       "      <th></th>\n",
       "      <th></th>\n",
       "      <th></th>\n",
       "      <th></th>\n",
       "      <th></th>\n",
       "      <th></th>\n",
       "      <th></th>\n",
       "      <th></th>\n",
       "      <th></th>\n",
       "      <th></th>\n",
       "    </tr>\n",
       "  </thead>\n",
       "  <tbody>\n",
       "    <tr>\n",
       "      <th>--LUapetRSkZpFZ2d-MXLQ</th>\n",
       "      <td>0</td>\n",
       "      <td>0</td>\n",
       "      <td>0</td>\n",
       "      <td>0</td>\n",
       "      <td>0</td>\n",
       "      <td>0</td>\n",
       "      <td>0</td>\n",
       "      <td>0</td>\n",
       "      <td>0</td>\n",
       "      <td>0</td>\n",
       "      <td>...</td>\n",
       "      <td>0</td>\n",
       "      <td>0</td>\n",
       "      <td>0</td>\n",
       "      <td>0</td>\n",
       "      <td>0</td>\n",
       "      <td>0</td>\n",
       "      <td>0</td>\n",
       "      <td>0</td>\n",
       "      <td>0</td>\n",
       "      <td>0</td>\n",
       "    </tr>\n",
       "    <tr>\n",
       "      <th>--RlSfc-QmcHFGHyX6aVjA</th>\n",
       "      <td>0</td>\n",
       "      <td>0</td>\n",
       "      <td>0</td>\n",
       "      <td>0</td>\n",
       "      <td>0</td>\n",
       "      <td>0</td>\n",
       "      <td>0</td>\n",
       "      <td>0</td>\n",
       "      <td>0</td>\n",
       "      <td>0</td>\n",
       "      <td>...</td>\n",
       "      <td>0</td>\n",
       "      <td>0</td>\n",
       "      <td>0</td>\n",
       "      <td>0</td>\n",
       "      <td>0</td>\n",
       "      <td>0</td>\n",
       "      <td>0</td>\n",
       "      <td>0</td>\n",
       "      <td>0</td>\n",
       "      <td>0</td>\n",
       "    </tr>\n",
       "    <tr>\n",
       "      <th>--ZNfWKj1VyVElRx6-g1fg</th>\n",
       "      <td>0</td>\n",
       "      <td>0</td>\n",
       "      <td>0</td>\n",
       "      <td>0</td>\n",
       "      <td>0</td>\n",
       "      <td>0</td>\n",
       "      <td>0</td>\n",
       "      <td>0</td>\n",
       "      <td>0</td>\n",
       "      <td>0</td>\n",
       "      <td>...</td>\n",
       "      <td>0</td>\n",
       "      <td>0</td>\n",
       "      <td>0</td>\n",
       "      <td>0</td>\n",
       "      <td>0</td>\n",
       "      <td>0</td>\n",
       "      <td>3</td>\n",
       "      <td>0</td>\n",
       "      <td>0</td>\n",
       "      <td>0</td>\n",
       "    </tr>\n",
       "    <tr>\n",
       "      <th>-00kdEIhCt-ODaV4BS-EAg</th>\n",
       "      <td>0</td>\n",
       "      <td>0</td>\n",
       "      <td>0</td>\n",
       "      <td>0</td>\n",
       "      <td>0</td>\n",
       "      <td>0</td>\n",
       "      <td>0</td>\n",
       "      <td>0</td>\n",
       "      <td>0</td>\n",
       "      <td>0</td>\n",
       "      <td>...</td>\n",
       "      <td>0</td>\n",
       "      <td>0</td>\n",
       "      <td>0</td>\n",
       "      <td>0</td>\n",
       "      <td>0</td>\n",
       "      <td>0</td>\n",
       "      <td>0</td>\n",
       "      <td>0</td>\n",
       "      <td>0</td>\n",
       "      <td>0</td>\n",
       "    </tr>\n",
       "    <tr>\n",
       "      <th>-05XqtNjcBq19vh2CVJN8g</th>\n",
       "      <td>0</td>\n",
       "      <td>0</td>\n",
       "      <td>0</td>\n",
       "      <td>0</td>\n",
       "      <td>0</td>\n",
       "      <td>0</td>\n",
       "      <td>0</td>\n",
       "      <td>0</td>\n",
       "      <td>0</td>\n",
       "      <td>0</td>\n",
       "      <td>...</td>\n",
       "      <td>0</td>\n",
       "      <td>0</td>\n",
       "      <td>0</td>\n",
       "      <td>0</td>\n",
       "      <td>0</td>\n",
       "      <td>0</td>\n",
       "      <td>0</td>\n",
       "      <td>0</td>\n",
       "      <td>0</td>\n",
       "      <td>0</td>\n",
       "    </tr>\n",
       "  </tbody>\n",
       "</table>\n",
       "<p>5 rows × 3848 columns</p>\n",
       "</div>"
      ],
      "text/plain": [
       "business_id             --9e1ONYQuAa-CB_Rrw7Tw  -1m9o3vGRA8IBPNvNqKLmA  \\\n",
       "user_id                                                                  \n",
       "--LUapetRSkZpFZ2d-MXLQ                       0                       0   \n",
       "--RlSfc-QmcHFGHyX6aVjA                       0                       0   \n",
       "--ZNfWKj1VyVElRx6-g1fg                       0                       0   \n",
       "-00kdEIhCt-ODaV4BS-EAg                       0                       0   \n",
       "-05XqtNjcBq19vh2CVJN8g                       0                       0   \n",
       "\n",
       "business_id             -3zffZUHoY8bQjGfPSoBKQ  -8R_-EkGpUhBk55K9Dd4mg  \\\n",
       "user_id                                                                  \n",
       "--LUapetRSkZpFZ2d-MXLQ                       0                       0   \n",
       "--RlSfc-QmcHFGHyX6aVjA                       0                       0   \n",
       "--ZNfWKj1VyVElRx6-g1fg                       0                       0   \n",
       "-00kdEIhCt-ODaV4BS-EAg                       0                       0   \n",
       "-05XqtNjcBq19vh2CVJN8g                       0                       0   \n",
       "\n",
       "business_id             -9YyInW1wapzdNZrhQJ9dg  -AD5PiuJHgdUcAK-Vxao2A  \\\n",
       "user_id                                                                  \n",
       "--LUapetRSkZpFZ2d-MXLQ                       0                       0   \n",
       "--RlSfc-QmcHFGHyX6aVjA                       0                       0   \n",
       "--ZNfWKj1VyVElRx6-g1fg                       0                       0   \n",
       "-00kdEIhCt-ODaV4BS-EAg                       0                       0   \n",
       "-05XqtNjcBq19vh2CVJN8g                       0                       0   \n",
       "\n",
       "business_id             -ADtl9bLp8wNqYX1k3KuxA  -Bf8BQ3yMk8U2f45r2DRKw  \\\n",
       "user_id                                                                  \n",
       "--LUapetRSkZpFZ2d-MXLQ                       0                       0   \n",
       "--RlSfc-QmcHFGHyX6aVjA                       0                       0   \n",
       "--ZNfWKj1VyVElRx6-g1fg                       0                       0   \n",
       "-00kdEIhCt-ODaV4BS-EAg                       0                       0   \n",
       "-05XqtNjcBq19vh2CVJN8g                       0                       0   \n",
       "\n",
       "business_id             -Bv-HHUs8aHzDrdWcZHn8w  -CQokjildrY7UZezXCdEBw  \\\n",
       "user_id                                                                  \n",
       "--LUapetRSkZpFZ2d-MXLQ                       0                       0   \n",
       "--RlSfc-QmcHFGHyX6aVjA                       0                       0   \n",
       "--ZNfWKj1VyVElRx6-g1fg                       0                       0   \n",
       "-00kdEIhCt-ODaV4BS-EAg                       0                       0   \n",
       "-05XqtNjcBq19vh2CVJN8g                       0                       0   \n",
       "\n",
       "business_id                      ...            zjvnqTjBp56NhMp1GrlO5g  \\\n",
       "user_id                          ...                                     \n",
       "--LUapetRSkZpFZ2d-MXLQ           ...                                 0   \n",
       "--RlSfc-QmcHFGHyX6aVjA           ...                                 0   \n",
       "--ZNfWKj1VyVElRx6-g1fg           ...                                 0   \n",
       "-00kdEIhCt-ODaV4BS-EAg           ...                                 0   \n",
       "-05XqtNjcBq19vh2CVJN8g           ...                                 0   \n",
       "\n",
       "business_id             zmltWmTpoBt5sCU-5Kzj-Q  znWHLW1pt19HzW1VY6KfCA  \\\n",
       "user_id                                                                  \n",
       "--LUapetRSkZpFZ2d-MXLQ                       0                       0   \n",
       "--RlSfc-QmcHFGHyX6aVjA                       0                       0   \n",
       "--ZNfWKj1VyVElRx6-g1fg                       0                       0   \n",
       "-00kdEIhCt-ODaV4BS-EAg                       0                       0   \n",
       "-05XqtNjcBq19vh2CVJN8g                       0                       0   \n",
       "\n",
       "business_id             zp-K5s3pGTWuuaVBWo6WZA  zpoZ6WyQUYff18-z4ZU1mA  \\\n",
       "user_id                                                                  \n",
       "--LUapetRSkZpFZ2d-MXLQ                       0                       0   \n",
       "--RlSfc-QmcHFGHyX6aVjA                       0                       0   \n",
       "--ZNfWKj1VyVElRx6-g1fg                       0                       0   \n",
       "-00kdEIhCt-ODaV4BS-EAg                       0                       0   \n",
       "-05XqtNjcBq19vh2CVJN8g                       0                       0   \n",
       "\n",
       "business_id             zr42_UsWfaIF-rcp37OpwA  zsQk990PubOHjr1YcLkQFw  \\\n",
       "user_id                                                                  \n",
       "--LUapetRSkZpFZ2d-MXLQ                       0                       0   \n",
       "--RlSfc-QmcHFGHyX6aVjA                       0                       0   \n",
       "--ZNfWKj1VyVElRx6-g1fg                       0                       3   \n",
       "-00kdEIhCt-ODaV4BS-EAg                       0                       0   \n",
       "-05XqtNjcBq19vh2CVJN8g                       0                       0   \n",
       "\n",
       "business_id             zuwba6QEBIDZT0tJZmNhdQ  zwNC-Ow4eIMan2__bS9-rg  \\\n",
       "user_id                                                                  \n",
       "--LUapetRSkZpFZ2d-MXLQ                       0                       0   \n",
       "--RlSfc-QmcHFGHyX6aVjA                       0                       0   \n",
       "--ZNfWKj1VyVElRx6-g1fg                       0                       0   \n",
       "-00kdEIhCt-ODaV4BS-EAg                       0                       0   \n",
       "-05XqtNjcBq19vh2CVJN8g                       0                       0   \n",
       "\n",
       "business_id             zx_j6OuuHHa2afVoAZuLpA  \n",
       "user_id                                         \n",
       "--LUapetRSkZpFZ2d-MXLQ                       0  \n",
       "--RlSfc-QmcHFGHyX6aVjA                       0  \n",
       "--ZNfWKj1VyVElRx6-g1fg                       0  \n",
       "-00kdEIhCt-ODaV4BS-EAg                       0  \n",
       "-05XqtNjcBq19vh2CVJN8g                       0  \n",
       "\n",
       "[5 rows x 3848 columns]"
      ]
     },
     "execution_count": 14,
     "metadata": {},
     "output_type": "execute_result"
    }
   ],
   "source": [
    "print(df_utility.shape)\n",
    "df_utility.head()"
   ]
  },
  {
   "cell_type": "markdown",
   "metadata": {},
   "source": [
    "### Build Recommender System"
   ]
  },
  {
   "cell_type": "code",
   "execution_count": 15,
   "metadata": {},
   "outputs": [
    {
     "ename": "ModuleNotFoundError",
     "evalue": "No module named 'graphlab'",
     "output_type": "error",
     "traceback": [
      "\u001b[1;31m---------------------------------------------------------------------------\u001b[0m",
      "\u001b[1;31mModuleNotFoundError\u001b[0m                       Traceback (most recent call last)",
      "\u001b[1;32m<ipython-input-15-4b66ad388e97>\u001b[0m in \u001b[0;36m<module>\u001b[1;34m()\u001b[0m\n\u001b[1;32m----> 1\u001b[1;33m \u001b[1;32mimport\u001b[0m \u001b[0mgraphlab\u001b[0m\u001b[1;33m\u001b[0m\u001b[0m\n\u001b[0m",
      "\u001b[1;31mModuleNotFoundError\u001b[0m: No module named 'graphlab'"
     ]
    }
   ],
   "source": [
    "import graphlab"
   ]
  },
  {
   "cell_type": "code",
   "execution_count": null,
   "metadata": {},
   "outputs": [],
   "source": []
  },
  {
   "cell_type": "code",
   "execution_count": null,
   "metadata": {},
   "outputs": [],
   "source": []
  }
 ],
 "metadata": {
  "kernelspec": {
   "display_name": "Python 3",
   "language": "python",
   "name": "python3"
  },
  "language_info": {
   "codemirror_mode": {
    "name": "ipython",
    "version": 3
   },
   "file_extension": ".py",
   "mimetype": "text/x-python",
   "name": "python",
   "nbconvert_exporter": "python",
   "pygments_lexer": "ipython3",
   "version": "3.6.3"
  }
 },
 "nbformat": 4,
 "nbformat_minor": 2
}
